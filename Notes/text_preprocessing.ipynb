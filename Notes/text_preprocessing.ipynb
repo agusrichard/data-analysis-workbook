{
  "nbformat": 4,
  "nbformat_minor": 0,
  "metadata": {
    "colab": {
      "name": "text_preprocessing.ipynb",
      "provenance": [],
      "collapsed_sections": []
    },
    "kernelspec": {
      "name": "python3",
      "display_name": "Python 3"
    }
  },
  "cells": [
    {
      "cell_type": "markdown",
      "metadata": {
        "id": "GRR9G_Crase-",
        "colab_type": "text"
      },
      "source": [
        "# Text Preprocessing in Python: Steps, Tools, and Examples"
      ]
    },
    {
      "cell_type": "markdown",
      "metadata": {
        "id": "xierOT24a3xt",
        "colab_type": "text"
      },
      "source": [
        "Source: https://medium.com/@datamonsters/text-preprocessing-in-python-steps-tools-and-examples-bf025f872908\n",
        "\n",
        "by Olga Davydova, Data Monsters"
      ]
    },
    {
      "cell_type": "markdown",
      "metadata": {
        "id": "sYk4knI-a64z",
        "colab_type": "text"
      },
      "source": [
        "After we have the data, we start with text normalization. Which includes:\n",
        "- Converting all letters to lower or upper case.\n",
        "- Converting numbers into words or removing numbers.\n",
        "- Removing punctuations, accent marks and other diacritics.\n",
        "- Removing white spaces.\n",
        "- Exapanding abbreviations.\n",
        "- Removing stop words, sparse terms, and particular words.\n",
        "- Text canonicalization."
      ]
    },
    {
      "cell_type": "markdown",
      "metadata": {
        "id": "LEv6sobObk-m",
        "colab_type": "text"
      },
      "source": [
        "## Convert text to lowercase"
      ]
    },
    {
      "cell_type": "code",
      "metadata": {
        "id": "gLhw81xObq5-",
        "colab_type": "code",
        "colab": {
          "base_uri": "https://localhost:8080/",
          "height": 34
        },
        "outputId": "550e0dae-59da-4fc5-b890-bd0511a54090"
      },
      "source": [
        "input_str = 'Hey Jude, dont make it bad. Take a sad song, Jude. Sekar tell me to shut up.'\n",
        "print(input_str.lower())"
      ],
      "execution_count": 1,
      "outputs": [
        {
          "output_type": "stream",
          "text": [
            "hey jude, dont make it bad. take a sad song, jude. sekar tell me to shut up.\n"
          ],
          "name": "stdout"
        }
      ]
    },
    {
      "cell_type": "markdown",
      "metadata": {
        "id": "4pPA7K8kb6bX",
        "colab_type": "text"
      },
      "source": [
        "## Removing numbers"
      ]
    },
    {
      "cell_type": "code",
      "metadata": {
        "id": "Xg9PJUzeb_f5",
        "colab_type": "code",
        "colab": {
          "base_uri": "https://localhost:8080/",
          "height": 34
        },
        "outputId": "329624bb-5ba6-4e01-e7f2-032e67e49b18"
      },
      "source": [
        "import re\n",
        "input_str = \"Box A contains 3 red balls and box B contains 4 blue balls\"\n",
        "print(re.sub(r'\\d+', '', input_str))"
      ],
      "execution_count": 2,
      "outputs": [
        {
          "output_type": "stream",
          "text": [
            "Box A contains  red balls and box B contains  blue balls\n"
          ],
          "name": "stdout"
        }
      ]
    },
    {
      "cell_type": "markdown",
      "metadata": {
        "id": "ozR9Qg9fc6lm",
        "colab_type": "text"
      },
      "source": [
        "## Removing Punctuations"
      ]
    },
    {
      "cell_type": "code",
      "metadata": {
        "id": "qHRRfsR6cSVN",
        "colab_type": "code",
        "colab": {
          "base_uri": "https://localhost:8080/",
          "height": 34
        },
        "outputId": "1e40608c-5cb1-45f3-af5a-f9f2dbda5f07"
      },
      "source": [
        "import string\n",
        "print(string.punctuation)"
      ],
      "execution_count": 10,
      "outputs": [
        {
          "output_type": "stream",
          "text": [
            "!\"#$%&'()*+,-./:;<=>?@[\\]^_`{|}~\n"
          ],
          "name": "stdout"
        }
      ]
    },
    {
      "cell_type": "code",
      "metadata": {
        "id": "XZtBoTk2c5BV",
        "colab_type": "code",
        "colab": {}
      },
      "source": [
        "input_str = \"This &is [an] example? {of} string. with.? punctuation!!!!\""
      ],
      "execution_count": 6,
      "outputs": []
    },
    {
      "cell_type": "code",
      "metadata": {
        "id": "6xiTd9JxdgpL",
        "colab_type": "code",
        "colab": {
          "base_uri": "https://localhost:8080/",
          "height": 35
        },
        "outputId": "d39ffd34-1f34-45a9-c5f6-ad46f0cf5617"
      },
      "source": [
        "input_str.translate(str.maketrans('', '', string.punctuation))"
      ],
      "execution_count": 13,
      "outputs": [
        {
          "output_type": "execute_result",
          "data": {
            "application/vnd.google.colaboratory.intrinsic": {
              "type": "string"
            },
            "text/plain": [
              "'This is an example of string with punctuation'"
            ]
          },
          "metadata": {
            "tags": []
          },
          "execution_count": 13
        }
      ]
    },
    {
      "cell_type": "markdown",
      "metadata": {
        "id": "JotgKWhtdsVm",
        "colab_type": "text"
      },
      "source": [
        "## Remove whitespaces"
      ]
    },
    {
      "cell_type": "code",
      "metadata": {
        "id": "n1gFQ96QfBni",
        "colab_type": "code",
        "colab": {
          "base_uri": "https://localhost:8080/",
          "height": 35
        },
        "outputId": "7960c070-7212-4cdc-91ba-5e4715d9f45c"
      },
      "source": [
        "input_str = \" \\t a string example\\t \"\n",
        "input_str.strip()"
      ],
      "execution_count": 14,
      "outputs": [
        {
          "output_type": "execute_result",
          "data": {
            "application/vnd.google.colaboratory.intrinsic": {
              "type": "string"
            },
            "text/plain": [
              "'a string example'"
            ]
          },
          "metadata": {
            "tags": []
          },
          "execution_count": 14
        }
      ]
    },
    {
      "cell_type": "markdown",
      "metadata": {
        "id": "HwM8_lwGfJqS",
        "colab_type": "text"
      },
      "source": [
        "## Tokenization"
      ]
    },
    {
      "cell_type": "code",
      "metadata": {
        "id": "MbTfXLeEfMTq",
        "colab_type": "code",
        "colab": {}
      },
      "source": [
        ""
      ],
      "execution_count": null,
      "outputs": []
    }
  ]
}