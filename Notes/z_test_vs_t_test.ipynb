{
  "nbformat": 4,
  "nbformat_minor": 0,
  "metadata": {
    "colab": {
      "name": "z_test_vs_t_test.ipynb",
      "provenance": []
    },
    "kernelspec": {
      "name": "python3",
      "display_name": "Python 3"
    }
  },
  "cells": [
    {
      "cell_type": "markdown",
      "metadata": {
        "id": "pN7m31iQX3Rc",
        "colab_type": "text"
      },
      "source": [
        "# Statistics for Analytics and Data Science: Hypothesis Testing and Z-Test vs. T-Test"
      ]
    },
    {
      "cell_type": "markdown",
      "metadata": {
        "id": "zSmSd67WX80i",
        "colab_type": "text"
      },
      "source": [
        "Source: https://www.analyticsvidhya.com/blog/2020/06/statistics-analytics-hypothesis-testing-z-test-t-test/\n",
        "\n",
        "SUBHASH MEENA, JUNE 18, 2020"
      ]
    },
    {
      "cell_type": "markdown",
      "metadata": {
        "id": "T2OND4feYBgZ",
        "colab_type": "text"
      },
      "source": [
        "## Fundamentals of Hypothesis Testing"
      ]
    },
    {
      "cell_type": "markdown",
      "metadata": {
        "id": "XnEahW8yYQz0",
        "colab_type": "text"
      },
      "source": [
        "Let’s take an example to understand the concept of Hypothesis Testing. A person is on trial for a criminal offense and the judge needs to provide a verdict on his case. Now, there are four possible combinations in such a case:\n",
        "\n",
        "- First Case: The person is innocent and the judge identifies the person as innocent\n",
        "- Second Case: The person is innocent and the judge identifies the person as guilty\n",
        "- Third Case: The person is guilty and the judge identifies the person as innocent\n",
        "- Fourth Case: The person is guilty and the judge identifies the person as guilty"
      ]
    },
    {
      "cell_type": "markdown",
      "metadata": {
        "id": "KX1AxxWiYU0x",
        "colab_type": "text"
      },
      "source": [
        "### Steps to Perform Hypothesis Testing"
      ]
    },
    {
      "cell_type": "markdown",
      "metadata": {
        "id": "2kBtY16Sut1Q",
        "colab_type": "text"
      },
      "source": [
        "- Set the hypothesis\n",
        "- Set the significance level\n",
        "- Compute test statistic\n",
        "- Make a decision"
      ]
    },
    {
      "cell_type": "markdown",
      "metadata": {
        "id": "W_pqUbC1u5Eq",
        "colab_type": "text"
      },
      "source": [
        "If the p-value is less than $\\alpha$, we rehect the Null Hypothesis, if otherwise, we fail to reject the null hypothesis."
      ]
    },
    {
      "cell_type": "markdown",
      "metadata": {
        "id": "S36JtQsdvJ69",
        "colab_type": "text"
      },
      "source": [
        "## What is the Z Test?"
      ]
    },
    {
      "cell_type": "markdown",
      "metadata": {
        "id": "ZKtAEfJwwesZ",
        "colab_type": "text"
      },
      "source": [
        "We use this when:\n",
        "- We know the population variance\n",
        "- We do not know the population variance, but we have n samples greater or equal to 30."
      ]
    },
    {
      "cell_type": "markdown",
      "metadata": {
        "id": "60OFdo3jxYlk",
        "colab_type": "text"
      },
      "source": [
        "## What is the T Test?"
      ]
    },
    {
      "cell_type": "markdown",
      "metadata": {
        "id": "KOo0So_Mxb-g",
        "colab_type": "text"
      },
      "source": [
        "We use this when:\n",
        "- We do not know the population variance\n",
        "- Our sample size is less than 30"
      ]
    },
    {
      "cell_type": "markdown",
      "metadata": {
        "id": "pGXdyO_ixkA7",
        "colab_type": "text"
      },
      "source": [
        "## Case Study: Hypothesis Testing for Coronavirus using Python"
      ]
    },
    {
      "cell_type": "code",
      "metadata": {
        "id": "d90BBLxhx519",
        "colab_type": "code",
        "colab": {
          "base_uri": "https://localhost:8080/",
          "height": 224
        },
        "outputId": "1377c8a4-feac-4e3f-e577-ca51220a1b13"
      },
      "source": [
        "!wget https://raw.githubusercontent.com/CSSEGISandData/COVID-19/master/csse_covid_19_data/csse_covid_19_daily_reports/06-28-2020.csv"
      ],
      "execution_count": 6,
      "outputs": [
        {
          "output_type": "stream",
          "text": [
            "--2020-06-29 15:59:27--  https://raw.githubusercontent.com/CSSEGISandData/COVID-19/master/csse_covid_19_data/csse_covid_19_daily_reports/06-28-2020.csv\n",
            "Resolving raw.githubusercontent.com (raw.githubusercontent.com)... 151.101.0.133, 151.101.64.133, 151.101.128.133, ...\n",
            "Connecting to raw.githubusercontent.com (raw.githubusercontent.com)|151.101.0.133|:443... connected.\n",
            "HTTP request sent, awaiting response... 200 OK\n",
            "Length: 510946 (499K) [text/plain]\n",
            "Saving to: ‘06-28-2020.csv’\n",
            "\n",
            "\r06-28-2020.csv        0%[                    ]       0  --.-KB/s               \r06-28-2020.csv      100%[===================>] 498.97K  --.-KB/s    in 0.09s   \n",
            "\n",
            "2020-06-29 15:59:27 (5.49 MB/s) - ‘06-28-2020.csv’ saved [510946/510946]\n",
            "\n"
          ],
          "name": "stdout"
        }
      ]
    },
    {
      "cell_type": "code",
      "metadata": {
        "id": "TyAgI0MhyqEU",
        "colab_type": "code",
        "colab": {}
      },
      "source": [
        "!mv 06-28-2020.csv corona_virus.csv"
      ],
      "execution_count": 7,
      "outputs": []
    },
    {
      "cell_type": "code",
      "metadata": {
        "id": "2XsGEhZb0RBX",
        "colab_type": "code",
        "colab": {}
      },
      "source": [
        "import pandas as pd\n",
        "import numpy as np\n",
        "corona = pd.read_csv('Corona_Updated.csv')\n",
        "corona['Temp_Cat'] = corona['Temprature'].apply(lambda x : 0 if x < 24 else 1)\n",
        "corona_t = corona[['Confirmed', 'Temp_Cat']]"
      ],
      "execution_count": null,
      "outputs": []
    },
    {
      "cell_type": "code",
      "metadata": {
        "id": "cRiqvPEh0SlU",
        "colab_type": "code",
        "colab": {}
      },
      "source": [
        "def TwoSampZ(X1, X2, sigma1, sigma2, N1, N2):\n",
        "    from numpy import sqrt, abs, round\n",
        "    from scipy.stats import norm\n",
        "    ovr_sigma = sqrt(sigma1**2/N1 + sigma2**2/N2)\n",
        "    z = (X1 - X2)/ovr_sigma\n",
        "    pval = 2*(1 - norm.cdf(abs(z)))\n",
        "    return z, pval"
      ],
      "execution_count": null,
      "outputs": []
    },
    {
      "cell_type": "code",
      "metadata": {
        "id": "My45VxQd0Up3",
        "colab_type": "code",
        "colab": {}
      },
      "source": [
        "d1 = corona_t[(corona_t['Temp_Cat']==1)]['Confirmed']\n",
        "d2 = corona_t[(corona_t['Temp_Cat']==0)]['Confirmed']\n",
        "\n",
        "m1, m2 = d1.mean(), d2.mean()\n",
        "sd1, sd2 = d1.std(), d2.std()\n",
        "n1, n2 = d1.shape[0], d2.shape[0]\n",
        "\n",
        "z, p = TwoSampZ(m1, m2, sd1, sd2, n1, n2)\n",
        "\n",
        "z_score = np.round(z,8)\n",
        "p_val = np.round(p,6)\n",
        "\n",
        "if (p_val<0.05):\n",
        "    Hypothesis_Status = 'Reject Null Hypothesis : Significant'\n",
        "else:\n",
        "    Hypothesis_Status = 'Do not reject Null Hypothesis : Not Significant'\n",
        "\n",
        "print (p_val)\n",
        "print (Hypothesis_Status)"
      ],
      "execution_count": null,
      "outputs": []
    }
  ]
}