{
  "nbformat": 4,
  "nbformat_minor": 0,
  "metadata": {
    "colab": {
      "name": "time_series_forecasting_arima.ipynb",
      "provenance": [],
      "collapsed_sections": []
    },
    "kernelspec": {
      "name": "python3",
      "display_name": "Python 3"
    }
  },
  "cells": [
    {
      "cell_type": "markdown",
      "metadata": {
        "id": "bKxbU2QW95h4",
        "colab_type": "text"
      },
      "source": [
        "# ARIMA Model – Complete Guide to Time Series Forecasting in Python"
      ]
    },
    {
      "cell_type": "markdown",
      "metadata": {
        "id": "-_DVFxl5-Ppt",
        "colab_type": "text"
      },
      "source": [
        "Source: https://www.machinelearningplus.com/time-series/arima-model-time-series-forecasting-python/\n",
        "\n",
        "by Selva Prabhakaran"
      ]
    },
    {
      "cell_type": "markdown",
      "metadata": {
        "id": "K8n5hz-G-TdH",
        "colab_type": "text"
      },
      "source": [
        "## 1. Introduction to Time Series Forecasting"
      ]
    },
    {
      "cell_type": "markdown",
      "metadata": {
        "id": "Nwo95biR_ZYB",
        "colab_type": "text"
      },
      "source": [
        "A time series is a sequence where a metric is recorded over regular time intervals"
      ]
    },
    {
      "cell_type": "markdown",
      "metadata": {
        "id": "WjabFYWP_qGm",
        "colab_type": "text"
      },
      "source": [
        "Now forecasting a time series can be broadly divided into two types."
      ]
    },
    {
      "cell_type": "markdown",
      "metadata": {
        "id": "SOFenZmx_4jk",
        "colab_type": "text"
      },
      "source": [
        "If you use only the previous values of the time series to predict its future values, it is called Univariate Time Series Forecasting."
      ]
    },
    {
      "cell_type": "markdown",
      "metadata": {
        "id": "En7hl35c__bk",
        "colab_type": "text"
      },
      "source": [
        "And if you use predictors other than the series (a.k.a exogenous variables) to forecast it is called Multi Variate Time Series Forecasting."
      ]
    },
    {
      "cell_type": "markdown",
      "metadata": {
        "id": "CLekEwDWAApx",
        "colab_type": "text"
      },
      "source": [
        "ARIMA, short for ‘AutoRegressive Integrated Moving Average’, is a forecasting algorithm based on the idea that the information in the past values of the time series can alone be used to predict the future values."
      ]
    },
    {
      "cell_type": "markdown",
      "metadata": {
        "id": "lv6B1S_nAJk9",
        "colab_type": "text"
      },
      "source": [
        "## 2. Introduction to ARIMA Models"
      ]
    },
    {
      "cell_type": "markdown",
      "metadata": {
        "id": "uLcIVKGAAMZ6",
        "colab_type": "text"
      },
      "source": [
        "ARIMA, short for ‘Auto Regressive Integrated Moving Average’ is actually a class of models that ‘explains’ a given time series based on its own past values, that is, its own lags and the lagged forecast errors, so that equation can be used to forecast future values."
      ]
    },
    {
      "cell_type": "markdown",
      "metadata": {
        "id": "dAmx3toCAUSz",
        "colab_type": "text"
      },
      "source": [
        "Any ‘non-seasonal’ time series that exhibits patterns and is not a random white noise can be modeled with ARIMA models."
      ]
    },
    {
      "cell_type": "markdown",
      "metadata": {
        "id": "1bI6pD-PAbVH",
        "colab_type": "text"
      },
      "source": [
        "An ARIMA model is characterized by 3 terms: p, d, q"
      ]
    },
    {
      "cell_type": "markdown",
      "metadata": {
        "id": "rRW-OpBNAesg",
        "colab_type": "text"
      },
      "source": [
        "where,\n",
        "\n",
        "p is the order of the AR term\n",
        "\n",
        "q is the order of the MA term\n",
        "\n",
        "d is the number of differencing required to make the time series stationary\n",
        "\n",
        "If a time series, has seasonal patterns, then you need to add seasonal terms and it becomes SARIMA, short for ‘Seasonal ARIMA’. More on that once we finish ARIMA.\n",
        "\n",
        "So, what does the ‘order of AR term’ even mean? Before we go there, let’s first look at the ‘d’ term."
      ]
    },
    {
      "cell_type": "markdown",
      "metadata": {
        "id": "utUBRctfAykp",
        "colab_type": "text"
      },
      "source": [
        "The first step to build an ARIMA model is to make the time series stationary.\n",
        "\n",
        "Why?\n",
        "\n",
        "Because, term ‘Auto Regressive’ in ARIMA means it is a linear regression model that uses its own lags as predictors. Linear regression models, as you know, work best when the predictors are not correlated and are independent of each other.\n",
        "\n",
        "So how to make a series stationary?\n",
        "\n",
        "The most common approach is to difference it. That is, subtract the previous value from the current value. Sometimes, depending on the complexity of the series, more than one differencing may be needed.\n",
        "\n",
        "The value of d, therefore, is the minimum number of differencing needed to make the series stationary. And if the time series is already stationary, then d = 0."
      ]
    },
    {
      "cell_type": "markdown",
      "metadata": {
        "id": "mdQWKFNTBfQm",
        "colab_type": "text"
      },
      "source": [
        "Next, what are the ‘p’ and ‘q’ terms?\n",
        "\n",
        "‘p’ is the order of the ‘Auto Regressive’ (AR) term. It refers to the number of lags of Y to be used as predictors. And ‘q’ is the order of the ‘Moving Average’ (MA) term. It refers to the number of lagged forecast errors that should go into the ARIMA Model."
      ]
    },
    {
      "cell_type": "markdown",
      "metadata": {
        "id": "kYSTXjcyBnQR",
        "colab_type": "text"
      },
      "source": [
        "## 4. What are AR and MA models"
      ]
    },
    {
      "cell_type": "code",
      "metadata": {
        "id": "CJwTjUYkB5Vd",
        "colab_type": "code",
        "colab": {}
      },
      "source": [
        ""
      ],
      "execution_count": null,
      "outputs": []
    }
  ]
}