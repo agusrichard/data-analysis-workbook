{
  "nbformat": 4,
  "nbformat_minor": 0,
  "metadata": {
    "colab": {
      "name": "text_extraction_preprocessing.ipynb",
      "provenance": [],
      "collapsed_sections": []
    },
    "kernelspec": {
      "name": "python3",
      "display_name": "Python 3"
    }
  },
  "cells": [
    {
      "cell_type": "markdown",
      "metadata": {
        "id": "r6Rad3nRvM4p",
        "colab_type": "text"
      },
      "source": [
        "# Ultimate guide to deal with Text Data (using Python) – for Data Scientists and Engineers"
      ]
    },
    {
      "cell_type": "markdown",
      "metadata": {
        "id": "-o9F0AEG1UKe",
        "colab_type": "text"
      },
      "source": [
        "Source: https://www.analyticsvidhya.com/blog/2018/02/the-different-methods-deal-text-data-predictive-python/\n",
        "\n",
        "SHUBHAM JAIN, FEBRUARY 27, 2018"
      ]
    },
    {
      "cell_type": "markdown",
      "metadata": {
        "id": "oshp9M7w2TlJ",
        "colab_type": "text"
      },
      "source": [
        "__Import Libraries__"
      ]
    },
    {
      "cell_type": "code",
      "metadata": {
        "id": "zbex0Djm2VSH",
        "colab_type": "code",
        "colab": {}
      },
      "source": [
        "import nltk\n",
        "import numpy as np\n",
        "import pandas as pd\n",
        "import matplotlib.pyplot as plt\n",
        "plt.style.use('ggplot')"
      ],
      "execution_count": 1,
      "outputs": []
    },
    {
      "cell_type": "code",
      "metadata": {
        "id": "enksghdi7bmZ",
        "colab_type": "code",
        "colab": {
          "base_uri": "https://localhost:8080/",
          "height": 136
        },
        "outputId": "a96e64b2-3dad-44f8-b6cf-7d0fbd126fd1"
      },
      "source": [
        "nltk.download('stopwords')\n",
        "nltk.download('punkt')\n",
        "nltk.download('wordnet')"
      ],
      "execution_count": 42,
      "outputs": [
        {
          "output_type": "stream",
          "text": [
            "[nltk_data] Downloading package stopwords to /root/nltk_data...\n",
            "[nltk_data]   Package stopwords is already up-to-date!\n",
            "[nltk_data] Downloading package punkt to /root/nltk_data...\n",
            "[nltk_data]   Package punkt is already up-to-date!\n",
            "[nltk_data] Downloading package wordnet to /root/nltk_data...\n",
            "[nltk_data]   Unzipping corpora/wordnet.zip.\n"
          ],
          "name": "stdout"
        },
        {
          "output_type": "execute_result",
          "data": {
            "text/plain": [
              "True"
            ]
          },
          "metadata": {
            "tags": []
          },
          "execution_count": 42
        }
      ]
    },
    {
      "cell_type": "code",
      "metadata": {
        "id": "r07CerE410mo",
        "colab_type": "code",
        "colab": {
          "base_uri": "https://localhost:8080/",
          "height": 204
        },
        "outputId": "010c8860-1803-4c80-fca7-8865d412a59f"
      },
      "source": [
        "data = pd.read_csv('text_practice.csv')\n",
        "data.head()"
      ],
      "execution_count": 3,
      "outputs": [
        {
          "output_type": "execute_result",
          "data": {
            "text/html": [
              "<div>\n",
              "<style scoped>\n",
              "    .dataframe tbody tr th:only-of-type {\n",
              "        vertical-align: middle;\n",
              "    }\n",
              "\n",
              "    .dataframe tbody tr th {\n",
              "        vertical-align: top;\n",
              "    }\n",
              "\n",
              "    .dataframe thead th {\n",
              "        text-align: right;\n",
              "    }\n",
              "</style>\n",
              "<table border=\"1\" class=\"dataframe\">\n",
              "  <thead>\n",
              "    <tr style=\"text-align: right;\">\n",
              "      <th></th>\n",
              "      <th>id</th>\n",
              "      <th>label</th>\n",
              "      <th>tweet</th>\n",
              "    </tr>\n",
              "  </thead>\n",
              "  <tbody>\n",
              "    <tr>\n",
              "      <th>0</th>\n",
              "      <td>1</td>\n",
              "      <td>0</td>\n",
              "      <td>@user when a father is dysfunctional and is s...</td>\n",
              "    </tr>\n",
              "    <tr>\n",
              "      <th>1</th>\n",
              "      <td>2</td>\n",
              "      <td>0</td>\n",
              "      <td>@user @user thanks for #lyft credit i can't us...</td>\n",
              "    </tr>\n",
              "    <tr>\n",
              "      <th>2</th>\n",
              "      <td>3</td>\n",
              "      <td>0</td>\n",
              "      <td>bihday your majesty</td>\n",
              "    </tr>\n",
              "    <tr>\n",
              "      <th>3</th>\n",
              "      <td>4</td>\n",
              "      <td>0</td>\n",
              "      <td>#model   i love u take with u all the time in ...</td>\n",
              "    </tr>\n",
              "    <tr>\n",
              "      <th>4</th>\n",
              "      <td>5</td>\n",
              "      <td>0</td>\n",
              "      <td>factsguide: society now    #motivation</td>\n",
              "    </tr>\n",
              "  </tbody>\n",
              "</table>\n",
              "</div>"
            ],
            "text/plain": [
              "   id  label                                              tweet\n",
              "0   1      0   @user when a father is dysfunctional and is s...\n",
              "1   2      0  @user @user thanks for #lyft credit i can't us...\n",
              "2   3      0                                bihday your majesty\n",
              "3   4      0  #model   i love u take with u all the time in ...\n",
              "4   5      0             factsguide: society now    #motivation"
            ]
          },
          "metadata": {
            "tags": []
          },
          "execution_count": 3
        }
      ]
    },
    {
      "cell_type": "markdown",
      "metadata": {
        "id": "t4NueRPz1ZWo",
        "colab_type": "text"
      },
      "source": [
        "## 1. Basic Feature Extraction"
      ]
    },
    {
      "cell_type": "markdown",
      "metadata": {
        "id": "rBqw6X0E1gJF",
        "colab_type": "text"
      },
      "source": [
        "### 1.1 Number of Words"
      ]
    },
    {
      "cell_type": "markdown",
      "metadata": {
        "id": "1hR9vhph3oK9",
        "colab_type": "text"
      },
      "source": [
        "One of the most basic features we can extract is the number of words in each tweet. The basic intuition behind this is that generally, the negative sentiments contain a lesser amount of words than the positive ones."
      ]
    },
    {
      "cell_type": "code",
      "metadata": {
        "id": "WY8uRJMd2yLg",
        "colab_type": "code",
        "colab": {
          "base_uri": "https://localhost:8080/",
          "height": 204
        },
        "outputId": "f1b25281-6ad7-4661-c404-ef1cfc5a123a"
      },
      "source": [
        "data['word_count'] = data['tweet'].apply(lambda x: len(x.split(' ')))\n",
        "data[['tweet', 'word_count']].head()"
      ],
      "execution_count": 4,
      "outputs": [
        {
          "output_type": "execute_result",
          "data": {
            "text/html": [
              "<div>\n",
              "<style scoped>\n",
              "    .dataframe tbody tr th:only-of-type {\n",
              "        vertical-align: middle;\n",
              "    }\n",
              "\n",
              "    .dataframe tbody tr th {\n",
              "        vertical-align: top;\n",
              "    }\n",
              "\n",
              "    .dataframe thead th {\n",
              "        text-align: right;\n",
              "    }\n",
              "</style>\n",
              "<table border=\"1\" class=\"dataframe\">\n",
              "  <thead>\n",
              "    <tr style=\"text-align: right;\">\n",
              "      <th></th>\n",
              "      <th>tweet</th>\n",
              "      <th>word_count</th>\n",
              "    </tr>\n",
              "  </thead>\n",
              "  <tbody>\n",
              "    <tr>\n",
              "      <th>0</th>\n",
              "      <td>@user when a father is dysfunctional and is s...</td>\n",
              "      <td>21</td>\n",
              "    </tr>\n",
              "    <tr>\n",
              "      <th>1</th>\n",
              "      <td>@user @user thanks for #lyft credit i can't us...</td>\n",
              "      <td>22</td>\n",
              "    </tr>\n",
              "    <tr>\n",
              "      <th>2</th>\n",
              "      <td>bihday your majesty</td>\n",
              "      <td>5</td>\n",
              "    </tr>\n",
              "    <tr>\n",
              "      <th>3</th>\n",
              "      <td>#model   i love u take with u all the time in ...</td>\n",
              "      <td>17</td>\n",
              "    </tr>\n",
              "    <tr>\n",
              "      <th>4</th>\n",
              "      <td>factsguide: society now    #motivation</td>\n",
              "      <td>8</td>\n",
              "    </tr>\n",
              "  </tbody>\n",
              "</table>\n",
              "</div>"
            ],
            "text/plain": [
              "                                               tweet  word_count\n",
              "0   @user when a father is dysfunctional and is s...          21\n",
              "1  @user @user thanks for #lyft credit i can't us...          22\n",
              "2                                bihday your majesty           5\n",
              "3  #model   i love u take with u all the time in ...          17\n",
              "4             factsguide: society now    #motivation           8"
            ]
          },
          "metadata": {
            "tags": []
          },
          "execution_count": 4
        }
      ]
    },
    {
      "cell_type": "code",
      "metadata": {
        "id": "rAjxxzQK3FSf",
        "colab_type": "code",
        "colab": {
          "base_uri": "https://localhost:8080/",
          "height": 265
        },
        "outputId": "c061a763-3554-4d16-9a50-57df2c0ba3e7"
      },
      "source": [
        "data['word_count'].hist(bins=int(np.sqrt(len(data) / 20)));"
      ],
      "execution_count": 5,
      "outputs": [
        {
          "output_type": "display_data",
          "data": {
            "image/png": "[encoded data removed]",
            "text/plain": [
              "<Figure size 432x288 with 1 Axes>"
            ]
          },
          "metadata": {
            "tags": [],
            "needs_background": "light"
          }
        }
      ]
    },
    {
      "cell_type": "markdown",
      "metadata": {
        "id": "e5R4NDXQ3Qhy",
        "colab_type": "text"
      },
      "source": [
        "### 1.2 Number of Characters"
      ]
    },
    {
      "cell_type": "markdown",
      "metadata": {
        "id": "BX41tMS_3tdo",
        "colab_type": "text"
      },
      "source": [
        "Based on the same feature intuition as above."
      ]
    },
    {
      "cell_type": "code",
      "metadata": {
        "id": "A55_T_v33ybd",
        "colab_type": "code",
        "colab": {
          "base_uri": "https://localhost:8080/",
          "height": 204
        },
        "outputId": "d9a36b0f-df63-45ff-b314-c0f291813058"
      },
      "source": [
        "data['char_count'] = data['tweet'].str.len()\n",
        "data[['tweet', 'char_count']].head()"
      ],
      "execution_count": 6,
      "outputs": [
        {
          "output_type": "execute_result",
          "data": {
            "text/html": [
              "<div>\n",
              "<style scoped>\n",
              "    .dataframe tbody tr th:only-of-type {\n",
              "        vertical-align: middle;\n",
              "    }\n",
              "\n",
              "    .dataframe tbody tr th {\n",
              "        vertical-align: top;\n",
              "    }\n",
              "\n",
              "    .dataframe thead th {\n",
              "        text-align: right;\n",
              "    }\n",
              "</style>\n",
              "<table border=\"1\" class=\"dataframe\">\n",
              "  <thead>\n",
              "    <tr style=\"text-align: right;\">\n",
              "      <th></th>\n",
              "      <th>tweet</th>\n",
              "      <th>char_count</th>\n",
              "    </tr>\n",
              "  </thead>\n",
              "  <tbody>\n",
              "    <tr>\n",
              "      <th>0</th>\n",
              "      <td>@user when a father is dysfunctional and is s...</td>\n",
              "      <td>102</td>\n",
              "    </tr>\n",
              "    <tr>\n",
              "      <th>1</th>\n",
              "      <td>@user @user thanks for #lyft credit i can't us...</td>\n",
              "      <td>122</td>\n",
              "    </tr>\n",
              "    <tr>\n",
              "      <th>2</th>\n",
              "      <td>bihday your majesty</td>\n",
              "      <td>21</td>\n",
              "    </tr>\n",
              "    <tr>\n",
              "      <th>3</th>\n",
              "      <td>#model   i love u take with u all the time in ...</td>\n",
              "      <td>86</td>\n",
              "    </tr>\n",
              "    <tr>\n",
              "      <th>4</th>\n",
              "      <td>factsguide: society now    #motivation</td>\n",
              "      <td>39</td>\n",
              "    </tr>\n",
              "  </tbody>\n",
              "</table>\n",
              "</div>"
            ],
            "text/plain": [
              "                                               tweet  char_count\n",
              "0   @user when a father is dysfunctional and is s...         102\n",
              "1  @user @user thanks for #lyft credit i can't us...         122\n",
              "2                                bihday your majesty          21\n",
              "3  #model   i love u take with u all the time in ...          86\n",
              "4             factsguide: society now    #motivation          39"
            ]
          },
          "metadata": {
            "tags": []
          },
          "execution_count": 6
        }
      ]
    },
    {
      "cell_type": "code",
      "metadata": {
        "id": "Z6FgM5nv350Q",
        "colab_type": "code",
        "colab": {
          "base_uri": "https://localhost:8080/",
          "height": 265
        },
        "outputId": "8cff7a88-3462-4e3a-dcca-11f68ddfd5f8"
      },
      "source": [
        "data['char_count'].hist(bins=int(np.sqrt(len(data) / 10)));"
      ],
      "execution_count": 7,
      "outputs": [
        {
          "output_type": "display_data",
          "data": {
            "image/png": "[encoded data removed]",
            "text/plain": [
              "<Figure size 432x288 with 1 Axes>"
            ]
          },
          "metadata": {
            "tags": [],
            "needs_background": "light"
          }
        }
      ]
    },
    {
      "cell_type": "markdown",
      "metadata": {
        "id": "AQzz1XOr4CIZ",
        "colab_type": "text"
      },
      "source": [
        "### 1.3 Average Word Length"
      ]
    },
    {
      "cell_type": "code",
      "metadata": {
        "id": "5dMyD91x4vrP",
        "colab_type": "code",
        "colab": {
          "base_uri": "https://localhost:8080/",
          "height": 204
        },
        "outputId": "f9a75653-497c-4a0e-f125-0ac6777b7840"
      },
      "source": [
        "def avg_word(sentence):\n",
        "    words = sentence.split()\n",
        "    return sum(len(word) for word in words) / len(words)\n",
        "\n",
        "data['avg_word'] = data['tweet'].apply(avg_word)\n",
        "data[['tweet', 'avg_word']].head()"
      ],
      "execution_count": 8,
      "outputs": [
        {
          "output_type": "execute_result",
          "data": {
            "text/html": [
              "<div>\n",
              "<style scoped>\n",
              "    .dataframe tbody tr th:only-of-type {\n",
              "        vertical-align: middle;\n",
              "    }\n",
              "\n",
              "    .dataframe tbody tr th {\n",
              "        vertical-align: top;\n",
              "    }\n",
              "\n",
              "    .dataframe thead th {\n",
              "        text-align: right;\n",
              "    }\n",
              "</style>\n",
              "<table border=\"1\" class=\"dataframe\">\n",
              "  <thead>\n",
              "    <tr style=\"text-align: right;\">\n",
              "      <th></th>\n",
              "      <th>tweet</th>\n",
              "      <th>avg_word</th>\n",
              "    </tr>\n",
              "  </thead>\n",
              "  <tbody>\n",
              "    <tr>\n",
              "      <th>0</th>\n",
              "      <td>@user when a father is dysfunctional and is s...</td>\n",
              "      <td>4.555556</td>\n",
              "    </tr>\n",
              "    <tr>\n",
              "      <th>1</th>\n",
              "      <td>@user @user thanks for #lyft credit i can't us...</td>\n",
              "      <td>5.315789</td>\n",
              "    </tr>\n",
              "    <tr>\n",
              "      <th>2</th>\n",
              "      <td>bihday your majesty</td>\n",
              "      <td>5.666667</td>\n",
              "    </tr>\n",
              "    <tr>\n",
              "      <th>3</th>\n",
              "      <td>#model   i love u take with u all the time in ...</td>\n",
              "      <td>4.928571</td>\n",
              "    </tr>\n",
              "    <tr>\n",
              "      <th>4</th>\n",
              "      <td>factsguide: society now    #motivation</td>\n",
              "      <td>8.000000</td>\n",
              "    </tr>\n",
              "  </tbody>\n",
              "</table>\n",
              "</div>"
            ],
            "text/plain": [
              "                                               tweet  avg_word\n",
              "0   @user when a father is dysfunctional and is s...  4.555556\n",
              "1  @user @user thanks for #lyft credit i can't us...  5.315789\n",
              "2                                bihday your majesty  5.666667\n",
              "3  #model   i love u take with u all the time in ...  4.928571\n",
              "4             factsguide: society now    #motivation  8.000000"
            ]
          },
          "metadata": {
            "tags": []
          },
          "execution_count": 8
        }
      ]
    },
    {
      "cell_type": "code",
      "metadata": {
        "id": "77MHRo-Q56En",
        "colab_type": "code",
        "colab": {
          "base_uri": "https://localhost:8080/",
          "height": 265
        },
        "outputId": "f7f89f7e-7cd5-4e6d-9cce-78f900c2cb65"
      },
      "source": [
        "data['avg_word'].hist(bins=int(np.sqrt(len(data))));"
      ],
      "execution_count": 9,
      "outputs": [
        {
          "output_type": "display_data",
          "data": {
            "image/png": "[encoded data removed]",
            "text/plain": [
              "<Figure size 432x288 with 1 Axes>"
            ]
          },
          "metadata": {
            "tags": [],
            "needs_background": "light"
          }
        }
      ]
    },
    {
      "cell_type": "code",
      "metadata": {
        "id": "0zP8P_eC6mf6",
        "colab_type": "code",
        "colab": {
          "base_uri": "https://localhost:8080/",
          "height": 170
        },
        "outputId": "aa66f729-899f-466f-e3c8-eea67d64688b"
      },
      "source": [
        "data['avg_word'].describe()"
      ],
      "execution_count": 10,
      "outputs": [
        {
          "output_type": "execute_result",
          "data": {
            "text/plain": [
              "count    31962.000000\n",
              "mean         5.593463\n",
              "std          1.945719\n",
              "min          1.000000\n",
              "25%          4.529412\n",
              "50%          5.200000\n",
              "75%          6.200000\n",
              "max         81.333333\n",
              "Name: avg_word, dtype: float64"
            ]
          },
          "metadata": {
            "tags": []
          },
          "execution_count": 10
        }
      ]
    },
    {
      "cell_type": "code",
      "metadata": {
        "id": "sHrDbcfR6rap",
        "colab_type": "code",
        "colab": {}
      },
      "source": [
        "longest_tweet = data.iloc[np.argmax(data['avg_word'])]"
      ],
      "execution_count": 11,
      "outputs": []
    },
    {
      "cell_type": "code",
      "metadata": {
        "id": "tvvxrdWu6_Bv",
        "colab_type": "code",
        "colab": {
          "base_uri": "https://localhost:8080/",
          "height": 103
        },
        "outputId": "1dd2d04a-4d04-4f96-f933-b3cd91a2165a"
      },
      "source": [
        "longest_tweet.tweet"
      ],
      "execution_count": 12,
      "outputs": [
        {
          "output_type": "execute_result",
          "data": {
            "application/vnd.google.colaboratory.intrinsic": {
              "type": "string"
            },
            "text/plain": [
              "'awesom beautiful wonderfulð\\x9f\\x98\\x8dð\\x9f\\x98\\x8dð\\x9f\\x98\\x8dð\\x9f\\x98\\x8dð\\x9f\\x98\\x8dð\\x9f\\x98\\x8dð\\x9f\\x98\\x8dð\\x9f\\x98\\x8dð\\x9f\\x98\\x8dð\\x9f\\x98\\x8dð\\x9f\\x98\\x8dð\\x9f\\x98\\x8dð\\x9f\\x98±ð\\x9f\\x98±ð\\x9f\\x98±ð\\x9f\\x98±ð\\x9f\\x98±ð\\x9f\\x98±ð\\x9f\\x98\\x98ð\\x9f\\x98\\x98ð\\x9f\\x98\\x98ð\\x9f\\x98\\x98ð\\x9f\\x98\\x98ð\\x9f\\x98\\x98ð\\x9f\\x98\\x98ð\\x9f\\x98\\x98ð\\x9f\\x98\\x98ð\\x9f\\x98\\x98ð\\x9f\\x98\\x98ð\\x9f\\x98\\x98ð\\x9f\\x98\\x98ð\\x9f\\x98\\x9að\\x9f\\x98\\x9að\\x9f\\x98\\x9að\\x9f\\x98\\x9að\\x9f\\x98\\x9að\\x9f\\x98\\x9að\\x9f\\x98\\x9að\\x9f\\x98\\x9að\\x9f\\x98\\x9að\\x9f\\x98\\x8eð\\x9f\\x98\\x8eð\\x9f\\x98\\x8eð\\x9f\\x98\\x8eð\\x9f\\x99\\x8bð\\x9f\\x99\\x8bð\\x9f\\x99\\x8bð\\x9f\\x99\\x8fð\\x9f\\x99\\x8fð\\x9f\\x99\\x8fð\\x9f\\x99\\x8fð\\x9f\\x98»ð\\x9f\\x98»ð\\x9f\\x98»ð\\x9f\\x98» '"
            ]
          },
          "metadata": {
            "tags": []
          },
          "execution_count": 12
        }
      ]
    },
    {
      "cell_type": "markdown",
      "metadata": {
        "id": "aEDahbsv7Us9",
        "colab_type": "text"
      },
      "source": [
        "### !.4 Number of Stopwords"
      ]
    },
    {
      "cell_type": "markdown",
      "metadata": {
        "id": "SaO0HWrf7WQg",
        "colab_type": "text"
      },
      "source": [
        "Generally, while solving an NLP problem, the first thing we do is to remove the stopwords. But sometimes calculating the number of stopwords can also give us some extra information which we might have been losing before."
      ]
    },
    {
      "cell_type": "code",
      "metadata": {
        "id": "yrcAvAJw7XJm",
        "colab_type": "code",
        "colab": {
          "base_uri": "https://localhost:8080/",
          "height": 204
        },
        "outputId": "8e071006-306d-4188-dade-e8ded3e55bad"
      },
      "source": [
        "from nltk.corpus import stopwords\n",
        "stop = stopwords.words('english')\n",
        "\n",
        "data['stopwords_count'] = data['tweet'].apply(lambda sentence: len([word for word in sentence.split() if word in stop]))\n",
        "data[['tweet', 'stopwords_count']].head()"
      ],
      "execution_count": 13,
      "outputs": [
        {
          "output_type": "execute_result",
          "data": {
            "text/html": [
              "<div>\n",
              "<style scoped>\n",
              "    .dataframe tbody tr th:only-of-type {\n",
              "        vertical-align: middle;\n",
              "    }\n",
              "\n",
              "    .dataframe tbody tr th {\n",
              "        vertical-align: top;\n",
              "    }\n",
              "\n",
              "    .dataframe thead th {\n",
              "        text-align: right;\n",
              "    }\n",
              "</style>\n",
              "<table border=\"1\" class=\"dataframe\">\n",
              "  <thead>\n",
              "    <tr style=\"text-align: right;\">\n",
              "      <th></th>\n",
              "      <th>tweet</th>\n",
              "      <th>stopwords_count</th>\n",
              "    </tr>\n",
              "  </thead>\n",
              "  <tbody>\n",
              "    <tr>\n",
              "      <th>0</th>\n",
              "      <td>@user when a father is dysfunctional and is s...</td>\n",
              "      <td>10</td>\n",
              "    </tr>\n",
              "    <tr>\n",
              "      <th>1</th>\n",
              "      <td>@user @user thanks for #lyft credit i can't us...</td>\n",
              "      <td>5</td>\n",
              "    </tr>\n",
              "    <tr>\n",
              "      <th>2</th>\n",
              "      <td>bihday your majesty</td>\n",
              "      <td>1</td>\n",
              "    </tr>\n",
              "    <tr>\n",
              "      <th>3</th>\n",
              "      <td>#model   i love u take with u all the time in ...</td>\n",
              "      <td>5</td>\n",
              "    </tr>\n",
              "    <tr>\n",
              "      <th>4</th>\n",
              "      <td>factsguide: society now    #motivation</td>\n",
              "      <td>1</td>\n",
              "    </tr>\n",
              "  </tbody>\n",
              "</table>\n",
              "</div>"
            ],
            "text/plain": [
              "                                               tweet  stopwords_count\n",
              "0   @user when a father is dysfunctional and is s...               10\n",
              "1  @user @user thanks for #lyft credit i can't us...                5\n",
              "2                                bihday your majesty                1\n",
              "3  #model   i love u take with u all the time in ...                5\n",
              "4             factsguide: society now    #motivation                1"
            ]
          },
          "metadata": {
            "tags": []
          },
          "execution_count": 13
        }
      ]
    },
    {
      "cell_type": "code",
      "metadata": {
        "id": "Uc02EMdB78y3",
        "colab_type": "code",
        "colab": {
          "base_uri": "https://localhost:8080/",
          "height": 265
        },
        "outputId": "fc59fe4e-b7c4-4cc0-da1a-55a9a486b76e"
      },
      "source": [
        "data['stopwords_count'].hist();"
      ],
      "execution_count": 14,
      "outputs": [
        {
          "output_type": "display_data",
          "data": {
            "image/png": "[encoded data removed]",
            "text/plain": [
              "<Figure size 432x288 with 1 Axes>"
            ]
          },
          "metadata": {
            "tags": [],
            "needs_background": "light"
          }
        }
      ]
    },
    {
      "cell_type": "markdown",
      "metadata": {
        "id": "f9veQQn98Qnl",
        "colab_type": "text"
      },
      "source": [
        "### 1.5 Number of Special Characters"
      ]
    },
    {
      "cell_type": "markdown",
      "metadata": {
        "id": "D4WOR-e38UxQ",
        "colab_type": "text"
      },
      "source": [
        "One more interesting feature which we can extract from a tweet is calculating the number of hashtags or mentions present in it. This also helps in extracting extra information from our text data."
      ]
    },
    {
      "cell_type": "code",
      "metadata": {
        "id": "gCQkzIQZ8aEl",
        "colab_type": "code",
        "colab": {
          "base_uri": "https://localhost:8080/",
          "height": 204
        },
        "outputId": "2097d9f0-4047-4a90-a4d9-fd474fcdafd0"
      },
      "source": [
        "def count_hastags_mentions(sentence):\n",
        "    words = [word for word in sentence.split() if word.startswith('@') or word.startswith('#')]\n",
        "    return len(words)\n",
        "\n",
        "data['hashtags_mentions_count'] = data['tweet'].apply(count_hastags_mentions)\n",
        "data[['tweet', 'hashtags_mentions_count']].head()"
      ],
      "execution_count": 15,
      "outputs": [
        {
          "output_type": "execute_result",
          "data": {
            "text/html": [
              "<div>\n",
              "<style scoped>\n",
              "    .dataframe tbody tr th:only-of-type {\n",
              "        vertical-align: middle;\n",
              "    }\n",
              "\n",
              "    .dataframe tbody tr th {\n",
              "        vertical-align: top;\n",
              "    }\n",
              "\n",
              "    .dataframe thead th {\n",
              "        text-align: right;\n",
              "    }\n",
              "</style>\n",
              "<table border=\"1\" class=\"dataframe\">\n",
              "  <thead>\n",
              "    <tr style=\"text-align: right;\">\n",
              "      <th></th>\n",
              "      <th>tweet</th>\n",
              "      <th>hashtags_mentions_count</th>\n",
              "    </tr>\n",
              "  </thead>\n",
              "  <tbody>\n",
              "    <tr>\n",
              "      <th>0</th>\n",
              "      <td>@user when a father is dysfunctional and is s...</td>\n",
              "      <td>2</td>\n",
              "    </tr>\n",
              "    <tr>\n",
              "      <th>1</th>\n",
              "      <td>@user @user thanks for #lyft credit i can't us...</td>\n",
              "      <td>5</td>\n",
              "    </tr>\n",
              "    <tr>\n",
              "      <th>2</th>\n",
              "      <td>bihday your majesty</td>\n",
              "      <td>0</td>\n",
              "    </tr>\n",
              "    <tr>\n",
              "      <th>3</th>\n",
              "      <td>#model   i love u take with u all the time in ...</td>\n",
              "      <td>1</td>\n",
              "    </tr>\n",
              "    <tr>\n",
              "      <th>4</th>\n",
              "      <td>factsguide: society now    #motivation</td>\n",
              "      <td>1</td>\n",
              "    </tr>\n",
              "  </tbody>\n",
              "</table>\n",
              "</div>"
            ],
            "text/plain": [
              "                                               tweet  hashtags_mentions_count\n",
              "0   @user when a father is dysfunctional and is s...                        2\n",
              "1  @user @user thanks for #lyft credit i can't us...                        5\n",
              "2                                bihday your majesty                        0\n",
              "3  #model   i love u take with u all the time in ...                        1\n",
              "4             factsguide: society now    #motivation                        1"
            ]
          },
          "metadata": {
            "tags": []
          },
          "execution_count": 15
        }
      ]
    },
    {
      "cell_type": "code",
      "metadata": {
        "id": "1_7ui9Sq9cYu",
        "colab_type": "code",
        "colab": {
          "base_uri": "https://localhost:8080/",
          "height": 265
        },
        "outputId": "98c24cd7-8146-41b6-c0ca-036f6f546e73"
      },
      "source": [
        "data['hashtags_mentions_count'].hist();"
      ],
      "execution_count": 16,
      "outputs": [
        {
          "output_type": "display_data",
          "data": {
            "image/png": "[encoded data removed]",
            "text/plain": [
              "<Figure size 432x288 with 1 Axes>"
            ]
          },
          "metadata": {
            "tags": [],
            "needs_background": "light"
          }
        }
      ]
    },
    {
      "cell_type": "markdown",
      "metadata": {
        "id": "PSwc2oIx9mqh",
        "colab_type": "text"
      },
      "source": [
        "### 1.6 Number of Numerics"
      ]
    },
    {
      "cell_type": "code",
      "metadata": {
        "id": "dmiZngx29zuK",
        "colab_type": "code",
        "colab": {
          "base_uri": "https://localhost:8080/",
          "height": 204
        },
        "outputId": "4abeb9e2-3472-48a8-be86-5101907a79b4"
      },
      "source": [
        "data['numerics_count'] = data['tweet'].apply(lambda sentence: len([word for word in sentence.split() if word.isdigit()]))\n",
        "data[['tweet', 'numerics_count']].head()"
      ],
      "execution_count": 17,
      "outputs": [
        {
          "output_type": "execute_result",
          "data": {
            "text/html": [
              "<div>\n",
              "<style scoped>\n",
              "    .dataframe tbody tr th:only-of-type {\n",
              "        vertical-align: middle;\n",
              "    }\n",
              "\n",
              "    .dataframe tbody tr th {\n",
              "        vertical-align: top;\n",
              "    }\n",
              "\n",
              "    .dataframe thead th {\n",
              "        text-align: right;\n",
              "    }\n",
              "</style>\n",
              "<table border=\"1\" class=\"dataframe\">\n",
              "  <thead>\n",
              "    <tr style=\"text-align: right;\">\n",
              "      <th></th>\n",
              "      <th>tweet</th>\n",
              "      <th>numerics_count</th>\n",
              "    </tr>\n",
              "  </thead>\n",
              "  <tbody>\n",
              "    <tr>\n",
              "      <th>0</th>\n",
              "      <td>@user when a father is dysfunctional and is s...</td>\n",
              "      <td>0</td>\n",
              "    </tr>\n",
              "    <tr>\n",
              "      <th>1</th>\n",
              "      <td>@user @user thanks for #lyft credit i can't us...</td>\n",
              "      <td>0</td>\n",
              "    </tr>\n",
              "    <tr>\n",
              "      <th>2</th>\n",
              "      <td>bihday your majesty</td>\n",
              "      <td>0</td>\n",
              "    </tr>\n",
              "    <tr>\n",
              "      <th>3</th>\n",
              "      <td>#model   i love u take with u all the time in ...</td>\n",
              "      <td>0</td>\n",
              "    </tr>\n",
              "    <tr>\n",
              "      <th>4</th>\n",
              "      <td>factsguide: society now    #motivation</td>\n",
              "      <td>0</td>\n",
              "    </tr>\n",
              "  </tbody>\n",
              "</table>\n",
              "</div>"
            ],
            "text/plain": [
              "                                               tweet  numerics_count\n",
              "0   @user when a father is dysfunctional and is s...               0\n",
              "1  @user @user thanks for #lyft credit i can't us...               0\n",
              "2                                bihday your majesty               0\n",
              "3  #model   i love u take with u all the time in ...               0\n",
              "4             factsguide: society now    #motivation               0"
            ]
          },
          "metadata": {
            "tags": []
          },
          "execution_count": 17
        }
      ]
    },
    {
      "cell_type": "code",
      "metadata": {
        "id": "T7nttQpH-A2F",
        "colab_type": "code",
        "colab": {
          "base_uri": "https://localhost:8080/",
          "height": 265
        },
        "outputId": "fed1cd1f-1f10-4e7a-8c67-636c34787777"
      },
      "source": [
        "data['numerics_count'].hist();"
      ],
      "execution_count": 18,
      "outputs": [
        {
          "output_type": "display_data",
          "data": {
            "image/png": "[encoded data removed]",
            "text/plain": [
              "<Figure size 432x288 with 1 Axes>"
            ]
          },
          "metadata": {
            "tags": [],
            "needs_background": "light"
          }
        }
      ]
    },
    {
      "cell_type": "markdown",
      "metadata": {
        "id": "dNLqoPJ--EiJ",
        "colab_type": "text"
      },
      "source": [
        "### 1.7 Number of Uppercase Words"
      ]
    },
    {
      "cell_type": "markdown",
      "metadata": {
        "id": "nfl6IvtP-L9S",
        "colab_type": "text"
      },
      "source": [
        "Anger or rage is quite often expressed by writing in UPPERCASE words which makes this a necessary operation to identify those words."
      ]
    },
    {
      "cell_type": "code",
      "metadata": {
        "id": "bE-wFGrn-MuY",
        "colab_type": "code",
        "colab": {
          "base_uri": "https://localhost:8080/",
          "height": 204
        },
        "outputId": "4f1fdb34-5dbd-4b40-edf3-149c069f2899"
      },
      "source": [
        "data['upper_count'] = data['tweet'].apply(lambda sentence: len([word for word in sentence.split() if word.isupper()]))\n",
        "data[['tweet', 'upper_count']].head()"
      ],
      "execution_count": 19,
      "outputs": [
        {
          "output_type": "execute_result",
          "data": {
            "text/html": [
              "<div>\n",
              "<style scoped>\n",
              "    .dataframe tbody tr th:only-of-type {\n",
              "        vertical-align: middle;\n",
              "    }\n",
              "\n",
              "    .dataframe tbody tr th {\n",
              "        vertical-align: top;\n",
              "    }\n",
              "\n",
              "    .dataframe thead th {\n",
              "        text-align: right;\n",
              "    }\n",
              "</style>\n",
              "<table border=\"1\" class=\"dataframe\">\n",
              "  <thead>\n",
              "    <tr style=\"text-align: right;\">\n",
              "      <th></th>\n",
              "      <th>tweet</th>\n",
              "      <th>upper_count</th>\n",
              "    </tr>\n",
              "  </thead>\n",
              "  <tbody>\n",
              "    <tr>\n",
              "      <th>0</th>\n",
              "      <td>@user when a father is dysfunctional and is s...</td>\n",
              "      <td>0</td>\n",
              "    </tr>\n",
              "    <tr>\n",
              "      <th>1</th>\n",
              "      <td>@user @user thanks for #lyft credit i can't us...</td>\n",
              "      <td>0</td>\n",
              "    </tr>\n",
              "    <tr>\n",
              "      <th>2</th>\n",
              "      <td>bihday your majesty</td>\n",
              "      <td>0</td>\n",
              "    </tr>\n",
              "    <tr>\n",
              "      <th>3</th>\n",
              "      <td>#model   i love u take with u all the time in ...</td>\n",
              "      <td>0</td>\n",
              "    </tr>\n",
              "    <tr>\n",
              "      <th>4</th>\n",
              "      <td>factsguide: society now    #motivation</td>\n",
              "      <td>0</td>\n",
              "    </tr>\n",
              "  </tbody>\n",
              "</table>\n",
              "</div>"
            ],
            "text/plain": [
              "                                               tweet  upper_count\n",
              "0   @user when a father is dysfunctional and is s...            0\n",
              "1  @user @user thanks for #lyft credit i can't us...            0\n",
              "2                                bihday your majesty            0\n",
              "3  #model   i love u take with u all the time in ...            0\n",
              "4             factsguide: society now    #motivation            0"
            ]
          },
          "metadata": {
            "tags": []
          },
          "execution_count": 19
        }
      ]
    },
    {
      "cell_type": "markdown",
      "metadata": {
        "id": "04BHjFhn-oNA",
        "colab_type": "text"
      },
      "source": [
        "---"
      ]
    },
    {
      "cell_type": "markdown",
      "metadata": {
        "id": "zzCI7dSk-o_v",
        "colab_type": "text"
      },
      "source": [
        "## 2. Basic Preprocessing"
      ]
    },
    {
      "cell_type": "markdown",
      "metadata": {
        "id": "Ent6uZKb-r2L",
        "colab_type": "text"
      },
      "source": [
        "### 2.1 Lowercase"
      ]
    },
    {
      "cell_type": "code",
      "metadata": {
        "id": "9wPyPjrxeoRw",
        "colab_type": "code",
        "colab": {
          "base_uri": "https://localhost:8080/",
          "height": 204
        },
        "outputId": "b512df2d-03cd-4a53-8f22-f6b36f6aaf92"
      },
      "source": [
        "data['tweet'] = data['tweet'].apply(lambda sentence: sentence.lower())\n",
        "data[['tweet']].head()"
      ],
      "execution_count": 20,
      "outputs": [
        {
          "output_type": "execute_result",
          "data": {
            "text/html": [
              "<div>\n",
              "<style scoped>\n",
              "    .dataframe tbody tr th:only-of-type {\n",
              "        vertical-align: middle;\n",
              "    }\n",
              "\n",
              "    .dataframe tbody tr th {\n",
              "        vertical-align: top;\n",
              "    }\n",
              "\n",
              "    .dataframe thead th {\n",
              "        text-align: right;\n",
              "    }\n",
              "</style>\n",
              "<table border=\"1\" class=\"dataframe\">\n",
              "  <thead>\n",
              "    <tr style=\"text-align: right;\">\n",
              "      <th></th>\n",
              "      <th>tweet</th>\n",
              "    </tr>\n",
              "  </thead>\n",
              "  <tbody>\n",
              "    <tr>\n",
              "      <th>0</th>\n",
              "      <td>@user when a father is dysfunctional and is s...</td>\n",
              "    </tr>\n",
              "    <tr>\n",
              "      <th>1</th>\n",
              "      <td>@user @user thanks for #lyft credit i can't us...</td>\n",
              "    </tr>\n",
              "    <tr>\n",
              "      <th>2</th>\n",
              "      <td>bihday your majesty</td>\n",
              "    </tr>\n",
              "    <tr>\n",
              "      <th>3</th>\n",
              "      <td>#model   i love u take with u all the time in ...</td>\n",
              "    </tr>\n",
              "    <tr>\n",
              "      <th>4</th>\n",
              "      <td>factsguide: society now    #motivation</td>\n",
              "    </tr>\n",
              "  </tbody>\n",
              "</table>\n",
              "</div>"
            ],
            "text/plain": [
              "                                               tweet\n",
              "0   @user when a father is dysfunctional and is s...\n",
              "1  @user @user thanks for #lyft credit i can't us...\n",
              "2                                bihday your majesty\n",
              "3  #model   i love u take with u all the time in ...\n",
              "4             factsguide: society now    #motivation"
            ]
          },
          "metadata": {
            "tags": []
          },
          "execution_count": 20
        }
      ]
    },
    {
      "cell_type": "markdown",
      "metadata": {
        "id": "NvOyCvUufVft",
        "colab_type": "text"
      },
      "source": [
        "### 2.2 Removing Punctuation"
      ]
    },
    {
      "cell_type": "code",
      "metadata": {
        "id": "WEi2hBOcflSd",
        "colab_type": "code",
        "colab": {
          "base_uri": "https://localhost:8080/",
          "height": 34
        },
        "outputId": "0c41180f-5105-4a4a-aaea-e17d7bcc1ed8"
      },
      "source": [
        "import string\n",
        "print(string.punctuation)"
      ],
      "execution_count": 21,
      "outputs": [
        {
          "output_type": "stream",
          "text": [
            "!\"#$%&'()*+,-./:;<=>?@[\\]^_`{|}~\n"
          ],
          "name": "stdout"
        }
      ]
    },
    {
      "cell_type": "code",
      "metadata": {
        "id": "LsKcWqFtfokK",
        "colab_type": "code",
        "colab": {
          "base_uri": "https://localhost:8080/",
          "height": 204
        },
        "outputId": "a81ce389-2b58-45ed-c05d-43a0e8e63fa6"
      },
      "source": [
        "table = str.maketrans('', '', string.punctuation)\n",
        "data['tweet'] = data['tweet'].apply(lambda sentence: sentence.translate(table))\n",
        "data[['tweet']].head()"
      ],
      "execution_count": 22,
      "outputs": [
        {
          "output_type": "execute_result",
          "data": {
            "text/html": [
              "<div>\n",
              "<style scoped>\n",
              "    .dataframe tbody tr th:only-of-type {\n",
              "        vertical-align: middle;\n",
              "    }\n",
              "\n",
              "    .dataframe tbody tr th {\n",
              "        vertical-align: top;\n",
              "    }\n",
              "\n",
              "    .dataframe thead th {\n",
              "        text-align: right;\n",
              "    }\n",
              "</style>\n",
              "<table border=\"1\" class=\"dataframe\">\n",
              "  <thead>\n",
              "    <tr style=\"text-align: right;\">\n",
              "      <th></th>\n",
              "      <th>tweet</th>\n",
              "    </tr>\n",
              "  </thead>\n",
              "  <tbody>\n",
              "    <tr>\n",
              "      <th>0</th>\n",
              "      <td>user when a father is dysfunctional and is so...</td>\n",
              "    </tr>\n",
              "    <tr>\n",
              "      <th>1</th>\n",
              "      <td>user user thanks for lyft credit i cant use ca...</td>\n",
              "    </tr>\n",
              "    <tr>\n",
              "      <th>2</th>\n",
              "      <td>bihday your majesty</td>\n",
              "    </tr>\n",
              "    <tr>\n",
              "      <th>3</th>\n",
              "      <td>model   i love u take with u all the time in u...</td>\n",
              "    </tr>\n",
              "    <tr>\n",
              "      <th>4</th>\n",
              "      <td>factsguide society now    motivation</td>\n",
              "    </tr>\n",
              "  </tbody>\n",
              "</table>\n",
              "</div>"
            ],
            "text/plain": [
              "                                               tweet\n",
              "0   user when a father is dysfunctional and is so...\n",
              "1  user user thanks for lyft credit i cant use ca...\n",
              "2                                bihday your majesty\n",
              "3  model   i love u take with u all the time in u...\n",
              "4               factsguide society now    motivation"
            ]
          },
          "metadata": {
            "tags": []
          },
          "execution_count": 22
        }
      ]
    },
    {
      "cell_type": "markdown",
      "metadata": {
        "id": "GkAQdf_gf8bU",
        "colab_type": "text"
      },
      "source": [
        "### 2.3 Removal of Stop Words"
      ]
    },
    {
      "cell_type": "code",
      "metadata": {
        "id": "xgXH4TjOgWX4",
        "colab_type": "code",
        "colab": {
          "base_uri": "https://localhost:8080/",
          "height": 204
        },
        "outputId": "e1a89b55-0e8a-4b58-a0c0-f0cafb2915f7"
      },
      "source": [
        "from nltk.corpus import stopwords\n",
        "stop_words = stopwords.words('english')\n",
        "data['tweet'] = data['tweet'].apply(lambda sentence: \" \".join(word for word in sentence.split() if word not in stop_words))\n",
        "data[['tweet']].head()"
      ],
      "execution_count": 26,
      "outputs": [
        {
          "output_type": "execute_result",
          "data": {
            "text/html": [
              "<div>\n",
              "<style scoped>\n",
              "    .dataframe tbody tr th:only-of-type {\n",
              "        vertical-align: middle;\n",
              "    }\n",
              "\n",
              "    .dataframe tbody tr th {\n",
              "        vertical-align: top;\n",
              "    }\n",
              "\n",
              "    .dataframe thead th {\n",
              "        text-align: right;\n",
              "    }\n",
              "</style>\n",
              "<table border=\"1\" class=\"dataframe\">\n",
              "  <thead>\n",
              "    <tr style=\"text-align: right;\">\n",
              "      <th></th>\n",
              "      <th>tweet</th>\n",
              "    </tr>\n",
              "  </thead>\n",
              "  <tbody>\n",
              "    <tr>\n",
              "      <th>0</th>\n",
              "      <td>user father dysfunctional selfish drags kids d...</td>\n",
              "    </tr>\n",
              "    <tr>\n",
              "      <th>1</th>\n",
              "      <td>user user thanks lyft credit cant use cause do...</td>\n",
              "    </tr>\n",
              "    <tr>\n",
              "      <th>2</th>\n",
              "      <td>bihday majesty</td>\n",
              "    </tr>\n",
              "    <tr>\n",
              "      <th>3</th>\n",
              "      <td>model love u take u time urð± ðððð...</td>\n",
              "    </tr>\n",
              "    <tr>\n",
              "      <th>4</th>\n",
              "      <td>factsguide society motivation</td>\n",
              "    </tr>\n",
              "  </tbody>\n",
              "</table>\n",
              "</div>"
            ],
            "text/plain": [
              "                                               tweet\n",
              "0  user father dysfunctional selfish drags kids d...\n",
              "1  user user thanks lyft credit cant use cause do...\n",
              "2                                     bihday majesty\n",
              "3  model love u take u time urð± ðððð...\n",
              "4                      factsguide society motivation"
            ]
          },
          "metadata": {
            "tags": []
          },
          "execution_count": 26
        }
      ]
    },
    {
      "cell_type": "markdown",
      "metadata": {
        "id": "FHhUTpTohXBH",
        "colab_type": "text"
      },
      "source": [
        "### 2.4 Common Words Removal"
      ]
    },
    {
      "cell_type": "code",
      "metadata": {
        "id": "SCoFkE3ViGKj",
        "colab_type": "code",
        "colab": {}
      },
      "source": [
        "freq = pd.Series(' '.join(data['tweet']).split()).value_counts(normalize=True)\n",
        "common = freq[:10]"
      ],
      "execution_count": 30,
      "outputs": []
    },
    {
      "cell_type": "code",
      "metadata": {
        "id": "xIpmiUowijW4",
        "colab_type": "code",
        "colab": {
          "base_uri": "https://localhost:8080/",
          "height": 119
        },
        "outputId": "2e872eb9-a6e2-436b-b1b8-8d6e653a9ab7"
      },
      "source": [
        "common = common.index\n",
        "data['tweet'] = data['tweet'].apply(lambda sentence: ' '.join(word for word in sentence.split() if word not in common))\n",
        "data['tweet'].head()"
      ],
      "execution_count": 32,
      "outputs": [
        {
          "output_type": "execute_result",
          "data": {
            "text/plain": [
              "0    father dysfunctional selfish drags kids dysfun...\n",
              "1    thanks lyft credit cant use cause dont offer w...\n",
              "2                                       bihday majesty\n",
              "3       model take urð± ðððð ð¦ð¦ð¦\n",
              "4                        factsguide society motivation\n",
              "Name: tweet, dtype: object"
            ]
          },
          "metadata": {
            "tags": []
          },
          "execution_count": 32
        }
      ]
    },
    {
      "cell_type": "markdown",
      "metadata": {
        "id": "8717omgPjeOe",
        "colab_type": "text"
      },
      "source": [
        "### 2.5 Rare Words Removal"
      ]
    },
    {
      "cell_type": "code",
      "metadata": {
        "id": "MKalBzEhkB-e",
        "colab_type": "code",
        "colab": {
          "base_uri": "https://localhost:8080/",
          "height": 119
        },
        "outputId": "159be17d-d4a5-4b8c-d747-b150135555e9"
      },
      "source": [
        "rare = freq[-10:]\n",
        "data['tweet'] = data['tweet'].apply(lambda sentence: ' '.join(word for word in sentence.split() if word not in rare))\n",
        "data['tweet'].head()"
      ],
      "execution_count": 34,
      "outputs": [
        {
          "output_type": "execute_result",
          "data": {
            "text/plain": [
              "0    father dysfunctional selfish drags kids dysfun...\n",
              "1    thanks lyft credit cant use cause dont offer w...\n",
              "2                                       bihday majesty\n",
              "3       model take urð± ðððð ð¦ð¦ð¦\n",
              "4                        factsguide society motivation\n",
              "Name: tweet, dtype: object"
            ]
          },
          "metadata": {
            "tags": []
          },
          "execution_count": 34
        }
      ]
    },
    {
      "cell_type": "markdown",
      "metadata": {
        "id": "KdHa2lQqkG7j",
        "colab_type": "text"
      },
      "source": [
        "### 2.6 Spelling Correction"
      ]
    },
    {
      "cell_type": "code",
      "metadata": {
        "id": "1KKIImstkf35",
        "colab_type": "code",
        "colab": {
          "base_uri": "https://localhost:8080/",
          "height": 119
        },
        "outputId": "210f6154-7d33-45d9-f682-6bc817db27c0"
      },
      "source": [
        "from textblob import TextBlob\n",
        "data['tweet'][:5].apply(lambda sentence: str(TextBlob(sentence).correct()))"
      ],
      "execution_count": 36,
      "outputs": [
        {
          "output_type": "execute_result",
          "data": {
            "text/plain": [
              "0    father dysfunctional selfish drags kiss dysfun...\n",
              "1    thanks left credit can use cause dont offer wh...\n",
              "2                                       midday majesty\n",
              "3        model take or± ðððð ð¦ð¦ð¦\n",
              "4                        factsguide society motivation\n",
              "Name: tweet, dtype: object"
            ]
          },
          "metadata": {
            "tags": []
          },
          "execution_count": 36
        }
      ]
    },
    {
      "cell_type": "markdown",
      "metadata": {
        "id": "tP3_nPmImKxH",
        "colab_type": "text"
      },
      "source": [
        "### 2.7 Tokenization"
      ]
    },
    {
      "cell_type": "code",
      "metadata": {
        "id": "-ku28enMmac1",
        "colab_type": "code",
        "colab": {
          "base_uri": "https://localhost:8080/",
          "height": 34
        },
        "outputId": "d30f01ac-d80f-4646-fc35-4e7eeaba108f"
      },
      "source": [
        "TextBlob(data['tweet'][0]).words"
      ],
      "execution_count": 39,
      "outputs": [
        {
          "output_type": "execute_result",
          "data": {
            "text/plain": [
              "WordList(['father', 'dysfunctional', 'selfish', 'drags', 'kids', 'dysfunction', 'run'])"
            ]
          },
          "metadata": {
            "tags": []
          },
          "execution_count": 39
        }
      ]
    },
    {
      "cell_type": "markdown",
      "metadata": {
        "id": "mUvpsO4ImebI",
        "colab_type": "text"
      },
      "source": [
        "### 2.8 Stemming"
      ]
    },
    {
      "cell_type": "markdown",
      "metadata": {
        "id": "lXZajsHAmtSM",
        "colab_type": "text"
      },
      "source": [
        "Removal of suffixes."
      ]
    },
    {
      "cell_type": "code",
      "metadata": {
        "id": "SETdjnLqmwj8",
        "colab_type": "code",
        "colab": {
          "base_uri": "https://localhost:8080/",
          "height": 119
        },
        "outputId": "f257cf98-9611-4d7d-980d-ebdb388ae721"
      },
      "source": [
        "from nltk.stem import PorterStemmer\n",
        "stemmer = PorterStemmer()\n",
        "data['tweet'][:5].apply(lambda sentence: ' '.join(stemmer.stem(word) for word in sentence.split()))"
      ],
      "execution_count": 40,
      "outputs": [
        {
          "output_type": "execute_result",
          "data": {
            "text/plain": [
              "0        father dysfunct selfish drag kid dysfunct run\n",
              "1    thank lyft credit cant use caus dont offer whe...\n",
              "2                                       bihday majesti\n",
              "3       model take urð± ðððð ð¦ð¦ð¦\n",
              "4                              factsguid societi motiv\n",
              "Name: tweet, dtype: object"
            ]
          },
          "metadata": {
            "tags": []
          },
          "execution_count": 40
        }
      ]
    },
    {
      "cell_type": "markdown",
      "metadata": {
        "id": "TCa9vswInEPG",
        "colab_type": "text"
      },
      "source": [
        "### Lemmatization"
      ]
    },
    {
      "cell_type": "markdown",
      "metadata": {
        "id": "U2gku-m4nJfe",
        "colab_type": "text"
      },
      "source": [
        "Converts word into its root form."
      ]
    },
    {
      "cell_type": "code",
      "metadata": {
        "id": "aby2RyG3nNXg",
        "colab_type": "code",
        "colab": {
          "base_uri": "https://localhost:8080/",
          "height": 204
        },
        "outputId": "bb502a50-b93f-48b4-c01b-f2f20eb256ac"
      },
      "source": [
        "from textblob import Word\n",
        "data['tweet'] = data['tweet'].apply(lambda sentence: ' '.join(Word(word).lemmatize() for word in sentence.split()))\n",
        "data[['tweet']].head()"
      ],
      "execution_count": 43,
      "outputs": [
        {
          "output_type": "execute_result",
          "data": {
            "text/html": [
              "<div>\n",
              "<style scoped>\n",
              "    .dataframe tbody tr th:only-of-type {\n",
              "        vertical-align: middle;\n",
              "    }\n",
              "\n",
              "    .dataframe tbody tr th {\n",
              "        vertical-align: top;\n",
              "    }\n",
              "\n",
              "    .dataframe thead th {\n",
              "        text-align: right;\n",
              "    }\n",
              "</style>\n",
              "<table border=\"1\" class=\"dataframe\">\n",
              "  <thead>\n",
              "    <tr style=\"text-align: right;\">\n",
              "      <th></th>\n",
              "      <th>tweet</th>\n",
              "    </tr>\n",
              "  </thead>\n",
              "  <tbody>\n",
              "    <tr>\n",
              "      <th>0</th>\n",
              "      <td>father dysfunctional selfish drag kid dysfunct...</td>\n",
              "    </tr>\n",
              "    <tr>\n",
              "      <th>1</th>\n",
              "      <td>thanks lyft credit cant use cause dont offer w...</td>\n",
              "    </tr>\n",
              "    <tr>\n",
              "      <th>2</th>\n",
              "      <td>bihday majesty</td>\n",
              "    </tr>\n",
              "    <tr>\n",
              "      <th>3</th>\n",
              "      <td>model take urð± ðððð ð¦ð¦ð¦</td>\n",
              "    </tr>\n",
              "    <tr>\n",
              "      <th>4</th>\n",
              "      <td>factsguide society motivation</td>\n",
              "    </tr>\n",
              "  </tbody>\n",
              "</table>\n",
              "</div>"
            ],
            "text/plain": [
              "                                               tweet\n",
              "0  father dysfunctional selfish drag kid dysfunct...\n",
              "1  thanks lyft credit cant use cause dont offer w...\n",
              "2                                     bihday majesty\n",
              "3     model take urð± ðððð ð¦ð¦ð¦\n",
              "4                      factsguide society motivation"
            ]
          },
          "metadata": {
            "tags": []
          },
          "execution_count": 43
        }
      ]
    },
    {
      "cell_type": "markdown",
      "metadata": {
        "id": "df3gO8kKnhJ5",
        "colab_type": "text"
      },
      "source": [
        "----"
      ]
    },
    {
      "cell_type": "markdown",
      "metadata": {
        "id": "uAMeI_HUnywS",
        "colab_type": "text"
      },
      "source": [
        "## 3 Advance Text Processing"
      ]
    },
    {
      "cell_type": "markdown",
      "metadata": {
        "id": "6zENldz4n3TA",
        "colab_type": "text"
      },
      "source": [
        "N-grams are the combination of multiple words used together. Ngrams with N=1 are called unigrams. Similarly, bigrams (N=2), trigrams (N=3) and so on can also be used."
      ]
    },
    {
      "cell_type": "markdown",
      "metadata": {
        "id": "sGsYODt_p2wM",
        "colab_type": "text"
      },
      "source": [
        "Unigrams do not usually contain as much information as compared to bigrams and trigrams. The basic principle behind n-grams is that they capture the language structure, like what letter or word is likely to follow the given one. The longer the n-gram (the higher the n), the more context you have to work with. Optimum length really depends on the application – if your n-grams are too short, you may fail to capture important differences. On the other hand, if they are too long, you may fail to capture the “general knowledge” and only stick to particular cases."
      ]
    },
    {
      "cell_type": "code",
      "metadata": {
        "id": "BSbKgVqFqP9g",
        "colab_type": "code",
        "colab": {
          "base_uri": "https://localhost:8080/",
          "height": 119
        },
        "outputId": "ac1b711d-9122-44a9-8b86-0fa0241d3ed6"
      },
      "source": [
        "TextBlob(data['tweet'][0]).ngrams(2)"
      ],
      "execution_count": 44,
      "outputs": [
        {
          "output_type": "execute_result",
          "data": {
            "text/plain": [
              "[WordList(['father', 'dysfunctional']),\n",
              " WordList(['dysfunctional', 'selfish']),\n",
              " WordList(['selfish', 'drag']),\n",
              " WordList(['drag', 'kid']),\n",
              " WordList(['kid', 'dysfunction']),\n",
              " WordList(['dysfunction', 'run'])]"
            ]
          },
          "metadata": {
            "tags": []
          },
          "execution_count": 44
        }
      ]
    },
    {
      "cell_type": "markdown",
      "metadata": {
        "id": "vFrVJf_HqcEh",
        "colab_type": "text"
      },
      "source": [
        "### 3.2 Term Frequency"
      ]
    },
    {
      "cell_type": "code",
      "metadata": {
        "id": "hE87A2horApJ",
        "colab_type": "code",
        "colab": {
          "base_uri": "https://localhost:8080/",
          "height": 204
        },
        "outputId": "4c2681f5-9e2d-431e-d566-7cc6bd64b13c"
      },
      "source": [
        "tf1 = data['tweet'][:5].apply(lambda sentence: pd.value_counts(sentence.split())).sum().reset_index()\n",
        "tf1.columns = ['words', 'tf']\n",
        "tf1['tf'] = tf1['tf'].astype(int)\n",
        "tf1.head()"
      ],
      "execution_count": 53,
      "outputs": [
        {
          "output_type": "execute_result",
          "data": {
            "text/html": [
              "<div>\n",
              "<style scoped>\n",
              "    .dataframe tbody tr th:only-of-type {\n",
              "        vertical-align: middle;\n",
              "    }\n",
              "\n",
              "    .dataframe tbody tr th {\n",
              "        vertical-align: top;\n",
              "    }\n",
              "\n",
              "    .dataframe thead th {\n",
              "        text-align: right;\n",
              "    }\n",
              "</style>\n",
              "<table border=\"1\" class=\"dataframe\">\n",
              "  <thead>\n",
              "    <tr style=\"text-align: right;\">\n",
              "      <th></th>\n",
              "      <th>words</th>\n",
              "      <th>tf</th>\n",
              "    </tr>\n",
              "  </thead>\n",
              "  <tbody>\n",
              "    <tr>\n",
              "      <th>0</th>\n",
              "      <td>father</td>\n",
              "      <td>1</td>\n",
              "    </tr>\n",
              "    <tr>\n",
              "      <th>1</th>\n",
              "      <td>selfish</td>\n",
              "      <td>1</td>\n",
              "    </tr>\n",
              "    <tr>\n",
              "      <th>2</th>\n",
              "      <td>run</td>\n",
              "      <td>1</td>\n",
              "    </tr>\n",
              "    <tr>\n",
              "      <th>3</th>\n",
              "      <td>dysfunctional</td>\n",
              "      <td>1</td>\n",
              "    </tr>\n",
              "    <tr>\n",
              "      <th>4</th>\n",
              "      <td>drag</td>\n",
              "      <td>1</td>\n",
              "    </tr>\n",
              "  </tbody>\n",
              "</table>\n",
              "</div>"
            ],
            "text/plain": [
              "           words  tf\n",
              "0         father   1\n",
              "1        selfish   1\n",
              "2            run   1\n",
              "3  dysfunctional   1\n",
              "4           drag   1"
            ]
          },
          "metadata": {
            "tags": []
          },
          "execution_count": 53
        }
      ]
    },
    {
      "cell_type": "markdown",
      "metadata": {
        "id": "OHd_wQdkrO4u",
        "colab_type": "text"
      },
      "source": [
        "### 3.3 Inverse Document Frequency"
      ]
    },
    {
      "cell_type": "markdown",
      "metadata": {
        "id": "KwgAOkB-sObV",
        "colab_type": "text"
      },
      "source": [
        "IDF = log(N/n), where, N is the total number of rows and n is the number of rows in which the word was present."
      ]
    },
    {
      "cell_type": "code",
      "metadata": {
        "id": "_Ptr2F4-sPR0",
        "colab_type": "code",
        "colab": {
          "base_uri": "https://localhost:8080/",
          "height": 204
        },
        "outputId": "67803dee-da63-4f7e-c3a0-a4d6358e8a96"
      },
      "source": [
        "for i, word in enumerate(tf1['words']):\n",
        "    tf1.loc[i, 'idf'] = np.log(len(data) / data['tweet'].str.contains(word).sum())\n",
        "tf1.head()"
      ],
      "execution_count": 56,
      "outputs": [
        {
          "output_type": "execute_result",
          "data": {
            "text/html": [
              "<div>\n",
              "<style scoped>\n",
              "    .dataframe tbody tr th:only-of-type {\n",
              "        vertical-align: middle;\n",
              "    }\n",
              "\n",
              "    .dataframe tbody tr th {\n",
              "        vertical-align: top;\n",
              "    }\n",
              "\n",
              "    .dataframe thead th {\n",
              "        text-align: right;\n",
              "    }\n",
              "</style>\n",
              "<table border=\"1\" class=\"dataframe\">\n",
              "  <thead>\n",
              "    <tr style=\"text-align: right;\">\n",
              "      <th></th>\n",
              "      <th>words</th>\n",
              "      <th>tf</th>\n",
              "      <th>idf</th>\n",
              "    </tr>\n",
              "  </thead>\n",
              "  <tbody>\n",
              "    <tr>\n",
              "      <th>0</th>\n",
              "      <td>father</td>\n",
              "      <td>1</td>\n",
              "      <td>3.475609</td>\n",
              "    </tr>\n",
              "    <tr>\n",
              "      <th>1</th>\n",
              "      <td>selfish</td>\n",
              "      <td>1</td>\n",
              "      <td>7.664253</td>\n",
              "    </tr>\n",
              "    <tr>\n",
              "      <th>2</th>\n",
              "      <td>run</td>\n",
              "      <td>1</td>\n",
              "      <td>4.642203</td>\n",
              "    </tr>\n",
              "    <tr>\n",
              "      <th>3</th>\n",
              "      <td>dysfunctional</td>\n",
              "      <td>1</td>\n",
              "      <td>10.372303</td>\n",
              "    </tr>\n",
              "    <tr>\n",
              "      <th>4</th>\n",
              "      <td>drag</td>\n",
              "      <td>1</td>\n",
              "      <td>6.346951</td>\n",
              "    </tr>\n",
              "  </tbody>\n",
              "</table>\n",
              "</div>"
            ],
            "text/plain": [
              "           words  tf        idf\n",
              "0         father   1   3.475609\n",
              "1        selfish   1   7.664253\n",
              "2            run   1   4.642203\n",
              "3  dysfunctional   1  10.372303\n",
              "4           drag   1   6.346951"
            ]
          },
          "metadata": {
            "tags": []
          },
          "execution_count": 56
        }
      ]
    },
    {
      "cell_type": "markdown",
      "metadata": {
        "id": "Yb3w53z7tdeo",
        "colab_type": "text"
      },
      "source": [
        "### 3.4 Term Frequency - Inverse Document Frequency"
      ]
    },
    {
      "cell_type": "code",
      "metadata": {
        "id": "t_ZoMqFKthsL",
        "colab_type": "code",
        "colab": {
          "base_uri": "https://localhost:8080/",
          "height": 204
        },
        "outputId": "8f275504-b1e9-4b1d-e5f6-ec64c0241cc6"
      },
      "source": [
        "tf1['tfidf'] = tf1['tf'] * tf1['idf']\n",
        "tf1.head()"
      ],
      "execution_count": 57,
      "outputs": [
        {
          "output_type": "execute_result",
          "data": {
            "text/html": [
              "<div>\n",
              "<style scoped>\n",
              "    .dataframe tbody tr th:only-of-type {\n",
              "        vertical-align: middle;\n",
              "    }\n",
              "\n",
              "    .dataframe tbody tr th {\n",
              "        vertical-align: top;\n",
              "    }\n",
              "\n",
              "    .dataframe thead th {\n",
              "        text-align: right;\n",
              "    }\n",
              "</style>\n",
              "<table border=\"1\" class=\"dataframe\">\n",
              "  <thead>\n",
              "    <tr style=\"text-align: right;\">\n",
              "      <th></th>\n",
              "      <th>words</th>\n",
              "      <th>tf</th>\n",
              "      <th>idf</th>\n",
              "      <th>tfidf</th>\n",
              "    </tr>\n",
              "  </thead>\n",
              "  <tbody>\n",
              "    <tr>\n",
              "      <th>0</th>\n",
              "      <td>father</td>\n",
              "      <td>1</td>\n",
              "      <td>3.475609</td>\n",
              "      <td>3.475609</td>\n",
              "    </tr>\n",
              "    <tr>\n",
              "      <th>1</th>\n",
              "      <td>selfish</td>\n",
              "      <td>1</td>\n",
              "      <td>7.664253</td>\n",
              "      <td>7.664253</td>\n",
              "    </tr>\n",
              "    <tr>\n",
              "      <th>2</th>\n",
              "      <td>run</td>\n",
              "      <td>1</td>\n",
              "      <td>4.642203</td>\n",
              "      <td>4.642203</td>\n",
              "    </tr>\n",
              "    <tr>\n",
              "      <th>3</th>\n",
              "      <td>dysfunctional</td>\n",
              "      <td>1</td>\n",
              "      <td>10.372303</td>\n",
              "      <td>10.372303</td>\n",
              "    </tr>\n",
              "    <tr>\n",
              "      <th>4</th>\n",
              "      <td>drag</td>\n",
              "      <td>1</td>\n",
              "      <td>6.346951</td>\n",
              "      <td>6.346951</td>\n",
              "    </tr>\n",
              "  </tbody>\n",
              "</table>\n",
              "</div>"
            ],
            "text/plain": [
              "           words  tf        idf      tfidf\n",
              "0         father   1   3.475609   3.475609\n",
              "1        selfish   1   7.664253   7.664253\n",
              "2            run   1   4.642203   4.642203\n",
              "3  dysfunctional   1  10.372303  10.372303\n",
              "4           drag   1   6.346951   6.346951"
            ]
          },
          "metadata": {
            "tags": []
          },
          "execution_count": 57
        }
      ]
    },
    {
      "cell_type": "code",
      "metadata": {
        "id": "VGaPiLJFtn89",
        "colab_type": "code",
        "colab": {
          "base_uri": "https://localhost:8080/",
          "height": 51
        },
        "outputId": "e345026d-12f3-4a18-b68d-0e05edd96ccd"
      },
      "source": [
        "from sklearn.feature_extraction.text import TfidfVectorizer\n",
        "vectorizer = TfidfVectorizer()\n",
        "vectorizer.fit_transform(data['tweet'][:5])"
      ],
      "execution_count": 59,
      "outputs": [
        {
          "output_type": "execute_result",
          "data": {
            "text/plain": [
              "<5x28 sparse matrix of type '<class 'numpy.float64'>'\n",
              "\twith 28 stored elements in Compressed Sparse Row format>"
            ]
          },
          "metadata": {
            "tags": []
          },
          "execution_count": 59
        }
      ]
    },
    {
      "cell_type": "markdown",
      "metadata": {
        "id": "0n2EY1prt9cJ",
        "colab_type": "text"
      },
      "source": [
        "### 3.5 Bag of Words"
      ]
    },
    {
      "cell_type": "code",
      "metadata": {
        "id": "N2pHcQtCuCqs",
        "colab_type": "code",
        "colab": {
          "base_uri": "https://localhost:8080/",
          "height": 51
        },
        "outputId": "c1ee18b0-1740-4a2a-857a-c8e62922a88e"
      },
      "source": [
        "from sklearn.feature_extraction.text import CountVectorizer\n",
        "vectorizer = CountVectorizer()\n",
        "vectorizer.fit_transform(data['tweet'][:5])"
      ],
      "execution_count": 60,
      "outputs": [
        {
          "output_type": "execute_result",
          "data": {
            "text/plain": [
              "<5x28 sparse matrix of type '<class 'numpy.int64'>'\n",
              "\twith 28 stored elements in Compressed Sparse Row format>"
            ]
          },
          "metadata": {
            "tags": []
          },
          "execution_count": 60
        }
      ]
    },
    {
      "cell_type": "markdown",
      "metadata": {
        "id": "-1lKOIzfuKC5",
        "colab_type": "text"
      },
      "source": [
        "### 3.6 Sentiment Analysis"
      ]
    },
    {
      "cell_type": "code",
      "metadata": {
        "id": "v1LwyiPsuiq-",
        "colab_type": "code",
        "colab": {
          "base_uri": "https://localhost:8080/",
          "height": 136
        },
        "outputId": "c99a2452-b8e8-49ae-e5ca-8d74cdaaaec0"
      },
      "source": [
        "data.loc[:5, 'tweet'].apply(lambda x: TextBlob(x).sentiment)"
      ],
      "execution_count": 61,
      "outputs": [
        {
          "output_type": "execute_result",
          "data": {
            "text/plain": [
              "0    (-0.3, 0.5354166666666667)\n",
              "1                    (0.2, 0.2)\n",
              "2                    (0.0, 0.0)\n",
              "3                    (0.0, 0.0)\n",
              "4                    (0.0, 0.0)\n",
              "5    (0.20000000000000004, 0.5)\n",
              "Name: tweet, dtype: object"
            ]
          },
          "metadata": {
            "tags": []
          },
          "execution_count": 61
        }
      ]
    },
    {
      "cell_type": "code",
      "metadata": {
        "id": "j0gD8xiPuqQv",
        "colab_type": "code",
        "colab": {
          "base_uri": "https://localhost:8080/",
          "height": 204
        },
        "outputId": "21742921-af63-4081-a51d-1b1039895a74"
      },
      "source": [
        "data['sentiment'] = data['tweet'].apply(lambda x: TextBlob(x).sentiment)\n",
        "data[['tweet', 'sentiment']].head()"
      ],
      "execution_count": 62,
      "outputs": [
        {
          "output_type": "execute_result",
          "data": {
            "text/html": [
              "<div>\n",
              "<style scoped>\n",
              "    .dataframe tbody tr th:only-of-type {\n",
              "        vertical-align: middle;\n",
              "    }\n",
              "\n",
              "    .dataframe tbody tr th {\n",
              "        vertical-align: top;\n",
              "    }\n",
              "\n",
              "    .dataframe thead th {\n",
              "        text-align: right;\n",
              "    }\n",
              "</style>\n",
              "<table border=\"1\" class=\"dataframe\">\n",
              "  <thead>\n",
              "    <tr style=\"text-align: right;\">\n",
              "      <th></th>\n",
              "      <th>tweet</th>\n",
              "      <th>sentiment</th>\n",
              "    </tr>\n",
              "  </thead>\n",
              "  <tbody>\n",
              "    <tr>\n",
              "      <th>0</th>\n",
              "      <td>father dysfunctional selfish drag kid dysfunct...</td>\n",
              "      <td>(-0.3, 0.5354166666666667)</td>\n",
              "    </tr>\n",
              "    <tr>\n",
              "      <th>1</th>\n",
              "      <td>thanks lyft credit cant use cause dont offer w...</td>\n",
              "      <td>(0.2, 0.2)</td>\n",
              "    </tr>\n",
              "    <tr>\n",
              "      <th>2</th>\n",
              "      <td>bihday majesty</td>\n",
              "      <td>(0.0, 0.0)</td>\n",
              "    </tr>\n",
              "    <tr>\n",
              "      <th>3</th>\n",
              "      <td>model take urð± ðððð ð¦ð¦ð¦</td>\n",
              "      <td>(0.0, 0.0)</td>\n",
              "    </tr>\n",
              "    <tr>\n",
              "      <th>4</th>\n",
              "      <td>factsguide society motivation</td>\n",
              "      <td>(0.0, 0.0)</td>\n",
              "    </tr>\n",
              "  </tbody>\n",
              "</table>\n",
              "</div>"
            ],
            "text/plain": [
              "                                               tweet                   sentiment\n",
              "0  father dysfunctional selfish drag kid dysfunct...  (-0.3, 0.5354166666666667)\n",
              "1  thanks lyft credit cant use cause dont offer w...                  (0.2, 0.2)\n",
              "2                                     bihday majesty                  (0.0, 0.0)\n",
              "3     model take urð± ðððð ð¦ð¦ð¦                  (0.0, 0.0)\n",
              "4                      factsguide society motivation                  (0.0, 0.0)"
            ]
          },
          "metadata": {
            "tags": []
          },
          "execution_count": 62
        }
      ]
    }
  ]
}