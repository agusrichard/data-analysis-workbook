{
  "nbformat": 4,
  "nbformat_minor": 0,
  "metadata": {
    "colab": {
      "name": "stacking_ensemble.ipynb",
      "provenance": [],
      "collapsed_sections": []
    },
    "kernelspec": {
      "name": "python3",
      "display_name": "Python 3"
    }
  },
  "cells": [
    {
      "cell_type": "markdown",
      "metadata": {
        "id": "csQLeMR7M1lV",
        "colab_type": "text"
      },
      "source": [
        "# Stacking Ensemble Machine Learning With Python"
      ]
    },
    {
      "cell_type": "markdown",
      "metadata": {
        "id": "ZPu7yXJ8M6Mg",
        "colab_type": "text"
      },
      "source": [
        "Source: https://machinelearningmastery.com/stacking-ensemble-machine-learning-with-python/\n",
        "\n",
        "by Jason Brownlee on April 10, 2020"
      ]
    },
    {
      "cell_type": "markdown",
      "metadata": {
        "id": "FAceqyXsM-b-",
        "colab_type": "text"
      },
      "source": [
        "## Stacking Generalization"
      ]
    },
    {
      "cell_type": "markdown",
      "metadata": {
        "id": "j5S5u8OANo2O",
        "colab_type": "text"
      },
      "source": [
        "The architecture of a stacking model involves two or more base models, often referred to as level-0 models, and a meta-model that combines the predictions of the base models, referred to as a level-1 model."
      ]
    },
    {
      "cell_type": "markdown",
      "metadata": {
        "id": "kiZlsI_sNpyO",
        "colab_type": "text"
      },
      "source": [
        "- Level-0 Models (Base-Models): Models fit on the training data and whose predictions are compiled.\n",
        "- Level-1 Model (Meta-Model): Model that learns how to best combine the predictions of the base models."
      ]
    },
    {
      "cell_type": "markdown",
      "metadata": {
        "id": "L59iMMU3NwLl",
        "colab_type": "text"
      },
      "source": [
        "The meta-model is trained on the predictions made by base models on out-of-sample data. That is, data not used to train the base models is fed to the base models, predictions are made, and these predictions, along with the expected outputs, provide the input and output pairs of the training dataset used to fit the meta-model."
      ]
    },
    {
      "cell_type": "markdown",
      "metadata": {
        "id": "MxDHJyavPJko",
        "colab_type": "text"
      },
      "source": [
        "The outputs from the base models used as input to the meta-model may be real value in the case of regression, and probability values, probability like values, or class labels in the case of classification."
      ]
    },
    {
      "cell_type": "markdown",
      "metadata": {
        "id": "DQWMAbGEPLDY",
        "colab_type": "text"
      },
      "source": [
        "Stacking is appropriate when multiple different machine learning models have skill on a dataset, but have skill in different ways. Another way to say this is that the predictions made by the models or the errors in predictions made by the models are uncorrelated or have a low correlation."
      ]
    },
    {
      "cell_type": "markdown",
      "metadata": {
        "id": "D5nY1heaP6PZ",
        "colab_type": "text"
      },
      "source": [
        "Base-models are often complex and diverse. As such, it is often a good idea to use a range of models that make very different assumptions about how to solve the predictive modeling task, such as linear models, decision trees, support vector machines, neural networks, and more. Other ensemble algorithms may also be used as base-models, such as random forests."
      ]
    },
    {
      "cell_type": "markdown",
      "metadata": {
        "id": "3hN4itwrPu4P",
        "colab_type": "text"
      },
      "source": [
        "Base-Models: Use a diverse range of models that make different assumptions about the prediction task."
      ]
    },
    {
      "cell_type": "markdown",
      "metadata": {
        "id": "FR664ZLYRDNe",
        "colab_type": "text"
      },
      "source": [
        "The meta-model is often simple, providing a smooth interpretation of the predictions made by the base models. As such, linear models are often used as the meta-model, such as linear regression for regression tasks (predicting a numeric value) and logistic regression for classification tasks (predicting a class label). Although this is common, it is not required."
      ]
    }
  ]
}