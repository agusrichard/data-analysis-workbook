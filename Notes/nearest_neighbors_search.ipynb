{
  "nbformat": 4,
  "nbformat_minor": 0,
  "metadata": {
    "colab": {
      "name": "nearest_neighbors_search.ipynb",
      "provenance": [],
      "collapsed_sections": []
    },
    "kernelspec": {
      "name": "python3",
      "display_name": "Python 3"
    }
  },
  "cells": [
    {
      "cell_type": "markdown",
      "metadata": {
        "id": "5ZnIKomeTASv",
        "colab_type": "text"
      },
      "source": [
        "# NLP with Python: Nearest Neighbors Search"
      ]
    },
    {
      "cell_type": "markdown",
      "metadata": {
        "id": "dj63_qAST8-e",
        "colab_type": "text"
      },
      "source": [
        "Source: https://sanjayasubedi.com.np/nlp/nlp-with-python-nearest-neighbor-search/"
      ]
    },
    {
      "cell_type": "code",
      "metadata": {
        "id": "FUM9bIztUB3z",
        "colab_type": "code",
        "colab": {}
      },
      "source": [
        "import numpy as np\n",
        "import pandas as pd"
      ],
      "execution_count": 1,
      "outputs": []
    },
    {
      "cell_type": "markdown",
      "metadata": {
        "id": "l3pR0qALUEro",
        "colab_type": "text"
      },
      "source": [
        "## Introduction"
      ]
    },
    {
      "cell_type": "markdown",
      "metadata": {
        "id": "uiLMzJ4IUUqf",
        "colab_type": "text"
      },
      "source": [
        "Nearest Neighbor search is used to find objects that are similar to each other. The idea is that given an input, NN search finds the objects in our database that are similar to the input. As a simple example, if you had a database of news articles and you want to retrieve news similar to your query then you would perform a nearest neighbors search for you input query against all articles in your database and return top 10 results."
      ]
    },
    {
      "cell_type": "markdown",
      "metadata": {
        "id": "XL8giUXhUVSv",
        "colab_type": "text"
      },
      "source": [
        "## Data Preprocessing"
      ]
    },
    {
      "cell_type": "code",
      "metadata": {
        "id": "4Ur7MvE7UsJ9",
        "colab_type": "code",
        "colab": {
          "base_uri": "https://localhost:8080/",
          "height": 85
        },
        "outputId": "f983dba4-c17e-4cbe-88d1-cd9793b6af24"
      },
      "source": [
        "from sklearn.datasets import fetch_20newsgroups\n",
        "\n",
        "bunch = fetch_20newsgroups(remove=['headers', 'footers'])\n",
        "print(type(bunch))\n",
        "print(bunch.keys())"
      ],
      "execution_count": 2,
      "outputs": [
        {
          "output_type": "stream",
          "text": [
            "Downloading 20news dataset. This may take a few minutes.\n",
            "Downloading dataset from https://ndownloader.figshare.com/files/5975967 (14 MB)\n"
          ],
          "name": "stderr"
        },
        {
          "output_type": "stream",
          "text": [
            "<class 'sklearn.utils.Bunch'>\n",
            "dict_keys(['data', 'filenames', 'target_names', 'target', 'DESCR'])\n"
          ],
          "name": "stdout"
        }
      ]
    },
    {
      "cell_type": "code",
      "metadata": {
        "id": "b2k8-csRVFJr",
        "colab_type": "code",
        "colab": {
          "base_uri": "https://localhost:8080/",
          "height": 136
        },
        "outputId": "6bd91756-b2b0-488a-f77c-bdc4060ed687"
      },
      "source": [
        "print(bunch.data[0])"
      ],
      "execution_count": 3,
      "outputs": [
        {
          "output_type": "stream",
          "text": [
            "I was wondering if anyone out there could enlighten me on this car I saw\n",
            "the other day. It was a 2-door sports car, looked to be from the late 60s/\n",
            "early 70s. It was called a Bricklin. The doors were really small. In addition,\n",
            "the front bumper was separate from the rest of the body. This is \n",
            "all I know. If anyone can tellme a model name, engine specs, years\n",
            "of production, where this car is made, history, or whatever info you\n",
            "have on this funky looking car, please e-mail.\n"
          ],
          "name": "stdout"
        }
      ]
    },
    {
      "cell_type": "code",
      "metadata": {
        "id": "oxiSZYD0VYBI",
        "colab_type": "code",
        "colab": {
          "base_uri": "https://localhost:8080/",
          "height": 34
        },
        "outputId": "412cd14b-4bc4-4790-ea26-c20b9910f86d"
      },
      "source": [
        "from sklearn.feature_extraction.text import TfidfVectorizer\n",
        "vec = TfidfVectorizer(max_features=10000)\n",
        "features = vec.fit_transform(bunch.data)\n",
        "print(features.shape)"
      ],
      "execution_count": 4,
      "outputs": [
        {
          "output_type": "stream",
          "text": [
            "(11314, 10000)\n"
          ],
          "name": "stdout"
        }
      ]
    },
    {
      "cell_type": "markdown",
      "metadata": {
        "id": "PFWLhsVoWed2",
        "colab_type": "text"
      },
      "source": [
        "## Model Training"
      ]
    },
    {
      "cell_type": "code",
      "metadata": {
        "id": "P0CF6FVnWzzD",
        "colab_type": "code",
        "colab": {
          "base_uri": "https://localhost:8080/",
          "height": 68
        },
        "outputId": "293381f5-e146-4629-816d-81880d2d5663"
      },
      "source": [
        "from sklearn.neighbors import NearestNeighbors\n",
        "knn = NearestNeighbors(n_neighbors=10, metric='cosine')\n",
        "knn.fit(features)"
      ],
      "execution_count": 6,
      "outputs": [
        {
          "output_type": "execute_result",
          "data": {
            "text/plain": [
              "NearestNeighbors(algorithm='auto', leaf_size=30, metric='cosine',\n",
              "                 metric_params=None, n_jobs=None, n_neighbors=10, p=2,\n",
              "                 radius=1.0)"
            ]
          },
          "metadata": {
            "tags": []
          },
          "execution_count": 6
        }
      ]
    },
    {
      "cell_type": "markdown",
      "metadata": {
        "id": "SSzEQKx_XUlh",
        "colab_type": "text"
      },
      "source": [
        "## Results"
      ]
    },
    {
      "cell_type": "code",
      "metadata": {
        "id": "AolmQx65Xa8f",
        "colab_type": "code",
        "colab": {
          "base_uri": "https://localhost:8080/",
          "height": 34
        },
        "outputId": "be213184-bd13-4afa-c5eb-0de87b4d3217"
      },
      "source": [
        "knn.kneighbors(features[0], return_distance=False)"
      ],
      "execution_count": 8,
      "outputs": [
        {
          "output_type": "execute_result",
          "data": {
            "text/plain": [
              "array([[   0,  958, 8013, 8266,  659, 5553, 3819, 5282, 2554, 7993]])"
            ]
          },
          "metadata": {
            "tags": []
          },
          "execution_count": 8
        }
      ]
    },
    {
      "cell_type": "code",
      "metadata": {
        "id": "fHwquS-HYZcW",
        "colab_type": "code",
        "colab": {
          "base_uri": "https://localhost:8080/",
          "height": 68
        },
        "outputId": "d59ffe17-9819-425c-e112-17318ef3a71a"
      },
      "source": [
        "knn.kneighbors(features[1], return_distance=True)"
      ],
      "execution_count": 17,
      "outputs": [
        {
          "output_type": "execute_result",
          "data": {
            "text/plain": [
              "(array([[0.        , 0.69439209, 0.74732411, 0.76815797, 0.77770994,\n",
              "         0.77935143, 0.78204508, 0.78326044, 0.82015529, 0.82390838]]),\n",
              " array([[   1, 6399, 9130, 4693, 1270, 5509, 9921, 2116, 5541, 5097]]))"
            ]
          },
          "metadata": {
            "tags": []
          },
          "execution_count": 17
        }
      ]
    },
    {
      "cell_type": "code",
      "metadata": {
        "id": "6hdqgu-yYf6i",
        "colab_type": "code",
        "colab": {}
      },
      "source": [
        "input_texts = [\"any recommendations for good ftp sites?\", \"i need to clean my car\"]\n",
        "input_features = vec.transform(input_texts)"
      ],
      "execution_count": 10,
      "outputs": []
    },
    {
      "cell_type": "code",
      "metadata": {
        "id": "wfE1yuIxZEbk",
        "colab_type": "code",
        "colab": {}
      },
      "source": [
        "D, N = knn.kneighbors(input_features, n_neighbors=2, return_distance=True)"
      ],
      "execution_count": 11,
      "outputs": []
    },
    {
      "cell_type": "code",
      "metadata": {
        "id": "2Fo9ajp4ZSEZ",
        "colab_type": "code",
        "colab": {
          "base_uri": "https://localhost:8080/",
          "height": 1000
        },
        "outputId": "afa08422-c066-4c97-8a2c-bd70cfc0f8c2"
      },
      "source": [
        "for input_text, distances, neighbors in zip(input_texts, D, N):\n",
        "    print('=' * 200)\n",
        "    print('Input Text:\\n' + input_text, '\\n')\n",
        "    for distance, neighbor in zip(distances, neighbors):\n",
        "        print('-' * 200)\n",
        "        print(f\"Distance: {distance:.3f}, Neighbor Index: {neighbor}\", '\\n')\n",
        "        print(bunch.data[neighbor], '\\n\\n\\n')"
      ],
      "execution_count": 26,
      "outputs": [
        {
          "output_type": "stream",
          "text": [
            "========================================================================================================================================================================================================\n",
            "Input Text:\n",
            "any recommendations for good ftp sites? \n",
            "\n",
            "--------------------------------------------------------------------------------------------------------------------------------------------------------------------------------------------------------\n",
            "Distance: 0.512, Neighbor Index: 7665 \n",
            "\n",
            "Hi!\n",
            "\n",
            "I am looking for ftp sites (where there are freewares or sharewares)\n",
            "for Mac. It will help a lot if there are driver source codes in those \n",
            "ftp sites. Any information is appreciated. \n",
            "\n",
            "Thanks in advance. \n",
            "\n",
            "\n",
            "\n",
            "--------------------------------------------------------------------------------------------------------------------------------------------------------------------------------------------------------\n",
            "Distance: 0.587, Neighbor Index: 89 \n",
            "\n",
            "I would like to experiment with the INTEL 8051 family.  Does anyone out  \n",
            "there know of any good FTP sites that might have compiliers, assemblers,  \n",
            "etc.?\n",
            " \n",
            "\n",
            "\n",
            "\n",
            "========================================================================================================================================================================================================\n",
            "Input Text:\n",
            "i need to clean my car \n",
            "\n",
            "--------------------------------------------------------------------------------------------------------------------------------------------------------------------------------------------------------\n",
            "Distance: 0.654, Neighbor Index: 8013 \n",
            "\n",
            "In article <49422@fibercom.COM> rrg@rtp.fibercom.com (Rhonda Gaines) writes:\n",
            ">\n",
            ">I'm planning on purchasing a new car and will be trading in my '90\n",
            ">Mazda MX-6 DX.  I've still got 2 more years to pay on it.  How does\n",
            ">that get taken into account when I purchase my new car?  Does the\n",
            ">dealership pay off my car and add on the amount they had to pay to\n",
            ">the purchase price of the new car?  someone please explain this to\n",
            ">me.\n",
            "\n",
            "If you don't already know it, you should call the bank/credit union/\n",
            "finance company that holds the loan on your present car and get the\n",
            "current payoff cost.\n",
            "\n",
            "If you are trading in your current car on the new car, subtract the\n",
            "payoff amount from the trade-in the dealer is giving you.  (If this\n",
            "turns out to be a negative number, you need to reconsider the deal.)\n",
            "Subtract this difference from the price of the new car.  This is the\n",
            "size of the loan you will need for the new car.\n",
            "\n",
            "The dealer will take care of paying off the loan on your old car out\n",
            "of the money you give them when you pick up your new car.\n",
            "\n",
            "At least that's how it worked for me 5 years ago in Ohio...\n",
            "\n",
            ">\n",
            "> -thanks\n",
            ">  rhonda\n",
            "\n",
            "\n",
            " \n",
            "\n",
            "\n",
            "\n",
            "--------------------------------------------------------------------------------------------------------------------------------------------------------------------------------------------------------\n",
            "Distance: 0.688, Neighbor Index: 7993 \n",
            "\n",
            "I bought a car with a defunct engine, to use for parts\n",
            "for my old but still running version of the same car.\n",
            "\n",
            "The car I bought has good tires.\n",
            "\n",
            "Is there anything in particular that I should do to\n",
            "store the defunct car long-term?  I'd hate to have\n",
            "parts of it go bad.  Someone has told me it's bad\n",
            "for the tires to not move the car once-in-a-while.\n",
            "Is this true?   Do I need some props to take the\n",
            "weight of the tires?\n",
            "\n",
            "Best to reply by mail, I am getting spotty news delivery. \n",
            "\n",
            "\n",
            "\n"
          ],
          "name": "stdout"
        }
      ]
    },
    {
      "cell_type": "code",
      "metadata": {
        "id": "OSrGDjMYcDgF",
        "colab_type": "code",
        "colab": {}
      },
      "source": [
        "def get_response(input_text):\n",
        "    input_list = [input_text]\n",
        "    input_feature = vec.transform(input_list)\n",
        "    D, N = knn.kneighbors(input_feature, n_neighbors=2, return_distance=True)\n",
        "    print('=' * 100)\n",
        "    print(f\"Your Input:\\n{input_text}\\n\\n\")\n",
        "    D = D.reshape(-1)\n",
        "    N = N.reshape(-1)\n",
        "    for distance, neighbor in zip(D, N):\n",
        "        print('-' * 100, '\\n')\n",
        "        print(f\"Distance: {distance}, Neighbor Index: {neighbor}\")\n",
        "        print(bunch.data[neighbor], '\\n\\n')\n",
        "        print('_' * 100)\n",
        "    print('=' * 100)"
      ],
      "execution_count": 68,
      "outputs": []
    },
    {
      "cell_type": "code",
      "metadata": {
        "id": "ORsYetJebc1f",
        "colab_type": "code",
        "colab": {
          "base_uri": "https://localhost:8080/",
          "height": 884
        },
        "outputId": "c8cf2cca-085b-4c8d-f39f-5b85a4bb7582"
      },
      "source": [
        "query = input('What do you want from me? ')\n",
        "get_response(query)"
      ],
      "execution_count": 69,
      "outputs": [
        {
          "output_type": "stream",
          "text": [
            "What do you want from me? I love Sekardayu\n",
            "====================================================================================================\n",
            "Your Input:\n",
            "I love Sekardayu\n",
            "\n",
            "\n",
            "---------------------------------------------------------------------------------------------------- \n",
            "\n",
            "Distance: 0.4477827755240442, Neighbor Index: 7978\n",
            "Above all, love each other deeply, because love covers over a multitude of\n",
            "sins.  \n",
            "\n",
            "\n",
            "____________________________________________________________________________________________________\n",
            "---------------------------------------------------------------------------------------------------- \n",
            "\n",
            "Distance: 0.4596248110541047, Neighbor Index: 4884\n",
            "davem@bnr.ca (Dave Mielke) writes,\n",
            "\n",
            ">  However, God's love is qualified.  The Bible says:\n",
            "> \n",
            ">      The way of the wicked is an abomination unto the LORD:  but he\n",
            ">      loveth him that followeth after righteousness.   Proverbs 15:9\n",
            "> \n",
            ">      For  the LORD knoweth the way of the righteous: but the way of\n",
            ">      the ungodly shall perish.                            Psalm 1:6\n",
            " \n",
            "  \n",
            "I am extremely uncomfortable with this way of phrasing it.  God's love \n",
            "is unconditional, unqualified, unfathomable.  We are capable of \n",
            "rejecting God's love but He never fails to love us.\n",
            "\n",
            "These verses do not show that God's love is qualified but rather that He \n",
            "is opposed to evil.\n",
            "\n",
            "I am uncomfortable with the tract in general because there seems to be \n",
            "an innappropriate emphasis on Hell.  God deserves our love and worship \n",
            "because of who He is.  I do not like the idea of frightening people into \n",
            "accepting Christ.  \n",
            "\n",
            "I see evangelism as combining a way of living that shows God's love with \n",
            "putting into words and explaining that love.  Preaching the Gospel \n",
            "without living the Gospel is no better than being a noisy gong or a \n",
            "clanging cymbal.\n",
            "\n",
            "Here's a question:  How many of you are Christians because you are \n",
            "afraid of going to Hell?  How many are responding to God's love? \n",
            "\n",
            "\n",
            "____________________________________________________________________________________________________\n",
            "====================================================================================================\n"
          ],
          "name": "stdout"
        }
      ]
    }
  ]
}