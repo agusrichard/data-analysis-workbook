{
  "nbformat": 4,
  "nbformat_minor": 0,
  "metadata": {
    "colab": {
      "name": "recommender_system_0.ipynb",
      "provenance": [],
      "collapsed_sections": []
    },
    "kernelspec": {
      "name": "python3",
      "display_name": "Python 3"
    }
  },
  "cells": [
    {
      "cell_type": "markdown",
      "metadata": {
        "id": "2gse3Zk_CZ9Z",
        "colab_type": "text"
      },
      "source": [
        "# Beginner Tutorial: Recommender Systems in Python"
      ]
    },
    {
      "cell_type": "markdown",
      "metadata": {
        "id": "g0BwyGMiJC9y",
        "colab_type": "text"
      },
      "source": [
        "Source: https://www.datacamp.com/community/tutorials/recommender-systems-python\n",
        "\n",
        "Aditya Sharma, May 30th 2020"
      ]
    },
    {
      "cell_type": "markdown",
      "metadata": {
        "id": "Byo669IzJJmg",
        "colab_type": "text"
      },
      "source": [
        "Broadly, recommender systems can be classified into 3 types:\n",
        "\n",
        "- Simple recommenders: offer generalized recommendations to every user, based on movie popularity and/or genre. The basic idea behind this system is that movies that are more popular and critically acclaimed will have a higher probability of being liked by the average audience. An example could be IMDB Top 250.\n",
        "- Content-based recommenders: suggest similar items based on a particular item. This system uses item metadata, such as genre, director, description, actors, etc. for movies, to make these recommendations. The general idea behind these recommender systems is that if a person likes a particular item, he or she will also like an item that is similar to it. And to recommend that, it will make use of the user's past item metadata. A good example could be YouTube, where based on your history, it suggests you new videos that you could potentially watch.\n",
        "- Collaborative filtering engines: these systems are widely used, and they try to predict the rating or preference that a user would give an item-based on past ratings and preferences of other users. Collaborative filters do not require item metadata like its content-based counterparts."
      ]
    },
    {
      "cell_type": "markdown",
      "metadata": {
        "id": "Sg96p3F1zqXU",
        "colab_type": "text"
      },
      "source": [
        "---"
      ]
    },
    {
      "cell_type": "markdown",
      "metadata": {
        "id": "T29yphwyzrEl",
        "colab_type": "text"
      },
      "source": [
        "## Simple Recommenders"
      ]
    },
    {
      "cell_type": "markdown",
      "metadata": {
        "id": "aX6aKgRmzshZ",
        "colab_type": "text"
      },
      "source": [
        "Simple recommenders are basic systems that recommend the top items based on a certain metric or score. In this section, you will build a simplified clone of IMDB Top 250 Movies using metadata collected from IMDB."
      ]
    },
    {
      "cell_type": "markdown",
      "metadata": {
        "id": "tiyN8pC8zwAC",
        "colab_type": "text"
      },
      "source": [
        "The following are the steps involved:\n",
        "\n",
        "- Decide on the metric or score to rate movies on.\n",
        "\n",
        "- Calculate the score for every movie.\n",
        "\n",
        "- Sort the movies based on the score and output the top results."
      ]
    },
    {
      "cell_type": "code",
      "metadata": {
        "id": "ePcmVBEL2SvV",
        "colab_type": "code",
        "colab": {
          "base_uri": "https://localhost:8080/",
          "height": 34
        },
        "outputId": "fc072533-b4c4-485d-bfb7-f9b0f0a1f96b"
      },
      "source": [
        "# Let's make sure the kaggle.json file is present.\n",
        "!ls -lha kaggle.json"
      ],
      "execution_count": 1,
      "outputs": [
        {
          "output_type": "stream",
          "text": [
            "-rw-r--r-- 1 root root 67 Jul 30 13:10 kaggle.json\n"
          ],
          "name": "stdout"
        }
      ]
    },
    {
      "cell_type": "code",
      "metadata": {
        "id": "4Kx3yPp52S8e",
        "colab_type": "code",
        "colab": {}
      },
      "source": [
        "# Next, install the Kaggle API client.\n",
        "!pip install -q kaggle"
      ],
      "execution_count": 2,
      "outputs": []
    },
    {
      "cell_type": "code",
      "metadata": {
        "id": "FP8nBbNM2WHX",
        "colab_type": "code",
        "colab": {}
      },
      "source": [
        "# The Kaggle API client expects this file to be in ~/.kaggle,\n",
        "# so move it there.\n",
        "!mkdir -p ~/.kaggle\n",
        "!cp kaggle.json ~/.kaggle/\n",
        "\n",
        "# This permissions change avoids a warning on Kaggle tool startup.\n",
        "!chmod 600 ~/.kaggle/kaggle.json"
      ],
      "execution_count": 3,
      "outputs": []
    },
    {
      "cell_type": "code",
      "metadata": {
        "id": "zzc2tCbd2ZLQ",
        "colab_type": "code",
        "colab": {
          "base_uri": "https://localhost:8080/",
          "height": 54
        },
        "outputId": "cfb790d1-7ccb-47e0-cfaf-7bbfc7e3d8d5"
      },
      "source": [
        "# Copy the movies data set locally.\n",
        "!kaggle datasets download -d rounakbanik/the-movies-dataset"
      ],
      "execution_count": 4,
      "outputs": [
        {
          "output_type": "stream",
          "text": [
            "the-movies-dataset.zip: Skipping, found more recently modified local copy (use --force to force download)\n"
          ],
          "name": "stdout"
        }
      ]
    },
    {
      "cell_type": "code",
      "metadata": {
        "id": "KL1GehYP2qLk",
        "colab_type": "code",
        "colab": {}
      },
      "source": [
        "import zipfile\n",
        "with zipfile.ZipFile('/content/the-movies-dataset.zip', 'r') as zip_ref:\n",
        "    zip_ref.extractall('/content/the-movies-dataset')"
      ],
      "execution_count": 5,
      "outputs": []
    },
    {
      "cell_type": "code",
      "metadata": {
        "id": "fd4lFXT728PK",
        "colab_type": "code",
        "colab": {
          "base_uri": "https://localhost:8080/",
          "height": 434
        },
        "outputId": "29b0ef4c-843e-4b92-9bf1-57b25315d752"
      },
      "source": [
        "import pandas as pd\n",
        "\n",
        "metadata = pd.read_csv('./the-movies-dataset/movies_metadata.csv', low_memory=False)\n",
        "\n",
        "metadata.head(3)"
      ],
      "execution_count": 6,
      "outputs": [
        {
          "output_type": "execute_result",
          "data": {
            "text/html": [
              "<div>\n",
              "<style scoped>\n",
              "    .dataframe tbody tr th:only-of-type {\n",
              "        vertical-align: middle;\n",
              "    }\n",
              "\n",
              "    .dataframe tbody tr th {\n",
              "        vertical-align: top;\n",
              "    }\n",
              "\n",
              "    .dataframe thead th {\n",
              "        text-align: right;\n",
              "    }\n",
              "</style>\n",
              "<table border=\"1\" class=\"dataframe\">\n",
              "  <thead>\n",
              "    <tr style=\"text-align: right;\">\n",
              "      <th></th>\n",
              "      <th>adult</th>\n",
              "      <th>belongs_to_collection</th>\n",
              "      <th>budget</th>\n",
              "      <th>genres</th>\n",
              "      <th>homepage</th>\n",
              "      <th>id</th>\n",
              "      <th>imdb_id</th>\n",
              "      <th>original_language</th>\n",
              "      <th>original_title</th>\n",
              "      <th>overview</th>\n",
              "      <th>popularity</th>\n",
              "      <th>poster_path</th>\n",
              "      <th>production_companies</th>\n",
              "      <th>production_countries</th>\n",
              "      <th>release_date</th>\n",
              "      <th>revenue</th>\n",
              "      <th>runtime</th>\n",
              "      <th>spoken_languages</th>\n",
              "      <th>status</th>\n",
              "      <th>tagline</th>\n",
              "      <th>title</th>\n",
              "      <th>video</th>\n",
              "      <th>vote_average</th>\n",
              "      <th>vote_count</th>\n",
              "    </tr>\n",
              "  </thead>\n",
              "  <tbody>\n",
              "    <tr>\n",
              "      <th>0</th>\n",
              "      <td>False</td>\n",
              "      <td>{'id': 10194, 'name': 'Toy Story Collection', ...</td>\n",
              "      <td>30000000</td>\n",
              "      <td>[{'id': 16, 'name': 'Animation'}, {'id': 35, '...</td>\n",
              "      <td>http://toystory.disney.com/toy-story</td>\n",
              "      <td>862</td>\n",
              "      <td>tt0114709</td>\n",
              "      <td>en</td>\n",
              "      <td>Toy Story</td>\n",
              "      <td>Led by Woody, Andy's toys live happily in his ...</td>\n",
              "      <td>21.946943</td>\n",
              "      <td>/rhIRbceoE9lR4veEXuwCC2wARtG.jpg</td>\n",
              "      <td>[{'name': 'Pixar Animation Studios', 'id': 3}]</td>\n",
              "      <td>[{'iso_3166_1': 'US', 'name': 'United States o...</td>\n",
              "      <td>1995-10-30</td>\n",
              "      <td>373554033.0</td>\n",
              "      <td>81.0</td>\n",
              "      <td>[{'iso_639_1': 'en', 'name': 'English'}]</td>\n",
              "      <td>Released</td>\n",
              "      <td>NaN</td>\n",
              "      <td>Toy Story</td>\n",
              "      <td>False</td>\n",
              "      <td>7.7</td>\n",
              "      <td>5415.0</td>\n",
              "    </tr>\n",
              "    <tr>\n",
              "      <th>1</th>\n",
              "      <td>False</td>\n",
              "      <td>NaN</td>\n",
              "      <td>65000000</td>\n",
              "      <td>[{'id': 12, 'name': 'Adventure'}, {'id': 14, '...</td>\n",
              "      <td>NaN</td>\n",
              "      <td>8844</td>\n",
              "      <td>tt0113497</td>\n",
              "      <td>en</td>\n",
              "      <td>Jumanji</td>\n",
              "      <td>When siblings Judy and Peter discover an encha...</td>\n",
              "      <td>17.015539</td>\n",
              "      <td>/vzmL6fP7aPKNKPRTFnZmiUfciyV.jpg</td>\n",
              "      <td>[{'name': 'TriStar Pictures', 'id': 559}, {'na...</td>\n",
              "      <td>[{'iso_3166_1': 'US', 'name': 'United States o...</td>\n",
              "      <td>1995-12-15</td>\n",
              "      <td>262797249.0</td>\n",
              "      <td>104.0</td>\n",
              "      <td>[{'iso_639_1': 'en', 'name': 'English'}, {'iso...</td>\n",
              "      <td>Released</td>\n",
              "      <td>Roll the dice and unleash the excitement!</td>\n",
              "      <td>Jumanji</td>\n",
              "      <td>False</td>\n",
              "      <td>6.9</td>\n",
              "      <td>2413.0</td>\n",
              "    </tr>\n",
              "    <tr>\n",
              "      <th>2</th>\n",
              "      <td>False</td>\n",
              "      <td>{'id': 119050, 'name': 'Grumpy Old Men Collect...</td>\n",
              "      <td>0</td>\n",
              "      <td>[{'id': 10749, 'name': 'Romance'}, {'id': 35, ...</td>\n",
              "      <td>NaN</td>\n",
              "      <td>15602</td>\n",
              "      <td>tt0113228</td>\n",
              "      <td>en</td>\n",
              "      <td>Grumpier Old Men</td>\n",
              "      <td>A family wedding reignites the ancient feud be...</td>\n",
              "      <td>11.7129</td>\n",
              "      <td>/6ksm1sjKMFLbO7UY2i6G1ju9SML.jpg</td>\n",
              "      <td>[{'name': 'Warner Bros.', 'id': 6194}, {'name'...</td>\n",
              "      <td>[{'iso_3166_1': 'US', 'name': 'United States o...</td>\n",
              "      <td>1995-12-22</td>\n",
              "      <td>0.0</td>\n",
              "      <td>101.0</td>\n",
              "      <td>[{'iso_639_1': 'en', 'name': 'English'}]</td>\n",
              "      <td>Released</td>\n",
              "      <td>Still Yelling. Still Fighting. Still Ready for...</td>\n",
              "      <td>Grumpier Old Men</td>\n",
              "      <td>False</td>\n",
              "      <td>6.5</td>\n",
              "      <td>92.0</td>\n",
              "    </tr>\n",
              "  </tbody>\n",
              "</table>\n",
              "</div>"
            ],
            "text/plain": [
              "   adult  ... vote_count\n",
              "0  False  ...     5415.0\n",
              "1  False  ...     2413.0\n",
              "2  False  ...       92.0\n",
              "\n",
              "[3 rows x 24 columns]"
            ]
          },
          "metadata": {
            "tags": []
          },
          "execution_count": 6
        }
      ]
    },
    {
      "cell_type": "markdown",
      "metadata": {
        "id": "lMLpYerd3OP7",
        "colab_type": "text"
      },
      "source": [
        "However, using a rating as a metric has a few caveats:"
      ]
    },
    {
      "cell_type": "markdown",
      "metadata": {
        "id": "zwSBOAvC4AkD",
        "colab_type": "text"
      },
      "source": [
        "- For one, it does not take into consideration the popularity of a movie. Therefore, a movie with a rating of 9 from 10 voters will be considered 'better' than a movie with a rating of 8.9 from 10,000 voters.\n",
        "\n",
        "    For example, imagine you want to order Chinese food, you have a couple of options, one restaurant has a 5-star rating by only 5 people while the other restaurant has 4.5 ratings by 1000 people. Which restaurant would you prefer? The second one, right?\n",
        "\n",
        "    Of course, there could be an exception that the first restaurant opened just a few days ago; hence, fewer people voted for it while, on the contrary, the second restaurant is operational for a year.\n",
        "\n",
        "- On a related note, this metric will also tend to favor movies with a smaller number of voters with skewed and/or extremely high ratings. As the number of voters increases, the rating of a movie regularizes and approaches towards a value that is reflective of the movie's quality and gives the user a much better idea as to which movie he/she should choose. While it is difficult to discern the quality of a movie with extremely few voters, you might have to consider external sources to conclude."
      ]
    },
    {
      "cell_type": "markdown",
      "metadata": {
        "id": "GiNoP3L_4B2R",
        "colab_type": "text"
      },
      "source": [
        "Taking these shortcomings into consideration, you must come up with a weighted rating that takes into account the average rating and the number of votes it has accumulated. Such a system will make sure that a movie with a 9 rating from 100,000 voters gets a (far) higher score than a movie with the same rating but a mere few hundred voters."
      ]
    },
    {
      "cell_type": "markdown",
      "metadata": {
        "id": "x9i6AnAe4cmy",
        "colab_type": "text"
      },
      "source": [
        "$$ \n",
        "\\begin{equation}\n",
        "\\text Weighted Rating (\\bf WR) = \\left({{\\bf v} \\over {\\bf v} + {\\bf m}} \\cdot R\\right) + \\left({{\\bf m} \\over {\\bf v} + {\\bf m}} \\cdot C\\right)\n",
        "\\end{equation}\n",
        "$$"
      ]
    },
    {
      "cell_type": "markdown",
      "metadata": {
        "id": "3Az3-n6C4mFc",
        "colab_type": "text"
      },
      "source": [
        "In the above equation,\n",
        "\n",
        "v is the number of votes for the movie;\n",
        "\n",
        "m is the minimum votes required to be listed in the chart;\n",
        "\n",
        "R is the average rating of the movie;\n",
        "\n",
        "C is the mean vote across the whole report."
      ]
    },
    {
      "cell_type": "markdown",
      "metadata": {
        "id": "uixs2IYn6zwH",
        "colab_type": "text"
      },
      "source": [
        "Determining an appropriate value for m is a hyperparameter that you can choose accordingly since there is no right value for m. You can consider it as a preliminary negative filter that will simply remove the movies which have a number of votes less than a certain threshold m. The selectivity of your filter is up to your discretion."
      ]
    },
    {
      "cell_type": "markdown",
      "metadata": {
        "id": "Ig9SPxna68Rt",
        "colab_type": "text"
      },
      "source": [
        "In this tutorial, you will use cutoff m as the 90th percentile. In other words, for a movie to be featured in the charts, it must have more votes than at least 90% of the movies on the list. (On the other hand, if you had chosen the 75th percentile, you would have considered the top 25% of the movies in terms of the number of votes garnered. As percentile decreases, the number of movies considered will increase)."
      ]
    },
    {
      "cell_type": "code",
      "metadata": {
        "id": "SrPs5Za67DjY",
        "colab_type": "code",
        "colab": {
          "base_uri": "https://localhost:8080/",
          "height": 34
        },
        "outputId": "d81a37a3-8cdb-4282-f7df-20b0124c8db6"
      },
      "source": [
        "C = metadata['vote_average'].mean()\n",
        "print(C)"
      ],
      "execution_count": 7,
      "outputs": [
        {
          "output_type": "stream",
          "text": [
            "5.618207215133889\n"
          ],
          "name": "stdout"
        }
      ]
    },
    {
      "cell_type": "code",
      "metadata": {
        "id": "8vzGiSFC7HPT",
        "colab_type": "code",
        "colab": {
          "base_uri": "https://localhost:8080/",
          "height": 34
        },
        "outputId": "770ac262-052b-4350-afc5-6f23de524507"
      },
      "source": [
        "m = metadata['vote_count'].quantile(0.9)\n",
        "m"
      ],
      "execution_count": 8,
      "outputs": [
        {
          "output_type": "execute_result",
          "data": {
            "text/plain": [
              "160.0"
            ]
          },
          "metadata": {
            "tags": []
          },
          "execution_count": 8
        }
      ]
    },
    {
      "cell_type": "code",
      "metadata": {
        "id": "R5UXipIv7Ru_",
        "colab_type": "code",
        "colab": {
          "base_uri": "https://localhost:8080/",
          "height": 34
        },
        "outputId": "377327ab-68cc-4286-a910-eae12eda8aaf"
      },
      "source": [
        "# Just take the qualified data points\n",
        "q_movies = metadata.copy().loc[metadata['vote_count'] >= m]\n",
        "q_movies.shape"
      ],
      "execution_count": 9,
      "outputs": [
        {
          "output_type": "execute_result",
          "data": {
            "text/plain": [
              "(4555, 24)"
            ]
          },
          "metadata": {
            "tags": []
          },
          "execution_count": 9
        }
      ]
    },
    {
      "cell_type": "markdown",
      "metadata": {
        "id": "xMwcZV9472hw",
        "colab_type": "text"
      },
      "source": [
        "Next and the most important step is to calculate the weighted rating for each qualified movie. To do this, you will:\n",
        "\n",
        "- Define a function, weighted_rating();\n",
        "- Since you already have calculated m and C you will simply pass them as an argument to the function;\n",
        "- Then you will select the vote_count(v) and vote_average(R) column from the q_movies data frame;\n",
        "- Finally, you will compute the weighted average and return the result."
      ]
    },
    {
      "cell_type": "code",
      "metadata": {
        "id": "OKE-Goyy8AAz",
        "colab_type": "code",
        "colab": {}
      },
      "source": [
        "def weighted_rating(x, m=m, C=C):\n",
        "    v = x['vote_count']\n",
        "    R = x['vote_average']\n",
        "    return (v / (v + m) * R) + (m / (m + v) * C)"
      ],
      "execution_count": 10,
      "outputs": []
    },
    {
      "cell_type": "code",
      "metadata": {
        "id": "1eCciePt9ETk",
        "colab_type": "code",
        "colab": {}
      },
      "source": [
        "q_movies['score'] = q_movies.apply(weighted_rating, axis=1)"
      ],
      "execution_count": 11,
      "outputs": []
    },
    {
      "cell_type": "code",
      "metadata": {
        "id": "5CITIpAD9Jtt",
        "colab_type": "code",
        "colab": {
          "base_uri": "https://localhost:8080/",
          "height": 119
        },
        "outputId": "2062d677-69a9-4220-ea84-4db0414b5709"
      },
      "source": [
        "q_movies['score'].head()"
      ],
      "execution_count": 12,
      "outputs": [
        {
          "output_type": "execute_result",
          "data": {
            "text/plain": [
              "0    7.640253\n",
              "1    6.820293\n",
              "4    5.660700\n",
              "5    7.537201\n",
              "8    5.556626\n",
              "Name: score, dtype: float64"
            ]
          },
          "metadata": {
            "tags": []
          },
          "execution_count": 12
        }
      ]
    },
    {
      "cell_type": "code",
      "metadata": {
        "id": "VZ2CkpHl9QVR",
        "colab_type": "code",
        "colab": {
          "base_uri": "https://localhost:8080/",
          "height": 669
        },
        "outputId": "6b7ff645-53c2-4753-cebe-8fe42255fe82"
      },
      "source": [
        "#Sort movies based on score calculated above\n",
        "q_movies = q_movies.sort_values('score', ascending=False)\n",
        "\n",
        "#Print the top 15 movies\n",
        "q_movies[['title', 'vote_count', 'vote_average', 'score']].head(20)"
      ],
      "execution_count": 13,
      "outputs": [
        {
          "output_type": "execute_result",
          "data": {
            "text/html": [
              "<div>\n",
              "<style scoped>\n",
              "    .dataframe tbody tr th:only-of-type {\n",
              "        vertical-align: middle;\n",
              "    }\n",
              "\n",
              "    .dataframe tbody tr th {\n",
              "        vertical-align: top;\n",
              "    }\n",
              "\n",
              "    .dataframe thead th {\n",
              "        text-align: right;\n",
              "    }\n",
              "</style>\n",
              "<table border=\"1\" class=\"dataframe\">\n",
              "  <thead>\n",
              "    <tr style=\"text-align: right;\">\n",
              "      <th></th>\n",
              "      <th>title</th>\n",
              "      <th>vote_count</th>\n",
              "      <th>vote_average</th>\n",
              "      <th>score</th>\n",
              "    </tr>\n",
              "  </thead>\n",
              "  <tbody>\n",
              "    <tr>\n",
              "      <th>314</th>\n",
              "      <td>The Shawshank Redemption</td>\n",
              "      <td>8358.0</td>\n",
              "      <td>8.5</td>\n",
              "      <td>8.445869</td>\n",
              "    </tr>\n",
              "    <tr>\n",
              "      <th>834</th>\n",
              "      <td>The Godfather</td>\n",
              "      <td>6024.0</td>\n",
              "      <td>8.5</td>\n",
              "      <td>8.425439</td>\n",
              "    </tr>\n",
              "    <tr>\n",
              "      <th>10309</th>\n",
              "      <td>Dilwale Dulhania Le Jayenge</td>\n",
              "      <td>661.0</td>\n",
              "      <td>9.1</td>\n",
              "      <td>8.421453</td>\n",
              "    </tr>\n",
              "    <tr>\n",
              "      <th>12481</th>\n",
              "      <td>The Dark Knight</td>\n",
              "      <td>12269.0</td>\n",
              "      <td>8.3</td>\n",
              "      <td>8.265477</td>\n",
              "    </tr>\n",
              "    <tr>\n",
              "      <th>2843</th>\n",
              "      <td>Fight Club</td>\n",
              "      <td>9678.0</td>\n",
              "      <td>8.3</td>\n",
              "      <td>8.256385</td>\n",
              "    </tr>\n",
              "    <tr>\n",
              "      <th>292</th>\n",
              "      <td>Pulp Fiction</td>\n",
              "      <td>8670.0</td>\n",
              "      <td>8.3</td>\n",
              "      <td>8.251406</td>\n",
              "    </tr>\n",
              "    <tr>\n",
              "      <th>522</th>\n",
              "      <td>Schindler's List</td>\n",
              "      <td>4436.0</td>\n",
              "      <td>8.3</td>\n",
              "      <td>8.206639</td>\n",
              "    </tr>\n",
              "    <tr>\n",
              "      <th>23673</th>\n",
              "      <td>Whiplash</td>\n",
              "      <td>4376.0</td>\n",
              "      <td>8.3</td>\n",
              "      <td>8.205404</td>\n",
              "    </tr>\n",
              "    <tr>\n",
              "      <th>5481</th>\n",
              "      <td>Spirited Away</td>\n",
              "      <td>3968.0</td>\n",
              "      <td>8.3</td>\n",
              "      <td>8.196055</td>\n",
              "    </tr>\n",
              "    <tr>\n",
              "      <th>2211</th>\n",
              "      <td>Life Is Beautiful</td>\n",
              "      <td>3643.0</td>\n",
              "      <td>8.3</td>\n",
              "      <td>8.187171</td>\n",
              "    </tr>\n",
              "    <tr>\n",
              "      <th>1178</th>\n",
              "      <td>The Godfather: Part II</td>\n",
              "      <td>3418.0</td>\n",
              "      <td>8.3</td>\n",
              "      <td>8.180076</td>\n",
              "    </tr>\n",
              "    <tr>\n",
              "      <th>1152</th>\n",
              "      <td>One Flew Over the Cuckoo's Nest</td>\n",
              "      <td>3001.0</td>\n",
              "      <td>8.3</td>\n",
              "      <td>8.164256</td>\n",
              "    </tr>\n",
              "    <tr>\n",
              "      <th>351</th>\n",
              "      <td>Forrest Gump</td>\n",
              "      <td>8147.0</td>\n",
              "      <td>8.2</td>\n",
              "      <td>8.150272</td>\n",
              "    </tr>\n",
              "    <tr>\n",
              "      <th>1154</th>\n",
              "      <td>The Empire Strikes Back</td>\n",
              "      <td>5998.0</td>\n",
              "      <td>8.2</td>\n",
              "      <td>8.132919</td>\n",
              "    </tr>\n",
              "    <tr>\n",
              "      <th>1176</th>\n",
              "      <td>Psycho</td>\n",
              "      <td>2405.0</td>\n",
              "      <td>8.3</td>\n",
              "      <td>8.132715</td>\n",
              "    </tr>\n",
              "    <tr>\n",
              "      <th>18465</th>\n",
              "      <td>The Intouchables</td>\n",
              "      <td>5410.0</td>\n",
              "      <td>8.2</td>\n",
              "      <td>8.125837</td>\n",
              "    </tr>\n",
              "    <tr>\n",
              "      <th>40251</th>\n",
              "      <td>Your Name.</td>\n",
              "      <td>1030.0</td>\n",
              "      <td>8.5</td>\n",
              "      <td>8.112532</td>\n",
              "    </tr>\n",
              "    <tr>\n",
              "      <th>289</th>\n",
              "      <td>Leon: The Professional</td>\n",
              "      <td>4293.0</td>\n",
              "      <td>8.2</td>\n",
              "      <td>8.107234</td>\n",
              "    </tr>\n",
              "    <tr>\n",
              "      <th>3030</th>\n",
              "      <td>The Green Mile</td>\n",
              "      <td>4166.0</td>\n",
              "      <td>8.2</td>\n",
              "      <td>8.104511</td>\n",
              "    </tr>\n",
              "    <tr>\n",
              "      <th>1170</th>\n",
              "      <td>GoodFellas</td>\n",
              "      <td>3211.0</td>\n",
              "      <td>8.2</td>\n",
              "      <td>8.077459</td>\n",
              "    </tr>\n",
              "  </tbody>\n",
              "</table>\n",
              "</div>"
            ],
            "text/plain": [
              "                                 title  vote_count  vote_average     score\n",
              "314           The Shawshank Redemption      8358.0           8.5  8.445869\n",
              "834                      The Godfather      6024.0           8.5  8.425439\n",
              "10309      Dilwale Dulhania Le Jayenge       661.0           9.1  8.421453\n",
              "12481                  The Dark Knight     12269.0           8.3  8.265477\n",
              "2843                        Fight Club      9678.0           8.3  8.256385\n",
              "292                       Pulp Fiction      8670.0           8.3  8.251406\n",
              "522                   Schindler's List      4436.0           8.3  8.206639\n",
              "23673                         Whiplash      4376.0           8.3  8.205404\n",
              "5481                     Spirited Away      3968.0           8.3  8.196055\n",
              "2211                 Life Is Beautiful      3643.0           8.3  8.187171\n",
              "1178            The Godfather: Part II      3418.0           8.3  8.180076\n",
              "1152   One Flew Over the Cuckoo's Nest      3001.0           8.3  8.164256\n",
              "351                       Forrest Gump      8147.0           8.2  8.150272\n",
              "1154           The Empire Strikes Back      5998.0           8.2  8.132919\n",
              "1176                            Psycho      2405.0           8.3  8.132715\n",
              "18465                 The Intouchables      5410.0           8.2  8.125837\n",
              "40251                       Your Name.      1030.0           8.5  8.112532\n",
              "289             Leon: The Professional      4293.0           8.2  8.107234\n",
              "3030                    The Green Mile      4166.0           8.2  8.104511\n",
              "1170                        GoodFellas      3211.0           8.2  8.077459"
            ]
          },
          "metadata": {
            "tags": []
          },
          "execution_count": 13
        }
      ]
    },
    {
      "cell_type": "markdown",
      "metadata": {
        "id": "tw3fXBcj9XtU",
        "colab_type": "text"
      },
      "source": [
        "## Content Based Recommender"
      ]
    },
    {
      "cell_type": "markdown",
      "metadata": {
        "id": "Mss71Wh19pRV",
        "colab_type": "text"
      },
      "source": [
        "### Plot Description Based Recommender"
      ]
    },
    {
      "cell_type": "code",
      "metadata": {
        "id": "ga8hpKjs99F6",
        "colab_type": "code",
        "colab": {
          "base_uri": "https://localhost:8080/",
          "height": 85
        },
        "outputId": "f7c3130b-3849-46ee-f1fa-e03d827511ef"
      },
      "source": [
        "metadata['overview'].head(3)"
      ],
      "execution_count": 14,
      "outputs": [
        {
          "output_type": "execute_result",
          "data": {
            "text/plain": [
              "0    Led by Woody, Andy's toys live happily in his ...\n",
              "1    When siblings Judy and Peter discover an encha...\n",
              "2    A family wedding reignites the ancient feud be...\n",
              "Name: overview, dtype: object"
            ]
          },
          "metadata": {
            "tags": []
          },
          "execution_count": 14
        }
      ]
    },
    {
      "cell_type": "markdown",
      "metadata": {
        "id": "4gO1Yf6w-IO6",
        "colab_type": "text"
      },
      "source": [
        "The problem at hand is a Natural Language Processing problem. Hence you need to extract some kind of features from the above text data before you can compute the similarity and/or dissimilarity between them. To put it simply, it is not possible to compute the similarity between any two overviews in their raw forms. To do this, you need to compute the word vectors of each overview or document, as it will be called from now on."
      ]
    },
    {
      "cell_type": "markdown",
      "metadata": {
        "id": "w3zBg6ar-Rsa",
        "colab_type": "text"
      },
      "source": [
        "You will compute Term Frequency-Inverse Document Frequency (TF-IDF) vectors for each document. This will give you a matrix where each column represents a word in the overview vocabulary (all the words that appear in at least one document), and each column represents a movie, as before.\n",
        "\n",
        "In its essence, the TF-IDF score is the frequency of a word occurring in a document, down-weighted by the number of documents in which it occurs. This is done to reduce the importance of words that frequently occur in plot overviews and, therefore, their significance in computing the final similarity score."
      ]
    },
    {
      "cell_type": "code",
      "metadata": {
        "id": "MjtqpCRT--JM",
        "colab_type": "code",
        "colab": {}
      },
      "source": [
        "from sklearn.feature_extraction.text import TfidfVectorizer\n",
        "\n",
        "tfidf = TfidfVectorizer(stop_words='english')\n",
        "\n",
        "# Replace NaN with an empty string\n",
        "metadata['overview'] = metadata['overview'].fillna('')\n",
        "\n",
        "# Vectorizing\n",
        "tfidf_matrix = tfidf.fit_transform(metadata['overview'])"
      ],
      "execution_count": 15,
      "outputs": []
    },
    {
      "cell_type": "code",
      "metadata": {
        "id": "taaPWCg9_aVG",
        "colab_type": "code",
        "colab": {
          "base_uri": "https://localhost:8080/",
          "height": 34
        },
        "outputId": "a4c430a6-10f7-467d-d758-94d961eef525"
      },
      "source": [
        "tfidf_matrix.shape"
      ],
      "execution_count": 16,
      "outputs": [
        {
          "output_type": "execute_result",
          "data": {
            "text/plain": [
              "(45466, 75827)"
            ]
          },
          "metadata": {
            "tags": []
          },
          "execution_count": 16
        }
      ]
    },
    {
      "cell_type": "markdown",
      "metadata": {
        "id": "11sKMJ24_dMP",
        "colab_type": "text"
      },
      "source": [
        "With this matrix in hand, you can now compute a similarity score. There are several similarity metrics that you can use for this, such as the manhattan, euclidean, the Pearson, and the cosine similarity scores. Again, there is no right answer to which score is the best. Different scores work well in different scenarios, and it is often a good idea to experiment with different metrics and observe the results."
      ]
    },
    {
      "cell_type": "markdown",
      "metadata": {
        "id": "p5iedtHQ_mW-",
        "colab_type": "text"
      },
      "source": [
        "You will be using the cosine similarity to calculate a numeric quantity that denotes the similarity between two movies. You use the cosine similarity score since it is independent of magnitude and is relatively easy and fast to calculate (especially when used in conjunction with TF-IDF scores, which will be explained later). Mathematically, it is defined as follows:"
      ]
    },
    {
      "cell_type": "markdown",
      "metadata": {
        "id": "ll5l_9F3_zC3",
        "colab_type": "text"
      },
      "source": [
        "![image.png](data:image/png;base64,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)"
      ]
    },
    {
      "cell_type": "markdown",
      "metadata": {
        "id": "2MqQx8EUAy0g",
        "colab_type": "text"
      },
      "source": [
        "### Credits, Genres, and Keywords Based Recommender"
      ]
    },
    {
      "cell_type": "markdown",
      "metadata": {
        "id": "9SGkIfDTA1a9",
        "colab_type": "text"
      },
      "source": [
        "The quality of your recommender would be increased with the usage of better metadata and by capturing more of the finer details. That is precisely what you are going to do in this section. You will build a recommender system based on the following metadata: the 3 top actors, the director, related genres, and the movie plot keywords."
      ]
    },
    {
      "cell_type": "markdown",
      "metadata": {
        "id": "Az28k01FA8bL",
        "colab_type": "text"
      },
      "source": [
        "The keywords, cast, and crew data are not available in your current dataset, so the first step would be to load and merge them into your main DataFrame metadata."
      ]
    },
    {
      "cell_type": "code",
      "metadata": {
        "id": "6sciP1ZvBAfr",
        "colab_type": "code",
        "colab": {}
      },
      "source": [
        "credits = pd.read_csv('./the-movies-dataset/credits.csv')\n",
        "keywords = pd.read_csv('./the-movies-dataset/keywords.csv')"
      ],
      "execution_count": 17,
      "outputs": []
    },
    {
      "cell_type": "code",
      "metadata": {
        "id": "IYmjpu1aBR5f",
        "colab_type": "code",
        "colab": {}
      },
      "source": [
        "# Remove rows with bad IDs.\n",
        "metadata = metadata.drop([19730, 29503, 35587])\n",
        "\n",
        "# Convert IDs to int. Required for merging\n",
        "keywords['id'] = keywords['id'].astype('int')\n",
        "credits['id'] = credits['id'].astype('int')\n",
        "metadata['id'] = metadata['id'].astype('int')\n",
        "\n",
        "# Merge keywords and credits into your main metadata dataframe\n",
        "metadata = metadata.merge(credits, on='id')\n",
        "metadata = metadata.merge(keywords, on='id')"
      ],
      "execution_count": 18,
      "outputs": []
    },
    {
      "cell_type": "code",
      "metadata": {
        "id": "1aOasA1CBgz7",
        "colab_type": "code",
        "colab": {}
      },
      "source": [
        "# Parse the stringified features into their corresponding python objects\n",
        "from ast import literal_eval\n",
        "\n",
        "features = ['cast', 'crew', 'keywords', 'genres']\n",
        "for feature in features:\n",
        "    metadata[feature] = metadata[feature].apply(literal_eval)"
      ],
      "execution_count": 21,
      "outputs": []
    },
    {
      "cell_type": "code",
      "metadata": {
        "id": "P2oik0bPW5o8",
        "colab_type": "code",
        "colab": {}
      },
      "source": [
        "# Import Numpy\n",
        "import numpy as np"
      ],
      "execution_count": 22,
      "outputs": []
    },
    {
      "cell_type": "code",
      "metadata": {
        "id": "l72B_pYyW7Ac",
        "colab_type": "code",
        "colab": {}
      },
      "source": [
        "def get_director(x):\n",
        "    for i in x:\n",
        "        if i['job'] == 'Director':\n",
        "            return i['name']\n",
        "    return np.nan"
      ],
      "execution_count": 23,
      "outputs": []
    },
    {
      "cell_type": "code",
      "metadata": {
        "id": "OftSIV-aW8Sd",
        "colab_type": "code",
        "colab": {}
      },
      "source": [
        "def get_list(x):\n",
        "    if isinstance(x, list):\n",
        "        names = [i['name'] for i in x]\n",
        "        #Check if more than 3 elements exist. If yes, return only first three. If no, return entire list.\n",
        "        if len(names) > 3:\n",
        "            names = names[:3]\n",
        "        return names\n",
        "\n",
        "    #Return empty list in case of missing/malformed data\n",
        "    return []"
      ],
      "execution_count": 24,
      "outputs": []
    },
    {
      "cell_type": "code",
      "metadata": {
        "id": "9mriSVoiW_CK",
        "colab_type": "code",
        "colab": {}
      },
      "source": [
        "# Define new director, cast, genres and keywords features that are in a suitable form.\n",
        "metadata['director'] = metadata['crew'].apply(get_director)\n",
        "\n",
        "features = ['cast', 'keywords', 'genres']\n",
        "for feature in features:\n",
        "    metadata[feature] = metadata[feature].apply(get_list)"
      ],
      "execution_count": 25,
      "outputs": []
    },
    {
      "cell_type": "code",
      "metadata": {
        "id": "e7ZTT7BFXC4u",
        "colab_type": "code",
        "colab": {
          "base_uri": "https://localhost:8080/",
          "height": 142
        },
        "outputId": "f09ef4e1-2218-4cdd-e598-1d00f1fd8228"
      },
      "source": [
        "# Print the new features of the first 3 films\n",
        "metadata[['title', 'cast', 'director', 'keywords', 'genres']].head(3)"
      ],
      "execution_count": 26,
      "outputs": [
        {
          "output_type": "execute_result",
          "data": {
            "text/html": [
              "<div>\n",
              "<style scoped>\n",
              "    .dataframe tbody tr th:only-of-type {\n",
              "        vertical-align: middle;\n",
              "    }\n",
              "\n",
              "    .dataframe tbody tr th {\n",
              "        vertical-align: top;\n",
              "    }\n",
              "\n",
              "    .dataframe thead th {\n",
              "        text-align: right;\n",
              "    }\n",
              "</style>\n",
              "<table border=\"1\" class=\"dataframe\">\n",
              "  <thead>\n",
              "    <tr style=\"text-align: right;\">\n",
              "      <th></th>\n",
              "      <th>title</th>\n",
              "      <th>cast</th>\n",
              "      <th>director</th>\n",
              "      <th>keywords</th>\n",
              "      <th>genres</th>\n",
              "    </tr>\n",
              "  </thead>\n",
              "  <tbody>\n",
              "    <tr>\n",
              "      <th>0</th>\n",
              "      <td>Toy Story</td>\n",
              "      <td>[Tom Hanks, Tim Allen, Don Rickles]</td>\n",
              "      <td>John Lasseter</td>\n",
              "      <td>[jealousy, toy, boy]</td>\n",
              "      <td>[Animation, Comedy, Family]</td>\n",
              "    </tr>\n",
              "    <tr>\n",
              "      <th>1</th>\n",
              "      <td>Jumanji</td>\n",
              "      <td>[Robin Williams, Jonathan Hyde, Kirsten Dunst]</td>\n",
              "      <td>Joe Johnston</td>\n",
              "      <td>[board game, disappearance, based on children'...</td>\n",
              "      <td>[Adventure, Fantasy, Family]</td>\n",
              "    </tr>\n",
              "    <tr>\n",
              "      <th>2</th>\n",
              "      <td>Grumpier Old Men</td>\n",
              "      <td>[Walter Matthau, Jack Lemmon, Ann-Margret]</td>\n",
              "      <td>Howard Deutch</td>\n",
              "      <td>[fishing, best friend, duringcreditsstinger]</td>\n",
              "      <td>[Romance, Comedy]</td>\n",
              "    </tr>\n",
              "  </tbody>\n",
              "</table>\n",
              "</div>"
            ],
            "text/plain": [
              "              title  ...                        genres\n",
              "0         Toy Story  ...   [Animation, Comedy, Family]\n",
              "1           Jumanji  ...  [Adventure, Fantasy, Family]\n",
              "2  Grumpier Old Men  ...             [Romance, Comedy]\n",
              "\n",
              "[3 rows x 5 columns]"
            ]
          },
          "metadata": {
            "tags": []
          },
          "execution_count": 26
        }
      ]
    },
    {
      "cell_type": "code",
      "metadata": {
        "id": "2yqnJE-WXEat",
        "colab_type": "code",
        "colab": {}
      },
      "source": [
        "# Function to convert all strings to lower case and strip names of spaces\n",
        "def clean_data(x):\n",
        "    if isinstance(x, list):\n",
        "        return [str.lower(i.replace(\" \", \"\")) for i in x]\n",
        "    else:\n",
        "        #Check if director exists. If not, return empty string\n",
        "        if isinstance(x, str):\n",
        "            return str.lower(x.replace(\" \", \"\"))\n",
        "        else:\n",
        "            return ''"
      ],
      "execution_count": 27,
      "outputs": []
    },
    {
      "cell_type": "code",
      "metadata": {
        "id": "_TMJJgcEXXUw",
        "colab_type": "code",
        "colab": {}
      },
      "source": [
        "# Apply clean_data function to your features.\n",
        "features = ['cast', 'keywords', 'director', 'genres']\n",
        "\n",
        "for feature in features:\n",
        "    metadata[feature] = metadata[feature].apply(clean_data)"
      ],
      "execution_count": 28,
      "outputs": []
    },
    {
      "cell_type": "code",
      "metadata": {
        "id": "Wv-NoGmpXY1h",
        "colab_type": "code",
        "colab": {}
      },
      "source": [
        "def create_soup(x):\n",
        "    return ' '.join(x['keywords']) + ' ' + ' '.join(x['cast']) + ' ' + x['director'] + ' ' + ' '.join(x['genres'])"
      ],
      "execution_count": 29,
      "outputs": []
    },
    {
      "cell_type": "code",
      "metadata": {
        "id": "Zy6nQcEXXiL2",
        "colab_type": "code",
        "colab": {}
      },
      "source": [
        "# Create a new soup feature\n",
        "metadata['soup'] = metadata.apply(create_soup, axis=1)"
      ],
      "execution_count": 30,
      "outputs": []
    },
    {
      "cell_type": "code",
      "metadata": {
        "id": "cvJ0CVEDXj6r",
        "colab_type": "code",
        "colab": {
          "base_uri": "https://localhost:8080/",
          "height": 111
        },
        "outputId": "0cc55d06-559c-4ca6-f67a-1ef14226a465"
      },
      "source": [
        "metadata[['soup']].head(2)"
      ],
      "execution_count": 31,
      "outputs": [
        {
          "output_type": "execute_result",
          "data": {
            "text/html": [
              "<div>\n",
              "<style scoped>\n",
              "    .dataframe tbody tr th:only-of-type {\n",
              "        vertical-align: middle;\n",
              "    }\n",
              "\n",
              "    .dataframe tbody tr th {\n",
              "        vertical-align: top;\n",
              "    }\n",
              "\n",
              "    .dataframe thead th {\n",
              "        text-align: right;\n",
              "    }\n",
              "</style>\n",
              "<table border=\"1\" class=\"dataframe\">\n",
              "  <thead>\n",
              "    <tr style=\"text-align: right;\">\n",
              "      <th></th>\n",
              "      <th>soup</th>\n",
              "    </tr>\n",
              "  </thead>\n",
              "  <tbody>\n",
              "    <tr>\n",
              "      <th>0</th>\n",
              "      <td>jealousy toy boy tomhanks timallen donrickles ...</td>\n",
              "    </tr>\n",
              "    <tr>\n",
              "      <th>1</th>\n",
              "      <td>boardgame disappearance basedonchildren'sbook ...</td>\n",
              "    </tr>\n",
              "  </tbody>\n",
              "</table>\n",
              "</div>"
            ],
            "text/plain": [
              "                                                soup\n",
              "0  jealousy toy boy tomhanks timallen donrickles ...\n",
              "1  boardgame disappearance basedonchildren'sbook ..."
            ]
          },
          "metadata": {
            "tags": []
          },
          "execution_count": 31
        }
      ]
    },
    {
      "cell_type": "code",
      "metadata": {
        "id": "n4QGs5M6XmHK",
        "colab_type": "code",
        "colab": {
          "base_uri": "https://localhost:8080/",
          "height": 35
        },
        "outputId": "2630222f-653e-40d8-abbd-ca5f228f7422"
      },
      "source": [
        "metadata.loc[0, 'soup']"
      ],
      "execution_count": 33,
      "outputs": [
        {
          "output_type": "execute_result",
          "data": {
            "application/vnd.google.colaboratory.intrinsic+json": {
              "type": "string"
            },
            "text/plain": [
              "'jealousy toy boy tomhanks timallen donrickles johnlasseter animation comedy family'"
            ]
          },
          "metadata": {
            "tags": []
          },
          "execution_count": 33
        }
      ]
    },
    {
      "cell_type": "code",
      "metadata": {
        "id": "OJEshZ6uXo9b",
        "colab_type": "code",
        "colab": {}
      },
      "source": [
        "# Import CountVectorizer and create the count matrix\n",
        "from sklearn.feature_extraction.text import CountVectorizer\n",
        "\n",
        "count = CountVectorizer(stop_words='english')\n",
        "count_matrix = count.fit_transform(metadata['soup'])"
      ],
      "execution_count": 35,
      "outputs": []
    },
    {
      "cell_type": "code",
      "metadata": {
        "id": "MQyyvAh4Xynk",
        "colab_type": "code",
        "colab": {
          "base_uri": "https://localhost:8080/",
          "height": 34
        },
        "outputId": "e2c914fa-fbd0-4714-8b41-d471aad3c5e6"
      },
      "source": [
        "count_matrix.shape"
      ],
      "execution_count": 36,
      "outputs": [
        {
          "output_type": "execute_result",
          "data": {
            "text/plain": [
              "(46628, 73881)"
            ]
          },
          "metadata": {
            "tags": []
          },
          "execution_count": 36
        }
      ]
    },
    {
      "cell_type": "code",
      "metadata": {
        "id": "Naxpfz6vX11i",
        "colab_type": "code",
        "colab": {}
      },
      "source": [
        "# Compute the Cosine Similarity matrix based on the count_matrix\n",
        "from sklearn.metrics.pairwise import cosine_similarity\n",
        "\n",
        "cosine_sim2 = cosine_similarity(count_matrix, count_matrix)"
      ],
      "execution_count": null,
      "outputs": []
    },
    {
      "cell_type": "code",
      "metadata": {
        "id": "xhPbAXP1X7SZ",
        "colab_type": "code",
        "colab": {}
      },
      "source": [
        "# Reset index of your main DataFrame and construct reverse mapping as before\n",
        "metadata = metadata.reset_index()\n",
        "indices = pd.Series(metadata.index, index=metadata['title'])"
      ],
      "execution_count": null,
      "outputs": []
    },
    {
      "cell_type": "code",
      "metadata": {
        "id": "mnzSIxcCYCkG",
        "colab_type": "code",
        "colab": {}
      },
      "source": [
        "# Function that takes in movie title as input and outputs most similar movies\n",
        "def get_recommendations(title, cosine_sim=cosine_sim):\n",
        "    # Get the index of the movie that matches the title\n",
        "    idx = indices[title]\n",
        "\n",
        "    # Get the pairwsie similarity scores of all movies with that movie\n",
        "    sim_scores = list(enumerate(cosine_sim[idx]))\n",
        "\n",
        "    # Sort the movies based on the similarity scores\n",
        "    sim_scores = sorted(sim_scores, key=lambda x: x[1], reverse=True)\n",
        "\n",
        "    # Get the scores of the 10 most similar movies\n",
        "    sim_scores = sim_scores[1:11]\n",
        "\n",
        "    # Get the movie indices\n",
        "    movie_indices = [i[0] for i in sim_scores]\n",
        "\n",
        "    # Return the top 10 most similar movies\n",
        "    return metadata['title'].iloc[movie_indices]"
      ],
      "execution_count": null,
      "outputs": []
    },
    {
      "cell_type": "markdown",
      "metadata": {
        "id": "cHkIEhRYYPAT",
        "colab_type": "text"
      },
      "source": [
        "## Collaborative Filtering with Python"
      ]
    },
    {
      "cell_type": "markdown",
      "metadata": {
        "id": "WOZuBfLhYQZW",
        "colab_type": "text"
      },
      "source": [
        "Collaborative filters can further be classified into two types:"
      ]
    },
    {
      "cell_type": "markdown",
      "metadata": {
        "id": "I_PiioZ6YaUQ",
        "colab_type": "text"
      },
      "source": [
        "- User-based Filtering: these systems recommend products to a user that similar users have liked. For example, let's say Alice and Bob have a similar interest in books (that is, they largely like and dislike the same books). Now, let's say a new book has been launched into the market, and Alice has read and loved it. It is, therefore, highly likely that Bob will like it too, and therefore, the system recommends this book to Bob."
      ]
    },
    {
      "cell_type": "markdown",
      "metadata": {
        "id": "Y1ydhkGBYbpn",
        "colab_type": "text"
      },
      "source": [
        "- Item-based Filtering: these systems are extremely similar to the content recommendation engine that you built. These systems identify similar items based on how people have rated it in the past. For example, if Alice, Bob, and Eve have given 5 stars to The Lord of the Rings and The Hobbit, the system identifies the items as similar. Therefore, if someone buys The Lord of the Rings, the system also recommends The Hobbit to him or her."
      ]
    }
  ]
}