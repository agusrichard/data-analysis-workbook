{
  "nbformat": 4,
  "nbformat_minor": 0,
  "metadata": {
    "colab": {
      "name": "recommender_system_0.ipynb",
      "provenance": []
    },
    "kernelspec": {
      "name": "python3",
      "display_name": "Python 3"
    }
  },
  "cells": [
    {
      "cell_type": "markdown",
      "metadata": {
        "id": "2gse3Zk_CZ9Z",
        "colab_type": "text"
      },
      "source": [
        "# Beginner Tutorial: Recommender Systems in Python"
      ]
    },
    {
      "cell_type": "markdown",
      "metadata": {
        "id": "g0BwyGMiJC9y",
        "colab_type": "text"
      },
      "source": [
        "Source: https://www.datacamp.com/community/tutorials/recommender-systems-python\n",
        "\n",
        "Aditya Sharma, May 30th 2020"
      ]
    },
    {
      "cell_type": "code",
      "metadata": {
        "id": "Byo669IzJJmg",
        "colab_type": "code",
        "colab": {}
      },
      "source": [
        ""
      ],
      "execution_count": null,
      "outputs": []
    }
  ]
}