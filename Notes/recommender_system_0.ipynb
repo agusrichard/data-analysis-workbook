{
  "nbformat": 4,
  "nbformat_minor": 0,
  "metadata": {
    "colab": {
      "name": "recommender_system_0.ipynb",
      "provenance": [],
      "collapsed_sections": []
    },
    "kernelspec": {
      "name": "python3",
      "display_name": "Python 3"
    }
  },
  "cells": [
    {
      "cell_type": "markdown",
      "metadata": {
        "id": "2gse3Zk_CZ9Z",
        "colab_type": "text"
      },
      "source": [
        "# Beginner Tutorial: Recommender Systems in Python"
      ]
    },
    {
      "cell_type": "markdown",
      "metadata": {
        "id": "g0BwyGMiJC9y",
        "colab_type": "text"
      },
      "source": [
        "Source: https://www.datacamp.com/community/tutorials/recommender-systems-python\n",
        "\n",
        "Aditya Sharma, May 30th 2020"
      ]
    },
    {
      "cell_type": "markdown",
      "metadata": {
        "id": "Byo669IzJJmg",
        "colab_type": "text"
      },
      "source": [
        "Broadly, recommender systems can be classified into 3 types:\n",
        "\n",
        "- Simple recommenders: offer generalized recommendations to every user, based on movie popularity and/or genre. The basic idea behind this system is that movies that are more popular and critically acclaimed will have a higher probability of being liked by the average audience. An example could be IMDB Top 250.\n",
        "- Content-based recommenders: suggest similar items based on a particular item. This system uses item metadata, such as genre, director, description, actors, etc. for movies, to make these recommendations. The general idea behind these recommender systems is that if a person likes a particular item, he or she will also like an item that is similar to it. And to recommend that, it will make use of the user's past item metadata. A good example could be YouTube, where based on your history, it suggests you new videos that you could potentially watch.\n",
        "- Collaborative filtering engines: these systems are widely used, and they try to predict the rating or preference that a user would give an item-based on past ratings and preferences of other users. Collaborative filters do not require item metadata like its content-based counterparts."
      ]
    }
  ]
}