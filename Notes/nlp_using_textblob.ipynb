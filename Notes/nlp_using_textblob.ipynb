{
  "nbformat": 4,
  "nbformat_minor": 0,
  "metadata": {
    "colab": {
      "name": "nlp_using_textblob.ipynb",
      "provenance": [],
      "collapsed_sections": []
    },
    "kernelspec": {
      "name": "python3",
      "display_name": "Python 3"
    }
  },
  "cells": [
    {
      "cell_type": "markdown",
      "metadata": {
        "id": "sdeXn_I7046J",
        "colab_type": "text"
      },
      "source": [
        "# Natural Language Processing for Beginners: Using TextBlob"
      ]
    },
    {
      "cell_type": "markdown",
      "metadata": {
        "id": "tqhNxQcF3uVr",
        "colab_type": "text"
      },
      "source": [
        "Source: https://www.analyticsvidhya.com/blog/2018/02/natural-language-processing-for-beginners-using-textblob/\n",
        "\n",
        "SHUBHAM JAIN, FEBRUARY 11, 2018"
      ]
    },
    {
      "cell_type": "markdown",
      "metadata": {
        "id": "o6uGWTBc310Q",
        "colab_type": "text"
      },
      "source": [
        "## Introduction"
      ]
    },
    {
      "cell_type": "markdown",
      "metadata": {
        "id": "KRd2o4_n6JDi",
        "colab_type": "text"
      },
      "source": [
        "Natural Language Processing (NLP) is an area of growing attention due to increasing number of applications like chatbots, machine translation etc. In some ways, the entire revolution of intelligent machines in based on the ability to understand and interact with humans."
      ]
    },
    {
      "cell_type": "markdown",
      "metadata": {
        "id": "XxLdkDBf6KWF",
        "colab_type": "text"
      },
      "source": [
        "## About TextBlob"
      ]
    },
    {
      "cell_type": "markdown",
      "metadata": {
        "id": "xdR9Zy_76Wwr",
        "colab_type": "text"
      },
      "source": [
        "TextBlob is a python library and offers a simple API to access its methods and perform basic NLP tasks. "
      ]
    },
    {
      "cell_type": "code",
      "metadata": {
        "id": "PgO_Mlh06c4K",
        "colab_type": "code",
        "colab": {
          "base_uri": "https://localhost:8080/",
          "height": 255
        },
        "outputId": "b819e55e-fb23-410c-d007-fc886cf4e70d"
      },
      "source": [
        "!python -m textblob.download_corpora"
      ],
      "execution_count": 1,
      "outputs": [
        {
          "output_type": "stream",
          "text": [
            "[nltk_data] Downloading package brown to /root/nltk_data...\n",
            "[nltk_data]   Unzipping corpora/brown.zip.\n",
            "[nltk_data] Downloading package punkt to /root/nltk_data...\n",
            "[nltk_data]   Unzipping tokenizers/punkt.zip.\n",
            "[nltk_data] Downloading package wordnet to /root/nltk_data...\n",
            "[nltk_data]   Unzipping corpora/wordnet.zip.\n",
            "[nltk_data] Downloading package averaged_perceptron_tagger to\n",
            "[nltk_data]     /root/nltk_data...\n",
            "[nltk_data]   Unzipping taggers/averaged_perceptron_tagger.zip.\n",
            "[nltk_data] Downloading package conll2000 to /root/nltk_data...\n",
            "[nltk_data]   Unzipping corpora/conll2000.zip.\n",
            "[nltk_data] Downloading package movie_reviews to /root/nltk_data...\n",
            "[nltk_data]   Unzipping corpora/movie_reviews.zip.\n",
            "Finished.\n"
          ],
          "name": "stdout"
        }
      ]
    },
    {
      "cell_type": "markdown",
      "metadata": {
        "id": "50eFpy1L6rZy",
        "colab_type": "text"
      },
      "source": [
        "## NLP Tasks Using TextBlob"
      ]
    },
    {
      "cell_type": "markdown",
      "metadata": {
        "id": "uk_DT7W37b4D",
        "colab_type": "text"
      },
      "source": [
        "### Tokenization"
      ]
    },
    {
      "cell_type": "code",
      "metadata": {
        "id": "qr2q-g4y63_H",
        "colab_type": "code",
        "colab": {
          "base_uri": "https://localhost:8080/",
          "height": 71
        },
        "outputId": "9f2243ec-bd50-427e-ae17-9eb65698fc72"
      },
      "source": [
        "from textblob import TextBlob\n",
        "\n",
        "text = \"Hi... My name is Agus Richard Lubis. I love Sekardayu Hana Pradiani. No, I am just kidding though! \\n\" + \\\n",
        "        \"I found a love for me. Darling, just dive right in. Follow my lead.\"\n",
        "blob = TextBlob(text)\n",
        "print(blob)"
      ],
      "execution_count": 3,
      "outputs": [
        {
          "output_type": "stream",
          "text": [
            "Hi... My name is Agus Richard Lubis. I love Sekardayu Hana Pradiani. No, I am just kidding though! \n",
            "I found a love for me. Darling, just dive right in. Follow my lead.\n"
          ],
          "name": "stdout"
        }
      ]
    },
    {
      "cell_type": "code",
      "metadata": {
        "id": "y6Noc1vT8oMQ",
        "colab_type": "code",
        "colab": {
          "base_uri": "https://localhost:8080/",
          "height": 119
        },
        "outputId": "12c5fad8-2555-4f40-91d4-28706b7abccb"
      },
      "source": [
        "for sentence in blob.sentences:\n",
        "    print(sentence)"
      ],
      "execution_count": 9,
      "outputs": [
        {
          "output_type": "stream",
          "text": [
            "Hi... My name is Agus Richard Lubis.\n",
            "I love Sekardayu Hana Pradiani.\n",
            "No, I am just kidding though!\n",
            "I found a love for me.\n",
            "Darling, just dive right in.\n",
            "Follow my lead.\n"
          ],
          "name": "stdout"
        }
      ]
    },
    {
      "cell_type": "code",
      "metadata": {
        "id": "XJWxMirf8uD6",
        "colab_type": "code",
        "colab": {
          "base_uri": "https://localhost:8080/",
          "height": 119
        },
        "outputId": "3bed1261-2405-483b-a516-412eb2ad0db3"
      },
      "source": [
        "for sentence in blob.sentences:\n",
        "    print([word for word in sentence.split()])"
      ],
      "execution_count": 11,
      "outputs": [
        {
          "output_type": "stream",
          "text": [
            "['Hi...', 'My', 'name', 'is', 'Agus', 'Richard', 'Lubis.']\n",
            "['I', 'love', 'Sekardayu', 'Hana', 'Pradiani.']\n",
            "['No,', 'I', 'am', 'just', 'kidding', 'though!']\n",
            "['I', 'found', 'a', 'love', 'for', 'me.']\n",
            "['Darling,', 'just', 'dive', 'right', 'in.']\n",
            "['Follow', 'my', 'lead.']\n"
          ],
          "name": "stdout"
        }
      ]
    },
    {
      "cell_type": "markdown",
      "metadata": {
        "id": "kgx2UXrw9Q6K",
        "colab_type": "text"
      },
      "source": [
        "### Noun Phrase Extraction"
      ]
    },
    {
      "cell_type": "code",
      "metadata": {
        "id": "8SzpEcXx9bd2",
        "colab_type": "code",
        "colab": {
          "base_uri": "https://localhost:8080/",
          "height": 85
        },
        "outputId": "b6631acd-05b9-4c94-c1e8-c32ecaeb727e"
      },
      "source": [
        "for np in blob.noun_phrases:\n",
        "    print(np)"
      ],
      "execution_count": 12,
      "outputs": [
        {
          "output_type": "stream",
          "text": [
            "hi\n",
            "agus richard lubis\n",
            "sekardayu hana pradiani\n",
            "darling\n"
          ],
          "name": "stdout"
        }
      ]
    },
    {
      "cell_type": "markdown",
      "metadata": {
        "id": "EW16nO469oWb",
        "colab_type": "text"
      },
      "source": [
        "### Part-of-Speech Tagging"
      ]
    },
    {
      "cell_type": "code",
      "metadata": {
        "id": "NuKgRNZP98rC",
        "colab_type": "code",
        "colab": {
          "base_uri": "https://localhost:8080/",
          "height": 561
        },
        "outputId": "297097c7-991f-4220-fcfe-fa9ac4486785"
      },
      "source": [
        "for word, tag in blob.tags:\n",
        "    print(word, tag)"
      ],
      "execution_count": 14,
      "outputs": [
        {
          "output_type": "stream",
          "text": [
            "Hi NN\n",
            "My PRP$\n",
            "name NN\n",
            "is VBZ\n",
            "Agus NNP\n",
            "Richard NNP\n",
            "Lubis NNP\n",
            "I PRP\n",
            "love VBP\n",
            "Sekardayu NNP\n",
            "Hana NNP\n",
            "Pradiani NNP\n",
            "No DT\n",
            "I PRP\n",
            "am VBP\n",
            "just RB\n",
            "kidding VBG\n",
            "though IN\n",
            "I PRP\n",
            "found VBD\n",
            "a DT\n",
            "love NN\n",
            "for IN\n",
            "me PRP\n",
            "Darling NNP\n",
            "just RB\n",
            "dive JJ\n",
            "right NN\n",
            "in IN\n",
            "Follow VB\n",
            "my PRP$\n",
            "lead NN\n"
          ],
          "name": "stdout"
        }
      ]
    },
    {
      "cell_type": "markdown",
      "metadata": {
        "id": "rI5i7Bt0-Nfi",
        "colab_type": "text"
      },
      "source": [
        "### Words Inflection and Lemmatization"
      ]
    },
    {
      "cell_type": "code",
      "metadata": {
        "id": "K465CUAW-hRX",
        "colab_type": "code",
        "colab": {
          "base_uri": "https://localhost:8080/",
          "height": 221
        },
        "outputId": "0a8db6cc-f96c-4553-fe3e-6bab60f37386"
      },
      "source": [
        "for sentence in blob.sentences:\n",
        "    print(sentence.words[1])\n",
        "    print(sentence.words[1].singularize())"
      ],
      "execution_count": 17,
      "outputs": [
        {
          "output_type": "stream",
          "text": [
            "My\n",
            "My\n",
            "love\n",
            "love\n",
            "I\n",
            "I\n",
            "found\n",
            "found\n",
            "just\n",
            "just\n",
            "my\n",
            "my\n"
          ],
          "name": "stdout"
        }
      ]
    },
    {
      "cell_type": "code",
      "metadata": {
        "id": "qGLydC9P-ziB",
        "colab_type": "code",
        "colab": {
          "base_uri": "https://localhost:8080/",
          "height": 35
        },
        "outputId": "f281a781-4506-4440-889a-4b0db07a29ff"
      },
      "source": [
        "from textblob import Word\n",
        "w = Word('Mouse')\n",
        "w.pluralize()   # It should be mice"
      ],
      "execution_count": 19,
      "outputs": [
        {
          "output_type": "execute_result",
          "data": {
            "application/vnd.google.colaboratory.intrinsic": {
              "type": "string"
            },
            "text/plain": [
              "'Mouses'"
            ]
          },
          "metadata": {
            "tags": []
          },
          "execution_count": 19
        }
      ]
    },
    {
      "cell_type": "code",
      "metadata": {
        "id": "OY-TI5bzTQNq",
        "colab_type": "code",
        "colab": {
          "base_uri": "https://localhost:8080/",
          "height": 102
        },
        "outputId": "2bc8a916-7f3d-4a94-c002-4d2241da499f"
      },
      "source": [
        "for word, pos in blob.tags:\n",
        "    if pos == 'NN':\n",
        "        print(word.pluralize())"
      ],
      "execution_count": 22,
      "outputs": [
        {
          "output_type": "stream",
          "text": [
            "His\n",
            "names\n",
            "love\n",
            "rights\n",
            "leads\n"
          ],
          "name": "stdout"
        }
      ]
    },
    {
      "cell_type": "code",
      "metadata": {
        "id": "V0_zFOk3TfiN",
        "colab_type": "code",
        "colab": {
          "base_uri": "https://localhost:8080/",
          "height": 35
        },
        "outputId": "24131e7f-ada1-4bd2-e0ab-1257a89c6b97"
      },
      "source": [
        "w = Word('loving')\n",
        "w.lemmatize('v')        # v represents verb"
      ],
      "execution_count": 25,
      "outputs": [
        {
          "output_type": "execute_result",
          "data": {
            "application/vnd.google.colaboratory.intrinsic": {
              "type": "string"
            },
            "text/plain": [
              "'love'"
            ]
          },
          "metadata": {
            "tags": []
          },
          "execution_count": 25
        }
      ]
    },
    {
      "cell_type": "markdown",
      "metadata": {
        "id": "pSgqo4uAT2xV",
        "colab_type": "text"
      },
      "source": [
        "### N-grams"
      ]
    },
    {
      "cell_type": "code",
      "metadata": {
        "id": "MTZ57OStUBIK",
        "colab_type": "code",
        "colab": {
          "base_uri": "https://localhost:8080/",
          "height": 544
        },
        "outputId": "30521b84-db3f-4ada-e097-fe354eff6650"
      },
      "source": [
        "for ngram in blob.ngrams(2):\n",
        "    print(ngram)"
      ],
      "execution_count": 26,
      "outputs": [
        {
          "output_type": "stream",
          "text": [
            "['Hi', 'My']\n",
            "['My', 'name']\n",
            "['name', 'is']\n",
            "['is', 'Agus']\n",
            "['Agus', 'Richard']\n",
            "['Richard', 'Lubis']\n",
            "['Lubis', 'I']\n",
            "['I', 'love']\n",
            "['love', 'Sekardayu']\n",
            "['Sekardayu', 'Hana']\n",
            "['Hana', 'Pradiani']\n",
            "['Pradiani', 'No']\n",
            "['No', 'I']\n",
            "['I', 'am']\n",
            "['am', 'just']\n",
            "['just', 'kidding']\n",
            "['kidding', 'though']\n",
            "['though', 'I']\n",
            "['I', 'found']\n",
            "['found', 'a']\n",
            "['a', 'love']\n",
            "['love', 'for']\n",
            "['for', 'me']\n",
            "['me', 'Darling']\n",
            "['Darling', 'just']\n",
            "['just', 'dive']\n",
            "['dive', 'right']\n",
            "['right', 'in']\n",
            "['in', 'Follow']\n",
            "['Follow', 'my']\n",
            "['my', 'lead']\n"
          ],
          "name": "stdout"
        }
      ]
    },
    {
      "cell_type": "code",
      "metadata": {
        "id": "v5ZBT795UK3Q",
        "colab_type": "code",
        "colab": {
          "base_uri": "https://localhost:8080/",
          "height": 34
        },
        "outputId": "277f64dd-e0bd-4be4-dc03-7164c9b968a4"
      },
      "source": [
        "blob.sentiment"
      ],
      "execution_count": 27,
      "outputs": [
        {
          "output_type": "execute_result",
          "data": {
            "text/plain": [
              "Sentiment(polarity=0.4702380952380952, subjectivity=0.5785714285714286)"
            ]
          },
          "metadata": {
            "tags": []
          },
          "execution_count": 27
        }
      ]
    },
    {
      "cell_type": "markdown",
      "metadata": {
        "id": "2X__HeyVUais",
        "colab_type": "text"
      },
      "source": [
        "## Other cool things to do"
      ]
    },
    {
      "cell_type": "markdown",
      "metadata": {
        "id": "uYXSods6U9fk",
        "colab_type": "text"
      },
      "source": [
        "### Spelling Correction"
      ]
    },
    {
      "cell_type": "code",
      "metadata": {
        "id": "CevU9lP4VC8s",
        "colab_type": "code",
        "colab": {
          "base_uri": "https://localhost:8080/",
          "height": 34
        },
        "outputId": "b6511a92-3bb1-451e-e6eb-cf553348ece3"
      },
      "source": [
        "blob = TextBlob('Scince is awesome')\n",
        "blob.correct()"
      ],
      "execution_count": 32,
      "outputs": [
        {
          "output_type": "execute_result",
          "data": {
            "text/plain": [
              "TextBlob(\"Prince is awesome\")"
            ]
          },
          "metadata": {
            "tags": []
          },
          "execution_count": 32
        }
      ]
    },
    {
      "cell_type": "code",
      "metadata": {
        "id": "vsxvXm-xVLbA",
        "colab_type": "code",
        "colab": {
          "base_uri": "https://localhost:8080/",
          "height": 136
        },
        "outputId": "efb970d7-cf10-42e8-e09a-07a062c11ed3"
      },
      "source": [
        "blob.words[0].spellcheck()"
      ],
      "execution_count": 33,
      "outputs": [
        {
          "output_type": "execute_result",
          "data": {
            "text/plain": [
              "[('Prince', 0.8546819787985865),\n",
              " ('Since', 0.11484098939929328),\n",
              " ('Science', 0.026501766784452298),\n",
              " ('Pwince', 0.001325088339222615),\n",
              " ('Wince', 0.0008833922261484099),\n",
              " ('Pince', 0.0008833922261484099),\n",
              " ('Evince', 0.0008833922261484099)]"
            ]
          },
          "metadata": {
            "tags": []
          },
          "execution_count": 33
        }
      ]
    },
    {
      "cell_type": "code",
      "metadata": {
        "id": "XAU0HgJvVgl8",
        "colab_type": "code",
        "colab": {}
      },
      "source": [
        "text = \"Hi... My name is Agus Richard Lubis. I love Sekardayu Hana Pradiani. No, I am just kidding though! \\n\" + \\\n",
        "        \"I found a love for me. Darling, just dive right in. Follow my lead.\"\n",
        "blob = TextBlob(text)"
      ],
      "execution_count": 34,
      "outputs": []
    },
    {
      "cell_type": "code",
      "metadata": {
        "id": "TSMAgq-rWB_d",
        "colab_type": "code",
        "colab": {}
      },
      "source": [
        "import random"
      ],
      "execution_count": 35,
      "outputs": []
    },
    {
      "cell_type": "code",
      "metadata": {
        "id": "MIKRj3prWDqd",
        "colab_type": "code",
        "colab": {
          "base_uri": "https://localhost:8080/",
          "height": 34
        },
        "outputId": "a3e00f4c-f48f-4b90-9bd4-4a19186ba0df"
      },
      "source": [
        "nouns = [word.lemmatize() for word, pos in blob.tags if pos == 'NN']\n",
        "nouns"
      ],
      "execution_count": 37,
      "outputs": [
        {
          "output_type": "execute_result",
          "data": {
            "text/plain": [
              "['Hi', 'name', 'love', 'right', 'lead']"
            ]
          },
          "metadata": {
            "tags": []
          },
          "execution_count": 37
        }
      ]
    },
    {
      "cell_type": "markdown",
      "metadata": {
        "id": "ygz43KlAWTOe",
        "colab_type": "text"
      },
      "source": [
        "### Translation and Language Detection"
      ]
    },
    {
      "cell_type": "code",
      "metadata": {
        "id": "gjv8vnkzWeCY",
        "colab_type": "code",
        "colab": {}
      },
      "source": [
        "arabic_love = \"أحبك جدا\"\n",
        "blob_arabic = TextBlob(arabic_love)"
      ],
      "execution_count": 40,
      "outputs": []
    },
    {
      "cell_type": "code",
      "metadata": {
        "id": "VRrxkWrMW1oz",
        "colab_type": "code",
        "colab": {
          "base_uri": "https://localhost:8080/",
          "height": 35
        },
        "outputId": "ba09ff90-6101-41c3-a686-ba085fe8dea4"
      },
      "source": [
        "blob_arabic.detect_language()"
      ],
      "execution_count": 41,
      "outputs": [
        {
          "output_type": "execute_result",
          "data": {
            "application/vnd.google.colaboratory.intrinsic": {
              "type": "string"
            },
            "text/plain": [
              "'ar'"
            ]
          },
          "metadata": {
            "tags": []
          },
          "execution_count": 41
        }
      ]
    },
    {
      "cell_type": "code",
      "metadata": {
        "id": "2EwMSgmmW3F6",
        "colab_type": "code",
        "colab": {
          "base_uri": "https://localhost:8080/",
          "height": 34
        },
        "outputId": "90fb247a-cb4d-45d1-b7c5-1a5a720791a4"
      },
      "source": [
        "blob_arabic.translate(to='en')"
      ],
      "execution_count": 42,
      "outputs": [
        {
          "output_type": "execute_result",
          "data": {
            "text/plain": [
              "TextBlob(\"I love you too\")"
            ]
          },
          "metadata": {
            "tags": []
          },
          "execution_count": 42
        }
      ]
    },
    {
      "cell_type": "markdown",
      "metadata": {
        "id": "cSq0llxLXJcS",
        "colab_type": "text"
      },
      "source": [
        "### Text Classification using TextBlob"
      ]
    },
    {
      "cell_type": "code",
      "metadata": {
        "id": "Zmh8DMChXU0M",
        "colab_type": "code",
        "colab": {}
      },
      "source": [
        "training = [\n",
        "    ('Tom Holland is a terrible spiderman.','pos'),\n",
        "    ('a terrible Javert (Russell Crowe) ruined Les Miserables for me...','pos'),\n",
        "    ('The Dark Knight Rises is the greatest superhero movie ever!','neg'),\n",
        "    ('Fantastic Four should have never been made.','pos'),\n",
        "    ('Wes Anderson is my favorite director!','neg'),\n",
        "    ('Captain America 2 is pretty awesome.','neg'),\n",
        "    ('Let\\s pretend \"Batman and Robin\" never happened..','pos'),\n",
        "]\n",
        "testing = [\n",
        "    ('Superman was never an interesting character.','pos'),\n",
        "    ('Fantastic Mr Fox is an awesome film!','neg'),\n",
        "    ('Dragonball Evolution is simply terrible!!','pos')\n",
        "]"
      ],
      "execution_count": 43,
      "outputs": []
    },
    {
      "cell_type": "code",
      "metadata": {
        "id": "f2FUgqMKXZFB",
        "colab_type": "code",
        "colab": {}
      },
      "source": [
        "from textblob import classifiers\n",
        "classifier = classifiers.NaiveBayesClassifier(training)"
      ],
      "execution_count": 44,
      "outputs": []
    },
    {
      "cell_type": "code",
      "metadata": {
        "id": "PdcCa-JYXily",
        "colab_type": "code",
        "colab": {}
      },
      "source": [
        "dt_classifier = classifiers.DecisionTreeClassifier(training)"
      ],
      "execution_count": 45,
      "outputs": []
    },
    {
      "cell_type": "code",
      "metadata": {
        "id": "FkKjRhRNXpaL",
        "colab_type": "code",
        "colab": {
          "base_uri": "https://localhost:8080/",
          "height": 34
        },
        "outputId": "2fb70c54-5dd9-4e5a-fd35-d68f2991cc14"
      },
      "source": [
        "classifier.accuracy(testing)"
      ],
      "execution_count": 46,
      "outputs": [
        {
          "output_type": "execute_result",
          "data": {
            "text/plain": [
              "1.0"
            ]
          },
          "metadata": {
            "tags": []
          },
          "execution_count": 46
        }
      ]
    },
    {
      "cell_type": "code",
      "metadata": {
        "id": "bHRqOExnXsAl",
        "colab_type": "code",
        "colab": {
          "base_uri": "https://localhost:8080/",
          "height": 85
        },
        "outputId": "98e43294-6796-472c-9b9f-eab7a18404e5"
      },
      "source": [
        "classifier.show_informative_features(3)"
      ],
      "execution_count": 47,
      "outputs": [
        {
          "output_type": "stream",
          "text": [
            "Most Informative Features\n",
            "            contains(is) = True              neg : pos    =      2.9 : 1.0\n",
            "         contains(never) = False             neg : pos    =      1.8 : 1.0\n",
            "      contains(terrible) = False             neg : pos    =      1.8 : 1.0\n"
          ],
          "name": "stdout"
        }
      ]
    },
    {
      "cell_type": "code",
      "metadata": {
        "id": "h8OevMmVXuWS",
        "colab_type": "code",
        "colab": {
          "base_uri": "https://localhost:8080/",
          "height": 35
        },
        "outputId": "62705199-cd18-4123-99cf-067e1181efe1"
      },
      "source": [
        "classify_blob = TextBlob('You are sucks', classifier=classifier)\n",
        "classify_blob.classify()"
      ],
      "execution_count": 48,
      "outputs": [
        {
          "output_type": "execute_result",
          "data": {
            "application/vnd.google.colaboratory.intrinsic": {
              "type": "string"
            },
            "text/plain": [
              "'pos'"
            ]
          },
          "metadata": {
            "tags": []
          },
          "execution_count": 48
        }
      ]
    }
  ]
}