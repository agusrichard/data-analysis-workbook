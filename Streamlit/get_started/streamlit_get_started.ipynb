{
  "nbformat": 4,
  "nbformat_minor": 0,
  "metadata": {
    "colab": {
      "name": "streamlit_get_started.ipynb",
      "provenance": [],
      "collapsed_sections": []
    },
    "kernelspec": {
      "name": "python3",
      "display_name": "Python 3"
    }
  },
  "cells": [
    {
      "cell_type": "markdown",
      "metadata": {
        "id": "cb0u8z3x9Rb9",
        "colab_type": "text"
      },
      "source": [
        "# Streamlit"
      ]
    },
    {
      "cell_type": "markdown",
      "metadata": {
        "id": "JGSOsd7a9a9J",
        "colab_type": "text"
      },
      "source": [
        "## Main Concepts"
      ]
    },
    {
      "cell_type": "markdown",
      "metadata": {
        "id": "ifdqW77B9duD",
        "colab_type": "text"
      },
      "source": [
        "How to run:\n",
        "`\n",
        "$ streamlit run your_script.py [-- script args]\n",
        "`"
      ]
    },
    {
      "cell_type": "markdown",
      "metadata": {
        "id": "RIaJsKT395o0",
        "colab_type": "text"
      },
      "source": [
        "### Data flow\n",
        "Streamlit’s architecture allows you to write apps the same way you write plain Python scripts. To unlock this, Streamlit apps have a unique data flow: any time something must be updated on the screen, Streamlit just reruns your entire Python script from top to bottom.\n",
        "\n",
        "This can happen in two situations:\n",
        "\n",
        "Whenever you modify your app’s source code.\n",
        "\n",
        "Whenever a user interacts with widgets in the app. For example, when dragging a slider, entering text in an input box, or clicking a button.\n",
        "\n",
        "And to make all of this fast and seamless, Streamlit does some heavy lifting for you behind the scenes. A big player in this story is the @st.cache decorator, which allows developers to skip certain costly computations when their apps rerun. We’ll cover caching later in this page."
      ]
    },
    {
      "cell_type": "markdown",
      "metadata": {
        "id": "fVqkX0seAC2m",
        "colab_type": "text"
      },
      "source": [
        "### App model\n",
        "Now that you know a little more about all the individual pieces, let’s close the loop and review how it works together:\n",
        "\n",
        "Streamlit apps are Python scripts that run from top to bottom\n",
        "\n",
        "Every time a user opens a browser tab pointing to your app, the script is re-executed\n",
        "\n",
        "As the script executes, Streamlit draws its output live in a browser\n",
        "\n",
        "Scripts use the Streamlit cache to avoid recomputing expensive functions, so updates happen very fast\n",
        "\n",
        "Every time a user interacts with a widget, your script is re-executed and the output value of that widget is set to the new value during that run."
      ]
    },
    {
      "cell_type": "code",
      "metadata": {
        "id": "3B9x1ba3AKK_",
        "colab_type": "code",
        "colab": {}
      },
      "source": [
        ""
      ],
      "execution_count": null,
      "outputs": []
    }
  ]
}