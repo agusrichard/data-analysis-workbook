{
  "nbformat": 4,
  "nbformat_minor": 0,
  "metadata": {
    "colab": {
      "name": "hacker_statistics.ipynb",
      "provenance": [],
      "collapsed_sections": []
    },
    "kernelspec": {
      "name": "python3",
      "display_name": "Python 3"
    }
  },
  "cells": [
    {
      "cell_type": "markdown",
      "metadata": {
        "id": "iptHnSbhQXy1",
        "colab_type": "text"
      },
      "source": [
        "# Hacker Statistics"
      ]
    },
    {
      "cell_type": "code",
      "metadata": {
        "id": "djBqD2TKQo6k",
        "colab_type": "code",
        "colab": {
          "base_uri": "https://localhost:8080/",
          "height": 71
        },
        "outputId": "d02edad1-970a-4374-eb81-6b700dd37904"
      },
      "source": [
        "import numpy as np\n",
        "import pandas as pd\n",
        "import matplotlib.pyplot as plt\n",
        "import seaborn as sns\n",
        "plt.style.use('ggplot')"
      ],
      "execution_count": 1,
      "outputs": [
        {
          "output_type": "stream",
          "text": [
            "/usr/local/lib/python3.6/dist-packages/statsmodels/tools/_testing.py:19: FutureWarning: pandas.util.testing is deprecated. Use the functions in the public API at pandas.testing instead.\n",
            "  import pandas.util.testing as tm\n"
          ],
          "name": "stderr"
        }
      ]
    },
    {
      "cell_type": "markdown",
      "metadata": {
        "id": "gC56R6RdiDOO",
        "colab_type": "text"
      },
      "source": [
        "## Bernoulli Process"
      ]
    },
    {
      "cell_type": "code",
      "metadata": {
        "id": "6yqVoqPLQxIj",
        "colab_type": "code",
        "colab": {}
      },
      "source": [
        "def bernoulli_process(n, p, repeated=False, n_reps=1000, random_state=None):\n",
        "    \"\"\"\n",
        "    Create bernoulli process with n trials and probability p\n",
        "\n",
        "    Parameters\n",
        "    ----------\n",
        "    n : int\n",
        "        Specifying the total number of trials\n",
        "    p : float, between 0 and 1\n",
        "        Specifying the probability of bernoulli trial happening\n",
        "    repeated : bool, default True\n",
        "        If True the bernolli process will be repeated n_reps (default=1000)\n",
        "        return an array of success for each repetition\n",
        "    n_reps : int, default 1000\n",
        "        Number of repetitions performed if repeated=True\n",
        "\n",
        "    Returns\n",
        "    -------\n",
        "    num_success : int, if repeated False\n",
        "        Number of success for n trials\n",
        "    num_successes : ndarray shape (n_reps,) if repeated True\n",
        "        Array containing number of successes\n",
        "    \"\"\"\n",
        "\n",
        "    def inner():\n",
        "        random_arr = np.random.random(n)\n",
        "        return (random_arr < p).sum()\n",
        "        \n",
        "    if random_state != None:\n",
        "        np.random.seed(random_state)\n",
        "\n",
        "    if repeated:\n",
        "        num_successes = np.empty(n_reps)\n",
        "        for i in range(n_reps):\n",
        "            num_successes[i] = inner()\n",
        "        return num_successes\n",
        "    else:\n",
        "        num_success = inner()\n",
        "        return num_success"
      ],
      "execution_count": 0,
      "outputs": []
    },
    {
      "cell_type": "code",
      "metadata": {
        "id": "1j8JJN-AiGoG",
        "colab_type": "code",
        "colab": {
          "base_uri": "https://localhost:8080/",
          "height": 34
        },
        "outputId": "2f1397b2-6282-44bb-8971-cac66af8f3ea"
      },
      "source": [
        "bernoulli_process(100, 0.1)"
      ],
      "execution_count": 79,
      "outputs": [
        {
          "output_type": "execute_result",
          "data": {
            "text/plain": [
              "8"
            ]
          },
          "metadata": {
            "tags": []
          },
          "execution_count": 79
        }
      ]
    },
    {
      "cell_type": "markdown",
      "metadata": {
        "id": "rucLpeyQiLVs",
        "colab_type": "text"
      },
      "source": [
        "## Binomial PMF"
      ]
    },
    {
      "cell_type": "code",
      "metadata": {
        "id": "JqM8UPV2borg",
        "colab_type": "code",
        "colab": {}
      },
      "source": [
        "def binomial_pmf(x, n, p, n_reps=10000, random_state=None):\n",
        "    \"\"\"\n",
        "    Calculate binomial probability mass function\n",
        "\n",
        "    Paremeters\n",
        "    ----------\n",
        "    x : int\n",
        "        Number of successes\n",
        "    n : int\n",
        "        Number of bernoulli trials\n",
        "    p : float\n",
        "        Probability of single bernoulli trial\n",
        "    n_reps : int, default 10000\n",
        "        Number of repetitions using for simulation\n",
        "    random_state : number, default None\n",
        "        Specify the seed for pseudo-random generator\n",
        "\n",
        "    Return\n",
        "    ------\n",
        "    The calculated binomial PMF\n",
        "    \"\"\"\n",
        "\n",
        "    if random_state is not None:\n",
        "        np.random.seed(random_state)\n",
        "    \n",
        "    dist = np.empty(n_reps, dtype=bool)\n",
        "    for i in range(n_reps):\n",
        "        random_arr = np.random.random(n)\n",
        "        mask = random_arr < p\n",
        "        if mask.sum() == x:\n",
        "            dist[i] = True\n",
        "        else:\n",
        "            dist[i] = False\n",
        "    return dist.mean()"
      ],
      "execution_count": 0,
      "outputs": []
    },
    {
      "cell_type": "code",
      "metadata": {
        "id": "-bk5MZSPiUCN",
        "colab_type": "code",
        "colab": {
          "base_uri": "https://localhost:8080/",
          "height": 34
        },
        "outputId": "003dec48-627f-4aa8-c507-c39512b8f766"
      },
      "source": [
        "binomial_pmf(7, 10, 0.2)"
      ],
      "execution_count": 80,
      "outputs": [
        {
          "output_type": "execute_result",
          "data": {
            "text/plain": [
              "0.0006"
            ]
          },
          "metadata": {
            "tags": []
          },
          "execution_count": 80
        }
      ]
    },
    {
      "cell_type": "code",
      "metadata": {
        "id": "0wsMWbRzjH7n",
        "colab_type": "code",
        "colab": {
          "base_uri": "https://localhost:8080/",
          "height": 265
        },
        "outputId": "d45243ef-a01f-4e9c-9e5f-055e0dc24780"
      },
      "source": [
        "vectorized = np.vectorize(lambda x: binomial_pmf(x, 50, 0.5))\n",
        "arr = vectorized(np.arange(50))\n",
        "plt.plot(np.arange(50), arr);"
      ],
      "execution_count": 104,
      "outputs": [
        {
          "output_type": "display_data",
          "data": {
            "image/png": "[encoded data removed]",
            "text/plain": [
              "<Figure size 432x288 with 1 Axes>"
            ]
          },
          "metadata": {
            "tags": [],
            "needs_background": "light"
          }
        }
      ]
    },
    {
      "cell_type": "markdown",
      "metadata": {
        "id": "mbdWsHUoiVI0",
        "colab_type": "text"
      },
      "source": [
        "## Binomial CMF"
      ]
    },
    {
      "cell_type": "code",
      "metadata": {
        "id": "eREhWWtagrz_",
        "colab_type": "code",
        "colab": {}
      },
      "source": [
        "def binomial_cmf(x, n, p, n_reps=10000, random_state=None):\n",
        "    \"\"\"\n",
        "    \n",
        "    \"\"\""
      ],
      "execution_count": 0,
      "outputs": []
    }
  ]
}