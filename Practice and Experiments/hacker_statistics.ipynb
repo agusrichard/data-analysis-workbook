{
  "nbformat": 4,
  "nbformat_minor": 0,
  "metadata": {
    "colab": {
      "name": "hacker_statistics.ipynb",
      "provenance": [],
      "collapsed_sections": []
    },
    "kernelspec": {
      "name": "python3",
      "display_name": "Python 3"
    }
  },
  "cells": [
    {
      "cell_type": "markdown",
      "metadata": {
        "id": "iptHnSbhQXy1",
        "colab_type": "text"
      },
      "source": [
        "# Hacker Statistics"
      ]
    },
    {
      "cell_type": "code",
      "metadata": {
        "id": "djBqD2TKQo6k",
        "colab_type": "code",
        "outputId": "6d3de69a-299c-4693-9707-4b7bd9e52a5f",
        "colab": {
          "base_uri": "https://localhost:8080/",
          "height": 71
        }
      },
      "source": [
        "import numpy as np\n",
        "import pandas as pd\n",
        "import matplotlib.pyplot as plt\n",
        "import seaborn as sns\n",
        "plt.style.use('ggplot')"
      ],
      "execution_count": 1,
      "outputs": [
        {
          "output_type": "stream",
          "text": [
            "/usr/local/lib/python3.6/dist-packages/statsmodels/tools/_testing.py:19: FutureWarning: pandas.util.testing is deprecated. Use the functions in the public API at pandas.testing instead.\n",
            "  import pandas.util.testing as tm\n"
          ],
          "name": "stderr"
        }
      ]
    },
    {
      "cell_type": "markdown",
      "metadata": {
        "id": "gC56R6RdiDOO",
        "colab_type": "text"
      },
      "source": [
        "## Bernoulli Process"
      ]
    },
    {
      "cell_type": "code",
      "metadata": {
        "id": "6yqVoqPLQxIj",
        "colab_type": "code",
        "colab": {}
      },
      "source": [
        "def bernoulli_process(n, p, repeated=False, n_reps=1000, random_state=None):\n",
        "    \"\"\"\n",
        "    Create bernoulli process with n trials and probability p\n",
        "\n",
        "    Parameters\n",
        "    ----------\n",
        "    n : int\n",
        "        Specifying the total number of trials\n",
        "    p : float, between 0 and 1\n",
        "        Specifying the probability of bernoulli trial happening\n",
        "    repeated : bool, default True\n",
        "        If True the bernolli process will be repeated n_reps (default=1000)\n",
        "        return an array of success for each repetition\n",
        "    n_reps : int, default 1000\n",
        "        Number of repetitions performed if repeated=True\n",
        "\n",
        "    Returns\n",
        "    -------\n",
        "    num_success : int, if repeated False\n",
        "        Number of success for n trials\n",
        "    num_successes : ndarray shape (n_reps,) if repeated True\n",
        "        Array containing number of successes\n",
        "    \"\"\"\n",
        "\n",
        "    def inner():\n",
        "        random_arr = np.random.random(n)\n",
        "        return (random_arr < p).sum()\n",
        "        \n",
        "    if random_state != None:\n",
        "        np.random.seed(random_state)\n",
        "\n",
        "    if repeated:\n",
        "        num_successes = np.empty(n_reps)\n",
        "        for i in range(n_reps):\n",
        "            num_successes[i] = inner()\n",
        "        return num_successes\n",
        "    else:\n",
        "        num_success = inner()\n",
        "        return num_success"
      ],
      "execution_count": 0,
      "outputs": []
    },
    {
      "cell_type": "code",
      "metadata": {
        "id": "1j8JJN-AiGoG",
        "colab_type": "code",
        "outputId": "082d45e1-cbd3-4102-8733-d3aa961e15ee",
        "colab": {
          "base_uri": "https://localhost:8080/",
          "height": 34
        }
      },
      "source": [
        "bernoulli_process(100, 0.1)"
      ],
      "execution_count": 3,
      "outputs": [
        {
          "output_type": "execute_result",
          "data": {
            "text/plain": [
              "10"
            ]
          },
          "metadata": {
            "tags": []
          },
          "execution_count": 3
        }
      ]
    },
    {
      "cell_type": "markdown",
      "metadata": {
        "id": "rucLpeyQiLVs",
        "colab_type": "text"
      },
      "source": [
        "## Binomial PMF"
      ]
    },
    {
      "cell_type": "code",
      "metadata": {
        "id": "JqM8UPV2borg",
        "colab_type": "code",
        "colab": {}
      },
      "source": [
        "def binomial_pmf(x, n, p, n_reps=10000, random_state=None):\n",
        "    \"\"\"\n",
        "    Calculate binomial probability mass function\n",
        "\n",
        "    Paremeters\n",
        "    ----------\n",
        "    x : int\n",
        "        Number of successes\n",
        "    n : int\n",
        "        Number of bernoulli trials\n",
        "    p : float\n",
        "        Probability of single bernoulli trial\n",
        "    n_reps : int, default 10000\n",
        "        Number of repetitions using for simulation\n",
        "    random_state : number, default None\n",
        "        Specify the seed for pseudo-random generator\n",
        "\n",
        "    Return\n",
        "    ------\n",
        "    The calculated binomial PMF\n",
        "    \"\"\"\n",
        "\n",
        "    if random_state is not None:\n",
        "        np.random.seed(random_state)\n",
        "    \n",
        "    dist = np.empty(n_reps, dtype=bool)\n",
        "    for i in range(n_reps):\n",
        "        random_arr = np.random.random(n)\n",
        "        mask = random_arr < p\n",
        "        if mask.sum() == x:\n",
        "            dist[i] = True\n",
        "        else:\n",
        "            dist[i] = False\n",
        "    return dist.mean()"
      ],
      "execution_count": 0,
      "outputs": []
    },
    {
      "cell_type": "code",
      "metadata": {
        "id": "-bk5MZSPiUCN",
        "colab_type": "code",
        "outputId": "a3f59e64-6af6-4906-b712-757bd44122a1",
        "colab": {
          "base_uri": "https://localhost:8080/",
          "height": 34
        }
      },
      "source": [
        "binomial_pmf(7, 10, 0.2)"
      ],
      "execution_count": 5,
      "outputs": [
        {
          "output_type": "execute_result",
          "data": {
            "text/plain": [
              "0.0006"
            ]
          },
          "metadata": {
            "tags": []
          },
          "execution_count": 5
        }
      ]
    },
    {
      "cell_type": "code",
      "metadata": {
        "id": "0wsMWbRzjH7n",
        "colab_type": "code",
        "outputId": "dade8d1e-bca4-4f75-c805-241cff0b0b8f",
        "colab": {
          "base_uri": "https://localhost:8080/",
          "height": 265
        }
      },
      "source": [
        "vectorized = np.vectorize(lambda x: binomial_pmf(x, 50, 0.5))\n",
        "arr = vectorized(np.arange(50))\n",
        "plt.plot(np.arange(50), arr);"
      ],
      "execution_count": 6,
      "outputs": [
        {
          "output_type": "display_data",
          "data": {
            "image/png": "[encoded data removed]",
            "text/plain": [
              "<Figure size 432x288 with 1 Axes>"
            ]
          },
          "metadata": {
            "tags": [],
            "needs_background": "light"
          }
        }
      ]
    },
    {
      "cell_type": "markdown",
      "metadata": {
        "id": "mbdWsHUoiVI0",
        "colab_type": "text"
      },
      "source": [
        "## Binomial Range"
      ]
    },
    {
      "cell_type": "code",
      "metadata": {
        "id": "eREhWWtagrz_",
        "colab_type": "code",
        "colab": {}
      },
      "source": [
        "def binomial_range(x, n, p, n_reps=10000, random_state=None):\n",
        "    \"\"\"\n",
        "    Calculate binomial probability mass function from 0 to x\n",
        "\n",
        "    Paremeters\n",
        "    ----------\n",
        "    x : int\n",
        "        Number of successes\n",
        "    n : int\n",
        "        Number of bernoulli trials\n",
        "    p : float\n",
        "        Probability of single bernoulli trial\n",
        "    n_reps : int, default 10000\n",
        "        Number of repetitions using for simulation\n",
        "    random_state : number, default None\n",
        "        Specify the seed for pseudo-random generator\n",
        "\n",
        "    Return\n",
        "    ------\n",
        "    Binomial array containing binomial PMF from 0 to x\n",
        "    \"\"\"\n",
        "\n",
        "    cumsum = np.empty(x + 1)\n",
        "    for i in range(cumsum.shape[0]):\n",
        "        cumsum[i] = binomial_pmf(i, n, p, n_reps=n_reps, random_state=random_state)\n",
        "    return cumsum"
      ],
      "execution_count": 0,
      "outputs": []
    },
    {
      "cell_type": "code",
      "metadata": {
        "id": "VjfEP0BXDAo3",
        "colab_type": "code",
        "colab": {
          "base_uri": "https://localhost:8080/",
          "height": 265
        },
        "outputId": "c974334c-5dd0-4456-e07f-1cdeda04183b"
      },
      "source": [
        "arr = binomial_range(50, 50, 0.5)\n",
        "plt.plot(np.arange(0, 51), arr)\n",
        "plt.plot(np.arange(0, 51), arr.cumsum());"
      ],
      "execution_count": 8,
      "outputs": [
        {
          "output_type": "display_data",
          "data": {
            "image/png": "[encoded data removed]",
            "text/plain": [
              "<Figure size 432x288 with 1 Axes>"
            ]
          },
          "metadata": {
            "tags": [],
            "needs_background": "light"
          }
        }
      ]
    },
    {
      "cell_type": "markdown",
      "metadata": {
        "id": "mt3Lc92GEUC_",
        "colab_type": "text"
      },
      "source": [
        "## Multinomial PMF"
      ]
    },
    {
      "cell_type": "code",
      "metadata": {
        "id": "u3-udrKnEi3Z",
        "colab_type": "code",
        "colab": {}
      },
      "source": [
        "def multinomial_pmf(list_of_xps, n_reps=100000, random_state=None):\n",
        "    \"\"\"\n",
        "\n",
        "    \"\"\"\n",
        "\n",
        "    if random_state is not None:\n",
        "        np.random.seed(random_state)\n",
        "\n",
        "    # calculating the number of trials\n",
        "    list_size = len(list_of_xps)\n",
        "    n = 0\n",
        "    for ind in range(list_size):\n",
        "        n += list_of_xps[ind][0]\n",
        "\n",
        "    dist = np.empty(shape=(n_reps, list_size), dtype=bool)\n",
        "    for i in range(n_reps):\n",
        "        for j in range(list_size):\n",
        "            x, p = list_of_xps[j]\n",
        "            mask = np.random.random(n) < p\n",
        "            print(mask.sum())\n",
        "            if mask.sum() == x:\n",
        "                dist[i, j] = True\n",
        "            else:\n",
        "                dist[i, j] = False\n",
        "        print(dist[i])\n",
        "    return np.all(dist, axis=1).mean()"
      ],
      "execution_count": 0,
      "outputs": []
    },
    {
      "cell_type": "code",
      "metadata": {
        "id": "v0juS10iRcFM",
        "colab_type": "code",
        "colab": {
          "base_uri": "https://localhost:8080/",
          "height": 714
        },
        "outputId": "15846ef5-f53a-410c-e98d-829711e290dc"
      },
      "source": [
        "multinomial_pmf([(2, 2/9), (1, 1/6), (3, 11/18)], n_reps=10)"
      ],
      "execution_count": 12,
      "outputs": [
        {
          "output_type": "stream",
          "text": [
            "0\n",
            "2\n",
            "4\n",
            "[False False False]\n",
            "2\n",
            "2\n",
            "5\n",
            "[ True False False]\n",
            "0\n",
            "0\n",
            "4\n",
            "[False False False]\n",
            "0\n",
            "0\n",
            "4\n",
            "[False False False]\n",
            "2\n",
            "4\n",
            "4\n",
            "[ True False False]\n",
            "1\n",
            "2\n",
            "1\n",
            "[False False False]\n",
            "2\n",
            "1\n",
            "3\n",
            "[ True  True  True]\n",
            "1\n",
            "1\n",
            "4\n",
            "[False  True False]\n",
            "4\n",
            "2\n",
            "5\n",
            "[False False False]\n",
            "1\n",
            "0\n",
            "3\n",
            "[False False  True]\n"
          ],
          "name": "stdout"
        },
        {
          "output_type": "execute_result",
          "data": {
            "text/plain": [
              "0.1"
            ]
          },
          "metadata": {
            "tags": []
          },
          "execution_count": 12
        }
      ]
    }
  ]
}