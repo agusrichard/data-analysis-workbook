{
  "nbformat": 4,
  "nbformat_minor": 0,
  "metadata": {
    "colab": {
      "name": "stats_for_ml.ipynb",
      "provenance": [],
      "collapsed_sections": []
    },
    "kernelspec": {
      "name": "python3",
      "display_name": "Python 3"
    }
  },
  "cells": [
    {
      "cell_type": "markdown",
      "metadata": {
        "id": "oCePBSRbswl3",
        "colab_type": "text"
      },
      "source": [
        "# Statistics for Machine Learning (7-Day Mini-Course)"
      ]
    },
    {
      "cell_type": "markdown",
      "metadata": {
        "id": "zsilAxjalXCL",
        "colab_type": "text"
      },
      "source": [
        "---"
      ]
    },
    {
      "cell_type": "markdown",
      "metadata": {
        "id": "C9x5WLaos3SW",
        "colab_type": "text"
      },
      "source": [
        "## Lesson 1: Statistics and Machine Learning"
      ]
    },
    {
      "cell_type": "markdown",
      "metadata": {
        "id": "LuX2-S7DtPXM",
        "colab_type": "text"
      },
      "source": [
        "Five reasons why a machine learning practitioner have to understand statistics."
      ]
    },
    {
      "cell_type": "markdown",
      "metadata": {
        "id": "EjsjR5lrtJSp",
        "colab_type": "text"
      },
      "source": [
        "### 1. Statistics in Data Preparation"
      ]
    },
    {
      "cell_type": "markdown",
      "metadata": {
        "id": "8_8eHeDFtYRJ",
        "colab_type": "text"
      },
      "source": [
        "Several good techniques:\n",
        "- Outliers detections\n",
        "- Missing value imputation\n",
        "- Data sampling\n",
        "- Data scaling\n",
        "- Variable encoding"
      ]
    },
    {
      "cell_type": "markdown",
      "metadata": {
        "id": "prJptE_Pt2b8",
        "colab_type": "text"
      },
      "source": [
        "You have to know data distributions, data visualization, and descriptive statistics."
      ]
    },
    {
      "cell_type": "markdown",
      "metadata": {
        "id": "9QukBaMGuIqQ",
        "colab_type": "text"
      },
      "source": [
        "### Statistics in Model Evaluation"
      ]
    },
    {
      "cell_type": "markdown",
      "metadata": {
        "id": "sh1dBov2uLk-",
        "colab_type": "text"
      },
      "source": [
        "Techniques:\n",
        "- Data sampling\n",
        "- Data resampling\n",
        "- Experimental design."
      ]
    },
    {
      "cell_type": "markdown",
      "metadata": {
        "id": "3lWyqnEJubbo",
        "colab_type": "text"
      },
      "source": [
        "Resampling technique like k-fold cross-validation will be beneficial for us to understand."
      ]
    },
    {
      "cell_type": "markdown",
      "metadata": {
        "id": "OmOjZ4dvujVd",
        "colab_type": "text"
      },
      "source": [
        "### Statistics in Model Selection"
      ]
    },
    {
      "cell_type": "markdown",
      "metadata": {
        "id": "s_tilcDqump5",
        "colab_type": "text"
      },
      "source": [
        "Techniques:\n",
        "- Checking for a signification difference between results.\n",
        "- Quantifying the expected variability of the skill of the model in practice."
      ]
    },
    {
      "cell_type": "markdown",
      "metadata": {
        "id": "W1FwaTN-u8o3",
        "colab_type": "text"
      },
      "source": [
        "Statistical hypothesis might be usefull."
      ]
    },
    {
      "cell_type": "markdown",
      "metadata": {
        "id": "-KARjs6JvCyQ",
        "colab_type": "text"
      },
      "source": [
        "### Statistics in Model Presentation"
      ]
    },
    {
      "cell_type": "markdown",
      "metadata": {
        "id": "kj9FKDpOvWgo",
        "colab_type": "text"
      },
      "source": [
        "Techniques:\n",
        "- Summarizing the expected skill of the model on average.\n",
        "- Quantifying the expected variability of the skill of the model in practice."
      ]
    },
    {
      "cell_type": "markdown",
      "metadata": {
        "id": "7yS-O1aXvpDt",
        "colab_type": "text"
      },
      "source": [
        "Confidence interval might be usefull."
      ]
    },
    {
      "cell_type": "markdown",
      "metadata": {
        "id": "ygTtmMQQvsXH",
        "colab_type": "text"
      },
      "source": [
        "### Statistics in Prediction"
      ]
    },
    {
      "cell_type": "markdown",
      "metadata": {
        "id": "sE2JmXyovu6c",
        "colab_type": "text"
      },
      "source": [
        "Techniques:\n",
        "- Quantifying the expected variability for the prediction."
      ]
    },
    {
      "cell_type": "markdown",
      "metadata": {
        "id": "f4hzP4skv3WL",
        "colab_type": "text"
      },
      "source": [
        "Prediction intervals might be usefull."
      ]
    },
    {
      "cell_type": "markdown",
      "metadata": {
        "id": "lzyw0KwZlVz3",
        "colab_type": "text"
      },
      "source": [
        "---"
      ]
    },
    {
      "cell_type": "markdown",
      "metadata": {
        "id": "EhTz_CXKv5oL",
        "colab_type": "text"
      },
      "source": [
        "## Lesson 02: Introduction to Statistics"
      ]
    },
    {
      "cell_type": "markdown",
      "metadata": {
        "id": "WmZs71fFjx7f",
        "colab_type": "text"
      },
      "source": [
        "Two types of statistics:\n",
        "- Descriptive Statistics: Summarizing data\n",
        "- Inferential Statistics: Create conclusion with samples."
      ]
    },
    {
      "cell_type": "markdown",
      "metadata": {
        "id": "sKRjLXqlkyyl",
        "colab_type": "text"
      },
      "source": [
        "Methods for Descriptive Statistics:\n",
        "- Mean\n",
        "- Median\n",
        "- Standard Deviation"
      ]
    },
    {
      "cell_type": "markdown",
      "metadata": {
        "id": "_8Tkpuu2lIS9",
        "colab_type": "text"
      },
      "source": [
        "Methods for Inferential Statistics:\n",
        "- Confidence Interval\n",
        "- Prediction Interval\n",
        "- Hypothesis Testing"
      ]
    },
    {
      "cell_type": "markdown",
      "metadata": {
        "id": "_BN50XAIlTpD",
        "colab_type": "text"
      },
      "source": [
        "---"
      ]
    },
    {
      "cell_type": "markdown",
      "metadata": {
        "id": "AtSYfrIvlZDJ",
        "colab_type": "text"
      },
      "source": [
        "## Lesson 03: Gaussian Distribution and Descriptive Statistics"
      ]
    },
    {
      "cell_type": "markdown",
      "metadata": {
        "id": "c6GasFCpld1B",
        "colab_type": "text"
      },
      "source": [
        "Two parameters of Gaussian Distribution:\n",
        "- Mean. The central tendency.\n",
        "- Variance. The average difference from the mean."
      ]
    },
    {
      "cell_type": "code",
      "metadata": {
        "id": "vs-IoTzKmitL",
        "colab_type": "code",
        "colab": {
          "base_uri": "https://localhost:8080/",
          "height": 265
        },
        "outputId": "d742f8d3-2bb5-4893-d492-3af4b827302c"
      },
      "source": [
        "import numpy as np\n",
        "import matplotlib.pyplot as plt\n",
        "\n",
        "normal = np.random.normal(50, 5, 10000)\n",
        "plt.hist(normal, bins=100);"
      ],
      "execution_count": 3,
      "outputs": [
        {
          "output_type": "display_data",
          "data": {
            "image/png": "[encoded data removed]",
            "text/plain": [
              "<Figure size 432x288 with 1 Axes>"
            ]
          },
          "metadata": {
            "tags": [],
            "needs_background": "light"
          }
        }
      ]
    },
    {
      "cell_type": "code",
      "metadata": {
        "id": "ybHUhq6cmvfL",
        "colab_type": "code",
        "colab": {
          "base_uri": "https://localhost:8080/",
          "height": 68
        },
        "outputId": "fec91f42-24ee-4478-ee69-0b75248c017f"
      },
      "source": [
        "print(f\"The mean of normal distribution: {normal.mean():.2f}\")\n",
        "print(f\"The variance of normal distribution: {normal.var():.2f}\")\n",
        "print(f\"The standard deviation of normal distribution: {normal.std():.2f}\")"
      ],
      "execution_count": 6,
      "outputs": [
        {
          "output_type": "stream",
          "text": [
            "The mean of normal distribution: 50.05\n",
            "The variance of normal distribution: 25.23\n",
            "The standard deviation of normal distribution: 5.02\n"
          ],
          "name": "stdout"
        }
      ]
    },
    {
      "cell_type": "markdown",
      "metadata": {
        "id": "5LRbAOiXma7j",
        "colab_type": "text"
      },
      "source": [
        "---"
      ]
    },
    {
      "cell_type": "markdown",
      "metadata": {
        "id": "sG4f9cEsmbSr",
        "colab_type": "text"
      },
      "source": [
        "## Lesson 04: Correlation Between Variables"
      ]
    },
    {
      "cell_type": "markdown",
      "metadata": {
        "id": "rj8c40G8me3e",
        "colab_type": "text"
      },
      "source": [
        "Use: to understand about the relationship between two variables."
      ]
    },
    {
      "cell_type": "markdown",
      "metadata": {
        "id": "yCdTnmEpnlQ2",
        "colab_type": "text"
      },
      "source": [
        "- Positive Correlation: Change in the same direction.\n",
        "- Neutral Correlation: No relationship.\n",
        "- Negative Correlation: Change in the opposite direction.\n",
        "\n"
      ]
    },
    {
      "cell_type": "markdown",
      "metadata": {
        "id": "dOEeyMqEn9Kr",
        "colab_type": "text"
      },
      "source": [
        "The model performance can be impacted by the multicollinearity, which means that certain variables have relationship and not independent."
      ]
    },
    {
      "cell_type": "code",
      "metadata": {
        "id": "Ks6bZ-k-oNhr",
        "colab_type": "code",
        "colab": {
          "base_uri": "https://localhost:8080/",
          "height": 282
        },
        "outputId": "6466859f-6cc9-438c-9e2c-a2d61ead916b"
      },
      "source": [
        "normal = np.random.normal(100, 10, size=100)\n",
        "x = normal + np.random.normal(0, 2, size=100)\n",
        "y = 2 * x + 10 + np.random.normal(0, 5, size=100)\n",
        "plt.scatter(x, y)"
      ],
      "execution_count": 9,
      "outputs": [
        {
          "output_type": "execute_result",
          "data": {
            "text/plain": [
              "<matplotlib.collections.PathCollection at 0x7fcefe9f25c0>"
            ]
          },
          "metadata": {
            "tags": []
          },
          "execution_count": 9
        },
        {
          "output_type": "display_data",
          "data": {
            "image/png": "[encoded data removed]",
            "text/plain": [
              "<Figure size 432x288 with 1 Axes>"
            ]
          },
          "metadata": {
            "tags": [],
            "needs_background": "light"
          }
        }
      ]
    },
    {
      "cell_type": "code",
      "metadata": {
        "id": "_qjLAT1Bow6R",
        "colab_type": "code",
        "colab": {
          "base_uri": "https://localhost:8080/",
          "height": 34
        },
        "outputId": "0994a4b2-92be-4c02-c75f-e1b43118ffdb"
      },
      "source": [
        "from scipy.stats import pearsonr\n",
        "corr, p = pearsonr(x, y)\n",
        "print(f\"The correlation coefficient of x and y: {corr:.2f}\")"
      ],
      "execution_count": 12,
      "outputs": [
        {
          "output_type": "stream",
          "text": [
            "The correlation coefficient of x and y: 0.98\n"
          ],
          "name": "stdout"
        }
      ]
    }
  ]
}