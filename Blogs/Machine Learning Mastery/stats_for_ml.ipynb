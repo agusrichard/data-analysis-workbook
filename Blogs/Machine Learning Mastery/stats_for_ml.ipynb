{
  "nbformat": 4,
  "nbformat_minor": 0,
  "metadata": {
    "colab": {
      "name": "stats_for_ml.ipynb",
      "provenance": [],
      "collapsed_sections": []
    },
    "kernelspec": {
      "name": "python3",
      "display_name": "Python 3"
    }
  },
  "cells": [
    {
      "cell_type": "markdown",
      "metadata": {
        "id": "oCePBSRbswl3",
        "colab_type": "text"
      },
      "source": [
        "# Statistics for Machine Learning (7-Day Mini-Course)"
      ]
    },
    {
      "cell_type": "markdown",
      "metadata": {
        "id": "zsilAxjalXCL",
        "colab_type": "text"
      },
      "source": [
        "---"
      ]
    },
    {
      "cell_type": "markdown",
      "metadata": {
        "id": "C9x5WLaos3SW",
        "colab_type": "text"
      },
      "source": [
        "## Lesson 1: Statistics and Machine Learning"
      ]
    },
    {
      "cell_type": "markdown",
      "metadata": {
        "id": "LuX2-S7DtPXM",
        "colab_type": "text"
      },
      "source": [
        "Five reasons why a machine learning practitioner have to understand statistics."
      ]
    },
    {
      "cell_type": "markdown",
      "metadata": {
        "id": "EjsjR5lrtJSp",
        "colab_type": "text"
      },
      "source": [
        "### 1. Statistics in Data Preparation"
      ]
    },
    {
      "cell_type": "markdown",
      "metadata": {
        "id": "8_8eHeDFtYRJ",
        "colab_type": "text"
      },
      "source": [
        "Several good techniques:\n",
        "- Outliers detections\n",
        "- Missing value imputation\n",
        "- Data sampling\n",
        "- Data scaling\n",
        "- Variable encoding"
      ]
    },
    {
      "cell_type": "markdown",
      "metadata": {
        "id": "prJptE_Pt2b8",
        "colab_type": "text"
      },
      "source": [
        "You have to know data distributions, data visualization, and descriptive statistics."
      ]
    },
    {
      "cell_type": "markdown",
      "metadata": {
        "id": "9QukBaMGuIqQ",
        "colab_type": "text"
      },
      "source": [
        "### Statistics in Model Evaluation"
      ]
    },
    {
      "cell_type": "markdown",
      "metadata": {
        "id": "sh1dBov2uLk-",
        "colab_type": "text"
      },
      "source": [
        "Techniques:\n",
        "- Data sampling\n",
        "- Data resampling\n",
        "- Experimental design."
      ]
    },
    {
      "cell_type": "markdown",
      "metadata": {
        "id": "3lWyqnEJubbo",
        "colab_type": "text"
      },
      "source": [
        "Resampling technique like k-fold cross-validation will be beneficial for us to understand."
      ]
    },
    {
      "cell_type": "markdown",
      "metadata": {
        "id": "OmOjZ4dvujVd",
        "colab_type": "text"
      },
      "source": [
        "### Statistics in Model Selection"
      ]
    },
    {
      "cell_type": "markdown",
      "metadata": {
        "id": "s_tilcDqump5",
        "colab_type": "text"
      },
      "source": [
        "Techniques:\n",
        "- Checking for a signification difference between results.\n",
        "- Quantifying the expected variability of the skill of the model in practice."
      ]
    },
    {
      "cell_type": "markdown",
      "metadata": {
        "id": "W1FwaTN-u8o3",
        "colab_type": "text"
      },
      "source": [
        "Statistical hypothesis might be usefull."
      ]
    },
    {
      "cell_type": "markdown",
      "metadata": {
        "id": "-KARjs6JvCyQ",
        "colab_type": "text"
      },
      "source": [
        "### Statistics in Model Presentation"
      ]
    },
    {
      "cell_type": "markdown",
      "metadata": {
        "id": "kj9FKDpOvWgo",
        "colab_type": "text"
      },
      "source": [
        "Techniques:\n",
        "- Summarizing the expected skill of the model on average.\n",
        "- Quantifying the expected variability of the skill of the model in practice."
      ]
    },
    {
      "cell_type": "markdown",
      "metadata": {
        "id": "7yS-O1aXvpDt",
        "colab_type": "text"
      },
      "source": [
        "Confidence interval might be usefull."
      ]
    },
    {
      "cell_type": "markdown",
      "metadata": {
        "id": "ygTtmMQQvsXH",
        "colab_type": "text"
      },
      "source": [
        "### Statistics in Prediction"
      ]
    },
    {
      "cell_type": "markdown",
      "metadata": {
        "id": "sE2JmXyovu6c",
        "colab_type": "text"
      },
      "source": [
        "Techniques:\n",
        "- Quantifying the expected variability for the prediction."
      ]
    },
    {
      "cell_type": "markdown",
      "metadata": {
        "id": "f4hzP4skv3WL",
        "colab_type": "text"
      },
      "source": [
        "Prediction intervals might be usefull."
      ]
    },
    {
      "cell_type": "markdown",
      "metadata": {
        "id": "lzyw0KwZlVz3",
        "colab_type": "text"
      },
      "source": [
        "---"
      ]
    },
    {
      "cell_type": "markdown",
      "metadata": {
        "id": "EhTz_CXKv5oL",
        "colab_type": "text"
      },
      "source": [
        "## Lesson 02: Introduction to Statistics"
      ]
    },
    {
      "cell_type": "markdown",
      "metadata": {
        "id": "WmZs71fFjx7f",
        "colab_type": "text"
      },
      "source": [
        "Two types of statistics:\n",
        "- Descriptive Statistics: Summarizing data\n",
        "- Inferential Statistics: Create conclusion with samples."
      ]
    },
    {
      "cell_type": "markdown",
      "metadata": {
        "id": "sKRjLXqlkyyl",
        "colab_type": "text"
      },
      "source": [
        "Methods for Descriptive Statistics:\n",
        "- Mean\n",
        "- Median\n",
        "- Standard Deviation"
      ]
    },
    {
      "cell_type": "markdown",
      "metadata": {
        "id": "_8Tkpuu2lIS9",
        "colab_type": "text"
      },
      "source": [
        "Methods for Inferential Statistics:\n",
        "- Confidence Interval\n",
        "- Prediction Interval\n",
        "- Hypothesis Testing"
      ]
    },
    {
      "cell_type": "markdown",
      "metadata": {
        "id": "_BN50XAIlTpD",
        "colab_type": "text"
      },
      "source": [
        "---"
      ]
    },
    {
      "cell_type": "markdown",
      "metadata": {
        "id": "AtSYfrIvlZDJ",
        "colab_type": "text"
      },
      "source": [
        "## Lesson 03: Gaussian Distribution and Descriptive Statistics"
      ]
    },
    {
      "cell_type": "markdown",
      "metadata": {
        "id": "c6GasFCpld1B",
        "colab_type": "text"
      },
      "source": [
        "Two parameters of Gaussian Distribution:\n",
        "- Mean. The central tendency.\n",
        "- Variance. The average difference from the mean."
      ]
    },
    {
      "cell_type": "code",
      "metadata": {
        "id": "vs-IoTzKmitL",
        "colab_type": "code",
        "colab": {
          "base_uri": "https://localhost:8080/",
          "height": 265
        },
        "outputId": "33e438c0-33b9-4f49-9c4a-c352735153f6"
      },
      "source": [
        "import numpy as np\n",
        "import matplotlib.pyplot as plt\n",
        "\n",
        "normal = np.random.normal(50, 5, 10000)\n",
        "plt.hist(normal, bins=100);"
      ],
      "execution_count": 1,
      "outputs": [
        {
          "output_type": "display_data",
          "data": {
            "image/png": "[encoded data removed]",
            "text/plain": [
              "<Figure size 432x288 with 1 Axes>"
            ]
          },
          "metadata": {
            "tags": [],
            "needs_background": "light"
          }
        }
      ]
    },
    {
      "cell_type": "code",
      "metadata": {
        "id": "ybHUhq6cmvfL",
        "colab_type": "code",
        "colab": {
          "base_uri": "https://localhost:8080/",
          "height": 68
        },
        "outputId": "5b6399c9-2af3-4fe1-a29f-2fdb6a46331c"
      },
      "source": [
        "print(f\"The mean of normal distribution: {normal.mean():.2f}\")\n",
        "print(f\"The variance of normal distribution: {normal.var():.2f}\")\n",
        "print(f\"The standard deviation of normal distribution: {normal.std():.2f}\")"
      ],
      "execution_count": 2,
      "outputs": [
        {
          "output_type": "stream",
          "text": [
            "The mean of normal distribution: 49.99\n",
            "The variance of normal distribution: 24.41\n",
            "The standard deviation of normal distribution: 4.94\n"
          ],
          "name": "stdout"
        }
      ]
    },
    {
      "cell_type": "markdown",
      "metadata": {
        "id": "5LRbAOiXma7j",
        "colab_type": "text"
      },
      "source": [
        "---"
      ]
    },
    {
      "cell_type": "markdown",
      "metadata": {
        "id": "sG4f9cEsmbSr",
        "colab_type": "text"
      },
      "source": [
        "## Lesson 04: Correlation Between Variables"
      ]
    },
    {
      "cell_type": "markdown",
      "metadata": {
        "id": "rj8c40G8me3e",
        "colab_type": "text"
      },
      "source": [
        "Use: to understand about the relationship between two variables."
      ]
    },
    {
      "cell_type": "markdown",
      "metadata": {
        "id": "yCdTnmEpnlQ2",
        "colab_type": "text"
      },
      "source": [
        "- Positive Correlation: Change in the same direction.\n",
        "- Neutral Correlation: No relationship.\n",
        "- Negative Correlation: Change in the opposite direction.\n",
        "\n"
      ]
    },
    {
      "cell_type": "markdown",
      "metadata": {
        "id": "dOEeyMqEn9Kr",
        "colab_type": "text"
      },
      "source": [
        "The model performance can be impacted by the multicollinearity, which means that certain variables have relationship and not independent."
      ]
    },
    {
      "cell_type": "code",
      "metadata": {
        "id": "Ks6bZ-k-oNhr",
        "colab_type": "code",
        "colab": {
          "base_uri": "https://localhost:8080/",
          "height": 282
        },
        "outputId": "c7248706-357e-481d-e030-e1527e2e9c4b"
      },
      "source": [
        "normal = np.random.normal(100, 10, size=100)\n",
        "x = normal + np.random.normal(0, 2, size=100)\n",
        "y = 2 * x + 10 + np.random.normal(0, 5, size=100)\n",
        "plt.scatter(x, y)"
      ],
      "execution_count": 3,
      "outputs": [
        {
          "output_type": "execute_result",
          "data": {
            "text/plain": [
              "<matplotlib.collections.PathCollection at 0x7f74917e6c88>"
            ]
          },
          "metadata": {
            "tags": []
          },
          "execution_count": 3
        },
        {
          "output_type": "display_data",
          "data": {
            "image/png": "[encoded data removed]",
            "text/plain": [
              "<Figure size 432x288 with 1 Axes>"
            ]
          },
          "metadata": {
            "tags": [],
            "needs_background": "light"
          }
        }
      ]
    },
    {
      "cell_type": "code",
      "metadata": {
        "id": "_qjLAT1Bow6R",
        "colab_type": "code",
        "colab": {
          "base_uri": "https://localhost:8080/",
          "height": 34
        },
        "outputId": "72f5dfdb-a113-48a3-9aa8-b0050af4f5ba"
      },
      "source": [
        "from scipy.stats import pearsonr\n",
        "corr, p = pearsonr(x, y)\n",
        "print(f\"The correlation coefficient of x and y: {corr:.2f}\")"
      ],
      "execution_count": 4,
      "outputs": [
        {
          "output_type": "stream",
          "text": [
            "The correlation coefficient of x and y: 0.97\n"
          ],
          "name": "stdout"
        }
      ]
    },
    {
      "cell_type": "markdown",
      "metadata": {
        "id": "EESXSfchG2UK",
        "colab_type": "text"
      },
      "source": [
        "---"
      ]
    },
    {
      "cell_type": "markdown",
      "metadata": {
        "id": "KsC4I4ccG2xk",
        "colab_type": "text"
      },
      "source": [
        "## Lesson 05: Statistical Hypothesis Tests"
      ]
    },
    {
      "cell_type": "markdown",
      "metadata": {
        "id": "Pl-XfNk1G7WZ",
        "colab_type": "text"
      },
      "source": [
        "${H_0}$: Default hypothesis, test is hold.\n",
        "${H_1}$: Test does not hold, reject the default hypothesis."
      ]
    },
    {
      "cell_type": "markdown",
      "metadata": {
        "id": "4TO3TsD-HEjr",
        "colab_type": "text"
      },
      "source": [
        "The p-value is the probability of observing the data, given the null hypothesis is true."
      ]
    },
    {
      "cell_type": "markdown",
      "metadata": {
        "id": "nJO0wYNXHqH9",
        "colab_type": "text"
      },
      "source": [
        "Small p-value means that we are unlikely to observed the data with our null hypothesis is true, then we shall reject the null hypothesis."
      ]
    },
    {
      "cell_type": "markdown",
      "metadata": {
        "id": "f839bl6lH-zp",
        "colab_type": "text"
      },
      "source": [
        "__Performing t-test__"
      ]
    },
    {
      "cell_type": "code",
      "metadata": {
        "id": "pEfe9shnIOsc",
        "colab_type": "code",
        "colab": {
          "base_uri": "https://localhost:8080/",
          "height": 34
        },
        "outputId": "17dd7c9c-2e2d-464f-a6f6-a03c9ed4b3cb"
      },
      "source": [
        "from scipy.stats import ttest_ind\n",
        "data1 = 21 * np.random.randn(10000) + 14\n",
        "data2 = 20 * np.random.randn(10000) + 10\n",
        "stat, p = ttest_ind(data1, data2)\n",
        "print(f\"Statistics={stat:.3f}, p={p:.3f}\")"
      ],
      "execution_count": 14,
      "outputs": [
        {
          "output_type": "stream",
          "text": [
            "Statistics=13.184, p=0.000\n"
          ],
          "name": "stdout"
        }
      ]
    },
    {
      "cell_type": "code",
      "metadata": {
        "id": "QEt1sjKYIz16",
        "colab_type": "code",
        "colab": {
          "base_uri": "https://localhost:8080/",
          "height": 34
        },
        "outputId": "8912971e-4d13-4fcc-a97d-3ef87c93f758"
      },
      "source": [
        "alpha = 0.05\n",
        "if p < alpha:\n",
        "    print('Reject the null hypothesis, different distribution')\n",
        "else:\n",
        "    print('Accept the null hypothesis, same distribution')"
      ],
      "execution_count": 15,
      "outputs": [
        {
          "output_type": "stream",
          "text": [
            "Reject the null hypothesis, different distribution\n"
          ],
          "name": "stdout"
        }
      ]
    },
    {
      "cell_type": "code",
      "metadata": {
        "id": "it6hGuZrJlAK",
        "colab_type": "code",
        "colab": {}
      },
      "source": [
        "import seaborn as sns"
      ],
      "execution_count": 16,
      "outputs": []
    },
    {
      "cell_type": "code",
      "metadata": {
        "id": "jsJErZycJxj8",
        "colab_type": "code",
        "colab": {}
      },
      "source": [
        "sampled1 = np.random.choice(data1, 100)\n",
        "sampled2 = np.random.choice(data2, 100)"
      ],
      "execution_count": 18,
      "outputs": []
    },
    {
      "cell_type": "code",
      "metadata": {
        "id": "cvI1B5-zKBDN",
        "colab_type": "code",
        "colab": {}
      },
      "source": [
        "bootstrap_replicates = np.empty((10000, 2))\n",
        "for i in range(10000):\n",
        "    temp1 = np.random.choice(sampled1, size=sampled1.shape[0])\n",
        "    temp2 = np.random.choice(sampled2, size=sampled2.shape[0])\n",
        "    bootstrap_replicates[i] = [temp1.mean(), temp2.mean()]"
      ],
      "execution_count": 19,
      "outputs": []
    },
    {
      "cell_type": "code",
      "metadata": {
        "id": "RRHuMtthK4mo",
        "colab_type": "code",
        "colab": {
          "base_uri": "https://localhost:8080/",
          "height": 282
        },
        "outputId": "581b97d0-800b-41b8-978b-b416dc7142ea"
      },
      "source": [
        "sns.distplot(bootstrap_replicates[:, 0])\n",
        "sns.distplot(bootstrap_replicates[:, 1])"
      ],
      "execution_count": 20,
      "outputs": [
        {
          "output_type": "execute_result",
          "data": {
            "text/plain": [
              "<matplotlib.axes._subplots.AxesSubplot at 0x7f7482444c18>"
            ]
          },
          "metadata": {
            "tags": []
          },
          "execution_count": 20
        },
        {
          "output_type": "display_data",
          "data": {
            "image/png": "[encoded data removed]",
            "text/plain": [
              "<Figure size 432x288 with 1 Axes>"
            ]
          },
          "metadata": {
            "tags": [],
            "needs_background": "light"
          }
        }
      ]
    },
    {
      "cell_type": "code",
      "metadata": {
        "id": "CV4btUR5L683",
        "colab_type": "code",
        "colab": {
          "base_uri": "https://localhost:8080/",
          "height": 51
        },
        "outputId": "f3e665af-74e8-414c-f0da-03de5394d182"
      },
      "source": [
        "print(bootstrap_replicates.min(axis=0))\n",
        "print(bootstrap_replicates.max(axis=0))"
      ],
      "execution_count": 24,
      "outputs": [
        {
          "output_type": "stream",
          "text": [
            "[6.99415535 2.17416804]\n",
            "[20.53968614 17.57196121]\n"
          ],
          "name": "stdout"
        }
      ]
    },
    {
      "cell_type": "code",
      "metadata": {
        "id": "QEHVAmHLMsRl",
        "colab_type": "code",
        "colab": {}
      },
      "source": [
        "bins1 = np.round(np.arange(np.floor(bootstrap_replicates[:, 0].min()), np.ceil(bootstrap_replicates[:, 0].max()), 0.1), 1)\n",
        "bins2 = np.round(np.arange(np.floor(bootstrap_replicates[:, 1].min()), np.ceil(bootstrap_replicates[:, 1].max()), 0.1), 1)"
      ],
      "execution_count": 49,
      "outputs": []
    },
    {
      "cell_type": "code",
      "metadata": {
        "id": "tQeh250kNk9C",
        "colab_type": "code",
        "colab": {}
      },
      "source": [
        "binned1 = np.digitize(bootstrap_replicates[:, 0], bins1)\n",
        "binned2 = np.digitize(bootstrap_replicates[:, 1], bins2)"
      ],
      "execution_count": 50,
      "outputs": []
    },
    {
      "cell_type": "code",
      "metadata": {
        "id": "bYMXb9SmNvaS",
        "colab_type": "code",
        "colab": {}
      },
      "source": [
        "same = np.isin(bins1, bins2)"
      ],
      "execution_count": 51,
      "outputs": []
    },
    {
      "cell_type": "code",
      "metadata": {
        "id": "U9684PP2Uckt",
        "colab_type": "code",
        "colab": {}
      },
      "source": [
        "intersect_bins = bins1[same]"
      ],
      "execution_count": 61,
      "outputs": []
    },
    {
      "cell_type": "markdown",
      "metadata": {
        "id": "JQMxINM8X6GQ",
        "colab_type": "text"
      },
      "source": [
        "---"
      ]
    },
    {
      "cell_type": "markdown",
      "metadata": {
        "id": "TeHhyxQ-X6i6",
        "colab_type": "text"
      },
      "source": [
        "## Lesson 03: Estimation Statistics"
      ]
    },
    {
      "cell_type": "markdown",
      "metadata": {
        "id": "64Nn9rApX9gW",
        "colab_type": "text"
      },
      "source": [
        "Three main classes of estimation statistics:\n",
        "- Effect Size: Methods for quantifying the size of an effect given a treatment of intervention.\n",
        "- Interval Estimation: Methods for quantifying the amount of uncertainty in a value.\n",
        "- Meta-Analysis: Methods for quantifying the findings across multiple similar studies."
      ]
    },
    {
      "cell_type": "markdown",
      "metadata": {
        "id": "PNC7L7N5Ymki",
        "colab_type": "text"
      },
      "source": [
        "Three main types of intervals:\n",
        "- Tolerance Interval: The bounds or coverage of a proportion of a distribution with a specific level of confidence.\n",
        "- Confidence Interval: The bounds on the estimate of a population parameter.\n",
        "- Prediction Interval: The bounds on a single observation."
      ]
    },
    {
      "cell_type": "markdown",
      "metadata": {
        "id": "8hddaUaRZJAr",
        "colab_type": "text"
      },
      "source": [
        "Simple way to calculate confidence interval is by using binomial proportion confidence interval. It takes the number of successes, total number of trials, and the significance level."
      ]
    },
    {
      "cell_type": "markdown",
      "metadata": {
        "id": "r5ppUUlNZr6z",
        "colab_type": "text"
      },
      "source": [
        "The example below demonstrates this function in a hypothetical case where a model made 88 correct predictions out of a dataset with 100 instances and we are interested in the 95% confidence interval (provided to the function as a significance of 0.05)."
      ]
    },
    {
      "cell_type": "code",
      "metadata": {
        "id": "7o-YdpD6Z1Uv",
        "colab_type": "code",
        "colab": {
          "base_uri": "https://localhost:8080/",
          "height": 34
        },
        "outputId": "901ae992-8b86-4dad-ae4c-4a1557b5e600"
      },
      "source": [
        "from statsmodels.stats.proportion import proportion_confint\n",
        "lower, upper = proportion_confint(88, 100, 0.05)\n",
        "print(f\"lower={lower:.3f}, upper={upper:.3f}\")"
      ],
      "execution_count": 65,
      "outputs": [
        {
          "output_type": "stream",
          "text": [
            "lower=0.816, upper=0.944\n"
          ],
          "name": "stdout"
        }
      ]
    },
    {
      "cell_type": "markdown",
      "metadata": {
        "id": "3DQvY85oaJNA",
        "colab_type": "text"
      },
      "source": [
        "---"
      ]
    },
    {
      "cell_type": "markdown",
      "metadata": {
        "id": "wbUHsOeRahOt",
        "colab_type": "text"
      },
      "source": [
        "## Lesson 07: Nonparametric Statistics"
      ]
    },
    {
      "cell_type": "markdown",
      "metadata": {
        "id": "tu1hXTG9akqd",
        "colab_type": "text"
      },
      "source": [
        "We can use nonparameteric statistical methods, if we get our data not from a gaussian distribution."
      ]
    },
    {
      "cell_type": "markdown",
      "metadata": {
        "id": "7B6auu1kaxmH",
        "colab_type": "text"
      },
      "source": [
        "Data in which the distribution is unknown or cannot be easily identified is called nonparametric."
      ]
    },
    {
      "cell_type": "markdown",
      "metadata": {
        "id": "b94jYTyla2is",
        "colab_type": "text"
      },
      "source": [
        "Another word for non-parametric data is distribution-free data."
      ]
    },
    {
      "cell_type": "markdown",
      "metadata": {
        "id": "aP4PzavxbLmJ",
        "colab_type": "text"
      },
      "source": [
        "Before performing non-parametric statistical methods, we have to convert our data into ranking format. Which means:\n",
        "- Sort all data in the sample in ascending order.\n",
        "- Assign an integer rank for 1 to N for each unique value in the data sample."
      ]
    },
    {
      "cell_type": "markdown",
      "metadata": {
        "id": "FfCwIBmtbls4",
        "colab_type": "text"
      },
      "source": [
        "Common non-parametric statistical method for checking the difference between two samples is Mann-Whitney U test. This is a non-parametric equivalent of t-test."
      ]
    },
    {
      "cell_type": "code",
      "metadata": {
        "id": "joVwHtIPb8Px",
        "colab_type": "code",
        "colab": {}
      },
      "source": [
        "from scipy.stats import mannwhitneyu\n",
        "data1 = 50 + (np.random.rand(100) * 10)\n",
        "data2 = 51 + (np.random.rand(100) * 10)"
      ],
      "execution_count": 70,
      "outputs": []
    },
    {
      "cell_type": "code",
      "metadata": {
        "id": "WWgNFQTIcItN",
        "colab_type": "code",
        "colab": {
          "base_uri": "https://localhost:8080/",
          "height": 34
        },
        "outputId": "e8907881-bc84-48e2-f31c-480bdf2d107c"
      },
      "source": [
        "stat, p = mannwhitneyu(data1, data2)\n",
        "print(f\"Statistic={stat:.3f}, P-value={p:.3f}\")"
      ],
      "execution_count": 71,
      "outputs": [
        {
          "output_type": "stream",
          "text": [
            "Statistic=4017.000, P-value=0.008\n"
          ],
          "name": "stdout"
        }
      ]
    }
  ]
}