{
  "nbformat": 4,
  "nbformat_minor": 0,
  "metadata": {
    "colab": {
      "name": "classification.ipynb",
      "provenance": [],
      "collapsed_sections": []
    },
    "kernelspec": {
      "name": "python3",
      "display_name": "Python 3"
    }
  },
  "cells": [
    {
      "cell_type": "markdown",
      "metadata": {
        "id": "fVmS26LAQILL",
        "colab_type": "text"
      },
      "source": [
        "# Classification\n"
      ]
    },
    {
      "cell_type": "markdown",
      "metadata": {
        "id": "kpKJu-uzQJ1P",
        "colab_type": "text"
      },
      "source": [
        "## Which of these is a classification problem?"
      ]
    },
    {
      "cell_type": "markdown",
      "metadata": {
        "id": "DMMUDlZPQUQY",
        "colab_type": "text"
      },
      "source": [
        "A. Using labeled financial data to predict whether the value of a stock will go up or go down next week."
      ]
    },
    {
      "cell_type": "markdown",
      "metadata": {
        "id": "8VXZcj5iQgd3",
        "colab_type": "text"
      },
      "source": [
        "## Numerical EDA"
      ]
    },
    {
      "cell_type": "markdown",
      "metadata": {
        "id": "BTdsfdJ3RxNG",
        "colab_type": "text"
      },
      "source": [
        "D. There are 17 predictor variables, or features, in this DataFrame."
      ]
    },
    {
      "cell_type": "markdown",
      "metadata": {
        "id": "xOShXi-VSXUN",
        "colab_type": "text"
      },
      "source": [
        "## Visual EDA"
      ]
    },
    {
      "cell_type": "markdown",
      "metadata": {
        "id": "ozJyv1WMSa_b",
        "colab_type": "text"
      },
      "source": [
        "C. Both 'satellite' and 'missile'"
      ]
    },
    {
      "cell_type": "markdown",
      "metadata": {
        "id": "BdHlxsEUTusd",
        "colab_type": "text"
      },
      "source": [
        "## k-Nearest Neighbors: Fit"
      ]
    },
    {
      "cell_type": "code",
      "metadata": {
        "id": "AjyF5x0WUswr",
        "colab_type": "code",
        "colab": {}
      },
      "source": [
        "# Import KNeighborsClassifier from sklearn.neighbors\n",
        "from sklearn.neighbors import KNeighborsClassifier\n",
        "\n",
        "# Create arrays for the features and the response variable\n",
        "y = df['party'].values\n",
        "X = df.drop('party', axis=1).values\n",
        "\n",
        "# Create a k-NN classifier with 6 neighbors\n",
        "knn = KNeighborsClassifier(n_neighbors=6)\n",
        "\n",
        "# Fit the classifier to the data\n",
        "knn.fit(X, y)\n"
      ],
      "execution_count": 0,
      "outputs": []
    },
    {
      "cell_type": "markdown",
      "metadata": {
        "id": "3cIMqgTyVZzx",
        "colab_type": "text"
      },
      "source": [
        "## k-Nearest Neighbors: Predict"
      ]
    },
    {
      "cell_type": "code",
      "metadata": {
        "id": "hJCRS8_NVaLW",
        "colab_type": "code",
        "colab": {}
      },
      "source": [
        "# Import KNeighborsClassifier from sklearn.neighbors\n",
        "from sklearn.neighbors import KNeighborsClassifier \n",
        "\n",
        "# Create arrays for the features and the response variable\n",
        "y = df.iloc[:, 0].values\n",
        "X = df.iloc[:, 1:].values\n",
        "\n",
        "# Create a k-NN classifier with 6 neighbors: knn\n",
        "knn = KNeighborsClassifier(n_neighbors=6)\n",
        "\n",
        "# Fit the classifier to the data\n",
        "knn.fit(X, y)\n",
        "\n",
        "# Predict the labels for the training data X\n",
        "y_pred = knn.predict(X)\n",
        "\n",
        "# Predict and print the label for the new data point X_new\n",
        "new_prediction = knn.predict(X_new)\n",
        "print(\"Prediction: {}\".format(new_prediction))\n"
      ],
      "execution_count": 0,
      "outputs": []
    },
    {
      "cell_type": "markdown",
      "metadata": {
        "id": "G-bW1re0XdlC",
        "colab_type": "text"
      },
      "source": [
        "## The digits recognition dataset"
      ]
    },
    {
      "cell_type": "code",
      "metadata": {
        "id": "2sYqa5MxXd6W",
        "colab_type": "code",
        "colab": {}
      },
      "source": [
        "# Import necessary modules\n",
        "from sklearn import datasets\n",
        "import matplotlib.pyplot as plt\n",
        "\n",
        "# Load the digits dataset: digits\n",
        "digits = datasets.load_digits()\n",
        "\n",
        "# Print the keys and DESCR of the dataset\n",
        "print(digits.keys())\n",
        "print(digits['DESCR'])\n",
        "\n",
        "# Print the shape of the images and data keys\n",
        "print(digits.images.shape)\n",
        "print(digits.data.shape)\n",
        "\n",
        "# Display digit 1010\n",
        "plt.imshow(digits.images[1010], cmap=plt.cm.gray_r, interpolation='nearest')\n",
        "plt.show()"
      ],
      "execution_count": 0,
      "outputs": []
    },
    {
      "cell_type": "markdown",
      "metadata": {
        "id": "Eus18V5xYVU1",
        "colab_type": "text"
      },
      "source": [
        "## Train/Test Split + Fit/Predict/Accuracy"
      ]
    },
    {
      "cell_type": "code",
      "metadata": {
        "id": "Nue_EXpvYVsE",
        "colab_type": "code",
        "colab": {}
      },
      "source": [
        "# Import necessary modules\n",
        "from sklearn.neighbors import KNeighborsClassifier\n",
        "from sklearn.model_selection import train_test_split\n",
        "\n",
        "# Create feature and target arrays\n",
        "X = digits['data']\n",
        "y = digits['target']\n",
        "\n",
        "# Split into training and test set\n",
        "X_train, X_test, y_train, y_test = train_test_split(X, y, test_size = 0.2, random_state=42, stratify=y)\n",
        "\n",
        "# Create a k-NN classifier with 7 neighbors: knn\n",
        "knn = KNeighborsClassifier(n_neighbors=7)\n",
        "\n",
        "# Fit the classifier to the training data\n",
        "knn.fit(X_train, y_train)\n",
        "\n",
        "# Print the accuracy\n",
        "print(knn.score(X_test, y_test))\n"
      ],
      "execution_count": 0,
      "outputs": []
    },
    {
      "cell_type": "markdown",
      "metadata": {
        "id": "gZ20ElZyZK_f",
        "colab_type": "text"
      },
      "source": [
        "## Overfitting and underfitting"
      ]
    },
    {
      "cell_type": "code",
      "metadata": {
        "id": "8RjkSCZIZLVk",
        "colab_type": "code",
        "colab": {}
      },
      "source": [
        "# Setup arrays to store train and test accuracies\n",
        "neighbors = np.arange(1, 9)\n",
        "train_accuracy = np.empty(len(neighbors))\n",
        "test_accuracy = np.empty(len(neighbors))\n",
        "\n",
        "# Loop over different values of k\n",
        "for i, k in enumerate(neighbors):\n",
        "    # Setup a k-NN Classifier with k neighbors: knn\n",
        "    knn = KNeighborsClassifier(n_neighbors=k)\n",
        "\n",
        "    # Fit the classifier to the training data\n",
        "    knn.fit(X_train, y_train)\n",
        "    \n",
        "    #Compute accuracy on the training set\n",
        "    train_accuracy[i] = knn.score(X_train, y_train)\n",
        "\n",
        "    #Compute accuracy on the testing set\n",
        "    test_accuracy[i] = knn.score(X_test, y_test)\n",
        "\n",
        "# Generate plot\n",
        "plt.title('k-NN: Varying Number of Neighbors')\n",
        "plt.plot(neighbors, test_accuracy, label = 'Testing Accuracy')\n",
        "plt.plot(neighbors, train_accuracy, label = 'Training Accuracy')\n",
        "plt.legend()\n",
        "plt.xlabel('Number of Neighbors')\n",
        "plt.ylabel('Accuracy')\n",
        "plt.show()\n"
      ],
      "execution_count": 0,
      "outputs": []
    }
  ]
}