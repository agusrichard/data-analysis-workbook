{
  "nbformat": 4,
  "nbformat_minor": 0,
  "metadata": {
    "colab": {
      "name": "bootstrap_confidence_intervals.ipynb",
      "provenance": [],
      "collapsed_sections": []
    },
    "kernelspec": {
      "name": "python3",
      "display_name": "Python 3"
    }
  },
  "cells": [
    {
      "cell_type": "markdown",
      "metadata": {
        "id": "Lj0vt28iD6Ls",
        "colab_type": "text"
      },
      "source": [
        "# Bootstrap confidence intervals\n"
      ]
    },
    {
      "cell_type": "markdown",
      "metadata": {
        "id": "oQdrp_jdECZB",
        "colab_type": "text"
      },
      "source": [
        "## Getting the terminology down"
      ]
    },
    {
      "cell_type": "markdown",
      "metadata": {
        "id": "6j6wlb5wFNDd",
        "colab_type": "text"
      },
      "source": [
        "B. A single value of a statistic computed from a bootstrap sample."
      ]
    },
    {
      "cell_type": "markdown",
      "metadata": {
        "id": "W5jMRoyUFZoh",
        "colab_type": "text"
      },
      "source": [
        "## Bootstrapping by hand"
      ]
    },
    {
      "cell_type": "markdown",
      "metadata": {
        "id": "8j918J_sFb57",
        "colab_type": "text"
      },
      "source": [
        "E. There are 27 unique samples, and the maximum mean is 1."
      ]
    },
    {
      "cell_type": "markdown",
      "metadata": {
        "id": "K3Kr7jyJF6Su",
        "colab_type": "text"
      },
      "source": [
        "## Visualizing bootstrap samples"
      ]
    },
    {
      "cell_type": "code",
      "metadata": {
        "id": "ATF-NMUsF8de",
        "colab_type": "code",
        "colab": {}
      },
      "source": [
        "for _ in range(50):\n",
        "    # Generate bootstrap sample: bs_sample\n",
        "    bs_sample = np.random.choice(rainfall, size=len(rainfall))\n",
        "\n",
        "    # Compute and plot ECDF from bootstrap sample\n",
        "    x, y = ecdf(bs_sample)\n",
        "    _ = plt.plot(x, y, marker='.', linestyle='none',\n",
        "                 color='gray', alpha=0.1)\n",
        "\n",
        "# Compute and plot ECDF from original data\n",
        "x, y = ecdf(rainfall)\n",
        "_ = plt.plot(x, y, marker='.')\n",
        "\n",
        "# Make margins and label axes\n",
        "plt.margins(0.02)\n",
        "_ = plt.xlabel('yearly rainfall (mm)')\n",
        "_ = plt.ylabel('ECDF')\n",
        "\n",
        "# Show the plot\n",
        "plt.show()"
      ],
      "execution_count": 0,
      "outputs": []
    },
    {
      "cell_type": "markdown",
      "metadata": {
        "id": "P-d7NxpwHie7",
        "colab_type": "text"
      },
      "source": [
        "## Generating many bootstrap replicates"
      ]
    },
    {
      "cell_type": "code",
      "metadata": {
        "id": "NrQJ9smmHi55",
        "colab_type": "code",
        "colab": {}
      },
      "source": [
        "def draw_bs_reps(data, func, size=1):\n",
        "    \"\"\"Draw bootstrap replicates.\"\"\"\n",
        "\n",
        "    # Initialize array of replicates: bs_replicates\n",
        "    bs_replicates = np.empty(size=size)\n",
        "\n",
        "    # Generate replicates\n",
        "    for i in range(size):\n",
        "        bs_replicates[i] = bootstrap_replicate_1d(data, func)\n",
        "\n",
        "    return bs_replicates\n"
      ],
      "execution_count": 0,
      "outputs": []
    },
    {
      "cell_type": "markdown",
      "metadata": {
        "id": "tRFD-WSGIJZl",
        "colab_type": "text"
      },
      "source": [
        "## Bootstrap replicates of the mean and the SEM"
      ]
    },
    {
      "cell_type": "code",
      "metadata": {
        "id": "m3jZEUi0IJuv",
        "colab_type": "code",
        "colab": {}
      },
      "source": [
        "# Take 10,000 bootstrap replicates of the mean: bs_replicates\n",
        "bs_replicates = draw_bs_reps(rainfall, np.mean, size=10000)\n",
        "\n",
        "# Compute and print SEM\n",
        "sem = np.std(rainfall) / np.sqrt(len(rainfall))\n",
        "print(sem)\n",
        "\n",
        "# Compute and print standard deviation of bootstrap replicates\n",
        "bs_std = np.std(bs_replicates)\n",
        "print(bs_std)\n",
        "\n",
        "# Make a histogram of the results\n",
        "_ = plt.hist(bs_replicates, bins=50, normed=True)\n",
        "_ = plt.xlabel('mean annual rainfall (mm)')\n",
        "_ = plt.ylabel('PDF')\n",
        "\n",
        "# Show the plot\n",
        "plt.show()"
      ],
      "execution_count": 0,
      "outputs": []
    },
    {
      "cell_type": "markdown",
      "metadata": {
        "id": "8bCE4Sv2J958",
        "colab_type": "text"
      },
      "source": [
        "## Confidence intervals of rainfall data"
      ]
    },
    {
      "cell_type": "markdown",
      "metadata": {
        "id": "MjY-YXExJ-PH",
        "colab_type": "text"
      },
      "source": [
        "B. (780, 821) mm/year"
      ]
    },
    {
      "cell_type": "markdown",
      "metadata": {
        "id": "gDjLVYWiKVEl",
        "colab_type": "text"
      },
      "source": [
        "## Bootstrap replicates of other statistics"
      ]
    },
    {
      "cell_type": "code",
      "metadata": {
        "id": "PKk71OpKKXDC",
        "colab_type": "code",
        "colab": {}
      },
      "source": [
        "# Generate 10,000 bootstrap replicates of the variance: bs_replicates\n",
        "bs_replicates = draw_bs_reps(rainfall, np.var, size=10000)\n",
        "\n",
        "# Put the variance in units of square centimeters\n",
        "bs_replicates = bs_replicates / 100\n",
        "\n",
        "# Make a histogram of the results\n",
        "_ = plt.hist(bs_replicates, bins=50, normed=True)\n",
        "_ = plt.xlabel('variance of annual rainfall (sq. cm)')\n",
        "_ = plt.ylabel('PDF')\n",
        "\n",
        "# Show the plot\n",
        "plt.show()\n"
      ],
      "execution_count": 0,
      "outputs": []
    },
    {
      "cell_type": "markdown",
      "metadata": {
        "id": "GPR5ihzMK0nQ",
        "colab_type": "text"
      },
      "source": [
        "## Confidence interval on the rate of no-hitters"
      ]
    },
    {
      "cell_type": "code",
      "metadata": {
        "id": "UISfpSOwK0-b",
        "colab_type": "code",
        "colab": {}
      },
      "source": [
        "# Draw bootstrap replicates of the mean no-hitter time (equal to tau): bs_replicates\n",
        "bs_replicates = draw_bs_reps(nohitter_times, np.mean, size=10000)\n",
        "\n",
        "# Compute the 95% confidence interval: conf_int\n",
        "conf_int = np.percentile(bs_replicates, [2.5, 97.5])\n",
        "\n",
        "# Print the confidence interval\n",
        "print('95% confidence interval =', conf_int[1], 'games')\n",
        "\n",
        "# Plot the histogram of the replicates\n",
        "_ = plt.hist(bs_replicates, bins=50, normed=True)\n",
        "_ = plt.xlabel(r'$\\tau$ (games)')\n",
        "_ = plt.ylabel('PDF')\n",
        "\n",
        "# Show the plot\n",
        "plt.show()\n"
      ],
      "execution_count": 0,
      "outputs": []
    },
    {
      "cell_type": "markdown",
      "metadata": {
        "id": "GkEfDzN7MIR8",
        "colab_type": "text"
      },
      "source": [
        "## A function to do pairs bootstrap"
      ]
    },
    {
      "cell_type": "code",
      "metadata": {
        "id": "m268lnVWMIoY",
        "colab_type": "code",
        "colab": {}
      },
      "source": [
        "def draw_bs_pairs_linreg(x, y, size=1):\n",
        "    \"\"\"Perform pairs bootstrap for linear regression.\"\"\"\n",
        "\n",
        "    # Set up array of indices to sample from: inds\n",
        "    inds = np.arange(len(x))\n",
        "\n",
        "    # Initialize replicates: bs_slope_reps, bs_intercept_reps\n",
        "    bs_slope_reps = np.empty(size)\n",
        "    bs_intercept_reps = np.empty(size)\n",
        "\n",
        "    # Generate replicates\n",
        "    for i in range(size):\n",
        "        bs_inds = np.random.choice(inds, size=len(inds))\n",
        "        bs_x, bs_y = x[bs_inds], y[bs_inds]\n",
        "        bs_slope_reps[i], bs_intercept_reps[i] = np.polyfit(bs_x, bs_y, 1)\n",
        "\n",
        "    return bs_slope_reps, bs_intercept_reps\n"
      ],
      "execution_count": 0,
      "outputs": []
    },
    {
      "cell_type": "markdown",
      "metadata": {
        "id": "4JrlzG0vNOvi",
        "colab_type": "text"
      },
      "source": [
        "## Pairs bootstrap of literacy/fertility data"
      ]
    },
    {
      "cell_type": "code",
      "metadata": {
        "id": "ubIeMI8SNPHw",
        "colab_type": "code",
        "colab": {}
      },
      "source": [
        "# Generate replicates of slope and intercept using pairs bootstrap\n",
        "bs_slope_reps, bs_intercept_reps = draw_bs_pairs_linreg(illiteracy, fertility, size=1000)\n",
        "\n",
        "# Compute and print 95% CI for slope\n",
        "print(np.percentile(bs_slope_reps, [2.5, 97.5]))\n",
        "\n",
        "# Plot the histogram\n",
        "_ = plt.hist(bs_slope_reps, bins=50, normed=True)\n",
        "_ = plt.xlabel('slope')\n",
        "_ = plt.ylabel('PDF')\n",
        "plt.show()"
      ],
      "execution_count": 0,
      "outputs": []
    },
    {
      "cell_type": "markdown",
      "metadata": {
        "id": "Ba_KTZC3NiPy",
        "colab_type": "text"
      },
      "source": [
        "## Plotting bootstrap regressions"
      ]
    },
    {
      "cell_type": "code",
      "metadata": {
        "id": "-Qnk8suZNimj",
        "colab_type": "code",
        "colab": {}
      },
      "source": [
        "# Generate array of x-values for bootstrap lines: x\n",
        "x = np.array([0, 100])\n",
        "\n",
        "# Plot the bootstrap lines\n",
        "for i in range(100):\n",
        "    _ = plt.plot(x, \n",
        "                 bs_slope_reps[i]*x + bs_intercept_reps[i],\n",
        "                 linewidth=0.5, alpha=0.2, color='red')\n",
        "\n",
        "# Plot the data\n",
        "_ = plt.plot(illiteracy, fertility, marker='.', linestyle='none')\n",
        "\n",
        "# Label axes, set the margins, and show the plot\n",
        "_ = plt.xlabel('illiteracy')\n",
        "_ = plt.ylabel('fertility')\n",
        "plt.margins(0.02)\n",
        "plt.show()"
      ],
      "execution_count": 0,
      "outputs": []
    }
  ]
}