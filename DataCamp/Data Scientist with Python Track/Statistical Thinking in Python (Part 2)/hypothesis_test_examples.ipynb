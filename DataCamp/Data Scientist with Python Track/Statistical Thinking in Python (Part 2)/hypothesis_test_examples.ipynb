{
  "nbformat": 4,
  "nbformat_minor": 0,
  "metadata": {
    "colab": {
      "name": "hypothesis_test_examples.ipynb",
      "provenance": [],
      "collapsed_sections": []
    },
    "kernelspec": {
      "name": "python3",
      "display_name": "Python 3"
    }
  },
  "cells": [
    {
      "cell_type": "markdown",
      "metadata": {
        "id": "nksnIZSZNaYM",
        "colab_type": "text"
      },
      "source": [
        "# Hypothesis test examples"
      ]
    },
    {
      "cell_type": "markdown",
      "metadata": {
        "id": "PZIQn4oqNW2W",
        "colab_type": "text"
      },
      "source": [
        "## The vote for the Civil Rights Act in 1964"
      ]
    },
    {
      "cell_type": "code",
      "metadata": {
        "id": "paLn5AMvLuFp",
        "colab_type": "code",
        "colab": {}
      },
      "source": [
        "# Construct arrays of data: dems, reps\n",
        "dems = np.array([True] * 153 + [False] * 91)\n",
        "reps = np.array([True] * 136 + [False] * 35)\n",
        "\n",
        "def frac_yea_dems(dems, reps):\n",
        "    \"\"\"Compute fraction of Democrat yea votes.\"\"\"\n",
        "    frac = np.sum(dems) / len(dems)\n",
        "    return frac\n",
        "\n",
        "# Acquire permutation samples: perm_replicates\n",
        "perm_replicates = draw_perm_reps(dems, reps, frac_yea_dems, 10000)\n",
        "\n",
        "# Compute and print p-value: p\n",
        "p = np.sum(perm_replicates <= 153/244) / len(perm_replicates)\n",
        "print('p-value =', p)"
      ],
      "execution_count": 0,
      "outputs": []
    },
    {
      "cell_type": "markdown",
      "metadata": {
        "id": "Zxp2x8zTOj1e",
        "colab_type": "text"
      },
      "source": [
        "## What is equivalent?"
      ]
    },
    {
      "cell_type": "markdown",
      "metadata": {
        "id": "toeCPC6YOkNR",
        "colab_type": "text"
      },
      "source": [
        "B. You measure the number of people who click on an ad on your company's website before and after changing its color."
      ]
    },
    {
      "cell_type": "markdown",
      "metadata": {
        "id": "u500mC42PNUn",
        "colab_type": "text"
      },
      "source": [
        "## A time-on-website analog"
      ]
    },
    {
      "cell_type": "code",
      "metadata": {
        "id": "L40k6Yy5PPXn",
        "colab_type": "code",
        "colab": {}
      },
      "source": [
        "# Compute the observed difference in mean inter-no-hitter times: nht_diff_obs\n",
        "nht_diff_obs = diff_of_means(nht_dead, nht_live)\n",
        "\n",
        "# Acquire 10,000 permutation replicates of difference in mean no-hitter time: perm_replicates\n",
        "perm_replicates = draw_perm_reps(nht_dead, nht_live, diff_of_means, 10000)\n",
        "\n",
        "\n",
        "# Compute and print the p-value: p\n",
        "p = np.sum(perm_replicates <= nht_diff_obs) / len(perm_replicates)\n",
        "print('p-val =', p)"
      ],
      "execution_count": 0,
      "outputs": []
    },
    {
      "cell_type": "markdown",
      "metadata": {
        "id": "vAAdzME1Qehm",
        "colab_type": "text"
      },
      "source": [
        "## What should you have done first?"
      ]
    },
    {
      "cell_type": "markdown",
      "metadata": {
        "id": "RrfSYLO-Qe4x",
        "colab_type": "text"
      },
      "source": [
        "A. Performed EDA, perhaps plotting the ECDFs of inter-no-hitter times in the dead ball and live ball eras."
      ]
    },
    {
      "cell_type": "markdown",
      "metadata": {
        "id": "ueXeT23QQnY_",
        "colab_type": "text"
      },
      "source": [
        "## Simulating a null hypothesis concerning correlation"
      ]
    },
    {
      "cell_type": "markdown",
      "metadata": {
        "id": "GTSEFMDZShc6",
        "colab_type": "text"
      },
      "source": [
        "D. Do a permutation test: Permute the illiteracy values but leave the fertility values fixed to generate a new set of (illiteracy, fertility) data."
      ]
    },
    {
      "cell_type": "markdown",
      "metadata": {
        "id": "F-FETfEtTLMN",
        "colab_type": "text"
      },
      "source": [
        "## Hypothesis test on Pearson correlation"
      ]
    },
    {
      "cell_type": "code",
      "metadata": {
        "id": "jd7mkG0pTUO0",
        "colab_type": "code",
        "colab": {}
      },
      "source": [
        "# Compute observed correlation: r_obs\n",
        "r_obs = pearson_r(illiteracy, fertility)\n",
        "\n",
        "# Initialize permutation replicates: perm_replicates\n",
        "perm_replicates = np.empty(10000)\n",
        "\n",
        "# Draw replicates\n",
        "for i in range(10000):\n",
        "    # Permute illiteracy measurments: illiteracy_permuted\n",
        "    illiteracy_permuted = np.random.permutation(illiteracy)\n",
        "\n",
        "    # Compute Pearson correlation\n",
        "    perm_replicates[i] = pearson_r(illiteracy_permuted, fertility)\n",
        "\n",
        "# Compute p-value: p\n",
        "p = np.sum(perm_replicates >= r_obs) / len(perm_replicates)\n",
        "print('p-val =', p)"
      ],
      "execution_count": 0,
      "outputs": []
    },
    {
      "cell_type": "markdown",
      "metadata": {
        "id": "NVin7fw1UR2S",
        "colab_type": "text"
      },
      "source": [
        "## Do neonicotinoid insecticides have unintended consequences?"
      ]
    },
    {
      "cell_type": "code",
      "metadata": {
        "id": "Ef1Jr5mwUSMJ",
        "colab_type": "code",
        "colab": {}
      },
      "source": [
        "# Compute x,y values for ECDFs\n",
        "x_control, y_control = ecdf(control)\n",
        "x_treated, y_treated = ecdf(treated)\n",
        "\n",
        "# Plot the ECDFs\n",
        "plt.plot(x_control, y_control, marker='.', linestyle='none')\n",
        "plt.plot(x_treated, y_treated, marker='.', linestyle='none')\n",
        "\n",
        "# Set the margins\n",
        "plt.margins(0.02)\n",
        "\n",
        "# Add a legend\n",
        "plt.legend(('control', 'treated'), loc='lower right')\n",
        "\n",
        "# Label axes and show plot\n",
        "plt.xlabel('millions of alive sperm per mL')\n",
        "plt.ylabel('ECDF')\n",
        "plt.show()\n"
      ],
      "execution_count": 0,
      "outputs": []
    },
    {
      "cell_type": "markdown",
      "metadata": {
        "id": "fal3HCrcU31f",
        "colab_type": "text"
      },
      "source": [
        "## Bootstrap hypothesis test on bee sperm counts"
      ]
    },
    {
      "cell_type": "code",
      "metadata": {
        "id": "u3vlswyGU4MB",
        "colab_type": "code",
        "colab": {}
      },
      "source": [
        "# Compute the difference in mean sperm count: diff_means\n",
        "diff_means = np.mean(control) - np.mean(treated)\n",
        "\n",
        "# Compute mean of pooled data: mean_count\n",
        "mean_count = np.mean(np.concatenate((control, treated)))\n",
        "\n",
        "# Generate shifted data sets\n",
        "control_shifted = control - np.mean(control) + mean_count\n",
        "treated_shifted = treated - np.mean(treated) + mean_count\n",
        "\n",
        "# Generate bootstrap replicates\n",
        "bs_reps_control = draw_bs_reps(control_shifted,\n",
        "                       np.mean, size=10000)\n",
        "bs_reps_treated = draw_bs_reps(treated_shifted,\n",
        "                       np.mean, size=10000)\n",
        "\n",
        "# Get replicates of difference of means: bs_replicates\n",
        "bs_replicates = bs_reps_control - bs_reps_treated\n",
        "\n",
        "# Compute and print p-value: p\n",
        "p = np.sum(bs_replicates >= np.mean(control) - np.mean(treated)) \\\n",
        "            / len(bs_replicates)\n",
        "print('p-value =', p)\n"
      ],
      "execution_count": 0,
      "outputs": []
    }
  ]
}