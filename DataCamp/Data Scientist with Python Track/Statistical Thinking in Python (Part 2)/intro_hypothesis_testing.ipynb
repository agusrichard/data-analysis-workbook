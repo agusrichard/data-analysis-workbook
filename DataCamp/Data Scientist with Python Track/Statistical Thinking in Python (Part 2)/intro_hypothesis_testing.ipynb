{
  "nbformat": 4,
  "nbformat_minor": 0,
  "metadata": {
    "colab": {
      "name": "intro_hypothesis_testing.ipynb",
      "provenance": [],
      "collapsed_sections": []
    },
    "kernelspec": {
      "name": "python3",
      "display_name": "Python 3"
    }
  },
  "cells": [
    {
      "cell_type": "markdown",
      "metadata": {
        "id": "CO1cXsXtq7Ck",
        "colab_type": "text"
      },
      "source": [
        "# Introduction to hypothesis testing"
      ]
    },
    {
      "cell_type": "markdown",
      "metadata": {
        "id": "UpvRi_9errWv",
        "colab_type": "text"
      },
      "source": [
        "## Generating a permutation sample"
      ]
    },
    {
      "cell_type": "code",
      "metadata": {
        "id": "chynxYVTrCPR",
        "colab_type": "code",
        "colab": {}
      },
      "source": [
        "def permutation_sample(data1, data2):\n",
        "    \"\"\"Generate a permutation sample from two data sets.\"\"\"\n",
        "\n",
        "    # Concatenate the data sets: data\n",
        "    data = np.concatenate((data1, data2))\n",
        "\n",
        "    # Permute the concatenated array: permuted_data\n",
        "    permuted_data = np.random.permutation(data)\n",
        "\n",
        "    # Split the permuted array into two: perm_sample_1, perm_sample_2\n",
        "    perm_sample_1 = permuted_data[:len(data1)]\n",
        "    perm_sample_2 = permuted_data[len(data1):]\n",
        "\n",
        "    return perm_sample_1, perm_sample_2"
      ],
      "execution_count": 0,
      "outputs": []
    },
    {
      "cell_type": "markdown",
      "metadata": {
        "id": "VqZUfac1rzOC",
        "colab_type": "text"
      },
      "source": [
        "## Visualizing permutation sampling"
      ]
    },
    {
      "cell_type": "code",
      "metadata": {
        "id": "8ywHmdI7rzof",
        "colab_type": "code",
        "colab": {}
      },
      "source": [
        "for _ in range(50):\n",
        "    # Generate permutation samples\n",
        "    perm_sample_1, perm_sample_2 = permutation_sample(rain_june, rain_november)\n",
        "\n",
        "\n",
        "    # Compute ECDFs\n",
        "    x_1, y_1 = ecdf(perm_sample_1)\n",
        "    x_2, y_2 = ecdf(perm_sample_2)\n",
        "\n",
        "    # Plot ECDFs of permutation sample\n",
        "    _ = plt.plot(x_1, y_1, marker='.', linestyle='none',\n",
        "                 color='red', alpha=0.02)\n",
        "    _ = plt.plot(x_2, y_2, marker='.', linestyle='none',\n",
        "                 color='blue', alpha=0.02)\n",
        "\n",
        "# Create and plot ECDFs from original data\n",
        "x_1, y_1 = ecdf(rain_june)\n",
        "x_2, y_2 = ecdf(rain_november)\n",
        "_ = plt.plot(x_1, y_1, marker='.', linestyle='none', color='red')\n",
        "_ = plt.plot(x_2, y_2, marker='.', linestyle='none', color='blue')\n",
        "\n",
        "# Label axes, set margin, and show plot\n",
        "plt.margins(0.02)\n",
        "_ = plt.xlabel('monthly rainfall (mm)')\n",
        "_ = plt.ylabel('ECDF')\n",
        "plt.show()"
      ],
      "execution_count": 0,
      "outputs": []
    },
    {
      "cell_type": "markdown",
      "metadata": {
        "id": "zz--hsQsvNqZ",
        "colab_type": "text"
      },
      "source": [
        "## Test statistics"
      ]
    },
    {
      "cell_type": "markdown",
      "metadata": {
        "id": "ussW5eX7vOBX",
        "colab_type": "text"
      },
      "source": [
        "C. be pertinent to the question you are seeking to answer in your hypothesis test."
      ]
    },
    {
      "cell_type": "markdown",
      "metadata": {
        "id": "3awdN-7evxYC",
        "colab_type": "text"
      },
      "source": [
        "## What is a p-value?"
      ]
    },
    {
      "cell_type": "markdown",
      "metadata": {
        "id": "xt_k2RpYvY7a",
        "colab_type": "text"
      },
      "source": [
        "C. the probability of observing a test statistic equally or more extreme than the one you observed, given that the null hypothesis is true."
      ]
    },
    {
      "cell_type": "markdown",
      "metadata": {
        "id": "N1t8A5RQvz9r",
        "colab_type": "text"
      },
      "source": [
        "## Generating permutation replicates"
      ]
    },
    {
      "cell_type": "code",
      "metadata": {
        "id": "l_T1kDiNv394",
        "colab_type": "code",
        "colab": {}
      },
      "source": [
        "def draw_perm_reps(data_1, data_2, func, size=1):\n",
        "    \"\"\"Generate multiple permutation replicates.\"\"\"\n",
        "\n",
        "    # Initialize array of replicates: perm_replicates\n",
        "    perm_replicates = np.empty(size)\n",
        "\n",
        "    for i in range(size):\n",
        "        # Generate permutation sample\n",
        "        perm_sample_1, perm_sample_2 = permutation_sample(data_1, data_2)\n",
        "\n",
        "        # Compute the test statistic\n",
        "        perm_replicates[i] = func(perm_sample_1, perm_sample_2)\n",
        "\n",
        "    return perm_replicates"
      ],
      "execution_count": 0,
      "outputs": []
    },
    {
      "cell_type": "markdown",
      "metadata": {
        "id": "T5wUMjLiwX1y",
        "colab_type": "text"
      },
      "source": [
        "## Look before you leap: EDA before hypothesis testing"
      ]
    },
    {
      "cell_type": "code",
      "metadata": {
        "id": "-C9fvtlwwYgi",
        "colab_type": "code",
        "colab": {}
      },
      "source": [
        "# Make bee swarm plot\n",
        "_ = sns.swarmplot(data=df, x='ID', y='impact_force')\n",
        "\n",
        "# Label axes\n",
        "_ = plt.xlabel('frog')\n",
        "_ = plt.ylabel('impact force (N)')\n",
        "\n",
        "# Show the plot\n",
        "plt.show()\n"
      ],
      "execution_count": 0,
      "outputs": []
    },
    {
      "cell_type": "markdown",
      "metadata": {
        "id": "Kui_ppwVxBxT",
        "colab_type": "text"
      },
      "source": [
        "## Permutation test on frog data"
      ]
    },
    {
      "cell_type": "code",
      "metadata": {
        "id": "P-hTFmI6xCOY",
        "colab_type": "code",
        "colab": {}
      },
      "source": [
        "def diff_of_means(data_1, data_2):\n",
        "    \"\"\"Difference in means of two arrays.\"\"\"\n",
        "\n",
        "    # The difference of means of data_1, data_2: diff\n",
        "    diff = np.mean(data_1) - np.mean(data_2)\n",
        "\n",
        "    return diff\n",
        "\n",
        "# Compute difference of mean impact force from experiment: empirical_diff_means\n",
        "empirical_diff_means = diff_of_means(force_a, force_b)\n",
        "\n",
        "# Draw 10,000 permutation replicates: perm_replicates\n",
        "perm_replicates = draw_perm_reps(force_a, force_b,\n",
        "                                 diff_of_means, size=10000)\n",
        "\n",
        "# Compute p-value: p\n",
        "p = np.sum(perm_replicates >= empirical_diff_means) / len(perm_replicates)\n",
        "\n",
        "# Print the result\n",
        "print('p-value =', p)"
      ],
      "execution_count": 0,
      "outputs": []
    },
    {
      "cell_type": "markdown",
      "metadata": {
        "id": "5cdQ4w2R1_06",
        "colab_type": "text"
      },
      "source": [
        "## A one-sample bootstrap hypothesis test"
      ]
    },
    {
      "cell_type": "code",
      "metadata": {
        "id": "lIAMxYqB2AMP",
        "colab_type": "code",
        "colab": {}
      },
      "source": [
        "# Make an array of translated impact forces: translated_force_b\n",
        "translated_force_b = force_b - np.mean(force_b) + 0.55\n",
        "\n",
        "# Take bootstrap replicates of Frog B's translated impact forces: bs_replicates\n",
        "bs_replicates = draw_bs_reps(translated_force_b, np.mean, 10000)\n",
        "\n",
        "# Compute fraction of replicates that are less than the observed Frog B force: p\n",
        "p = np.sum(bs_replicates <= np.mean(force_b)) / 10000\n",
        "\n",
        "# Print the p-value\n",
        "print('p = ', p)\n"
      ],
      "execution_count": 0,
      "outputs": []
    },
    {
      "cell_type": "markdown",
      "metadata": {
        "id": "DtmFfWfc4Leq",
        "colab_type": "text"
      },
      "source": [
        "## A two-sample bootstrap hypothesis test for difference of means"
      ]
    },
    {
      "cell_type": "code",
      "metadata": {
        "id": "-iVahJFY4MP6",
        "colab_type": "code",
        "colab": {}
      },
      "source": [
        "# Compute mean of all forces: mean_force\n",
        "mean_force = np.mean(forces_concat)\n",
        "\n",
        "# Generate shifted arrays\n",
        "force_a_shifted = force_a - np.mean(force_a) + mean_force\n",
        "force_b_shifted = force_b - np.mean(force_b) + mean_force\n",
        "\n",
        "# Compute 10,000 bootstrap replicates from shifted arrays\n",
        "bs_replicates_a = draw_bs_reps(force_a_shifted, np.mean, 10000)\n",
        "bs_replicates_b = draw_bs_reps(force_b_shifted, np.mean, 10000)\n",
        "\n",
        "# Get replicates of difference of means: bs_replicates\n",
        "bs_replicates = bs_replicates_a - bs_replicates_b\n",
        "\n",
        "# Compute and print p-value: p\n",
        "p = np.sum(bs_replicates >= empirical_diff_means) / len(bs_replicates)\n",
        "print('p-value =', p)\n"
      ],
      "execution_count": 0,
      "outputs": []
    }
  ]
}