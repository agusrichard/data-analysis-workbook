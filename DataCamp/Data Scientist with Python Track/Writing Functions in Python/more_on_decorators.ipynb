{
  "nbformat": 4,
  "nbformat_minor": 0,
  "metadata": {
    "colab": {
      "name": "more_on_decorators.ipynb",
      "provenance": [],
      "collapsed_sections": []
    },
    "kernelspec": {
      "name": "python3",
      "display_name": "Python 3"
    }
  },
  "cells": [
    {
      "cell_type": "markdown",
      "metadata": {
        "id": "D8djYR4J1499",
        "colab_type": "text"
      },
      "source": [
        "# More on Decorators"
      ]
    },
    {
      "cell_type": "markdown",
      "metadata": {
        "id": "lq2q3Cnv24bv",
        "colab_type": "text"
      },
      "source": [
        "## Print the return type"
      ]
    },
    {
      "cell_type": "code",
      "metadata": {
        "id": "dtsbh-2G3BzL",
        "colab_type": "code",
        "colab": {}
      },
      "source": [
        "def print_return_type(func):\n",
        "  # Define wrapper(), the decorated function\n",
        "  def wrapper(*args, **kwargs):\n",
        "    # Call the function being decorated\n",
        "    result = func(*args, **kwargs)\n",
        "    print('{}() returned type {}'.format(\n",
        "      func.__name__, type(result)\n",
        "    ))\n",
        "    return result\n",
        "  # Return the decorated function\n",
        "  return wrapper\n",
        "  \n",
        "@print_return_type\n",
        "def foo(value):\n",
        "  return value\n",
        "  \n",
        "print(foo(42))\n",
        "print(foo([1, 2, 3]))\n",
        "print(foo({'a': 42}))"
      ],
      "execution_count": 0,
      "outputs": []
    },
    {
      "cell_type": "markdown",
      "metadata": {
        "id": "H-9fm4ta3dQC",
        "colab_type": "text"
      },
      "source": [
        "## Counter"
      ]
    },
    {
      "cell_type": "code",
      "metadata": {
        "id": "eM6WVrG93djs",
        "colab_type": "code",
        "colab": {}
      },
      "source": [
        "def counter(func):\n",
        "  def wrapper(*args, **kwargs):\n",
        "    wrapper.count += 1\n",
        "    # Call the function being decorated and return the result\n",
        "    return func(*args, **kwargs)\n",
        "  wrapper.count = 0\n",
        "  # Return the new decorated function\n",
        "  return wrapper\n",
        "\n",
        "# Decorate foo() with the counter() decorator\n",
        "@counter\n",
        "def foo():\n",
        "  print('calling foo()')\n",
        "  \n",
        "foo()\n",
        "foo()\n",
        "\n",
        "print('foo() was called {} times.'.format(foo.count))"
      ],
      "execution_count": 0,
      "outputs": []
    },
    {
      "cell_type": "markdown",
      "metadata": {
        "id": "n57theCv5I_2",
        "colab_type": "text"
      },
      "source": [
        "## Preserving docstrings when decorating functions"
      ]
    },
    {
      "cell_type": "code",
      "metadata": {
        "id": "yFRm-yUz5JXo",
        "colab_type": "code",
        "colab": {}
      },
      "source": [
        "def add_hello(func):\n",
        "  def wrapper(*args, **kwargs):\n",
        "    print('Hello')\n",
        "    return func(*args, **kwargs)\n",
        "  return wrapper\n",
        "\n",
        "# Decorate print_sum() with the add_hello() decorator\n",
        "@add_hello\n",
        "def print_sum(a, b):\n",
        "  \"\"\"Adds two numbers and prints the sum\"\"\"\n",
        "  print(a + b)\n",
        "  \n",
        "print_sum(10, 20)\n",
        "print(print_sum.__doc__)"
      ],
      "execution_count": 0,
      "outputs": []
    },
    {
      "cell_type": "code",
      "metadata": {
        "id": "uN_NF_bY5kez",
        "colab_type": "code",
        "colab": {}
      },
      "source": [
        "def add_hello(func):\n",
        "  # Add a docstring to wrapper\n",
        "  def wrapper(*args, **kwargs):\n",
        "    \"\"\"Print 'hello' and then call the decorated function.\"\"\"\n",
        "    print('Hello')\n",
        "    return func(*args, **kwargs)\n",
        "  return wrapper\n",
        "\n",
        "@add_hello\n",
        "def print_sum(a, b):\n",
        "  \"\"\"Adds two numbers and prints the sum\"\"\"\n",
        "  print(a + b)\n",
        "  \n",
        "print_sum(10, 20)\n",
        "print(print_sum.__doc__)"
      ],
      "execution_count": 0,
      "outputs": []
    },
    {
      "cell_type": "code",
      "metadata": {
        "id": "DlIIikgh5uOC",
        "colab_type": "code",
        "colab": {}
      },
      "source": [
        "# Import the function you need to fix the problem\n",
        "from functools import wraps\n",
        "\n",
        "def add_hello(func):\n",
        "  def wrapper(*args, **kwargs):\n",
        "    \"\"\"Print 'hello' and then call the decorated function.\"\"\"\n",
        "    print('Hello')\n",
        "    return func(*args, **kwargs)\n",
        "  return wrapper\n",
        "  \n",
        "@add_hello\n",
        "def print_sum(a, b):\n",
        "  \"\"\"Adds two numbers and prints the sum\"\"\"\n",
        "  print(a + b)\n",
        "  \n",
        "print_sum(10, 20)\n",
        "print(print_sum.__doc__)"
      ],
      "execution_count": 0,
      "outputs": []
    },
    {
      "cell_type": "code",
      "metadata": {
        "id": "Mm6gDLTE5vGs",
        "colab_type": "code",
        "colab": {}
      },
      "source": [
        "from functools import wraps\n",
        "\n",
        "def add_hello(func):\n",
        "  # Decorate wrapper() so that it keeps func()'s metadata\n",
        "  @wraps(func)\n",
        "  def wrapper(*args, **kwargs):\n",
        "    \"\"\"Print 'hello' and then call the decorated function.\"\"\"\n",
        "    print('Hello')\n",
        "    return func(*args, **kwargs)\n",
        "  return wrapper\n",
        "  \n",
        "@add_hello\n",
        "def print_sum(a, b):\n",
        "  \"\"\"Adds two numbers and prints the sum\"\"\"\n",
        "  print(a + b)\n",
        "  \n",
        "print_sum(10, 20)\n",
        "print(print_sum.__doc__)"
      ],
      "execution_count": 0,
      "outputs": []
    },
    {
      "cell_type": "markdown",
      "metadata": {
        "id": "zJ9sb1JU54-R",
        "colab_type": "text"
      },
      "source": [
        "## Measuring decorator overhead"
      ]
    },
    {
      "cell_type": "code",
      "metadata": {
        "id": "n9rl9x1855ag",
        "colab_type": "code",
        "colab": {}
      },
      "source": [
        "@check_everything\n",
        "def duplicate(my_list):\n",
        "  \"\"\"Return a new list that repeats the input twice\"\"\"\n",
        "  return my_list + my_list\n",
        "\n",
        "t_start = time.time()\n",
        "duplicated_list = duplicate(list(range(50)))\n",
        "t_end = time.time()\n",
        "decorated_time = t_end - t_start\n",
        "\n",
        "t_start = time.time()\n",
        "# Call the original function instead of the decorated one\n",
        "duplicated_list = duplicate.__wrapped__(list(range(50)))\n",
        "t_end = time.time()\n",
        "undecorated_time = t_end - t_start\n",
        "\n",
        "print('Decorated time: {:.5f}s'.format(decorated_time))\n",
        "print('Undecorated time: {:.5f}s'.format(undecorated_time))"
      ],
      "execution_count": 0,
      "outputs": []
    },
    {
      "cell_type": "markdown",
      "metadata": {
        "id": "FDSSwKAe8B-f",
        "colab_type": "text"
      },
      "source": [
        "## Run_n_times()"
      ]
    },
    {
      "cell_type": "code",
      "metadata": {
        "id": "FsmLtrnE8CSh",
        "colab_type": "code",
        "colab": {}
      },
      "source": [
        "# Make print_sum() run 10 times with the run_n_times() decorator\n",
        "@run_n_times(10)\n",
        "def print_sum(a, b):\n",
        "  print(a + b)\n",
        "  \n",
        "print_sum(15, 20)"
      ],
      "execution_count": 0,
      "outputs": []
    },
    {
      "cell_type": "code",
      "metadata": {
        "id": "DmVeVIfZ8aaY",
        "colab_type": "code",
        "colab": {}
      },
      "source": [
        "# Use run_n_times() to create the run_five_times() decorator\n",
        "run_five_times = run_n_times(5)\n",
        "\n",
        "@run_five_times\n",
        "def print_sum(a, b):\n",
        "  print(a + b)\n",
        "  \n",
        "print_sum(4, 100)"
      ],
      "execution_count": 0,
      "outputs": []
    },
    {
      "cell_type": "code",
      "metadata": {
        "id": "SMSREG9J8iN-",
        "colab_type": "code",
        "colab": {}
      },
      "source": [
        "# Modify the print() function to always run 20 times\n",
        "print = run_n_times(20)(print)\n",
        "\n",
        "print('What is happening?!?!')"
      ],
      "execution_count": 0,
      "outputs": []
    },
    {
      "cell_type": "markdown",
      "metadata": {
        "id": "-9vdgGQr8qV9",
        "colab_type": "text"
      },
      "source": [
        "## HTML Generator"
      ]
    },
    {
      "cell_type": "code",
      "metadata": {
        "id": "zpmGXiAR8qqr",
        "colab_type": "code",
        "colab": {}
      },
      "source": [
        "def html(open_tag, close_tag):\n",
        "  def decorator(func):\n",
        "    @wraps(func)\n",
        "    def wrapper(*args, **kwargs):\n",
        "      msg = func(*args, **kwargs)\n",
        "      return '{}{}{}'.format(open_tag, msg, close_tag)\n",
        "    # Return the decorated function\n",
        "    return wrapper\n",
        "  # Return the decorator\n",
        "  return decorator"
      ],
      "execution_count": 0,
      "outputs": []
    },
    {
      "cell_type": "code",
      "metadata": {
        "id": "IGxC3IpE9KCa",
        "colab_type": "code",
        "colab": {}
      },
      "source": [
        "# Make hello() return bolded text\n",
        "@html('<b>', '</b>')\n",
        "def hello(name):\n",
        "  return 'Hello {}!'.format(name)\n",
        "  \n",
        "print(hello('Alice'))"
      ],
      "execution_count": 0,
      "outputs": []
    },
    {
      "cell_type": "code",
      "metadata": {
        "id": "tcbxQTuO9Q0t",
        "colab_type": "code",
        "colab": {}
      },
      "source": [
        "# Make goodbye() return italicized text\n",
        "@html('<i>', '</i>')\n",
        "def goodbye(name):\n",
        "  return 'Goodbye {}.'.format(name)\n",
        "  \n",
        "print(goodbye('Alice'))"
      ],
      "execution_count": 0,
      "outputs": []
    },
    {
      "cell_type": "code",
      "metadata": {
        "id": "kawWnEL89fzR",
        "colab_type": "code",
        "colab": {}
      },
      "source": [
        "# Wrap the result of hello_goodbye() in <div> and </div>\n",
        "@html('<div>', '</div')\n",
        "def hello_goodbye(name):\n",
        "  return '\\n{}\\n{}\\n'.format(hello(name), goodbye(name))\n",
        "  \n",
        "print(hello_goodbye('Alice'))"
      ],
      "execution_count": 0,
      "outputs": []
    },
    {
      "cell_type": "markdown",
      "metadata": {
        "id": "DCL8O-yr-f_h",
        "colab_type": "text"
      },
      "source": [
        "## Tag your functions"
      ]
    },
    {
      "cell_type": "code",
      "metadata": {
        "id": "i1EO7f6J-gVr",
        "colab_type": "code",
        "colab": {}
      },
      "source": [
        "def tag(*tags):\n",
        "  # Define a new decorator, named \"decorator\", to return\n",
        "  def decorator(func):\n",
        "    # Ensure the decorated function keeps its metadata\n",
        "    @wraps(func)\n",
        "    def wrapper(*args, **kwargs):\n",
        "      # Call the function being decorated and return the result\n",
        "      return func(*args, **kwargs)\n",
        "    wrapper.tags = tags\n",
        "    return wrapper\n",
        "  # Return the new decorator\n",
        "  return decorator\n",
        "\n",
        "@tag('test', 'this is a tag')\n",
        "def foo():\n",
        "  pass\n",
        "\n",
        "print(foo.tags)"
      ],
      "execution_count": 0,
      "outputs": []
    },
    {
      "cell_type": "markdown",
      "metadata": {
        "id": "8TjK3nXl_IIK",
        "colab_type": "text"
      },
      "source": [
        "## Check the return type"
      ]
    },
    {
      "cell_type": "code",
      "metadata": {
        "id": "PT0e_Jb5_Ic_",
        "colab_type": "code",
        "colab": {}
      },
      "source": [
        "def returns_dict(func):\n",
        "  # Complete the returns_dict() decorator\n",
        "  def wrapper(*args, **kwargs):\n",
        "    result = func(*args, **kwargs)\n",
        "    assert(type(result) == dict)\n",
        "    return result\n",
        "  return wrapper\n",
        "  \n",
        "@returns_dict\n",
        "def foo(value):\n",
        "  return value\n",
        "\n",
        "try:\n",
        "  print(foo([1,2,3]))\n",
        "except AssertionError:\n",
        "  print('foo() did not return a dict!')\n",
        "  "
      ],
      "execution_count": 0,
      "outputs": []
    },
    {
      "cell_type": "code",
      "metadata": {
        "id": "B4SWFjIz_q7R",
        "colab_type": "code",
        "colab": {}
      },
      "source": [
        "def returns(return_type):\n",
        "  # Complete the returns() decorator\n",
        "  def decorator(func):\n",
        "    def wrapper(*args, **kwargs):\n",
        "      result = func(args, **kwargs)\n",
        "      assert(type(result) == return_type)\n",
        "      return result\n",
        "    return wrapper\n",
        "  return decorator\n",
        "  \n",
        "@returns(dict)\n",
        "def foo(value):\n",
        "  return value\n",
        "\n",
        "try:\n",
        "  print(foo([1,2,3]))\n",
        "except AssertionError:\n",
        "  print('foo() did not return a dict!')"
      ],
      "execution_count": 0,
      "outputs": []
    }
  ]
}