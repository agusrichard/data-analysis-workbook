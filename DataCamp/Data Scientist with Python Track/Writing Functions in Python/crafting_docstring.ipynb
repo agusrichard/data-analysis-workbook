{
  "nbformat": 4,
  "nbformat_minor": 0,
  "metadata": {
    "colab": {
      "name": "crafting_docstring.ipynb",
      "provenance": [],
      "collapsed_sections": []
    },
    "kernelspec": {
      "name": "python3",
      "display_name": "Python 3"
    }
  },
  "cells": [
    {
      "cell_type": "markdown",
      "metadata": {
        "id": "olSR3L3jKLbw",
        "colab_type": "text"
      },
      "source": [
        "# Best Practices"
      ]
    },
    {
      "cell_type": "markdown",
      "metadata": {
        "id": "5scZLiANJsxS",
        "colab_type": "text"
      },
      "source": [
        "## Crafting a docstring\n",
        "\n"
      ]
    },
    {
      "cell_type": "code",
      "metadata": {
        "id": "XrohsajHJu9j",
        "colab_type": "code",
        "colab": {}
      },
      "source": [
        "# Add a docstring to count_letter()\n",
        "def count_letter(content, letter):\n",
        "  \"\"\"\n",
        "    Count the number of times `letter` appears in `content`\n",
        "  \"\"\"\n",
        "  if (not isinstance(letter, str)) or len(letter) != 1:\n",
        "    raise ValueError('`letter` must be a single character string.')\n",
        "  return len([char for char in content if char == letter])"
      ],
      "execution_count": 0,
      "outputs": []
    },
    {
      "cell_type": "code",
      "metadata": {
        "id": "1zgNUPw5KbnH",
        "colab_type": "code",
        "colab": {}
      },
      "source": [
        "def count_letter(content, letter):\n",
        "  \"\"\"Count the number of times `letter` appears in `content`.\n",
        "\n",
        "  # Add a Google style arguments section\n",
        "  Args:\n",
        "    content (str): The string to search.\n",
        "    letter (str): The letter to search for.\n",
        "  \"\"\"\n",
        "  if (not isinstance(letter, str)) or len(letter) != 1:\n",
        "    raise ValueError('`letter` must be a single character string.')\n",
        "  return len([char for char in content if char == letter])"
      ],
      "execution_count": 0,
      "outputs": []
    },
    {
      "cell_type": "code",
      "metadata": {
        "id": "2v7RUx7VKkd8",
        "colab_type": "code",
        "colab": {}
      },
      "source": [
        "def count_letter(content, letter):\n",
        "  \"\"\"Count the number of times `letter` appears in `content`.\n",
        "\n",
        "  Args:\n",
        "    content (str): The string to search.\n",
        "    letter (str): The letter to search for.\n",
        "\n",
        "  # Add a returns section\n",
        "  Returns:\n",
        "    int\n",
        "  \"\"\"\n",
        "  if (not isinstance(letter, str)) or len(letter) != 1:\n",
        "    raise ValueError('\"letter\" must be a single character string.')\n",
        "  return len([char for char in content if char == letter])"
      ],
      "execution_count": 0,
      "outputs": []
    },
    {
      "cell_type": "code",
      "metadata": {
        "id": "MG8ubgFMKqj2",
        "colab_type": "code",
        "colab": {}
      },
      "source": [
        "def count_letter(content, letter):\n",
        "  \"\"\"Count the number of times `letter` appears in `content`.\n",
        "\n",
        "  Args:\n",
        "    content (str): The string to search.\n",
        "    letter (str): The letter to search for.\n",
        "\n",
        "  Returns:\n",
        "    int\n",
        "\n",
        "  # Add a section detailing what errors might be raised\n",
        "  Raises:\n",
        "    ValueError: If `letter` is not a one-character string.\n",
        "  \"\"\"\n",
        "  if (not isinstance(letter, str)) or len(letter) != 1:\n",
        "    raise ValueError('`letter` must be a single character string.')\n",
        "  return len([char for char in content if char == letter])"
      ],
      "execution_count": 0,
      "outputs": []
    },
    {
      "cell_type": "markdown",
      "metadata": {
        "id": "GFAdi-EYKwAN",
        "colab_type": "text"
      },
      "source": [
        "## Retrieving docstrings"
      ]
    },
    {
      "cell_type": "code",
      "metadata": {
        "id": "tAK5DulnKwoF",
        "colab_type": "code",
        "colab": {}
      },
      "source": [
        "# Get the docstring with an attribute of count_letter()\n",
        "docstring = count_letter.__doc__\n",
        "\n",
        "border = '#' * 28\n",
        "print('{}\\n{}\\n{}'.format(border, docstring, border))"
      ],
      "execution_count": 0,
      "outputs": []
    },
    {
      "cell_type": "code",
      "metadata": {
        "id": "YyJRYzj7LOwE",
        "colab_type": "code",
        "colab": {}
      },
      "source": [
        "import inspect\n",
        "\n",
        "# Get the docstring with a function from the inspect module\n",
        "docstring = inspect.getdoc(count_letter)\n",
        "\n",
        "border = '#' * 28\n",
        "print('{}\\n{}\\n{}'.format(border, docstring, border))"
      ],
      "execution_count": 0,
      "outputs": []
    },
    {
      "cell_type": "code",
      "metadata": {
        "id": "hJEjxHYHLXzn",
        "colab_type": "code",
        "colab": {}
      },
      "source": [
        "def build_tooltip(function):\n",
        "  \"\"\"Create a tooltip for any function that shows the \n",
        "  function's docstring.\n",
        "  \n",
        "  Args:\n",
        "    function (callable): The function we want a tooltip for.\n",
        "    \n",
        "  Returns:\n",
        "    str\n",
        "  \"\"\"\n",
        "  # Use 'inspect' to get the docstring\n",
        "  docstring = inspect.getdoc(function)\n",
        "  border = '#' * 28\n",
        "  return '{}\\n{}\\n{}'.format(border, docstring, border)\n",
        "\n",
        "print(build_tooltip(count_letter))\n",
        "print(build_tooltip(range))\n",
        "print(build_tooltip(print))"
      ],
      "execution_count": 0,
      "outputs": []
    },
    {
      "cell_type": "markdown",
      "metadata": {
        "id": "eBn62suYLdpQ",
        "colab_type": "text"
      },
      "source": [
        "## Docstrings to the rescue!"
      ]
    },
    {
      "cell_type": "markdown",
      "metadata": {
        "id": "pwzDfeTWLeSy",
        "colab_type": "text"
      },
      "source": [
        "C. numpy.fywdkxa()"
      ]
    },
    {
      "cell_type": "markdown",
      "metadata": {
        "id": "CflzdgjgL8Ou",
        "colab_type": "text"
      },
      "source": [
        "## Extract a function"
      ]
    },
    {
      "cell_type": "code",
      "metadata": {
        "id": "hTvLI2-1Mzot",
        "colab_type": "code",
        "colab": {}
      },
      "source": [
        "def standardize(column):\n",
        "  \"\"\"Standardize the values in a column.\n",
        "\n",
        "  Args:\n",
        "    column (pandas Series): The data to standardize.\n",
        "\n",
        "  Returns:\n",
        "    pandas Series: the values as z-scores\n",
        "  \"\"\"\n",
        "  # Finish the function so that it returns the z-scores\n",
        "  z_score = (column - column.mean()) / column.std()\n",
        "  return z_score\n",
        "\n",
        "# Use the standardize() function to calculate the z-scores\n",
        "df['y1_z'] = standardize(df['y1_gpa'])\n",
        "df['y2_z'] = standardize(df['y2_gpa'])\n",
        "df['y3_z'] = standardize(df['y3_gpa'])\n",
        "df['y4_z'] = standardize(df['y4_gpa'])"
      ],
      "execution_count": 0,
      "outputs": []
    },
    {
      "cell_type": "markdown",
      "metadata": {
        "id": "u0ezJDOBNV5l",
        "colab_type": "text"
      },
      "source": [
        "## Split up a function"
      ]
    },
    {
      "cell_type": "code",
      "metadata": {
        "id": "Zz0QylX2OAXg",
        "colab_type": "code",
        "colab": {}
      },
      "source": [
        "def mean(values):\n",
        "  \"\"\"Get the mean of a list of values\n",
        "\n",
        "  Args:\n",
        "    values (iterable of float): A list of numbers\n",
        "\n",
        "  Returns:\n",
        "    float\n",
        "  \"\"\"\n",
        "  # Write the mean() function\n",
        "  mean = sum(values) / len(values)\n",
        "  return mean"
      ],
      "execution_count": 0,
      "outputs": []
    },
    {
      "cell_type": "code",
      "metadata": {
        "id": "GtQXtXH7OBAL",
        "colab_type": "code",
        "colab": {}
      },
      "source": [
        "def median(values):\n",
        "  \"\"\"Get the median of a list of values\n",
        "\n",
        "  Args:\n",
        "    values (iterable of float): A list of numbers\n",
        "\n",
        "  Returns:\n",
        "    float\n",
        "  \"\"\"\n",
        "  # Write the median() function\n",
        "  midpoint = int(len(values) / 2)\n",
        "  if len(values) % 2 == 0:\n",
        "    median = (values[midpoint - 1] + values[midpoint]) / 2\n",
        "  else:\n",
        "    median = values[midpoint]\n",
        "  return median"
      ],
      "execution_count": 0,
      "outputs": []
    },
    {
      "cell_type": "markdown",
      "metadata": {
        "id": "TODR-EOyO8V4",
        "colab_type": "text"
      },
      "source": [
        "## Mutable or immutable?"
      ]
    },
    {
      "cell_type": "markdown",
      "metadata": {
        "id": "tEH8II6UO9Es",
        "colab_type": "text"
      },
      "source": [
        "C. d = {'Hello': 'hello'}, s = 'Hello'"
      ]
    },
    {
      "cell_type": "markdown",
      "metadata": {
        "id": "wD9gBBmhPYC7",
        "colab_type": "text"
      },
      "source": [
        "## Best practice for default arguments"
      ]
    },
    {
      "cell_type": "code",
      "metadata": {
        "id": "tmy7KOxiPgIk",
        "colab_type": "code",
        "colab": {}
      },
      "source": [
        "# Use an immutable variable for the default argument \n",
        "def better_add_column(values, df=None):\n",
        "  \"\"\"Add a column of `values` to a DataFrame `df`.\n",
        "  The column will be named \"col_<n>\" where \"n\" is\n",
        "  the numerical index of the column.\n",
        "\n",
        "  Args:\n",
        "    values (iterable): The values of the new column\n",
        "    df (DataFrame, optional): The DataFrame to update.\n",
        "      If no DataFrame is passed, one is created by default.\n",
        "\n",
        "  Returns:\n",
        "    DataFrame\n",
        "  \"\"\"\n",
        "  # Update the function to create a default DataFrame\n",
        "  if df is None:\n",
        "    df = pandas.DataFrame()\n",
        "  df['col_{}'.format(len(df.columns))] = values\n",
        "  return df"
      ],
      "execution_count": 0,
      "outputs": []
    }
  ]
}