{
  "nbformat": 4,
  "nbformat_minor": 0,
  "metadata": {
    "colab": {
      "name": "decorators.ipynb",
      "provenance": [],
      "collapsed_sections": []
    },
    "kernelspec": {
      "name": "python3",
      "display_name": "Python 3"
    }
  },
  "cells": [
    {
      "cell_type": "markdown",
      "metadata": {
        "id": "Z-RwaHDYk6S7",
        "colab_type": "text"
      },
      "source": [
        "# Decorators"
      ]
    },
    {
      "cell_type": "markdown",
      "metadata": {
        "id": "UgO4J-cpszM7",
        "colab_type": "text"
      },
      "source": [
        "## Building a command line data app"
      ]
    },
    {
      "cell_type": "code",
      "metadata": {
        "id": "gJY0I4OJs5Vf",
        "colab_type": "code",
        "colab": {}
      },
      "source": [
        "# Add the missing function references to the function map\n",
        "function_map = {\n",
        "  'mean': mean,\n",
        "  'std': std,\n",
        "  'minimum': minimum,\n",
        "  'maximum': maximum\n",
        "}\n",
        "\n",
        "data = load_data()\n",
        "print(data)\n",
        "\n",
        "func_name = get_user_input()\n",
        "\n",
        "# Call the chosen function and pass \"data\" as an argument\n",
        "function_map[func_name](data)"
      ],
      "execution_count": 0,
      "outputs": []
    },
    {
      "cell_type": "markdown",
      "metadata": {
        "id": "2HUoNuortdkm",
        "colab_type": "text"
      },
      "source": [
        "## Reviewing your co-worker's code"
      ]
    },
    {
      "cell_type": "code",
      "metadata": {
        "id": "F3347CB_td3C",
        "colab_type": "code",
        "colab": {}
      },
      "source": [
        "# Call has_docstring() on the load_and_plot_data() function\n",
        "ok = has_docstring(load_and_plot_data)\n",
        "\n",
        "if not ok:\n",
        "  print(\"load_and_plot_data() doesn't have a docstring!\")\n",
        "else:\n",
        "  print(\"load_and_plot_data() looks ok\")"
      ],
      "execution_count": 0,
      "outputs": []
    },
    {
      "cell_type": "code",
      "metadata": {
        "id": "_-YjDF7qttth",
        "colab_type": "code",
        "colab": {}
      },
      "source": [
        "# Call has_docstring() on the as_2D() function\n",
        "ok = has_docstring(as_2D)\n",
        "\n",
        "if not ok:\n",
        "  print(\"as_2D() doesn't have a docstring!\")\n",
        "else:\n",
        "  print(\"as_2D() looks ok\")"
      ],
      "execution_count": 0,
      "outputs": []
    },
    {
      "cell_type": "code",
      "metadata": {
        "id": "mGZDADzAtx8e",
        "colab_type": "code",
        "colab": {}
      },
      "source": [
        "# Call has_docstring() on the log_product() function\n",
        "ok = has_docstring(log_product)\n",
        "\n",
        "if not ok:\n",
        "  print(\"log_product() doesn't have a docstring!\")\n",
        "else:\n",
        "  print(\"log_product() looks ok\")"
      ],
      "execution_count": 0,
      "outputs": []
    },
    {
      "cell_type": "markdown",
      "metadata": {
        "id": "S-2LjqM7t6D2",
        "colab_type": "text"
      },
      "source": [
        "## Returning functions for a math game"
      ]
    },
    {
      "cell_type": "code",
      "metadata": {
        "id": "bVt6SVIOt6bv",
        "colab_type": "code",
        "colab": {}
      },
      "source": [
        "def create_math_function(func_name):\n",
        "  if func_name == 'add':\n",
        "    def add(a, b):\n",
        "      return a + b\n",
        "    return add\n",
        "  elif func_name == 'subtract':\n",
        "    # Define the subtract() function\n",
        "    def subtract(a, b):\n",
        "        return a - b\n",
        "    return subtract\n",
        "  else:\n",
        "    print(\"I don't know that one\")\n",
        "    \n",
        "add = create_math_function('add')\n",
        "print('5 + 2 = {}'.format(add(5, 2)))\n",
        "\n",
        "subtract = create_math_function('subtract')\n",
        "print('5 - 2 = {}'.format(subtract(5, 2)))"
      ],
      "execution_count": 0,
      "outputs": []
    },
    {
      "cell_type": "markdown",
      "metadata": {
        "id": "EsIJWIE0wAJI",
        "colab_type": "text"
      },
      "source": [
        "## Understanding scope"
      ]
    },
    {
      "cell_type": "markdown",
      "metadata": {
        "id": "sf8Of5LBwAco",
        "colab_type": "text"
      },
      "source": [
        "C. 50, 30, 100, 30"
      ]
    },
    {
      "cell_type": "markdown",
      "metadata": {
        "id": "duXQ0Fl6wVAz",
        "colab_type": "text"
      },
      "source": [
        "## Modifying variables outside local scope"
      ]
    },
    {
      "cell_type": "code",
      "metadata": {
        "id": "XpAdgoewwaCz",
        "colab_type": "code",
        "colab": {}
      },
      "source": [
        "call_count = 0\n",
        "\n",
        "def my_function():\n",
        "  # Use a keyword that lets us update call_count \n",
        "  global call_count\n",
        "  call_count += 1\n",
        "  \n",
        "  print(\"You've called my_function() {} times!\".format(\n",
        "    call_count\n",
        "  ))\n",
        "  \n",
        "for _ in range(20):\n",
        "  my_function()"
      ],
      "execution_count": 0,
      "outputs": []
    },
    {
      "cell_type": "code",
      "metadata": {
        "id": "36Et6X8rwh5y",
        "colab_type": "code",
        "colab": {}
      },
      "source": [
        "def read_files():\n",
        "  file_contents = None\n",
        "  \n",
        "  def save_contents(filename):\n",
        "    # Add a keyword that lets us modify file_contents\n",
        "    nonlocal file_contents\n",
        "    if file_contents is None:\n",
        "      file_contents = []\n",
        "    with open(filename) as fin:\n",
        "      file_contents.append(fin.read())\n",
        "      \n",
        "  for filename in ['1984.txt', 'MobyDick.txt', 'CatsEye.txt']:\n",
        "    save_contents(filename)\n",
        "    \n",
        "  return file_contents\n",
        "\n",
        "print('\\n'.join(read_files()))"
      ],
      "execution_count": 0,
      "outputs": []
    },
    {
      "cell_type": "code",
      "metadata": {
        "id": "nOQ1YBGEw7vH",
        "colab_type": "code",
        "colab": {}
      },
      "source": [
        "def wait_until_done():\n",
        "  def check_is_done():\n",
        "    # Add a keyword so that wait_until_done() \n",
        "    # doesn't run forever\n",
        "    global done\n",
        "    if random.random() < 0.1:\n",
        "      done = True\n",
        "      \n",
        "  while not done:\n",
        "    check_is_done()\n",
        "\n",
        "done = False\n",
        "wait_until_done()\n",
        "\n",
        "print('Work done? {}'.format(done))"
      ],
      "execution_count": 0,
      "outputs": []
    },
    {
      "cell_type": "markdown",
      "metadata": {
        "id": "o_LMOMlrwYe_",
        "colab_type": "text"
      },
      "source": [
        "## Checking for closure"
      ]
    },
    {
      "cell_type": "code",
      "metadata": {
        "id": "bTzd2fcUyGNo",
        "colab_type": "code",
        "colab": {}
      },
      "source": [
        "def return_a_func(arg1, arg2):\n",
        "  def new_func():\n",
        "    print('arg1 was {}'.format(arg1))\n",
        "    print('arg2 was {}'.format(arg2))\n",
        "  return new_func\n",
        "    \n",
        "my_func = return_a_func(2, 17)\n",
        "\n",
        "# Show that my_func()'s closure is not None\n",
        "print(my_func.__closure__ is not None)"
      ],
      "execution_count": 0,
      "outputs": []
    },
    {
      "cell_type": "code",
      "metadata": {
        "id": "7VZ53KZ0yXzN",
        "colab_type": "code",
        "colab": {}
      },
      "source": [
        "def return_a_func(arg1, arg2):\n",
        "  def new_func():\n",
        "    print('arg1 was {}'.format(arg1))\n",
        "    print('arg2 was {}'.format(arg2))\n",
        "  return new_func\n",
        "    \n",
        "my_func = return_a_func(2, 17)\n",
        "\n",
        "print(my_func.__closure__ is not None)\n",
        "\n",
        "# Show that there are two variables in the closure\n",
        "print(len(my_func.__closure__) == 2)"
      ],
      "execution_count": 0,
      "outputs": []
    },
    {
      "cell_type": "code",
      "metadata": {
        "id": "0nkBGUURymbW",
        "colab_type": "code",
        "colab": {}
      },
      "source": [
        "def return_a_func(arg1, arg2):\n",
        "  def new_func():\n",
        "    print('arg1 was {}'.format(arg1))\n",
        "    print('arg2 was {}'.format(arg2))\n",
        "  return new_func\n",
        "    \n",
        "my_func = return_a_func(2, 17)\n",
        "\n",
        "print(my_func.__closure__ is not None)\n",
        "print(len(my_func.__closure__) == 2)\n",
        "\n",
        "# Get the values of the variables in the closure\n",
        "closure_values = [\n",
        "  my_func.__closure__[i].cell_contents for i in range(2)\n",
        "]\n",
        "print(closure_values == [2, 17])"
      ],
      "execution_count": 0,
      "outputs": []
    },
    {
      "cell_type": "markdown",
      "metadata": {
        "id": "LzWCW7j1ywXp",
        "colab_type": "text"
      },
      "source": [
        "## Closures keep your values safe"
      ]
    },
    {
      "cell_type": "code",
      "metadata": {
        "id": "hNKCxPPRywsP",
        "colab_type": "code",
        "colab": {}
      },
      "source": [
        "def my_special_function():\n",
        "  print('You are running my_special_function()')\n",
        "  \n",
        "def get_new_func(func):\n",
        "  def call_func():\n",
        "    func()\n",
        "  return call_func\n",
        "\n",
        "new_func = get_new_func(my_special_function)\n",
        "\n",
        "# Redefine my_special_function() to just print \"hello\"\n",
        "def my_special_function():\n",
        "  print('hello')\n",
        "\n",
        "new_func()"
      ],
      "execution_count": 0,
      "outputs": []
    },
    {
      "cell_type": "code",
      "metadata": {
        "id": "OxhGqxmizR5L",
        "colab_type": "code",
        "colab": {}
      },
      "source": [
        "def my_special_function():\n",
        "  print('You are running my_special_function()')\n",
        "  \n",
        "def get_new_func(func):\n",
        "  def call_func():\n",
        "    func()\n",
        "  return call_func\n",
        "\n",
        "new_func = get_new_func(my_special_function)\n",
        "\n",
        "# Delete my_special_function()\n",
        "del(my_special_function)\n",
        "\n",
        "new_func()"
      ],
      "execution_count": 0,
      "outputs": []
    },
    {
      "cell_type": "code",
      "metadata": {
        "id": "aAqYT1e0zWU9",
        "colab_type": "code",
        "colab": {}
      },
      "source": [
        "def my_special_function():\n",
        "  print('You are running my_special_function()')\n",
        "  \n",
        "def get_new_func(func):\n",
        "  def call_func():\n",
        "    func()\n",
        "  return call_func\n",
        "\n",
        "# Overwrite `my_special_function` with the new function\n",
        "my_special_function = get_new_func(my_special_function)\n",
        "\n",
        "my_special_function()"
      ],
      "execution_count": 0,
      "outputs": []
    },
    {
      "cell_type": "markdown",
      "metadata": {
        "id": "KHQw17OB0-Uk",
        "colab_type": "text"
      },
      "source": [
        "## Using decorator syntax"
      ]
    },
    {
      "cell_type": "code",
      "metadata": {
        "id": "aTMgOBU10-xM",
        "colab_type": "code",
        "colab": {}
      },
      "source": [
        "def my_function(a, b, c):\n",
        "  print(a + b + c)\n",
        "\n",
        "# Decorate my_function() with the print_args() decorator\n",
        "my_function = print_args(my_function)\n",
        "\n",
        "my_function(1, 2, 3)"
      ],
      "execution_count": 0,
      "outputs": []
    },
    {
      "cell_type": "code",
      "metadata": {
        "id": "EahHFsyO1O-b",
        "colab_type": "code",
        "colab": {}
      },
      "source": [
        "# Decorate my_function() with the print_args() decorator\n",
        "@print_args\n",
        "def my_function(a, b, c):\n",
        "  print(a + b + c)\n",
        "\n",
        "my_function(1, 2, 3)"
      ],
      "execution_count": 0,
      "outputs": []
    },
    {
      "cell_type": "markdown",
      "metadata": {
        "id": "OOquubVC1VSC",
        "colab_type": "text"
      },
      "source": [
        "## Defining a decorator"
      ]
    },
    {
      "cell_type": "code",
      "metadata": {
        "id": "XX5RWEN21Vk0",
        "colab_type": "code",
        "colab": {}
      },
      "source": [
        "def print_before_and_after(func):\n",
        "  def wrapper(*args):\n",
        "    print('Before {}'.format(func.__name__))\n",
        "    # Call the function being decorated with *args\n",
        "    func(*args)\n",
        "    print('After {}'.format(func.__name__))\n",
        "  # Return the nested function\n",
        "  return wrapper\n",
        "\n",
        "@print_before_and_after\n",
        "def multiply(a, b):\n",
        "  print(a * b)\n",
        "\n",
        "multiply(5, 10)"
      ],
      "execution_count": 0,
      "outputs": []
    }
  ]
}