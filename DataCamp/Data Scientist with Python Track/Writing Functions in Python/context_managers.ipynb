{
  "nbformat": 4,
  "nbformat_minor": 0,
  "metadata": {
    "colab": {
      "name": "context_managers.ipynb",
      "provenance": [],
      "collapsed_sections": []
    },
    "kernelspec": {
      "name": "python3",
      "display_name": "Python 3"
    }
  },
  "cells": [
    {
      "cell_type": "markdown",
      "metadata": {
        "id": "lyJEHGZYQzmT",
        "colab_type": "text"
      },
      "source": [
        "# Context Managers"
      ]
    },
    {
      "cell_type": "markdown",
      "metadata": {
        "id": "2qa21AXJQ0sT",
        "colab_type": "text"
      },
      "source": [
        "## The number of cats"
      ]
    },
    {
      "cell_type": "code",
      "metadata": {
        "id": "cOHbQmsHQ6O-",
        "colab_type": "code",
        "colab": {}
      },
      "source": [
        "# Open \"alice.txt\" and assign the file to \"file\"\n",
        "with open('alice.txt') as file:\n",
        "  text = file.read()\n",
        "\n",
        "n = 0\n",
        "for word in text.split():\n",
        "  if word.lower() in ['cat', 'cats']:\n",
        "    n += 1\n",
        "\n",
        "print('Lewis Carroll uses the word \"cat\" {} times'.format(n))"
      ],
      "execution_count": 0,
      "outputs": []
    },
    {
      "cell_type": "markdown",
      "metadata": {
        "id": "b1Hvuk56RMow",
        "colab_type": "text"
      },
      "source": [
        "## The speed of cats"
      ]
    },
    {
      "cell_type": "code",
      "metadata": {
        "id": "L9ycY4j6RNHR",
        "colab_type": "code",
        "colab": {}
      },
      "source": [
        "image = get_image_from_instagram()\n",
        "\n",
        "# Time how long process_with_numpy(image) takes to run\n",
        "with timer():\n",
        "  print('Numpy version')\n",
        "  process_with_numpy(image)\n",
        "\n",
        "# Time how long process_with_pytorch(image) takes to run\n",
        "with timer():\n",
        "  print('Pytorch version')\n",
        "  process_with_pytorch(image)"
      ],
      "execution_count": 0,
      "outputs": []
    },
    {
      "cell_type": "markdown",
      "metadata": {
        "id": "QoqE-o2ASqru",
        "colab_type": "text"
      },
      "source": [
        "## The timer() context manager"
      ]
    },
    {
      "cell_type": "code",
      "metadata": {
        "id": "gkW_DizwSq-m",
        "colab_type": "code",
        "colab": {}
      },
      "source": [
        "# Add a decorator that will make timer() a context manager\n",
        "@contextlib.contextmanager\n",
        "def timer():\n",
        "  \"\"\"Time the execution of a context block.\n",
        "\n",
        "  Yields:\n",
        "    None\n",
        "  \"\"\"\n",
        "  start = time.time()\n",
        "  # Send control back to the context block\n",
        "  yield\n",
        "  end = time.time()\n",
        "  print('Elapsed: {:.2f}s'.format(end - start))\n",
        "\n",
        "with timer():\n",
        "  print('This should take approximately 0.25 seconds')\n",
        "  time.sleep(0.25)"
      ],
      "execution_count": 0,
      "outputs": []
    },
    {
      "cell_type": "markdown",
      "metadata": {
        "id": "nLzsHL-RTGhw",
        "colab_type": "text"
      },
      "source": [
        "## A read-only open() context manager"
      ]
    },
    {
      "cell_type": "code",
      "metadata": {
        "id": "H9ymMZFdTG3e",
        "colab_type": "code",
        "colab": {}
      },
      "source": [
        "@contextlib.contextmanager\n",
        "def open_read_only(filename):\n",
        "  \"\"\"Open a file in read-only mode.\n",
        "\n",
        "  Args:\n",
        "    filename (str): The location of the file to read\n",
        "\n",
        "  Yields:\n",
        "    file object\n",
        "  \"\"\"\n",
        "  read_only_file = open(filename, mode='r')\n",
        "  # Yield read_only_file so it can be assigned to my_file\n",
        "  yield read_only_file\n",
        "  # Close read_only_file\n",
        "  read_only_file.close()\n",
        "\n",
        "with open_read_only('my_file.txt') as my_file:\n",
        "  print(my_file.read())"
      ],
      "execution_count": 0,
      "outputs": []
    },
    {
      "cell_type": "markdown",
      "metadata": {
        "id": "XnqII2RZUYms",
        "colab_type": "text"
      },
      "source": [
        "## Context manager use cases"
      ]
    },
    {
      "cell_type": "markdown",
      "metadata": {
        "id": "MHpqkWe2UZTF",
        "colab_type": "text"
      },
      "source": [
        "B. A function that prints all of the prime numbers between 2 and some value n."
      ]
    },
    {
      "cell_type": "markdown",
      "metadata": {
        "id": "uCii6glPUjSE",
        "colab_type": "text"
      },
      "source": [
        "## Scraping the NASDAQ"
      ]
    },
    {
      "cell_type": "code",
      "metadata": {
        "id": "qTrMSEaUUnjQ",
        "colab_type": "code",
        "colab": {}
      },
      "source": [
        "# Use the \"stock('NVDA')\" context manager\n",
        "# and assign the result to the variable \"nvda\"\n",
        "with stock('NVDA') as nvda:\n",
        "  # Open \"NVDA.txt\" for writing as f_out\n",
        "  with open('NVDA.txt', 'w') as f_out:\n",
        "    for _ in range(10):\n",
        "      value = nvda.price()\n",
        "      print('Logging ${:.2f} for NVDA'.format(value))\n",
        "      f_out.write('{:.2f}\\n'.format(value))"
      ],
      "execution_count": 0,
      "outputs": []
    },
    {
      "cell_type": "markdown",
      "metadata": {
        "id": "u0d3mvRWkc0X",
        "colab_type": "text"
      },
      "source": [
        "## Changing the working directory"
      ]
    },
    {
      "cell_type": "code",
      "metadata": {
        "id": "ILFhkCdTkdsG",
        "colab_type": "code",
        "colab": {}
      },
      "source": [
        "def in_dir(directory):\n",
        "  \"\"\"Change current working directory to `directory`,\n",
        "  allow the user to run some code, and change back.\n",
        "\n",
        "  Args:\n",
        "    directory (str): The path to a directory to work in.\n",
        "  \"\"\"\n",
        "  current_dir = os.getcwd()\n",
        "  os.chdir(directory)\n",
        "\n",
        "  # Add code that lets you handle errors\n",
        "  try:\n",
        "    yield\n",
        "  # Ensure the directory is reset,\n",
        "  # whether there was an error or not\n",
        "  finally:\n",
        "    os.chdir(current_dir)"
      ],
      "execution_count": 0,
      "outputs": []
    }
  ]
}