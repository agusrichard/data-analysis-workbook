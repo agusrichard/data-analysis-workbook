{
  "nbformat": 4,
  "nbformat_minor": 0,
  "metadata": {
    "colab": {
      "name": "exploration_between_gender_and_policing.ipynb",
      "provenance": [],
      "collapsed_sections": []
    },
    "kernelspec": {
      "name": "python3",
      "display_name": "Python 3"
    }
  },
  "cells": [
    {
      "cell_type": "markdown",
      "metadata": {
        "id": "Pv0IQkIVunVU",
        "colab_type": "text"
      },
      "source": [
        "# Exploring the relationship between gender and policing"
      ]
    },
    {
      "cell_type": "markdown",
      "metadata": {
        "id": "mxP71mPBvaFy",
        "colab_type": "text"
      },
      "source": [
        "## Examining traffic violations"
      ]
    },
    {
      "cell_type": "code",
      "metadata": {
        "id": "pyzUrrE5vfIW",
        "colab_type": "code",
        "colab": {}
      },
      "source": [
        "# Count the unique values in 'violation'\n",
        "print(ri.violation.value_counts())\n",
        "\n",
        "# Express the counts as proportions\n",
        "print(ri.violation.value_counts(normalize=True))"
      ],
      "execution_count": 0,
      "outputs": []
    },
    {
      "cell_type": "markdown",
      "metadata": {
        "id": "Mq4mm1rQv2Rk",
        "colab_type": "text"
      },
      "source": [
        "## Comparing violations by gender"
      ]
    },
    {
      "cell_type": "code",
      "metadata": {
        "id": "ac_S-8fZv2lp",
        "colab_type": "code",
        "colab": {}
      },
      "source": [
        "# Create a DataFrame of female drivers\n",
        "female = ri[ri['driver_gender'] == 'F']\n",
        "\n",
        "# Create a DataFrame of male drivers\n",
        "male = ri[ri['driver_gender'] == 'M']\n",
        "\n",
        "# Compute the violations by female drivers (as proportions)\n",
        "print(female.violation.value_counts(normalize=True))\n",
        "\n",
        "# Compute the violations by male drivers (as proportions)\n",
        "print(male.violation.value_counts(normalize=True))"
      ],
      "execution_count": 0,
      "outputs": []
    },
    {
      "cell_type": "markdown",
      "metadata": {
        "id": "htG23jJLxE7h",
        "colab_type": "text"
      },
      "source": [
        "## Filtering by multiple conditions"
      ]
    },
    {
      "cell_type": "markdown",
      "metadata": {
        "id": "yxHJjSWGxFbB",
        "colab_type": "text"
      },
      "source": [
        "C. ri[(ri.driver_gender == 'F') & (ri.violation == 'Speeding')]"
      ]
    },
    {
      "cell_type": "markdown",
      "metadata": {
        "id": "f1JwXLP9xQWr",
        "colab_type": "text"
      },
      "source": [
        "## Comparing speeding outcomes by gender"
      ]
    },
    {
      "cell_type": "code",
      "metadata": {
        "id": "YFjmnhUXxS2x",
        "colab_type": "code",
        "colab": {}
      },
      "source": [
        "# Create a DataFrame of female drivers stopped for speeding\n",
        "female_and_speeding = ri[(ri['driver_gender'] == 'F') & (ri['violation'] == 'Speeding')]\n",
        "\n",
        "# Create a DataFrame of male drivers stopped for speeding\n",
        "male_and_speeding = ri[(ri['driver_gender'] == 'M') & (ri['violation'] == 'Speeding')]\n",
        "\n",
        "# Compute the stop outcomes for female drivers (as proportions)\n",
        "print(female_and_speeding.stop_outcome.value_counts(normalize=True))\n",
        "\n",
        "# Compute the stop outcomes for male drivers (as proportions)\n",
        "print(male_and_speeding.stop_outcome.value_counts(normalize=True))"
      ],
      "execution_count": 0,
      "outputs": []
    },
    {
      "cell_type": "markdown",
      "metadata": {
        "id": "6RHI1Z00zACD",
        "colab_type": "text"
      },
      "source": [
        "## Calculating the search rate"
      ]
    },
    {
      "cell_type": "code",
      "metadata": {
        "id": "Tt10WxGezAYB",
        "colab_type": "code",
        "colab": {}
      },
      "source": [
        "# Check the data type of 'search_conducted'\n",
        "print(ri['search_conducted'].dtype)\n",
        "\n",
        "# Calculate the search rate by counting the values\n",
        "print(ri['search_conducted'].value_counts(normalize=True))\n",
        "\n",
        "# Calculate the search rate by taking the mean\n",
        "print(ri['search_conducted'].mean())"
      ],
      "execution_count": 0,
      "outputs": []
    },
    {
      "cell_type": "markdown",
      "metadata": {
        "id": "Pl0i2gKdzkEb",
        "colab_type": "text"
      },
      "source": [
        "## Comparing search rates by gender"
      ]
    },
    {
      "cell_type": "code",
      "metadata": {
        "id": "YAo3TN6_zkbP",
        "colab_type": "code",
        "colab": {}
      },
      "source": [
        "# Calculate the search rate for female drivers\n",
        "print(ri[ri['driver_gender'] == 'F'].search_conducted.mean())"
      ],
      "execution_count": 0,
      "outputs": []
    },
    {
      "cell_type": "code",
      "metadata": {
        "id": "64WOmBoSzzWj",
        "colab_type": "code",
        "colab": {}
      },
      "source": [
        "# Calculate the search rate for male drivers\n",
        "print(ri[ri['driver_gender'] == 'M'].search_conducted.mean())"
      ],
      "execution_count": 0,
      "outputs": []
    },
    {
      "cell_type": "code",
      "metadata": {
        "id": "L9H2vTtsz41a",
        "colab_type": "code",
        "colab": {}
      },
      "source": [
        "# Calculate the search rate for both groups simultaneously\n",
        "print(ri.groupby('driver_gender').search_conducted.mean())"
      ],
      "execution_count": 0,
      "outputs": []
    },
    {
      "cell_type": "markdown",
      "metadata": {
        "id": "TuRdPmK1z73S",
        "colab_type": "text"
      },
      "source": [
        "## Adding a second factor to the analysis"
      ]
    },
    {
      "cell_type": "code",
      "metadata": {
        "id": "q3y00gUUz80Z",
        "colab_type": "code",
        "colab": {}
      },
      "source": [
        "# Calculate the search rate for each combination of gender and violation\n",
        "print(ri.groupby(['driver_gender', 'violation']).search_conducted.mean())"
      ],
      "execution_count": 0,
      "outputs": []
    },
    {
      "cell_type": "code",
      "metadata": {
        "id": "QUbDeUOa0ouE",
        "colab_type": "code",
        "colab": {}
      },
      "source": [
        "# Reverse the ordering to group by violation before gender\n",
        "print(ri.groupby(['violation', 'driver_gender']).search_conducted.mean())"
      ],
      "execution_count": 0,
      "outputs": []
    },
    {
      "cell_type": "markdown",
      "metadata": {
        "id": "uo3U_orm15A2",
        "colab_type": "text"
      },
      "source": [
        "## Counting protective frisks"
      ]
    },
    {
      "cell_type": "code",
      "metadata": {
        "id": "a9dfkplw14bW",
        "colab_type": "code",
        "colab": {}
      },
      "source": [
        "# Count the 'search_type' values\n",
        "print(ri['search_type'].value_counts())\n",
        "\n",
        "# Check if 'search_type' contains the string 'Protective Frisk'\n",
        "ri['frisk'] = ri.search_type.str.contains('Protective Frisk', na=False)\n",
        "\n",
        "# Check the data type of 'frisk'\n",
        "print(ri.frisk.dtype)\n",
        "\n",
        "# Take the sum of 'frisk'\n",
        "print(ri.frisk.sum())"
      ],
      "execution_count": 0,
      "outputs": []
    },
    {
      "cell_type": "markdown",
      "metadata": {
        "id": "VFsuak5k2Vf-",
        "colab_type": "text"
      },
      "source": [
        "## Comparing frisk rates by gender"
      ]
    },
    {
      "cell_type": "code",
      "metadata": {
        "id": "T_Pn3Bj-2V_T",
        "colab_type": "code",
        "colab": {}
      },
      "source": [
        "# Create a DataFrame of stops in which a search was conducted\n",
        "searched = ri[ri.search_conducted]\n",
        "\n",
        "# Calculate the overall frisk rate by taking the mean of 'frisk'\n",
        "print(searched.frisk.mean())\n",
        "\n",
        "# Calculate the frisk rate for each gender\n",
        "print(searched.groupby('driver_gender').frisk.mean())"
      ],
      "execution_count": 0,
      "outputs": []
    }
  ]
}