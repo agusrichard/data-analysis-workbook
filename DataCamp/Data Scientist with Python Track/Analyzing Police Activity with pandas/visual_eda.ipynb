{
  "nbformat": 4,
  "nbformat_minor": 0,
  "metadata": {
    "colab": {
      "name": "visual_eda.ipynb",
      "provenance": [],
      "collapsed_sections": []
    },
    "kernelspec": {
      "name": "python3",
      "display_name": "Python 3"
    }
  },
  "cells": [
    {
      "cell_type": "markdown",
      "metadata": {
        "id": "CsxY02qG3GnS",
        "colab_type": "text"
      },
      "source": [
        "# Visual exploratory data analysis"
      ]
    },
    {
      "cell_type": "markdown",
      "metadata": {
        "id": "bDbmabauRVdl",
        "colab_type": "text"
      },
      "source": [
        "## Calculating the hourly arrest rate"
      ]
    },
    {
      "cell_type": "code",
      "metadata": {
        "id": "v3FceAk6SJkQ",
        "colab_type": "code",
        "colab": {}
      },
      "source": [
        "# Calculate the overall arrest rate\n",
        "print(ri['is_arrested'].mean())\n",
        "\n",
        "# Calculate the hourly arrest rate\n",
        "print(ri.groupby(ri.index.hour)['is_arrested'].mean())\n",
        "\n",
        "# Save the hourly arrest rate\n",
        "hourly_arrest_rate = ri.groupby(ri.index.hour)['is_arrested'].mean()"
      ],
      "execution_count": 0,
      "outputs": []
    },
    {
      "cell_type": "markdown",
      "metadata": {
        "id": "1eMQnWNTSq18",
        "colab_type": "text"
      },
      "source": [
        "## Plotting the hourly arrest rate"
      ]
    },
    {
      "cell_type": "code",
      "metadata": {
        "id": "BItxiBosSrMJ",
        "colab_type": "code",
        "colab": {}
      },
      "source": [
        "# Import matplotlib.pyplot as plt\n",
        "import matplotlib.pyplot as plt\n",
        "\n",
        "# Create a line plot of 'hourly_arrest_rate'\n",
        "hourly_arrest_rate.plot()\n",
        "\n",
        "# Add the xlabel, ylabel, and title\n",
        "plt.xlabel('Hour')\n",
        "plt.ylabel('Arrest Rate')\n",
        "plt.title('Arrest Rate by Time of Day')\n",
        "\n",
        "# Display the plot\n",
        "plt.show()"
      ],
      "execution_count": 0,
      "outputs": []
    },
    {
      "cell_type": "markdown",
      "metadata": {
        "id": "YQhYcCoHULyP",
        "colab_type": "text"
      },
      "source": [
        "## Plotting drug-related stops"
      ]
    },
    {
      "cell_type": "code",
      "metadata": {
        "id": "NYIoqYWDUMIK",
        "colab_type": "code",
        "colab": {}
      },
      "source": [
        "# Calculate the annual rate of drug-related stops\n",
        "print(ri.drugs_related_stop.resample('A').mean())\n",
        "\n",
        "# Save the annual rate of drug-related stops\n",
        "annual_drug_rate = ri.drugs_related_stop.resample('A').mean()\n",
        "\n",
        "# Create a line plot of 'annual_drug_rate'\n",
        "annual_drug_rate.plot()\n",
        "\n",
        "# Display the plot\n",
        "plt.show()"
      ],
      "execution_count": 0,
      "outputs": []
    },
    {
      "cell_type": "markdown",
      "metadata": {
        "id": "iv5LeygSU2W2",
        "colab_type": "text"
      },
      "source": [
        "## Comparing drug and search rates"
      ]
    },
    {
      "cell_type": "code",
      "metadata": {
        "id": "DZUIszXsU2t9",
        "colab_type": "code",
        "colab": {}
      },
      "source": [
        "# Calculate and save the annual search rate\n",
        "annual_search_rate = ri.search_conducted.resample('A').mean()\n",
        "\n",
        "# Concatenate 'annual_drug_rate' and 'annual_search_rate'\n",
        "annual = pd.concat([annual_drug_rate, annual_search_rate], axis='columns')\n",
        "\n",
        "# Create subplots from 'annual'\n",
        "annual.plot(subplots=True)\n",
        "\n",
        "# Display the subplots\n",
        "plt.show()"
      ],
      "execution_count": 0,
      "outputs": []
    },
    {
      "cell_type": "markdown",
      "metadata": {
        "id": "L8sprSRUWrfh",
        "colab_type": "text"
      },
      "source": [
        "## Tallying violations by district"
      ]
    },
    {
      "cell_type": "code",
      "metadata": {
        "id": "fhYlAunBWsDf",
        "colab_type": "code",
        "colab": {}
      },
      "source": [
        "# Create a frequency table of districts and violations\n",
        "print(pd.crosstab(ri['district'], ri['violation']))\n",
        "\n",
        "# Save the frequency table as 'all_zones'\n",
        "all_zones = pd.crosstab(ri['district'], ri['violation'])\n",
        "\n",
        "# Select rows 'Zone K1' through 'Zone K3'\n",
        "print(all_zones.loc['Zone K1':'Zone K3'])\n",
        "\n",
        "# Save the smaller table as 'k_zones'\n",
        "k_zones = all_zones.loc['Zone K1':'Zone K3']"
      ],
      "execution_count": 0,
      "outputs": []
    },
    {
      "cell_type": "markdown",
      "metadata": {
        "id": "o4R9KrgIXWpD",
        "colab_type": "text"
      },
      "source": [
        "## Plotting violations by district"
      ]
    },
    {
      "cell_type": "code",
      "metadata": {
        "id": "JN1f6up8XXAD",
        "colab_type": "code",
        "colab": {}
      },
      "source": [
        "# Create a bar plot of 'k_zones'\n",
        "k_zones.plot(kind='bar')\n",
        "\n",
        "# Display the plot\n",
        "plt.show()"
      ],
      "execution_count": 0,
      "outputs": []
    },
    {
      "cell_type": "code",
      "metadata": {
        "id": "8og-sW-2XrMS",
        "colab_type": "code",
        "colab": {}
      },
      "source": [
        "# Create a stacked bar plot of 'k_zones'\n",
        "k_zones.plot(kind='bar', stacked=True)\n",
        "\n",
        "\n",
        "# Display the plot\n",
        "plt.show()"
      ],
      "execution_count": 0,
      "outputs": []
    },
    {
      "cell_type": "markdown",
      "metadata": {
        "id": "XaB87rrIYkeW",
        "colab_type": "text"
      },
      "source": [
        "## Converting stop durations to numbers"
      ]
    },
    {
      "cell_type": "code",
      "metadata": {
        "id": "SFCc2vCLYk0l",
        "colab_type": "code",
        "colab": {}
      },
      "source": [
        "# Print the unique values in 'stop_duration'\n",
        "print(ri.stop_duration.unique())\n",
        "\n",
        "# Create a dictionary that maps strings to integers\n",
        "mapping = {'0-15 Min':8, '16-30 Min':23, '30+ Min':45}\n",
        "\n",
        "# Convert the 'stop_duration' strings to integers using the 'mapping'\n",
        "ri['stop_minutes'] = ri.stop_duration.map(mapping)\n",
        "\n",
        "# Print the unique values in 'stop_minutes'\n",
        "print(ri['stop_minutes'].unique())"
      ],
      "execution_count": 0,
      "outputs": []
    },
    {
      "cell_type": "markdown",
      "metadata": {
        "id": "eLWxXyg4Y98g",
        "colab_type": "text"
      },
      "source": [
        "## Plotting stop length"
      ]
    },
    {
      "cell_type": "code",
      "metadata": {
        "id": "HLWfbXxTY-TE",
        "colab_type": "code",
        "colab": {}
      },
      "source": [
        "# Calculate the mean 'stop_minutes' for each value in 'violation_raw'\n",
        "print(ri.groupby('violation_raw')['stop_minutes'].mean())\n",
        "\n",
        "# Save the resulting Series as 'stop_length'\n",
        "stop_length = ri.groupby('violation_raw')['stop_minutes'].mean()\n",
        "\n",
        "# Sort 'stop_length' by its values and create a horizontal bar plot\n",
        "stop_length.sort_values().plot(kind='barh')\n",
        "\n",
        "# Display the plot\n",
        "plt.show()"
      ],
      "execution_count": 0,
      "outputs": []
    }
  ]
}