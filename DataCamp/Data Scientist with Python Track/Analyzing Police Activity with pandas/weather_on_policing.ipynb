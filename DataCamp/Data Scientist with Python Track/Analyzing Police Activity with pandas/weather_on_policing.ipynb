{
  "nbformat": 4,
  "nbformat_minor": 0,
  "metadata": {
    "colab": {
      "name": "weather_on_policing.ipynb",
      "provenance": [],
      "collapsed_sections": []
    },
    "kernelspec": {
      "name": "python3",
      "display_name": "Python 3"
    }
  },
  "cells": [
    {
      "cell_type": "markdown",
      "metadata": {
        "id": "EPIlZZ6cahvH",
        "colab_type": "text"
      },
      "source": [
        "# Analyzing the effect of weather on policing"
      ]
    },
    {
      "cell_type": "markdown",
      "metadata": {
        "id": "wue_ufeCai-h",
        "colab_type": "text"
      },
      "source": [
        "## Plotting the temperature"
      ]
    },
    {
      "cell_type": "code",
      "metadata": {
        "id": "RUX39vl5anUo",
        "colab_type": "code",
        "colab": {}
      },
      "source": [
        "# Read 'weather.csv' into a DataFrame named 'weather'\n",
        "weather = pd.read_csv('weather.csv')\n",
        "\n",
        "# Describe the temperature columns\n",
        "print(weather[['TMIN', 'TAVG', 'TMAX']].describe())\n",
        "\n",
        "# Create a box plot of the temperature columns\n",
        "weather[['TMIN', 'TAVG', 'TMAX']].plot(kind='box')\n",
        "\n",
        "# Display the plot\n",
        "plt.show()"
      ],
      "execution_count": 0,
      "outputs": []
    },
    {
      "cell_type": "markdown",
      "metadata": {
        "id": "BjFjca7obH7t",
        "colab_type": "text"
      },
      "source": [
        "## Plotting the temperature difference"
      ]
    },
    {
      "cell_type": "code",
      "metadata": {
        "id": "i6FpssaebIS2",
        "colab_type": "code",
        "colab": {}
      },
      "source": [
        "# Create a 'TDIFF' column that represents temperature difference\n",
        "weather['TDIFF'] = weather['TMAX'] - weather['TMIN']\n",
        "\n",
        "# Describe the 'TDIFF' column\n",
        "print(weather['TDIFF'].describe())\n",
        "\n",
        "# Create a histogram with 20 bins to visualize 'TDIFF'\n",
        "weather['TDIFF'].hist(bins=20)\n",
        "\n",
        "# Display the plot\n",
        "plt.show()"
      ],
      "execution_count": 0,
      "outputs": []
    },
    {
      "cell_type": "markdown",
      "metadata": {
        "id": "Fpa8WBJwcnmW",
        "colab_type": "text"
      },
      "source": [
        "## Counting bad weather conditions"
      ]
    },
    {
      "cell_type": "code",
      "metadata": {
        "id": "HjZ9CeYtcn73",
        "colab_type": "code",
        "colab": {}
      },
      "source": [
        "# Copy 'WT01' through 'WT22' to a new DataFrame\n",
        "WT = weather.loc[:, 'WT01':'WT22']\n",
        "\n",
        "# Calculate the sum of each row in 'WT'\n",
        "weather['bad_conditions'] = WT.sum(axis=1)\n",
        "\n",
        "# Replace missing values in 'bad_conditions' with '0'\n",
        "weather['bad_conditions'] = weather.bad_conditions.fillna(0).astype('int')\n",
        "\n",
        "# Create a histogram to visualize 'bad_conditions'\n",
        "weather['bad_conditions'].plot(kind='hist')\n",
        "\n",
        "# Display the plot\n",
        "plt.show()"
      ],
      "execution_count": 0,
      "outputs": []
    },
    {
      "cell_type": "markdown",
      "metadata": {
        "id": "f5ey9MrTdXjE",
        "colab_type": "text"
      },
      "source": [
        "## Rating the weather conditions"
      ]
    },
    {
      "cell_type": "code",
      "metadata": {
        "id": "VPj6rMQGdYHA",
        "colab_type": "code",
        "colab": {}
      },
      "source": [
        "# Count the unique values in 'bad_conditions' and sort the index\n",
        "print(weather.bad_conditions.value_counts().sort_index())\n",
        "\n",
        "# Create a dictionary that maps integers to strings\n",
        "mapping = {0:'good', 1:'bad', 2:'bad', 3:'bad', 4:'bad', 5:'worse', 6:'worse', 7:'worse', 8:'worse', 9:'worse'}\n",
        "\n",
        "# Convert the 'bad_conditions' integers to strings using the 'mapping'\n",
        "weather['rating'] = weather.bad_conditions.map(mapping)\n",
        "\n",
        "# Count the unique values in 'rating'\n",
        "print(weather.rating.value_counts())"
      ],
      "execution_count": 0,
      "outputs": []
    },
    {
      "cell_type": "markdown",
      "metadata": {
        "id": "Ha7LlS2Bdn4P",
        "colab_type": "text"
      },
      "source": [
        "## Changing the data type to category"
      ]
    },
    {
      "cell_type": "code",
      "metadata": {
        "id": "smW85_EkdoOS",
        "colab_type": "code",
        "colab": {}
      },
      "source": [
        "# Create a list of weather ratings in logical order\n",
        "cats = ['good', 'bad', 'worse']\n",
        "\n",
        "# Change the data type of 'rating' to category\n",
        "weather['rating'] = weather.rating.astype('category', ordered=True, categories=cats)\n",
        "\n",
        "# Examine the head of 'rating'\n",
        "print(weather['rating'].head())"
      ],
      "execution_count": 0,
      "outputs": []
    },
    {
      "cell_type": "markdown",
      "metadata": {
        "id": "8V04BuqKxqyP",
        "colab_type": "text"
      },
      "source": [
        "## Preparing the DataFrames"
      ]
    },
    {
      "cell_type": "code",
      "metadata": {
        "id": "xqvNGO8Gxr-s",
        "colab_type": "code",
        "colab": {}
      },
      "source": [
        "# Reset the index of 'ri'\n",
        "ri.reset_index(inplace=True)\n",
        "\n",
        "# Examine the head of 'ri'\n",
        "print(ri.head())\n",
        "\n",
        "# Create a DataFrame from the 'DATE' and 'rating' columns\n",
        "weather_rating = weather[['DATE', 'rating']]\n",
        "\n",
        "# Examine the head of 'weather_rating'\n",
        "print(weather_rating.head())"
      ],
      "execution_count": 0,
      "outputs": []
    },
    {
      "cell_type": "markdown",
      "metadata": {
        "id": "YR0WxkS-x5wi",
        "colab_type": "text"
      },
      "source": [
        "## Merging the DataFrames"
      ]
    },
    {
      "cell_type": "code",
      "metadata": {
        "id": "CCfw4dFYyA5M",
        "colab_type": "code",
        "colab": {}
      },
      "source": [
        "# Examine the shape of 'ri'\n",
        "print(ri.shape)\n",
        "\n",
        "# Merge 'ri' and 'weather_rating' using a left join\n",
        "ri_weather = pd.merge(left=ri, right=weather_rating, left_on='stop_date', right_on='DATE', how='left')\n",
        "\n",
        "# Examine the shape of 'ri_weather'\n",
        "print(ri_weather.shape)\n",
        "\n",
        "# Set 'stop_datetime' as the index of 'ri_weather'\n",
        "ri_weather.set_index('stop_datetime', inplace=True)"
      ],
      "execution_count": 0,
      "outputs": []
    },
    {
      "cell_type": "markdown",
      "metadata": {
        "id": "3LMsGSerzIjt",
        "colab_type": "text"
      },
      "source": [
        "## Comparing arrest rates by weather rating"
      ]
    },
    {
      "cell_type": "code",
      "metadata": {
        "id": "WXNcuxmezI7E",
        "colab_type": "code",
        "colab": {}
      },
      "source": [
        "# Calculate the overall arrest rate\n",
        "print(ri_weather.is_arrested.mean())"
      ],
      "execution_count": 0,
      "outputs": []
    },
    {
      "cell_type": "code",
      "metadata": {
        "id": "1o6ppqrfzoYI",
        "colab_type": "code",
        "colab": {}
      },
      "source": [
        "# Calculate the arrest rate for each 'rating'\n",
        "print(ri_weather.groupby('rating')['is_arrested'].mean())"
      ],
      "execution_count": 0,
      "outputs": []
    },
    {
      "cell_type": "code",
      "metadata": {
        "id": "N8FsLduWz0Ru",
        "colab_type": "code",
        "colab": {}
      },
      "source": [
        "# Calculate the arrest rate for each 'violation' and 'rating'\n",
        "print(ri_weather.groupby(['violation', 'rating'])['is_arrested'].mean())"
      ],
      "execution_count": 0,
      "outputs": []
    },
    {
      "cell_type": "markdown",
      "metadata": {
        "id": "AhxAreW6z93f",
        "colab_type": "text"
      },
      "source": [
        "## Selecting from a multi-indexed Series"
      ]
    },
    {
      "cell_type": "code",
      "metadata": {
        "id": "8XJPA9jhz-Rm",
        "colab_type": "code",
        "colab": {}
      },
      "source": [
        "# Save the output of the groupby operation from the last exercise\n",
        "arrest_rate = ri_weather.groupby(['violation', 'rating']).is_arrested.mean()\n",
        "\n",
        "# Print the 'arrest_rate' Series\n",
        "print(arrest_rate)\n",
        "\n",
        "# Print the arrest rate for moving violations in bad weather\n",
        "print(arrest_rate['Moving violation', 'bad'])\n",
        "\n",
        "# Print the arrest rates for speeding violations in all three weather conditions\n",
        "print(arrest_rate['Speeding'])"
      ],
      "execution_count": 0,
      "outputs": []
    },
    {
      "cell_type": "markdown",
      "metadata": {
        "id": "hokxEHYT0lTo",
        "colab_type": "text"
      },
      "source": [
        "## Reshaping the arrest rate data"
      ]
    },
    {
      "cell_type": "code",
      "metadata": {
        "id": "TlJbSWly0lo1",
        "colab_type": "code",
        "colab": {}
      },
      "source": [
        "# Unstack the 'arrest_rate' Series into a DataFrame\n",
        "print(arrest_rate.unstack())\n",
        "\n",
        "# Create the same DataFrame using a pivot table\n",
        "print(ri_weather.pivot_table(index='violation', columns='rating', values='is_arrested'))"
      ],
      "execution_count": 0,
      "outputs": []
    }
  ]
}