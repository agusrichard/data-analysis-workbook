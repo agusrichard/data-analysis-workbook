{
  "nbformat": 4,
  "nbformat_minor": 0,
  "metadata": {
    "colab": {
      "name": "preparing.ipynb",
      "provenance": [],
      "collapsed_sections": []
    },
    "kernelspec": {
      "name": "python3",
      "display_name": "Python 3"
    }
  },
  "cells": [
    {
      "cell_type": "markdown",
      "metadata": {
        "id": "d9MJR4VToVn_",
        "colab_type": "text"
      },
      "source": [
        "# Preparing the data for analysis"
      ]
    },
    {
      "cell_type": "markdown",
      "metadata": {
        "id": "MkZ_DkUuqVRW",
        "colab_type": "text"
      },
      "source": [
        "## Examining the dataset"
      ]
    },
    {
      "cell_type": "code",
      "metadata": {
        "id": "vWyl9f-xqYZh",
        "colab_type": "code",
        "colab": {}
      },
      "source": [
        "# Import the pandas library as pd\n",
        "import pandas as pd\n",
        "\n",
        "# Read 'police.csv' into a DataFrame named ri\n",
        "ri = pd.read_csv('police.csv')\n",
        "\n",
        "# Examine the head of the DataFrame\n",
        "print(ri.head())\n",
        "\n",
        "# Count the number of missing values in each column\n",
        "print(ri.isnull().sum())"
      ],
      "execution_count": 0,
      "outputs": []
    },
    {
      "cell_type": "markdown",
      "metadata": {
        "id": "F8o1QNeRqylm",
        "colab_type": "text"
      },
      "source": [
        "## Dropping columns"
      ]
    },
    {
      "cell_type": "code",
      "metadata": {
        "id": "ofJ5W12Mqy96",
        "colab_type": "code",
        "colab": {}
      },
      "source": [
        "# Examine the shape of the DataFrame\n",
        "print(ri.shape)\n",
        "\n",
        "# Drop the 'county_name' and 'state' columns\n",
        "ri.drop(['county_name', 'state'], axis='columns', inplace=True)\n",
        "\n",
        "# Examine the shape of the DataFrame (again)\n",
        "print(ri.shape)"
      ],
      "execution_count": 0,
      "outputs": []
    },
    {
      "cell_type": "markdown",
      "metadata": {
        "id": "GzXNe4o9rFLz",
        "colab_type": "text"
      },
      "source": [
        "## Dropping rows"
      ]
    },
    {
      "cell_type": "code",
      "metadata": {
        "id": "sjZQ7MKDrFgt",
        "colab_type": "code",
        "colab": {}
      },
      "source": [
        "# Count the number of missing values in each column\n",
        "print(ri.isnull().sum())\n",
        "\n",
        "# Drop all rows that are missing 'driver_gender'\n",
        "ri.dropna(subset=['driver_gender'], inplace=True)\n",
        "\n",
        "# Count the number of missing values in each column (again)\n",
        "print(ri.isnull().sum())\n",
        "\n",
        "# Examine the shape of the DataFrame\n",
        "print(ri.shape)"
      ],
      "execution_count": 0,
      "outputs": []
    },
    {
      "cell_type": "markdown",
      "metadata": {
        "id": "r_RCFawvsSI_",
        "colab_type": "text"
      },
      "source": [
        "## Finding an incorrect data type"
      ]
    },
    {
      "cell_type": "markdown",
      "metadata": {
        "id": "rUTIPHEIsSfP",
        "colab_type": "text"
      },
      "source": [
        "C. is_arrested should have a data type of bool"
      ]
    },
    {
      "cell_type": "markdown",
      "metadata": {
        "id": "FhgD1P85ser6",
        "colab_type": "text"
      },
      "source": [
        "## Fixing a data type"
      ]
    },
    {
      "cell_type": "code",
      "metadata": {
        "id": "8jYlnyxjshED",
        "colab_type": "code",
        "colab": {}
      },
      "source": [
        "# Examine the head of the 'is_arrested' column\n",
        "print(ri.is_arrested.head())\n",
        "\n",
        "# Change the data type of 'is_arrested' to 'bool'\n",
        "ri['is_arrested'] = ri.is_arrested.astype('bool')\n",
        "\n",
        "# Check the data type of 'is_arrested' \n",
        "print(ri.is_arrested.dtype)"
      ],
      "execution_count": 0,
      "outputs": []
    },
    {
      "cell_type": "markdown",
      "metadata": {
        "id": "IzqmyW8Rthgg",
        "colab_type": "text"
      },
      "source": [
        "## Combining object columns"
      ]
    },
    {
      "cell_type": "code",
      "metadata": {
        "id": "2a1dBukNth1G",
        "colab_type": "code",
        "colab": {}
      },
      "source": [
        "# Concatenate 'stop_date' and 'stop_time' (separated by a space)\n",
        "combined = ri.stop_date.str.cat(ri.stop_time, sep=' ')\n",
        "\n",
        "# Convert 'combined' to datetime format\n",
        "ri['stop_datetime'] = pd.to_datetime(combined)\n",
        "\n",
        "# Examine the data types of the DataFrame\n",
        "print(ri.dtypes)"
      ],
      "execution_count": 0,
      "outputs": []
    },
    {
      "cell_type": "markdown",
      "metadata": {
        "id": "gP6aDE1tuI0b",
        "colab_type": "text"
      },
      "source": [
        "## Setting the index"
      ]
    },
    {
      "cell_type": "code",
      "metadata": {
        "id": "dOmPHY2quJWd",
        "colab_type": "code",
        "colab": {}
      },
      "source": [
        "# Set 'stop_datetime' as the index\n",
        "ri.set_index('stop_datetime', inplace=True)\n",
        "\n",
        "# Examine the index\n",
        "print(ri.index)\n",
        "\n",
        "# Examine the columns\n",
        "print(ri.columns)"
      ],
      "execution_count": 0,
      "outputs": []
    }
  ]
}