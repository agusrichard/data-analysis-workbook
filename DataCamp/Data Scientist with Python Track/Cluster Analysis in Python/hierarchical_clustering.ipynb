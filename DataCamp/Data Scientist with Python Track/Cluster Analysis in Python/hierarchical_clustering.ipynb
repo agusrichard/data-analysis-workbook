{
  "nbformat": 4,
  "nbformat_minor": 0,
  "metadata": {
    "colab": {
      "name": "hierarchical_clustering.ipynb",
      "provenance": [],
      "collapsed_sections": []
    },
    "kernelspec": {
      "name": "python3",
      "display_name": "Python 3"
    }
  },
  "cells": [
    {
      "cell_type": "markdown",
      "metadata": {
        "id": "f502rXFItYv8",
        "colab_type": "text"
      },
      "source": [
        "# Hierarchical Clustering"
      ]
    },
    {
      "cell_type": "markdown",
      "metadata": {
        "id": "70cwIU7EuTxw",
        "colab_type": "text"
      },
      "source": [
        "## Hierarchical clustering: ward method"
      ]
    },
    {
      "cell_type": "code",
      "metadata": {
        "id": "p9ngPTq6uYh_",
        "colab_type": "code",
        "colab": {}
      },
      "source": [
        "# Import the fcluster and linkage functions\n",
        "from scipy.cluster.hierarchy import linkage, fcluster\n",
        "\n",
        "# Use the linkage() function\n",
        "distance_matrix = linkage(comic_con[['x_scaled', 'y_scaled']], method = 'ward', metric = 'euclidean')\n",
        "\n",
        "# Assign cluster labels\n",
        "comic_con['cluster_labels'] = fcluster(distance_matrix, 2, criterion='maxclust')\n",
        "\n",
        "# Plot clusters\n",
        "sns.scatterplot(x='x_scaled', y='y_scaled', \n",
        "                hue='cluster_labels', data = comic_con)\n",
        "plt.show()"
      ],
      "execution_count": 0,
      "outputs": []
    },
    {
      "cell_type": "markdown",
      "metadata": {
        "id": "ATyRvZDavA0N",
        "colab_type": "text"
      },
      "source": [
        "## Hierarchical clustering: single method"
      ]
    },
    {
      "cell_type": "code",
      "metadata": {
        "id": "6CkcF2vPvBLA",
        "colab_type": "code",
        "colab": {}
      },
      "source": [
        "# Import the fcluster and linkage functions\n",
        "from scipy.cluster.hierarchy import linkage, fcluster\n",
        "\n",
        "# Use the linkage() function\n",
        "distance_matrix = linkage(comic_con[['x_scaled', 'y_scaled']], method = 'single', metric = 'euclidean')\n",
        "\n",
        "# Assign cluster labels\n",
        "comic_con['cluster_labels'] = fcluster(distance_matrix, 2, criterion='maxclust')\n",
        "\n",
        "# Plot clusters\n",
        "sns.scatterplot(x='x_scaled', y='y_scaled', \n",
        "                hue='cluster_labels', data = comic_con)\n",
        "plt.show()"
      ],
      "execution_count": 0,
      "outputs": []
    },
    {
      "cell_type": "markdown",
      "metadata": {
        "id": "yHoEoyh4vg_C",
        "colab_type": "text"
      },
      "source": [
        "## Hierarchical clustering: complete method"
      ]
    },
    {
      "cell_type": "code",
      "metadata": {
        "id": "DkFQn6Q8vhab",
        "colab_type": "code",
        "colab": {}
      },
      "source": [
        "# Import the fcluster and linkage functions\n",
        "from scipy.cluster.hierarchy import linkage, fcluster\n",
        "\n",
        "# Use the linkage() function\n",
        "distance_matrix = linkage(comic_con[['x_scaled', 'y_scaled']], method='complete', metric='euclidean')\n",
        "\n",
        "# Assign cluster labels\n",
        "comic_con['cluster_labels'] = fcluster(distance_matrix, 2, criterion='maxclust')\n",
        "\n",
        "# Plot clusters\n",
        "sns.scatterplot(x='x_scaled', y='y_scaled', \n",
        "                hue='cluster_labels', data = comic_con)\n",
        "plt.show()"
      ],
      "execution_count": 0,
      "outputs": []
    },
    {
      "cell_type": "markdown",
      "metadata": {
        "id": "FYI53DHzwv5F",
        "colab_type": "text"
      },
      "source": [
        "## Visualize clusters with matplotlib"
      ]
    },
    {
      "cell_type": "code",
      "metadata": {
        "id": "U0Pqf13BwwR6",
        "colab_type": "code",
        "colab": {}
      },
      "source": [
        "# Import the pyplot class\n",
        "import matplotlib.pyplot as plt\n",
        "\n",
        "# Define a colors dictionary for clusters\n",
        "colors = {1:'red', 2:'blue'}\n",
        "\n",
        "# Plot a scatter plot\n",
        "comic_con.plot.scatter(x='x_scaled', \n",
        "                \t   y='y_scaled',\n",
        "                \t   c=comic_con['cluster_labels'].apply(lambda x: colors[x]))\n",
        "plt.show()"
      ],
      "execution_count": 0,
      "outputs": []
    },
    {
      "cell_type": "markdown",
      "metadata": {
        "id": "w6LjMixGxT1H",
        "colab_type": "text"
      },
      "source": [
        "## Visualize clusters with seaborn"
      ]
    },
    {
      "cell_type": "code",
      "metadata": {
        "id": "45D6rsyfxUVc",
        "colab_type": "code",
        "colab": {}
      },
      "source": [
        "# Import the seaborn module\n",
        "import seaborn as sns\n",
        "\n",
        "# Plot a scatter plot using seaborn\n",
        "sns.scatterplot(x='x_scaled', \n",
        "                y='y_scaled', \n",
        "                hue='cluster_labels', \n",
        "                data = comic_con)\n",
        "plt.show()"
      ],
      "execution_count": 0,
      "outputs": []
    },
    {
      "cell_type": "markdown",
      "metadata": {
        "id": "7WRjxII9yUu8",
        "colab_type": "text"
      },
      "source": [
        "## Create a dendrogram"
      ]
    },
    {
      "cell_type": "code",
      "metadata": {
        "id": "MOWViDNkyVKI",
        "colab_type": "code",
        "colab": {}
      },
      "source": [
        "# Import the dendrogram function\n",
        "from scipy.cluster.hierarchy import dendrogram\n",
        "\n",
        "# Create a dendrogram\n",
        "dn = dendrogram(distance_matrix)\n",
        "\n",
        "# Display the dendogram\n",
        "plt.show()"
      ],
      "execution_count": 0,
      "outputs": []
    },
    {
      "cell_type": "markdown",
      "metadata": {
        "id": "IwqAP0o1yjkG",
        "colab_type": "text"
      },
      "source": [
        "## How many clusters in comic con data?"
      ]
    },
    {
      "cell_type": "markdown",
      "metadata": {
        "id": "SMSzdqOMyj7y",
        "colab_type": "text"
      },
      "source": [
        "A. 2 clusters"
      ]
    },
    {
      "cell_type": "markdown",
      "metadata": {
        "id": "scAWza1cymGx",
        "colab_type": "text"
      },
      "source": [
        "## Timing run of hierarchical clustering"
      ]
    },
    {
      "cell_type": "markdown",
      "metadata": {
        "id": "962zxDc3zLXU",
        "colab_type": "text"
      },
      "source": [
        "B. 1-5 milliseconds"
      ]
    },
    {
      "cell_type": "markdown",
      "metadata": {
        "id": "-meH6N7ozeJn",
        "colab_type": "text"
      },
      "source": [
        "## FIFA 18: exploring defenders"
      ]
    },
    {
      "cell_type": "code",
      "metadata": {
        "id": "OMrj8C-_zgJQ",
        "colab_type": "code",
        "colab": {}
      },
      "source": [
        "# Fit the data into a hierarchical clustering algorithm\n",
        "distance_matrix = linkage(fifa[['scaled_sliding_tackle', 'scaled_aggression']], 'ward')"
      ],
      "execution_count": 0,
      "outputs": []
    },
    {
      "cell_type": "code",
      "metadata": {
        "id": "zTQXxF_Hz3jd",
        "colab_type": "code",
        "colab": {}
      },
      "source": [
        "# Fit the data into a hierarchical clustering algorithm\n",
        "distance_matrix = linkage(fifa[['scaled_sliding_tackle', 'scaled_aggression']], 'ward')\n",
        "\n",
        "# Assign cluster labels to each row of data\n",
        "fifa['cluster_labels'] = fcluster(distance_matrix, 3, criterion='maxclust')"
      ],
      "execution_count": 0,
      "outputs": []
    },
    {
      "cell_type": "code",
      "metadata": {
        "id": "FCI0MRr8z30z",
        "colab_type": "code",
        "colab": {}
      },
      "source": [
        "# Fit the data into a hierarchical clustering algorithm\n",
        "distance_matrix = linkage(fifa[['scaled_sliding_tackle', 'scaled_aggression']], 'ward')\n",
        "\n",
        "# Assign cluster labels to each row of data\n",
        "fifa['cluster_labels'] = fcluster(distance_matrix, 3, criterion='maxclust')\n",
        "\n",
        "# Display cluster centers of each cluster\n",
        "print(fifa[['scaled_sliding_tackle', 'scaled_aggression', 'cluster_labels']].groupby('cluster_labels').mean())"
      ],
      "execution_count": 0,
      "outputs": []
    },
    {
      "cell_type": "code",
      "metadata": {
        "id": "pMgB2wzbz4Ij",
        "colab_type": "code",
        "colab": {}
      },
      "source": [
        "# Fit the data into a hierarchical clustering algorithm\n",
        "distance_matrix = linkage(fifa[['scaled_sliding_tackle', 'scaled_aggression']], 'ward')\n",
        "\n",
        "# Assign cluster labels to each row of data\n",
        "fifa['cluster_labels'] = fcluster(distance_matrix, 3, criterion='maxclust')\n",
        "\n",
        "# Display cluster centers of each cluster\n",
        "print(fifa[['scaled_sliding_tackle', 'scaled_aggression', 'cluster_labels']].groupby('cluster_labels').mean())\n",
        "\n",
        "# Create a scatter plot through seaborn\n",
        "sns.scatterplot(x='scaled_sliding_tackle', y='scaled_aggression', hue='cluster_labels', data=fifa)\n",
        "plt.show()"
      ],
      "execution_count": 0,
      "outputs": []
    }
  ]
}