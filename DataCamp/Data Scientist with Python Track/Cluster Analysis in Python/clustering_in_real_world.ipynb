{
  "nbformat": 4,
  "nbformat_minor": 0,
  "metadata": {
    "colab": {
      "name": "clustering_in_real_world.ipynb",
      "provenance": [],
      "collapsed_sections": []
    },
    "kernelspec": {
      "name": "python3",
      "display_name": "Python 3"
    }
  },
  "cells": [
    {
      "cell_type": "markdown",
      "metadata": {
        "id": "5PVtwFzCLLaz",
        "colab_type": "text"
      },
      "source": [
        "# Clustering in Real World"
      ]
    },
    {
      "cell_type": "markdown",
      "metadata": {
        "id": "dZxxqX4-MRqr",
        "colab_type": "text"
      },
      "source": [
        "## Extract RGB values from image"
      ]
    },
    {
      "cell_type": "code",
      "metadata": {
        "id": "OFaRbhsbMVvQ",
        "colab_type": "code",
        "colab": {}
      },
      "source": [
        "# Import image class of matplotlib\n",
        "import matplotlib.image as img\n",
        "\n",
        "# Read batman image and print dimensions\n",
        "batman_image = img.imread('batman.jpg')\n",
        "print(batman_image.shape)\n",
        "\n",
        "# Store RGB values of all pixels in lists r, g and b\n",
        "for row in batman_image:\n",
        "    for temp_r, temp_g, temp_b in row:\n",
        "        r.append(temp_r)\n",
        "        g.append(temp_g)\n",
        "        b.append(temp_b)"
      ],
      "execution_count": 0,
      "outputs": []
    },
    {
      "cell_type": "markdown",
      "metadata": {
        "id": "fwWa38wcMt8l",
        "colab_type": "text"
      },
      "source": [
        "## How many dominant colors?"
      ]
    },
    {
      "cell_type": "code",
      "metadata": {
        "id": "a4DAqas2MuVR",
        "colab_type": "code",
        "colab": {}
      },
      "source": [
        "distortions = []\n",
        "num_clusters = range(1, 7)\n",
        "\n",
        "# Create a list of distortions from the kmeans function\n",
        "for i in num_clusters:\n",
        "    cluster_centers, distortion = kmeans(batman_df[['scaled_red', 'scaled_green', 'scaled_blue']], i)\n",
        "    distortions.append(distortion)\n",
        "\n",
        "# Create a data frame with two lists, num_clusters and distortions\n",
        "elbow_plot = pd.DataFrame({\n",
        "    'num_clusters': num_clusters,\n",
        "    'distortions': distortions\n",
        "})\n",
        "\n",
        "# Create a line plot of num_clusters and distortions\n",
        "sns.lineplot(x='num_clusters', y='distortions', data = elbow_plot)\n",
        "plt.xticks(num_clusters)\n",
        "plt.show()"
      ],
      "execution_count": 0,
      "outputs": []
    },
    {
      "cell_type": "markdown",
      "metadata": {
        "id": "gCguLr4ZNKna",
        "colab_type": "text"
      },
      "source": [
        "## Display dominant colors"
      ]
    },
    {
      "cell_type": "code",
      "metadata": {
        "id": "b54zxw6YNK_I",
        "colab_type": "code",
        "colab": {}
      },
      "source": [
        "# Get standard deviations of each color\n",
        "r_std, g_std, b_std = batman_df[['red', 'green', 'blue']].std()\n",
        "\n",
        "for cluster_center in cluster_centers:\n",
        "    scaled_r, scaled_g, scaled_b = cluster_center\n",
        "    # Convert each standardized value to scaled value\n",
        "    colors.append((\n",
        "        scaled_r * r_std / 255,\n",
        "        scaled_g * g_std / 255,\n",
        "        scaled_b * b_std / 255\n",
        "    ))\n",
        "\n",
        "# Display colors of cluster centers\n",
        "plt.imshow([colors])\n",
        "plt.show()"
      ],
      "execution_count": 0,
      "outputs": []
    },
    {
      "cell_type": "markdown",
      "metadata": {
        "id": "H9rzzVtLO2_9",
        "colab_type": "text"
      },
      "source": [
        "## TF-IDF of movie plots"
      ]
    },
    {
      "cell_type": "code",
      "metadata": {
        "id": "ES7zXSu9O3YP",
        "colab_type": "code",
        "colab": {}
      },
      "source": [
        "# Import TfidfVectorizer class from sklearn\n",
        "from sklearn.feature_extraction.text import TfidfVectorizer\n",
        "\n",
        "# Initialize TfidfVectorizer\n",
        "tfidf_vectorizer = TfidfVectorizer(max_df=0.75, min_df=0.1, max_features=50, tokenizer=remove_noise)\n",
        "\n",
        "# Use the .fit_transform() method on the list plots\n",
        "tfidf_matrix = tfidf_vectorizer.fit_transform(plots)"
      ],
      "execution_count": 0,
      "outputs": []
    },
    {
      "cell_type": "markdown",
      "metadata": {
        "id": "kHZU5nFWPSbi",
        "colab_type": "text"
      },
      "source": [
        "## Top terms in movie clusters"
      ]
    },
    {
      "cell_type": "code",
      "metadata": {
        "id": "BLh3D04ePSy0",
        "colab_type": "code",
        "colab": {}
      },
      "source": [
        "num_clusters = 2\n",
        "\n",
        "# Generate cluster centers through the kmeans function\n",
        "cluster_centers, distortion = kmeans(tfidf_matrix.todense(), num_clusters)\n",
        "\n",
        "# Generate terms from the tfidf_vectorizer object\n",
        "terms = tfidf_vectorizer.get_feature_names()\n",
        "\n",
        "for i in range(num_clusters):\n",
        "    # Sort the terms and print top 3 terms\n",
        "    center_terms = dict(zip(terms, list(cluster_centers[i])))\n",
        "    sorted_terms = sorted(center_terms, key=center_terms.get, reverse=True)\n",
        "    print(sorted_terms[:3])"
      ],
      "execution_count": 0,
      "outputs": []
    },
    {
      "cell_type": "markdown",
      "metadata": {
        "id": "zgYk_8tlQXAj",
        "colab_type": "text"
      },
      "source": [
        "## Clustering with many features"
      ]
    },
    {
      "cell_type": "markdown",
      "metadata": {
        "id": "EDEyydAPQXZq",
        "colab_type": "text"
      },
      "source": [
        "B. Reduce features using a technique like Factor Analysis"
      ]
    },
    {
      "cell_type": "markdown",
      "metadata": {
        "id": "mR6iprdqQbD4",
        "colab_type": "text"
      },
      "source": [
        "## Basic checks on clusters"
      ]
    },
    {
      "cell_type": "code",
      "metadata": {
        "id": "s7PzmGmNQecw",
        "colab_type": "code",
        "colab": {}
      },
      "source": [
        "# Print the size of the clusters\n",
        "print(fifa.groupby('cluster_labels')['ID'].count())\n",
        "\n",
        "# Print the mean value of wages in each cluster\n",
        "print(fifa.groupby('cluster_labels')['eur_wage'].mean())"
      ],
      "execution_count": 0,
      "outputs": []
    },
    {
      "cell_type": "markdown",
      "metadata": {
        "id": "BqIG4DZOQuXc",
        "colab_type": "text"
      },
      "source": [
        "## FIFA 18: what makes a complete player?"
      ]
    },
    {
      "cell_type": "code",
      "metadata": {
        "id": "LnT7CIkFQutn",
        "colab_type": "code",
        "colab": {}
      },
      "source": [
        "# Create centroids with kmeans for 2 clusters\n",
        "cluster_centers,_ = kmeans(fifa[scaled_features], 2)"
      ],
      "execution_count": 0,
      "outputs": []
    },
    {
      "cell_type": "code",
      "metadata": {
        "id": "NKrETi6PRU4r",
        "colab_type": "code",
        "colab": {}
      },
      "source": [
        "# Create centroids with kmeans for 2 clusters\n",
        "cluster_centers,_ = kmeans(fifa[scaled_features], 2)\n",
        "\n",
        "# Assign cluster labels and print cluster centers\n",
        "fifa['cluster_labels'], _ = vq(fifa[scaled_features], cluster_centers)\n",
        "print(fifa.groupby('cluster_labels')[scaled_features].mean())"
      ],
      "execution_count": 0,
      "outputs": []
    },
    {
      "cell_type": "code",
      "metadata": {
        "id": "4ve9BgN5RZ3z",
        "colab_type": "code",
        "colab": {}
      },
      "source": [
        "# Create centroids with kmeans for 2 clusters\n",
        "cluster_centers,_ = kmeans(fifa[scaled_features], 2)\n",
        "\n",
        "# Assign cluster labels and print cluster centers\n",
        "fifa['cluster_labels'], _ = vq(fifa[scaled_features], cluster_centers)\n",
        "print(fifa.groupby('cluster_labels')[scaled_features].mean())\n",
        "\n",
        "# Plot cluster centers to visualize clusters\n",
        "fifa.groupby('cluster_labels')[scaled_features].mean().plot(legend=True, kind='bar')\n",
        "plt.show()"
      ],
      "execution_count": 0,
      "outputs": []
    },
    {
      "cell_type": "code",
      "metadata": {
        "id": "vA4-YZNkRrnJ",
        "colab_type": "code",
        "colab": {}
      },
      "source": [
        "# Create centroids with kmeans for 2 clusters\n",
        "cluster_centers,_ = kmeans(fifa[scaled_features], 2)\n",
        "\n",
        "# Assign cluster labels and print cluster centers\n",
        "fifa['cluster_labels'], _ = vq(fifa[scaled_features], cluster_centers)\n",
        "print(fifa.groupby('cluster_labels')[scaled_features].mean())\n",
        "\n",
        "# Plot cluster centers to visualize clusters\n",
        "fifa.groupby('cluster_labels')[scaled_features].mean().plot(legend=True, kind='bar')\n",
        "plt.show()\n",
        "\n",
        "# Get the name column of first 5 players in each cluster\n",
        "for cluster in fifa['cluster_labels'].unique():\n",
        "    print(cluster, fifa[fifa['cluster_labels'] == cluster]['name'].values[:5])"
      ],
      "execution_count": 0,
      "outputs": []
    }
  ]
}