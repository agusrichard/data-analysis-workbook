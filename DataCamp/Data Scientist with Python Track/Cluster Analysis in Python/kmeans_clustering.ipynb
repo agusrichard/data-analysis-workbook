{
  "nbformat": 4,
  "nbformat_minor": 0,
  "metadata": {
    "colab": {
      "name": "kmeans_clustering.ipynb",
      "provenance": []
    },
    "kernelspec": {
      "name": "python3",
      "display_name": "Python 3"
    }
  },
  "cells": [
    {
      "cell_type": "markdown",
      "metadata": {
        "id": "SmfsNvjV0pd6",
        "colab_type": "text"
      },
      "source": [
        "# K-Means Clustering\n"
      ]
    },
    {
      "cell_type": "markdown",
      "metadata": {
        "id": "hSpp-L_SExyA",
        "colab_type": "text"
      },
      "source": [
        "## K-means clustering: first exercise"
      ]
    },
    {
      "cell_type": "code",
      "metadata": {
        "id": "KGcBfsisF1yo",
        "colab_type": "code",
        "colab": {}
      },
      "source": [
        "# Import the kmeans and vq functions\n",
        "from scipy.cluster.vq import kmeans, vq\n",
        "\n",
        "# Generate cluster centers\n",
        "cluster_centers, distortion = kmeans(comic_con[['x_scaled', 'y_scaled']], 2)\n",
        "\n",
        "# Assign cluster labels\n",
        "comic_con['cluster_labels'], distortion_list = vq(comic_con[['x_scaled', 'y_scaled']], cluster_centers)\n",
        "\n",
        "# Plot clusters\n",
        "sns.scatterplot(x='x_scaled', y='y_scaled', \n",
        "                hue='cluster_labels', data = comic_con)\n",
        "plt.show()"
      ],
      "execution_count": 0,
      "outputs": []
    },
    {
      "cell_type": "markdown",
      "metadata": {
        "id": "rP2G50kOGQRR",
        "colab_type": "text"
      },
      "source": [
        "## Runtime of k-means clustering"
      ]
    },
    {
      "cell_type": "markdown",
      "metadata": {
        "id": "PwGEH905GQtF",
        "colab_type": "text"
      },
      "source": [
        "B. ~ 50 ms (milliseconds)"
      ]
    },
    {
      "cell_type": "markdown",
      "metadata": {
        "id": "GGuw7RX7GlOw",
        "colab_type": "text"
      },
      "source": [
        "## Elbow method on distinct clusters"
      ]
    },
    {
      "cell_type": "code",
      "metadata": {
        "id": "8Kn_OifGHXG-",
        "colab_type": "code",
        "colab": {}
      },
      "source": [
        "distortions = []\n",
        "num_clusters = range(1, 7)\n",
        "\n",
        "# Create a list of distortions from the kmeans function\n",
        "for i in num_clusters:\n",
        "    cluster_centers, distortion = kmeans(comic_con[['x_scaled', 'y_scaled']], i)\n",
        "    distortions.append(distortion)\n",
        "\n",
        "# Create a data frame with two lists - num_clusters, distortions\n",
        "elbow_plot = pd.DataFrame({'num_clusters': num_clusters, 'distortions': distortions})\n",
        "\n",
        "# Creat a line plot of num_clusters and distortions\n",
        "sns.lineplot(x='num_clusters', y='distortions', data = elbow_plot)\n",
        "plt.xticks(num_clusters)\n",
        "plt.show()"
      ],
      "execution_count": 0,
      "outputs": []
    },
    {
      "cell_type": "markdown",
      "metadata": {
        "id": "sGvMvUWJHruE",
        "colab_type": "text"
      },
      "source": [
        "A. 2 clusters"
      ]
    },
    {
      "cell_type": "markdown",
      "metadata": {
        "id": "HfVp0dGiHtuk",
        "colab_type": "text"
      },
      "source": [
        "## Elbow method on uniform data"
      ]
    },
    {
      "cell_type": "code",
      "metadata": {
        "id": "mlC01y4HHvsS",
        "colab_type": "code",
        "colab": {}
      },
      "source": [
        "distortions = []\n",
        "num_clusters = range(2, 7)\n",
        "\n",
        "# Create a list of distortions from the kmeans function\n",
        "for i in num_clusters:\n",
        "    cluster_centers, distortion = kmeans(uniform_data[['x_scaled', 'y_scaled']], i)\n",
        "    distortions.append(distortion)\n",
        "\n",
        "# Create a data frame with two lists - number of clusters and distortions\n",
        "elbow_plot = pd.DataFrame({'num_clusters': num_clusters, 'distortions': distortions})\n",
        "\n",
        "# Creat a line plot of num_clusters and distortions\n",
        "sns.lineplot(x='num_clusters', y='distortions', data=elbow_plot)\n",
        "plt.xticks(num_clusters)\n",
        "plt.show()"
      ],
      "execution_count": 0,
      "outputs": []
    },
    {
      "cell_type": "markdown",
      "metadata": {
        "id": "kE-OHzgSIGXc",
        "colab_type": "text"
      },
      "source": [
        "A. Can not be determined"
      ]
    },
    {
      "cell_type": "markdown",
      "metadata": {
        "id": "-ZCd4i1RIGwn",
        "colab_type": "text"
      },
      "source": [
        "## Impact of seeds on distinct clusters"
      ]
    },
    {
      "cell_type": "code",
      "metadata": {
        "id": "Jf5nkmvDJYV4",
        "colab_type": "code",
        "colab": {}
      },
      "source": [
        "# Import random class\n",
        "from numpy import random\n",
        "\n",
        "# Initialize seed\n",
        "random.seed(0)\n",
        "\n",
        "# Run kmeans clustering\n",
        "cluster_centers, distortion = kmeans(comic_con[['x_scaled', 'y_scaled']], 2)\n",
        "comic_con['cluster_labels'], distortion_list = vq(comic_con[['x_scaled', 'y_scaled']], cluster_centers)\n",
        "\n",
        "# Plot the scatterplot\n",
        "sns.scatterplot(x='x_scaled', y='y_scaled', \n",
        "                hue='cluster_labels', data = comic_con)\n",
        "plt.show()"
      ],
      "execution_count": 0,
      "outputs": []
    },
    {
      "cell_type": "code",
      "metadata": {
        "id": "ME-YCPLBJilS",
        "colab_type": "code",
        "colab": {}
      },
      "source": [
        "# Import random class\n",
        "from numpy import random\n",
        "\n",
        "# Initialize seed\n",
        "random.seed([1, 2, 1000])\n",
        "\n",
        "# Run kmeans clustering\n",
        "cluster_centers, distortion = kmeans(comic_con[['x_scaled', 'y_scaled']], 2)\n",
        "comic_con['cluster_labels'], distortion_list = vq(comic_con[['x_scaled', 'y_scaled']], cluster_centers)\n",
        "\n",
        "# Plot the scatterplot\n",
        "sns.scatterplot(x='x_scaled', y='y_scaled', \n",
        "                hue='cluster_labels', data = comic_con)\n",
        "plt.show()"
      ],
      "execution_count": 0,
      "outputs": []
    },
    {
      "cell_type": "markdown",
      "metadata": {
        "id": "qOo1AyLUJiTL",
        "colab_type": "text"
      },
      "source": [
        "## Uniform clustering patterns"
      ]
    },
    {
      "cell_type": "code",
      "metadata": {
        "id": "38KnAy3pJlgr",
        "colab_type": "code",
        "colab": {}
      },
      "source": [
        "# Import the kmeans and vq functions\n",
        "from scipy.cluster.vq import kmeans, vq\n",
        "\n",
        "# Generate cluster centers\n",
        "cluster_centers, distortion = kmeans(mouse[['x_scaled', 'y_scaled']], 3)\n",
        "\n",
        "# Assign cluster labels\n",
        "mouse['cluster_labels'], distortion_list = vq(mouse[['x_scaled', 'y_scaled']], cluster_centers)\n",
        "\n",
        "# Plot clusters\n",
        "sns.scatterplot(x='x_scaled', y='y_scaled', \n",
        "                hue='cluster_labels', data = mouse)\n",
        "plt.show()"
      ],
      "execution_count": 0,
      "outputs": []
    },
    {
      "cell_type": "markdown",
      "metadata": {
        "id": "RJtAJbSMKK6j",
        "colab_type": "text"
      },
      "source": [
        "## FIFA 18: defenders revisited"
      ]
    },
    {
      "cell_type": "code",
      "metadata": {
        "id": "_-SPhsNtKLmu",
        "colab_type": "code",
        "colab": {}
      },
      "source": [
        "# Set up a random seed in numpy\n",
        "random.seed([1000, 2000])"
      ],
      "execution_count": 0,
      "outputs": []
    },
    {
      "cell_type": "code",
      "metadata": {
        "id": "wVJLm6mFKmNp",
        "colab_type": "code",
        "colab": {}
      },
      "source": [
        "# Set up a random seed in numpy\n",
        "random.seed([1000,2000])\n",
        "\n",
        "# Fit the data into a k-means algorithm\n",
        "cluster_centers,_ = kmeans(fifa[['scaled_def', 'scaled_phy']], 3)\n",
        "\n",
        "# Assign cluster labels\n",
        "fifa['cluster_labels'],_ = vq(fifa[['scaled_def', 'scaled_phy']], cluster_centers)"
      ],
      "execution_count": 0,
      "outputs": []
    },
    {
      "cell_type": "code",
      "metadata": {
        "id": "JapqFGIlKmpf",
        "colab_type": "code",
        "colab": {}
      },
      "source": [
        "# Set up a random seed in numpy\n",
        "random.seed([1000,2000])\n",
        "\n",
        "# Fit the data into a k-means algorithm\n",
        "cluster_centers,_ = kmeans(fifa[['scaled_def', 'scaled_phy']], 3)\n",
        "\n",
        "# Assign cluster labels\n",
        "fifa['cluster_labels'], _ = vq(fifa[['scaled_def', 'scaled_phy']], cluster_centers)\n",
        "\n",
        "# Display cluster centers \n",
        "print(fifa[['scaled_def', 'scaled_phy', 'cluster_labels']].groupby('cluster_labels').mean())"
      ],
      "execution_count": 0,
      "outputs": []
    },
    {
      "cell_type": "code",
      "metadata": {
        "id": "cVKzNxB4Km65",
        "colab_type": "code",
        "colab": {}
      },
      "source": [
        "# Set up a random seed in numpy\n",
        "random.seed([1000,2000])\n",
        "\n",
        "# Fit the data into a k-means algorithm\n",
        "cluster_centers,_ = kmeans(fifa[['scaled_def', 'scaled_phy']], 3)\n",
        "\n",
        "# Assign cluster labels\n",
        "fifa['cluster_labels'], _ = vq(fifa[['scaled_def', 'scaled_phy']], cluster_centers)\n",
        "\n",
        "# Display cluster centers \n",
        "print(fifa[['scaled_def', 'scaled_phy', 'cluster_labels']].groupby('cluster_labels').mean())\n",
        "\n",
        "# Create a scatter plot through seaborn\n",
        "sns.scatterplot(x='scaled_def', y='scaled_phy', hue='cluster_labels', data=fifa)\n",
        "plt.show()"
      ],
      "execution_count": 0,
      "outputs": []
    }
  ]
}