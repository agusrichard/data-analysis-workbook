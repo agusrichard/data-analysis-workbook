{
  "nbformat": 4,
  "nbformat_minor": 0,
  "metadata": {
    "colab": {
      "name": "introduction_to_clustering.ipynb",
      "provenance": [],
      "collapsed_sections": []
    },
    "kernelspec": {
      "name": "python3",
      "display_name": "Python 3"
    }
  },
  "cells": [
    {
      "cell_type": "markdown",
      "metadata": {
        "id": "ZXQaS6M8lZXt",
        "colab_type": "text"
      },
      "source": [
        "# Introduction to Clustering\n"
      ]
    },
    {
      "cell_type": "markdown",
      "metadata": {
        "id": "iB7ZqYH3mtbA",
        "colab_type": "text"
      },
      "source": [
        "## Unsupervised learning in real world"
      ]
    },
    {
      "cell_type": "markdown",
      "metadata": {
        "id": "JhraDbYbmykV",
        "colab_type": "text"
      },
      "source": [
        "C. Segmentation of learners at DataCamp based on courses they complete. The training data has no labels"
      ]
    },
    {
      "cell_type": "markdown",
      "metadata": {
        "id": "t4hew5qQm3c5",
        "colab_type": "text"
      },
      "source": [
        "## Pokémon sightings"
      ]
    },
    {
      "cell_type": "code",
      "metadata": {
        "id": "90bY0-yIm606",
        "colab_type": "code",
        "colab": {}
      },
      "source": [
        "# Import plotting class from matplotlib library\n",
        "from matplotlib import pyplot as plt\n",
        "\n",
        "# Create a scatter plot\n",
        "plt.scatter(x, y)\n",
        "\n",
        "# Display the scatter plot\n",
        "plt.show()"
      ],
      "execution_count": 0,
      "outputs": []
    },
    {
      "cell_type": "markdown",
      "metadata": {
        "id": "d1mIiHH8oGRc",
        "colab_type": "text"
      },
      "source": [
        "## Pokémon sightings: hierarchical clustering"
      ]
    },
    {
      "cell_type": "code",
      "metadata": {
        "id": "hqN-nQwSoGqG",
        "colab_type": "code",
        "colab": {}
      },
      "source": [
        "# Import linkage and fcluster functions\n",
        "from scipy.cluster.hierarchy import linkage, fcluster\n",
        "\n",
        "# Use the linkage() function to compute distance\n",
        "Z = linkage(df, 'ward')\n",
        "\n",
        "# Generate cluster labels\n",
        "df['cluster_labels'] = fcluster(Z, 2, criterion='maxclust')\n",
        "\n",
        "# Plot the points with seaborn\n",
        "sns.scatterplot(x='x', y='y', hue='cluster_labels', data=df)\n",
        "plt.show()"
      ],
      "execution_count": 0,
      "outputs": []
    },
    {
      "cell_type": "markdown",
      "metadata": {
        "id": "UMk6D9lBo0Jf",
        "colab_type": "text"
      },
      "source": [
        "## Pokémon sightings: k-means clustering"
      ]
    },
    {
      "cell_type": "code",
      "metadata": {
        "id": "D6aoofHzo0hg",
        "colab_type": "code",
        "colab": {}
      },
      "source": [
        "# Import kmeans and vq functions\n",
        "from scipy.cluster.vq import kmeans, vq\n",
        "\n",
        "# Compute cluster centers\n",
        "centroids,_ = kmeans(df, 2)\n",
        "\n",
        "# Assign cluster labels\n",
        "df['cluster_labels'], _ = vq(df, centroids)\n",
        "\n",
        "# Plot the points with seaborn\n",
        "sns.scatterplot(x='x', y='y', hue='cluster_labels', data=df)\n",
        "plt.show()"
      ],
      "execution_count": 0,
      "outputs": []
    },
    {
      "cell_type": "markdown",
      "metadata": {
        "id": "xci3TMcXp7_p",
        "colab_type": "text"
      },
      "source": [
        "## Normalize basic list data"
      ]
    },
    {
      "cell_type": "code",
      "metadata": {
        "id": "N7B5SrLpp8X9",
        "colab_type": "code",
        "colab": {}
      },
      "source": [
        "# Import the whiten function\n",
        "from scipy.cluster.vq import whiten\n",
        "\n",
        "goals_for = [4,3,2,3,1,1,2,0,1,4]\n",
        "\n",
        "# Use the whiten() function to standardize the data\n",
        "scaled_data = whiten(goals_for)\n",
        "print(scaled_data)"
      ],
      "execution_count": 0,
      "outputs": []
    },
    {
      "cell_type": "markdown",
      "metadata": {
        "id": "k6mNtGE6qCSs",
        "colab_type": "text"
      },
      "source": [
        "## Visualize normalized data"
      ]
    },
    {
      "cell_type": "code",
      "metadata": {
        "id": "EdlBFrjqqCt7",
        "colab_type": "code",
        "colab": {}
      },
      "source": [
        "# Plot original data\n",
        "plt.plot(goals_for, label='original')\n",
        "\n",
        "# Plot scaled data\n",
        "plt.plot(scaled_data, label='scaled')\n",
        "\n",
        "# Show the legend in the plot\n",
        "plt.legend()\n",
        "\n",
        "# Display the plot\n",
        "plt.show()"
      ],
      "execution_count": 0,
      "outputs": []
    },
    {
      "cell_type": "markdown",
      "metadata": {
        "id": "FaSQi0tlqN0G",
        "colab_type": "text"
      },
      "source": [
        "## Normalization of small numbers"
      ]
    },
    {
      "cell_type": "code",
      "metadata": {
        "id": "JrbWKd3jqOOs",
        "colab_type": "code",
        "colab": {}
      },
      "source": [
        "# Prepare data\n",
        "rate_cuts = [0.0025, 0.001, -0.0005, -0.001, -0.0005, 0.0025, -0.001, -0.0015, -0.001, 0.0005]\n",
        "\n",
        "# Use the whiten() function to standardize the data\n",
        "scaled_data = whiten(rate_cuts)\n",
        "\n",
        "# Plot original data\n",
        "plt.plot(rate_cuts, label='original')\n",
        "\n",
        "# Plot scaled data\n",
        "plt.plot(scaled_data, label='scaled')\n",
        "\n",
        "plt.legend()\n",
        "plt.show()"
      ],
      "execution_count": 0,
      "outputs": []
    },
    {
      "cell_type": "markdown",
      "metadata": {
        "id": "injoJxQUqa8l",
        "colab_type": "text"
      },
      "source": [
        "## FIFA 18: Normalize data"
      ]
    },
    {
      "cell_type": "code",
      "metadata": {
        "id": "Vd77qG66qbVv",
        "colab_type": "code",
        "colab": {}
      },
      "source": [
        "# Scale wage and value\n",
        "fifa['scaled_wage'] = whiten(fifa['eur_wage'])\n",
        "fifa['scaled_value'] = whiten(fifa['eur_value'])"
      ],
      "execution_count": 0,
      "outputs": []
    },
    {
      "cell_type": "code",
      "metadata": {
        "id": "iMunv9JUqsmL",
        "colab_type": "code",
        "colab": {}
      },
      "source": [
        "# Scale wage and value\n",
        "fifa['scaled_wage'] = whiten(fifa['eur_wage'])\n",
        "fifa['scaled_value'] = whiten(fifa['eur_value'])\n",
        "\n",
        "# Plot the two columns in a scatter plot\n",
        "fifa.plot(x='scaled_wage', y='scaled_value', kind='scatter')\n",
        "plt.show()"
      ],
      "execution_count": 0,
      "outputs": []
    },
    {
      "cell_type": "code",
      "metadata": {
        "id": "5E_lVvEEqw-c",
        "colab_type": "code",
        "colab": {}
      },
      "source": [
        "# Scale wage and value\n",
        "fifa['scaled_wage'] = whiten(fifa['eur_wage'])\n",
        "fifa['scaled_value'] = whiten(fifa['eur_value'])\n",
        "\n",
        "# Plot the two columns in a scatter plot\n",
        "fifa.plot(x='scaled_wage', y='scaled_value', kind = 'scatter')\n",
        "plt.show()\n",
        "\n",
        "# Check mean and standard deviation of scaled values\n",
        "print(fifa[['scaled_wage', 'scaled_value']].describe())"
      ],
      "execution_count": 0,
      "outputs": []
    }
  ]
}