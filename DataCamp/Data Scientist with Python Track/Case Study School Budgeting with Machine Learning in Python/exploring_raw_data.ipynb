{
  "nbformat": 4,
  "nbformat_minor": 0,
  "metadata": {
    "colab": {
      "name": "exploring_raw_data.ipynb",
      "provenance": []
    },
    "kernelspec": {
      "name": "python3",
      "display_name": "Python 3"
    }
  },
  "cells": [
    {
      "cell_type": "markdown",
      "metadata": {
        "id": "6NvbCwp0LcuG",
        "colab_type": "text"
      },
      "source": [
        "# Exploring the raw data\n"
      ]
    },
    {
      "cell_type": "markdown",
      "metadata": {
        "id": "Y4k9PydfNxtB",
        "colab_type": "text"
      },
      "source": [
        "## What category of problem is this?"
      ]
    },
    {
      "cell_type": "markdown",
      "metadata": {
        "id": "MF-f0xt9UlTO",
        "colab_type": "text"
      },
      "source": [
        "D. Supervised Learning, because the model will be trained using labeled examples."
      ]
    },
    {
      "cell_type": "markdown",
      "metadata": {
        "id": "YnrRsRqbUs9W",
        "colab_type": "text"
      },
      "source": [
        "## What is the goal of the algorithm?"
      ]
    },
    {
      "cell_type": "markdown",
      "metadata": {
        "id": "JLWhRh5jUvS4",
        "colab_type": "text"
      },
      "source": [
        "B. Classification, because predicted probabilities will be used to select a label class.\n"
      ]
    },
    {
      "cell_type": "markdown",
      "metadata": {
        "id": "a7-HRqZGU6em",
        "colab_type": "text"
      },
      "source": [
        "## Loading the data"
      ]
    },
    {
      "cell_type": "markdown",
      "metadata": {
        "id": "nPFKCMxfVhzT",
        "colab_type": "text"
      },
      "source": [
        "C. 1560 rows, 25 columns, 1131 non-null entries in Job_Title_Description."
      ]
    },
    {
      "cell_type": "markdown",
      "metadata": {
        "id": "QTBPJlg_XElo",
        "colab_type": "text"
      },
      "source": [
        "## Summarizing the data"
      ]
    },
    {
      "cell_type": "code",
      "metadata": {
        "id": "k1VOimiBV956",
        "colab_type": "code",
        "colab": {}
      },
      "source": [
        "# Print the summary statistics\n",
        "print(df.describe())\n",
        "\n",
        "# Import matplotlib.pyplot as plt\n",
        "import matplotlib.pyplot as plt\n",
        "\n",
        "# Create the histogram\n",
        "plt.hist(df['FTE'].dropna())\n",
        "\n",
        "# Add title and labels\n",
        "plt.title('Distribution of %full-time \\n employee works')\n",
        "plt.xlabel('% of full-time')\n",
        "plt.ylabel('num employees')\n",
        "\n",
        "# Display the histogram\n",
        "plt.show()"
      ],
      "execution_count": 0,
      "outputs": []
    },
    {
      "cell_type": "markdown",
      "metadata": {
        "id": "gdVkXnPjaa4h",
        "colab_type": "text"
      },
      "source": [
        "## Exploring datatypes in pandas"
      ]
    },
    {
      "cell_type": "markdown",
      "metadata": {
        "id": "PoifCJPRabQD",
        "colab_type": "text"
      },
      "source": [
        "B. 23."
      ]
    },
    {
      "cell_type": "markdown",
      "metadata": {
        "id": "0b0XatzSaqCe",
        "colab_type": "text"
      },
      "source": [
        "## Encode the labels as categorical variables"
      ]
    },
    {
      "cell_type": "code",
      "metadata": {
        "id": "a18PHJFhasKL",
        "colab_type": "code",
        "colab": {}
      },
      "source": [
        "# Define the lambda function: categorize_label\n",
        "categorize_label = lambda x: x.astype('category')\n",
        "\n",
        "# Convert df[LABELS] to a categorical type\n",
        "df[LABELS] = df[LABELS].apply(categorize_label, axis=0)\n",
        "\n",
        "# Print the converted dtypes\n",
        "print(df[LABELS].dtypes)"
      ],
      "execution_count": 0,
      "outputs": []
    },
    {
      "cell_type": "markdown",
      "metadata": {
        "id": "NpwjpxRubMQG",
        "colab_type": "text"
      },
      "source": [
        "## Counting unique labels"
      ]
    },
    {
      "cell_type": "code",
      "metadata": {
        "id": "kEIl3QdpbMn0",
        "colab_type": "code",
        "colab": {}
      },
      "source": [
        "# Import matplotlib.pyplot\n",
        "import matplotlib.pyplot as plt\n",
        "\n",
        "# Calculate number of unique values for each label: num_unique_labels\n",
        "num_unique_labels = df[LABELS].apply(pd.Series.nunique, axis=0)\n",
        "\n",
        "# Plot number of unique values for each label\n",
        "num_unique_labels.plot(kind='bar')\n",
        "\n",
        "# Label the axes\n",
        "plt.xlabel('Labels')\n",
        "plt.ylabel('Number of unique values')\n",
        "\n",
        "# Display the plot\n",
        "plt.show()"
      ],
      "execution_count": 0,
      "outputs": []
    },
    {
      "cell_type": "markdown",
      "metadata": {
        "id": "CSKhPF6Xc1_2",
        "colab_type": "text"
      },
      "source": [
        "## Penalizing highly confident wrong answers"
      ]
    },
    {
      "cell_type": "markdown",
      "metadata": {
        "id": "uj1IUcmzc13C",
        "colab_type": "text"
      },
      "source": [
        "C. Lowest: A, Middle: C, Highest: B."
      ]
    },
    {
      "cell_type": "markdown",
      "metadata": {
        "id": "D2yWqH8DdQvO",
        "colab_type": "text"
      },
      "source": [
        "## Computing log loss with NumPy"
      ]
    },
    {
      "cell_type": "code",
      "metadata": {
        "id": "0CDLLIyKdS93",
        "colab_type": "code",
        "colab": {}
      },
      "source": [
        "# Compute and print log loss for 1st case\n",
        "correct_confident_loss = compute_log_loss(correct_confident, actual_labels)\n",
        "print(\"Log loss, correct and confident: {}\".format(correct_confident_loss)) \n",
        "\n",
        "# Compute log loss for 2nd case\n",
        "correct_not_confident_loss = compute_log_loss(correct_not_confident, actual_labels)\n",
        "print(\"Log loss, correct and not confident: {}\".format(correct_not_confident_loss)) \n",
        "\n",
        "# Compute and print log loss for 3rd case\n",
        "wrong_not_confident_loss = compute_log_loss(wrong_not_confident, actual_labels)\n",
        "print(\"Log loss, wrong and not confident: {}\".format(wrong_not_confident_loss)) \n",
        "\n",
        "# Compute and print log loss for 4th case\n",
        "wrong_confident_loss = compute_log_loss(wrong_confident, actual_labels)\n",
        "print(\"Log loss, wrong and confident: {}\".format(wrong_confident_loss)) \n",
        "\n",
        "# Compute and print log loss for actual labels\n",
        "actual_labels_loss = compute_log_loss(actual_labels, actual_labels)\n",
        "print(\"Log loss, actual labels: {}\".format(actual_labels_loss)) \n"
      ],
      "execution_count": 0,
      "outputs": []
    }
  ]
}