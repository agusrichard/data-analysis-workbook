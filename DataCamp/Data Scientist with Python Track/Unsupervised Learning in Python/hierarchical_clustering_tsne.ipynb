{
  "nbformat": 4,
  "nbformat_minor": 0,
  "metadata": {
    "colab": {
      "name": "hierarchical_clustering_tsne.ipynb",
      "provenance": [],
      "collapsed_sections": []
    },
    "kernelspec": {
      "name": "python3",
      "display_name": "Python 3"
    }
  },
  "cells": [
    {
      "cell_type": "markdown",
      "metadata": {
        "id": "z41p2CywqdEQ",
        "colab_type": "text"
      },
      "source": [
        "# Visualization with hierarchical clustering and t-SNE"
      ]
    },
    {
      "cell_type": "markdown",
      "metadata": {
        "id": "4ZbOz8sesAhX",
        "colab_type": "text"
      },
      "source": [
        "## How many merges?"
      ]
    },
    {
      "cell_type": "markdown",
      "metadata": {
        "id": "qxbVqsgpsFe_",
        "colab_type": "text"
      },
      "source": [
        "A. 4 merges."
      ]
    },
    {
      "cell_type": "markdown",
      "metadata": {
        "id": "8JluuITSsOLg",
        "colab_type": "text"
      },
      "source": [
        "## Hierarchical clustering of the grain data"
      ]
    },
    {
      "cell_type": "code",
      "metadata": {
        "id": "9D7-cLLbsSMO",
        "colab_type": "code",
        "colab": {}
      },
      "source": [
        "# Perform the necessary imports\n",
        "from scipy.cluster.hierarchy import linkage, dendrogram\n",
        "import matplotlib.pyplot as plt\n",
        "\n",
        "# Calculate the linkage: mergings\n",
        "mergings = linkage(samples, method='complete')\n",
        "\n",
        "# Plot the dendrogram, using varieties as labels\n",
        "dendrogram(mergings,\n",
        "           labels=varieties,\n",
        "           leaf_rotation=90,\n",
        "           leaf_font_size=6,\n",
        ")\n",
        "plt.show()\n"
      ],
      "execution_count": 0,
      "outputs": []
    },
    {
      "cell_type": "markdown",
      "metadata": {
        "id": "rhaKghQJstFU",
        "colab_type": "text"
      },
      "source": [
        "## Hierarchies of stocks"
      ]
    },
    {
      "cell_type": "code",
      "metadata": {
        "id": "aX8RIaFxstdN",
        "colab_type": "code",
        "colab": {}
      },
      "source": [
        "# Import normalize\n",
        "from sklearn.preprocessing import normalize\n",
        "\n",
        "# Normalize the movements: normalized_movements\n",
        "normalized_movements = normalize(movements)\n",
        "\n",
        "# Calculate the linkage: mergings\n",
        "mergings = linkage(normalized_movements, 'complete')\n",
        "\n",
        "# Plot the dendrogram\n",
        "dendrogram(mergings, labels=companies, leaf_rotation=90, leaf_font_size=6)\n",
        "plt.show()\n"
      ],
      "execution_count": 0,
      "outputs": []
    },
    {
      "cell_type": "markdown",
      "metadata": {
        "id": "_0cukwsHt-wf",
        "colab_type": "text"
      },
      "source": [
        "## Which clusters are closest?"
      ]
    },
    {
      "cell_type": "markdown",
      "metadata": {
        "id": "YQg_Ed5At_Ti",
        "colab_type": "text"
      },
      "source": [
        "C. Both A and B."
      ]
    },
    {
      "cell_type": "markdown",
      "metadata": {
        "id": "edvG1i4juclf",
        "colab_type": "text"
      },
      "source": [
        "## Different linkage, different hierarchical clustering!"
      ]
    },
    {
      "cell_type": "code",
      "metadata": {
        "id": "XZ9qysghuefp",
        "colab_type": "code",
        "colab": {}
      },
      "source": [
        "# Perform the necessary imports\n",
        "import matplotlib.pyplot as plt\n",
        "from scipy.cluster.hierarchy import linkage, dendrogram\n",
        "\n",
        "# Calculate the linkage: mergings\n",
        "mergings = linkage(samples, method='single')\n",
        "\n",
        "# Plot the dendrogram\n",
        "dendrogram(mergings, labels=country_names, leaf_rotation=90, leaf_font_size=6)\n",
        "plt.show()\n"
      ],
      "execution_count": 0,
      "outputs": []
    },
    {
      "cell_type": "markdown",
      "metadata": {
        "id": "hHpLudKxvCRD",
        "colab_type": "text"
      },
      "source": [
        "## Intermediate clusterings"
      ]
    },
    {
      "cell_type": "markdown",
      "metadata": {
        "id": "CctlY195vCpM",
        "colab_type": "text"
      },
      "source": [
        "B. 3."
      ]
    },
    {
      "cell_type": "markdown",
      "metadata": {
        "id": "mMyY7nr_vIPp",
        "colab_type": "text"
      },
      "source": [
        "## Extracting the cluster labels"
      ]
    },
    {
      "cell_type": "code",
      "metadata": {
        "id": "miorpPdevKA3",
        "colab_type": "code",
        "colab": {}
      },
      "source": [
        "# Perform the necessary imports\n",
        "import pandas as pd\n",
        "from scipy.cluster.hierarchy import fcluster\n",
        "\n",
        "# Use fcluster to extract labels: labels\n",
        "labels = fcluster(mergings, 6, criterion='distance')\n",
        "\n",
        "# Create a DataFrame with labels and varieties as columns: df\n",
        "df = pd.DataFrame({'labels': labels, 'varieties': varieties})\n",
        "\n",
        "# Create crosstab: ct\n",
        "ct = pd.crosstab(df['labels'], df['varieties'])\n",
        "\n",
        "# Display ct\n",
        "print(ct)\n"
      ],
      "execution_count": 0,
      "outputs": []
    },
    {
      "cell_type": "markdown",
      "metadata": {
        "id": "WW6BOUe8wWaa",
        "colab_type": "text"
      },
      "source": [
        "## t-SNE visualization of grain dataset"
      ]
    },
    {
      "cell_type": "code",
      "metadata": {
        "id": "2SnjqFnHwWz6",
        "colab_type": "code",
        "colab": {}
      },
      "source": [
        "# Import TSNE\n",
        "from sklearn.manifold import TSNE\n",
        "\n",
        "# Create a TSNE instance: model\n",
        "model = TSNE(learning_rate=200)\n",
        "\n",
        "# Apply fit_transform to samples: tsne_features\n",
        "tsne_features = model.fit_transform(samples)\n",
        "\n",
        "# Select the 0th feature: xs\n",
        "xs = tsne_features[:,0]\n",
        "\n",
        "# Select the 1st feature: ys\n",
        "ys = tsne_features[:,1]\n",
        "\n",
        "# Scatter plot, coloring by variety_numbers\n",
        "plt.scatter(xs, ys, c=variety_numbers)\n",
        "plt.show()\n"
      ],
      "execution_count": 0,
      "outputs": []
    },
    {
      "cell_type": "markdown",
      "metadata": {
        "id": "m50zCtU_wqct",
        "colab_type": "text"
      },
      "source": [
        "## A t-SNE map of the stock market"
      ]
    },
    {
      "cell_type": "code",
      "metadata": {
        "id": "zT-ba87rwq0r",
        "colab_type": "code",
        "colab": {}
      },
      "source": [
        "# Import TSNE\n",
        "from sklearn.manifold import TSNE\n",
        "\n",
        "# Create a TSNE instance: model\n",
        "model = TSNE()\n",
        "\n",
        "# Apply fit_transform to normalized_movements: tsne_features\n",
        "tsne_features = model.fit_transform(normalized_movements)\n",
        "\n",
        "# Select the 0th feature: xs\n",
        "xs = tsne_features[:, 0]\n",
        "\n",
        "# Select the 1th feature: ys\n",
        "ys = tsne_features[:,1]\n",
        "\n",
        "# Scatter plot\n",
        "plt.scatter(xs, ys, alpha=0.5)\n",
        "\n",
        "# Annotate the points\n",
        "for x, y, company in zip(xs, ys, companies):\n",
        "    plt.annotate(company, (x, y), fontsize=5, alpha=0.75)\n",
        "plt.show()\n"
      ],
      "execution_count": 0,
      "outputs": []
    }
  ]
}