{
  "nbformat": 4,
  "nbformat_minor": 0,
  "metadata": {
    "colab": {
      "name": "clustering_for_dataset_exploration.ipynb",
      "provenance": [],
      "collapsed_sections": []
    },
    "kernelspec": {
      "name": "python3",
      "display_name": "Python 3"
    }
  },
  "cells": [
    {
      "cell_type": "markdown",
      "metadata": {
        "id": "8qpr10EsNQCh",
        "colab_type": "text"
      },
      "source": [
        "# Clustering for dataset exploration\n"
      ]
    },
    {
      "cell_type": "markdown",
      "metadata": {
        "id": "QH5M3euhczmj",
        "colab_type": "text"
      },
      "source": [
        "## How many clusters?"
      ]
    },
    {
      "cell_type": "markdown",
      "metadata": {
        "id": "vpN9GeoZhprf",
        "colab_type": "text"
      },
      "source": [
        "B. 3"
      ]
    },
    {
      "cell_type": "markdown",
      "metadata": {
        "id": "RVC9F01fh_cw",
        "colab_type": "text"
      },
      "source": [
        "## Clustering 2D points"
      ]
    },
    {
      "cell_type": "code",
      "metadata": {
        "id": "oLne451yiCQ3",
        "colab_type": "code",
        "colab": {}
      },
      "source": [
        "# Import KMeans\n",
        "from sklearn.cluster import KMeans\n",
        "\n",
        "# Create a KMeans instance with 3 clusters: model\n",
        "model = KMeans(n_clusters=3)\n",
        "\n",
        "# Fit model to points\n",
        "model.fit(points)\n",
        "\n",
        "# Determine the cluster labels of new_points: labels\n",
        "labels = model.predict(new_points)\n",
        "\n",
        "# Print cluster labels of new_points\n",
        "print(labels)\n"
      ],
      "execution_count": 0,
      "outputs": []
    },
    {
      "cell_type": "markdown",
      "metadata": {
        "id": "ipw4OPiaifbo",
        "colab_type": "text"
      },
      "source": [
        "## Inspect your clustering"
      ]
    },
    {
      "cell_type": "code",
      "metadata": {
        "id": "SmiOwbZLifw2",
        "colab_type": "code",
        "colab": {}
      },
      "source": [
        "# Import pyplot\n",
        "import matplotlib.pyplot as plt\n",
        "\n",
        "# Assign the columns of new_points: xs and ys\n",
        "xs = new_points[:, 0]\n",
        "ys = new_points[:, 1]\n",
        "\n",
        "# Make a scatter plot of xs and ys, using labels to define the colors\n",
        "plt.scatter(xs, ys, c=labels, alpha=0.5)\n",
        "\n",
        "# Assign the cluster centers: centroids\n",
        "centroids = model.cluster_centers_\n",
        "\n",
        "# Assign the columns of centroids: centroids_x, centroids_y\n",
        "centroids_x = centroids[:,0]\n",
        "centroids_y = centroids[:,1]\n",
        "\n",
        "# Make a scatter plot of centroids_x and centroids_y\n",
        "plt.scatter(centroids_x, centroids_y, marker='D', s=50)\n",
        "plt.show()\n"
      ],
      "execution_count": 0,
      "outputs": []
    },
    {
      "cell_type": "markdown",
      "metadata": {
        "id": "Ew1rswGDkjuZ",
        "colab_type": "text"
      },
      "source": [
        "## How many clusters of grain?"
      ]
    },
    {
      "cell_type": "code",
      "metadata": {
        "id": "uZ_F9SmFkkEJ",
        "colab_type": "code",
        "colab": {}
      },
      "source": [
        "ks = range(1, 6)\n",
        "inertias = []\n",
        "\n",
        "for k in ks:\n",
        "    # Create a KMeans instance with k clusters: model\n",
        "    model = KMeans(n_clusters=k)\n",
        "    \n",
        "    # Fit model to samples\n",
        "    model.fit(samples)\n",
        "    \n",
        "    # Append the inertia to the list of inertias\n",
        "    inertias.append(model.inertia_)\n",
        "    \n",
        "# Plot ks vs inertias\n",
        "plt.plot(ks, inertias, '-o')\n",
        "plt.xlabel('number of clusters, k')\n",
        "plt.ylabel('inertia')\n",
        "plt.xticks(ks)\n",
        "plt.show()\n"
      ],
      "execution_count": 0,
      "outputs": []
    },
    {
      "cell_type": "markdown",
      "metadata": {
        "id": "wCUHD-MDk7a7",
        "colab_type": "text"
      },
      "source": [
        "## Evaluating the grain clustering"
      ]
    },
    {
      "cell_type": "code",
      "metadata": {
        "id": "2Bv_P4awk7xP",
        "colab_type": "code",
        "colab": {}
      },
      "source": [
        "# Create a KMeans model with 3 clusters: model\n",
        "model = KMeans(n_clusters=3)\n",
        "\n",
        "# Use fit_predict to fit model and obtain cluster labels: labels\n",
        "labels = model.fit_predict(samples)\n",
        "\n",
        "# Create a DataFrame with labels and varieties as columns: df\n",
        "df = pd.DataFrame({'labels': labels, 'varieties': varieties})\n",
        "\n",
        "# Create crosstab: ct\n",
        "ct = pd.crosstab(df['labels'], df['varieties'])\n",
        "\n",
        "# Display ct\n",
        "print(ct)\n"
      ],
      "execution_count": 0,
      "outputs": []
    },
    {
      "cell_type": "markdown",
      "metadata": {
        "id": "8NxZ7zmZmSIn",
        "colab_type": "text"
      },
      "source": [
        "## Scaling fish data for clustering"
      ]
    },
    {
      "cell_type": "code",
      "metadata": {
        "id": "wB7I8KFpmSeo",
        "colab_type": "code",
        "colab": {}
      },
      "source": [
        "# Perform the necessary imports\n",
        "from sklearn.pipeline import make_pipeline\n",
        "from sklearn.preprocessing import StandardScaler\n",
        "from sklearn.cluster import KMeans\n",
        "\n",
        "# Create scaler: scaler\n",
        "scaler = StandardScaler()\n",
        "\n",
        "# Create KMeans instance: kmeans\n",
        "kmeans = KMeans(n_clusters=4)\n",
        "\n",
        "# Create pipeline: pipeline\n",
        "pipeline = make_pipeline(scaler, kmeans)\n"
      ],
      "execution_count": 0,
      "outputs": []
    },
    {
      "cell_type": "markdown",
      "metadata": {
        "id": "z8VGbNnEmp3A",
        "colab_type": "text"
      },
      "source": [
        "## Clustering the fish data"
      ]
    },
    {
      "cell_type": "code",
      "metadata": {
        "id": "ZjtEdjEtmqN-",
        "colab_type": "code",
        "colab": {}
      },
      "source": [
        "# Import pandas\n",
        "import pandas as pd\n",
        "\n",
        "# Fit the pipeline to samples\n",
        "pipeline.fit(samples)\n",
        "\n",
        "# Calculate the cluster labels: labels\n",
        "labels = pipeline.predict(samples)\n",
        "\n",
        "# Create a DataFrame with labels and species as columns: df\n",
        "df = pd.DataFrame({'labels': labels, 'species': species})\n",
        "\n",
        "# Create crosstab: ct\n",
        "ct = pd.crosstab(df['labels'], df['species'])\n",
        "\n",
        "# Display ct\n",
        "print(ct)\n"
      ],
      "execution_count": 0,
      "outputs": []
    },
    {
      "cell_type": "markdown",
      "metadata": {
        "id": "DjsHCgYknlQ7",
        "colab_type": "text"
      },
      "source": [
        "## Clustering stocks using KMeans"
      ]
    },
    {
      "cell_type": "code",
      "metadata": {
        "id": "t7eV1O6xnlpc",
        "colab_type": "code",
        "colab": {}
      },
      "source": [
        "# Import Normalizer\n",
        "from sklearn.preprocessing import Normalizer\n",
        "\n",
        "# Create a normalizer: normalizer\n",
        "normalizer = Normalizer()\n",
        "\n",
        "# Create a KMeans model with 10 clusters: kmeans\n",
        "kmeans = KMeans(n_clusters=10)\n",
        "\n",
        "# Make a pipeline chaining normalizer and kmeans: pipeline\n",
        "pipeline = make_pipeline(normalizer, kmeans)\n",
        "\n",
        "# Fit pipeline to the daily price movements\n",
        "pipeline.fit(movements)\n"
      ],
      "execution_count": 0,
      "outputs": []
    },
    {
      "cell_type": "markdown",
      "metadata": {
        "id": "R5EiFyMDoKl5",
        "colab_type": "text"
      },
      "source": [
        "## Which stocks move together?"
      ]
    },
    {
      "cell_type": "code",
      "metadata": {
        "id": "ksls3ApYoK89",
        "colab_type": "code",
        "colab": {}
      },
      "source": [
        "# Import pandas\n",
        "import pandas as pd\n",
        "\n",
        "# Predict the cluster labels: labels\n",
        "labels = pipeline.predict(movements)\n",
        "\n",
        "# Create a DataFrame aligning labels and companies: df\n",
        "df = pd.DataFrame({'labels': labels, 'companies': companies})\n",
        "\n",
        "# Display df sorted by cluster label\n",
        "print(df.sort_values('labels'))\n"
      ],
      "execution_count": 0,
      "outputs": []
    }
  ]
}