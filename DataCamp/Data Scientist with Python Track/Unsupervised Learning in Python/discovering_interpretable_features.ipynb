{
  "nbformat": 4,
  "nbformat_minor": 0,
  "metadata": {
    "colab": {
      "name": "discovering_interpretable_features.ipynb",
      "provenance": [],
      "collapsed_sections": []
    },
    "kernelspec": {
      "name": "python3",
      "display_name": "Python 3"
    }
  },
  "cells": [
    {
      "cell_type": "markdown",
      "metadata": {
        "id": "1GgzSL_TZu9m",
        "colab_type": "text"
      },
      "source": [
        "# Discovering interpretable features"
      ]
    },
    {
      "cell_type": "markdown",
      "metadata": {
        "id": "YuJpp2BbcAKk",
        "colab_type": "text"
      },
      "source": [
        "## Non-negative data"
      ]
    },
    {
      "cell_type": "markdown",
      "metadata": {
        "id": "2_Oh_0VBcJJq",
        "colab_type": "text"
      },
      "source": [
        "C. 1 and 3"
      ]
    },
    {
      "cell_type": "markdown",
      "metadata": {
        "id": "oWcVDgm6cVdx",
        "colab_type": "text"
      },
      "source": [
        "## NMF applied to Wikipedia articles"
      ]
    },
    {
      "cell_type": "code",
      "metadata": {
        "id": "qJPt-pZ_xb7A",
        "colab_type": "code",
        "colab": {}
      },
      "source": [
        "# Import NMF\n",
        "from sklearn.decomposition import NMF\n",
        "\n",
        "# Create an NMF instance: model\n",
        "model = NMF(n_components=6)\n",
        "\n",
        "# Fit the model to articles\n",
        "model.fit(articles)\n",
        "\n",
        "# Transform the articles: nmf_features\n",
        "nmf_features = model.transform(articles)\n",
        "\n",
        "# Print the NMF features\n",
        "print(nmf_features)\n"
      ],
      "execution_count": 0,
      "outputs": []
    },
    {
      "cell_type": "markdown",
      "metadata": {
        "id": "YNj_nPPCx7DP",
        "colab_type": "text"
      },
      "source": [
        "## NMF features of the Wikipedia articles"
      ]
    },
    {
      "cell_type": "code",
      "metadata": {
        "id": "Uuf5eoInx7mZ",
        "colab_type": "code",
        "colab": {}
      },
      "source": [
        "# Import pandas\n",
        "import pandas as pd\n",
        "\n",
        "# Create a pandas DataFrame: df\n",
        "df = pd.DataFrame(nmf_features, index=titles)\n",
        "\n",
        "# Print the row for 'Anne Hathaway'\n",
        "print(df.loc['Anne Hathaway'])\n",
        "\n",
        "# Print the row for 'Denzel Washington'\n",
        "print(df.loc['Denzel Washington'])\n"
      ],
      "execution_count": 0,
      "outputs": []
    },
    {
      "cell_type": "markdown",
      "metadata": {
        "id": "ldlQ4dL9y6Ad",
        "colab_type": "text"
      },
      "source": [
        "## NMF reconstructs samples"
      ]
    },
    {
      "cell_type": "markdown",
      "metadata": {
        "id": "QYzdj7Gty6Z9",
        "colab_type": "text"
      },
      "source": [
        "A. [2.2, 1.1, 2.1]"
      ]
    },
    {
      "cell_type": "markdown",
      "metadata": {
        "id": "XXcP3PSp0mmo",
        "colab_type": "text"
      },
      "source": [
        "## NMF learns topics of documents"
      ]
    },
    {
      "cell_type": "code",
      "metadata": {
        "id": "WK6bNEkq1mYg",
        "colab_type": "code",
        "colab": {}
      },
      "source": [
        "# Import pandas\n",
        "import pandas as pd\n",
        "\n",
        "# Create a DataFrame: components_df\n",
        "components_df = pd.DataFrame(model.components_, columns=words)\n",
        "\n",
        "# Print the shape of the DataFrame\n",
        "print(components_df.shape)\n",
        "\n",
        "# Select row 3: component\n",
        "component = components_df.iloc[3]\n",
        "\n",
        "# Print result of nlargest\n",
        "print(component.nlargest())\n"
      ],
      "execution_count": 0,
      "outputs": []
    },
    {
      "cell_type": "markdown",
      "metadata": {
        "id": "BDykHcNR2Krt",
        "colab_type": "text"
      },
      "source": [
        "## Explore the LED digits dataset"
      ]
    },
    {
      "cell_type": "code",
      "metadata": {
        "id": "GJt_IGoG2LAp",
        "colab_type": "code",
        "colab": {}
      },
      "source": [
        "# Import pyplot\n",
        "from matplotlib import pyplot as plt\n",
        "\n",
        "# Select the 0th row: digit\n",
        "digit = samples[0]\n",
        "\n",
        "# Print digit\n",
        "print(digit)\n",
        "\n",
        "# Reshape digit to a 13x8 array: bitmap\n",
        "bitmap = digit.reshape(13, 8)\n",
        "\n",
        "# Print bitmap\n",
        "print(bitmap)\n",
        "\n",
        "# Use plt.imshow to display bitmap\n",
        "plt.imshow(bitmap, cmap='gray', interpolation='nearest')\n",
        "plt.colorbar()\n",
        "plt.show()\n"
      ],
      "execution_count": 0,
      "outputs": []
    },
    {
      "cell_type": "markdown",
      "metadata": {
        "id": "hzbkLZQe2i5l",
        "colab_type": "text"
      },
      "source": [
        "## NMF learns the parts of images"
      ]
    },
    {
      "cell_type": "code",
      "metadata": {
        "id": "f4rJSSlZ2jPI",
        "colab_type": "code",
        "colab": {}
      },
      "source": [
        "# Import NMF\n",
        "from sklearn.decomposition import NMF\n",
        "\n",
        "# Create an NMF model: model\n",
        "model = NMF(n_components=7)\n",
        "\n",
        "# Apply fit_transform to samples: features\n",
        "features = model.fit_transform(samples)\n",
        "\n",
        "# Call show_as_image on each component\n",
        "for component in model.components_:\n",
        "    show_as_image(component)\n",
        "\n",
        "# Assign the 0th row of features: digit_features\n",
        "digit_features = features[0]\n",
        "\n",
        "# Print digit_features\n",
        "print(digit_features)"
      ],
      "execution_count": 0,
      "outputs": []
    },
    {
      "cell_type": "markdown",
      "metadata": {
        "id": "JPEgaQ7N3KoK",
        "colab_type": "text"
      },
      "source": [
        "## PCA doesn't learn parts"
      ]
    },
    {
      "cell_type": "code",
      "metadata": {
        "id": "711-kCP_3LEi",
        "colab_type": "code",
        "colab": {}
      },
      "source": [
        "# Import PCA\n",
        "from sklearn.decomposition import PCA\n",
        "\n",
        "# Create a PCA instance: model\n",
        "model = PCA(n_components=7)\n",
        "\n",
        "# Apply fit_transform to samples: features\n",
        "features = model.fit_transform(samples)\n",
        "\n",
        "# Call show_as_image on each component\n",
        "for component in model.components_:\n",
        "    show_as_image(component)\n",
        "    "
      ],
      "execution_count": 0,
      "outputs": []
    },
    {
      "cell_type": "markdown",
      "metadata": {
        "id": "xtwF-Ab04Wa-",
        "colab_type": "text"
      },
      "source": [
        "## Which articles are similar to 'Cristiano Ronaldo'?"
      ]
    },
    {
      "cell_type": "code",
      "metadata": {
        "id": "8G48OtEp4Wwt",
        "colab_type": "code",
        "colab": {}
      },
      "source": [
        "# Perform the necessary imports\n",
        "import pandas as pd\n",
        "from sklearn.preprocessing import normalize\n",
        "\n",
        "# Normalize the NMF features: norm_features\n",
        "norm_features = normalize(nmf_features)\n",
        "\n",
        "# Create a DataFrame: df\n",
        "df = pd.DataFrame(norm_features, index=titles)\n",
        "\n",
        "# Select the row corresponding to 'Cristiano Ronaldo': article\n",
        "article = df.loc['Cristiano Ronaldo']\n",
        "\n",
        "# Compute the dot products: similarities\n",
        "similarities = df.dot(article)\n",
        "\n",
        "# Display those with the largest cosine similarity\n",
        "print(similarities.nlargest())"
      ],
      "execution_count": 0,
      "outputs": []
    },
    {
      "cell_type": "markdown",
      "metadata": {
        "id": "10xVdgag5GCs",
        "colab_type": "text"
      },
      "source": [
        "## Recommend musical artists part I"
      ]
    },
    {
      "cell_type": "code",
      "metadata": {
        "id": "F_tHtyIX5GkC",
        "colab_type": "code",
        "colab": {}
      },
      "source": [
        "# Perform the necessary imports\n",
        "from sklearn.decomposition import NMF\n",
        "from sklearn.preprocessing import Normalizer, MaxAbsScaler\n",
        "from sklearn.pipeline import make_pipeline\n",
        "\n",
        "# Create a MaxAbsScaler: scaler\n",
        "scaler = MaxAbsScaler()\n",
        "\n",
        "# Create an NMF model: nmf\n",
        "nmf = NMF(n_components=20)\n",
        "\n",
        "# Create a Normalizer: normalizer\n",
        "normalizer = Normalizer()\n",
        "\n",
        "# Create a pipeline: pipeline\n",
        "pipeline = make_pipeline(scaler, nmf, normalizer)\n",
        "\n",
        "# Apply fit_transform to artists: norm_features\n",
        "norm_features = pipeline.fit_transform(artists)\n"
      ],
      "execution_count": 0,
      "outputs": []
    },
    {
      "cell_type": "markdown",
      "metadata": {
        "id": "_PThb3C95O7U",
        "colab_type": "text"
      },
      "source": [
        "## Recommend musical artists part II"
      ]
    },
    {
      "cell_type": "code",
      "metadata": {
        "id": "owFkyn6x5PSy",
        "colab_type": "code",
        "colab": {}
      },
      "source": [
        "# Import pandas\n",
        "import pandas as pd\n",
        "\n",
        "# Create a DataFrame: df\n",
        "df = pd.DataFrame(norm_features, index=artist_names)\n",
        "\n",
        "# Select row of 'Bruce Springsteen': artist\n",
        "artist = df.loc['Bruce Springsteen']\n",
        "\n",
        "# Compute cosine similarities: similarities\n",
        "similarities = df.dot(artist)\n",
        "\n",
        "# Display those with highest cosine similarity\n",
        "print(similarities.nlargest())\n"
      ],
      "execution_count": 0,
      "outputs": []
    }
  ]
}