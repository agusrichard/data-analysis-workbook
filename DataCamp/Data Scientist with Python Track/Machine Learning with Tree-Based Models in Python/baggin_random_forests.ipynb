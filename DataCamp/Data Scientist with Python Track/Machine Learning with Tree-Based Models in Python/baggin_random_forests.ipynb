{
  "nbformat": 4,
  "nbformat_minor": 0,
  "metadata": {
    "colab": {
      "name": "baggin_random_forests.ipynb",
      "provenance": [],
      "collapsed_sections": []
    },
    "kernelspec": {
      "name": "python3",
      "display_name": "Python 3"
    }
  },
  "cells": [
    {
      "cell_type": "markdown",
      "metadata": {
        "id": "RqA1FDW0PDnn",
        "colab_type": "text"
      },
      "source": [
        "# Bagging and Random Forests"
      ]
    },
    {
      "cell_type": "markdown",
      "metadata": {
        "id": "PqyY-DPtIxjI",
        "colab_type": "text"
      },
      "source": [
        "## Define the bagging classifier"
      ]
    },
    {
      "cell_type": "code",
      "metadata": {
        "id": "2CQl2kLKPBMS",
        "colab_type": "code",
        "colab": {}
      },
      "source": [
        "# Import DecisionTreeClassifier\n",
        "from sklearn.tree import DecisionTreeClassifier\n",
        "\n",
        "# Import BaggingClassifier\n",
        "from sklearn.ensemble import BaggingClassifier\n",
        "\n",
        "# Instantiate dt\n",
        "dt = DecisionTreeClassifier(random_state=1)\n",
        "\n",
        "# Instantiate bc\n",
        "bc = BaggingClassifier(base_estimator=dt, n_estimators=50, random_state=1)"
      ],
      "execution_count": 0,
      "outputs": []
    },
    {
      "cell_type": "markdown",
      "metadata": {
        "id": "9YpML1nnPdbq",
        "colab_type": "text"
      },
      "source": [
        "## Evaluate Bagging performance"
      ]
    },
    {
      "cell_type": "code",
      "metadata": {
        "id": "j1ufQawkPeI-",
        "colab_type": "code",
        "colab": {}
      },
      "source": [
        "# Fit bc to the training set\n",
        "bc.fit(X_train, y_train)\n",
        "\n",
        "# Predict test set labels\n",
        "y_pred = bc.predict(X_test)\n",
        "\n",
        "# Evaluate acc_test\n",
        "acc_test = accuracy_score(y_test, y_pred)\n",
        "print('Test set accuracy of bc: {:.2f}'.format(acc_test)) "
      ],
      "execution_count": 0,
      "outputs": []
    },
    {
      "cell_type": "markdown",
      "metadata": {
        "id": "pubu6YuIQeQ0",
        "colab_type": "text"
      },
      "source": [
        "## Prepare the ground"
      ]
    },
    {
      "cell_type": "code",
      "metadata": {
        "id": "x5jpDNEQQesX",
        "colab_type": "code",
        "colab": {}
      },
      "source": [
        "# Import DecisionTreeClassifier\n",
        "from sklearn.tree import DecisionTreeClassifier\n",
        "\n",
        "# Import BaggingClassifier\n",
        "from sklearn.ensemble import BaggingClassifier\n",
        "\n",
        "# Instantiate dt\n",
        "dt = DecisionTreeClassifier(min_samples_leaf=8, random_state=1)\n",
        "\n",
        "# Instantiate bc\n",
        "bc = BaggingClassifier(base_estimator=dt, \n",
        "            n_estimators=50,\n",
        "            oob_score=True,\n",
        "            random_state=1)"
      ],
      "execution_count": 0,
      "outputs": []
    },
    {
      "cell_type": "markdown",
      "metadata": {
        "id": "fQWxqwIPQxyH",
        "colab_type": "text"
      },
      "source": [
        "## OOB Score vs Test Set Score"
      ]
    },
    {
      "cell_type": "code",
      "metadata": {
        "id": "clS_aN9_Qyfv",
        "colab_type": "code",
        "colab": {}
      },
      "source": [
        "# Fit bc to the training set \n",
        "bc.fit(X_train, y_train)\n",
        "\n",
        "# Predict test set labels\n",
        "y_pred = bc.predict(X_test)\n",
        "\n",
        "# Evaluate test set accuracy\n",
        "acc_test = accuracy_score(y_test, y_pred)\n",
        "\n",
        "# Evaluate OOB accuracy\n",
        "acc_oob = bc.oob_score_\n",
        "\n",
        "# Print acc_test and acc_oob\n",
        "print('Test set accuracy: {:.3f}, OOB accuracy: {:.3f}'.format(acc_test, acc_oob))"
      ],
      "execution_count": 0,
      "outputs": []
    },
    {
      "cell_type": "markdown",
      "metadata": {
        "id": "LWCTRkygSqT5",
        "colab_type": "text"
      },
      "source": [
        "## Train an RF regressor"
      ]
    },
    {
      "cell_type": "code",
      "metadata": {
        "id": "NHVmEWo5Sqwi",
        "colab_type": "code",
        "colab": {}
      },
      "source": [
        "# Import RandomForestRegressor\n",
        "from sklearn.ensemble import RandomForestRegressor\n",
        "\n",
        "# Instantiate rf\n",
        "rf = RandomForestRegressor(n_estimators=25,\n",
        "            random_state=2)\n",
        "            \n",
        "# Fit rf to the training set    \n",
        "rf.fit(X_train, y_train)"
      ],
      "execution_count": 0,
      "outputs": []
    },
    {
      "cell_type": "markdown",
      "metadata": {
        "id": "Jv6s07orS587",
        "colab_type": "text"
      },
      "source": [
        "## Evaluate the RF regressor"
      ]
    },
    {
      "cell_type": "code",
      "metadata": {
        "id": "5cMb4PIYS6Uq",
        "colab_type": "code",
        "colab": {}
      },
      "source": [
        "# Import mean_squared_error as MSE\n",
        "from sklearn.metrics import mean_squared_error as MSE\n",
        "\n",
        "# Predict the test set labels\n",
        "y_pred = rf.predict(X_test)\n",
        "\n",
        "# Evaluate the test set RMSE\n",
        "rmse_test = MSE(y_test, y_pred) ** (1/2)\n",
        "\n",
        "# Print rmse_test\n",
        "#print('Test set RMSE of rf: {:.2f}'.format(rmse_test))"
      ],
      "execution_count": 0,
      "outputs": []
    },
    {
      "cell_type": "markdown",
      "metadata": {
        "id": "9_Fb6DS0TQIS",
        "colab_type": "text"
      },
      "source": [
        "## Visualizing features importances"
      ]
    },
    {
      "cell_type": "code",
      "metadata": {
        "id": "g7-qxHWOTRQw",
        "colab_type": "code",
        "colab": {}
      },
      "source": [
        "# Create a pd.Series of features importances\n",
        "importances = pd.Series(data=rf.feature_importances_,\n",
        "                        index= X_train.columns)\n",
        "\n",
        "# Sort importances\n",
        "importances_sorted = importances.sort_values()\n",
        "\n",
        "# Draw a horizontal barplot of importances_sorted\n",
        "importances_sorted.plot(kind='barh', color='lightgreen')\n",
        "plt.title('Features Importances')\n",
        "plt.show()"
      ],
      "execution_count": 0,
      "outputs": []
    }
  ]
}