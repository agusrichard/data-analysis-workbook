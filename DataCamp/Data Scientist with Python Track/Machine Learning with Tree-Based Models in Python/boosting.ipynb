{
  "nbformat": 4,
  "nbformat_minor": 0,
  "metadata": {
    "colab": {
      "name": "boosting.ipynb",
      "provenance": [],
      "collapsed_sections": []
    },
    "kernelspec": {
      "name": "python3",
      "display_name": "Python 3"
    }
  },
  "cells": [
    {
      "cell_type": "markdown",
      "metadata": {
        "id": "mUTgNOSjVqzX",
        "colab_type": "text"
      },
      "source": [
        "# Boosting"
      ]
    },
    {
      "cell_type": "markdown",
      "metadata": {
        "id": "hlxrnJfjVqmA",
        "colab_type": "text"
      },
      "source": [
        "## Define the AdaBoost classifier"
      ]
    },
    {
      "cell_type": "code",
      "metadata": {
        "id": "UHKKPGcLVTg3",
        "colab_type": "code",
        "colab": {}
      },
      "source": [
        "# Import DecisionTreeClassifier\n",
        "from sklearn.tree import DecisionTreeClassifier\n",
        "\n",
        "# Import AdaBoostClassifier\n",
        "from sklearn.ensemble import AdaBoostClassifier\n",
        "\n",
        "# Instantiate dt\n",
        "dt = DecisionTreeClassifier(max_depth=2, random_state=1)\n",
        "\n",
        "# Instantiate ada\n",
        "ada = AdaBoostClassifier(base_estimator=dt, n_estimators=180, random_state=1)"
      ],
      "execution_count": 0,
      "outputs": []
    },
    {
      "cell_type": "markdown",
      "metadata": {
        "id": "5k_c4Lw3VpvC",
        "colab_type": "text"
      },
      "source": [
        "## Train the AdaBoost classifier"
      ]
    },
    {
      "cell_type": "code",
      "metadata": {
        "id": "Zh3ihVdeVqJt",
        "colab_type": "code",
        "colab": {}
      },
      "source": [
        "# Fit ada to the training set\n",
        "ada.fit(X_train, y_train)\n",
        "\n",
        "# Compute the probabilities of obtaining the positive class\n",
        "y_pred_proba = ada.predict_proba(X_test)[:, 1]"
      ],
      "execution_count": 0,
      "outputs": []
    },
    {
      "cell_type": "markdown",
      "metadata": {
        "id": "t8eL8yayWLvI",
        "colab_type": "text"
      },
      "source": [
        "## Evaluate the AdaBoost classifier"
      ]
    },
    {
      "cell_type": "code",
      "metadata": {
        "id": "4Rh4K3KJWMIR",
        "colab_type": "code",
        "colab": {}
      },
      "source": [
        "# Import roc_auc_score\n",
        "from sklearn.metrics import roc_auc_score\n",
        "\n",
        "# Evaluate test-set roc_auc_score\n",
        "ada_roc_auc = roc_auc_score(y_test, y_pred_proba)\n",
        "\n",
        "# Print roc_auc_score\n",
        "print('ROC AUC score: {:.2f}'.format(ada_roc_auc))"
      ],
      "execution_count": 0,
      "outputs": []
    },
    {
      "cell_type": "markdown",
      "metadata": {
        "id": "18SDqcRyXN3y",
        "colab_type": "text"
      },
      "source": [
        "## Define the GB regressor"
      ]
    },
    {
      "cell_type": "code",
      "metadata": {
        "id": "HDY7TjRiXOSR",
        "colab_type": "code",
        "colab": {}
      },
      "source": [
        "# Import GradientBoostingRegressor\n",
        "from sklearn.ensemble import GradientBoostingRegressor\n",
        "\n",
        "# Instantiate gb\n",
        "gb = GradientBoostingRegressor(max_depth=4, \n",
        "            n_estimators=200,\n",
        "            random_state=2)"
      ],
      "execution_count": 0,
      "outputs": []
    },
    {
      "cell_type": "markdown",
      "metadata": {
        "id": "EnMUUvslXdGU",
        "colab_type": "text"
      },
      "source": [
        "## Train the GB regressor"
      ]
    },
    {
      "cell_type": "code",
      "metadata": {
        "id": "YUsG1g1GXdkw",
        "colab_type": "code",
        "colab": {}
      },
      "source": [
        "# Fit gb to the training set\n",
        "gb.fit(X_train, y_train)\n",
        "\n",
        "# Predict test set labels\n",
        "y_pred = gb.predict(X_test)"
      ],
      "execution_count": 0,
      "outputs": []
    },
    {
      "cell_type": "markdown",
      "metadata": {
        "id": "lngAhOspXlD7",
        "colab_type": "text"
      },
      "source": [
        "## Evaluate the GB regressor"
      ]
    },
    {
      "cell_type": "code",
      "metadata": {
        "id": "wcCZOr8GXldy",
        "colab_type": "code",
        "colab": {}
      },
      "source": [
        "# Import mean_squared_error as MSE\n",
        "from sklearn.metrics import mean_squared_error as MSE\n",
        "\n",
        "# Compute MSE\n",
        "mse_test = MSE(y_test, y_pred)\n",
        "\n",
        "# Compute RMSE\n",
        "rmse_test = mse_test ** (1/2)\n",
        "\n",
        "# Print RMSE\n",
        "print('Test set RMSE of gb: {:.3f}'.format(rmse_test))"
      ],
      "execution_count": 0,
      "outputs": []
    },
    {
      "cell_type": "markdown",
      "metadata": {
        "id": "iSiyAhkCYixu",
        "colab_type": "text"
      },
      "source": [
        "## Regression with SGB"
      ]
    },
    {
      "cell_type": "code",
      "metadata": {
        "id": "2N1Zbm2bYjM0",
        "colab_type": "code",
        "colab": {}
      },
      "source": [
        "# Import GradientBoostingRegressor\n",
        "from sklearn.ensemble import GradientBoostingRegressor\n",
        "\n",
        "# Instantiate sgbr\n",
        "sgbr = GradientBoostingRegressor(max_depth=4, \n",
        "            subsample=0.9,\n",
        "            max_features=0.75,\n",
        "            n_estimators=200,                                \n",
        "            random_state=2)"
      ],
      "execution_count": 0,
      "outputs": []
    },
    {
      "cell_type": "markdown",
      "metadata": {
        "id": "DuYqPIDzYqXa",
        "colab_type": "text"
      },
      "source": [
        "## Train the SGB regressor"
      ]
    },
    {
      "cell_type": "code",
      "metadata": {
        "id": "5AJA_CXmYqyS",
        "colab_type": "code",
        "colab": {}
      },
      "source": [
        "# Fit sgbr to the training set\n",
        "sgbr.fit(X_train, y_train)\n",
        "\n",
        "# Predict test set labels\n",
        "y_pred = sgbr.predict(X_test)"
      ],
      "execution_count": 0,
      "outputs": []
    },
    {
      "cell_type": "markdown",
      "metadata": {
        "id": "Rw9H6TvcY05A",
        "colab_type": "text"
      },
      "source": [
        "## Evaluate the SGB regressor"
      ]
    },
    {
      "cell_type": "code",
      "metadata": {
        "id": "lqQiiqECY1T8",
        "colab_type": "code",
        "colab": {}
      },
      "source": [
        "# Import mean_squared_error as MSE\n",
        "from sklearn.metrics import mean_squared_error as MSE\n",
        "\n",
        "# Compute test set MSE\n",
        "mse_test = MSE(y_test, y_pred)\n",
        "\n",
        "# Compute test set RMSE\n",
        "rmse_test = mse_test ** (1/2)\n",
        "\n",
        "# Print rmse_test\n",
        "print('Test set RMSE of sgbr: {:.3f}'.format(rmse_test))"
      ],
      "execution_count": 0,
      "outputs": []
    }
  ]
}