{
  "nbformat": 4,
  "nbformat_minor": 0,
  "metadata": {
    "colab": {
      "name": "model_tuning.ipynb",
      "provenance": [],
      "collapsed_sections": []
    },
    "kernelspec": {
      "name": "python3",
      "display_name": "Python 3"
    }
  },
  "cells": [
    {
      "cell_type": "markdown",
      "metadata": {
        "id": "2AKibnqOZOP2",
        "colab_type": "text"
      },
      "source": [
        "# Model Tuning"
      ]
    },
    {
      "cell_type": "markdown",
      "metadata": {
        "id": "TF-HPbHMaSbG",
        "colab_type": "text"
      },
      "source": [
        "## Tree hyperparameters"
      ]
    },
    {
      "cell_type": "markdown",
      "metadata": {
        "id": "CtrAl7lcaWyd",
        "colab_type": "text"
      },
      "source": [
        "C. min_features"
      ]
    },
    {
      "cell_type": "markdown",
      "metadata": {
        "id": "yF6mr_IOajlC",
        "colab_type": "text"
      },
      "source": [
        "## Set the tree's hyperparameter grid"
      ]
    },
    {
      "cell_type": "code",
      "metadata": {
        "id": "I8wBtWZmalp8",
        "colab_type": "code",
        "colab": {}
      },
      "source": [
        "# Define params_dt\n",
        "params_dt = {\n",
        "    'max_depth': [2, 3, 4],\n",
        "    'min_samples_leaf': [0.12, 0.14, 0.16, 0.18]\n",
        "}"
      ],
      "execution_count": 0,
      "outputs": []
    },
    {
      "cell_type": "markdown",
      "metadata": {
        "id": "b61qvWvQa0zW",
        "colab_type": "text"
      },
      "source": [
        "##Search for the optimal tree"
      ]
    },
    {
      "cell_type": "code",
      "metadata": {
        "id": "0olQRLLWa1-6",
        "colab_type": "code",
        "colab": {}
      },
      "source": [
        "# Import GridSearchCV\n",
        "from sklearn.model_selection import GridSearchCV\n",
        "\n",
        "# Instantiate grid_dt\n",
        "grid_dt = GridSearchCV(estimator=dt,\n",
        "                       param_grid=params_dt,\n",
        "                       scoring='roc_auc',\n",
        "                       cv=5,\n",
        "                       n_jobs=-1)"
      ],
      "execution_count": 0,
      "outputs": []
    },
    {
      "cell_type": "markdown",
      "metadata": {
        "id": "_5mD5eSwbHhN",
        "colab_type": "text"
      },
      "source": [
        "## Evaluate the optimal tree"
      ]
    },
    {
      "cell_type": "code",
      "metadata": {
        "id": "XO6OoEZzbH5r",
        "colab_type": "code",
        "colab": {}
      },
      "source": [
        "# Import roc_auc_score from sklearn.metrics\n",
        "from sklearn.metrics import roc_auc_score\n",
        "\n",
        "# Extract the best estimator\n",
        "best_model = grid_dt.best_estimator_\n",
        "\n",
        "# Predict the test set probabilities of the positive class\n",
        "y_pred_proba = best_model.predict_proba(X_test)[:, 1]\n",
        "\n",
        "# Compute test_roc_auc\n",
        "test_roc_auc = roc_auc_score(y_test, y_pred_proba)\n",
        "\n",
        "# Print test_roc_auc\n",
        "print('Test set ROC AUC score: {:.3f}'.format(test_roc_auc))"
      ],
      "execution_count": 0,
      "outputs": []
    },
    {
      "cell_type": "markdown",
      "metadata": {
        "id": "qouEkuTDcH-z",
        "colab_type": "text"
      },
      "source": [
        "## Random forests hyperparameters"
      ]
    },
    {
      "cell_type": "markdown",
      "metadata": {
        "id": "lKFWVtpocIXZ",
        "colab_type": "text"
      },
      "source": [
        "C. learning_rate"
      ]
    },
    {
      "cell_type": "markdown",
      "metadata": {
        "id": "59VkC6qZcQip",
        "colab_type": "text"
      },
      "source": [
        "## Set the hyperparameter grid of RF"
      ]
    },
    {
      "cell_type": "code",
      "metadata": {
        "id": "a6AuvxmdcSt_",
        "colab_type": "code",
        "colab": {}
      },
      "source": [
        "# Define the dictionary 'params_rf'\n",
        "params_rf = {\n",
        "    'n_estimators': [100, 350, 500],\n",
        "    'max_features': ['log2', 'auto', 'sqrt'],\n",
        "    'min_samples_leaf': [2, 10, 30]\n",
        "}"
      ],
      "execution_count": 0,
      "outputs": []
    },
    {
      "cell_type": "markdown",
      "metadata": {
        "id": "i9wdFzVvcpJy",
        "colab_type": "text"
      },
      "source": [
        "## Search for the optimal forest"
      ]
    },
    {
      "cell_type": "code",
      "metadata": {
        "id": "c00GNpDYcphP",
        "colab_type": "code",
        "colab": {}
      },
      "source": [
        "# Import GridSearchCV\n",
        "from sklearn.model_selection import GridSearchCV\n",
        "\n",
        "# Instantiate grid_rf\n",
        "grid_rf = GridSearchCV(estimator=rf,\n",
        "                       param_grid=params_rf,\n",
        "                       scoring='neg_mean_squared_error',\n",
        "                       cv=3,\n",
        "                       verbose=1,\n",
        "                       n_jobs=-1)"
      ],
      "execution_count": 0,
      "outputs": []
    },
    {
      "cell_type": "markdown",
      "metadata": {
        "id": "XG6wVSZac35K",
        "colab_type": "text"
      },
      "source": [
        "## Evaluate the optimal forest"
      ]
    },
    {
      "cell_type": "code",
      "metadata": {
        "id": "JIXCiuM6c4Ri",
        "colab_type": "code",
        "colab": {}
      },
      "source": [
        "# Import mean_squared_error from sklearn.metrics as MSE \n",
        "from sklearn.metrics import mean_squared_error as MSE\n",
        "\n",
        "# Extract the best estimator\n",
        "best_model = grid_rf.best_estimator_\n",
        "\n",
        "# Predict test set labels\n",
        "y_pred = best_model.predict(X_test)\n",
        "\n",
        "# Compute rmse_test\n",
        "rmse_test = MSE(y_test, y_pred) ** (1/2)\n",
        "\n",
        "# Print rmse_test\n",
        "print('Test RMSE of best model: {:.3f}'.format(rmse_test)) "
      ],
      "execution_count": 0,
      "outputs": []
    }
  ]
}