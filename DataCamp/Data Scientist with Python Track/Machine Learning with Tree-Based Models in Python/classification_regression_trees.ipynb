{
  "nbformat": 4,
  "nbformat_minor": 0,
  "metadata": {
    "colab": {
      "name": "classification_regression_trees.ipynb",
      "provenance": []
    },
    "kernelspec": {
      "name": "python3",
      "display_name": "Python 3"
    }
  },
  "cells": [
    {
      "cell_type": "markdown",
      "metadata": {
        "id": "NwUUHsCVZu7g",
        "colab_type": "text"
      },
      "source": [
        "# Classification and Regression Trees\n"
      ]
    },
    {
      "cell_type": "markdown",
      "metadata": {
        "id": "_2ujTsfoZzfp",
        "colab_type": "text"
      },
      "source": [
        "## Train your first classification tree"
      ]
    },
    {
      "cell_type": "code",
      "metadata": {
        "id": "w9EdU-CNbAGe",
        "colab_type": "code",
        "colab": {}
      },
      "source": [
        "# Import DecisionTreeClassifier from sklearn.tree\n",
        "from sklearn.tree import DecisionTreeClassifier\n",
        "\n",
        "# Instantiate a DecisionTreeClassifier 'dt' with a maximum depth of 6\n",
        "dt = DecisionTreeClassifier(max_depth=6, random_state=SEED)\n",
        "\n",
        "# Fit dt to the training set\n",
        "dt.fit(X_train, y_train)\n",
        "\n",
        "# Predict test set labels\n",
        "y_pred = dt.predict(X_test)\n",
        "print(y_pred[0:5])"
      ],
      "execution_count": 0,
      "outputs": []
    },
    {
      "cell_type": "markdown",
      "metadata": {
        "id": "Mg3Ak654b1Mc",
        "colab_type": "text"
      },
      "source": [
        "## Evaluate the classification tree"
      ]
    },
    {
      "cell_type": "code",
      "metadata": {
        "id": "lJYDSCF1b1nr",
        "colab_type": "code",
        "colab": {}
      },
      "source": [
        "# Import accuracy_score\n",
        "from sklearn.metrics import accuracy_score\n",
        "\n",
        "# Predict test set labels\n",
        "y_pred = dt.predict(X_test)\n",
        "\n",
        "# Compute test set accuracy  \n",
        "acc = accuracy_score(y_test, y_pred)\n",
        "print(\"Test set accuracy: {:.2f}\".format(acc))"
      ],
      "execution_count": 0,
      "outputs": []
    },
    {
      "cell_type": "markdown",
      "metadata": {
        "id": "v-W7ipmgcPCO",
        "colab_type": "text"
      },
      "source": [
        "## Logistic regression vs classification tree"
      ]
    },
    {
      "cell_type": "code",
      "metadata": {
        "id": "mCBzq_BJcPbQ",
        "colab_type": "code",
        "colab": {}
      },
      "source": [
        "# Import LogisticRegression from sklearn.linear_model\n",
        "from sklearn.linear_model import  LogisticRegression\n",
        "\n",
        "# Instatiate logreg\n",
        "logreg = LogisticRegression(random_state=1)\n",
        "\n",
        "# Fit logreg to the training set\n",
        "logreg.fit(X_train, y_train)\n",
        "\n",
        "# Define a list called clfs containing the two classifiers logreg and dt\n",
        "clfs = [logreg, dt]\n",
        "\n",
        "# Review the decision regions of the two classifiers\n",
        "plot_labeled_decision_regions(X_test, y_test, clfs)"
      ],
      "execution_count": 0,
      "outputs": []
    },
    {
      "cell_type": "markdown",
      "metadata": {
        "id": "qgzENxMxd5nK",
        "colab_type": "text"
      },
      "source": [
        "## Growing a classification tree"
      ]
    },
    {
      "cell_type": "markdown",
      "metadata": {
        "id": "VuxsgSaBd6BX",
        "colab_type": "text"
      },
      "source": [
        "D. When an internal node is split, the split is performed in such a way so that information gain is minimized."
      ]
    },
    {
      "cell_type": "markdown",
      "metadata": {
        "id": "8vvZgBWQeMJE",
        "colab_type": "text"
      },
      "source": [
        "## Using entropy as a criterion"
      ]
    },
    {
      "cell_type": "code",
      "metadata": {
        "id": "gzAbsMbOeOiJ",
        "colab_type": "code",
        "colab": {}
      },
      "source": [
        "# Import DecisionTreeClassifier from sklearn.tree\n",
        "from sklearn.tree import DecisionTreeClassifier\n",
        "\n",
        "# Instantiate dt_entropy, set 'entropy' as the information criterion\n",
        "dt_entropy = DecisionTreeClassifier(criterion='entropy', max_depth=8, random_state=1)\n",
        "\n",
        "# Fit dt_entropy to the training set\n",
        "dt_entropy.fit(X_train, y_train)"
      ],
      "execution_count": 0,
      "outputs": []
    },
    {
      "cell_type": "markdown",
      "metadata": {
        "id": "yGZuNH8weqHL",
        "colab_type": "text"
      },
      "source": [
        "## Entropy vs Gini index"
      ]
    },
    {
      "cell_type": "code",
      "metadata": {
        "id": "haY0FLnCeqep",
        "colab_type": "code",
        "colab": {}
      },
      "source": [
        "# Import accuracy_score from sklearn.metrics\n",
        "from sklearn.metrics import accuracy_score\n",
        "\n",
        "# Use dt_entropy to predict test set labels\n",
        "y_pred = dt_entropy.predict(X_test)\n",
        "\n",
        "# Evaluate accuracy_entropy\n",
        "accuracy_entropy = accuracy_score(y_test, y_pred)\n",
        "\n",
        "# Print accuracy_entropy\n",
        "print('Accuracy achieved by using entropy: ', accuracy_entropy)\n",
        "\n",
        "# Print accuracy_gini\n",
        "print('Accuracy achieved by using the gini index: ', accuracy_gini)"
      ],
      "execution_count": 0,
      "outputs": []
    },
    {
      "cell_type": "markdown",
      "metadata": {
        "id": "1P2KvG66f8ak",
        "colab_type": "text"
      },
      "source": [
        "## Train your first regression tree"
      ]
    },
    {
      "cell_type": "code",
      "metadata": {
        "id": "nuL_nBWhf8yP",
        "colab_type": "code",
        "colab": {}
      },
      "source": [
        "# Import DecisionTreeRegressor from sklearn.tree\n",
        "from sklearn.tree import DecisionTreeRegressor\n",
        "\n",
        "# Instantiate dt\n",
        "dt = DecisionTreeRegressor(max_depth=8,\n",
        "             min_samples_leaf=0.13,\n",
        "            random_state=3)\n",
        "\n",
        "# Fit dt to the training set\n",
        "dt.fit(X_train, y_train)"
      ],
      "execution_count": 0,
      "outputs": []
    },
    {
      "cell_type": "markdown",
      "metadata": {
        "id": "MWUPsQtsgQnA",
        "colab_type": "text"
      },
      "source": [
        "## Evaluate the regression tree"
      ]
    },
    {
      "cell_type": "code",
      "metadata": {
        "id": "sYMtt8VEgQ-S",
        "colab_type": "code",
        "colab": {}
      },
      "source": [
        "# Import mean_squared_error from sklearn.metrics as MSE\n",
        "from sklearn.metrics import mean_squared_error as MSE\n",
        "\n",
        "# Compute y_pred\n",
        "y_pred = dt.predict(X_test)\n",
        "\n",
        "# Compute mse_dt\n",
        "mse_dt = MSE(y_test, y_pred)\n",
        "\n",
        "# Compute rmse_dt\n",
        "rmse_dt = mse_dt**(1/2)\n",
        "\n",
        "# Print rmse_dt\n",
        "print(\"Test set RMSE of dt: {:.2f}\".format(rmse_dt))"
      ],
      "execution_count": 0,
      "outputs": []
    },
    {
      "cell_type": "markdown",
      "metadata": {
        "id": "dPTCouzVgnEm",
        "colab_type": "text"
      },
      "source": [
        "## Linear regression vs regression tree"
      ]
    },
    {
      "cell_type": "code",
      "metadata": {
        "id": "oECMfHfXgndx",
        "colab_type": "code",
        "colab": {}
      },
      "source": [
        "# Predict test set labels \n",
        "y_pred_lr = lr.predict(X_test)\n",
        "\n",
        "# Compute mse_lr\n",
        "mse_lr = MSE(y_test, y_pred_lr)\n",
        "\n",
        "# Compute rmse_lr\n",
        "rmse_lr = mse_lr ** (1/2)\n",
        "\n",
        "# Print rmse_lr\n",
        "print('Linear Regression test set RMSE: {:.2f}'.format(rmse_lr))\n",
        "\n",
        "# Print rmse_dt\n",
        "print('Regression Tree test set RMSE: {:.2f}'.format(rmse_dt))"
      ],
      "execution_count": 0,
      "outputs": []
    }
  ]
}