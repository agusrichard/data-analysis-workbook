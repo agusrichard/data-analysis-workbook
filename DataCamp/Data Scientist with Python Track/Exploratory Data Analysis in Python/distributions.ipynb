{
  "nbformat": 4,
  "nbformat_minor": 0,
  "metadata": {
    "colab": {
      "name": "distributions.ipynb",
      "provenance": [],
      "collapsed_sections": []
    },
    "kernelspec": {
      "name": "python3",
      "display_name": "Python 3"
    }
  },
  "cells": [
    {
      "cell_type": "markdown",
      "metadata": {
        "id": "5rBhyEF5bbys",
        "colab_type": "text"
      },
      "source": [
        "# Distributions\n"
      ]
    },
    {
      "cell_type": "markdown",
      "metadata": {
        "id": "X1sp30zGcUHD",
        "colab_type": "text"
      },
      "source": [
        "## Make a PMF"
      ]
    },
    {
      "cell_type": "code",
      "metadata": {
        "id": "5E46pB9icUd2",
        "colab_type": "code",
        "colab": {}
      },
      "source": [
        "# Compute the PMF for year\n",
        "pmf_year = Pmf(gss['year'], normalize=False)\n",
        "\n",
        "# Print the result\n",
        "print(pmf_year)"
      ],
      "execution_count": 0,
      "outputs": []
    },
    {
      "cell_type": "markdown",
      "metadata": {
        "id": "kQQP_2luc3UV",
        "colab_type": "text"
      },
      "source": [
        "A. 2867"
      ]
    },
    {
      "cell_type": "markdown",
      "metadata": {
        "id": "SCbzH5uWc3y0",
        "colab_type": "text"
      },
      "source": [
        "## Plot a PMF"
      ]
    },
    {
      "cell_type": "code",
      "metadata": {
        "id": "LmA6z1CCc7KR",
        "colab_type": "code",
        "colab": {}
      },
      "source": [
        "# Select the age column\n",
        "age = gss['age']"
      ],
      "execution_count": 0,
      "outputs": []
    },
    {
      "cell_type": "code",
      "metadata": {
        "id": "XFdoy6xxdHJ0",
        "colab_type": "code",
        "colab": {}
      },
      "source": [
        "# Select the age column\n",
        "age = gss['age']\n",
        "\n",
        "# Make a PMF of age\n",
        "pmf_age = Pmf(age, normalize=True)"
      ],
      "execution_count": 0,
      "outputs": []
    },
    {
      "cell_type": "code",
      "metadata": {
        "id": "mgHGPVOedQBr",
        "colab_type": "code",
        "colab": {}
      },
      "source": [
        "# Select the age column\n",
        "age = gss['age']\n",
        "\n",
        "# Make a PMF of age\n",
        "pmf_age = Pmf(age)\n",
        "\n",
        "# Plot the PMF\n",
        "pmf_age.bar()\n",
        "\n",
        "# Label the axes\n",
        "plt.xlabel('Age')\n",
        "plt.ylabel('PMF')\n",
        "plt.show()"
      ],
      "execution_count": 0,
      "outputs": []
    },
    {
      "cell_type": "markdown",
      "metadata": {
        "id": "5sBqGWpFeMIR",
        "colab_type": "text"
      },
      "source": [
        "## Make a CDF"
      ]
    },
    {
      "cell_type": "code",
      "metadata": {
        "id": "INjr3Zg_eMb6",
        "colab_type": "code",
        "colab": {}
      },
      "source": [
        "# Select the age column\n",
        "age = gss['age']"
      ],
      "execution_count": 0,
      "outputs": []
    },
    {
      "cell_type": "code",
      "metadata": {
        "id": "FlRASokVeZ1q",
        "colab_type": "code",
        "colab": {}
      },
      "source": [
        "# Select the age column\n",
        "age = gss['age']\n",
        "\n",
        "# Compute the CDF of age\n",
        "cdf_age = Cdf(age)"
      ],
      "execution_count": 0,
      "outputs": []
    },
    {
      "cell_type": "code",
      "metadata": {
        "id": "MVTvz6RVeojh",
        "colab_type": "code",
        "colab": {}
      },
      "source": [
        "# Select the age column\n",
        "age = gss['age']\n",
        "\n",
        "# Compute the CDF of age\n",
        "cdf_age = Cdf(age)\n",
        "\n",
        "# Calculate the CDF of 30\n",
        "print(cdf_age[30])"
      ],
      "execution_count": 0,
      "outputs": []
    },
    {
      "cell_type": "markdown",
      "metadata": {
        "id": "4VemLseMeskE",
        "colab_type": "text"
      },
      "source": [
        "A. Approximately 75%"
      ]
    },
    {
      "cell_type": "markdown",
      "metadata": {
        "id": "-j0RJtx9erkC",
        "colab_type": "text"
      },
      "source": [
        "## Compute IQR"
      ]
    },
    {
      "cell_type": "code",
      "metadata": {
        "id": "uw2O4w9Ne6BE",
        "colab_type": "code",
        "colab": {}
      },
      "source": [
        "# Calculate the 75th percentile \n",
        "percentile_75th = cdf_income.inverse(0.75)"
      ],
      "execution_count": 0,
      "outputs": []
    },
    {
      "cell_type": "code",
      "metadata": {
        "id": "zzYOIRSCfYtR",
        "colab_type": "code",
        "colab": {}
      },
      "source": [
        "# Calculate the 75th percentile \n",
        "percentile_75th = cdf_income.inverse(0.75)\n",
        "\n",
        "# Calculate the 25th percentile\n",
        "percentile_25th = cdf_income.inverse(0.25)"
      ],
      "execution_count": 0,
      "outputs": []
    },
    {
      "cell_type": "code",
      "metadata": {
        "id": "umGj5VoVffwo",
        "colab_type": "code",
        "colab": {}
      },
      "source": [
        "# Calculate the 75th percentile \n",
        "percentile_75th = cdf_income.inverse(0.75)\n",
        "\n",
        "# Calculate the 25th percentile\n",
        "percentile_25th = cdf_income.inverse(0.25)\n",
        "\n",
        "# Calculate the interquartile range\n",
        "iqr = percentile_75th - percentile_25th\n",
        "\n",
        "# Print the interquartile range\n",
        "print(iqr)"
      ],
      "execution_count": 0,
      "outputs": []
    },
    {
      "cell_type": "markdown",
      "metadata": {
        "id": "xtYjIytWfjdb",
        "colab_type": "text"
      },
      "source": [
        "A. Approximately 29676"
      ]
    },
    {
      "cell_type": "markdown",
      "metadata": {
        "id": "74Fl7zHYfj1B",
        "colab_type": "text"
      },
      "source": [
        "## Plot a CDF"
      ]
    },
    {
      "cell_type": "code",
      "metadata": {
        "id": "lev2HcDvfl0K",
        "colab_type": "code",
        "colab": {}
      },
      "source": [
        "# Select realinc\n",
        "income = gss['realinc']\n",
        "\n",
        "# Make the CDF\n",
        "cdf_income = Cdf(income)\n",
        "\n",
        "# Plot it\n",
        "cdf_income.plot()\n",
        "\n",
        "# Label the axes\n",
        "plt.xlabel('Income (1986 USD)')\n",
        "plt.ylabel('CDF')\n",
        "plt.show()"
      ],
      "execution_count": 0,
      "outputs": []
    },
    {
      "cell_type": "markdown",
      "metadata": {
        "id": "RcRkmryUgyEY",
        "colab_type": "text"
      },
      "source": [
        "## Distribution of education"
      ]
    },
    {
      "cell_type": "markdown",
      "metadata": {
        "id": "evjnBidugx_B",
        "colab_type": "text"
      },
      "source": [
        "D. Approximately 53%"
      ]
    },
    {
      "cell_type": "markdown",
      "metadata": {
        "id": "jbBSkGXBhJJw",
        "colab_type": "text"
      },
      "source": [
        "## Extract education levels"
      ]
    },
    {
      "cell_type": "code",
      "metadata": {
        "id": "7e0Ad3wXhMfO",
        "colab_type": "code",
        "colab": {}
      },
      "source": [
        "# Select educ\n",
        "educ = gss['educ']\n",
        "\n",
        "# Bachelor's degree\n",
        "bach = (educ >= 16)\n",
        "\n",
        "# Associate degree\n",
        "assc = ((educ >= 14) & (educ < 16))\n",
        "\n",
        "# High school (12 or fewer years of education)\n",
        "high = (educ <= 12)\n",
        "print(high.mean())"
      ],
      "execution_count": 0,
      "outputs": []
    },
    {
      "cell_type": "markdown",
      "metadata": {
        "id": "DdPI1lVDh4Vn",
        "colab_type": "text"
      },
      "source": [
        "## Plot income CDFs"
      ]
    },
    {
      "cell_type": "code",
      "metadata": {
        "id": "BTE3jakGh4q5",
        "colab_type": "code",
        "colab": {}
      },
      "source": [
        "income = gss['realinc']\n",
        "\n",
        "# Plot the CDFs\n",
        "Cdf(income[high]).plot(label='High school')\n",
        "Cdf(income[assc]).plot(label='Associate')\n",
        "Cdf(income[bach]).plot(label='Bachelor')\n",
        "\n",
        "# Label the axes\n",
        "plt.xlabel('Income (1986 USD)')\n",
        "plt.ylabel('CDF')\n",
        "plt.legend()\n",
        "plt.show()"
      ],
      "execution_count": 0,
      "outputs": []
    },
    {
      "cell_type": "markdown",
      "metadata": {
        "id": "6PVnYcKyjOkt",
        "colab_type": "text"
      },
      "source": [
        "## Distribution of income"
      ]
    },
    {
      "cell_type": "code",
      "metadata": {
        "id": "0nVPqY9hjO5Q",
        "colab_type": "code",
        "colab": {}
      },
      "source": [
        "# Extract realinc and compute its log\n",
        "income = gss['realinc']\n",
        "log_income = np.log10(income)\n",
        "\n",
        "# Compute mean and standard deviation\n",
        "mean = log_income.mean()\n",
        "std = log_income.std()\n",
        "print(mean, std)\n",
        "\n",
        "# Make a norm object\n",
        "from scipy.stats import norm\n",
        "dist = norm(mean, std)"
      ],
      "execution_count": 0,
      "outputs": []
    },
    {
      "cell_type": "markdown",
      "metadata": {
        "id": "Omj4nV0DkGX5",
        "colab_type": "text"
      },
      "source": [
        "## Comparing CDFs"
      ]
    },
    {
      "cell_type": "code",
      "metadata": {
        "id": "azqCTA6RkG9r",
        "colab_type": "code",
        "colab": {}
      },
      "source": [
        "# Evaluate the model CDF\n",
        "xs = np.linspace(2, 5.5)\n",
        "ys = dist.cdf(xs)\n",
        "\n",
        "# Plot the model CDF\n",
        "plt.clf()\n",
        "plt.plot(xs, ys, color='gray')\n",
        "\n",
        "# Create and plot the Cdf of log_income\n",
        "Cdf(log_income).plot()\n",
        "    \n",
        "# Label the axes\n",
        "plt.xlabel('log10 of realinc')\n",
        "plt.ylabel('CDF')\n",
        "plt.show()"
      ],
      "execution_count": 0,
      "outputs": []
    },
    {
      "cell_type": "markdown",
      "metadata": {
        "id": "BLnAs38qlCCY",
        "colab_type": "text"
      },
      "source": [
        "## Comparing PDFs"
      ]
    },
    {
      "cell_type": "code",
      "metadata": {
        "id": "DuHF4DMZlCaf",
        "colab_type": "code",
        "colab": {}
      },
      "source": [
        "# Evaluate the normal PDF\n",
        "xs = np.linspace(2, 5.5)\n",
        "ys = dist.pdf(xs)\n",
        "\n",
        "# Plot the model PDF\n",
        "plt.clf()\n",
        "plt.plot(xs, ys, color='gray')\n",
        "\n",
        "# Plot the data KDE\n",
        "sns.kdeplot(log_income)\n",
        "\n",
        "# Label the axes\n",
        "plt.xlabel('log10 of realinc')\n",
        "plt.ylabel('PDF')\n",
        "plt.show()"
      ],
      "execution_count": 0,
      "outputs": []
    }
  ]
}