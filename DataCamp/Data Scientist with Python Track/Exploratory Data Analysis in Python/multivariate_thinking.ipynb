{
  "nbformat": 4,
  "nbformat_minor": 0,
  "metadata": {
    "colab": {
      "name": "multivariate_thinking.ipynb",
      "provenance": [],
      "collapsed_sections": []
    },
    "kernelspec": {
      "name": "python3",
      "display_name": "Python 3"
    }
  },
  "cells": [
    {
      "cell_type": "markdown",
      "metadata": {
        "id": "Gak5V5jvdsk2",
        "colab_type": "text"
      },
      "source": [
        "# Multivariate Thinking"
      ]
    },
    {
      "cell_type": "markdown",
      "metadata": {
        "id": "Ax2QJlGcdgxf",
        "colab_type": "text"
      },
      "source": [
        "## Regression and causation"
      ]
    },
    {
      "cell_type": "markdown",
      "metadata": {
        "id": "KiUVeoGjdnpP",
        "colab_type": "text"
      },
      "source": [
        "D. None of them."
      ]
    },
    {
      "cell_type": "markdown",
      "metadata": {
        "id": "vLgQo1DoeH57",
        "colab_type": "text"
      },
      "source": [
        "## Using StatsModels"
      ]
    },
    {
      "cell_type": "code",
      "metadata": {
        "id": "Uh3h2uGIeLVc",
        "colab_type": "code",
        "colab": {}
      },
      "source": [
        "from scipy.stats import linregress\n",
        "import statsmodels.formula.api as smf\n",
        "\n",
        "# Run regression with linregress\n",
        "subset = brfss.dropna(subset=['INCOME2', '_VEGESU1'])\n",
        "xs = subset['INCOME2']\n",
        "ys = subset['_VEGESU1']\n",
        "res = linregress(xs, ys)\n",
        "print(res)\n",
        "\n",
        "# Run regression with StatsModels\n",
        "results = smf.ols('_VEGESU1 ~ INCOME2', data = brfss).fit()\n",
        "print(results.params)"
      ],
      "execution_count": 0,
      "outputs": []
    },
    {
      "cell_type": "markdown",
      "metadata": {
        "id": "Ql0V8Cc7f_c9",
        "colab_type": "text"
      },
      "source": [
        "## Plot income and education"
      ]
    },
    {
      "cell_type": "code",
      "metadata": {
        "id": "M4xlcqPHf_0n",
        "colab_type": "code",
        "colab": {}
      },
      "source": [
        "# Group by educ\n",
        "grouped = gss.groupby('educ')\n",
        "\n",
        "# Compute mean income in each group\n",
        "mean_income_by_educ = grouped['realinc'].mean()\n",
        "\n",
        "# Plot mean income as a scatter plot\n",
        "plt.clf()\n",
        "plt.plot(mean_income_by_educ, 'o', alpha=0.5)\n",
        "\n",
        "# Label the axes\n",
        "plt.xlabel('Education (years)')\n",
        "plt.ylabel('Income (1986 $)')\n",
        "plt.show()"
      ],
      "execution_count": 0,
      "outputs": []
    },
    {
      "cell_type": "markdown",
      "metadata": {
        "id": "KTfakOPng5LS",
        "colab_type": "text"
      },
      "source": [
        "## Non-linear model of education"
      ]
    },
    {
      "cell_type": "code",
      "metadata": {
        "id": "O633FO__g5jg",
        "colab_type": "code",
        "colab": {}
      },
      "source": [
        "import statsmodels.formula.api as smf\n",
        "\n",
        "# Add a new column with educ squared\n",
        "gss['educ2'] = gss['educ'] ** 2\n",
        "\n",
        "# Run a regression model with educ, educ2, age, and age2\n",
        "results = smf.ols('realinc ~ educ + educ2 + age + age2', data=gss).fit()\n",
        "\n",
        "# Print the estimated parameters\n",
        "print(results.params)"
      ],
      "execution_count": 0,
      "outputs": []
    },
    {
      "cell_type": "markdown",
      "metadata": {
        "id": "8M6X7Zs5ibw5",
        "colab_type": "text"
      },
      "source": [
        "## Making predictions"
      ]
    },
    {
      "cell_type": "code",
      "metadata": {
        "id": "tYrx4MzbicJ8",
        "colab_type": "code",
        "colab": {}
      },
      "source": [
        "# Run a regression model with educ, educ2, age, and age2\n",
        "results = smf.ols('realinc ~ educ + educ2 + age + age2', data=gss).fit()\n",
        "\n",
        "# Make the DataFrame\n",
        "df = pd.DataFrame()\n",
        "df['educ'] = np.linspace(0, 20)\n",
        "df['age'] = 30\n",
        "df['educ2'] = df['educ']**2\n",
        "df['age2'] = df['age']**2\n",
        "\n",
        "# Generate and plot the predictions\n",
        "pred = results.predict(df)\n",
        "print(pred.head())"
      ],
      "execution_count": 0,
      "outputs": []
    },
    {
      "cell_type": "markdown",
      "metadata": {
        "id": "ZB5Q0z6ajLYi",
        "colab_type": "text"
      },
      "source": [
        "## Visualizing predictions"
      ]
    },
    {
      "cell_type": "code",
      "metadata": {
        "id": "KVZj-i6yjLwe",
        "colab_type": "code",
        "colab": {}
      },
      "source": [
        "# Plot mean income in each age group\n",
        "plt.clf()\n",
        "grouped = gss.groupby('educ')\n",
        "mean_income_by_educ = grouped['realinc'].mean()\n",
        "plt.plot(mean_income_by_educ, 'o', alpha=0.5)\n",
        "\n",
        "# Plot the predictions\n",
        "pred = results.predict(df)\n",
        "plt.plot(df['educ'], pred, label='Age 30')\n",
        "\n",
        "# Label axes\n",
        "plt.xlabel('Education (years)')\n",
        "plt.ylabel('Income (1986 $)')\n",
        "plt.legend()\n",
        "plt.show()"
      ],
      "execution_count": 0,
      "outputs": []
    },
    {
      "cell_type": "markdown",
      "metadata": {
        "id": "DTrp38iilL2V",
        "colab_type": "text"
      },
      "source": [
        "## Predicting a binary variable"
      ]
    },
    {
      "cell_type": "code",
      "metadata": {
        "id": "emxrqHodlMOx",
        "colab_type": "code",
        "colab": {}
      },
      "source": [
        "# Recode grass\n",
        "gss['grass'].replace(2, 0, inplace=True)\n",
        "\n",
        "# Run logistic regression\n",
        "results = smf.logit('grass ~ age + age2 + educ + educ2 + C(sex)', data=gss).fit()\n",
        "results.params"
      ],
      "execution_count": 0,
      "outputs": []
    },
    {
      "cell_type": "code",
      "metadata": {
        "id": "JTJGQ_r4l0A1",
        "colab_type": "code",
        "colab": {}
      },
      "source": [
        "# Recode grass\n",
        "gss['grass'].replace(2, 0, inplace=True)\n",
        "\n",
        "# Run logistic regression\n",
        "results = smf.logit('grass ~ age + age2 + educ + educ2 + C(sex)', data=gss).fit()\n",
        "results.params\n",
        "\n",
        "# Make a DataFrame with a range of ages\n",
        "df = pd.DataFrame()\n",
        "df['age'] = np.linspace(18, 89)\n",
        "df['age2'] = df['age']**2\n",
        "\n",
        "# Set the education level to 12\n",
        "df['educ'] = 12\n",
        "df['educ2'] = df['educ'] ** 2"
      ],
      "execution_count": 0,
      "outputs": []
    },
    {
      "cell_type": "code",
      "metadata": {
        "id": "pTZOczEImFR8",
        "colab_type": "code",
        "colab": {}
      },
      "source": [
        "# Recode grass\n",
        "gss['grass'].replace(2, 0, inplace=True)\n",
        "\n",
        "# Run logistic regression\n",
        "results = smf.logit('grass ~ age + age2 + educ + educ2 + C(sex)', data=gss).fit()\n",
        "results.params\n",
        "\n",
        "# Make a DataFrame with a range of ages\n",
        "df = pd.DataFrame()\n",
        "df['age'] = np.linspace(18, 89)\n",
        "df['age2'] = df['age']**2\n",
        "\n",
        "# Set the education level to 12\n",
        "df['educ'] = 12\n",
        "df['educ2'] = df['educ']**2\n",
        "\n",
        "# Generate predictions for men and women\n",
        "df['sex'] = 1\n",
        "pred1 = results.predict(df)\n",
        "\n",
        "df['sex'] = 2\n",
        "pred2 = results.predict(df)"
      ],
      "execution_count": 0,
      "outputs": []
    },
    {
      "cell_type": "code",
      "metadata": {
        "id": "GeUMiFoLmsRF",
        "colab_type": "code",
        "colab": {}
      },
      "source": [
        "# Recode grass\n",
        "gss['grass'].replace(2, 0, inplace=True)\n",
        "\n",
        "# Run logistic regression\n",
        "results = smf.logit('grass ~ age + age2 + educ + educ2 + C(sex)', data=gss).fit()\n",
        "results.params\n",
        "\n",
        "# Make a DataFrame with a range of ages\n",
        "df = pd.DataFrame()\n",
        "df['age'] = np.linspace(18, 89)\n",
        "df['age2'] = df['age']**2\n",
        "\n",
        "# Set the education level to 12\n",
        "df['educ'] = 12\n",
        "df['educ2'] = df['educ']**2\n",
        "\n",
        "# Generate predictions for men and women\n",
        "df['sex'] = 1\n",
        "pred1 = results.predict(df)\n",
        "\n",
        "df['sex'] = 2\n",
        "pred2 = results.predict(df)\n",
        "\n",
        "plt.clf()\n",
        "grouped = gss.groupby('age')\n",
        "favor_by_age = grouped['grass'].mean()\n",
        "plt.plot(favor_by_age, 'o', alpha=0.5)\n",
        "\n",
        "plt.plot(df['age'], pred1, label='Male')\n",
        "plt.plot(df['age'], pred2, label='Female')\n",
        "\n",
        "plt.xlabel('Age')\n",
        "plt.ylabel('Probability of favoring legalization')\n",
        "plt.legend()\n",
        "plt.show()"
      ],
      "execution_count": 0,
      "outputs": []
    },
    {
      "cell_type": "markdown",
      "metadata": {
        "id": "lLzJxGqmmrrz",
        "colab_type": "text"
      },
      "source": [
        ""
      ]
    }
  ]
}