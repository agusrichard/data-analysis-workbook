{
  "nbformat": 4,
  "nbformat_minor": 0,
  "metadata": {
    "colab": {
      "name": "read_clean_validate.ipynb",
      "provenance": [],
      "collapsed_sections": []
    },
    "kernelspec": {
      "name": "python3",
      "display_name": "Python 3"
    }
  },
  "cells": [
    {
      "cell_type": "markdown",
      "metadata": {
        "id": "LEHoX0YTTvcl",
        "colab_type": "text"
      },
      "source": [
        "# Read, clean, and validate"
      ]
    },
    {
      "cell_type": "markdown",
      "metadata": {
        "id": "zs953Iu-Tw2U",
        "colab_type": "text"
      },
      "source": [
        "## Read the codebook"
      ]
    },
    {
      "cell_type": "markdown",
      "metadata": {
        "id": "6l5V2daCUlTW",
        "colab_type": "text"
      },
      "source": [
        "A. 1"
      ]
    },
    {
      "cell_type": "markdown",
      "metadata": {
        "id": "E5zt-279VGHx",
        "colab_type": "text"
      },
      "source": [
        "## Exploring the NSFG data"
      ]
    },
    {
      "cell_type": "code",
      "metadata": {
        "id": "4ymAgas5VQ88",
        "colab_type": "code",
        "colab": {}
      },
      "source": [
        "\n",
        "# Display the number of rows and columns\n",
        "print(nsfg.shape)"
      ],
      "execution_count": 0,
      "outputs": []
    },
    {
      "cell_type": "code",
      "metadata": {
        "id": "oj2RcS2vVbMz",
        "colab_type": "code",
        "colab": {}
      },
      "source": [
        "# Display the number of rows and columns\n",
        "nsfg.shape\n",
        "\n",
        "# Display the names of the columns\n",
        "print(nsfg.columns)"
      ],
      "execution_count": 0,
      "outputs": []
    },
    {
      "cell_type": "code",
      "metadata": {
        "id": "mzCPKfI_Va1L",
        "colab_type": "code",
        "colab": {}
      },
      "source": [
        "# Display the number of rows and columns\n",
        "nsfg.shape\n",
        "\n",
        "# Display the names of the columns\n",
        "nsfg.columns\n",
        "\n",
        "# Select column birthwgt_oz1: ounces\n",
        "ounces = nsfg['birthwgt_oz1']"
      ],
      "execution_count": 0,
      "outputs": []
    },
    {
      "cell_type": "code",
      "metadata": {
        "id": "4-4n2AIuVauy",
        "colab_type": "code",
        "colab": {}
      },
      "source": [
        "# Display the number of rows and columns\n",
        "nsfg.shape\n",
        "\n",
        "# Display the names of the columns\n",
        "nsfg.columns\n",
        "\n",
        "# Select column birthwgt_oz1: ounces\n",
        "ounces = nsfg['birthwgt_oz1']\n",
        "\n",
        "# Print the first 5 elements of ounces\n",
        "print(ounces.head())"
      ],
      "execution_count": 0,
      "outputs": []
    },
    {
      "cell_type": "markdown",
      "metadata": {
        "id": "zNyKUr_0VkMG",
        "colab_type": "text"
      },
      "source": [
        "## Validate a variable"
      ]
    },
    {
      "cell_type": "markdown",
      "metadata": {
        "id": "x-SbX58UWdHM",
        "colab_type": "text"
      },
      "source": [
        "A. 6489"
      ]
    },
    {
      "cell_type": "markdown",
      "metadata": {
        "id": "zomC_q3eWws5",
        "colab_type": "text"
      },
      "source": [
        "## Clean a variable"
      ]
    },
    {
      "cell_type": "code",
      "metadata": {
        "id": "orZHBNy3WzNM",
        "colab_type": "code",
        "colab": {}
      },
      "source": [
        "# Replace the value 8 with NaN\n",
        "nsfg['nbrnaliv'].replace(8, np.nan, inplace=True)\n",
        "\n",
        "# Print the values and their frequencies\n",
        "print(nsfg['nbrnaliv'].value_counts())"
      ],
      "execution_count": 0,
      "outputs": []
    },
    {
      "cell_type": "markdown",
      "metadata": {
        "id": "uKl0ZMf8XS8A",
        "colab_type": "text"
      },
      "source": [
        "## Compute a variable"
      ]
    },
    {
      "cell_type": "code",
      "metadata": {
        "id": "adJ-FZc0XTSh",
        "colab_type": "code",
        "colab": {}
      },
      "source": [
        "# Select the columns and divide by 100\n",
        "agecon = nsfg['agecon'] / 100\n",
        "agepreg = nsfg['agepreg'] / 100"
      ],
      "execution_count": 0,
      "outputs": []
    },
    {
      "cell_type": "code",
      "metadata": {
        "id": "26SqZf_4XocK",
        "colab_type": "code",
        "colab": {}
      },
      "source": [
        "# Select the columns and divide by 100\n",
        "agecon = nsfg['agecon'] / 100\n",
        "agepreg = nsfg['agepreg'] / 100\n",
        "\n",
        "# Compute the difference\n",
        "preg_length = agepreg - agecon"
      ],
      "execution_count": 0,
      "outputs": []
    },
    {
      "cell_type": "code",
      "metadata": {
        "id": "b4xjRhFBXz0t",
        "colab_type": "code",
        "colab": {}
      },
      "source": [
        "# Select the columns and divide by 100\n",
        "agecon = nsfg['agecon'] / 100\n",
        "agepreg = nsfg['agepreg'] / 100\n",
        "\n",
        "# Compute the difference\n",
        "preg_length = agepreg - agecon\n",
        "\n",
        "# Compute summary statistics\n",
        "print(preg_length.describe())"
      ],
      "execution_count": 0,
      "outputs": []
    },
    {
      "cell_type": "markdown",
      "metadata": {
        "id": "MNnAbRkiYrmb",
        "colab_type": "text"
      },
      "source": [
        "## Make a histogram"
      ]
    },
    {
      "cell_type": "code",
      "metadata": {
        "id": "cJrN3B0oYr8O",
        "colab_type": "code",
        "colab": {}
      },
      "source": [
        "# Plot the histogram\n",
        "plt.hist(agecon, bins=20)\n",
        "\n",
        "# Label the axes\n",
        "plt.xlabel('Age at conception')\n",
        "plt.ylabel('Number of pregnancies')\n",
        "\n",
        "# Show the figure\n",
        "plt.show()"
      ],
      "execution_count": 0,
      "outputs": []
    },
    {
      "cell_type": "code",
      "metadata": {
        "id": "6GWr_-v5ZSK2",
        "colab_type": "code",
        "colab": {}
      },
      "source": [
        "# Plot the histogram\n",
        "plt.hist(agecon, bins=20, histtype='step')\n",
        "\n",
        "# Label the axes\n",
        "plt.xlabel('Age at conception')\n",
        "plt.ylabel('Number of pregnancies')\n",
        "\n",
        "# Show the figure\n",
        "plt.show()"
      ],
      "execution_count": 0,
      "outputs": []
    },
    {
      "cell_type": "markdown",
      "metadata": {
        "id": "igfXOKKeZUdz",
        "colab_type": "text"
      },
      "source": [
        "## Compute birth weight"
      ]
    },
    {
      "cell_type": "code",
      "metadata": {
        "id": "CiggvpxrZUyi",
        "colab_type": "code",
        "colab": {}
      },
      "source": [
        "# Create a Boolean Series for full-term babies\n",
        "full_term = nsfg['prglngth'] >= 37\n",
        "\n",
        "# Select the weights of full-term babies\n",
        "full_term_weight = birth_weight[full_term]\n",
        "\n",
        "# Compute the mean weight of full-term babies\n",
        "print(full_term_weight.mean())"
      ],
      "execution_count": 0,
      "outputs": []
    },
    {
      "cell_type": "markdown",
      "metadata": {
        "id": "o9goEpELaNIf",
        "colab_type": "text"
      },
      "source": [
        "## Filter"
      ]
    },
    {
      "cell_type": "code",
      "metadata": {
        "id": "9bSv71jxaNeW",
        "colab_type": "code",
        "colab": {}
      },
      "source": [
        "# Filter full-term babies\n",
        "full_term = nsfg['prglngth'] >= 37\n",
        "\n",
        "# Filter single births\n",
        "single = nsfg['nbrnaliv'] == 1\n",
        "\n",
        "# Compute birth weight for single full-term babies\n",
        "single_full_term_weight = birth_weight[full_term & single]\n",
        "print('Single full-term mean:', single_full_term_weight.mean())\n",
        "\n",
        "# Compute birth weight for multiple full-term babies\n",
        "mult_full_term_weight = birth_weight[full_term & ~single]\n",
        "print('Multiple full-term mean:', mult_full_term_weight.mean())\n"
      ],
      "execution_count": 0,
      "outputs": []
    }
  ]
}