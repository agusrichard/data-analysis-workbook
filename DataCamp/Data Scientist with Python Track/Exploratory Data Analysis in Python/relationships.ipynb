{
  "nbformat": 4,
  "nbformat_minor": 0,
  "metadata": {
    "colab": {
      "name": "relationships.ipynb",
      "provenance": []
    },
    "kernelspec": {
      "name": "python3",
      "display_name": "Python 3"
    }
  },
  "cells": [
    {
      "cell_type": "markdown",
      "metadata": {
        "id": "LFtzK3LqDSL-",
        "colab_type": "text"
      },
      "source": [
        "# Relationships"
      ]
    },
    {
      "cell_type": "markdown",
      "metadata": {
        "id": "UW4P0YbrDe6S",
        "colab_type": "text"
      },
      "source": [
        "## PMF of age"
      ]
    },
    {
      "cell_type": "code",
      "metadata": {
        "id": "tN6bBlFlDjou",
        "colab_type": "code",
        "colab": {}
      },
      "source": [
        "# Extract age\n",
        "age = brfss['AGE']\n",
        "\n",
        "# Plot the PMF\n",
        "Pmf(age).bar()\n",
        "\n",
        "# Label the axes\n",
        "plt.xlabel('Age in years')\n",
        "plt.ylabel('PMF')\n",
        "plt.show()"
      ],
      "execution_count": 0,
      "outputs": []
    },
    {
      "cell_type": "markdown",
      "metadata": {
        "id": "HuYCRNCLETU4",
        "colab_type": "text"
      },
      "source": [
        "## Scatter plot"
      ]
    },
    {
      "cell_type": "code",
      "metadata": {
        "id": "dhV3WLl7ETn8",
        "colab_type": "code",
        "colab": {}
      },
      "source": [
        "# Select the first 1000 respondents\n",
        "brfss = brfss[:1000]\n",
        "\n",
        "# Extract age and weight\n",
        "age = brfss['AGE']\n",
        "weight = brfss['WTKG3']\n",
        "\n",
        "# Make a scatter plot\n",
        "plt.plot(age, weight, 'o', alpha=0.1)\n",
        "\n",
        "plt.xlabel('Age in years')\n",
        "plt.ylabel('Weight in kg')\n",
        "\n",
        "plt.show()"
      ],
      "execution_count": 0,
      "outputs": []
    },
    {
      "cell_type": "markdown",
      "metadata": {
        "id": "C3yV69daFDiL",
        "colab_type": "text"
      },
      "source": [
        "## Jittering"
      ]
    },
    {
      "cell_type": "code",
      "metadata": {
        "id": "UC4XVB_1FDzd",
        "colab_type": "code",
        "colab": {}
      },
      "source": [
        "# Select the first 1000 respondents\n",
        "brfss = brfss[:1000]\n",
        "\n",
        "# Add jittering to age\n",
        "age = brfss['AGE'] + np.random.normal(0, 2.5, size=len(brfss['AGE']))\n",
        "# Extract weight\n",
        "weight = brfss['WTKG3']\n",
        "\n",
        "# Make a scatter plot\n",
        "plt.plot(age, weight, 'o', alpha=0.2)\n",
        "\n",
        "plt.xlabel('Age in years')\n",
        "plt.ylabel('Weight in kg')\n",
        "plt.show()"
      ],
      "execution_count": 0,
      "outputs": []
    },
    {
      "cell_type": "markdown",
      "metadata": {
        "id": "G30zcXOyGzO2",
        "colab_type": "text"
      },
      "source": [
        "## Height and weight"
      ]
    },
    {
      "cell_type": "code",
      "metadata": {
        "id": "mhvwkMUpGzmo",
        "colab_type": "code",
        "colab": {}
      },
      "source": [
        "# Drop rows with missing data\n",
        "data = brfss.dropna(subset=['_HTMG10', 'WTKG3'])\n",
        "\n",
        "# Make a box plot\n",
        "sns.boxplot(data=data, x='_HTMG10', y='WTKG3', whis=10)\n",
        "\n",
        "# Plot the y-axis on a log scale\n",
        "plt.yscale('log')\n",
        "\n",
        "# Remove unneeded lines and label axes\n",
        "sns.despine(left=True, bottom=True)\n",
        "plt.xlabel('Height in cm')\n",
        "plt.ylabel('Weight in kg')\n",
        "plt.show()\n"
      ],
      "execution_count": 0,
      "outputs": []
    },
    {
      "cell_type": "markdown",
      "metadata": {
        "id": "I-4b6YjRJBs2",
        "colab_type": "text"
      },
      "source": [
        "## Distribution of income"
      ]
    },
    {
      "cell_type": "code",
      "metadata": {
        "id": "m8pD85IeJCCj",
        "colab_type": "code",
        "colab": {}
      },
      "source": [
        "# Extract income\n",
        "income = brfss['INCOME2']\n",
        "\n",
        "# Plot the PMF\n",
        "Pmf(income).bar()\n",
        "\n",
        "# Label the axes\n",
        "plt.xlabel('Income level')\n",
        "plt.ylabel('PMF')\n",
        "plt.show()"
      ],
      "execution_count": 0,
      "outputs": []
    },
    {
      "cell_type": "markdown",
      "metadata": {
        "id": "LYHp65RAJYoU",
        "colab_type": "text"
      },
      "source": [
        "## Income and height"
      ]
    },
    {
      "cell_type": "code",
      "metadata": {
        "id": "aGGTHl7lJZAn",
        "colab_type": "code",
        "colab": {}
      },
      "source": [
        "# Drop rows with missing data\n",
        "data = brfss.dropna(subset=['INCOME2', 'HTM4'])\n",
        "\n",
        "# Make a violin plot\n",
        "sns.violinplot(data=data, x='INCOME2', y='HTM4', inner=None)\n",
        "\n",
        "# Remove unneeded lines and label axes\n",
        "sns.despine(left=True, bottom=True)\n",
        "plt.xlabel('Income level')\n",
        "plt.ylabel('Height in cm')\n",
        "plt.show()\n"
      ],
      "execution_count": 0,
      "outputs": []
    },
    {
      "cell_type": "markdown",
      "metadata": {
        "id": "qLBVNuK0LMkT",
        "colab_type": "text"
      },
      "source": [
        "## Computing correlations"
      ]
    },
    {
      "cell_type": "code",
      "metadata": {
        "id": "gAHeC3b-LNFA",
        "colab_type": "code",
        "colab": {}
      },
      "source": [
        "# Select columns\n",
        "columns = ['AGE', 'INCOME2', '_VEGESU1']\n",
        "subset = brfss[columns]\n",
        "\n",
        "# Compute the correlation matrix\n",
        "print(subset.corr())"
      ],
      "execution_count": 0,
      "outputs": []
    },
    {
      "cell_type": "markdown",
      "metadata": {
        "id": "8jUYcB9aLcY6",
        "colab_type": "text"
      },
      "source": [
        "## Interpreting correlations"
      ]
    },
    {
      "cell_type": "markdown",
      "metadata": {
        "id": "o2zMB_jrLcs4",
        "colab_type": "text"
      },
      "source": [
        "D. A and D only."
      ]
    },
    {
      "cell_type": "markdown",
      "metadata": {
        "id": "JMQViPZwLrAA",
        "colab_type": "text"
      },
      "source": [
        "## Income and vegetables"
      ]
    },
    {
      "cell_type": "code",
      "metadata": {
        "id": "8z0ZWHIlM57_",
        "colab_type": "code",
        "colab": {}
      },
      "source": [
        "from scipy.stats import linregress\n",
        "\n",
        "# Extract the variables\n",
        "subset = brfss.dropna(subset=['INCOME2', '_VEGESU1'])\n",
        "xs = subset['INCOME2']\n",
        "ys = subset['_VEGESU1']\n",
        "\n",
        "# Compute the linear regression\n",
        "res = linregress(xs, ys)\n",
        "print(res)"
      ],
      "execution_count": 0,
      "outputs": []
    },
    {
      "cell_type": "markdown",
      "metadata": {
        "id": "bHfHMMQ5NNKO",
        "colab_type": "text"
      },
      "source": [
        "## Fit a line"
      ]
    },
    {
      "cell_type": "code",
      "metadata": {
        "id": "vOY2NNnYNNu2",
        "colab_type": "code",
        "colab": {}
      },
      "source": [
        "# Plot the scatter plot\n",
        "plt.clf()\n",
        "x_jitter = xs + np.random.normal(0, 0.15, len(xs))\n",
        "plt.plot(x_jitter, ys, 'o', alpha=0.2)\n",
        "\n",
        "# Plot the line of best fit\n",
        "fx = np.array([xs.min(), xs.max()])\n",
        "fy = res.intercept + res.slope * fx\n",
        "plt.plot(fx, fy, '-', alpha=0.7)\n",
        "\n",
        "plt.xlabel('Income code')\n",
        "plt.ylabel('Vegetable servings per day')\n",
        "plt.ylim([0, 6])\n",
        "plt.show()"
      ],
      "execution_count": 0,
      "outputs": []
    }
  ]
}