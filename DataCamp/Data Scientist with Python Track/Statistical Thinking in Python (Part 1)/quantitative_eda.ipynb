{
  "nbformat": 4,
  "nbformat_minor": 0,
  "metadata": {
    "colab": {
      "name": "quantitative_eda.ipynb",
      "provenance": []
    },
    "kernelspec": {
      "name": "python3",
      "display_name": "Python 3"
    }
  },
  "cells": [
    {
      "cell_type": "markdown",
      "metadata": {
        "id": "E7py53OgGGWF",
        "colab_type": "text"
      },
      "source": [
        "# Quantitative exploratory data analysis"
      ]
    },
    {
      "cell_type": "markdown",
      "metadata": {
        "id": "uqunEewNGnSO",
        "colab_type": "text"
      },
      "source": [
        "## Means and medians"
      ]
    },
    {
      "cell_type": "markdown",
      "metadata": {
        "id": "-4RppjsgGn1F",
        "colab_type": "text"
      },
      "source": [
        "B. An outlier can significantly affect the value of the mean, but not the median."
      ]
    },
    {
      "cell_type": "markdown",
      "metadata": {
        "id": "VTK4OxTnG788",
        "colab_type": "text"
      },
      "source": [
        "## Computing means"
      ]
    },
    {
      "cell_type": "code",
      "metadata": {
        "id": "xN3NAx_jG-EW",
        "colab_type": "code",
        "colab": {}
      },
      "source": [
        "# Compute the mean: mean_length_vers\n",
        "mean_length_vers = np.mean(versicolor_petal_length)\n",
        "\n",
        "# Print the result with some nice formatting\n",
        "print('I. versicolor:', mean_length_vers, 'cm')"
      ],
      "execution_count": 0,
      "outputs": []
    },
    {
      "cell_type": "markdown",
      "metadata": {
        "id": "Jm3FqVYfHz4H",
        "colab_type": "text"
      },
      "source": [
        "## Computing percentiles"
      ]
    },
    {
      "cell_type": "code",
      "metadata": {
        "id": "_R300AF5H0OQ",
        "colab_type": "code",
        "colab": {}
      },
      "source": [
        "# Specify array of percentiles: percentiles\n",
        "percentiles = np.array([2.5, 25, 50, 75, 97.5])\n",
        "\n",
        "# Compute percentiles: ptiles_vers\n",
        "ptiles_vers = np.percentile(versicolor_petal_length, percentiles)\n",
        "\n",
        "# Print the result\n",
        "print(ptiles_vers)"
      ],
      "execution_count": 0,
      "outputs": []
    },
    {
      "cell_type": "markdown",
      "metadata": {
        "id": "Eetfp0tGIVj_",
        "colab_type": "text"
      },
      "source": [
        "## Comparing percentiles to ECDF"
      ]
    },
    {
      "cell_type": "code",
      "metadata": {
        "id": "VoG0e07KIV6W",
        "colab_type": "code",
        "colab": {}
      },
      "source": [
        "# Plot the ECDF\n",
        "_ = plt.plot(x_vers, y_vers, '.')\n",
        "_ = plt.xlabel('petal length (cm)')\n",
        "_ = plt.ylabel('ECDF')\n",
        "\n",
        "# Overlay percentiles as red diamonds.\n",
        "_ = plt.plot(ptiles_vers, percentiles/100, marker='D', color='red',\n",
        "         linestyle='none')\n",
        "\n",
        "# Show the plot\n",
        "plt.show()\n"
      ],
      "execution_count": 0,
      "outputs": []
    },
    {
      "cell_type": "markdown",
      "metadata": {
        "id": "Q5IkKsnYI1nf",
        "colab_type": "text"
      },
      "source": [
        "## Box-and-whisker plot"
      ]
    },
    {
      "cell_type": "code",
      "metadata": {
        "id": "uth-f03MI198",
        "colab_type": "code",
        "colab": {}
      },
      "source": [
        "# Create box plot with Seaborn's default settings\n",
        "_ = sns.boxplot(x='species', y='petal length (cm)', data=df)\n",
        "\n",
        "# Label the axes\n",
        "_ = plt.xlabel('species')\n",
        "_ = plt.ylabel('petal length (cm)')\n",
        "\n",
        "\n",
        "# Show the plot\n",
        "plt.show()\n"
      ],
      "execution_count": 0,
      "outputs": []
    },
    {
      "cell_type": "markdown",
      "metadata": {
        "id": "APV-a5RZJ65M",
        "colab_type": "text"
      },
      "source": [
        "## Computing the variance"
      ]
    },
    {
      "cell_type": "code",
      "metadata": {
        "id": "LBBuGU9dJ7PO",
        "colab_type": "code",
        "colab": {}
      },
      "source": [
        "# Array of differences to mean: differences\n",
        "differences = np.array(versicolor_petal_length - np.mean(versicolor_petal_length))\n",
        "\n",
        "# Square the differences: diff_sq\n",
        "diff_sq = differences ** 2\n",
        "\n",
        "# Compute the mean square difference: variance_explicit\n",
        "variance_explicit = np.mean(diff_sq)\n",
        "\n",
        "# Compute the variance using NumPy: variance_np\n",
        "variance_np = np.var(versicolor_petal_length)\n",
        "\n",
        "# Print the results\n",
        "print(variance_explicit, variance_np)\n"
      ],
      "execution_count": 0,
      "outputs": []
    },
    {
      "cell_type": "markdown",
      "metadata": {
        "id": "3aUrPIHHLMGr",
        "colab_type": "text"
      },
      "source": [
        "## The standard deviation and the variance"
      ]
    },
    {
      "cell_type": "code",
      "metadata": {
        "id": "rt_MQMMPLMdS",
        "colab_type": "code",
        "colab": {}
      },
      "source": [
        "# Compute the variance: variance\n",
        "variance = np.var(versicolor_petal_length)\n",
        "\n",
        "# Print the square root of the variance\n",
        "print(np.sqrt(variance))\n",
        "\n",
        "# Print the standard deviation\n",
        "print(np.std(versicolor_petal_length))"
      ],
      "execution_count": 0,
      "outputs": []
    },
    {
      "cell_type": "markdown",
      "metadata": {
        "id": "ZzbAskMZMatW",
        "colab_type": "text"
      },
      "source": [
        "## Scatter plots"
      ]
    },
    {
      "cell_type": "code",
      "metadata": {
        "id": "ktq9nK4nMbB2",
        "colab_type": "code",
        "colab": {}
      },
      "source": [
        "# Make a scatter plot\n",
        "plt.plot(versicolor_petal_length, versicolor_petal_width, marker='.', linestyle='none')\n",
        "\n",
        "# Label the axes\n",
        "plt.xlabel('petal length (cm)')\n",
        "plt.ylabel('petal width (cm)')\n",
        "\n",
        "# Show the result\n",
        "plt.show()"
      ],
      "execution_count": 0,
      "outputs": []
    },
    {
      "cell_type": "markdown",
      "metadata": {
        "id": "ETGHrbMfM20r",
        "colab_type": "text"
      },
      "source": [
        "## Variance and covariance by looking"
      ]
    },
    {
      "cell_type": "markdown",
      "metadata": {
        "id": "Qna_bs6-M3Kw",
        "colab_type": "text"
      },
      "source": [
        "C. d, c, b"
      ]
    },
    {
      "cell_type": "markdown",
      "metadata": {
        "id": "YqdZakzaNWnC",
        "colab_type": "text"
      },
      "source": [
        "## Computing the covariance"
      ]
    },
    {
      "cell_type": "code",
      "metadata": {
        "id": "zQv1aEUpNZMG",
        "colab_type": "code",
        "colab": {}
      },
      "source": [
        "# Compute the covariance matrix: covariance_matrix\n",
        "covariance_matrix = np.cov(versicolor_petal_length, versicolor_petal_width)\n",
        "\n",
        "# Print covariance matrix\n",
        "print(covariance_matrix)\n",
        "\n",
        "# Extract covariance of length and width of petals: petal_cov\n",
        "petal_cov = covariance_matrix[0, 1]\n",
        "\n",
        "# Print the length/width covariance\n",
        "print(petal_cov)\n"
      ],
      "execution_count": 0,
      "outputs": []
    },
    {
      "cell_type": "markdown",
      "metadata": {
        "id": "lrJ7cbF4ObRK",
        "colab_type": "text"
      },
      "source": [
        "## Computing the Pearson correlation coefficient"
      ]
    },
    {
      "cell_type": "code",
      "metadata": {
        "id": "RErxCHRHObm2",
        "colab_type": "code",
        "colab": {}
      },
      "source": [
        "def pearson_r(x, y):\n",
        "    \"\"\"Compute Pearson correlation coefficient between two arrays.\"\"\"\n",
        "    # Compute correlation matrix: corr_mat\n",
        "    corr_mat = np.corrcoef(x, y)\n",
        "\n",
        "    # Return entry [0,1]\n",
        "    return corr_mat[0,1]\n",
        "\n",
        "# Compute Pearson correlation coefficient for I. versicolor: r\n",
        "r = pearson_r(versicolor_petal_length, versicolor_petal_width)\n",
        "\n",
        "# Print the result\n",
        "print(r)"
      ],
      "execution_count": 0,
      "outputs": []
    }
  ]
}