{
  "nbformat": 4,
  "nbformat_minor": 0,
  "metadata": {
    "colab": {
      "name": "think_probs_disc_vars.ipynb",
      "provenance": [],
      "collapsed_sections": []
    },
    "kernelspec": {
      "name": "python3",
      "display_name": "Python 3"
    }
  },
  "cells": [
    {
      "cell_type": "markdown",
      "metadata": {
        "id": "qKp0nv_ZRlaq",
        "colab_type": "text"
      },
      "source": [
        "# Thinking probabilistically-- Discrete variables"
      ]
    },
    {
      "cell_type": "markdown",
      "metadata": {
        "id": "KI7btPcNRp0H",
        "colab_type": "text"
      },
      "source": [
        "## What is the goal of statistical inference?"
      ]
    },
    {
      "cell_type": "markdown",
      "metadata": {
        "id": "TEF6ASEeSUES",
        "colab_type": "text"
      },
      "source": [
        "D. All of these."
      ]
    },
    {
      "cell_type": "markdown",
      "metadata": {
        "id": "JXgjN1v5SvGl",
        "colab_type": "text"
      },
      "source": [
        "## Why do we use the language of probability?"
      ]
    },
    {
      "cell_type": "markdown",
      "metadata": {
        "id": "jRg5HqOhSZoo",
        "colab_type": "text"
      },
      "source": [
        "B. Probabilistic language is not very precise."
      ]
    },
    {
      "cell_type": "markdown",
      "metadata": {
        "id": "pk9kyrQDSwcC",
        "colab_type": "text"
      },
      "source": [
        "## Generating random numbers using the np.random module"
      ]
    },
    {
      "cell_type": "code",
      "metadata": {
        "id": "tAaE91TnTqtm",
        "colab_type": "code",
        "colab": {}
      },
      "source": [
        "# Seed the random number generator\n",
        "np.random.seed(42)\n",
        "\n",
        "# Initialize random numbers: random_numbers\n",
        "random_numbers = np.empty(100000)\n",
        "\n",
        "# Generate random numbers by looping over range(100000)\n",
        "for i in range(100000):\n",
        "    random_numbers[i] = np.random.random()\n",
        "\n",
        "# Plot a histogram\n",
        "_ = plt.hist(random_numbers)\n",
        "\n",
        "# Show the plot\n",
        "plt.show()\n"
      ],
      "execution_count": 0,
      "outputs": []
    },
    {
      "cell_type": "markdown",
      "metadata": {
        "id": "nQQnaJIBUJH8",
        "colab_type": "text"
      },
      "source": [
        "## The np.random module and Bernoulli trials"
      ]
    },
    {
      "cell_type": "code",
      "metadata": {
        "id": "tVnuc5PgUJcu",
        "colab_type": "code",
        "colab": {}
      },
      "source": [
        "def perform_bernoulli_trials(n, p):\n",
        "    \"\"\"Perform n Bernoulli trials with success probability p\n",
        "    and return number of successes.\"\"\"\n",
        "    # Initialize number of successes: n_success\n",
        "    n_success = 0\n",
        "\n",
        "    # Perform trials\n",
        "    for i in range(n):\n",
        "        # Choose random number between zero and one: random_number\n",
        "        random_number = np.random.random()\n",
        "\n",
        "        # If less than p, it's a success so add one to n_success\n",
        "        if random_number < p:\n",
        "            n_success += 1\n",
        "\n",
        "    return n_success"
      ],
      "execution_count": 0,
      "outputs": []
    },
    {
      "cell_type": "markdown",
      "metadata": {
        "id": "HSzp8zLCUmul",
        "colab_type": "text"
      },
      "source": [
        "## How many defaults might we expect?"
      ]
    },
    {
      "cell_type": "code",
      "metadata": {
        "id": "qCopAdXFUnEW",
        "colab_type": "code",
        "colab": {}
      },
      "source": [
        "# Seed random number generator\n",
        "np.random.seed(42)\n",
        "\n",
        "# Initialize the number of defaults: n_defaults\n",
        "n_defaults = np.empty(1000)\n",
        "\n",
        "# Compute the number of defaults\n",
        "for i in range(1000):\n",
        "    n_defaults[i] = perform_bernoulli_trials(100, 0.05)\n",
        "\n",
        "\n",
        "# Plot the histogram with default number of bins; label your axes\n",
        "_ = plt.hist(n_defaults, normed=True)\n",
        "_ = plt.xlabel('number of defaults out of 100 loans')\n",
        "_ = plt.ylabel('probability')\n",
        "\n",
        "# Show the plot\n",
        "plt.show()"
      ],
      "execution_count": 0,
      "outputs": []
    },
    {
      "cell_type": "markdown",
      "metadata": {
        "id": "J4ijNhIjVafq",
        "colab_type": "text"
      },
      "source": [
        "## Will the bank fail?"
      ]
    },
    {
      "cell_type": "code",
      "metadata": {
        "id": "Y2KR0uabVcZR",
        "colab_type": "code",
        "colab": {}
      },
      "source": [
        "# Compute ECDF: x, y\n",
        "x, y = ecdf(n_defaults)\n",
        "\n",
        "# Plot the ECDF with labeled axes\n",
        "_ = plt.plot(x, y, marker='.', linestyle='none')\n",
        "_ = plt.xlabel('defaults')\n",
        "_ = plt.ylabel('counts')\n",
        "\n",
        "# Show the plot\n",
        "plt.show()\n",
        "\n",
        "# Compute the number of 100-loan simulations with 10 or more defaults: n_lose_money\n",
        "n_lose_money = np.sum(n_defaults >= 10)\n",
        "\n",
        "# Compute and print probability of losing money\n",
        "print('Probability of losing money =', n_lose_money / len(n_defaults))\n"
      ],
      "execution_count": 0,
      "outputs": []
    },
    {
      "cell_type": "markdown",
      "metadata": {
        "id": "a9LhLVT-X8Yw",
        "colab_type": "text"
      },
      "source": [
        "## Sampling out of the Binomial distribution"
      ]
    },
    {
      "cell_type": "code",
      "metadata": {
        "id": "ex92wpRgX8u9",
        "colab_type": "code",
        "colab": {}
      },
      "source": [
        "# Take 10,000 samples out of the binomial distribution: n_defaults\n",
        "n_defaults = np.random.binomial(100, 0.05, size=10000)\n",
        "\n",
        "# Compute CDF: x, y\n",
        "x, y = ecdf(n_defaults)\n",
        "\n",
        "# Plot the CDF with axis labels\n",
        "_ = plt.plot(x, y, marker='.', linestyle='none')\n",
        "_ = plt.xlabel('defaults')\n",
        "_ = plt.ylabel('counts')\n",
        "\n",
        "\n",
        "# Show the plot\n",
        "plt.show()\n"
      ],
      "execution_count": 0,
      "outputs": []
    },
    {
      "cell_type": "markdown",
      "metadata": {
        "id": "MofJuCaXYlgn",
        "colab_type": "text"
      },
      "source": [
        "## Plotting the Binomial PMF"
      ]
    },
    {
      "cell_type": "code",
      "metadata": {
        "id": "PFBsIGmOYl2V",
        "colab_type": "code",
        "colab": {}
      },
      "source": [
        "# Compute bin edges: bins\n",
        "bins = np.arange(0, max(n_defaults) + 1.5) - 0.5\n",
        "\n",
        "# Generate histogram\n",
        "_ = plt.hist(n_defaults, bins=bins, normed=True)\n",
        "\n",
        "# Label axes\n",
        "_ = plt.xlabel('defaults')\n",
        "_ = plt.ylabel('probability')\n",
        "\n",
        "\n",
        "# Show the plot\n",
        "plt.show()"
      ],
      "execution_count": 0,
      "outputs": []
    },
    {
      "cell_type": "markdown",
      "metadata": {
        "id": "uRzBKjFXaKd2",
        "colab_type": "text"
      },
      "source": [
        "## Relationship between Binomial and Poisson distributions"
      ]
    },
    {
      "cell_type": "code",
      "metadata": {
        "id": "MC4krsg6aKzS",
        "colab_type": "code",
        "colab": {}
      },
      "source": [
        "# Draw 10,000 samples out of Poisson distribution: samples_poisson\n",
        "samples_poisson = np.random.poisson(10, size=10000)\n",
        "\n",
        "# Print the mean and standard deviation\n",
        "print('Poisson:     ', np.mean(samples_poisson),\n",
        "                       np.std(samples_poisson))\n",
        "\n",
        "# Specify values of n and p to consider for Binomial: n, p\n",
        "n = [20, 100, 1000]\n",
        "p = [0.5, 0.1, 0.01]\n",
        "\n",
        "\n",
        "# Draw 10,000 samples for each n,p pair: samples_binomial\n",
        "for i in range(3):\n",
        "    samples_binomial = np.random.binomial(n[i], p[i], size=10000)\n",
        "\n",
        "    # Print results\n",
        "    print('n =', n[i], 'Binom:', np.mean(samples_binomial),\n",
        "                                 np.std(samples_binomial))\n"
      ],
      "execution_count": 0,
      "outputs": []
    },
    {
      "cell_type": "markdown",
      "metadata": {
        "id": "uK9ZUIb9bKcV",
        "colab_type": "text"
      },
      "source": [
        "## How many no-hitters in a season?"
      ]
    },
    {
      "cell_type": "markdown",
      "metadata": {
        "id": "I4VtBmblbKUx",
        "colab_type": "text"
      },
      "source": [
        "D. Both Binomial and Poisson, though Poisson is easier to model and compute."
      ]
    },
    {
      "cell_type": "markdown",
      "metadata": {
        "id": "rGmfmr05be-W",
        "colab_type": "text"
      },
      "source": [
        "## Was 2015 anomalous?"
      ]
    },
    {
      "cell_type": "code",
      "metadata": {
        "id": "9BCPiORVbhKF",
        "colab_type": "code",
        "colab": {}
      },
      "source": [
        "# Draw 10,000 samples out of Poisson distribution: n_nohitters\n",
        "n_nohitters = np.random.poisson(251/115, size=10000)\n",
        "\n",
        "# Compute number of samples that are seven or greater: n_large\n",
        "n_large = np.sum(n_nohitters >= 7)\n",
        "\n",
        "# Compute probability of getting seven or more: p_large\n",
        "p_large = n_large / 10000\n",
        "\n",
        "# Print the result\n",
        "print('Probability of seven or more no-hitters:', p_large)\n"
      ],
      "execution_count": 0,
      "outputs": []
    }
  ]
}