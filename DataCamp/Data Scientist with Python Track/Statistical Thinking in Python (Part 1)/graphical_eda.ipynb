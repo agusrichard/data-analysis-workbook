{
  "nbformat": 4,
  "nbformat_minor": 0,
  "metadata": {
    "colab": {
      "name": "graphical_eda.ipynb",
      "provenance": [],
      "collapsed_sections": []
    },
    "kernelspec": {
      "name": "python3",
      "display_name": "Python 3"
    }
  },
  "cells": [
    {
      "cell_type": "markdown",
      "metadata": {
        "id": "pr9DuKCLq1MN",
        "colab_type": "text"
      },
      "source": [
        "# Graphical exploratory data analysis"
      ]
    },
    {
      "cell_type": "markdown",
      "metadata": {
        "id": "SxS2ChqUsfRu",
        "colab_type": "text"
      },
      "source": [
        "## Tukey's comments on EDA"
      ]
    },
    {
      "cell_type": "markdown",
      "metadata": {
        "id": "h8xPZHLpsfoA",
        "colab_type": "text"
      },
      "source": [
        "E.Often times EDA is too time consuming, so it is better to jump right in and do your hypothesis tests."
      ]
    },
    {
      "cell_type": "markdown",
      "metadata": {
        "id": "wolSV4pHspAK",
        "colab_type": "text"
      },
      "source": [
        "## Advantages of graphical EDA"
      ]
    },
    {
      "cell_type": "markdown",
      "metadata": {
        "id": "KJglZ9jpstSU",
        "colab_type": "text"
      },
      "source": [
        "C. A nice looking plot is always the end goal of a statistical analysis."
      ]
    },
    {
      "cell_type": "markdown",
      "metadata": {
        "id": "-y6rpNBzs5HX",
        "colab_type": "text"
      },
      "source": [
        "## Plotting a histogram of iris data"
      ]
    },
    {
      "cell_type": "code",
      "metadata": {
        "id": "-BO0aT0dtcfs",
        "colab_type": "code",
        "colab": {}
      },
      "source": [
        "# Import plotting modules\n",
        "import matplotlib.pyplot as plt\n",
        "import seaborn as sns\n",
        "\n",
        "\n",
        "# Set default Seaborn style\n",
        "sns.set()\n",
        "\n",
        "# Plot histogram of versicolor petal lengths\n",
        "plt.hist(versicolor_petal_length)\n",
        "\n",
        "# Show histogram\n",
        "plt.show()"
      ],
      "execution_count": 0,
      "outputs": []
    },
    {
      "cell_type": "markdown",
      "metadata": {
        "id": "_CukOCrQuNmj",
        "colab_type": "text"
      },
      "source": [
        "## Axis labels!"
      ]
    },
    {
      "cell_type": "code",
      "metadata": {
        "id": "L6gBL6cUuOPZ",
        "colab_type": "code",
        "colab": {}
      },
      "source": [
        "# Plot histogram of versicolor petal lengths\n",
        "_ = plt.hist(versicolor_petal_length)\n",
        "\n",
        "# Label axes\n",
        "plt.xlabel('petal length (cm)')\n",
        "plt.ylabel('count')\n",
        "\n",
        "# Show histogram\n",
        "plt.show()\n"
      ],
      "execution_count": 0,
      "outputs": []
    },
    {
      "cell_type": "markdown",
      "metadata": {
        "id": "UsFfIdIpue9f",
        "colab_type": "text"
      },
      "source": [
        "## Adjusting the number of bins in a histogram"
      ]
    },
    {
      "cell_type": "code",
      "metadata": {
        "id": "JSDcQ_q_ufSY",
        "colab_type": "code",
        "colab": {}
      },
      "source": [
        "# Import numpy\n",
        "import numpy as np\n",
        "\n",
        "# Compute number of data points: n_data\n",
        "n_data = versicolor_petal_length.shape[0]\n",
        "\n",
        "# Number of bins is the square root of number of data points: n_bins\n",
        "n_bins = np.sqrt(n_data)\n",
        "\n",
        "# Convert number of bins to integer: n_bins\n",
        "n_bins = int(n_bins)\n",
        "\n",
        "# Plot the histogram\n",
        "_ = plt.hist(versicolor_petal_length, bins=n_bins)\n",
        "\n",
        "# Label axes\n",
        "_ = plt.xlabel('petal length (cm)')\n",
        "_ = plt.ylabel('count')\n",
        "\n",
        "# Show histogram\n",
        "plt.show()"
      ],
      "execution_count": 0,
      "outputs": []
    },
    {
      "cell_type": "markdown",
      "metadata": {
        "id": "4usSEmF7vlDX",
        "colab_type": "text"
      },
      "source": [
        "## Bee swarm plot"
      ]
    },
    {
      "cell_type": "code",
      "metadata": {
        "id": "vfVO0hpKvlZD",
        "colab_type": "code",
        "colab": {}
      },
      "source": [
        "# Create bee swarm plot with Seaborn's default settings\n",
        "_ = sns.swarmplot(data=df, x='species', y='petal length (cm)')\n",
        "\n",
        "# Label the axes\n",
        "_ = plt.xlabel('species')\n",
        "_ = plt.ylabel('petal length (cm)')\n",
        "\n",
        "# Show the plot\n",
        "plt.show()\n"
      ],
      "execution_count": 0,
      "outputs": []
    },
    {
      "cell_type": "markdown",
      "metadata": {
        "id": "80mN2rfqwKQs",
        "colab_type": "text"
      },
      "source": [
        "## Interpreting a bee swarm plot"
      ]
    },
    {
      "cell_type": "markdown",
      "metadata": {
        "id": "0fk1VahdwKlH",
        "colab_type": "text"
      },
      "source": [
        "C. I. virginica petals tend to be the longest, and I. setosa petals tend to be the shortest of the three species."
      ]
    },
    {
      "cell_type": "code",
      "metadata": {
        "id": "s16ysfkSwd1N",
        "colab_type": "code",
        "colab": {}
      },
      "source": [
        "def ecdf(data):\n",
        "    \"\"\"Compute ECDF for a one-dimensional array of measurements.\"\"\"\n",
        "    # Number of data points: n\n",
        "    n = len(data)\n",
        "\n",
        "    # x-data for the ECDF: x\n",
        "    x = np.sort(data)\n",
        "\n",
        "    # y-data for the ECDF: y\n",
        "    y = np.arange(1, n + 1) / n\n",
        "\n",
        "    return x, y"
      ],
      "execution_count": 0,
      "outputs": []
    },
    {
      "cell_type": "markdown",
      "metadata": {
        "id": "KbIGOun_DZL0",
        "colab_type": "text"
      },
      "source": [
        "## Plotting the ECDF"
      ]
    },
    {
      "cell_type": "code",
      "metadata": {
        "id": "JTmooXLRDZkl",
        "colab_type": "code",
        "colab": {}
      },
      "source": [
        "# Compute ECDF for versicolor data: x_vers, y_vers\n",
        "x_vers, y_vers = ecdf(versicolor_petal_length)\n",
        "\n",
        "# Generate plot\n",
        "_ = plt.plot(x_vers, y_vers, marker='.', linestyle='none')\n",
        "\n",
        "# Label the axes\n",
        "_ = plt.xlabel('petal length (cm)')\n",
        "_ = plt.ylabel('ECDF')\n",
        "\n",
        "\n",
        "# Display the plot\n",
        "plt.show()\n"
      ],
      "execution_count": 0,
      "outputs": []
    },
    {
      "cell_type": "markdown",
      "metadata": {
        "id": "YPPdDttbEYrD",
        "colab_type": "text"
      },
      "source": [
        "## Comparison of ECDFs"
      ]
    },
    {
      "cell_type": "code",
      "metadata": {
        "id": "UlFtbA_3EZB_",
        "colab_type": "code",
        "colab": {}
      },
      "source": [
        "# Compute ECDFs\n",
        "x_set, y_set = ecdf(setosa_petal_length)\n",
        "x_vers, y_vers = ecdf(versicolor_petal_length)\n",
        "x_virg, y_virg = ecdf(virginica_petal_length)\n",
        "\n",
        "\n",
        "# Plot all ECDFs on the same plot\n",
        "_ = plt.plot(x_set, y_set, marker='.', linestyle='none')\n",
        "_ = plt.plot(x_vers, y_vers, marker='.', linestyle='none')\n",
        "_ = plt.plot(x_virg, y_virg, marker='.', linestyle='none')\n",
        "\n",
        "# Annotate the plot\n",
        "plt.legend(('setosa', 'versicolor', 'virginica'), loc='lower right')\n",
        "_ = plt.xlabel('petal length (cm)')\n",
        "_ = plt.ylabel('ECDF')\n",
        "\n",
        "# Display the plot\n",
        "plt.show()"
      ],
      "execution_count": 0,
      "outputs": []
    }
  ]
}