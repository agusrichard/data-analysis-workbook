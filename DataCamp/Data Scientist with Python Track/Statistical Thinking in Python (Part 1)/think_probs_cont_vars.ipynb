{
  "nbformat": 4,
  "nbformat_minor": 0,
  "metadata": {
    "colab": {
      "name": "think_probs_cont_vars.ipynb",
      "provenance": [],
      "collapsed_sections": []
    },
    "kernelspec": {
      "name": "python3",
      "display_name": "Python 3"
    }
  },
  "cells": [
    {
      "cell_type": "markdown",
      "metadata": {
        "id": "3hLl3oNwzqQR",
        "colab_type": "text"
      },
      "source": [
        "# Thinking probabilistically -- Continuous variables"
      ]
    },
    {
      "cell_type": "markdown",
      "metadata": {
        "id": "SnBY9v2i0FaG",
        "colab_type": "text"
      },
      "source": [
        "## Interpreting PDFs"
      ]
    },
    {
      "cell_type": "markdown",
      "metadata": {
        "id": "kKFWm1XQzrgv",
        "colab_type": "text"
      },
      "source": [
        "A. x  is more likely to be less than 10 than to be greater than 10."
      ]
    },
    {
      "cell_type": "markdown",
      "metadata": {
        "id": "goJ7U5Q30Gka",
        "colab_type": "text"
      },
      "source": [
        "## Interpreting CDFs"
      ]
    },
    {
      "cell_type": "markdown",
      "metadata": {
        "id": "B5QHwvfm09Xj",
        "colab_type": "text"
      },
      "source": [
        "A. 0.25"
      ]
    },
    {
      "cell_type": "markdown",
      "metadata": {
        "id": "38nUBt251DOO",
        "colab_type": "text"
      },
      "source": [
        "## The Normal PDF"
      ]
    },
    {
      "cell_type": "code",
      "metadata": {
        "id": "gSqRF7RQ2EME",
        "colab_type": "code",
        "colab": {}
      },
      "source": [
        "# Draw 100000 samples from Normal distribution with stds of interest: samples_std1, samples_std3, samples_std10\n",
        "samples_std1 = np.random.normal(20, 1, 100000)\n",
        "samples_std3 = np.random.normal(20, 3, 100000)\n",
        "samples_std10 = np.random.normal(20, 10, 100000)\n",
        "\n",
        "# Make histograms\n",
        "_ = plt.hist(samples_std1, normed=True, histtype='step', bins=100)\n",
        "_ = plt.hist(samples_std3, normed=True, histtype='step', bins=100)\n",
        "_ = plt.hist(samples_std10, normed=True, histtype='step', bins=100)\n",
        "\n",
        "_ = plt.xlabel('samples')\n",
        "_ = plt.ylabel('counts')\n",
        "_ = plt.title('normal distribution')\n",
        "\n",
        "# Make a legend, set limits and show plot\n",
        "_ = plt.legend(('std = 1', 'std = 3', 'std = 10'))\n",
        "plt.ylim(-0.01, 0.42)\n",
        "plt.show()\n"
      ],
      "execution_count": 0,
      "outputs": []
    },
    {
      "cell_type": "markdown",
      "metadata": {
        "id": "qpUavWJV4nzh",
        "colab_type": "text"
      },
      "source": [
        "## The Normal CDF"
      ]
    },
    {
      "cell_type": "code",
      "metadata": {
        "id": "QDVv4ktw4oQY",
        "colab_type": "code",
        "colab": {}
      },
      "source": [
        "# Generate CDFs\n",
        "x_std1, y_std1 = ecdf(samples_std1)\n",
        "x_std3, y_std3 = ecdf(samples_std3)\n",
        "x_std10, y_std10 = ecdf(samples_std10)\n",
        "\n",
        "# Plot CDFs\n",
        "_ = plt.plot(x_std1, y_std1, marker='.', linestyle='none')\n",
        "_ = plt.plot(x_std3, y_std3, marker='.', linestyle='none')\n",
        "_ = plt.plot(x_std10, y_std10, marker='.', linestyle='none')\n",
        "\n",
        "# Make a legend and show the plot\n",
        "_ = plt.legend(('std = 1', 'std = 3', 'std = 10'), loc='lower right')\n",
        "plt.show()\n"
      ],
      "execution_count": 0,
      "outputs": []
    },
    {
      "cell_type": "markdown",
      "metadata": {
        "id": "-WmhfZmJ6HL5",
        "colab_type": "text"
      },
      "source": [
        "## Gauss and the 10 Deutschmark banknote"
      ]
    },
    {
      "cell_type": "markdown",
      "metadata": {
        "id": "WxOly9Ym6HEj",
        "colab_type": "text"
      },
      "source": [
        "A. mean = 3, std = 1"
      ]
    },
    {
      "cell_type": "markdown",
      "metadata": {
        "id": "w2Kd2S336O3o",
        "colab_type": "text"
      },
      "source": [
        "## Are the Belmont Stakes results Normally distributed?"
      ]
    },
    {
      "cell_type": "code",
      "metadata": {
        "id": "Ot_Lgys96Rw9",
        "colab_type": "code",
        "colab": {}
      },
      "source": [
        "# Compute mean and standard deviation: mu, sigma\n",
        "mu = np.mean(belmont_no_outliers)\n",
        "sigma = np.std(belmont_no_outliers)\n",
        "\n",
        "# Sample out of a normal distribution with this mu and sigma: samples\n",
        "samples = np.random.normal(mu, sigma, size=10000)\n",
        "\n",
        "# Get the CDF of the samples and of the data\n",
        "x_theor, y_theor = ecdf(samples)\n",
        "x, y = ecdf(belmont_no_outliers)\n",
        "\n",
        "# Plot the CDFs and show the plot\n",
        "_ = plt.plot(x_theor, y_theor)\n",
        "_ = plt.plot(x, y, marker='.', linestyle='none')\n",
        "_ = plt.xlabel('Belmont winning time (sec.)')\n",
        "_ = plt.ylabel('CDF')\n",
        "plt.show()\n"
      ],
      "execution_count": 0,
      "outputs": []
    },
    {
      "cell_type": "markdown",
      "metadata": {
        "id": "n00l8Nsb7DeH",
        "colab_type": "text"
      },
      "source": [
        "## What are the chances of a horse matching or beating Secretariat's record?"
      ]
    },
    {
      "cell_type": "code",
      "metadata": {
        "id": "rsZsBwRV7D1N",
        "colab_type": "code",
        "colab": {}
      },
      "source": [
        "# Take a million samples out of the Normal distribution: samples\n",
        "samples = np.random.normal(mu, sigma, size=1000000)\n",
        "\n",
        "# Compute the fraction that are faster than 144 seconds: prob\n",
        "prob = np.sum(samples <= 144) / len(samples)\n",
        "\n",
        "# Print the result\n",
        "print('Probability of besting Secretariat:', prob)\n"
      ],
      "execution_count": 0,
      "outputs": []
    },
    {
      "cell_type": "markdown",
      "metadata": {
        "id": "NqT3IloA8Jm1",
        "colab_type": "text"
      },
      "source": [
        "## Matching a story and a distribution"
      ]
    },
    {
      "cell_type": "markdown",
      "metadata": {
        "id": "WLG1iZ128J-M",
        "colab_type": "text"
      },
      "source": [
        "B. Exponential"
      ]
    },
    {
      "cell_type": "markdown",
      "metadata": {
        "id": "wBb7zmxt8bwJ",
        "colab_type": "text"
      },
      "source": [
        "## Waiting for the next Secretariat"
      ]
    },
    {
      "cell_type": "markdown",
      "metadata": {
        "id": "sRPWEO0a8d6h",
        "colab_type": "text"
      },
      "source": [
        "D. Exponential: A horse as fast as Secretariat is a rare event, which can be modeled as a Poisson process, and the waiting time between arrivals of a Poisson process is Exponentially distributed."
      ]
    },
    {
      "cell_type": "markdown",
      "metadata": {
        "id": "WaikUfmM8x8l",
        "colab_type": "text"
      },
      "source": [
        "## If you have a story, you can simulate it!"
      ]
    },
    {
      "cell_type": "code",
      "metadata": {
        "id": "wFoDSU1x81Uq",
        "colab_type": "code",
        "colab": {}
      },
      "source": [
        "def successive_poisson(tau1, tau2, size=1):\n",
        "    \"\"\"Compute time for arrival of 2 successive Poisson processes.\"\"\"\n",
        "    # Draw samples out of first exponential distribution: t1\n",
        "    t1 = np.random.exponential(tau1, size=size)\n",
        "\n",
        "    # Draw samples out of second exponential distribution: t2\n",
        "    t2 = np.random.exponential(tau2, size=size)\n",
        "\n",
        "    return t1 + t2"
      ],
      "execution_count": 0,
      "outputs": []
    },
    {
      "cell_type": "markdown",
      "metadata": {
        "id": "i-X-ruYU9ziF",
        "colab_type": "text"
      },
      "source": [
        "## Distribution of no-hitters and cycles"
      ]
    },
    {
      "cell_type": "code",
      "metadata": {
        "id": "wbxbKxFi92yg",
        "colab_type": "code",
        "colab": {}
      },
      "source": [
        "# Draw samples of waiting times: waiting_times\n",
        "waiting_times = successive_poisson(764, 715, 100000)\n",
        "\n",
        "# Make the histogram\n",
        "_ = plt.hist(waiting_times, bins=100, normed=True, histtype='step')\n",
        "\n",
        "# Label axes\n",
        "_ = plt.xlabel('poisson')\n",
        "_ = plt.ylabel('counts')\n",
        "\n",
        "# Show the plot\n",
        "plt.show()\n"
      ],
      "execution_count": 0,
      "outputs": []
    }
  ]
}