{
  "nbformat": 4,
  "nbformat_minor": 0,
  "metadata": {
    "colab": {
      "name": "regression.ipynb",
      "provenance": []
    },
    "kernelspec": {
      "name": "python3",
      "display_name": "Python 3"
    }
  },
  "cells": [
    {
      "cell_type": "markdown",
      "metadata": {
        "id": "LanMzNuAFR8w",
        "colab_type": "text"
      },
      "source": [
        "# Regression"
      ]
    },
    {
      "cell_type": "markdown",
      "metadata": {
        "id": "czzd9TrYFOSJ",
        "colab_type": "text"
      },
      "source": [
        "## Encoding flight origin"
      ]
    },
    {
      "cell_type": "code",
      "metadata": {
        "id": "HrUVHJvsFMFr",
        "colab_type": "code",
        "colab": {}
      },
      "source": [
        "# Import the one hot encoder class\n",
        "from pyspark.ml.feature import OneHotEncoderEstimator\n",
        "\n",
        "# Create an instance of the one hot encoder\n",
        "onehot = OneHotEncoderEstimator(inputCols=['org_idx'], outputCols=['org_dummy'])\n",
        "\n",
        "# Apply the one hot encoder to the flights data\n",
        "onehot = onehot.fit(flights)\n",
        "flights_onehot = onehot.transform(flights)\n",
        "\n",
        "# Check the results\n",
        "flights_onehot.select('org', 'org_idx', 'org_dummy').distinct().sort('org_idx').show()"
      ],
      "execution_count": null,
      "outputs": []
    },
    {
      "cell_type": "markdown",
      "metadata": {
        "id": "WSpd59SPFWqp",
        "colab_type": "text"
      },
      "source": [
        "## Encoding shirt sizes"
      ]
    },
    {
      "cell_type": "markdown",
      "metadata": {
        "id": "YC095oSZFXGU",
        "colab_type": "text"
      },
      "source": [
        "D. XL shirts get index 3.0 and are one-hot encoded as (3,[3],[1.0])"
      ]
    },
    {
      "cell_type": "markdown",
      "metadata": {
        "id": "uT21aDdDFbX8",
        "colab_type": "text"
      },
      "source": [
        "## Flight duration model: Just distance"
      ]
    },
    {
      "cell_type": "code",
      "metadata": {
        "id": "8TWe5lIpFefb",
        "colab_type": "code",
        "colab": {}
      },
      "source": [
        "from pyspark.ml.regression import LinearRegression\n",
        "from pyspark.ml.evaluation import RegressionEvaluator\n",
        "\n",
        "# Create a regression object and train on training data\n",
        "regression = LinearRegression(labelCol='duration').fit(flights_train)\n",
        "\n",
        "# Create predictions for the testing data and take a look at the predictions\n",
        "predictions = regression.transform(flights_test)\n",
        "predictions.select('duration', 'prediction').show(5, False)\n",
        "\n",
        "# Calculate the RMSE\n",
        "RegressionEvaluator(labelCol='duration').evaluate(predictions)"
      ],
      "execution_count": null,
      "outputs": []
    },
    {
      "cell_type": "markdown",
      "metadata": {
        "id": "2khboLbtFmN0",
        "colab_type": "text"
      },
      "source": [
        "## Interpreting the coefficients"
      ]
    },
    {
      "cell_type": "code",
      "metadata": {
        "id": "paQREJc2Fmfc",
        "colab_type": "code",
        "colab": {}
      },
      "source": [
        "# Intercept (average minutes on ground)\n",
        "inter = regression.intercept\n",
        "print(inter)\n",
        "\n",
        "# Coefficients\n",
        "coefs = regression.coefficients\n",
        "print(coefs)\n",
        "\n",
        "# Average minutes per km\n",
        "minutes_per_km = regression.coefficients[0]\n",
        "print(minutes_per_km)\n",
        "\n",
        "# Average speed in km per hour\n",
        "avg_speed = 60 / minutes_per_km\n",
        "print(avg_speed)"
      ],
      "execution_count": null,
      "outputs": []
    },
    {
      "cell_type": "markdown",
      "metadata": {
        "id": "tqH7FF2tFuHV",
        "colab_type": "text"
      },
      "source": [
        "## Flight duration model: Adding origin airport"
      ]
    },
    {
      "cell_type": "code",
      "metadata": {
        "id": "E93ZnXPYFufF",
        "colab_type": "code",
        "colab": {}
      },
      "source": [
        "from pyspark.ml.regression import LinearRegression\n",
        "from pyspark.ml.evaluation import RegressionEvaluator\n",
        "\n",
        "# Create a regression object and train on training data\n",
        "regression = LinearRegression(labelCol='duration').fit(flights_train)\n",
        "\n",
        "# Create predictions for the testing data\n",
        "predictions = regression.transform(flights_test)\n",
        "\n",
        "# Calculate the RMSE on testing data\n",
        "RegressionEvaluator(labelCol='duration').evaluate(predictions)"
      ],
      "execution_count": null,
      "outputs": []
    },
    {
      "cell_type": "markdown",
      "metadata": {
        "id": "Man6pYgZF5U0",
        "colab_type": "text"
      },
      "source": [
        "## Interpreting coefficients"
      ]
    },
    {
      "cell_type": "code",
      "metadata": {
        "id": "AmtaIGBhGAt0",
        "colab_type": "code",
        "colab": {}
      },
      "source": [
        "# Average speed in km per hour\n",
        "avg_speed_hour = 60 / regression.coefficients[0]\n",
        "print(avg_speed_hour)\n",
        "\n",
        "# Average minutes on ground at OGG\n",
        "inter = regression.intercept\n",
        "print(inter)\n",
        "\n",
        "# Average minutes on ground at JFK\n",
        "avg_ground_jfk = inter + regression.coefficients[3]\n",
        "print(avg_ground_jfk)\n",
        "\n",
        "# Average minutes on ground at LGA\n",
        "avg_ground_lga = inter + regression.coefficients[4]\n",
        "print(avg_ground_lga)"
      ],
      "execution_count": null,
      "outputs": []
    },
    {
      "cell_type": "markdown",
      "metadata": {
        "id": "nyB7ozC3GIn9",
        "colab_type": "text"
      },
      "source": [
        "## Bucketing departure time"
      ]
    },
    {
      "cell_type": "code",
      "metadata": {
        "id": "DfvsUe0bGI5D",
        "colab_type": "code",
        "colab": {}
      },
      "source": [
        "from pyspark.ml.feature import Bucketizer, OneHotEncoderEstimator\n",
        "\n",
        "# Create buckets at 3 hour intervals through the day\n",
        "buckets = Bucketizer(splits=[0, 3, 6, 9, 12, 15, 18, 21, 24], inputCol='depart', outputCol='depart_bucket')\n",
        "\n",
        "# Bucket the departure times\n",
        "bucketed = buckets.transform(flights)\n",
        "bucketed.select('depart', 'depart_bucket').show(5)\n",
        "\n",
        "# Create a one-hot encoder\n",
        "onehot = OneHotEncoderEstimator(inputCols=['depart_bucket'], outputCols=['depart_dummy'])\n",
        "\n",
        "# One-hot encode the bucketed departure times\n",
        "flights_onehot = onehot.fit(bucketed).transform(bucketed)\n",
        "flights_onehot.select('depart', 'depart_bucket', 'depart_dummy').show(5)"
      ],
      "execution_count": null,
      "outputs": []
    },
    {
      "cell_type": "markdown",
      "metadata": {
        "id": "Sw7UTRbTGMHF",
        "colab_type": "text"
      },
      "source": [
        "## Flight duration model: Adding departure time"
      ]
    },
    {
      "cell_type": "code",
      "metadata": {
        "id": "QLN9xU0hGMjB",
        "colab_type": "code",
        "colab": {}
      },
      "source": [
        "# Find the RMSE on testing data\n",
        "from pyspark.ml.evaluation import RegressionEvaluator\n",
        "RegressionEvaluator(labelCol='duration').evaluate(predictions)\n",
        "\n",
        "# Average minutes on ground at OGG for flights departing between 21:00 and 24:00\n",
        "avg_eve_ogg = regression.intercept\n",
        "print(avg_eve_ogg)\n",
        "\n",
        "# Average minutes on ground at OGG for flights departing between 00:00 and 03:00\n",
        "avg_night_ogg = regression.intercept + regression.coefficients[8]\n",
        "print(avg_night_ogg)\n",
        "\n",
        "# Average minutes on ground at JFK for flights departing between 00:00 and 03:00\n",
        "avg_night_jfk = regression.intercept + regression.coefficients[8] + regression.coefficients[3]\n",
        "print(avg_night_jfk)"
      ],
      "execution_count": null,
      "outputs": []
    },
    {
      "cell_type": "markdown",
      "metadata": {
        "id": "j3SEjxOkGUYt",
        "colab_type": "text"
      },
      "source": [
        "## Flight duration model: More features!"
      ]
    },
    {
      "cell_type": "code",
      "metadata": {
        "id": "RZHVt7fTGUxr",
        "colab_type": "code",
        "colab": {}
      },
      "source": [
        "from pyspark.ml.regression import LinearRegression\n",
        "from pyspark.ml.evaluation import RegressionEvaluator\n",
        "\n",
        "# Fit linear regression model to training data\n",
        "regression = LinearRegression(labelCol='duration').fit(flights_train)\n",
        "\n",
        "# Make predictions on testing data\n",
        "predictions = regression.transform(flights_test)\n",
        "\n",
        "# Calculate the RMSE on testing data\n",
        "rmse = RegressionEvaluator(labelCol='duration').evaluate(predictions)\n",
        "print(\"The test RMSE is\", rmse)\n",
        "\n",
        "# Look at the model coefficients\n",
        "coeffs = regression.coefficients\n",
        "print(coeffs)"
      ],
      "execution_count": null,
      "outputs": []
    },
    {
      "cell_type": "markdown",
      "metadata": {
        "id": "laeMMHxxGa5C",
        "colab_type": "text"
      },
      "source": [
        "## Flight duration model: Regularisation!"
      ]
    },
    {
      "cell_type": "code",
      "metadata": {
        "id": "iHtp-7srGbR5",
        "colab_type": "code",
        "colab": {}
      },
      "source": [
        "from pyspark.ml.regression import LinearRegression\n",
        "from pyspark.ml.evaluation import RegressionEvaluator\n",
        "\n",
        "# Fit Lasso model (α = 1) to training data\n",
        "regression = LinearRegression(labelCol='duration', regParam=1, elasticNetParam=1).fit(flights_train)\n",
        "\n",
        "# Calculate the RMSE on testing data\n",
        "rmse = RegressionEvaluator(labelCol='duration').evaluate(regression.transform(flights_test))\n",
        "print(\"The test RMSE is\", rmse)\n",
        "\n",
        "# Look at the model coefficients\n",
        "coeffs = regression.coefficients\n",
        "print(coeffs)\n",
        "\n",
        "# Number of zero coefficients\n",
        "zero_coeff = sum([beta == 0 for beta in regression.coefficients])\n",
        "print(\"Number of coefficients equal to 0:\", zero_coeff)"
      ],
      "execution_count": null,
      "outputs": []
    }
  ]
}