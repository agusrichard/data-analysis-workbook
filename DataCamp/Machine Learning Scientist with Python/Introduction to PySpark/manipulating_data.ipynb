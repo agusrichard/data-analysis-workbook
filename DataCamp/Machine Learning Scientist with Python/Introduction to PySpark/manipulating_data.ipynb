{
  "nbformat": 4,
  "nbformat_minor": 0,
  "metadata": {
    "colab": {
      "name": "manipulating_data.ipynb",
      "provenance": []
    },
    "kernelspec": {
      "name": "python3",
      "display_name": "Python 3"
    }
  },
  "cells": [
    {
      "cell_type": "markdown",
      "metadata": {
        "id": "OBRs7MY1Lc-_",
        "colab_type": "text"
      },
      "source": [
        "# Manipulating data"
      ]
    },
    {
      "cell_type": "markdown",
      "metadata": {
        "id": "Ovt2Y_-3LiUs",
        "colab_type": "text"
      },
      "source": [
        "## Creating columns"
      ]
    },
    {
      "cell_type": "code",
      "metadata": {
        "id": "HqAlZH-FMyfq",
        "colab_type": "code",
        "colab": {}
      },
      "source": [
        "# Create the DataFrame flights\n",
        "flights = spark.table('flights')\n",
        "\n",
        "# Show the head\n",
        "flights.show()\n",
        "\n",
        "# Add duration_hrs\n",
        "flights = flights.withColumn('duration_hrs', flights.air_time / 60)"
      ],
      "execution_count": null,
      "outputs": []
    },
    {
      "cell_type": "markdown",
      "metadata": {
        "id": "5lD5J5avNeSc",
        "colab_type": "text"
      },
      "source": [
        "## SQL in a nutshell"
      ]
    },
    {
      "cell_type": "markdown",
      "metadata": {
        "id": "5paKCKxXNeqF",
        "colab_type": "text"
      },
      "source": [
        "B. SELECT dest, tail_num FROM flights WHERE air_time > 600;"
      ]
    },
    {
      "cell_type": "markdown",
      "metadata": {
        "id": "dah-7iWAQVJI",
        "colab_type": "text"
      },
      "source": [
        "## SQL in a nutshell (2)"
      ]
    },
    {
      "cell_type": "markdown",
      "metadata": {
        "id": "SMYmuETmQMVT",
        "colab_type": "text"
      },
      "source": [
        "A. The average length of each airline's flights from SEA and from PDX in hours."
      ]
    },
    {
      "cell_type": "markdown",
      "metadata": {
        "id": "mgwg6tVnQUBv",
        "colab_type": "text"
      },
      "source": [
        "## Filtering Data"
      ]
    },
    {
      "cell_type": "code",
      "metadata": {
        "id": "k8fRohMLQY85",
        "colab_type": "code",
        "colab": {}
      },
      "source": [
        "# Filter flights by passing a string\n",
        "long_flights1 = flights.filter('distance > 1000')\n",
        "\n",
        "# Filter flights by passing a column of boolean values\n",
        "long_flights2 = flights.filter(flights.distance > 1000)\n",
        "\n",
        "# Print the data to check they're equal\n",
        "long_flights1.show()\n",
        "long_flights2.show()"
      ],
      "execution_count": null,
      "outputs": []
    },
    {
      "cell_type": "markdown",
      "metadata": {
        "id": "KSRJXin2Q_Y2",
        "colab_type": "text"
      },
      "source": [
        "## Selecting"
      ]
    },
    {
      "cell_type": "code",
      "metadata": {
        "id": "vD2SxqyyQ_tq",
        "colab_type": "code",
        "colab": {}
      },
      "source": [
        "# Select the first set of columns\n",
        "selected1 = flights.select('tailnum', 'origin', 'dest')\n",
        "\n",
        "# Select the second set of columns\n",
        "temp = flights.select(flights.origin, flights.dest, flights.carrier)\n",
        "\n",
        "# Define first filter\n",
        "filterA = flights.origin == \"SEA\"\n",
        "\n",
        "# Define second filter\n",
        "filterB = flights.dest == \"PDX\"\n",
        "\n",
        "# Filter the data, first by filterA then by filterB\n",
        "selected2 = temp.filter(filterA).filter(filterB)"
      ],
      "execution_count": null,
      "outputs": []
    },
    {
      "cell_type": "markdown",
      "metadata": {
        "id": "06yJCwtjRqcY",
        "colab_type": "text"
      },
      "source": [
        "## Selecting II"
      ]
    },
    {
      "cell_type": "code",
      "metadata": {
        "id": "TnvKBbtCRq5h",
        "colab_type": "code",
        "colab": {}
      },
      "source": [
        "# Define avg_speed\n",
        "avg_speed = (flights.distance/(flights.air_time/60)).alias(\"avg_speed\")\n",
        "\n",
        "# Select the correct columns\n",
        "speed1 = flights.select(\"origin\", \"dest\", \"tailnum\", avg_speed)\n",
        "\n",
        "# Create the same table using a SQL expression\n",
        "speed2 = flights.selectExpr(\"origin\", \"dest\", \"tailnum\", \"distance/(air_time/60) as avg_speed\")"
      ],
      "execution_count": null,
      "outputs": []
    },
    {
      "cell_type": "markdown",
      "metadata": {
        "id": "KWA4IGynSHt1",
        "colab_type": "text"
      },
      "source": [
        "## Aggregating"
      ]
    },
    {
      "cell_type": "code",
      "metadata": {
        "id": "AbxAVne2SIJl",
        "colab_type": "code",
        "colab": {}
      },
      "source": [
        "# Find the shortest flight from PDX in terms of distance\n",
        "flights.filter(flights.origin == 'PDX').groupBy().min('distance').show()\n",
        "\n",
        "# Find the longest flight from SEA in terms of air time\n",
        "flights.filter(flights.origin == 'SEA').groupBy().max('air_time').show()"
      ],
      "execution_count": null,
      "outputs": []
    },
    {
      "cell_type": "markdown",
      "metadata": {
        "id": "Inj964AuS3JS",
        "colab_type": "text"
      },
      "source": [
        "## Aggregating II"
      ]
    },
    {
      "cell_type": "code",
      "metadata": {
        "id": "QiU2pDmjS3hj",
        "colab_type": "code",
        "colab": {}
      },
      "source": [
        "# Average duration of Delta flights\n",
        "flights.filter(flights.carrier == \"DL\").filter(flights.origin == \"SEA\").groupBy().avg(\"air_time\").show()\n",
        "\n",
        "# Total hours in the air\n",
        "flights.withColumn(\"duration_hrs\", flights.air_time/60).groupBy().sum(\"duration_hrs\").show()"
      ],
      "execution_count": null,
      "outputs": []
    },
    {
      "cell_type": "markdown",
      "metadata": {
        "id": "CEPv-YMAT3zm",
        "colab_type": "text"
      },
      "source": [
        "## Grouping and Aggregating I"
      ]
    },
    {
      "cell_type": "code",
      "metadata": {
        "id": "RUWDnxRpT4HR",
        "colab_type": "code",
        "colab": {}
      },
      "source": [
        "# Group by tailnum\n",
        "by_plane = flights.groupBy(\"tailnum\")\n",
        "\n",
        "# Number of flights each plane made\n",
        "by_plane.count().show()\n",
        "\n",
        "# Group by origin\n",
        "by_origin = flights.groupBy(\"origin\")\n",
        "\n",
        "# Average duration of flights from PDX and SEA\n",
        "by_origin.avg(\"air_time\").show()"
      ],
      "execution_count": null,
      "outputs": []
    },
    {
      "cell_type": "markdown",
      "metadata": {
        "id": "OIA_mddhT8Rh",
        "colab_type": "text"
      },
      "source": [
        "## Grouping and Aggregating II"
      ]
    },
    {
      "cell_type": "code",
      "metadata": {
        "id": "UPzrjP5jT8ov",
        "colab_type": "code",
        "colab": {}
      },
      "source": [
        "# Import pyspark.sql.functions as F\n",
        "import pyspark.sql.functions as F\n",
        "\n",
        "# Group by month and dest\n",
        "by_month_dest = flights.groupBy('month', 'dest')\n",
        "\n",
        "# Average departure delay by month and destination\n",
        "by_month_dest.avg('dep_delay').show()\n",
        "\n",
        "# Standard deviation of departure delay\n",
        "by_month_dest.agg(F.stddev('dep_delay')).show()"
      ],
      "execution_count": null,
      "outputs": []
    },
    {
      "cell_type": "markdown",
      "metadata": {
        "id": "cTUUmvomUSFo",
        "colab_type": "text"
      },
      "source": [
        "## Joining"
      ]
    },
    {
      "cell_type": "markdown",
      "metadata": {
        "id": "zVd6ImUCUSht",
        "colab_type": "text"
      },
      "source": [
        "D. There is only one kind of join."
      ]
    },
    {
      "cell_type": "markdown",
      "metadata": {
        "id": "Cz5_diZhUmU2",
        "colab_type": "text"
      },
      "source": [
        "## Joining II"
      ]
    },
    {
      "cell_type": "code",
      "metadata": {
        "id": "MbAuN6grUpgT",
        "colab_type": "code",
        "colab": {}
      },
      "source": [
        "# Examine the data\n",
        "airports.show()\n",
        "\n",
        "# Rename the faa column\n",
        "airports = airports.withColumnRenamed(\"faa\", \"dest\")\n",
        "\n",
        "# Join the DataFrames\n",
        "flights_with_airports = flights.join(airports, on=\"dest\", how=\"leftouter\")\n",
        "\n",
        "# Examine the new DataFrame\n",
        "flights_with_airports.show()"
      ],
      "execution_count": null,
      "outputs": []
    }
  ]
}