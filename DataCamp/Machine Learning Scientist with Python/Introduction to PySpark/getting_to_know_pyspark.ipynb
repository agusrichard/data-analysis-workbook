{
  "nbformat": 4,
  "nbformat_minor": 0,
  "metadata": {
    "colab": {
      "name": "getting_to_know_pyspark.ipynb",
      "provenance": []
    },
    "kernelspec": {
      "name": "python3",
      "display_name": "Python 3"
    }
  },
  "cells": [
    {
      "cell_type": "markdown",
      "metadata": {
        "id": "uIDY0BpgFKAP",
        "colab_type": "text"
      },
      "source": [
        "# Getting to know PySpark\n"
      ]
    },
    {
      "cell_type": "markdown",
      "metadata": {
        "id": "2snMT8keFkQr",
        "colab_type": "text"
      },
      "source": [
        "## What is Spark, anyway?"
      ]
    },
    {
      "cell_type": "markdown",
      "metadata": {
        "id": "KgR_hM5oF3E_",
        "colab_type": "text"
      },
      "source": [
        "B. Yes way!"
      ]
    },
    {
      "cell_type": "markdown",
      "metadata": {
        "id": "NJnjlljaHJjA",
        "colab_type": "text"
      },
      "source": [
        "## Using Spark in Python"
      ]
    },
    {
      "cell_type": "markdown",
      "metadata": {
        "id": "BGkkoQpyHL4z",
        "colab_type": "text"
      },
      "source": [
        "A. Create an instance of the SparkContext class."
      ]
    },
    {
      "cell_type": "markdown",
      "metadata": {
        "id": "Olki6gdpHobi",
        "colab_type": "text"
      },
      "source": [
        "## Examining The SparkContext"
      ]
    },
    {
      "cell_type": "code",
      "metadata": {
        "id": "aaWXNySpHqOk",
        "colab_type": "code",
        "colab": {}
      },
      "source": [
        "# Verify SparkContext\n",
        "print(sc)\n",
        "\n",
        "# Print Spark version\n",
        "print(sc.version)"
      ],
      "execution_count": null,
      "outputs": []
    },
    {
      "cell_type": "markdown",
      "metadata": {
        "id": "ydfIk9QkH7ri",
        "colab_type": "text"
      },
      "source": [
        "## Using DataFrames"
      ]
    },
    {
      "cell_type": "markdown",
      "metadata": {
        "id": "epsO_speH8C4",
        "colab_type": "text"
      },
      "source": [
        "A. Operations using DataFrames are automatically optimized."
      ]
    },
    {
      "cell_type": "markdown",
      "metadata": {
        "id": "Cxhj2KLvIYPQ",
        "colab_type": "text"
      },
      "source": [
        "## Creating a SparkSession"
      ]
    },
    {
      "cell_type": "code",
      "metadata": {
        "id": "Yd8sWf7TIaZt",
        "colab_type": "code",
        "colab": {}
      },
      "source": [
        "# Import SparkSession from pyspark.sql\n",
        "from pyspark.sql import SparkSession\n",
        "\n",
        "# Create my_spark\n",
        "my_spark = SparkSession.builder.getOrCreate()\n",
        "\n",
        "# Print my_spark\n",
        "print(my_spark)"
      ],
      "execution_count": null,
      "outputs": []
    },
    {
      "cell_type": "markdown",
      "metadata": {
        "id": "oS64qNzoIvD4",
        "colab_type": "text"
      },
      "source": [
        "## Viewing tables"
      ]
    },
    {
      "cell_type": "code",
      "metadata": {
        "id": "Jn3PjfuHIvZ1",
        "colab_type": "code",
        "colab": {}
      },
      "source": [
        "# Print the tables in the catalog\n",
        "print(spark.catalog.listTables())"
      ],
      "execution_count": null,
      "outputs": []
    },
    {
      "cell_type": "markdown",
      "metadata": {
        "id": "FIzOuKKmI_kX",
        "colab_type": "text"
      },
      "source": [
        "## Are you query-ious?"
      ]
    },
    {
      "cell_type": "code",
      "metadata": {
        "id": "j9-QWY_-I_65",
        "colab_type": "code",
        "colab": {}
      },
      "source": [
        "# Don't change this query\n",
        "query = \"FROM flights SELECT * LIMIT 10\"\n",
        "\n",
        "# Get the first 10 rows of flights\n",
        "flights10 = spark.sql(query)\n",
        "\n",
        "# Show the results\n",
        "flights10.show()"
      ],
      "execution_count": null,
      "outputs": []
    },
    {
      "cell_type": "markdown",
      "metadata": {
        "id": "9PpvsnnkJdNm",
        "colab_type": "text"
      },
      "source": [
        "## Pandafy a Spark DataFrame"
      ]
    },
    {
      "cell_type": "code",
      "metadata": {
        "id": "68B0nsV8JdlF",
        "colab_type": "code",
        "colab": {}
      },
      "source": [
        "# Don't change this query\n",
        "query = \"SELECT origin, dest, COUNT(*) as N FROM flights GROUP BY origin, dest\"\n",
        "\n",
        "# Run the query\n",
        "flight_counts = spark.sql(query)\n",
        "\n",
        "# Convert the results to a pandas DataFrame\n",
        "pd_counts = flight_counts.toPandas()\n",
        "\n",
        "# Print the head of pd_counts\n",
        "print(pd_counts.head())"
      ],
      "execution_count": null,
      "outputs": []
    },
    {
      "cell_type": "markdown",
      "metadata": {
        "id": "FcKngksGJt6P",
        "colab_type": "text"
      },
      "source": [
        "## Put some Spark in your data"
      ]
    },
    {
      "cell_type": "code",
      "metadata": {
        "id": "t7cAEyoqJuTI",
        "colab_type": "code",
        "colab": {}
      },
      "source": [
        "# Create pd_temp\n",
        "pd_temp = pd.DataFrame(np.random.random(10))\n",
        "\n",
        "# Create spark_temp from pd_temp\n",
        "spark_temp = spark.createDataFrame(pd_temp)\n",
        "\n",
        "# Examine the tables in the catalog\n",
        "print(spark.catalog.listTables())\n",
        "\n",
        "# Add spark_temp to the catalog\n",
        "spark_temp.createOrReplaceTempView('temp')\n",
        "\n",
        "# Examine the tables in the catalog again\n",
        "print(spark.catalog.listTables())"
      ],
      "execution_count": null,
      "outputs": []
    },
    {
      "cell_type": "markdown",
      "metadata": {
        "id": "GNr762HVK6i2",
        "colab_type": "text"
      },
      "source": [
        "## Dropping the middle man"
      ]
    },
    {
      "cell_type": "code",
      "metadata": {
        "id": "KXaQ212nK640",
        "colab_type": "code",
        "colab": {}
      },
      "source": [
        "# Don't change this file path\n",
        "file_path = \"/usr/local/share/datasets/airports.csv\"\n",
        "\n",
        "# Read in the airports data\n",
        "airports = spark.read.csv(file_path, header=True)\n",
        "\n",
        "# Show the data\n",
        "airports.show()"
      ],
      "execution_count": null,
      "outputs": []
    }
  ]
}