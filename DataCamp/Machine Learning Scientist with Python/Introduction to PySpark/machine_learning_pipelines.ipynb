{
  "nbformat": 4,
  "nbformat_minor": 0,
  "metadata": {
    "colab": {
      "name": "machine_learning_pipelines.ipynb",
      "provenance": []
    },
    "kernelspec": {
      "name": "python3",
      "display_name": "Python 3"
    }
  },
  "cells": [
    {
      "cell_type": "markdown",
      "metadata": {
        "id": "iE6yX2b5W3Nf",
        "colab_type": "text"
      },
      "source": [
        "# Getting started with machine learning pipelines"
      ]
    },
    {
      "cell_type": "markdown",
      "metadata": {
        "id": "o9BPf1jiXXi3",
        "colab_type": "text"
      },
      "source": [
        "## Machine Learning Pipelines"
      ]
    },
    {
      "cell_type": "markdown",
      "metadata": {
        "id": "hctMMkilXZrd",
        "colab_type": "text"
      },
      "source": [
        "A. Spark's algorithms give better results than other algorithms."
      ]
    },
    {
      "cell_type": "markdown",
      "metadata": {
        "id": "ynyoTdrUXgzO",
        "colab_type": "text"
      },
      "source": [
        "## Join the DataFrames"
      ]
    },
    {
      "cell_type": "code",
      "metadata": {
        "id": "sTlq5LmSXjua",
        "colab_type": "code",
        "colab": {}
      },
      "source": [
        "# Rename year column\n",
        "planes = planes.withColumnRenamed('year', 'plane_year')\n",
        "\n",
        "# Join the DataFrames\n",
        "model_data = flights.join(planes, on='tailnum', how=\"leftouter\")"
      ],
      "execution_count": null,
      "outputs": []
    },
    {
      "cell_type": "markdown",
      "metadata": {
        "id": "eVz_7e2rYeIw",
        "colab_type": "text"
      },
      "source": [
        "## Data types"
      ]
    },
    {
      "cell_type": "markdown",
      "metadata": {
        "id": "0HOk_FygYekL",
        "colab_type": "text"
      },
      "source": [
        "D. Numeric"
      ]
    },
    {
      "cell_type": "markdown",
      "metadata": {
        "id": "kC-6C4j9YuDP",
        "colab_type": "text"
      },
      "source": [
        "## String to integer"
      ]
    },
    {
      "cell_type": "code",
      "metadata": {
        "id": "nJSBYRI_Yv4N",
        "colab_type": "code",
        "colab": {}
      },
      "source": [
        "# Cast the columns to integers\n",
        "model_data = model_data.withColumn(\"arr_delay\", model_data.arr_delay.cast('integer'))\n",
        "model_data = model_data.withColumn(\"air_time\", model_data.air_time.cast('integer'))\n",
        "model_data = model_data.withColumn(\"month\", model_data.month.cast('integer'))\n",
        "model_data = model_data.withColumn(\"plane_year\", model_data.plane_year.cast('integer'))"
      ],
      "execution_count": null,
      "outputs": []
    },
    {
      "cell_type": "markdown",
      "metadata": {
        "id": "6EVJBRr6ZLdm",
        "colab_type": "text"
      },
      "source": [
        "## Create a new column"
      ]
    },
    {
      "cell_type": "code",
      "metadata": {
        "id": "ZTzWlOAIZMNS",
        "colab_type": "code",
        "colab": {}
      },
      "source": [
        "# Create the column plane_age\n",
        "model_data = model_data.withColumn(\"plane_age\", model_data.year - model_data.plane_year)"
      ],
      "execution_count": null,
      "outputs": []
    },
    {
      "cell_type": "markdown",
      "metadata": {
        "id": "aIdkB3nZZaM1",
        "colab_type": "text"
      },
      "source": [
        "## Making a Boolean"
      ]
    },
    {
      "cell_type": "code",
      "metadata": {
        "id": "deJIVZMUZanx",
        "colab_type": "code",
        "colab": {}
      },
      "source": [
        "# Create is_late\n",
        "model_data = model_data.withColumn(\"is_late\", model_data.arr_delay > 0)\n",
        "\n",
        "# Convert to an integer\n",
        "model_data = model_data.withColumn(\"label\", model_data.is_late.cast('integer'))\n",
        "\n",
        "# Remove missing values\n",
        "model_data = model_data.filter(\"arr_delay is not NULL and dep_delay is not NULL and air_time is not NULL and plane_year is not NULL\")"
      ],
      "execution_count": null,
      "outputs": []
    },
    {
      "cell_type": "markdown",
      "metadata": {
        "id": "jfAOuf1yZq9l",
        "colab_type": "text"
      },
      "source": [
        "## Strings and factors"
      ]
    },
    {
      "cell_type": "markdown",
      "metadata": {
        "id": "oZxS-v1zZrYV",
        "colab_type": "text"
      },
      "source": [
        "B. Spark can only model numeric features"
      ]
    },
    {
      "cell_type": "markdown",
      "metadata": {
        "id": "wJI-Yig-Z-9Q",
        "colab_type": "text"
      },
      "source": [
        "## Carrier"
      ]
    },
    {
      "cell_type": "code",
      "metadata": {
        "id": "mn4U0iICaBpM",
        "colab_type": "code",
        "colab": {}
      },
      "source": [
        "# Create a StringIndexer\n",
        "carr_indexer = StringIndexer(inputCol='carrier', outputCol='carrier_index')\n",
        "\n",
        "# Create a OneHotEncoder\n",
        "carr_encoder = OneHotEncoder(inputCol='carrier_index', outputCol='carrier_fact')"
      ],
      "execution_count": null,
      "outputs": []
    },
    {
      "cell_type": "markdown",
      "metadata": {
        "id": "gSCrZw3paZgN",
        "colab_type": "text"
      },
      "source": [
        "## Destination"
      ]
    },
    {
      "cell_type": "code",
      "metadata": {
        "id": "Q4wYhj44aZ2Y",
        "colab_type": "code",
        "colab": {}
      },
      "source": [
        "# Create a StringIndexer\n",
        "dest_indexer = StringIndexer(inputCol='dest', outputCol='dest_index')\n",
        "\n",
        "# Create a OneHotEncoder\n",
        "dest_encoder = OneHotEncoder(inputCol='dest_index', outputCol='dest_fact')"
      ],
      "execution_count": null,
      "outputs": []
    },
    {
      "cell_type": "markdown",
      "metadata": {
        "id": "YP1TtlNLam0G",
        "colab_type": "text"
      },
      "source": [
        "## Assemble a vector"
      ]
    },
    {
      "cell_type": "code",
      "metadata": {
        "id": "Mg6SUeLjanLy",
        "colab_type": "code",
        "colab": {}
      },
      "source": [
        "# Make a VectorAssembler\n",
        "vec_assembler = VectorAssembler(inputCols=[\"month\", \"air_time\", \"carrier_fact\", \"dest_fact\", \"plane_age\"], outputCol='features')"
      ],
      "execution_count": null,
      "outputs": []
    },
    {
      "cell_type": "markdown",
      "metadata": {
        "id": "FliCJ3rTa5Fp",
        "colab_type": "text"
      },
      "source": [
        "## Create the pipeline"
      ]
    },
    {
      "cell_type": "code",
      "metadata": {
        "id": "QS3a2oGDa5pb",
        "colab_type": "code",
        "colab": {}
      },
      "source": [
        "# Import Pipeline\n",
        "from pyspark.ml import Pipeline\n",
        "\n",
        "# Make the pipeline\n",
        "flights_pipe = Pipeline(stages=[dest_indexer, dest_encoder, carr_indexer, carr_encoder, vec_assembler]\n",
        ")"
      ],
      "execution_count": null,
      "outputs": []
    },
    {
      "cell_type": "markdown",
      "metadata": {
        "id": "06hp6jhQbDhJ",
        "colab_type": "text"
      },
      "source": [
        "## Test vs Train"
      ]
    },
    {
      "cell_type": "markdown",
      "metadata": {
        "id": "5-dHNl03bD3O",
        "colab_type": "text"
      },
      "source": [
        "B. By evaluating your model with a test set you can get a good idea of performance on new data."
      ]
    },
    {
      "cell_type": "markdown",
      "metadata": {
        "id": "3tDAvfp9bRxb",
        "colab_type": "text"
      },
      "source": [
        "## Transform the data"
      ]
    },
    {
      "cell_type": "code",
      "metadata": {
        "id": "rU-W9d4HbT1k",
        "colab_type": "code",
        "colab": {}
      },
      "source": [
        "# Fit and transform the data\n",
        "piped_data = flights_pipe.fit(model_data).transform(model_data)"
      ],
      "execution_count": null,
      "outputs": []
    },
    {
      "cell_type": "markdown",
      "metadata": {
        "id": "Tnw0m0Xtbhfj",
        "colab_type": "text"
      },
      "source": [
        "## Split the data"
      ]
    },
    {
      "cell_type": "code",
      "metadata": {
        "id": "0D4l6nK5bh3c",
        "colab_type": "code",
        "colab": {}
      },
      "source": [
        "# Split the data into training and test sets\n",
        "training, test = piped_data.randomSplit([0.6, 0.4])"
      ],
      "execution_count": null,
      "outputs": []
    }
  ]
}