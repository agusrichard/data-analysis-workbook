{
  "nbformat": 4,
  "nbformat_minor": 0,
  "metadata": {
    "colab": {
      "name": "model_tuning_and_selection.ipynb",
      "provenance": []
    },
    "kernelspec": {
      "name": "python3",
      "display_name": "Python 3"
    }
  },
  "cells": [
    {
      "cell_type": "markdown",
      "metadata": {
        "id": "tG3Fc7zVbto8",
        "colab_type": "text"
      },
      "source": [
        "# Model tuning and selection\n"
      ]
    },
    {
      "cell_type": "markdown",
      "metadata": {
        "id": "0EGZXpXBbxMC",
        "colab_type": "text"
      },
      "source": [
        "## What is logistic regression?"
      ]
    },
    {
      "cell_type": "markdown",
      "metadata": {
        "id": "4or3FCC_cB16",
        "colab_type": "text"
      },
      "source": [
        "B. They improve model performance."
      ]
    },
    {
      "cell_type": "markdown",
      "metadata": {
        "id": "K1Ae_O8DcEqP",
        "colab_type": "text"
      },
      "source": [
        "## Create the modeler"
      ]
    },
    {
      "cell_type": "code",
      "metadata": {
        "id": "L5w6u6tccJPA",
        "colab_type": "code",
        "colab": {}
      },
      "source": [
        "# Import LogisticRegression\n",
        "from pyspark.ml.classification import LogisticRegression\n",
        "\n",
        "# Create a LogisticRegression Estimator\n",
        "lr = LogisticRegression()"
      ],
      "execution_count": null,
      "outputs": []
    },
    {
      "cell_type": "markdown",
      "metadata": {
        "id": "0C1U0DiTcPPZ",
        "colab_type": "text"
      },
      "source": [
        "## Cross validation"
      ]
    },
    {
      "cell_type": "markdown",
      "metadata": {
        "id": "1AorOPaKcPoh",
        "colab_type": "text"
      },
      "source": [
        "A. The model's error on held out data."
      ]
    },
    {
      "cell_type": "markdown",
      "metadata": {
        "id": "Oi2lO9NccdjS",
        "colab_type": "text"
      },
      "source": [
        "## Create the evaluator"
      ]
    },
    {
      "cell_type": "code",
      "metadata": {
        "id": "a3PD6akJcfeE",
        "colab_type": "code",
        "colab": {}
      },
      "source": [
        "# Import the evaluation submodule\n",
        "import pyspark.ml.evaluation as evals\n",
        "\n",
        "# Create a BinaryClassificationEvaluator\n",
        "evaluator = evals.BinaryClassificationEvaluator(metricName='areaUnderROC')"
      ],
      "execution_count": null,
      "outputs": []
    },
    {
      "cell_type": "markdown",
      "metadata": {
        "id": "uIpkasg1u7fw",
        "colab_type": "text"
      },
      "source": [
        "## Make a grid"
      ]
    },
    {
      "cell_type": "code",
      "metadata": {
        "id": "oi7tvkEWu74b",
        "colab_type": "code",
        "colab": {}
      },
      "source": [
        "# Import the tuning submodule\n",
        "import pyspark.ml.tuning as tune\n",
        "\n",
        "# Create the parameter grid\n",
        "grid = tune.ParamGridBuilder()\n",
        "\n",
        "# Add the hyperparameter\n",
        "grid = grid.addGrid(lr.regParam, np.arange(0, .1, .01))\n",
        "grid = grid.addGrid(lr.elasticNetParam, [0, 1])\n",
        "\n",
        "# Build the grid\n",
        "grid = grid.build()"
      ],
      "execution_count": null,
      "outputs": []
    },
    {
      "cell_type": "markdown",
      "metadata": {
        "id": "i_oaZiKSwNkk",
        "colab_type": "text"
      },
      "source": [
        "## Make the validator"
      ]
    },
    {
      "cell_type": "code",
      "metadata": {
        "id": "7Z9CiuU7wOTE",
        "colab_type": "code",
        "colab": {}
      },
      "source": [
        "# Create the CrossValidator\n",
        "cv = tune.CrossValidator(estimator=lr,\n",
        "               estimatorParamMaps=grid,\n",
        "               evaluator=evaluator\n",
        "               )"
      ],
      "execution_count": null,
      "outputs": []
    },
    {
      "cell_type": "markdown",
      "metadata": {
        "id": "fM-cF9X4wcUQ",
        "colab_type": "text"
      },
      "source": [
        "## Fit the model(s)"
      ]
    },
    {
      "cell_type": "code",
      "metadata": {
        "id": "1mpjlTIDwcqS",
        "colab_type": "code",
        "colab": {}
      },
      "source": [
        "# Call lr.fit()\n",
        "best_lr = cv.fit(training)\n",
        "\n",
        "# Print best_lr\n",
        "print(best_lr)"
      ],
      "execution_count": null,
      "outputs": []
    },
    {
      "cell_type": "markdown",
      "metadata": {
        "id": "RMrqLRjJxmdU",
        "colab_type": "text"
      },
      "source": [
        "## Evaluating binary classifiers"
      ]
    },
    {
      "cell_type": "markdown",
      "metadata": {
        "id": "6tQHnzHSxmzd",
        "colab_type": "text"
      },
      "source": [
        "B. 1"
      ]
    },
    {
      "cell_type": "markdown",
      "metadata": {
        "id": "t_VwiTHwxssv",
        "colab_type": "text"
      },
      "source": [
        "## Evaluate the model"
      ]
    },
    {
      "cell_type": "code",
      "metadata": {
        "id": "2LeVefNTxuaK",
        "colab_type": "code",
        "colab": {}
      },
      "source": [
        "# Use the model to predict the test set\n",
        "test_results = best_lr.transform(test)\n",
        "\n",
        "# Evaluate the predictions\n",
        "print(evaluator.evaluate(test_results))"
      ],
      "execution_count": null,
      "outputs": []
    }
  ]
}