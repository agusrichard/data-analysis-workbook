{
  "nbformat": 4,
  "nbformat_minor": 0,
  "metadata": {
    "colab": {
      "name": "dealing_with_messy_data.ipynb",
      "provenance": []
    },
    "kernelspec": {
      "name": "python3",
      "display_name": "Python 3"
    }
  },
  "cells": [
    {
      "cell_type": "markdown",
      "metadata": {
        "id": "HwH2vKQlnSN0",
        "colab_type": "text"
      },
      "source": [
        "# Dealing with Messy Data"
      ]
    },
    {
      "cell_type": "markdown",
      "metadata": {
        "id": "9pGavlmjmqFG",
        "colab_type": "text"
      },
      "source": [
        "## How sparse is my data?"
      ]
    },
    {
      "cell_type": "code",
      "metadata": {
        "id": "my1At9AfnQS2",
        "colab_type": "code",
        "colab": {}
      },
      "source": [
        "# Subset the DataFrame\n",
        "sub_df = so_survey_df[['Age', 'Gender']]\n",
        "\n",
        "# Print the number of non-missing values\n",
        "print(sub_df.notnull().sum())"
      ],
      "execution_count": 0,
      "outputs": []
    },
    {
      "cell_type": "markdown",
      "metadata": {
        "id": "G7B7q2QUnkbq",
        "colab_type": "text"
      },
      "source": [
        "B. 693"
      ]
    },
    {
      "cell_type": "markdown",
      "metadata": {
        "id": "2Szg9BMGnlYv",
        "colab_type": "text"
      },
      "source": [
        "## Finding the missing values"
      ]
    },
    {
      "cell_type": "code",
      "metadata": {
        "id": "hiHtpqqrnqN5",
        "colab_type": "code",
        "colab": {}
      },
      "source": [
        "# Print the top 10 entries of the DataFrame\n",
        "print(sub_df.head(10))"
      ],
      "execution_count": 0,
      "outputs": []
    },
    {
      "cell_type": "code",
      "metadata": {
        "id": "_gKiaDItnzdK",
        "colab_type": "code",
        "colab": {}
      },
      "source": [
        "# Print the locations of the missing values\n",
        "print(sub_df.head(10).isnull())"
      ],
      "execution_count": 0,
      "outputs": []
    },
    {
      "cell_type": "code",
      "metadata": {
        "id": "1f7-DGYmn38J",
        "colab_type": "code",
        "colab": {}
      },
      "source": [
        "# Print the locations of the non-missing values\n",
        "print(sub_df.head(10).notnull())"
      ],
      "execution_count": 0,
      "outputs": []
    },
    {
      "cell_type": "markdown",
      "metadata": {
        "id": "SjY5Br0eomhS",
        "colab_type": "text"
      },
      "source": [
        "## Listwise deletion"
      ]
    },
    {
      "cell_type": "code",
      "metadata": {
        "id": "pbtfOi9uom6y",
        "colab_type": "code",
        "colab": {}
      },
      "source": [
        "# Print the number of rows and columns\n",
        "print(so_survey_df.shape)"
      ],
      "execution_count": 0,
      "outputs": []
    },
    {
      "cell_type": "code",
      "metadata": {
        "id": "Bwgqv-DPoz4m",
        "colab_type": "code",
        "colab": {}
      },
      "source": [
        "# Create a new DataFrame dropping all incomplete rows\n",
        "no_missing_values_rows = so_survey_df.dropna(how='any')\n",
        "\n",
        "# Print the shape of the new DataFrame\n",
        "print(no_missing_values_rows.shape)"
      ],
      "execution_count": 0,
      "outputs": []
    },
    {
      "cell_type": "code",
      "metadata": {
        "id": "JXT8tZ4po_JN",
        "colab_type": "code",
        "colab": {}
      },
      "source": [
        "# Create a new DataFrame dropping all columns with incomplete rows\n",
        "no_missing_values_cols = so_survey_df.dropna(how='any', axis=1)\n",
        "\n",
        "# Print the shape of the new DataFrame\n",
        "print(no_missing_values_cols.shape)"
      ],
      "execution_count": 0,
      "outputs": []
    },
    {
      "cell_type": "code",
      "metadata": {
        "id": "Rh4vU57ZpCg_",
        "colab_type": "code",
        "colab": {}
      },
      "source": [
        "# Drop all rows where Gender is missing\n",
        "no_gender = so_survey_df.dropna(subset=['Gender'])\n",
        "\n",
        "# Print the shape of the new DataFrame\n",
        "print(no_gender.shape)"
      ],
      "execution_count": 0,
      "outputs": []
    },
    {
      "cell_type": "markdown",
      "metadata": {
        "id": "--Lj7Xv6pG0F",
        "colab_type": "text"
      },
      "source": [
        "## Replacing missing values with constants"
      ]
    },
    {
      "cell_type": "code",
      "metadata": {
        "id": "VXaEuw9-pHLs",
        "colab_type": "code",
        "colab": {}
      },
      "source": [
        "# Print the count of occurrences\n",
        "print(so_survey_df['Gender'].value_counts())"
      ],
      "execution_count": 0,
      "outputs": []
    },
    {
      "cell_type": "code",
      "metadata": {
        "id": "_mwn9t3dpdC3",
        "colab_type": "code",
        "colab": {}
      },
      "source": [
        "# Replace missing values\n",
        "so_survey_df['Gender'].fillna('Not Given', inplace=True)\n",
        "\n",
        "# Print the count of each value\n",
        "print(so_survey_df['Gender'].value_counts())"
      ],
      "execution_count": 0,
      "outputs": []
    },
    {
      "cell_type": "markdown",
      "metadata": {
        "id": "5Wb2VZ_XqFT6",
        "colab_type": "text"
      },
      "source": [
        "## Filling continuous missing values"
      ]
    },
    {
      "cell_type": "code",
      "metadata": {
        "id": "EXrh95ShqFrC",
        "colab_type": "code",
        "colab": {}
      },
      "source": [
        "# Print the first five rows of StackOverflowJobsRecommend column\n",
        "print(so_survey_df['StackOverflowJobsRecommend'].head())"
      ],
      "execution_count": 0,
      "outputs": []
    },
    {
      "cell_type": "code",
      "metadata": {
        "id": "jiQfxKkEqUGa",
        "colab_type": "code",
        "colab": {}
      },
      "source": [
        "# Fill missing values with the mean\n",
        "so_survey_df['StackOverflowJobsRecommend'].fillna(so_survey_df['StackOverflowJobsRecommend'].mean(), inplace=True)\n",
        "\n",
        "# Print the first five rows of StackOverflowJobsRecommend column\n",
        "print(so_survey_df['StackOverflowJobsRecommend'].head())"
      ],
      "execution_count": 0,
      "outputs": []
    },
    {
      "cell_type": "code",
      "metadata": {
        "id": "uWOWT9b7qY0D",
        "colab_type": "code",
        "colab": {}
      },
      "source": [
        "# Fill missing values with the mean\n",
        "so_survey_df['StackOverflowJobsRecommend'].fillna(so_survey_df['StackOverflowJobsRecommend'].mean(), inplace=True)\n",
        "\n",
        "# Round the StackOverflowJobsRecommend values\n",
        "so_survey_df['StackOverflowJobsRecommend'] = np.round(so_survey_df['StackOverflowJobsRecommend'])\n",
        "\n",
        "# Print the top 5 rows\n",
        "print(so_survey_df['StackOverflowJobsRecommend'].head())"
      ],
      "execution_count": 0,
      "outputs": []
    },
    {
      "cell_type": "markdown",
      "metadata": {
        "id": "PAk0N8n5qan7",
        "colab_type": "text"
      },
      "source": [
        "## Imputing values in predictive models"
      ]
    },
    {
      "cell_type": "markdown",
      "metadata": {
        "id": "dH8wb86uqa-z",
        "colab_type": "text"
      },
      "source": [
        "C. Apply the measures of central tendency (mean/median etc.) calculated on the train set to both the train and test sets."
      ]
    },
    {
      "cell_type": "markdown",
      "metadata": {
        "id": "eZOKdoMqqn9y",
        "colab_type": "text"
      },
      "source": [
        "## Dealing with stray characters (I)"
      ]
    },
    {
      "cell_type": "code",
      "metadata": {
        "id": "9MRgACDkrXN1",
        "colab_type": "code",
        "colab": {}
      },
      "source": [
        "# Remove the commas in the column\n",
        "so_survey_df['RawSalary'] = so_survey_df['RawSalary'].str.replace(',', '')"
      ],
      "execution_count": 0,
      "outputs": []
    },
    {
      "cell_type": "code",
      "metadata": {
        "id": "qt-svelPrfkk",
        "colab_type": "code",
        "colab": {}
      },
      "source": [
        "# Remove the dollar signs in the column\n",
        "so_survey_df['RawSalary'] = so_survey_df['RawSalary'].str.replace('$', '')"
      ],
      "execution_count": 0,
      "outputs": []
    },
    {
      "cell_type": "markdown",
      "metadata": {
        "id": "tNNq10HYrhZE",
        "colab_type": "text"
      },
      "source": [
        "## Dealing with stray characters (II)"
      ]
    },
    {
      "cell_type": "code",
      "metadata": {
        "id": "Sd6h0Y2prhvt",
        "colab_type": "code",
        "colab": {}
      },
      "source": [
        "# Attempt to convert the column to numeric values\n",
        "numeric_vals = pd.to_numeric(so_survey_df['RawSalary'], errors='coerce')\n",
        "\n",
        "# Find the indexes of missing values\n",
        "idx = numeric_vals.isnull()\n",
        "\n",
        "# Print the relevant rows\n",
        "print(so_survey_df['RawSalary'][idx])"
      ],
      "execution_count": 0,
      "outputs": []
    },
    {
      "cell_type": "code",
      "metadata": {
        "id": "iaEjzcBFsaTf",
        "colab_type": "code",
        "colab": {}
      },
      "source": [
        "# Replace the offending characters\n",
        "so_survey_df['RawSalary'] = so_survey_df['RawSalary'].str.replace('£', '')\n",
        "\n",
        "# Convert the column to float\n",
        "so_survey_df['RawSalary'] = so_survey_df['RawSalary'].astype('float')\n",
        "\n",
        "# Print the column\n",
        "print(so_survey_df['RawSalary'])"
      ],
      "execution_count": 0,
      "outputs": []
    },
    {
      "cell_type": "markdown",
      "metadata": {
        "id": "tbAarJFVsdnn",
        "colab_type": "text"
      },
      "source": [
        "## Method chaining"
      ]
    },
    {
      "cell_type": "code",
      "metadata": {
        "id": "j77WZewPsd-R",
        "colab_type": "code",
        "colab": {}
      },
      "source": [
        "# Use method chaining\n",
        "so_survey_df['RawSalary'] = so_survey_df['RawSalary']\\\n",
        "                              .str.replace(',', '')\\\n",
        "                              .str.replace('$', '')\\\n",
        "                              .str.replace('£', '')\\\n",
        "                              .astype('float')\n",
        " \n",
        "# Print the RawSalary column\n",
        "print(so_survey_df['RawSalary'])"
      ],
      "execution_count": 0,
      "outputs": []
    }
  ]
}