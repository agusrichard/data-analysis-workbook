{
  "nbformat": 4,
  "nbformat_minor": 0,
  "metadata": {
    "colab": {
      "name": "creating_features.ipynb",
      "provenance": []
    },
    "kernelspec": {
      "name": "python3",
      "display_name": "Python 3"
    }
  },
  "cells": [
    {
      "cell_type": "markdown",
      "metadata": {
        "id": "UQtqvo-Lhb7o",
        "colab_type": "text"
      },
      "source": [
        "# Creating Features\n"
      ]
    },
    {
      "cell_type": "markdown",
      "metadata": {
        "id": "FipnWFLegY-B",
        "colab_type": "text"
      },
      "source": [
        "## Getting to know your data"
      ]
    },
    {
      "cell_type": "code",
      "metadata": {
        "id": "OonXQ8zihOm8",
        "colab_type": "code",
        "colab": {}
      },
      "source": [
        "# Import pandas\n",
        "import pandas as pd\n",
        "\n",
        "# Import so_survey_csv into so_survey_df\n",
        "so_survey_df = pd.read_csv(so_survey_csv)"
      ],
      "execution_count": 0,
      "outputs": []
    },
    {
      "cell_type": "code",
      "metadata": {
        "id": "ayBbZTajh2uV",
        "colab_type": "code",
        "colab": {}
      },
      "source": [
        "# Import pandas\n",
        "import pandas as pd\n",
        "\n",
        "# Import so_survey_csv into so_survey_df\n",
        "so_survey_df = pd.read_csv(so_survey_csv)\n",
        "\n",
        "# Print the first five rows of the DataFrame\n",
        "print(so_survey_df.head())"
      ],
      "execution_count": 0,
      "outputs": []
    },
    {
      "cell_type": "code",
      "metadata": {
        "id": "hlH7nBqmh6Y1",
        "colab_type": "code",
        "colab": {}
      },
      "source": [
        "# Import pandas\n",
        "import pandas as pd\n",
        "\n",
        "# Import so_survey_csv into so_survey_df\n",
        "so_survey_df = pd.read_csv(so_survey_csv)\n",
        "\n",
        "# Print the first five rows of the DataFrame\n",
        "print(so_survey_df.head())\n",
        "\n",
        "# Print the data type of each column\n",
        "print(so_survey_df.dtypes)"
      ],
      "execution_count": 0,
      "outputs": []
    },
    {
      "cell_type": "markdown",
      "metadata": {
        "id": "dI6_RamVh-kk",
        "colab_type": "text"
      },
      "source": [
        "B. Numeric"
      ]
    },
    {
      "cell_type": "markdown",
      "metadata": {
        "id": "iIKiO7-Ah_EU",
        "colab_type": "text"
      },
      "source": [
        "## Selecting specific data types"
      ]
    },
    {
      "cell_type": "code",
      "metadata": {
        "id": "MfSM-sK9iBJ0",
        "colab_type": "code",
        "colab": {}
      },
      "source": [
        "# Create subset of only the numeric columns\n",
        "so_numeric_df = so_survey_df.select_dtypes(include=['int', 'float'])\n",
        "\n",
        "# Print the column names contained in so_survey_df_num\n",
        "3print(so_numeric_df.columns)"
      ],
      "execution_count": 0,
      "outputs": []
    },
    {
      "cell_type": "markdown",
      "metadata": {
        "id": "KtWlaEeljWDp",
        "colab_type": "text"
      },
      "source": [
        "## One-hot encoding and dummy variables"
      ]
    },
    {
      "cell_type": "code",
      "metadata": {
        "id": "OWbr5azUjXZy",
        "colab_type": "code",
        "colab": {}
      },
      "source": [
        "# Convert the Country column to a one hot encoded Data Frame\n",
        "one_hot_encoded = pd.get_dummies(so_survey_df, columns=['Country'], prefix='OH')\n",
        "\n",
        "# Print the columns names\n",
        "print(one_hot_encoded.columns)"
      ],
      "execution_count": 0,
      "outputs": []
    },
    {
      "cell_type": "code",
      "metadata": {
        "id": "QIQN8AtSkHBc",
        "colab_type": "code",
        "colab": {}
      },
      "source": [
        "# Create dummy variables for the Country column\n",
        "dummy = pd.get_dummies(so_survey_df, columns=['Country'], drop_first=True, prefix='DM')\n",
        "\n",
        "# Print the columns names\n",
        "print(dummy.columns)"
      ],
      "execution_count": 0,
      "outputs": []
    },
    {
      "cell_type": "markdown",
      "metadata": {
        "id": "qKH8ChlUkKGg",
        "colab_type": "text"
      },
      "source": [
        "## Dealing with uncommon categories"
      ]
    },
    {
      "cell_type": "code",
      "metadata": {
        "id": "-T95F73BkKev",
        "colab_type": "code",
        "colab": {}
      },
      "source": [
        "# Create a series out of the Country column\n",
        "countries = so_survey_df.Country\n",
        "\n",
        "# Get the counts of each category\n",
        "country_counts = countries.value_counts()\n",
        "\n",
        "# Print the count values for each category\n",
        "print(country_counts)"
      ],
      "execution_count": 0,
      "outputs": []
    },
    {
      "cell_type": "code",
      "metadata": {
        "id": "4arNpiMQkv29",
        "colab_type": "code",
        "colab": {}
      },
      "source": [
        "# Create a series out of the Country column\n",
        "countries = so_survey_df['Country']\n",
        "\n",
        "# Get the counts of each category\n",
        "country_counts = countries.value_counts()\n",
        "\n",
        "# Create a mask for only categories that occur less than 10 times\n",
        "mask = countries.isin(country_counts[country_counts < 10].index)\n",
        "\n",
        "# Print the top 5 rows in the mask series\n",
        "print(mask.head())"
      ],
      "execution_count": 0,
      "outputs": []
    },
    {
      "cell_type": "code",
      "metadata": {
        "id": "hvq3NNxEk3K2",
        "colab_type": "code",
        "colab": {}
      },
      "source": [
        "# Create a series out of the Country column\n",
        "countries = so_survey_df['Country']\n",
        "\n",
        "# Get the counts of each category\n",
        "country_counts = countries.value_counts()\n",
        "\n",
        "# Create a mask for only categories that occur less than 10 times\n",
        "mask = countries.isin(country_counts[country_counts < 10].index)\n",
        "\n",
        "# Label all other categories as Other\n",
        "countries[mask] = 'Other'\n",
        "\n",
        "# Print the updated category counts\n",
        "print(countries.value_counts())"
      ],
      "execution_count": 0,
      "outputs": []
    },
    {
      "cell_type": "markdown",
      "metadata": {
        "id": "eI7evef5luJS",
        "colab_type": "text"
      },
      "source": [
        "## Binarizing columns"
      ]
    },
    {
      "cell_type": "code",
      "metadata": {
        "id": "wMF-ltn-luiM",
        "colab_type": "code",
        "colab": {}
      },
      "source": [
        "# Create the Paid_Job column filled with zeros\n",
        "so_survey_df['Paid_Job'] = 0\n",
        "\n",
        "# Replace all the Paid_Job values where ConvertedSalary is > 0\n",
        "so_survey_df.loc[so_survey_df['ConvertedSalary'] > 0, 'Paid_Job'] = 1\n",
        "\n",
        "# Print the first five rows of the columns\n",
        "print(so_survey_df[['Paid_Job', 'ConvertedSalary']].head())"
      ],
      "execution_count": 0,
      "outputs": []
    },
    {
      "cell_type": "markdown",
      "metadata": {
        "id": "7IvO-EVDmDE0",
        "colab_type": "text"
      },
      "source": [
        "## Binning values"
      ]
    },
    {
      "cell_type": "code",
      "metadata": {
        "id": "sfHHIq_ZmDcK",
        "colab_type": "code",
        "colab": {}
      },
      "source": [
        "# Bin the continuous variable ConvertedSalary into 5 bins\n",
        "so_survey_df['equal_binned'] = pd.cut(so_survey_df['ConvertedSalary'], bins=5)\n",
        "\n",
        "# Print the first 5 rows of the equal_binned column\n",
        "print(so_survey_df[['equal_binned', 'ConvertedSalary']].head())"
      ],
      "execution_count": 0,
      "outputs": []
    },
    {
      "cell_type": "code",
      "metadata": {
        "id": "dXlY41-rmWGl",
        "colab_type": "code",
        "colab": {}
      },
      "source": [
        "# Import numpy\n",
        "import numpy as np\n",
        "\n",
        "# Specify the boundaries of the bins\n",
        "bins = [-np.inf, 10000, 50000, 100000, 150000, np.inf]\n",
        "\n",
        "# Bin labels\n",
        "labels = ['Very low', 'Low', 'Medium', 'High', 'Very high']\n",
        "\n",
        "# Bin the continuous variable ConvertedSalary using these boundaries\n",
        "so_survey_df['boundary_binned'] = pd.cut(so_survey_df['ConvertedSalary'], \n",
        "                                         bins=bins, labels=labels)\n",
        "\n",
        "# Print the first 5 rows of the boundary_binned column\n",
        "print(so_survey_df[['boundary_binned', 'ConvertedSalary']].head())"
      ],
      "execution_count": 0,
      "outputs": []
    }
  ]
}