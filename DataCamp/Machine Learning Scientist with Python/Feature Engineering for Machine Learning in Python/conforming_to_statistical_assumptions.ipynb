{
  "nbformat": 4,
  "nbformat_minor": 0,
  "metadata": {
    "colab": {
      "name": "conforming_to_statistical_assumptions.ipynb",
      "provenance": []
    },
    "kernelspec": {
      "name": "python3",
      "display_name": "Python 3"
    }
  },
  "cells": [
    {
      "cell_type": "markdown",
      "metadata": {
        "id": "vti3aE6Stwhd",
        "colab_type": "text"
      },
      "source": [
        "# Conforming to Statistical Assumptions\n",
        "\n"
      ]
    },
    {
      "cell_type": "markdown",
      "metadata": {
        "id": "kSapS7K4s5xe",
        "colab_type": "text"
      },
      "source": [
        "## What does your data look like? (I)"
      ]
    },
    {
      "cell_type": "code",
      "metadata": {
        "id": "tuvehH8ftuRJ",
        "colab_type": "code",
        "colab": {}
      },
      "source": [
        "# Create a histogram\n",
        "so_numeric_df.hist()\n",
        "plt.show()"
      ],
      "execution_count": 0,
      "outputs": []
    },
    {
      "cell_type": "code",
      "metadata": {
        "id": "KU17aAhOuGzF",
        "colab_type": "code",
        "colab": {}
      },
      "source": [
        "# Create a boxplot of two columns\n",
        "so_numeric_df[['Age', 'Years Experience']].plot(kind='box')\n",
        "plt.show()"
      ],
      "execution_count": 0,
      "outputs": []
    },
    {
      "cell_type": "code",
      "metadata": {
        "id": "zwjomPQfuMm7",
        "colab_type": "code",
        "colab": {}
      },
      "source": [
        "# Create a boxplot of ConvertedSalary\n",
        "so_numeric_df[['ConvertedSalary']].boxplot()\n",
        "plt.show()"
      ],
      "execution_count": 0,
      "outputs": []
    },
    {
      "cell_type": "markdown",
      "metadata": {
        "id": "oocIfX0iuPZ6",
        "colab_type": "text"
      },
      "source": [
        "## What does your data look like? (II)"
      ]
    },
    {
      "cell_type": "code",
      "metadata": {
        "id": "HxFZ7VAJuPyG",
        "colab_type": "code",
        "colab": {}
      },
      "source": [
        "# Import packages\n",
        "import matplotlib.pyplot as plt\n",
        "import seaborn as sns\n",
        "\n",
        "# Plot pairwise relationships\n",
        "sns.pairplot(so_numeric_df)\n",
        "\n",
        "# Show plot\n",
        "plt.show()"
      ],
      "execution_count": 0,
      "outputs": []
    },
    {
      "cell_type": "code",
      "metadata": {
        "id": "r0JO0hWVujaj",
        "colab_type": "code",
        "colab": {}
      },
      "source": [
        "# Print summary statistics\n",
        "print(so_numeric_df.describe())"
      ],
      "execution_count": 0,
      "outputs": []
    },
    {
      "cell_type": "markdown",
      "metadata": {
        "id": "uXey-TLZul8U",
        "colab_type": "text"
      },
      "source": [
        "## When don't you have to transform your data?"
      ]
    },
    {
      "cell_type": "markdown",
      "metadata": {
        "id": "4_THXjyHumTB",
        "colab_type": "text"
      },
      "source": [
        "B. Decision Trees"
      ]
    },
    {
      "cell_type": "markdown",
      "metadata": {
        "id": "iUiUs0ATuq0J",
        "colab_type": "text"
      },
      "source": [
        "## Normalization"
      ]
    },
    {
      "cell_type": "code",
      "metadata": {
        "id": "E-Yw13ChviRM",
        "colab_type": "code",
        "colab": {}
      },
      "source": [
        "# Import MinMaxScaler\n",
        "from sklearn.preprocessing import MinMaxScaler\n",
        "\n",
        "# Instantiate MinMaxScaler\n",
        "MM_scaler = MinMaxScaler()\n",
        "\n",
        "# Fit MM_scaler to the data\n",
        "MM_scaler.fit(so_numeric_df[['Age']])\n",
        "\n",
        "# Transform the data using the fitted scaler\n",
        "so_numeric_df['Age_MM'] = MM_scaler.transform(so_numeric_df[['Age']])\n",
        "\n",
        "# Compare the origional and transformed column\n",
        "print(so_numeric_df[['Age_MM', 'Age']].head())"
      ],
      "execution_count": 0,
      "outputs": []
    },
    {
      "cell_type": "markdown",
      "metadata": {
        "id": "XdDXs2JPvz63",
        "colab_type": "text"
      },
      "source": [
        "## Standardization"
      ]
    },
    {
      "cell_type": "code",
      "metadata": {
        "id": "qVSz6JQdv0ZZ",
        "colab_type": "code",
        "colab": {}
      },
      "source": [
        "# Import StandardScaler\n",
        "from sklearn.preprocessing import StandardScaler\n",
        "\n",
        "# Instantiate StandardScaler\n",
        "SS_scaler = StandardScaler()\n",
        "\n",
        "# Fit SS_scaler to the data\n",
        "SS_scaler.fit(so_numeric_df[['Age']])\n",
        "\n",
        "# Transform the data using the fitted scaler\n",
        "so_numeric_df['Age_SS'] = SS_scaler.transform(so_numeric_df[['Age']])\n",
        "\n",
        "# Compare the origional and transformed column\n",
        "print(so_numeric_df[['Age_SS', 'Age']].head())"
      ],
      "execution_count": 0,
      "outputs": []
    },
    {
      "cell_type": "markdown",
      "metadata": {
        "id": "7sBwmjLMwCyR",
        "colab_type": "text"
      },
      "source": [
        "## Log transformation"
      ]
    },
    {
      "cell_type": "code",
      "metadata": {
        "id": "NvrgvS4cwDKO",
        "colab_type": "code",
        "colab": {}
      },
      "source": [
        "# Import PowerTransformer\n",
        "from sklearn.preprocessing import PowerTransformer\n",
        "\n",
        "# Instantiate PowerTransformer\n",
        "pow_trans = PowerTransformer()\n",
        "\n",
        "# Train the transform on the data\n",
        "pow_trans.fit(so_numeric_df[['ConvertedSalary']])\n",
        "\n",
        "# Apply the power transform to the data\n",
        "so_numeric_df['ConvertedSalary_LG'] = pow_trans.transform(so_numeric_df[['ConvertedSalary']])\n",
        "\n",
        "# Plot the data before and after the transformation\n",
        "so_numeric_df[['ConvertedSalary', 'ConvertedSalary_LG']].hist()\n",
        "plt.show()"
      ],
      "execution_count": 0,
      "outputs": []
    },
    {
      "cell_type": "markdown",
      "metadata": {
        "id": "GZurTT5zwds-",
        "colab_type": "text"
      },
      "source": [
        "## When can you use normalization?"
      ]
    },
    {
      "cell_type": "markdown",
      "metadata": {
        "id": "tbFA0UxwweD_",
        "colab_type": "text"
      },
      "source": [
        "B. When you know the the data has a strict upper and lower bound."
      ]
    },
    {
      "cell_type": "markdown",
      "metadata": {
        "id": "tv9SABoMwkRd",
        "colab_type": "text"
      },
      "source": [
        "## Percentage based outlier removal"
      ]
    },
    {
      "cell_type": "code",
      "metadata": {
        "id": "YUkr6vg3xMMT",
        "colab_type": "code",
        "colab": {}
      },
      "source": [
        "# Find the 95th quantile\n",
        "quantile = so_numeric_df['ConvertedSalary'].quantile(0.95)\n",
        "\n",
        "# Trim the outliers\n",
        "trimmed_df = so_numeric_df[so_numeric_df['ConvertedSalary'] < quantile]\n",
        "\n",
        "# The original histogram\n",
        "so_numeric_df[['ConvertedSalary']].hist()\n",
        "plt.show()\n",
        "plt.clf()\n",
        "\n",
        "# The trimmed histogram\n",
        "trimmed_df[['ConvertedSalary']].hist()\n",
        "plt.show()"
      ],
      "execution_count": 0,
      "outputs": []
    },
    {
      "cell_type": "markdown",
      "metadata": {
        "id": "1Bs_B5dpxeBt",
        "colab_type": "text"
      },
      "source": [
        "## Statistical outlier removal"
      ]
    },
    {
      "cell_type": "code",
      "metadata": {
        "id": "TcNxdDEpxear",
        "colab_type": "code",
        "colab": {}
      },
      "source": [
        "# Find the mean and standard dev\n",
        "std = so_numeric_df['ConvertedSalary'].std()\n",
        "mean = so_numeric_df['ConvertedSalary'].mean()\n",
        "\n",
        "# Calculate the cutoff\n",
        "cut_off = std * 3\n",
        "lower, upper = mean - cut_off, mean + cut_off\n",
        "\n",
        "# Trim the outliers\n",
        "trimmed_df = so_numeric_df[(so_numeric_df['ConvertedSalary'] < upper) \\\n",
        "                           & (so_numeric_df['ConvertedSalary'] > lower)]\n",
        "\n",
        "# The trimmed box plot\n",
        "trimmed_df[['ConvertedSalary']].boxplot()\n",
        "plt.show()"
      ],
      "execution_count": 0,
      "outputs": []
    },
    {
      "cell_type": "markdown",
      "metadata": {
        "id": "T72hdl_VyTrj",
        "colab_type": "text"
      },
      "source": [
        "## Train and testing transformations (I)"
      ]
    },
    {
      "cell_type": "code",
      "metadata": {
        "id": "2PnLYdB_yUDE",
        "colab_type": "code",
        "colab": {}
      },
      "source": [
        "# Import StandardScaler\n",
        "from sklearn.preprocessing import StandardScaler\n",
        "\n",
        "# Apply a standard scaler to the data\n",
        "SS_scaler = StandardScaler()\n",
        "\n",
        "# Fit the standard scaler to the data\n",
        "SS_scaler.fit(so_train_numeric[['Age']])\n",
        "\n",
        "# Transform the test data using the fitted scaler\n",
        "so_test_numeric['Age_ss'] = SS_scaler.transform(so_test_numeric[['Age']])\n",
        "print(so_test_numeric[['Age', 'Age_ss']].head())"
      ],
      "execution_count": 0,
      "outputs": []
    },
    {
      "cell_type": "markdown",
      "metadata": {
        "id": "uSkp7bsvywSs",
        "colab_type": "text"
      },
      "source": [
        "## Train and testing transformations (II)"
      ]
    },
    {
      "cell_type": "code",
      "metadata": {
        "id": "jlE12koRywpV",
        "colab_type": "code",
        "colab": {}
      },
      "source": [
        "train_std = so_train_numeric['ConvertedSalary'].std()\n",
        "train_mean = so_train_numeric['ConvertedSalary'].mean()\n",
        "\n",
        "cut_off = train_std * 3\n",
        "train_lower, train_upper = train_mean - cut_off, train_mean + cut_off\n",
        "\n",
        "# Trim the test DataFrame\n",
        "trimmed_df = so_test_numeric[(so_test_numeric['ConvertedSalary'] < train_upper) \\\n",
        "                             & (so_test_numeric['ConvertedSalary'] > train_lower)]"
      ],
      "execution_count": 0,
      "outputs": []
    }
  ]
}