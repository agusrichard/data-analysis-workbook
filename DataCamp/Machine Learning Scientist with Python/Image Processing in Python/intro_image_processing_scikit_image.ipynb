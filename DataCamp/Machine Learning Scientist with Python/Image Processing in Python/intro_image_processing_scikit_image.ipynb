{
  "nbformat": 4,
  "nbformat_minor": 0,
  "metadata": {
    "colab": {
      "name": "intro_image_processing_scikit_image.ipynb",
      "provenance": []
    },
    "kernelspec": {
      "name": "python3",
      "display_name": "Python 3"
    }
  },
  "cells": [
    {
      "cell_type": "markdown",
      "metadata": {
        "id": "VVCZbUdnhZw4",
        "colab_type": "text"
      },
      "source": [
        "# Introducing Image Processing and scikit-image"
      ]
    },
    {
      "cell_type": "markdown",
      "metadata": {
        "id": "lE-q7w1yfsF6",
        "colab_type": "text"
      },
      "source": [
        "## Is this gray or full of color?"
      ]
    },
    {
      "cell_type": "markdown",
      "metadata": {
        "id": "b69RKf_BhYby",
        "colab_type": "text"
      },
      "source": [
        "C. coins_image has a shape of (303, 384), grayscale. And coffee_image (400, 600, 3), RGB-3."
      ]
    },
    {
      "cell_type": "markdown",
      "metadata": {
        "id": "FfLUwr6jhkvc",
        "colab_type": "text"
      },
      "source": [
        "## RGB to grayscale"
      ]
    },
    {
      "cell_type": "code",
      "metadata": {
        "id": "iUFTw8AChmxn",
        "colab_type": "code",
        "colab": {}
      },
      "source": [
        "# Import the modules from skimage\n",
        "from skimage import data, color\n",
        "\n",
        "# Load the rocket image\n",
        "rocket = data.rocket()\n",
        "\n",
        "# Convert the image to grayscale\n",
        "gray_scaled_rocket = color.rgb2gray(rocket)\n",
        "\n",
        "# Show the original image\n",
        "show_image(rocket, 'Original RGB image')\n",
        "\n",
        "# Show the grayscale image\n",
        "show_image(gray_scaled_rocket, 'Grayscale image')"
      ],
      "execution_count": null,
      "outputs": []
    },
    {
      "cell_type": "markdown",
      "metadata": {
        "id": "s9x-QflfjF_Y",
        "colab_type": "text"
      },
      "source": [
        "## Flipping out"
      ]
    },
    {
      "cell_type": "code",
      "metadata": {
        "id": "LSMOZ4dFjGWX",
        "colab_type": "code",
        "colab": {}
      },
      "source": [
        "# Flip the image vertically\n",
        "seville_vertical_flip = np.flipud(flipped_seville)"
      ],
      "execution_count": null,
      "outputs": []
    },
    {
      "cell_type": "code",
      "metadata": {
        "id": "mu5E7-BKjRiy",
        "colab_type": "code",
        "colab": {}
      },
      "source": [
        "# Flip the image vertically\n",
        "seville_vertical_flip = np.flipud(flipped_seville)\n",
        "\n",
        "# Flip the previous image horizontally\n",
        "seville_horizontal_flip = np.fliplr(seville_vertical_flip)"
      ],
      "execution_count": null,
      "outputs": []
    },
    {
      "cell_type": "code",
      "metadata": {
        "id": "ZjZqRwc2jah6",
        "colab_type": "code",
        "colab": {}
      },
      "source": [
        "# Flip the image vertically\n",
        "seville_vertical_flip = np.flipud(flipped_seville)\n",
        "\n",
        "# Flip the image horizontally\n",
        "seville_horizontal_flip = np.fliplr(seville_vertical_flip)\n",
        "\n",
        "# Show the resulting image\n",
        "show_image(seville_horizontal_flip, 'Seville')"
      ],
      "execution_count": null,
      "outputs": []
    },
    {
      "cell_type": "markdown",
      "metadata": {
        "id": "Obhdhx9EjdPb",
        "colab_type": "text"
      },
      "source": [
        "## Histograms"
      ]
    },
    {
      "cell_type": "code",
      "metadata": {
        "id": "FOeu9mPQjduS",
        "colab_type": "code",
        "colab": {}
      },
      "source": [
        "# Obtain the red channel\n",
        "red_channel = image[:, :, 0]\n",
        "\n",
        "# Plot the red histogram with bins in a range of 256\n",
        "plt.hist(red_channel.ravel(), bins=256)\n",
        "\n",
        "# Set title and show\n",
        "plt.title('Red Histogram')\n",
        "plt.show()"
      ],
      "execution_count": null,
      "outputs": []
    },
    {
      "cell_type": "markdown",
      "metadata": {
        "id": "yK4GrqmClDrM",
        "colab_type": "text"
      },
      "source": [
        "## Apply global thresholding"
      ]
    },
    {
      "cell_type": "code",
      "metadata": {
        "id": "DxGkU-KnlEE4",
        "colab_type": "code",
        "colab": {}
      },
      "source": [
        "# Import the otsu threshold function\n",
        "from skimage.filters import threshold_otsu\n",
        "\n",
        "# Make the image grayscale using rgb2gray\n",
        "chess_pieces_image_gray = rgb2gray(chess_pieces_image)\n",
        "\n",
        "# Obtain the optimal threshold value with otsu\n",
        "thresh = threshold_otsu(chess_pieces_image_gray)\n",
        "\n",
        "# Apply thresholding to the image\n",
        "binary = chess_pieces_image_gray > thresh\n",
        "\n",
        "# Show the image\n",
        "show_image(binary, 'Binary image')"
      ],
      "execution_count": null,
      "outputs": []
    },
    {
      "cell_type": "markdown",
      "metadata": {
        "id": "aQzrmp6qliWu",
        "colab_type": "text"
      },
      "source": [
        "## When the background isn't that obvious"
      ]
    },
    {
      "cell_type": "code",
      "metadata": {
        "id": "HwvnKsAqliv5",
        "colab_type": "code",
        "colab": {}
      },
      "source": [
        "# Import the otsu threshold function\n",
        "from skimage.filters import threshold_otsu\n",
        "\n",
        "# Obtain the optimal otsu global thresh value\n",
        "global_thresh = threshold_otsu(page_image)\n",
        "\n",
        "# Obtain the binary image by applying global thresholding\n",
        "binary_global = page_image > global_thresh\n",
        "\n",
        "# Show the binary image obtained\n",
        "show_image(binary_global, 'Global thresholding')"
      ],
      "execution_count": null,
      "outputs": []
    },
    {
      "cell_type": "code",
      "metadata": {
        "id": "MpsjK9eQmJDn",
        "colab_type": "code",
        "colab": {}
      },
      "source": [
        "# Import the local threshold function\n",
        "from skimage.filters import threshold_local\n",
        "\n",
        "# Set the block size to 35\n",
        "block_size = 35\n",
        "\n",
        "# Obtain the optimal local thresholding\n",
        "local_thresh = threshold_local(page_image, block_size, offset=10)\n",
        "\n",
        "# Obtain the binary image by applying local thresholding\n",
        "binary_local = page_image > local_thresh\n",
        "\n",
        "# Show the binary image\n",
        "show_image(binary_local, 'Local thresholding')"
      ],
      "execution_count": null,
      "outputs": []
    },
    {
      "cell_type": "markdown",
      "metadata": {
        "id": "2bFW-JgDmMSW",
        "colab_type": "text"
      },
      "source": [
        "## Trying other methods"
      ]
    },
    {
      "cell_type": "code",
      "metadata": {
        "id": "IrU_BLW0mMp_",
        "colab_type": "code",
        "colab": {}
      },
      "source": [
        "# Import the try all function\n",
        "from skimage.filters import try_all_threshold\n",
        "\n",
        "# Import the rgb to gray convertor function \n",
        "from skimage.color import rgb2gray\n",
        "\n",
        "# Turn the fruits image to grayscale\n",
        "grayscale = rgb2gray(fruits_image)\n",
        "\n",
        "# Use the try all method on the grayscale image\n",
        "fig, ax = try_all_threshold(grayscale, verbose=False)\n",
        "\n",
        "# Show the resulting plots\n",
        "plt.show()"
      ],
      "execution_count": null,
      "outputs": []
    },
    {
      "cell_type": "markdown",
      "metadata": {
        "id": "rE9HcNdUmr92",
        "colab_type": "text"
      },
      "source": [
        "## Apply thresholding"
      ]
    },
    {
      "cell_type": "code",
      "metadata": {
        "id": "_cGeezrLmsak",
        "colab_type": "code",
        "colab": {}
      },
      "source": [
        "# Import threshold and gray convertor functions\n",
        "from skimage.filters import threshold_otsu\n",
        "from skimage.color import rgb2gray\n",
        "\n",
        "# Turn the image grayscale\n",
        "gray_tools_image = rgb2gray(tools_image)\n",
        "\n",
        "# Obtain the optimal thresh\n",
        "thresh = threshold_otsu(gray_tools_image)\n",
        "\n",
        "# Obtain the binary image by applying thresholding\n",
        "binary_image = gray_tools_image > thresh\n",
        "\n",
        "# Show the resulting binary image\n",
        "show_image(binary_image, 'Binarized image')"
      ],
      "execution_count": null,
      "outputs": []
    }
  ]
}