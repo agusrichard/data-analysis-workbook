{
  "nbformat": 4,
  "nbformat_minor": 0,
  "metadata": {
    "colab": {
      "name": "advanced_operations.ipynb",
      "provenance": []
    },
    "kernelspec": {
      "name": "python3",
      "display_name": "Python 3"
    }
  },
  "cells": [
    {
      "cell_type": "markdown",
      "metadata": {
        "id": "7CpUhrktWyxr",
        "colab_type": "text"
      },
      "source": [
        "# Advanced Operations, Detecting Faces and Features"
      ]
    },
    {
      "cell_type": "markdown",
      "metadata": {
        "id": "73Bf_bKAkeij",
        "colab_type": "text"
      },
      "source": [
        "## Edges"
      ]
    },
    {
      "cell_type": "code",
      "metadata": {
        "id": "OdOaaSwRkh8H",
        "colab_type": "code",
        "colab": {}
      },
      "source": [
        "# Import the canny edge detector \n",
        "from skimage.feature import canny\n",
        "\n",
        "# Convert image to grayscale\n",
        "grapefruit = color.rgb2gray(grapefruit)\n",
        "\n",
        "# Apply canny edge detector\n",
        "canny_edges = canny(grapefruit)\n",
        "\n",
        "# Show resulting image\n",
        "show_image(canny_edges, \"Edges with Canny\")"
      ],
      "execution_count": null,
      "outputs": []
    },
    {
      "cell_type": "markdown",
      "metadata": {
        "id": "G1QO_my5k4Bn",
        "colab_type": "text"
      },
      "source": [
        "## Less edgy"
      ]
    },
    {
      "cell_type": "code",
      "metadata": {
        "id": "CN6TvraAk4Zy",
        "colab_type": "code",
        "colab": {}
      },
      "source": [
        "# Apply canny edge detector with a sigma of 1.8\n",
        "canny_edges = canny(grapefruit, sigma=1.8)"
      ],
      "execution_count": null,
      "outputs": []
    },
    {
      "cell_type": "code",
      "metadata": {
        "id": "6r3w3QYxk_-o",
        "colab_type": "code",
        "colab": {}
      },
      "source": [
        "# Apply canny edge detector with a sigma of 1.8\n",
        "edges_1_8 = canny(grapefruit, sigma=1.8)\n",
        "\n",
        "# Apply canny edge detector with a sigma of 2.2\n",
        "edges_2_2 = canny(grapefruit, sigma=2.2)"
      ],
      "execution_count": null,
      "outputs": []
    },
    {
      "cell_type": "code",
      "metadata": {
        "id": "_J4BVDt2lBwH",
        "colab_type": "code",
        "colab": {}
      },
      "source": [
        "# Apply canny edge detector with a sigma of 1.8\n",
        "edges_1_8 = canny(grapefruit, sigma=1.8)\n",
        "\n",
        "# Apply canny edge detector with a sigma of 2.2\n",
        "edges_2_2 = canny(grapefruit, sigma=2.2)\n",
        "\n",
        "# Show resulting images\n",
        "show_image(edges_1_8, \"Sigma of 1.8\")\n",
        "show_image(edges_2_2, \"Sigma of 2.2\")"
      ],
      "execution_count": null,
      "outputs": []
    },
    {
      "cell_type": "markdown",
      "metadata": {
        "id": "6ac7SRWhl4na",
        "colab_type": "text"
      },
      "source": [
        "## Perspective"
      ]
    },
    {
      "cell_type": "code",
      "metadata": {
        "id": "wevCGNexl5AH",
        "colab_type": "code",
        "colab": {}
      },
      "source": [
        "# Import the corner detector related functions and module\n",
        "from skimage.feature import corner_harris, corner_peaks\n",
        "\n",
        "# Convert image from RGB-3 to grayscale\n",
        "building_image_gray = color.rgb2gray(building_image)\n",
        "\n",
        "# Apply the detector  to measure the possible corners\n",
        "measure_image = corner_harris(building_image_gray)\n",
        "\n",
        "# Find the peaks of the corners using the Harris detector\n",
        "coords = corner_peaks(measure_image, min_distance=2)\n",
        "\n",
        "# Show original and resulting image with corners detected\n",
        "show_image(building_image, \"Original\")\n",
        "show_image_with_corners(building_image, coords)"
      ],
      "execution_count": null,
      "outputs": []
    },
    {
      "cell_type": "markdown",
      "metadata": {
        "id": "b22VUZjtmNbS",
        "colab_type": "text"
      },
      "source": [
        "## Less corners"
      ]
    },
    {
      "cell_type": "code",
      "metadata": {
        "id": "p6gsSBlmmN0V",
        "colab_type": "code",
        "colab": {}
      },
      "source": [
        "# Find the peaks with a min distance of 2 pixels\n",
        "coords_w_min_2 = corner_peaks(measure_image, min_distance=2)\n",
        "print(\"With a min_distance set to 2, we detect a total\", len(coords_w_min_2), \"corners in the image.\")"
      ],
      "execution_count": null,
      "outputs": []
    },
    {
      "cell_type": "code",
      "metadata": {
        "id": "DjBmaIKPmZXd",
        "colab_type": "code",
        "colab": {}
      },
      "source": [
        "# Find the peaks with a min distance of 2 pixels\n",
        "coords_w_min_2 = corner_peaks(measure_image, min_distance=2)\n",
        "print(\"With a min_distance set to 2, we detect a total\", len(coords_w_min_2), \"corners in the image.\")\n",
        "\n",
        "# Find the peaks with a min distance of 40 pixels\n",
        "coords_w_min_40 = corner_peaks(measure_image, min_distance=40)\n",
        "print(\"With a min_distance set to 40, we detect a total\", len(coords_w_min_40), \"corners in the image.\")"
      ],
      "execution_count": null,
      "outputs": []
    },
    {
      "cell_type": "code",
      "metadata": {
        "id": "qV_Qv7mLmdYB",
        "colab_type": "code",
        "colab": {}
      },
      "source": [
        "# Find the peaks with a min distance of 2 pixels\n",
        "coords_w_min_2 = corner_peaks(measure_image, min_distance=2)\n",
        "print(\"With a min_distance set to 2, we detect a total\", len(coords_w_min_2), \"corners in the image.\")\n",
        "\n",
        "# Find the peaks with a min distance of 40 pixels\n",
        "coords_w_min_40 = corner_peaks(measure_image, min_distance=40)\n",
        "print(\"With a min_distance set to 40, we detect a total\", len(coords_w_min_40), \"corners in the image.\")\n",
        "\n",
        "# Show original and resulting image with corners detected\n",
        "show_image_with_corners(building_image, coords_w_min_2, \"Corners detected with 2 px of min_distance\")\n",
        "show_image_with_corners(building_image, coords_w_min_40, \"Corners detected with 40 px of min_distance\")"
      ],
      "execution_count": null,
      "outputs": []
    },
    {
      "cell_type": "markdown",
      "metadata": {
        "id": "B4Km5pPQnY6u",
        "colab_type": "text"
      },
      "source": [
        "## Is someone there?"
      ]
    },
    {
      "cell_type": "code",
      "metadata": {
        "id": "GVeKSyBznZVD",
        "colab_type": "code",
        "colab": {}
      },
      "source": [
        "# Load the trained file from data\n",
        "trained_file = data.lbp_frontal_face_cascade_filename()\n",
        "\n",
        "# Initialize the detector cascade\n",
        "detector = Cascade(trained_file)\n",
        "\n",
        "# Detect faces with min and max size of searching window\n",
        "detected = detector.detect_multi_scale(img = night_image,\n",
        "                                       scale_factor=1.2,\n",
        "                                       step_ratio=1,\n",
        "                                       min_size=(10, 10),\n",
        "                                       max_size=(200, 200))\n",
        "\n",
        "# Show the detected faces\n",
        "show_detected_face(night_image, detected)"
      ],
      "execution_count": null,
      "outputs": []
    },
    {
      "cell_type": "markdown",
      "metadata": {
        "id": "ad8Aoa94np0q",
        "colab_type": "text"
      },
      "source": [
        "## Multiple faces"
      ]
    },
    {
      "cell_type": "code",
      "metadata": {
        "id": "M8waraMunqOL",
        "colab_type": "code",
        "colab": {}
      },
      "source": [
        "# Load the trained file from data\n",
        "trained_file = data.lbp_frontal_face_cascade_filename()\n",
        "\n",
        "# Initialize the detector cascade\n",
        "detector = Cascade(trained_file)\n",
        "\n",
        "# Detect faces with scale factor to 1.2 and step ratio to 1\n",
        "detected = detector.detect_multi_scale(img=friends_image,\n",
        "                                       scale_factor=1.2,\n",
        "                                       step_ratio=1,\n",
        "                                       min_size=(10, 10),\n",
        "                                       max_size=(200, 200))\n",
        "# Show the detected faces\n",
        "show_detected_face(friends_image, detected)"
      ],
      "execution_count": null,
      "outputs": []
    },
    {
      "cell_type": "markdown",
      "metadata": {
        "id": "x-pFBEWNn_u_",
        "colab_type": "text"
      },
      "source": [
        "## Segmentation and face detection"
      ]
    },
    {
      "cell_type": "code",
      "metadata": {
        "id": "qe_f8cGeoAM-",
        "colab_type": "code",
        "colab": {}
      },
      "source": [
        "# Obtain the segmentation with default 100 regions\n",
        "segments = slic(profile_image, n_segments=100, multichannel=True)\n",
        "\n",
        "# Obtain segmented image using label2rgb\n",
        "segmented_image = label2rgb(segments, profile_image, kind='avg')\n",
        "\n",
        "# Detect the faces with multi scale method\n",
        "detected = detector.detect_multi_scale(img=segmented_image, \n",
        "                                       scale_factor=1.2, \n",
        "                                       step_ratio=1, \n",
        "                                       min_size=(10, 10), max_size=(1000, 1000))\n",
        "\n",
        "# Show the detected faces\n",
        "show_detected_face(segmented_image, detected)"
      ],
      "execution_count": null,
      "outputs": []
    },
    {
      "cell_type": "markdown",
      "metadata": {
        "id": "G7rKuuV3pV81",
        "colab_type": "text"
      },
      "source": [
        "## Privacy protection"
      ]
    },
    {
      "cell_type": "code",
      "metadata": {
        "id": "vprwVH4vpWXF",
        "colab_type": "code",
        "colab": {}
      },
      "source": [
        "# Detect the faces\n",
        "detected = detector.detect_multi_scale(img=group_image, \n",
        "                                       scale_factor=1.2, step_ratio=1, \n",
        "                                       min_size=(10, 10), max_size=(100, 100))\n",
        "# For each detected face\n",
        "for d in detected:  \n",
        "    # Obtain the face rectangle from detected coordinates\n",
        "    face = getFaceRectangle(d)\n",
        "    \n",
        "    # Apply gaussian filter to extracted face\n",
        "    blurred_face = gaussian(face, multichannel=True, sigma = 8)\n",
        "    \n",
        "    # Merge this blurry face to our final image and show it\n",
        "    resulting_image = mergeBlurryFace(group_image, blurred_face) \n",
        "show_image(resulting_image, \"Blurred faces\")"
      ],
      "execution_count": null,
      "outputs": []
    },
    {
      "cell_type": "markdown",
      "metadata": {
        "id": "IgFEVVESp0U1",
        "colab_type": "text"
      },
      "source": [
        "## Help Sally restore her graduation photo"
      ]
    },
    {
      "cell_type": "code",
      "metadata": {
        "id": "XR9kSyoEp0u0",
        "colab_type": "code",
        "colab": {}
      },
      "source": [
        "# Import the necessary modules\n",
        "from skimage.restoration import denoise_tv_chambolle, inpaint\n",
        "from skimage import transform\n",
        "\n",
        "# Transform the image so it's not rotated\n",
        "upright_img = rotate(damaged_image, 20)\n",
        "\n",
        "# Remove noise from the image, using the chambolle method\n",
        "upright_img_without_noise = denoise_tv_chambolle(upright_img,weight=0.1, multichannel=True)\n",
        "\n",
        "# Reconstruct the image missing parts\n",
        "mask = get_mask(upright_img)\n",
        "result = inpaint.inpaint_biharmonic(upright_img_without_noise, mask, multichannel=True)\n",
        "\n",
        "show_image(result)"
      ],
      "execution_count": null,
      "outputs": []
    }
  ]
}