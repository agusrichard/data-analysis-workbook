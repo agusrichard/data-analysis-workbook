{
  "nbformat": 4,
  "nbformat_minor": 0,
  "metadata": {
    "colab": {
      "name": "filters_contrast_transformation_morphology.ipynb",
      "provenance": []
    },
    "kernelspec": {
      "name": "python3",
      "display_name": "Python 3"
    }
  },
  "cells": [
    {
      "cell_type": "markdown",
      "metadata": {
        "id": "WhXoLmMoEaZU",
        "colab_type": "text"
      },
      "source": [
        "# Filters, Contrast, Transformation and Morphology"
      ]
    },
    {
      "cell_type": "markdown",
      "metadata": {
        "id": "ZB2naX9zEbq1",
        "colab_type": "text"
      },
      "source": [
        "## Edge detection"
      ]
    },
    {
      "cell_type": "code",
      "metadata": {
        "id": "oyuwwk9eEhXr",
        "colab_type": "code",
        "colab": {}
      },
      "source": [
        "# Import the color module\n",
        "from skimage import color\n",
        "\n",
        "# Import the filters module and sobel function\n",
        "from skimage.filters import sobel\n",
        "\n",
        "# Make the image grayscale\n",
        "soaps_image_gray = color.rgb2gray(soaps_image)\n",
        "\n",
        "# Apply edge detection filter\n",
        "edge_sobel = sobel(soaps_image_gray)\n",
        "\n",
        "# Show original and resulting image to compare\n",
        "show_image(soaps_image, \"Original\")\n",
        "show_image(edge_sobel, \"Edges with Sobel\")"
      ],
      "execution_count": null,
      "outputs": []
    },
    {
      "cell_type": "markdown",
      "metadata": {
        "id": "NNGQLMZtExUC",
        "colab_type": "text"
      },
      "source": [
        "## Blurring to reduce noise"
      ]
    },
    {
      "cell_type": "code",
      "metadata": {
        "id": "hNTz8gDIExyu",
        "colab_type": "code",
        "colab": {}
      },
      "source": [
        "# Import Gaussian filter \n",
        "from skimage.filters import gaussian\n",
        "\n",
        "# Apply filter\n",
        "gaussian_image = gaussian(building_image, multichannel=True)\n",
        "\n",
        "# Show original and resulting image to compare\n",
        "show_image(building_image, \"Original\")\n",
        "show_image(gaussian_image, \"Reduced sharpness Gaussian\")"
      ],
      "execution_count": null,
      "outputs": []
    },
    {
      "cell_type": "markdown",
      "metadata": {
        "id": "t0tuRtNUGwWc",
        "colab_type": "text"
      },
      "source": [
        "## What's the contrast of this image?"
      ]
    },
    {
      "cell_type": "markdown",
      "metadata": {
        "id": "ZKbbB7dWGwvS",
        "colab_type": "text"
      },
      "source": [
        "B. The contrast is 148."
      ]
    },
    {
      "cell_type": "markdown",
      "metadata": {
        "id": "WSbBgb_aHKbK",
        "colab_type": "text"
      },
      "source": [
        "## Medical images"
      ]
    },
    {
      "cell_type": "code",
      "metadata": {
        "id": "SqQrskQ_HMXI",
        "colab_type": "code",
        "colab": {}
      },
      "source": [
        "# Import the required module\n",
        "from skimage import exposure"
      ],
      "execution_count": null,
      "outputs": []
    },
    {
      "cell_type": "code",
      "metadata": {
        "id": "v0IiXmNvHgW1",
        "colab_type": "code",
        "colab": {}
      },
      "source": [
        "# Import the required module\n",
        "from skimage import exposure\n",
        "\n",
        "# Show original x-ray image and its histogram\n",
        "show_image(chest_xray_image, 'Original x-ray')\n",
        "\n",
        "plt.title('Histogram of image')\n",
        "plt.hist(chest_xray_image.ravel(), bins=256)\n",
        "plt.show()"
      ],
      "execution_count": null,
      "outputs": []
    },
    {
      "cell_type": "code",
      "metadata": {
        "id": "NThDPNFHH3E1",
        "colab_type": "code",
        "colab": {}
      },
      "source": [
        "# Import the required module\n",
        "from skimage import exposure\n",
        "\n",
        "# Show original x-ray image and its histogram\n",
        "show_image(chest_xray_image, 'Original x-ray')\n",
        "\n",
        "plt.title('Histogram of image')\n",
        "plt.hist(chest_xray_image.ravel(), bins=256)\n",
        "plt.show()\n",
        "\n",
        "# Use histogram equalization to improve the contrast\n",
        "xray_image_eq =  exposure.equalize_hist(chest_xray_image)"
      ],
      "execution_count": null,
      "outputs": []
    },
    {
      "cell_type": "code",
      "metadata": {
        "id": "yLvTeUmmH5wE",
        "colab_type": "code",
        "colab": {}
      },
      "source": [
        "# Import the required module\n",
        "from skimage import exposure\n",
        "\n",
        "# Show original x-ray image and its histogram\n",
        "show_image(chest_xray_image, 'Original x-ray')\n",
        "\n",
        "plt.title('Histogram of image')\n",
        "plt.hist(chest_xray_image.ravel(), bins=256)\n",
        "plt.show()\n",
        "\n",
        "# Use histogram equalization to improve the contrast\n",
        "xray_image_eq =  exposure.equalize_hist(chest_xray_image)\n",
        "\n",
        "# Show the resulting image\n",
        "show_image(xray_image_eq, 'Resulting image')"
      ],
      "execution_count": null,
      "outputs": []
    },
    {
      "cell_type": "markdown",
      "metadata": {
        "id": "7dO6Knv3H9oe",
        "colab_type": "text"
      },
      "source": [
        "## Aerial image"
      ]
    },
    {
      "cell_type": "code",
      "metadata": {
        "id": "OxWUGRcoH-DZ",
        "colab_type": "code",
        "colab": {}
      },
      "source": [
        "# Import the required module\n",
        "from skimage import exposure\n",
        "\n",
        "# Use histogram equalization to improve the contrast\n",
        "image_eq =  exposure.equalize_hist(image_aerial)\n",
        "\n",
        "# Show the original and resulting image\n",
        "show_image(image_aerial, 'Original')\n",
        "show_image(image_eq, 'Resulting image')"
      ],
      "execution_count": null,
      "outputs": []
    },
    {
      "cell_type": "markdown",
      "metadata": {
        "id": "Tsi0WTpNIKxb",
        "colab_type": "text"
      },
      "source": [
        "## Let's add some impact and contrast"
      ]
    },
    {
      "cell_type": "code",
      "metadata": {
        "id": "WG3ZiDzkILNB",
        "colab_type": "code",
        "colab": {}
      },
      "source": [
        "# Import the necessary modules\n",
        "from skimage import data, exposure\n",
        "\n",
        "# Load the image\n",
        "original_image = data.coffee()\n",
        "\n",
        "# Apply the adaptive equalization on the original image\n",
        "adapthist_eq_image = exposure.equalize_adapthist(original_image, clip_limit=0.03)\n",
        "\n",
        "# Compare the original image to the equalized\n",
        "show_image(original_image)\n",
        "show_image(adapthist_eq_image, '#ImageProcessingDatacamp')"
      ],
      "execution_count": null,
      "outputs": []
    },
    {
      "cell_type": "markdown",
      "metadata": {
        "id": "sx2pAPCVJxG_",
        "colab_type": "text"
      },
      "source": [
        "## Aliasing, rotating and rescaling"
      ]
    },
    {
      "cell_type": "code",
      "metadata": {
        "id": "hqiAdS_XJxf_",
        "colab_type": "code",
        "colab": {}
      },
      "source": [
        "# Import the module and the rotate and rescale functions\n",
        "from skimage.transform import rotate, rescale"
      ],
      "execution_count": null,
      "outputs": []
    },
    {
      "cell_type": "code",
      "metadata": {
        "id": "GeehlSlRJ93p",
        "colab_type": "code",
        "colab": {}
      },
      "source": [
        "# Import the module and the rotate and rescale functions\n",
        "from skimage.transform import rotate, rescale\n",
        "\n",
        "# Rotate the image 90 degrees clockwise \n",
        "rotated_cat_image = rotate(image_cat, -90)"
      ],
      "execution_count": null,
      "outputs": []
    },
    {
      "cell_type": "code",
      "metadata": {
        "id": "-o-f4pJMKFF3",
        "colab_type": "code",
        "colab": {}
      },
      "source": [
        "# Import the module and the rotate and rescale functions\n",
        "from skimage.transform import rotate, rescale\n",
        "\n",
        "# Rotate the image 90 degrees clockwise \n",
        "rotated_cat_image = rotate(image_cat, -90)\n",
        "\n",
        "# Rescale with anti aliasing\n",
        "rescaled_with_aa = rescale(rotated_cat_image, 1/4, anti_aliasing=True, multichannel=True)"
      ],
      "execution_count": null,
      "outputs": []
    },
    {
      "cell_type": "code",
      "metadata": {
        "id": "AvMv47jTKM7n",
        "colab_type": "code",
        "colab": {}
      },
      "source": [
        "# Import the module and the rotate and rescale functions\n",
        "from skimage.transform import rotate, rescale\n",
        "\n",
        "# Rotate the image 90 degrees clockwise \n",
        "rotated_cat_image = rotate(image_cat, -90)\n",
        "\n",
        "# Rescale with anti aliasing\n",
        "rescaled_with_aa = rescale(rotated_cat_image, 1/4, anti_aliasing=True, multichannel=True)\n",
        "\n",
        "# Rescale without anti aliasing\n",
        "rescaled_without_aa = rescale(rotated_cat_image, 1/4, anti_aliasing=False, multichannel=True)\n",
        "\n",
        "# Show the resulting images\n",
        "show_image(rescaled_with_aa, \"Transformed with anti aliasing\")\n",
        "show_image(rescaled_without_aa, \"Transformed without anti aliasing\")"
      ],
      "execution_count": null,
      "outputs": []
    },
    {
      "cell_type": "markdown",
      "metadata": {
        "id": "weqPT5w0KUBu",
        "colab_type": "text"
      },
      "source": [
        "## Enlarging images"
      ]
    },
    {
      "cell_type": "code",
      "metadata": {
        "id": "QVuHMe36KU1a",
        "colab_type": "code",
        "colab": {}
      },
      "source": [
        "# Import the module and function to enlarge images\n",
        "from skimage.transform import rescale\n",
        "\n",
        "# Import the data module\n",
        "from skimage import data\n",
        "\n",
        "# Load the image from data\n",
        "rocket_image = data.rocket()\n",
        "\n",
        "# Enlarge the image so it is 3 times bigger\n",
        "enlarged_rocket_image = rescale(rocket_image, 3, anti_aliasing=True, multichannel=True)\n",
        "\n",
        "# Show original and resulting image\n",
        "show_image(rocket_image)\n",
        "show_image(enlarged_rocket_image, \"3 times enlarged image\")"
      ],
      "execution_count": null,
      "outputs": []
    },
    {
      "cell_type": "markdown",
      "metadata": {
        "id": "eYjBp0YoLHI-",
        "colab_type": "text"
      },
      "source": [
        "## Proportionally resizing"
      ]
    },
    {
      "cell_type": "code",
      "metadata": {
        "id": "VPq0onVYLHgM",
        "colab_type": "code",
        "colab": {}
      },
      "source": [
        "# Import the module and function\n",
        "from skimage.transform import resize\n",
        "\n",
        "# Set proportional height so its half its size\n",
        "height = int(dogs_banner.shape[0] / 2)\n",
        "width = int(dogs_banner.shape[1] / 2)\n",
        "\n",
        "# Resize using the calculated proportional height and width\n",
        "image_resized = resize(dogs_banner, (height, width),\n",
        "                       anti_aliasing=True)\n",
        "\n",
        "# Show the original and rotated image\n",
        "show_image(dogs_banner, 'Original')\n",
        "show_image(image_resized, 'Resized image')"
      ],
      "execution_count": null,
      "outputs": []
    },
    {
      "cell_type": "markdown",
      "metadata": {
        "id": "6cdN9iEBMiAq",
        "colab_type": "text"
      },
      "source": [
        "## Handwritten letters"
      ]
    },
    {
      "cell_type": "code",
      "metadata": {
        "id": "PzqxCb9pMiZl",
        "colab_type": "code",
        "colab": {}
      },
      "source": [
        "# Import the morphology module\n",
        "from skimage import morphology\n",
        "\n",
        "# Obtain the eroded shape \n",
        "eroded_image_shape = morphology.binary_erosion(upper_r_image) \n",
        "\n",
        "# See results\n",
        "show_image(upper_r_image, 'Original')\n",
        "show_image(eroded_image_shape, 'Eroded image')"
      ],
      "execution_count": null,
      "outputs": []
    },
    {
      "cell_type": "markdown",
      "metadata": {
        "id": "X3KXCbsXNAoa",
        "colab_type": "text"
      },
      "source": [
        "## Improving thresholded image"
      ]
    },
    {
      "cell_type": "code",
      "metadata": {
        "id": "ZtWV99odNBBu",
        "colab_type": "code",
        "colab": {}
      },
      "source": [
        "# Import the module\n",
        "from skimage import morphology\n",
        "\n",
        "# Obtain the dilated image \n",
        "dilated_image = morphology.binary_dilation(world_image)\n",
        "\n",
        "# See results\n",
        "show_image(world_image, 'Original')\n",
        "show_image(dilated_image, 'Dilated image')"
      ],
      "execution_count": null,
      "outputs": []
    }
  ]
}