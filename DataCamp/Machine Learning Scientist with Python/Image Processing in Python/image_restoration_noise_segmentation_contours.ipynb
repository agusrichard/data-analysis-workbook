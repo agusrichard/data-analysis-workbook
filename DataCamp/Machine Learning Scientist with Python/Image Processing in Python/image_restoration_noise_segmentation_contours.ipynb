{
  "nbformat": 4,
  "nbformat_minor": 0,
  "metadata": {
    "colab": {
      "name": "image_restoration_noise_segmentation_contours.ipynb",
      "provenance": []
    },
    "kernelspec": {
      "name": "python3",
      "display_name": "Python 3"
    }
  },
  "cells": [
    {
      "cell_type": "markdown",
      "metadata": {
        "id": "k69j2hxAOcmi",
        "colab_type": "text"
      },
      "source": [
        "# Image restoration, Noise, Segmentation and Contours"
      ]
    },
    {
      "cell_type": "markdown",
      "metadata": {
        "id": "LFoftO4lOZmJ",
        "colab_type": "text"
      },
      "source": [
        "## Let's restore a damaged image"
      ]
    },
    {
      "cell_type": "code",
      "metadata": {
        "id": "aY_f5Ik4Oas7",
        "colab_type": "code",
        "colab": {}
      },
      "source": [
        "# Import the module from restoration\n",
        "from skimage.restoration import inpaint"
      ],
      "execution_count": null,
      "outputs": []
    },
    {
      "cell_type": "code",
      "metadata": {
        "id": "BAX2W37-OrgF",
        "colab_type": "code",
        "colab": {}
      },
      "source": [
        "# Import the module from restoration\n",
        "from skimage.restoration import inpaint\n",
        "\n",
        "# Show the defective image\n",
        "show_image(defect_image, 'Image to restore')"
      ],
      "execution_count": null,
      "outputs": []
    },
    {
      "cell_type": "code",
      "metadata": {
        "id": "UY0C_G0sO_Tt",
        "colab_type": "code",
        "colab": {}
      },
      "source": [
        "# Import the module from restoration\n",
        "from skimage.restoration import inpaint\n",
        "\n",
        "# Show the defective image\n",
        "show_image(defect_image, 'Image to restore')\n",
        "\n",
        "# Apply the restoration function to the image using the mask\n",
        "restored_image = inpaint.inpaint_biharmonic(defect_image, mask, multichannel=True)\n",
        "show_image(restored_image)"
      ],
      "execution_count": null,
      "outputs": []
    },
    {
      "cell_type": "markdown",
      "metadata": {
        "id": "aMx7EdpyPKjb",
        "colab_type": "text"
      },
      "source": [
        "## Removing logos"
      ]
    },
    {
      "cell_type": "code",
      "metadata": {
        "id": "9YI3ANXyPLAj",
        "colab_type": "code",
        "colab": {}
      },
      "source": [
        "# Initialize the mask\n",
        "mask = np.zeros(image_with_logo.shape[:-1])\n",
        "\n",
        "# Set the pixels where the logo is to 1\n",
        "mask[210:272, 360:425] = 1\n",
        "\n",
        "# Apply inpainting to remove the logo\n",
        "image_logo_removed = inpaint.inpaint_biharmonic(image_with_logo,\n",
        "                                  mask,\n",
        "                                  multichannel=True)\n",
        "\n",
        "# Show the original and logo removed images\n",
        "show_image(image_with_logo, 'Image with logo')\n",
        "show_image(image_logo_removed, 'Image with logo removed')"
      ],
      "execution_count": null,
      "outputs": []
    },
    {
      "cell_type": "markdown",
      "metadata": {
        "id": "5ZrOYWuMQpgx",
        "colab_type": "text"
      },
      "source": [
        "## Let's make some noise!"
      ]
    },
    {
      "cell_type": "code",
      "metadata": {
        "id": "S0IajnKmQp6X",
        "colab_type": "code",
        "colab": {}
      },
      "source": [
        "# Import the module and function\n",
        "from skimage.util import random_noise\n",
        "\n",
        "# Add noise to the image\n",
        "noisy_image = random_noise(fruit_image)\n",
        "\n",
        "# Show original and resulting image\n",
        "show_image(fruit_image, 'Original')\n",
        "show_image(noisy_image, 'Noisy image')"
      ],
      "execution_count": null,
      "outputs": []
    },
    {
      "cell_type": "markdown",
      "metadata": {
        "id": "nLIHtVyDQ4_j",
        "colab_type": "text"
      },
      "source": [
        "## Reducing noise"
      ]
    },
    {
      "cell_type": "code",
      "metadata": {
        "id": "-O_4zS3aQ5dK",
        "colab_type": "code",
        "colab": {}
      },
      "source": [
        "# Import the module and function\n",
        "from skimage.restoration import denoise_tv_chambolle\n",
        "\n",
        "# Apply total variation filter denoising\n",
        "denoised_image = denoise_tv_chambolle(noisy_image, \n",
        "                                      multichannel=True)\n",
        "\n",
        "# Show the noisy and denoised images\n",
        "show_image(noisy_image, 'Noisy')\n",
        "show_image(denoised_image, 'Denoised image')"
      ],
      "execution_count": null,
      "outputs": []
    },
    {
      "cell_type": "markdown",
      "metadata": {
        "id": "dGlcV0sRRgZR",
        "colab_type": "text"
      },
      "source": [
        "## Reducing noise while preserving edges"
      ]
    },
    {
      "cell_type": "code",
      "metadata": {
        "id": "Nv9is3NFRg0F",
        "colab_type": "code",
        "colab": {}
      },
      "source": [
        "# Import bilateral denoising function\n",
        "from skimage.restoration import denoise_bilateral\n",
        "\n",
        "# Apply bilateral filter denoising\n",
        "denoised_image = denoise_bilateral(landscape_image, \n",
        "                                   multichannel=True)\n",
        "\n",
        "# Show original and resulting images\n",
        "show_image(landscape_image, 'Noisy image')\n",
        "show_image(denoised_image, 'Denoised image')"
      ],
      "execution_count": null,
      "outputs": []
    },
    {
      "cell_type": "markdown",
      "metadata": {
        "id": "eetiuKqeS5wz",
        "colab_type": "text"
      },
      "source": [
        "## Number of pixels"
      ]
    },
    {
      "cell_type": "markdown",
      "metadata": {
        "id": "znF-ClMLS6LQ",
        "colab_type": "text"
      },
      "source": [
        "B. 265 * 191 = 50,615 pixels"
      ]
    },
    {
      "cell_type": "markdown",
      "metadata": {
        "id": "thy_Kk5ZTCSz",
        "colab_type": "text"
      },
      "source": [
        "## Superpixel segmentation"
      ]
    },
    {
      "cell_type": "code",
      "metadata": {
        "id": "X-wbjiygTEjf",
        "colab_type": "code",
        "colab": {}
      },
      "source": [
        "# Import the slic function from segmentation module\n",
        "from skimage.segmentation import slic\n",
        "\n",
        "# Import the label2rgb function from color module\n",
        "from skimage.color import label2rgb\n",
        "\n",
        "# Obtain the segmentation with 400 regions\n",
        "segments = slic(face_image, n_segments= 400)\n",
        "\n",
        "# Put segments on top of original image to compare\n",
        "segmented_image = label2rgb(segments, face_image, kind='avg')\n",
        "\n",
        "# Show the segmented image\n",
        "show_image(segmented_image, \"Segmented image, 400 superpixels\")"
      ],
      "execution_count": null,
      "outputs": []
    },
    {
      "cell_type": "markdown",
      "metadata": {
        "id": "aKCgnJIbUdqI",
        "colab_type": "text"
      },
      "source": [
        "## Contouring shapes"
      ]
    },
    {
      "cell_type": "code",
      "metadata": {
        "id": "FfFTw1bXUeDG",
        "colab_type": "code",
        "colab": {}
      },
      "source": [
        "# Import the modules\n",
        "from skimage import data, measure\n",
        "\n",
        "# Obtain the horse image\n",
        "horse_image = data.horse()\n",
        "\n",
        "# Find the contours with a constant level value of 0.8\n",
        "contours = measure.find_contours(horse_image, 0.8)\n",
        "\n",
        "# Shows the image with contours found\n",
        "show_image_contour(horse_image, contours)"
      ],
      "execution_count": null,
      "outputs": []
    },
    {
      "cell_type": "markdown",
      "metadata": {
        "id": "FP2rFWoxUwM5",
        "colab_type": "text"
      },
      "source": [
        "## Find contours of an image that is not binary"
      ]
    },
    {
      "cell_type": "code",
      "metadata": {
        "id": "O53WRcmoUwuJ",
        "colab_type": "code",
        "colab": {}
      },
      "source": [
        "# Make the image grayscale\n",
        "image_dices = color.rgb2gray(image_dices)"
      ],
      "execution_count": null,
      "outputs": []
    },
    {
      "cell_type": "code",
      "metadata": {
        "id": "ZNDEzzluVLFR",
        "colab_type": "code",
        "colab": {}
      },
      "source": [
        "# Make the image grayscale\n",
        "image_dices = color.rgb2gray(image_dices)\n",
        "\n",
        "# Obtain the optimal thresh value\n",
        "thresh = filters.threshold_otsu(image_dices)"
      ],
      "execution_count": null,
      "outputs": []
    },
    {
      "cell_type": "code",
      "metadata": {
        "id": "-P_DK1xQVOHp",
        "colab_type": "code",
        "colab": {}
      },
      "source": [
        "# Make the image grayscale\n",
        "image_dices = color.rgb2gray(image_dices)\n",
        "\n",
        "# Obtain the optimal thresh value\n",
        "thresh = filters.threshold_otsu(image_dices)\n",
        "\n",
        "# Apply thresholding\n",
        "binary = image_dices > thresh"
      ],
      "execution_count": null,
      "outputs": []
    },
    {
      "cell_type": "code",
      "metadata": {
        "id": "Oo25dZleVYrg",
        "colab_type": "code",
        "colab": {}
      },
      "source": [
        "# Make the image grayscale\n",
        "image_dices = color.rgb2gray(image_dices)\n",
        "\n",
        "# Obtain the optimal thresh value\n",
        "thresh = filters.threshold_otsu(image_dices)\n",
        "\n",
        "# Apply thresholding\n",
        "binary = image_dices > thresh\n",
        "\n",
        "# Find contours at a constant value of 0.8\n",
        "contours = measure.find_contours(binary, 0.8)\n",
        "\n",
        "# Show the image\n",
        "show_image_contour(image_dices, contours)"
      ],
      "execution_count": null,
      "outputs": []
    },
    {
      "cell_type": "markdown",
      "metadata": {
        "id": "6e8QNA8XVkho",
        "colab_type": "text"
      },
      "source": [
        "## Count the dots in a dice's image"
      ]
    },
    {
      "cell_type": "code",
      "metadata": {
        "id": "p_kyHLU0Vk86",
        "colab_type": "code",
        "colab": {}
      },
      "source": [
        "# Create list with the shape of each contour\n",
        "shape_contours = [cnt.shape[0] for cnt in contours]\n",
        "\n",
        "# Set 50 as the maximum size of the dots shape\n",
        "max_dots_shape = 50\n",
        "\n",
        "# Count dots in contours excluding bigger than dots size\n",
        "dots_contours = [cnt for cnt in contours if np.shape(cnt)[0] < max_dots_shape]\n",
        "\n",
        "# Shows all contours found \n",
        "show_image_contour(binary, contours)\n",
        "\n",
        "# Print the dice's number\n",
        "print(\"Dice's dots number: {}. \".format(len(dots_contours)))"
      ],
      "execution_count": null,
      "outputs": []
    }
  ]
}