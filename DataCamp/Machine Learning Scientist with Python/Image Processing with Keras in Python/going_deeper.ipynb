{
  "nbformat": 4,
  "nbformat_minor": 0,
  "metadata": {
    "colab": {
      "name": "going_deeper.ipynb",
      "provenance": []
    },
    "kernelspec": {
      "name": "python3",
      "display_name": "Python 3"
    }
  },
  "cells": [
    {
      "cell_type": "markdown",
      "metadata": {
        "id": "Ph2sO-568rLo",
        "colab_type": "text"
      },
      "source": [
        "# Going Deeper"
      ]
    },
    {
      "cell_type": "markdown",
      "metadata": {
        "id": "qZNmwy-T72Di",
        "colab_type": "text"
      },
      "source": [
        "## Creating a deep learning network"
      ]
    },
    {
      "cell_type": "code",
      "metadata": {
        "id": "mGuSjpSz8op_",
        "colab_type": "code",
        "colab": {}
      },
      "source": [
        "from keras.models import Sequential\n",
        "from keras.layers import Dense, Conv2D, Flatten\n",
        "\n",
        "model = Sequential()\n",
        "\n",
        "# Add a convolutional layer (15 units)\n",
        "model.add(Conv2D(15, activation='relu', input_shape=(img_rows, img_cols, 1), kernel_size=2))\n",
        "\n",
        "\n",
        "# Add another convolutional layer (5 units)\n",
        "model.add(Conv2D(5, activation='relu', kernel_size=2))\n",
        "\n",
        "# Flatten and feed to output layer\n",
        "model.add(Flatten())\n",
        "model.add(Dense(3, activation='softmax'))"
      ],
      "execution_count": null,
      "outputs": []
    },
    {
      "cell_type": "markdown",
      "metadata": {
        "id": "B4xMnkS49TwQ",
        "colab_type": "text"
      },
      "source": [
        "## Train a deep CNN to classify clothing images"
      ]
    },
    {
      "cell_type": "code",
      "metadata": {
        "id": "bhtWHw849UJQ",
        "colab_type": "code",
        "colab": {}
      },
      "source": [
        "# Compile model\n",
        "model.compile(optimizer='adam', \n",
        "              loss='categorical_crossentropy', \n",
        "              metrics=['accuracy'])\n",
        "\n",
        "# Fit the model to training data \n",
        "model.fit(train_data, train_labels, \n",
        "          validation_split=0.2, \n",
        "          epochs=3, batch_size=10)\n",
        "\n",
        "# Evaluate the model on test data\n",
        "model.evaluate(test_data, test_labels, batch_size=10)"
      ],
      "execution_count": null,
      "outputs": []
    },
    {
      "cell_type": "markdown",
      "metadata": {
        "id": "nfMamPhr9jSD",
        "colab_type": "text"
      },
      "source": [
        "## What is special about a deep network?"
      ]
    },
    {
      "cell_type": "markdown",
      "metadata": {
        "id": "X3unHvig9joe",
        "colab_type": "text"
      },
      "source": [
        "B. A deep network requires more data and more computation to fit"
      ]
    },
    {
      "cell_type": "markdown",
      "metadata": {
        "id": "7c84nWTI9wLl",
        "colab_type": "text"
      },
      "source": [
        "## How many parameters in a CNN?"
      ]
    },
    {
      "cell_type": "markdown",
      "metadata": {
        "id": "6hP9rJ5QQom2",
        "colab_type": "text"
      },
      "source": [
        "C. 15,782"
      ]
    },
    {
      "cell_type": "markdown",
      "metadata": {
        "id": "W1r_SL7ZRZra",
        "colab_type": "text"
      },
      "source": [
        "## How many parameters in a deep CNN?"
      ]
    },
    {
      "cell_type": "code",
      "metadata": {
        "id": "buWYMxYnRbo-",
        "colab_type": "code",
        "colab": {}
      },
      "source": [
        "# CNN model\n",
        "model = Sequential()\n",
        "model.add(Conv2D(10, kernel_size=2, activation='relu', \n",
        "                 input_shape=(28, 28, 1)))\n",
        "model.add(Conv2D(10, kernel_size=2, activation='relu'))\n",
        "model.add(Flatten())\n",
        "model.add(Dense(3, activation='softmax'))\n",
        "\n",
        "# Summarize the model \n",
        "model.summary()"
      ],
      "execution_count": null,
      "outputs": []
    },
    {
      "cell_type": "markdown",
      "metadata": {
        "id": "ePxdR98bSl9V",
        "colab_type": "text"
      },
      "source": [
        "## Write your own pooling operation"
      ]
    },
    {
      "cell_type": "code",
      "metadata": {
        "id": "Z8RqczyKSmUm",
        "colab_type": "code",
        "colab": {}
      },
      "source": [
        "# Result placeholder\n",
        "result = np.zeros((im.shape[0]//2, im.shape[1]//2))\n",
        "\n",
        "# Pooling operation\n",
        "for ii in range(result.shape[0]):\n",
        "    for jj in range(result.shape[1]):\n",
        "        result[ii, jj] = np.max(im[ii*2:ii*2+2, jj*2:jj*2+2])"
      ],
      "execution_count": null,
      "outputs": []
    },
    {
      "cell_type": "markdown",
      "metadata": {
        "id": "ELoqcbKtTJQW",
        "colab_type": "text"
      },
      "source": [
        "## Keras pooling layers"
      ]
    },
    {
      "cell_type": "code",
      "metadata": {
        "id": "g_f-M18mTJ1N",
        "colab_type": "code",
        "colab": {}
      },
      "source": [
        "# Add a convolutional layer\n",
        "model.add(Conv2D(15, kernel_size=2, activation='relu', \n",
        "                 input_shape=(img_rows, img_cols, 1)))\n",
        "\n",
        "# Add a pooling operation\n",
        "model.add(MaxPool2D(2))\n",
        "\n",
        "# Add another convolutional layer\n",
        "model.add(Conv2D(5, kernel_size=2, activation='relu'))\n",
        "\n",
        "# Flatten and feed to output layer\n",
        "model.add(Flatten())\n",
        "model.add(Dense(3, activation='softmax'))\n",
        "model.summary()"
      ],
      "execution_count": null,
      "outputs": []
    },
    {
      "cell_type": "markdown",
      "metadata": {
        "id": "csX3thKyTe50",
        "colab_type": "text"
      },
      "source": [
        "## Train a deep CNN with pooling to classify images"
      ]
    },
    {
      "cell_type": "code",
      "metadata": {
        "id": "w55aUmElTfRJ",
        "colab_type": "code",
        "colab": {}
      },
      "source": [
        "# Compile the model\n",
        "model.compile(optimizer='adam', loss='categorical_crossentropy', metrics=['accuracy'])\n",
        "\n",
        "# Fit to training data\n",
        "model.fit(train_data, train_labels, epochs=3, batch_size=10, validation_split=0.2)\n",
        "\n",
        "# Evaluate on test data \n",
        "model.evaluate(test_data, test_labels, batch_size=10)"
      ],
      "execution_count": null,
      "outputs": []
    }
  ]
}