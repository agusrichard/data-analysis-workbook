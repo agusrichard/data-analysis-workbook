{
  "nbformat": 4,
  "nbformat_minor": 0,
  "metadata": {
    "colab": {
      "name": "using_convolutions.ipynb",
      "provenance": []
    },
    "kernelspec": {
      "name": "python3",
      "display_name": "Python 3"
    }
  },
  "cells": [
    {
      "cell_type": "markdown",
      "metadata": {
        "id": "9aWFIFGe21tD",
        "colab_type": "text"
      },
      "source": [
        "# Using Convolutions"
      ]
    },
    {
      "cell_type": "markdown",
      "metadata": {
        "id": "wXy0U4Vm2y2W",
        "colab_type": "text"
      },
      "source": [
        "## One dimensional convolutions"
      ]
    },
    {
      "cell_type": "code",
      "metadata": {
        "id": "-PAv-6S52z-h",
        "colab_type": "code",
        "colab": {}
      },
      "source": [
        "array = np.array([1, 0, 1, 0, 1, 0, 1, 0, 1, 0])\n",
        "kernel = np.array([1, -1, 0])\n",
        "conv = np.array([0, 0, 0, 0, 0, 0, 0, 0, 0, 0])\n",
        "\n",
        "# Output array\n",
        "for ii in range(8):\n",
        "    conv[ii] = (kernel * array[ii:ii+3]).sum()\n",
        "\n",
        "# Print conv\n",
        "print(conv)"
      ],
      "execution_count": null,
      "outputs": []
    },
    {
      "cell_type": "markdown",
      "metadata": {
        "id": "RmSwlyIH3SEE",
        "colab_type": "text"
      },
      "source": [
        "## Image convolutions"
      ]
    },
    {
      "cell_type": "code",
      "metadata": {
        "id": "KKLnE65w3ScX",
        "colab_type": "code",
        "colab": {}
      },
      "source": [
        "kernel = np.array([[0, 1, 0], [1, 1, 1], [0, 1, 0]])\n",
        "result = np.zeros(im.shape)\n",
        "\n",
        "# Output array\n",
        "for ii in range(im.shape[0] - 3):\n",
        "    for jj in range(im.shape[1] - 3):\n",
        "        result[ii, jj] = (im[ii:ii+3, jj:jj+3] * kernel).sum()\n",
        "\n",
        "# Print result\n",
        "print(result)"
      ],
      "execution_count": null,
      "outputs": []
    },
    {
      "cell_type": "markdown",
      "metadata": {
        "id": "cr80u1b13mFO",
        "colab_type": "text"
      },
      "source": [
        "## Defining image convolution kernels"
      ]
    },
    {
      "cell_type": "code",
      "metadata": {
        "id": "1_nMqWrJ3mc9",
        "colab_type": "code",
        "colab": {}
      },
      "source": [
        "kernel = np.array([[-1, -1, -1], \n",
        "                   [1, 1, 1],\n",
        "                   [-1, -1, -1]])"
      ],
      "execution_count": null,
      "outputs": []
    },
    {
      "cell_type": "code",
      "metadata": {
        "id": "8hoy0XSJ4SIw",
        "colab_type": "code",
        "colab": {}
      },
      "source": [
        "kernel = np.array([[-1, -1, -1], \n",
        "                   [-1, 1, -1],\n",
        "                   [-1, -1, -1]])"
      ],
      "execution_count": null,
      "outputs": []
    },
    {
      "cell_type": "code",
      "metadata": {
        "id": "m1wtL5Y64WLY",
        "colab_type": "code",
        "colab": {}
      },
      "source": [
        "kernel = np.array([[1, 1, 1], \n",
        "                   [1, -1, 1],\n",
        "                   [1, 1, 1]])"
      ],
      "execution_count": null,
      "outputs": []
    },
    {
      "cell_type": "markdown",
      "metadata": {
        "id": "cSHAQUGk5cHC",
        "colab_type": "text"
      },
      "source": [
        "## Convolutional network for image classification"
      ]
    },
    {
      "cell_type": "code",
      "metadata": {
        "id": "6vG74nky5ccg",
        "colab_type": "code",
        "colab": {}
      },
      "source": [
        "# Import the necessary components from Keras\n",
        "from keras.models import Sequential\n",
        "from keras.layers import Dense, Conv2D, Flatten\n",
        "\n",
        "# Initialize the model object\n",
        "model = Sequential()\n",
        "\n",
        "# Add a convolutional layer\n",
        "model.add(Conv2D(10, kernel_size=3, activation='relu', \n",
        "               input_shape=(img_rows, img_cols, 1)))\n",
        "\n",
        "# Flatten the output of the convolutional layer\n",
        "model.add(Flatten())\n",
        "# Add an output layer for the 3 categories\n",
        "model.add(Dense(3, activation='softmax'))"
      ],
      "execution_count": null,
      "outputs": []
    },
    {
      "cell_type": "markdown",
      "metadata": {
        "id": "-aw5OY3n5oF0",
        "colab_type": "text"
      },
      "source": [
        "## Training a CNN to classify clothing types"
      ]
    },
    {
      "cell_type": "code",
      "metadata": {
        "id": "p6H3C2eH5ocY",
        "colab_type": "code",
        "colab": {}
      },
      "source": [
        "# Compile the model \n",
        "model.compile(optimizer='adam', \n",
        "              loss='categorical_crossentropy', \n",
        "              metrics=['accuracy'])\n",
        "\n",
        "# Fit the model on a training set\n",
        "model.fit(train_data, train_labels, \n",
        "          validation_split=0.2, \n",
        "          epochs=3, batch_size=10)"
      ],
      "execution_count": null,
      "outputs": []
    },
    {
      "cell_type": "markdown",
      "metadata": {
        "id": "PRv9zbVS57SK",
        "colab_type": "text"
      },
      "source": [
        "## Evaluating a CNN with test data"
      ]
    },
    {
      "cell_type": "code",
      "metadata": {
        "id": "blPVPTqB57pE",
        "colab_type": "code",
        "colab": {}
      },
      "source": [
        "# Evaluate the model on separate test data\n",
        "model.evaluate(test_data, test_labels, batch_size=10)"
      ],
      "execution_count": null,
      "outputs": []
    },
    {
      "cell_type": "markdown",
      "metadata": {
        "id": "8JCcPFDi7DDQ",
        "colab_type": "text"
      },
      "source": [
        "## Add padding to a CNN"
      ]
    },
    {
      "cell_type": "code",
      "metadata": {
        "id": "yORcLwy77Db4",
        "colab_type": "code",
        "colab": {}
      },
      "source": [
        "# Initialize the model\n",
        "model = Sequential()\n",
        "\n",
        "# Add the convolutional layer\n",
        "model.add(Conv2D(10, kernel_size=3, activation='relu', \n",
        "                 input_shape=(img_rows, img_cols, 1), \n",
        "                 padding='same'))\n",
        "\n",
        "# Feed into output layer\n",
        "model.add(Flatten())\n",
        "model.add(Dense(3, activation='softmax'))"
      ],
      "execution_count": null,
      "outputs": []
    },
    {
      "cell_type": "markdown",
      "metadata": {
        "id": "DV_C2ZSQ7LDx",
        "colab_type": "text"
      },
      "source": [
        "## Add strides to a convolutional network"
      ]
    },
    {
      "cell_type": "code",
      "metadata": {
        "id": "Vo8AVoN67KuS",
        "colab_type": "code",
        "colab": {}
      },
      "source": [
        "# Initialize the model\n",
        "model = Sequential()\n",
        "\n",
        "# Add the convolutional layer\n",
        "model.add(Conv2D(10, kernel_size=3, activation='relu', \n",
        "              input_shape=(img_rows, img_cols, 1), \n",
        "              strides=2))\n",
        "\n",
        "# Feed into output layer\n",
        "model.add(Flatten())\n",
        "model.add(Dense(3, activation='softmax'))"
      ],
      "execution_count": null,
      "outputs": []
    },
    {
      "cell_type": "markdown",
      "metadata": {
        "id": "j3Aw6-Rl7VbH",
        "colab_type": "text"
      },
      "source": [
        "## Calculate the size of convolutional layer output"
      ]
    },
    {
      "cell_type": "markdown",
      "metadata": {
        "id": "8uzpcjLG7VxM",
        "colab_type": "text"
      },
      "source": [
        "C. 128"
      ]
    }
  ]
}