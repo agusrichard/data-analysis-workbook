{
  "nbformat": 4,
  "nbformat_minor": 0,
  "metadata": {
    "colab": {
      "name": "image_processing_with_nn.ipynb",
      "provenance": []
    },
    "kernelspec": {
      "name": "python3",
      "display_name": "Python 3"
    }
  },
  "cells": [
    {
      "cell_type": "markdown",
      "metadata": {
        "id": "hjaVx0O7w7rY",
        "colab_type": "text"
      },
      "source": [
        "# Image Processing With Neural Networks"
      ]
    },
    {
      "cell_type": "markdown",
      "metadata": {
        "id": "PXciA7WQq6Bh",
        "colab_type": "text"
      },
      "source": [
        "## Images as data: visualizations"
      ]
    },
    {
      "cell_type": "code",
      "metadata": {
        "id": "bFQqvz5Sw59Z",
        "colab_type": "code",
        "colab": {}
      },
      "source": [
        "# Import matplotlib\n",
        "import matplotlib.pyplot as plt\n",
        "\n",
        "# Load the image\n",
        "data = plt.imread('bricks.png')\n",
        "\n",
        "# Display the image\n",
        "plt.imshow(data)\n",
        "plt.show()"
      ],
      "execution_count": null,
      "outputs": []
    },
    {
      "cell_type": "markdown",
      "metadata": {
        "id": "MH6-pWrGxOgE",
        "colab_type": "text"
      },
      "source": [
        "## Images as data: changing images"
      ]
    },
    {
      "cell_type": "code",
      "metadata": {
        "id": "6hzmLXM1xO2Z",
        "colab_type": "code",
        "colab": {}
      },
      "source": [
        "# Set the red channel in this part of the image to 1\n",
        "data[:10, :10, 0] = 1\n",
        "\n",
        "# Set the green channel in this part of the image to 0\n",
        "data[:10, :10, 1] = 0\n",
        "\n",
        "# Set the blue channel in this part of the image to 0\n",
        "data[:10, :10, 2] = 0\n",
        "\n",
        "# Visualize the result\n",
        "plt.imshow(data)\n",
        "plt.show()"
      ],
      "execution_count": null,
      "outputs": []
    },
    {
      "cell_type": "markdown",
      "metadata": {
        "id": "YR1mvX70yNkv",
        "colab_type": "text"
      },
      "source": [
        "## Using one-hot encoding to represent images"
      ]
    },
    {
      "cell_type": "code",
      "metadata": {
        "id": "Fe6Qd_GkyN69",
        "colab_type": "code",
        "colab": {}
      },
      "source": [
        "# The number of image categories\n",
        "n_categories = 3\n",
        "\n",
        "# The unique values of categories in the data\n",
        "categories = np.array([\"shirt\", \"dress\", \"shoe\"])\n",
        "\n",
        "# Initialize ohe_labels as all zeros\n",
        "ohe_labels = np.zeros((len(labels), n_categories))\n",
        "\n",
        "# Loop over the labels\n",
        "for ii in range(len(labels)):\n",
        "    # Find the location of this label in the categories variable\n",
        "    jj = np.where(categories == labels[ii])\n",
        "    # Set the corresponding zero to one\n",
        "    ohe_labels[ii, jj] = 1"
      ],
      "execution_count": null,
      "outputs": []
    },
    {
      "cell_type": "markdown",
      "metadata": {
        "id": "p9lAhNNcy6hB",
        "colab_type": "text"
      },
      "source": [
        "## Evaluating a classifier"
      ]
    },
    {
      "cell_type": "code",
      "metadata": {
        "id": "X0OdblO2y67H",
        "colab_type": "code",
        "colab": {}
      },
      "source": [
        "# Calculate the number of correct predictions\n",
        "number_correct = (test_labels * predictions).sum()\n",
        "print(number_correct)\n",
        "\n",
        "# Calculate the proportion of correct predictions\n",
        "proportion_correct = number_correct / len(test_labels)\n",
        "print(proportion_correct)"
      ],
      "execution_count": null,
      "outputs": []
    },
    {
      "cell_type": "markdown",
      "metadata": {
        "id": "4MQ4rOrU0eML",
        "colab_type": "text"
      },
      "source": [
        "## Build a neural network"
      ]
    },
    {
      "cell_type": "code",
      "metadata": {
        "id": "jAFOIowr0erT",
        "colab_type": "code",
        "colab": {}
      },
      "source": [
        "# Imports components from Keras\n",
        "from keras.models import Sequential\n",
        "from keras.layers import Dense\n",
        "\n",
        "# Initializes a sequential model\n",
        "model = Sequential()\n",
        "\n",
        "# First layer\n",
        "model.add(Dense(10, activation='relu', input_shape=(784,)))\n",
        "\n",
        "# Second layer\n",
        "model.add(Dense(10, activation='relu'))\n",
        "\n",
        "# Output layer\n",
        "model.add(Dense(3, activation='softmax'))"
      ],
      "execution_count": null,
      "outputs": []
    },
    {
      "cell_type": "markdown",
      "metadata": {
        "id": "FlnjvrJy0vl2",
        "colab_type": "text"
      },
      "source": [
        "## Compile a neural network"
      ]
    },
    {
      "cell_type": "code",
      "metadata": {
        "id": "7-mRdkuh0v-d",
        "colab_type": "code",
        "colab": {}
      },
      "source": [
        "# Compile the model\n",
        "model.compile(optimizer='adam', \n",
        "           loss='categorical_crossentropy', \n",
        "           metrics=['accuracy'])"
      ],
      "execution_count": null,
      "outputs": []
    },
    {
      "cell_type": "markdown",
      "metadata": {
        "id": "8vuidfQw08iF",
        "colab_type": "text"
      },
      "source": [
        "## Fitting a neural network model to clothing data"
      ]
    },
    {
      "cell_type": "code",
      "metadata": {
        "id": "CW2dqXnT0869",
        "colab_type": "code",
        "colab": {}
      },
      "source": [
        "# Reshape the data to two-dimensional array\n",
        "train_data = train_data.reshape(50, 784)\n",
        "\n",
        "# Fit the model\n",
        "model.fit(train_data, train_labels, validation_split=0.2, epochs=3)"
      ],
      "execution_count": null,
      "outputs": []
    },
    {
      "cell_type": "markdown",
      "metadata": {
        "id": "ZSnUdBMB1Kye",
        "colab_type": "text"
      },
      "source": [
        "## Cross-validation for neural network evaluation"
      ]
    },
    {
      "cell_type": "code",
      "metadata": {
        "id": "nPATWpWz1LLY",
        "colab_type": "code",
        "colab": {}
      },
      "source": [
        "# Reshape test data\n",
        "test_data = test_data.reshape(10, 784)\n",
        "\n",
        "# Evaluate the model\n",
        "model.evaluate(test_data, test_labels)"
      ],
      "execution_count": null,
      "outputs": []
    }
  ]
}