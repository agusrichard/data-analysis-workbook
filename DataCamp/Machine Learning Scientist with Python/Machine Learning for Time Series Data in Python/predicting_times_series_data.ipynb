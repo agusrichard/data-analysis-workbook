{
  "nbformat": 4,
  "nbformat_minor": 0,
  "metadata": {
    "colab": {
      "name": "predicting_times_series_data.ipynb",
      "provenance": []
    },
    "kernelspec": {
      "name": "python3",
      "display_name": "Python 3"
    }
  },
  "cells": [
    {
      "cell_type": "markdown",
      "metadata": {
        "id": "C2nkIHhxmORU",
        "colab_type": "text"
      },
      "source": [
        "# Predicting Time Series Data"
      ]
    },
    {
      "cell_type": "markdown",
      "metadata": {
        "id": "2DiypxROnSic",
        "colab_type": "text"
      },
      "source": [
        "## Introducing the dataset"
      ]
    },
    {
      "cell_type": "code",
      "metadata": {
        "id": "qpCoP7zAnW52",
        "colab_type": "code",
        "colab": {}
      },
      "source": [
        "# Plot the raw values over time\n",
        "prices.plot()\n",
        "plt.show()"
      ],
      "execution_count": 0,
      "outputs": []
    },
    {
      "cell_type": "code",
      "metadata": {
        "id": "mnxfrrI_ntFR",
        "colab_type": "code",
        "colab": {}
      },
      "source": [
        "# Scatterplot with one company per axis\n",
        "prices.plot.scatter(x='EBAY', y='YHOO')\n",
        "plt.show()"
      ],
      "execution_count": 0,
      "outputs": []
    },
    {
      "cell_type": "code",
      "metadata": {
        "id": "xHfXvxB7nz8Z",
        "colab_type": "code",
        "colab": {}
      },
      "source": [
        "# Scatterplot with color relating to time\n",
        "prices.plot.scatter('EBAY', 'YHOO', c=prices.index, \n",
        "                    cmap=plt.cm.viridis, colorbar=False)\n",
        "plt.show()"
      ],
      "execution_count": 0,
      "outputs": []
    },
    {
      "cell_type": "markdown",
      "metadata": {
        "id": "OrwtuZTGn40T",
        "colab_type": "text"
      },
      "source": [
        "## Fitting a simple regression model"
      ]
    },
    {
      "cell_type": "code",
      "metadata": {
        "id": "254ga1rYn5Mn",
        "colab_type": "code",
        "colab": {}
      },
      "source": [
        "from sklearn.linear_model import Ridge\n",
        "from sklearn.model_selection import cross_val_score\n",
        "\n",
        "# Use stock symbols to extract training data\n",
        "X = all_prices[['EBAY', 'NVDA', 'YHOO']]\n",
        "y = all_prices[['AAPL']]\n",
        "\n",
        "# Fit and score the model with cross-validation\n",
        "scores = cross_val_score(Ridge(), X, y, cv=3)\n",
        "print(scores)"
      ],
      "execution_count": 0,
      "outputs": []
    },
    {
      "cell_type": "markdown",
      "metadata": {
        "id": "TulTZ4YPoMYA",
        "colab_type": "text"
      },
      "source": [
        "## Visualizing predicted values"
      ]
    },
    {
      "cell_type": "code",
      "metadata": {
        "id": "Nkar_b71oMv7",
        "colab_type": "code",
        "colab": {}
      },
      "source": [
        "from sklearn.model_selection import train_test_split\n",
        "from sklearn.metrics import r2_score\n",
        "\n",
        "# Split our data into training and test sets\n",
        "X_train, X_test, y_train, y_test = train_test_split(X, y, \n",
        "                                                    train_size=.8, shuffle=False, random_state=1)\n",
        "\n",
        "# Fit our model and generate predictions\n",
        "model = Ridge()\n",
        "model.fit(X_train, y_train)\n",
        "predictions = model.predict(X_test)\n",
        "score = r2_score(y_test, predictions)\n",
        "print(score)"
      ],
      "execution_count": 0,
      "outputs": []
    },
    {
      "cell_type": "code",
      "metadata": {
        "id": "5pQCfHBkobuf",
        "colab_type": "code",
        "colab": {}
      },
      "source": [
        "# Visualize our predictions along with the \"true\" values, and print the score\n",
        "fig, ax = plt.subplots(figsize=(15, 5))\n",
        "ax.plot(y_test, color='k', lw=3)\n",
        "ax.plot(predictions, color='r', lw=2)\n",
        "plt.show()"
      ],
      "execution_count": 0,
      "outputs": []
    },
    {
      "cell_type": "markdown",
      "metadata": {
        "id": "X6FraH9FpytD",
        "colab_type": "text"
      },
      "source": [
        "## Visualizing messy data"
      ]
    },
    {
      "cell_type": "code",
      "metadata": {
        "id": "bicdnirspzHn",
        "colab_type": "code",
        "colab": {}
      },
      "source": [
        "# Visualize the dataset\n",
        "prices.plot(legend=False)\n",
        "plt.tight_layout()\n",
        "plt.show()\n",
        "\n",
        "# Count the missing values of each time series\n",
        "missing_values = prices.isna().sum()\n",
        "print(missing_values)"
      ],
      "execution_count": 0,
      "outputs": []
    },
    {
      "cell_type": "markdown",
      "metadata": {
        "id": "Ey1K8inQqBGk",
        "colab_type": "text"
      },
      "source": [
        "## Imputing missing values"
      ]
    },
    {
      "cell_type": "code",
      "metadata": {
        "id": "uNnGF0ETqBiK",
        "colab_type": "code",
        "colab": {}
      },
      "source": [
        "# Create a function we'll use to interpolate and plot\n",
        "def interpolate_and_plot(prices, interpolation):\n",
        "\n",
        "    # Create a boolean mask for missing values\n",
        "    missing_values = prices.isna()\n",
        "\n",
        "    # Interpolate the missing values\n",
        "    prices_interp = prices.interpolate(interpolation)\n",
        "\n",
        "    # Plot the results, highlighting the interpolated values in black\n",
        "    fig, ax = plt.subplots(figsize=(10, 5))\n",
        "    prices_interp.plot(color='k', alpha=.6, ax=ax, legend=False)\n",
        "    \n",
        "    # Now plot the interpolated values on top in red\n",
        "    prices_interp[missing_values].plot(ax=ax, color='r', lw=3, legend=False)\n",
        "    plt.show()"
      ],
      "execution_count": 0,
      "outputs": []
    },
    {
      "cell_type": "code",
      "metadata": {
        "id": "XSumTq8dqcmU",
        "colab_type": "code",
        "colab": {}
      },
      "source": [
        "# Interpolate using the latest non-missing value\n",
        "interpolation_type = 'zero'\n",
        "interpolate_and_plot(prices, interpolation_type)"
      ],
      "execution_count": 0,
      "outputs": []
    },
    {
      "cell_type": "code",
      "metadata": {
        "id": "N74zgzr6qfIa",
        "colab_type": "code",
        "colab": {}
      },
      "source": [
        "# Interpolate linearly\n",
        "interpolation_type = 'linear'\n",
        "interpolate_and_plot(prices, interpolation_type)"
      ],
      "execution_count": 0,
      "outputs": []
    },
    {
      "cell_type": "code",
      "metadata": {
        "id": "LHS0uqhMql-K",
        "colab_type": "code",
        "colab": {}
      },
      "source": [
        "# Interpolate with a quadratic function\n",
        "interpolation_type = 'quadratic'\n",
        "interpolate_and_plot(prices, interpolation_type)"
      ],
      "execution_count": 0,
      "outputs": []
    },
    {
      "cell_type": "markdown",
      "metadata": {
        "id": "WihC8hT-qqgK",
        "colab_type": "text"
      },
      "source": [
        "## Transforming raw data"
      ]
    },
    {
      "cell_type": "code",
      "metadata": {
        "id": "hKLaZ777qq5j",
        "colab_type": "code",
        "colab": {}
      },
      "source": [
        "# Your custom function\n",
        "def percent_change(series):\n",
        "    # Collect all *but* the last value of this window, then the final value\n",
        "    previous_values = series[:-1]\n",
        "    last_value = series[-1]\n",
        "\n",
        "    # Calculate the % difference between the last value and the mean of earlier values\n",
        "    percent_change = (last_value - np.mean(previous_values)) / np.mean(previous_values)\n",
        "    return percent_change\n",
        "\n",
        "# Apply your custom function and plot\n",
        "prices_perc = prices.rolling(20).apply(percent_change)\n",
        "prices_perc.loc[\"2014\":\"2015\"].plot()\n",
        "plt.show()"
      ],
      "execution_count": 0,
      "outputs": []
    },
    {
      "cell_type": "markdown",
      "metadata": {
        "id": "wDVPUWO7q-nT",
        "colab_type": "text"
      },
      "source": [
        "## Handling outliers"
      ]
    },
    {
      "cell_type": "code",
      "metadata": {
        "id": "XFg8RwSwq_Aa",
        "colab_type": "code",
        "colab": {}
      },
      "source": [
        "def replace_outliers(series):\n",
        "    # Calculate the absolute difference of each timepoint from the series mean\n",
        "    absolute_differences_from_mean = np.abs(series - np.mean(series))\n",
        "    \n",
        "    # Calculate a mask for the differences that are > 3 standard deviations from zero\n",
        "    this_mask = absolute_differences_from_mean > (np.std(series) * 3)\n",
        "    \n",
        "    # Replace these values with the median accross the data\n",
        "    series[this_mask] = np.nanmedian(series)\n",
        "    return series\n",
        "\n",
        "# Apply your preprocessing function to the timeseries and plot the results\n",
        "prices_perc = prices_perc.apply(replace_outliers)\n",
        "prices_perc.loc[\"2014\":\"2015\"].plot()\n",
        "plt.show()"
      ],
      "execution_count": 0,
      "outputs": []
    },
    {
      "cell_type": "markdown",
      "metadata": {
        "id": "hZ3hLavy97sg",
        "colab_type": "text"
      },
      "source": [
        "## Engineering multiple rolling features at once"
      ]
    },
    {
      "cell_type": "code",
      "metadata": {
        "id": "9amdhMHv98DK",
        "colab_type": "code",
        "colab": {}
      },
      "source": [
        "# Define a rolling window with Pandas, excluding the right-most datapoint of the window\n",
        "prices_perc_rolling = prices_perc.rolling(20, min_periods=5, closed='right')\n",
        "\n",
        "# Define the features you'll calculate for each window\n",
        "features_to_calculate = [np.min, np.max, np.mean, np.std]\n",
        "\n",
        "# Calculate these features for your rolling window object\n",
        "features = prices_perc_rolling.agg(features_to_calculate)\n",
        "\n",
        "# Plot the results\n",
        "ax = features.loc[:\"2011-01\"].plot()\n",
        "prices_perc.loc[:\"2011-01\"].plot(ax=ax, color='k', alpha=.2, lw=3)\n",
        "ax.legend(loc=(1.01, .6))\n",
        "plt.show()"
      ],
      "execution_count": 0,
      "outputs": []
    },
    {
      "cell_type": "markdown",
      "metadata": {
        "id": "fTLAGWwW-AZ_",
        "colab_type": "text"
      },
      "source": [
        "## Percentiles and partial functions"
      ]
    },
    {
      "cell_type": "code",
      "metadata": {
        "id": "GeFzoq_6-AxZ",
        "colab_type": "code",
        "colab": {}
      },
      "source": [
        "# Import partial from functools\n",
        "from functools import partial\n",
        "percentiles = [1, 10, 25, 50, 75, 90, 99]\n",
        "\n",
        "# Use a list comprehension to create a partial function for each quantile\n",
        "percentile_functions = [partial(np.percentile, q=percentile) for percentile in percentiles]\n",
        "\n",
        "# Calculate each of these quantiles on the data using a rolling window\n",
        "prices_perc_rolling = prices_perc.rolling(20, min_periods=5, closed='right')\n",
        "features_percentiles = prices_perc_rolling.agg(percentile_functions)\n",
        "\n",
        "# Plot a subset of the result\n",
        "ax = features_percentiles.loc[:\"2011-01\"].plot(cmap=plt.cm.viridis)\n",
        "ax.legend(percentiles, loc=(1.01, .5))\n",
        "plt.show()"
      ],
      "execution_count": 0,
      "outputs": []
    },
    {
      "cell_type": "markdown",
      "metadata": {
        "id": "EqLnv-0P-cSH",
        "colab_type": "text"
      },
      "source": [
        "## Using \"date\" information"
      ]
    },
    {
      "cell_type": "code",
      "metadata": {
        "id": "wQ5sI-NX-cqJ",
        "colab_type": "code",
        "colab": {}
      },
      "source": [
        "# Extract date features from the data, add them as columns\n",
        "prices_perc['day_of_week'] = prices_perc.index.dayofweek\n",
        "prices_perc['week_of_year'] = prices_perc.index.week\n",
        "prices_perc['month_of_year'] = prices_perc.index.month\n",
        "\n",
        "# Print prices_perc\n",
        "print(prices_perc)"
      ],
      "execution_count": 0,
      "outputs": []
    }
  ]
}