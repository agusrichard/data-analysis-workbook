{
  "nbformat": 4,
  "nbformat_minor": 0,
  "metadata": {
    "colab": {
      "name": "ts_ml_primer.ipynb",
      "provenance": []
    },
    "kernelspec": {
      "name": "python3",
      "display_name": "Python 3"
    }
  },
  "cells": [
    {
      "cell_type": "markdown",
      "metadata": {
        "id": "ryZl1xD1XF5C",
        "colab_type": "text"
      },
      "source": [
        "# Time Series and Machine Learning Primer\n"
      ]
    },
    {
      "cell_type": "markdown",
      "metadata": {
        "id": "JDwAlaMcYvXI",
        "colab_type": "text"
      },
      "source": [
        "## Identifying a time series"
      ]
    },
    {
      "cell_type": "markdown",
      "metadata": {
        "id": "vZ-qw4GfXljA",
        "colab_type": "text"
      },
      "source": [
        "D. A list of the average length of each class at the school"
      ]
    },
    {
      "cell_type": "markdown",
      "metadata": {
        "id": "Ih3WaseFYtP8",
        "colab_type": "text"
      },
      "source": [
        "## Plotting a time series (I)"
      ]
    },
    {
      "cell_type": "code",
      "metadata": {
        "id": "hUR7gTN8Yy89",
        "colab_type": "code",
        "colab": {}
      },
      "source": [
        "# Print the first 5 rows of data\n",
        "print(data.head())"
      ],
      "execution_count": 0,
      "outputs": []
    },
    {
      "cell_type": "code",
      "metadata": {
        "id": "ZTQkHnUnY9Jh",
        "colab_type": "code",
        "colab": {}
      },
      "source": [
        "# Print the first 5 rows of data2\n",
        "print(data2.head())"
      ],
      "execution_count": 0,
      "outputs": []
    },
    {
      "cell_type": "code",
      "metadata": {
        "id": "QBSUiMTeZFtB",
        "colab_type": "code",
        "colab": {}
      },
      "source": [
        "# Plot the time series in each dataset\n",
        "fig, axs = plt.subplots(2, 1, figsize=(5, 10))\n",
        "data.iloc[:1000].plot(y='data_values', ax=axs[0])\n",
        "data2.iloc[:1000].plot(y='data_values', ax=axs[1])\n",
        "plt.show()"
      ],
      "execution_count": 0,
      "outputs": []
    },
    {
      "cell_type": "markdown",
      "metadata": {
        "id": "JfX7vUIMZKl2",
        "colab_type": "text"
      },
      "source": [
        "## Plotting a time series (II)"
      ]
    },
    {
      "cell_type": "code",
      "metadata": {
        "id": "qI7Gf7lmZLAj",
        "colab_type": "code",
        "colab": {}
      },
      "source": [
        "# Plot the time series in each dataset\n",
        "fig, axs = plt.subplots(2, 1, figsize=(5, 10))\n",
        "data.iloc[:1000].plot(x='time', y='data_values', ax=axs[0])\n",
        "data2.iloc[:1000].plot(x='time', y='data_values', ax=axs[1])\n",
        "plt.show()"
      ],
      "execution_count": 0,
      "outputs": []
    },
    {
      "cell_type": "markdown",
      "metadata": {
        "id": "E72VmE9FaFQ1",
        "colab_type": "text"
      },
      "source": [
        "## Fitting a simple model: classification"
      ]
    },
    {
      "cell_type": "code",
      "metadata": {
        "id": "qF0M6rBQaFw9",
        "colab_type": "code",
        "colab": {}
      },
      "source": [
        "# Print the first 5 rows for inspection\n",
        "print(data.head())"
      ],
      "execution_count": 0,
      "outputs": []
    },
    {
      "cell_type": "code",
      "metadata": {
        "id": "R3pQbChSaU3-",
        "colab_type": "code",
        "colab": {}
      },
      "source": [
        "from sklearn.svm import LinearSVC\n",
        "\n",
        "# Construct data for the model\n",
        "X = data[['petal length (cm)', 'petal width (cm)']]\n",
        "y = data[['target']]\n",
        "\n",
        "# Fit the model\n",
        "model = LinearSVC()\n",
        "model.fit(X, y)"
      ],
      "execution_count": 0,
      "outputs": []
    },
    {
      "cell_type": "markdown",
      "metadata": {
        "id": "0Fg0FN4saWxV",
        "colab_type": "text"
      },
      "source": [
        "## Predicting using a classification model"
      ]
    },
    {
      "cell_type": "code",
      "metadata": {
        "id": "GDxrozXAaXJ3",
        "colab_type": "code",
        "colab": {}
      },
      "source": [
        "# Create input array\n",
        "X_predict = targets[['petal length (cm)', 'petal width (cm)']]\n",
        "\n",
        "# Predict with the model\n",
        "predictions = model.predict(X_predict)\n",
        "print(predictions)\n",
        "\n",
        "# Visualize predictions and actual values\n",
        "plt.scatter(X_predict['petal length (cm)'], X_predict['petal width (cm)'],\n",
        "            c=predictions, cmap=plt.cm.coolwarm)\n",
        "plt.title(\"Predicted class values\")\n",
        "plt.show()"
      ],
      "execution_count": 0,
      "outputs": []
    },
    {
      "cell_type": "markdown",
      "metadata": {
        "id": "DC607xUXajT8",
        "colab_type": "text"
      },
      "source": [
        "## Fitting a simple model: regression"
      ]
    },
    {
      "cell_type": "code",
      "metadata": {
        "id": "Cq6-3m6dajuV",
        "colab_type": "code",
        "colab": {}
      },
      "source": [
        "from sklearn import linear_model\n",
        "\n",
        "# Prepare input and output DataFrames\n",
        "X = boston[['AGE']]\n",
        "y = boston[['RM']]\n",
        "\n",
        "# Fit the model\n",
        "model = linear_model.LinearRegression()\n",
        "model.fit(X, y)"
      ],
      "execution_count": 0,
      "outputs": []
    },
    {
      "cell_type": "markdown",
      "metadata": {
        "id": "fzTEg4ZMbW5o",
        "colab_type": "text"
      },
      "source": [
        "## Predicting using a regression model"
      ]
    },
    {
      "cell_type": "code",
      "metadata": {
        "id": "ie4pf27HbXaU",
        "colab_type": "code",
        "colab": {}
      },
      "source": [
        "# Generate predictions with the model using those inputs\n",
        "predictions = model.predict(new_inputs.reshape(-1, 1))\n",
        "\n",
        "# Visualize the inputs and predicted values\n",
        "plt.scatter(new_inputs, predictions, color='r', s=3)\n",
        "plt.xlabel('inputs')\n",
        "plt.ylabel('predictions')\n",
        "plt.show()"
      ],
      "execution_count": 0,
      "outputs": []
    },
    {
      "cell_type": "markdown",
      "metadata": {
        "id": "5Kc5sVDjcZjQ",
        "colab_type": "text"
      },
      "source": [
        "## Inspecting the classification data"
      ]
    },
    {
      "cell_type": "code",
      "metadata": {
        "id": "t4phTxiwcZ8W",
        "colab_type": "code",
        "colab": {}
      },
      "source": [
        "import librosa as lr\n",
        "from glob import glob\n",
        "\n",
        "# List all the wav files in the folder\n",
        "audio_files = glob(data_dir + '/*.wav')\n",
        "\n",
        "# Read in the first audio file, create the time array\n",
        "audio, sfreq = lr.load(audio_files[0])\n",
        "time = np.arange(0, len(audio)) / sfreq\n",
        "\n",
        "# Plot audio over time\n",
        "fig, ax = plt.subplots()\n",
        "ax.plot(time, audio)\n",
        "ax.set(xlabel='Time (s)', ylabel='Sound Amplitude')\n",
        "plt.show()"
      ],
      "execution_count": 0,
      "outputs": []
    },
    {
      "cell_type": "markdown",
      "metadata": {
        "id": "Ppy5Ex8qc_J8",
        "colab_type": "text"
      },
      "source": [
        "## Inspecting the regression data"
      ]
    },
    {
      "cell_type": "code",
      "metadata": {
        "id": "kTl-lyNEdAFJ",
        "colab_type": "code",
        "colab": {}
      },
      "source": [
        "# Read in the data\n",
        "data = pd.read_csv('prices.csv', index_col=0)\n",
        "\n",
        "# Convert the index of the DataFrame to datetime\n",
        "data.index = pd.to_datetime(data.index)\n",
        "print(data.head())\n",
        "\n",
        "# Loop through each column, plot its values over time\n",
        "fig, ax = plt.subplots()\n",
        "for column in data.columns:\n",
        "    data[column].plot(ax=ax, label=column)\n",
        "ax.legend()\n",
        "plt.show()"
      ],
      "execution_count": 0,
      "outputs": []
    }
  ]
}