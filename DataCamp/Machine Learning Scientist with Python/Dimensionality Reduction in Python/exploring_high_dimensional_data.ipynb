{
  "nbformat": 4,
  "nbformat_minor": 0,
  "metadata": {
    "colab": {
      "name": "exploring_high_dimensional_data.ipynb",
      "provenance": [],
      "collapsed_sections": []
    },
    "kernelspec": {
      "name": "python3",
      "display_name": "Python 3"
    }
  },
  "cells": [
    {
      "cell_type": "markdown",
      "metadata": {
        "id": "cpnF3xYBonND",
        "colab_type": "text"
      },
      "source": [
        "# Exploring high dimensional data\n"
      ]
    },
    {
      "cell_type": "markdown",
      "metadata": {
        "id": "1yJRR4QXo145",
        "colab_type": "text"
      },
      "source": [
        "## Finding the number of dimensions in a dataset"
      ]
    },
    {
      "cell_type": "markdown",
      "metadata": {
        "id": "SCFnGuIkpoLR",
        "colab_type": "text"
      },
      "source": [
        "B. 7 dimensions"
      ]
    },
    {
      "cell_type": "markdown",
      "metadata": {
        "id": "sOeuM0thpxUr",
        "colab_type": "text"
      },
      "source": [
        "## Removing features without variance"
      ]
    },
    {
      "cell_type": "code",
      "metadata": {
        "id": "9SU6NwGQpz-_",
        "colab_type": "code",
        "colab": {}
      },
      "source": [
        "# Remove the feature without variance from this list\n",
        "number_cols = ['HP', 'Attack', 'Defense']"
      ],
      "execution_count": 0,
      "outputs": []
    },
    {
      "cell_type": "code",
      "metadata": {
        "id": "Hjq7m202qO3f",
        "colab_type": "code",
        "colab": {}
      },
      "source": [
        "# Remove the feature without variance from this list\n",
        "number_cols = ['HP', 'Attack', 'Defense']\n",
        "\n",
        "# Leave this list as is for now\n",
        "non_number_cols = ['Name', 'Type', 'Legendary']\n",
        "\n",
        "# Sub-select by combining the lists with chosen features\n",
        "df_selected = pokemon_df[number_cols + non_number_cols]\n",
        "\n",
        "# Prints the first 5 lines of the new dataframe\n",
        "print(df_selected.head())"
      ],
      "execution_count": 0,
      "outputs": []
    },
    {
      "cell_type": "code",
      "metadata": {
        "id": "eNkZxKEYqia-",
        "colab_type": "code",
        "colab": {}
      },
      "source": [
        "# Leave this list as is\n",
        "number_cols = ['HP', 'Attack', 'Defense']\n",
        "\n",
        "# Remove the feature without variance from this list\n",
        "non_number_cols = ['Name', 'Type']\n",
        "\n",
        "# Create a new dataframe by subselecting the chosen features\n",
        "df_selected = pokemon_df[number_cols + non_number_cols]\n",
        "\n",
        "# Prints the first 5 lines of the new dataframe\n",
        "print(df_selected.head())"
      ],
      "execution_count": 0,
      "outputs": []
    },
    {
      "cell_type": "markdown",
      "metadata": {
        "id": "RllJji7zrkmy",
        "colab_type": "text"
      },
      "source": [
        "## Visually detecting redundant features"
      ]
    },
    {
      "cell_type": "code",
      "metadata": {
        "id": "1lIXqP-Frk9q",
        "colab_type": "code",
        "colab": {}
      },
      "source": [
        "# Create a pairplot and color the points using the 'Gender' feature\n",
        "sns.pairplot(ansur_df_1, hue='Gender', diag_kind='hist')\n",
        "\n",
        "# Show the plot\n",
        "plt.show()"
      ],
      "execution_count": 0,
      "outputs": []
    },
    {
      "cell_type": "code",
      "metadata": {
        "id": "F8-hEqBGsKB-",
        "colab_type": "code",
        "colab": {}
      },
      "source": [
        "# Remove one of the redundant features\n",
        "reduced_df = ansur_df_1.drop('stature_m', axis=1)\n",
        "\n",
        "# Create a pairplot and color the points using the 'Gender' feature\n",
        "sns.pairplot(reduced_df, hue='Gender')\n",
        "\n",
        "# Show the plot\n",
        "plt.show()"
      ],
      "execution_count": 0,
      "outputs": []
    },
    {
      "cell_type": "code",
      "metadata": {
        "id": "SHIUTQCAspQK",
        "colab_type": "code",
        "colab": {}
      },
      "source": [
        "# Create a pairplot and color the points using the 'Gender' feature\n",
        "sns.pairplot(ansur_df_2, hue='Gender', diag_kind='hist')\n",
        "\n",
        "\n",
        "# Show the plot\n",
        "plt.show()"
      ],
      "execution_count": 0,
      "outputs": []
    },
    {
      "cell_type": "code",
      "metadata": {
        "id": "fcxLIkZ_s6xy",
        "colab_type": "code",
        "colab": {}
      },
      "source": [
        "# Remove the redundant feature\n",
        "reduced_df = ansur_df_2.drop('n_legs', axis=1)\n",
        "\n",
        "# Create a pairplot and color the points using the 'Gender' feature\n",
        "sns.pairplot(reduced_df, hue='Gender', diag_kind='hist')\n",
        "\n",
        "# Show the plot\n",
        "plt.show()"
      ],
      "execution_count": 0,
      "outputs": []
    },
    {
      "cell_type": "markdown",
      "metadata": {
        "id": "Nf2CzWnBs9Ji",
        "colab_type": "text"
      },
      "source": [
        "## Advantage of feature selection"
      ]
    },
    {
      "cell_type": "markdown",
      "metadata": {
        "id": "etAi2Nsus9g2",
        "colab_type": "text"
      },
      "source": [
        "C. The selected features remain unchanged, and are therefore easy to interpret."
      ]
    },
    {
      "cell_type": "markdown",
      "metadata": {
        "id": "BgUvK97-tDXQ",
        "colab_type": "text"
      },
      "source": [
        "## t-SNE intuition"
      ]
    },
    {
      "cell_type": "markdown",
      "metadata": {
        "id": "3hM4v6m3uDpx",
        "colab_type": "text"
      },
      "source": [
        "B. When you want to visually explore the patterns in a high dimensional dataset."
      ]
    },
    {
      "cell_type": "markdown",
      "metadata": {
        "id": "S0osONkiuNeq",
        "colab_type": "text"
      },
      "source": [
        "## Fitting t-SNE to the ANSUR data"
      ]
    },
    {
      "cell_type": "code",
      "metadata": {
        "id": "l898ryubuPYs",
        "colab_type": "code",
        "colab": {}
      },
      "source": [
        "# Non-numerical columns in the dataset\n",
        "non_numeric = ['Branch', 'Gender', 'Component']\n",
        "\n",
        "# Drop the non-numerical columns from df\n",
        "df_numeric = df.drop(non_numeric, axis=1)\n",
        "\n",
        "# Create a t-SNE model with learning rate 50\n",
        "m = TSNE(learning_rate=50)\n",
        "\n",
        "# Fit and transform the t-SNE model on the numeric dataset\n",
        "tsne_features = m.fit_transform(df_numeric)\n",
        "print(tsne_features.shape)"
      ],
      "execution_count": 0,
      "outputs": []
    },
    {
      "cell_type": "markdown",
      "metadata": {
        "id": "KNIvD2jcuhVA",
        "colab_type": "text"
      },
      "source": [
        "## t-SNE visualisation of dimensionality"
      ]
    },
    {
      "cell_type": "code",
      "metadata": {
        "id": "YlO9Nji9uhuf",
        "colab_type": "code",
        "colab": {}
      },
      "source": [
        "# Color the points according to Army Component\n",
        "sns.scatterplot(x=\"x\", y=\"y\", hue='Component', data=df)\n",
        "\n",
        "# Show the plot\n",
        "plt.show()"
      ],
      "execution_count": 0,
      "outputs": []
    },
    {
      "cell_type": "code",
      "metadata": {
        "id": "AYiQhM1Hu2oZ",
        "colab_type": "code",
        "colab": {}
      },
      "source": [
        "# Color the points by Army Branch\n",
        "sns.scatterplot(x=\"x\", y=\"y\", hue='Branch', data=df)\n",
        "\n",
        "# Show the plot\n",
        "plt.show()"
      ],
      "execution_count": 0,
      "outputs": []
    },
    {
      "cell_type": "code",
      "metadata": {
        "id": "OaQS4DFEu8aH",
        "colab_type": "code",
        "colab": {}
      },
      "source": [
        "# Color the points by Gender\n",
        "sns.scatterplot(x=\"x\", y=\"y\", hue='Gender', data=df)\n",
        "\n",
        "# Show the plot\n",
        "plt.show()"
      ],
      "execution_count": 0,
      "outputs": []
    }
  ]
}