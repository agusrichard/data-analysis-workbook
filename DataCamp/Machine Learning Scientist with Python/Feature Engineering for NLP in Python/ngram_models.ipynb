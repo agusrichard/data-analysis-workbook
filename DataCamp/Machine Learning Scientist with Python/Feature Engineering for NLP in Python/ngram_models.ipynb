{
  "nbformat": 4,
  "nbformat_minor": 0,
  "metadata": {
    "colab": {
      "name": "ngram_models.ipynb",
      "provenance": []
    },
    "kernelspec": {
      "name": "python3",
      "display_name": "Python 3"
    }
  },
  "cells": [
    {
      "cell_type": "markdown",
      "metadata": {
        "id": "5fUAD_xknZXS",
        "colab_type": "text"
      },
      "source": [
        "# N-Gram models\n"
      ]
    },
    {
      "cell_type": "markdown",
      "metadata": {
        "id": "gg6sEIEfqPZX",
        "colab_type": "text"
      },
      "source": [
        "## Word vectors with a given vocabulary"
      ]
    },
    {
      "cell_type": "markdown",
      "metadata": {
        "id": "q3-od5shrNOo",
        "colab_type": "text"
      },
      "source": [
        "A. (0, 0, 1, 1, 0, 1, 0, 1, 2, 1, 2, 2, 1, 0, 0)"
      ]
    },
    {
      "cell_type": "markdown",
      "metadata": {
        "id": "04TSTni_rY2g",
        "colab_type": "text"
      },
      "source": [
        "## BoW model for movie taglines"
      ]
    },
    {
      "cell_type": "code",
      "metadata": {
        "id": "0zF-OwN7rbl3",
        "colab_type": "code",
        "colab": {}
      },
      "source": [
        "# Import CountVectorizer\n",
        "from sklearn.feature_extraction.text import CountVectorizer\n",
        "\n",
        "# Create CountVectorizer object\n",
        "vectorizer = CountVectorizer()\n",
        "\n",
        "# Generate matrix of word vectors\n",
        "bow_matrix = vectorizer.fit_transform(corpus)\n",
        "\n",
        "# Print the shape of bow_matrix\n",
        "print(bow_matrix.shape)"
      ],
      "execution_count": null,
      "outputs": []
    },
    {
      "cell_type": "markdown",
      "metadata": {
        "id": "9mxn_EyZrwV-",
        "colab_type": "text"
      },
      "source": [
        "## Analyzing dimensionality and preprocessing"
      ]
    },
    {
      "cell_type": "code",
      "metadata": {
        "id": "BaB60-dWrwnP",
        "colab_type": "code",
        "colab": {}
      },
      "source": [
        "# Import CountVectorizer\n",
        "from sklearn.feature_extraction.text import CountVectorizer\n",
        "\n",
        "# Create CountVectorizer object\n",
        "vectorizer = CountVectorizer()\n",
        "\n",
        "# Generate matrix of word vectors\n",
        "bow_lem_matrix = vectorizer.fit_transform(lem_corpus)\n",
        "\n",
        "# Print the shape of bow_lem_matrix\n",
        "print(bow_lem_matrix.shape)"
      ],
      "execution_count": null,
      "outputs": []
    },
    {
      "cell_type": "markdown",
      "metadata": {
        "id": "AdTmZhc7sFJ5",
        "colab_type": "text"
      },
      "source": [
        "## Mapping feature indices with feature names"
      ]
    },
    {
      "cell_type": "code",
      "metadata": {
        "id": "-TTMTkZVsFfy",
        "colab_type": "code",
        "colab": {}
      },
      "source": [
        "# Create CountVectorizer object\n",
        "vectorizer = CountVectorizer()\n",
        "\n",
        "# Generate matrix of word vectors\n",
        "bow_matrix = vectorizer.fit_transform(corpus)\n",
        "\n",
        "# Convert bow_matrix into a DataFrame\n",
        "bow_df = pd.DataFrame(bow_matrix.toarray())\n",
        "\n",
        "# Map the column names to vocabulary \n",
        "bow_df.columns = vectorizer.get_feature_names()\n",
        "\n",
        "# Print bow_df\n",
        "print(bow_df)"
      ],
      "execution_count": null,
      "outputs": []
    },
    {
      "cell_type": "markdown",
      "metadata": {
        "id": "I1bhPIvPtSmL",
        "colab_type": "text"
      },
      "source": [
        "## BoW vectors for movie reviews"
      ]
    },
    {
      "cell_type": "code",
      "metadata": {
        "id": "gCwrANdOtTOj",
        "colab_type": "code",
        "colab": {}
      },
      "source": [
        "# Import CountVectorizer\n",
        "from sklearn.feature_extraction.text import CountVectorizer\n",
        "\n",
        "# Create a CountVectorizer object\n",
        "vectorizer = CountVectorizer(lowercase=True, stop_words='english')\n",
        "\n",
        "# Fit and transform X_train\n",
        "X_train_bow = vectorizer.fit_transform(X_train)\n",
        "\n",
        "# Transform X_test\n",
        "X_test_bow = vectorizer.transform(X_test)\n",
        "\n",
        "# Print shape of X_train_bow and X_test_bow\n",
        "print(X_train_bow.shape)\n",
        "print(X_test_bow.shape)"
      ],
      "execution_count": null,
      "outputs": []
    },
    {
      "cell_type": "markdown",
      "metadata": {
        "id": "_uIGwzFctwdk",
        "colab_type": "text"
      },
      "source": [
        "## Predicting the sentiment of a movie review"
      ]
    },
    {
      "cell_type": "code",
      "metadata": {
        "id": "nxvIQZWotw_o",
        "colab_type": "code",
        "colab": {}
      },
      "source": [
        "# Create a MultinomialNB object\n",
        "clf = MultinomialNB()\n",
        "\n",
        "# Fit the classifier\n",
        "clf.fit(X_train_bow, y_train)\n",
        "\n",
        "# Measure the accuracy\n",
        "accuracy = clf.score(X_test_bow, y_test)\n",
        "print(\"The accuracy of the classifier on the test set is %.3f\" % accuracy)\n",
        "\n",
        "# Predict the sentiment of a negative review\n",
        "review = \"The movie was terrible. The music was underwhelming and the acting mediocre.\"\n",
        "prediction = clf.predict(vectorizer.transform([review]))[0]\n",
        "print(\"The sentiment predicted by the classifier is %i\" % (prediction))"
      ],
      "execution_count": null,
      "outputs": []
    },
    {
      "cell_type": "markdown",
      "metadata": {
        "id": "rkLOHnSIu4mk",
        "colab_type": "text"
      },
      "source": [
        "## n-gram models for movie tag lines"
      ]
    },
    {
      "cell_type": "code",
      "metadata": {
        "id": "68uT3SYqu49D",
        "colab_type": "code",
        "colab": {}
      },
      "source": [
        "# Generate n-grams upto n=1\n",
        "vectorizer_ng1 = CountVectorizer(ngram_range=(1,1))\n",
        "ng1 = vectorizer_ng1.fit_transform(corpus)\n",
        "\n",
        "# Generate n-grams upto n=2\n",
        "vectorizer_ng2 = CountVectorizer(ngram_range=(1,2))\n",
        "ng2 = vectorizer_ng2.fit_transform(corpus)\n",
        "\n",
        "# Generate n-grams upto n=3\n",
        "vectorizer_ng3 = CountVectorizer(ngram_range=(1, 3))\n",
        "ng3 = vectorizer_ng3.fit_transform(corpus)\n",
        "\n",
        "# Print the number of features for each model\n",
        "print(\"ng1, ng2 and ng3 have %i, %i and %i features respectively\" % (ng1.shape[1], ng2.shape[1], ng3.shape[1]))"
      ],
      "execution_count": null,
      "outputs": []
    },
    {
      "cell_type": "markdown",
      "metadata": {
        "id": "mt85jbDtvMcn",
        "colab_type": "text"
      },
      "source": [
        "## Higher order n-grams for sentiment analysis"
      ]
    },
    {
      "cell_type": "code",
      "metadata": {
        "id": "gKtTeUJKvM39",
        "colab_type": "code",
        "colab": {}
      },
      "source": [
        "# Define an instance of MultinomialNB \n",
        "clf_ng = MultinomialNB()\n",
        "\n",
        "# Fit the classifier \n",
        "clf_ng.fit(X_train_ng, y_train)\n",
        "\n",
        "# Measure the accuracy \n",
        "accuracy = clf_ng.score(X_test_ng, y_test)\n",
        "print(\"The accuracy of the classifier on the test set is %.3f\" % accuracy)\n",
        "\n",
        "# Predict the sentiment of a negative review\n",
        "review = \"The movie was not good. The plot had several holes and the acting lacked panache.\"\n",
        "prediction = clf_ng.predict(ng_vectorizer.transform([review]))[0]\n",
        "print(\"The sentiment predicted by the classifier is %i\" % (prediction))"
      ],
      "execution_count": null,
      "outputs": []
    },
    {
      "cell_type": "markdown",
      "metadata": {
        "id": "YIC0FmF1vf9r",
        "colab_type": "text"
      },
      "source": [
        "## Comparing performance of n-gram models"
      ]
    },
    {
      "cell_type": "code",
      "metadata": {
        "id": "nzs61eIivgSY",
        "colab_type": "code",
        "colab": {}
      },
      "source": [
        "start_time = time.time()\n",
        "# Splitting the data into training and test sets\n",
        "train_X, test_X, train_y, test_y = train_test_split(df['review'], df['sentiment'], test_size=0.5, random_state=42, stratify=df['sentiment'])\n",
        "\n",
        "# Generating ngrams\n",
        "vectorizer = CountVectorizer()\n",
        "train_X = vectorizer.fit_transform(train_X)\n",
        "test_X = vectorizer.transform(test_X)\n",
        "\n",
        "# Fit classifier\n",
        "clf = MultinomialNB()\n",
        "clf.fit(train_X, train_y)\n",
        "\n",
        "# Print accuracy, time and number of dimensions\n",
        "print(\"The program took %.3f seconds to complete. The accuracy on the test set is %.2f. The ngram representation had %i features.\" % (time.time() - start_time, clf.score(test_X, test_y), train_X.shape[1]))"
      ],
      "execution_count": null,
      "outputs": []
    },
    {
      "cell_type": "code",
      "metadata": {
        "id": "viHu9JqOvwLF",
        "colab_type": "code",
        "colab": {}
      },
      "source": [
        "start_time = time.time()\n",
        "# Splitting the data into training and test sets\n",
        "train_X, test_X, train_y, test_y = train_test_split(df['review'], df['sentiment'], test_size=0.5, random_state=42, stratify=df['sentiment'])\n",
        "\n",
        "# Generating ngrams\n",
        "vectorizer = CountVectorizer(ngram_range=(1, 3))\n",
        "train_X = vectorizer.fit_transform(train_X)\n",
        "test_X = vectorizer.transform(test_X)\n",
        "\n",
        "# Fit classifier\n",
        "clf = MultinomialNB()\n",
        "clf.fit(train_X, train_y)\n",
        "\n",
        "# Print accuracy, time and number of dimensions\n",
        "print(\"The program took %.3f seconds to complete. The accuracy on the test set is %.2f. The ngram representation had %i features.\" % (time.time() - start_time, clf.score(test_X, test_y), train_X.shape[1]))"
      ],
      "execution_count": null,
      "outputs": []
    }
  ]
}