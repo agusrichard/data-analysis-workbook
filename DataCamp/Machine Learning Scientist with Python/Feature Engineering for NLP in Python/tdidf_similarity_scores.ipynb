{
  "nbformat": 4,
  "nbformat_minor": 0,
  "metadata": {
    "colab": {
      "name": "tdidf_similarity_scores.ipynb",
      "provenance": []
    },
    "kernelspec": {
      "name": "python3",
      "display_name": "Python 3"
    }
  },
  "cells": [
    {
      "cell_type": "markdown",
      "metadata": {
        "id": "mrsOKSABxW8b",
        "colab_type": "text"
      },
      "source": [
        "# TF-IDF and similarity scores\n"
      ]
    },
    {
      "cell_type": "markdown",
      "metadata": {
        "id": "Ubt5P_ASwNcA",
        "colab_type": "text"
      },
      "source": [
        "## tf-idf weight of commonly occurring words"
      ]
    },
    {
      "cell_type": "markdown",
      "metadata": {
        "id": "HneRnPU1xTYL",
        "colab_type": "text"
      },
      "source": [
        "A. 0"
      ]
    },
    {
      "cell_type": "markdown",
      "metadata": {
        "id": "x-ojgWX4xo_G",
        "colab_type": "text"
      },
      "source": [
        "## tf-idf vectors for TED talks"
      ]
    },
    {
      "cell_type": "code",
      "metadata": {
        "id": "wa_kFJ3Zxtm0",
        "colab_type": "code",
        "colab": {}
      },
      "source": [
        "# Import TfidfVectorizer\n",
        "from sklearn.feature_extraction.text import TfidfVectorizer\n",
        "\n",
        "# Create TfidfVectorizer object\n",
        "vectorizer = TfidfVectorizer()\n",
        "\n",
        "# Generate matrix of word vectors\n",
        "tfidf_matrix = vectorizer.fit_transform(ted)\n",
        "\n",
        "# Print the shape of tfidf_matrix\n",
        "print(tfidf_matrix.shape)"
      ],
      "execution_count": null,
      "outputs": []
    },
    {
      "cell_type": "markdown",
      "metadata": {
        "id": "KM1nctDtyvr1",
        "colab_type": "text"
      },
      "source": [
        "## Range of cosine scores"
      ]
    },
    {
      "cell_type": "markdown",
      "metadata": {
        "id": "vh7JBk3iywB2",
        "colab_type": "text"
      },
      "source": [
        "A. 0.86"
      ]
    },
    {
      "cell_type": "markdown",
      "metadata": {
        "id": "0PusKbEHyzMD",
        "colab_type": "text"
      },
      "source": [
        "## Computing dot product"
      ]
    },
    {
      "cell_type": "code",
      "metadata": {
        "id": "9B0s1PBgy09z",
        "colab_type": "code",
        "colab": {}
      },
      "source": [
        "# Initialize numpy vectors\n",
        "A = np.array([1,3])\n",
        "B = np.array([-2,2])\n",
        "\n",
        "# Compute dot product\n",
        "dot_prod = np.dot(A, B)\n",
        "\n",
        "# Print dot product\n",
        "print(dot_prod)"
      ],
      "execution_count": null,
      "outputs": []
    },
    {
      "cell_type": "markdown",
      "metadata": {
        "id": "YF1lR_dXy_-x",
        "colab_type": "text"
      },
      "source": [
        "## Cosine similarity matrix of a corpus"
      ]
    },
    {
      "cell_type": "code",
      "metadata": {
        "id": "uGDcbPrzzAVd",
        "colab_type": "code",
        "colab": {}
      },
      "source": [
        "# Initialize an instance of tf-idf Vectorizer\n",
        "tfidf_vectorizer = TfidfVectorizer()\n",
        "\n",
        "# Generate the tf-idf vectors for the corpus\n",
        "tfidf_matrix = tfidf_vectorizer.fit_transform(corpus)\n",
        "\n",
        "# Compute and print the cosine similarity matrix\n",
        "cosine_sim = cosine_similarity(tfidf_matrix, tfidf_matrix)\n",
        "print(cosine_sim)"
      ],
      "execution_count": null,
      "outputs": []
    },
    {
      "cell_type": "markdown",
      "metadata": {
        "id": "sYIckrgE0cFK",
        "colab_type": "text"
      },
      "source": [
        "## Comparing linear_kernel and cosine_similarity"
      ]
    },
    {
      "cell_type": "code",
      "metadata": {
        "id": "yxf0TkMn0ceU",
        "colab_type": "code",
        "colab": {}
      },
      "source": [
        "# Record start time\n",
        "start = time.time()\n",
        "\n",
        "# Compute cosine similarity matrix\n",
        "cosine_sim = cosine_similarity(tfidf_matrix, tfidf_matrix)\n",
        "\n",
        "# Print cosine similarity matrix\n",
        "print(cosine_sim)\n",
        "\n",
        "# Print time taken\n",
        "print(\"Time taken: %s seconds\" %(time.time() - start))"
      ],
      "execution_count": null,
      "outputs": []
    },
    {
      "cell_type": "code",
      "metadata": {
        "id": "nBQh7EV_0u0s",
        "colab_type": "code",
        "colab": {}
      },
      "source": [
        "# Record start time\n",
        "start = time.time()\n",
        "\n",
        "# Compute cosine similarity matrix\n",
        "cosine_sim = linear_kernel(tfidf_matrix, tfidf_matrix)\n",
        "\n",
        "# Print cosine similarity matrix\n",
        "print(cosine_sim)\n",
        "\n",
        "# Print time taken\n",
        "print(\"Time taken: %s seconds\" %(time.time() - start))"
      ],
      "execution_count": null,
      "outputs": []
    },
    {
      "cell_type": "markdown",
      "metadata": {
        "id": "AkpIqlu603h7",
        "colab_type": "text"
      },
      "source": [
        "## Plot recommendation engine"
      ]
    },
    {
      "cell_type": "code",
      "metadata": {
        "id": "7xX2O2xW035g",
        "colab_type": "code",
        "colab": {}
      },
      "source": [
        "# Initialize the TfidfVectorizer \n",
        "tfidf = TfidfVectorizer(stop_words='english')\n",
        "\n",
        "# Construct the TF-IDF matrix\n",
        "tfidf_matrix = tfidf.fit_transform(movie_plots)\n",
        "\n",
        "# Generate the cosine similarity matrix\n",
        "cosine_sim = linear_kernel(tfidf_matrix, tfidf_matrix)\n",
        " \n",
        "# Generate recommendations \n",
        "print(get_recommendations('The Dark Knight Rises', cosine_sim, indices))"
      ],
      "execution_count": null,
      "outputs": []
    },
    {
      "cell_type": "markdown",
      "metadata": {
        "id": "u6ahoWx11UJi",
        "colab_type": "text"
      },
      "source": [
        "## The recommender function"
      ]
    },
    {
      "cell_type": "code",
      "metadata": {
        "id": "zauxWLsI1Uf6",
        "colab_type": "code",
        "colab": {}
      },
      "source": [
        "# Generate mapping between titles and index\n",
        "indices = pd.Series(metadata.index, index=metadata['title']).drop_duplicates()\n",
        "\n",
        "def get_recommendations(title, cosine_sim, indices):\n",
        "    # Get index of movie that matches title\n",
        "    idx = indices[title]\n",
        "    # Sort the movies based on the similarity scores\n",
        "    sim_scores = list(enumerate(cosine_sim[idx]))\n",
        "    sim_scores = sorted(sim_scores, key=lambda x: x[1], reverse=True)\n",
        "    # Get the scores for 10 most similar movies\n",
        "    sim_scores = sim_scores[1:11]\n",
        "    # Get the movie indices\n",
        "    movie_indices = [i[0] for i in sim_scores]\n",
        "    # Return the top 10 most similar movies\n",
        "    return metadata['title'].iloc[movie_indices]"
      ],
      "execution_count": null,
      "outputs": []
    },
    {
      "cell_type": "markdown",
      "metadata": {
        "id": "ll8HmQT_1xZZ",
        "colab_type": "text"
      },
      "source": [
        "## TED talk recommender"
      ]
    },
    {
      "cell_type": "code",
      "metadata": {
        "id": "Yr3wqN4j1xxG",
        "colab_type": "code",
        "colab": {}
      },
      "source": [
        "# Initialize the TfidfVectorizer \n",
        "tfidf = TfidfVectorizer(stop_words='english')\n",
        "\n",
        "# Construct the TF-IDF matrix\n",
        "tfidf_matrix = tfidf.fit_transform(transcripts)\n",
        "\n",
        "# Generate the cosine similarity matrix\n",
        "cosine_sim = linear_kernel(tfidf_matrix, tfidf_matrix)\n",
        " \n",
        "# Generate recommendations \n",
        "print(get_recommendations('5 ways to kill your dreams', cosine_sim, indices))"
      ],
      "execution_count": null,
      "outputs": []
    },
    {
      "cell_type": "markdown",
      "metadata": {
        "id": "X5tZBqwl290u",
        "colab_type": "text"
      },
      "source": [
        "## Generating word vectors"
      ]
    },
    {
      "cell_type": "code",
      "metadata": {
        "id": "KVX3WFZW2-LY",
        "colab_type": "code",
        "colab": {}
      },
      "source": [
        "# Create the doc object\n",
        "doc = nlp(sent)\n",
        "\n",
        "# Compute pairwise similarity scores\n",
        "for token1 in doc:\n",
        "  for token2 in doc:\n",
        "    print(token1.text, token2.text, token1.similarity(token2))"
      ],
      "execution_count": null,
      "outputs": []
    },
    {
      "cell_type": "markdown",
      "metadata": {
        "id": "1KXd5yJv3ILW",
        "colab_type": "text"
      },
      "source": [
        "## Computing similarity of Pink Floyd songs"
      ]
    },
    {
      "cell_type": "code",
      "metadata": {
        "id": "0Hc0OlX03IhX",
        "colab_type": "code",
        "colab": {}
      },
      "source": [
        "# Create Doc objects\n",
        "mother_doc = nlp(mother)\n",
        "hopes_doc = nlp(hopes)\n",
        "hey_doc = nlp(hey)\n",
        "\n",
        "# Print similarity between mother and hopes\n",
        "print(mother_doc.similarity(hopes_doc))\n",
        "\n",
        "# Print similarity between mother and hey\n",
        "print(mother_doc.similarity(hey_doc))"
      ],
      "execution_count": null,
      "outputs": []
    }
  ]
}