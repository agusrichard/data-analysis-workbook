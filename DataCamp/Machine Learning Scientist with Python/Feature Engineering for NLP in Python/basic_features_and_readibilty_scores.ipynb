{
  "nbformat": 4,
  "nbformat_minor": 0,
  "metadata": {
    "colab": {
      "name": "basic_features_and_readibilty_scores.ipynb",
      "provenance": []
    },
    "kernelspec": {
      "name": "python3",
      "display_name": "Python 3"
    }
  },
  "cells": [
    {
      "cell_type": "markdown",
      "metadata": {
        "id": "VSqgY4JWZxQq",
        "colab_type": "text"
      },
      "source": [
        "# Basic features and readability scores\n"
      ]
    },
    {
      "cell_type": "markdown",
      "metadata": {
        "id": "nfgZiybXV9wX",
        "colab_type": "text"
      },
      "source": [
        "## Data format for ML algorithms"
      ]
    },
    {
      "cell_type": "markdown",
      "metadata": {
        "id": "1eBVTmrnZu26",
        "colab_type": "text"
      },
      "source": [
        "C. df3"
      ]
    },
    {
      "cell_type": "markdown",
      "metadata": {
        "id": "TDZ-kspzaCDH",
        "colab_type": "text"
      },
      "source": [
        "## One-hot encoding"
      ]
    },
    {
      "cell_type": "code",
      "metadata": {
        "id": "fcV17golaFh1",
        "colab_type": "code",
        "colab": {}
      },
      "source": [
        "# Print the features of df1\n",
        "print(df1.columns)"
      ],
      "execution_count": null,
      "outputs": []
    },
    {
      "cell_type": "code",
      "metadata": {
        "id": "iipO09Q4aO7Z",
        "colab_type": "code",
        "colab": {}
      },
      "source": [
        "# Print the features of df1\n",
        "print(df1.columns)\n",
        "\n",
        "# Perform one-hot encoding\n",
        "df1 = pd.get_dummies(df1, columns=['feature 5'])"
      ],
      "execution_count": null,
      "outputs": []
    },
    {
      "cell_type": "code",
      "metadata": {
        "id": "Mz_EUstaaUlf",
        "colab_type": "code",
        "colab": {}
      },
      "source": [
        "# Print the features of df1\n",
        "print(df1.columns)\n",
        "\n",
        "# Perform one-hot encoding\n",
        "df1 = pd.get_dummies(df1, columns=['feature 5'])\n",
        "\n",
        "# Print the new features of df1\n",
        "print(df1.columns)\n",
        "\n",
        "# Print first five rows of df1\n",
        "print(df1.head())"
      ],
      "execution_count": null,
      "outputs": []
    },
    {
      "cell_type": "markdown",
      "metadata": {
        "id": "i0C8UKfubWO8",
        "colab_type": "text"
      },
      "source": [
        "## Character count of Russian tweets"
      ]
    },
    {
      "cell_type": "code",
      "metadata": {
        "id": "a9Z0chAbbWmX",
        "colab_type": "code",
        "colab": {}
      },
      "source": [
        "# Create a feature char_count\n",
        "tweets['char_count'] = tweets['content'].apply(len)\n",
        "\n",
        "# Print the average character count\n",
        "print(tweets['char_count'].mean())"
      ],
      "execution_count": null,
      "outputs": []
    },
    {
      "cell_type": "markdown",
      "metadata": {
        "id": "9PepDUC9b_v2",
        "colab_type": "text"
      },
      "source": [
        "## Word count of TED talks"
      ]
    },
    {
      "cell_type": "code",
      "metadata": {
        "id": "VYuHw2gkcBaP",
        "colab_type": "code",
        "colab": {}
      },
      "source": [
        "# Function that returns number of words in a string\n",
        "def count_words(string):\n",
        "\t# Split the string into words\n",
        "    words = string.split()\n",
        "    \n",
        "    # Return the number of words\n",
        "    return len(words)\n",
        "\n",
        "# Create a new feature word_count\n",
        "ted['word_count'] = ted['transcript'].apply(count_words)\n",
        "\n",
        "# Print the average word count of the talks\n",
        "print(ted['word_count'].mean())"
      ],
      "execution_count": null,
      "outputs": []
    },
    {
      "cell_type": "markdown",
      "metadata": {
        "id": "FYJFbbgwcuoq",
        "colab_type": "text"
      },
      "source": [
        "## Hashtags and mentions in Russian tweets"
      ]
    },
    {
      "cell_type": "code",
      "metadata": {
        "id": "Ynp2fM9Ncu_Y",
        "colab_type": "code",
        "colab": {}
      },
      "source": [
        "# Function that returns numner of hashtags in a string\n",
        "def count_hashtags(string):\n",
        "\t# Split the string into words\n",
        "    words = string.split()\n",
        "    \n",
        "    # Create a list of words that are hashtags\n",
        "    hashtags = [word for word in words if word.startswith('#')]\n",
        "    \n",
        "    # Return number of hashtags\n",
        "    return(len(hashtags))\n",
        "\n",
        "# Create a feature hashtag_count and display distribution\n",
        "tweets['hashtag_count'] = tweets['content'].apply(count_hashtags)\n",
        "tweets['hashtag_count'].hist()\n",
        "plt.title('Hashtag count distribution')\n",
        "plt.show()"
      ],
      "execution_count": null,
      "outputs": []
    },
    {
      "cell_type": "code",
      "metadata": {
        "id": "2huMSrK4dDm8",
        "colab_type": "code",
        "colab": {}
      },
      "source": [
        "# Function that returns number of mentions in a string\n",
        "def count_mentions(string):\n",
        "\t# Split the string into words\n",
        "    words = string.split()\n",
        "    \n",
        "    # Create a list of words that are mentions\n",
        "    mentions = [word for word in words if word.startswith('@')]\n",
        "    \n",
        "    # Return number of mentions\n",
        "    return(len(mentions))\n",
        "\n",
        "# Create a feature mention_count and display distribution\n",
        "tweets['mention_count'] = tweets['content'].apply(count_mentions)\n",
        "tweets['mention_count'].hist()\n",
        "plt.title('Mention count distribution')\n",
        "plt.show()"
      ],
      "execution_count": null,
      "outputs": []
    },
    {
      "cell_type": "markdown",
      "metadata": {
        "id": "9Hpv34mveGk-",
        "colab_type": "text"
      },
      "source": [
        "## Readability of 'The Myth of Sisyphus'"
      ]
    },
    {
      "cell_type": "code",
      "metadata": {
        "id": "rDGooFwZeG8S",
        "colab_type": "code",
        "colab": {}
      },
      "source": [
        "# Import Textatistic\n",
        "from textatistic import Textatistic\n",
        "\n",
        "# Compute the readability scores \n",
        "readability_scores = Textatistic(sisyphus_essay).scores\n",
        "\n",
        "# Print the flesch reading ease score\n",
        "flesch = readability_scores['flesch_score']\n",
        "print(\"The Flesch Reading Ease is %.2f\" % (flesch))"
      ],
      "execution_count": null,
      "outputs": []
    },
    {
      "cell_type": "markdown",
      "metadata": {
        "id": "rYFFI-vqelVB",
        "colab_type": "text"
      },
      "source": [
        "## Readability of various publications"
      ]
    },
    {
      "cell_type": "code",
      "metadata": {
        "id": "AbHg8ugreltf",
        "colab_type": "code",
        "colab": {}
      },
      "source": [
        "# Import Textatistic\n",
        "from textatistic import Textatistic\n",
        "\n",
        "# List of excerpts\n",
        "excerpts = [forbes, harvard_law, r_digest, time_kids]\n",
        "\n",
        "# Loop through excerpts and compute gunning fog index\n",
        "gunning_fog_scores = []\n",
        "for excerpt in excerpts:\n",
        "  readability_scores = Textatistic(excerpt).scores\n",
        "  gunning_fog = readability_scores['gunningfog_score']\n",
        "  gunning_fog_scores.append(gunning_fog)\n",
        "\n",
        "# Print the gunning fog indices\n",
        "print(gunning_fog_scores)"
      ],
      "execution_count": null,
      "outputs": []
    }
  ]
}