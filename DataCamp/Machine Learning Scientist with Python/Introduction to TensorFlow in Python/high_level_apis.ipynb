{
  "nbformat": 4,
  "nbformat_minor": 0,
  "metadata": {
    "colab": {
      "name": "high_level_apis.ipynb",
      "provenance": []
    },
    "kernelspec": {
      "name": "python3",
      "display_name": "Python 3"
    }
  },
  "cells": [
    {
      "cell_type": "markdown",
      "metadata": {
        "id": "y9i2qHU45XJd",
        "colab_type": "text"
      },
      "source": [
        "# High Level APIs"
      ]
    },
    {
      "cell_type": "markdown",
      "metadata": {
        "id": "UKU5HMOUInE9",
        "colab_type": "text"
      },
      "source": [
        "## The sequential model in Keras"
      ]
    },
    {
      "cell_type": "code",
      "metadata": {
        "id": "Vc5cZjZyJel5",
        "colab_type": "code",
        "colab": {}
      },
      "source": [
        "# Define a Keras sequential model\n",
        "model = keras.Sequential()\n",
        "\n",
        "# Define the first dense layer\n",
        "model.add(keras.layers.Dense(16, activation='relu', input_shape=(784,)))\n",
        "\n",
        "# Define the second dense layer\n",
        "model.add(keras.layers.Dense(8, activation='relu'))\n",
        "\n",
        "# Define the output layer\n",
        "model.add(keras.layers.Dense(4, activation='softmax'))\n",
        "\n",
        "# Print the model architecture\n",
        "print(model.summary())"
      ],
      "execution_count": null,
      "outputs": []
    },
    {
      "cell_type": "markdown",
      "metadata": {
        "id": "x8t0f_6WJ_zE",
        "colab_type": "text"
      },
      "source": [
        "## Compiling a sequential model"
      ]
    },
    {
      "cell_type": "code",
      "metadata": {
        "id": "CA3QHcfEKAfK",
        "colab_type": "code",
        "colab": {}
      },
      "source": [
        "# Define the first dense layer\n",
        "model.add(keras.layers.Dense(16, activation='sigmoid', input_shape=(784,)))\n",
        "\n",
        "# Apply dropout to the first layer's output\n",
        "model.add(keras.layers.Dropout(0.25))\n",
        "\n",
        "# Define the output layer\n",
        "model.add(keras.layers.Dense(4, activation='softmax'))\n",
        "\n",
        "# Compile the model\n",
        "model.compile(optimizer='adam', loss='categorical_crossentropy')\n",
        "\n",
        "# Print a model summary\n",
        "print(model.summary())"
      ],
      "execution_count": null,
      "outputs": []
    },
    {
      "cell_type": "markdown",
      "metadata": {
        "id": "cv1r1D3VK-uM",
        "colab_type": "text"
      },
      "source": [
        "## Defining a multiple input model"
      ]
    },
    {
      "cell_type": "code",
      "metadata": {
        "id": "JcaePqwFK_I-",
        "colab_type": "code",
        "colab": {}
      },
      "source": [
        "# For model 1, pass the input layer to layer 1 and layer 1 to layer 2\n",
        "m1_layer1 = keras.layers.Dense(12, activation='sigmoid')(m1_inputs)\n",
        "m1_layer2 = keras.layers.Dense(4, activation='softmax')(m1_layer1)\n",
        "\n",
        "# For model 2, pass the input layer to layer 1 and layer 1 to layer 2\n",
        "m2_layer1 = keras.layers.Dense(12, activation='relu')(m2_inputs)\n",
        "m2_layer2 = keras.layers.Dense(4, activation='softmax')(m2_layer1)\n",
        "\n",
        "# Merge model outputs and define a functional model\n",
        "merged = keras.layers.add([m1_layer2, m2_layer2])\n",
        "model = keras.Model(inputs=[m1_inputs, m2_inputs], outputs=merged)\n",
        "\n",
        "# Print a model summary\n",
        "print(model.summary())"
      ],
      "execution_count": null,
      "outputs": []
    },
    {
      "cell_type": "markdown",
      "metadata": {
        "id": "VQCdsnfvMkMM",
        "colab_type": "text"
      },
      "source": [
        "## Training with Keras"
      ]
    },
    {
      "cell_type": "code",
      "metadata": {
        "id": "mDHn_eteMkmW",
        "colab_type": "code",
        "colab": {}
      },
      "source": [
        "# Define a sequential model\n",
        "model = keras.Sequential()\n",
        "\n",
        "# Define a hidden layer\n",
        "model.add(keras.layers.Dense(16, activation='relu', input_shape=(784,)))\n",
        "\n",
        "# Define the output layer\n",
        "model.add(keras.layers.Dense(4, activation='softmax'))\n",
        "\n",
        "# Compile the model\n",
        "model.compile('SGD', loss='categorical_crossentropy')\n",
        "\n",
        "# Complete the fitting operation\n",
        "model.fit(sign_language_features, sign_language_labels, epochs=5)"
      ],
      "execution_count": null,
      "outputs": []
    },
    {
      "cell_type": "markdown",
      "metadata": {
        "id": "x3IMpG8ZNEj9",
        "colab_type": "text"
      },
      "source": [
        "## Metrics and validation with Keras"
      ]
    },
    {
      "cell_type": "code",
      "metadata": {
        "id": "TxpQckkxNE_X",
        "colab_type": "code",
        "colab": {}
      },
      "source": [
        "# Define sequential model\n",
        "model = keras.Sequential()\n",
        "\n",
        "# Define the first layer\n",
        "model.add(keras.layers.Dense(32, activation='sigmoid', input_shape=(784,)))\n",
        "\n",
        "# Add activation function to classifier\n",
        "model.add(keras.layers.Dense(4, activation='softmax'))\n",
        "\n",
        "# Set the optimizer, loss function, and metrics\n",
        "model.compile(optimizer='RMSprop', loss='categorical_crossentropy', metrics=['accuracy'])\n",
        "\n",
        "# Add the number of epochs and the validation split\n",
        "model.fit(sign_language_features, sign_language_labels, epochs=10, validation_split=0.1)"
      ],
      "execution_count": null,
      "outputs": []
    },
    {
      "cell_type": "markdown",
      "metadata": {
        "id": "i7muE2OSNjyv",
        "colab_type": "text"
      },
      "source": [
        "## Overfitting detection"
      ]
    },
    {
      "cell_type": "code",
      "metadata": {
        "id": "5M9Rsy_3NkLc",
        "colab_type": "code",
        "colab": {}
      },
      "source": [
        "# Define sequential model\n",
        "model = keras.Sequential()\n",
        "\n",
        "# Define the first layer\n",
        "model.add(keras.layers.Dense(1024, activation='relu', input_shape=(784,)))\n",
        "\n",
        "# Add activation function to classifier\n",
        "model.add(keras.layers.Dense(4, activation='softmax'))\n",
        "\n",
        "# Finish the model compilation\n",
        "model.compile(optimizer=keras.optimizers.Adam(lr=0.001), \n",
        "              loss='categorical_crossentropy', metrics=['accuracy'])\n",
        "\n",
        "# Complete the model fit operation\n",
        "model.fit(sign_language_features, sign_language_labels, epochs=50, validation_split=0.5)"
      ],
      "execution_count": null,
      "outputs": []
    },
    {
      "cell_type": "markdown",
      "metadata": {
        "id": "mmJx6czBOHcG",
        "colab_type": "text"
      },
      "source": [
        "## Evaluating models"
      ]
    },
    {
      "cell_type": "code",
      "metadata": {
        "id": "zAmX6rsWOH3v",
        "colab_type": "code",
        "colab": {}
      },
      "source": [
        "# Evaluate the small model using the train data\n",
        "small_train = small_model.evaluate(train_features, train_labels)\n",
        "\n",
        "# Evaluate the small model using the test data\n",
        "small_test = small_model.evaluate(test_features, test_labels)\n",
        "\n",
        "# Evaluate the large model using the train data\n",
        "large_train = large_model.evaluate(train_features, train_labels)\n",
        "\n",
        "# Evaluate the large model using the test data\n",
        "large_test = large_model.evaluate(test_features, test_labels)\n",
        "\n",
        "# Print losses\n",
        "print('\\n Small - Train: {}, Test: {}'.format(small_train, small_test))\n",
        "print('Large - Train: {}, Test: {}'.format(large_train, large_test))"
      ],
      "execution_count": null,
      "outputs": []
    },
    {
      "cell_type": "markdown",
      "metadata": {
        "id": "WjEGLdl-PcpW",
        "colab_type": "text"
      },
      "source": [
        "## Preparing to train with Estimators"
      ]
    },
    {
      "cell_type": "code",
      "metadata": {
        "id": "MecwxmSHPdEF",
        "colab_type": "code",
        "colab": {}
      },
      "source": [
        "# Define feature columns for bedrooms and bathrooms\n",
        "bedrooms = feature_column.numeric_column(\"bedrooms\")\n",
        "bathrooms = feature_column.numeric_column('bathrooms')\n",
        "\n",
        "# Define the list of feature columns\n",
        "feature_list = [bedrooms, bathrooms]\n",
        "\n",
        "def input_fn():\n",
        "\t# Define the labels\n",
        "\tlabels = np.array(housing.price)\n",
        "\t# Define the features\n",
        "\tfeatures = {'bedrooms':np.array(housing['bedrooms']), \n",
        "                'bathrooms':np.array(housing['bathrooms'])}\n",
        "\treturn features, labels"
      ],
      "execution_count": null,
      "outputs": []
    },
    {
      "cell_type": "markdown",
      "metadata": {
        "id": "VsInxI8uP_7g",
        "colab_type": "text"
      },
      "source": [
        "## Defining Estimators"
      ]
    },
    {
      "cell_type": "code",
      "metadata": {
        "id": "IucA0KBnQAV2",
        "colab_type": "code",
        "colab": {}
      },
      "source": [
        "# Define the model and set the number of steps\n",
        "model = estimator.DNNRegressor(feature_columns=feature_list, hidden_units=[2, 2])\n",
        "model.train(input_fn, steps=1)"
      ],
      "execution_count": null,
      "outputs": []
    },
    {
      "cell_type": "code",
      "metadata": {
        "id": "utDHsvpHQR-R",
        "colab_type": "code",
        "colab": {}
      },
      "source": [
        "# Define the model and set the number of steps\n",
        "model = estimator.LinearRegressor(feature_columns=feature_list)\n",
        "model.train(input_fn, steps=2)"
      ],
      "execution_count": null,
      "outputs": []
    }
  ]
}