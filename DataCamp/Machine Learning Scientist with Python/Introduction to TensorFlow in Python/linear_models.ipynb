{
  "nbformat": 4,
  "nbformat_minor": 0,
  "metadata": {
    "colab": {
      "name": "linear_models.ipynb",
      "provenance": []
    },
    "kernelspec": {
      "name": "python3",
      "display_name": "Python 3"
    }
  },
  "cells": [
    {
      "cell_type": "markdown",
      "metadata": {
        "id": "6ZpP3Kain_hS",
        "colab_type": "text"
      },
      "source": [
        "# Linear models"
      ]
    },
    {
      "cell_type": "markdown",
      "metadata": {
        "id": "0QiAIKixoDS5",
        "colab_type": "text"
      },
      "source": [
        "## Load data using pandas"
      ]
    },
    {
      "cell_type": "code",
      "metadata": {
        "id": "rAZMmAveoUHB",
        "colab_type": "code",
        "colab": {}
      },
      "source": [
        "# Import pandas under the alias pd\n",
        "import pandas as pd\n",
        "\n",
        "# Assign the path to a string variable named data_path\n",
        "data_path = 'kc_house_data.csv'\n",
        "\n",
        "# Load the dataset as a dataframe named housing\n",
        "housing = pd.read_csv(data_path)\n",
        "\n",
        "# Print the price column of housing\n",
        "print(housing['price'])"
      ],
      "execution_count": null,
      "outputs": []
    },
    {
      "cell_type": "markdown",
      "metadata": {
        "id": "TlXRBGiHoZ2r",
        "colab_type": "text"
      },
      "source": [
        "## Setting the data type"
      ]
    },
    {
      "cell_type": "code",
      "metadata": {
        "id": "XE_Y6j1Qoa-P",
        "colab_type": "code",
        "colab": {}
      },
      "source": [
        "# Import numpy and tensorflow with their standard aliases\n",
        "import numpy as np\n",
        "import tensorflow as tf\n",
        "\n",
        "# Use a numpy array to define price as a 32-bit float\n",
        "price = np.array(housing['price'], np.float32)\n",
        "\n",
        "# Define waterfront as a Boolean using cast\n",
        "waterfront = tf.cast(housing['waterfront'], tf.bool)\n",
        "\n",
        "# Print price and waterfront\n",
        "print(price)\n",
        "print(waterfront)"
      ],
      "execution_count": null,
      "outputs": []
    },
    {
      "cell_type": "markdown",
      "metadata": {
        "id": "mvYk89HApplc",
        "colab_type": "text"
      },
      "source": [
        "## Loss functions in TensorFlow"
      ]
    },
    {
      "cell_type": "code",
      "metadata": {
        "id": "Q997Q0uvpqAB",
        "colab_type": "code",
        "colab": {}
      },
      "source": [
        "# Import the keras module from tensorflow\n",
        "from tensorflow import keras\n",
        "\n",
        "# Compute the mean squared error (mse)\n",
        "loss = keras.losses.mse(price, predictions)\n",
        "\n",
        "# Print the mean squared error (mse)\n",
        "print(loss.numpy())"
      ],
      "execution_count": null,
      "outputs": []
    },
    {
      "cell_type": "code",
      "metadata": {
        "id": "p3pA8CaOp2KZ",
        "colab_type": "code",
        "colab": {}
      },
      "source": [
        "# Import the keras module from tensorflow\n",
        "from tensorflow import keras\n",
        "\n",
        "# Compute the mean absolute error (mae)\n",
        "loss = keras.losses.mae(price, predictions)\n",
        "\n",
        "# Print the mean absolute error (mae)\n",
        "print(loss.numpy())"
      ],
      "execution_count": null,
      "outputs": []
    },
    {
      "cell_type": "markdown",
      "metadata": {
        "id": "NeSNsOgZp6OG",
        "colab_type": "text"
      },
      "source": [
        "## Modifying the loss function"
      ]
    },
    {
      "cell_type": "code",
      "metadata": {
        "id": "b36JZQVxp6nk",
        "colab_type": "code",
        "colab": {}
      },
      "source": [
        "# Initialize a variable named scalar\n",
        "scalar = Variable(1.0, float32)\n",
        "\n",
        "# Define the model\n",
        "def model(scalar, features = features):\n",
        "  \treturn scalar * features\n",
        "\n",
        "# Define a loss function\n",
        "def loss_function(scalar, features = features, targets = targets):\n",
        "\t# Compute the predicted values\n",
        "\tpredictions = model(scalar, features)\n",
        "    \n",
        "\t# Return the mean absolute error loss\n",
        "\treturn keras.losses.mae(targets, predictions)\n",
        "\n",
        "# Evaluate the loss function and print the loss\n",
        "print(loss_function(scalar).numpy())"
      ],
      "execution_count": null,
      "outputs": []
    },
    {
      "cell_type": "markdown",
      "metadata": {
        "id": "j_ARxjGTrDMp",
        "colab_type": "text"
      },
      "source": [
        "## Set up a linear regression"
      ]
    },
    {
      "cell_type": "code",
      "metadata": {
        "id": "UA4R2vg8rDnf",
        "colab_type": "code",
        "colab": {}
      },
      "source": [
        "# Define a linear regression model\n",
        "def linear_regression(intercept, slope, features = size_log):\n",
        "\treturn intercept + features * slope\n",
        "\n",
        "# Set loss_function() to take the variables as arguments\n",
        "def loss_function(intercept, slope, features = size_log, targets = price_log):\n",
        "\t# Set the predicted values\n",
        "\tpredictions = linear_regression(intercept, slope, features)\n",
        "    \n",
        "    # Return the mean squared error loss\n",
        "\treturn keras.losses.mse(targets, predictions)\n",
        "\n",
        "# Compute the loss for different slope and intercept values\n",
        "print(loss_function(0.1, 0.1).numpy())\n",
        "print(loss_function(0.1, 0.5).numpy())"
      ],
      "execution_count": null,
      "outputs": []
    },
    {
      "cell_type": "markdown",
      "metadata": {
        "id": "iC_fGcnorigM",
        "colab_type": "text"
      },
      "source": [
        "## Train a linear model"
      ]
    },
    {
      "cell_type": "code",
      "metadata": {
        "id": "9wtLS0tMri7C",
        "colab_type": "code",
        "colab": {}
      },
      "source": [
        "# Initialize an adam optimizer\n",
        "opt = keras.optimizers.Adam(0.5)\n",
        "\n",
        "for j in range(100):\n",
        "\t# Apply minimize, pass the loss function, and supply the variables\n",
        "\topt.minimize(lambda: loss_function(intercept, slope), var_list=[intercept, slope])\n",
        "\n",
        "\t# Print every 10th value of the loss\n",
        "\tif j % 10 == 0:\n",
        "\t\tprint(loss_function(intercept, slope).numpy())\n",
        "\n",
        "# Plot data and regression line\n",
        "plot_results(intercept, slope)"
      ],
      "execution_count": null,
      "outputs": []
    },
    {
      "cell_type": "markdown",
      "metadata": {
        "id": "0NXf-v0zsGBC",
        "colab_type": "text"
      },
      "source": [
        "## Multiple linear regression"
      ]
    },
    {
      "cell_type": "code",
      "metadata": {
        "id": "ArLoaiuKsGdU",
        "colab_type": "code",
        "colab": {}
      },
      "source": [
        "# Define the linear regression model\n",
        "def linear_regression(params, feature1 = size_log, feature2 = bedrooms):\n",
        "\treturn params[0] + feature1*params[1] + feature2*params[2]\n",
        "\n",
        "# Define the loss function\n",
        "def loss_function(params, targets = price_log, feature1 = size_log, feature2 = bedrooms):\n",
        "\t# Set the predicted values\n",
        "\tpredictions = linear_regression(params, feature1, feature2)\n",
        "  \n",
        "\t# Use the mean absolute error loss\n",
        "\treturn keras.losses.mae(targets, predictions)\n",
        "\n",
        "# Define the optimize operation\n",
        "opt = keras.optimizers.Adam()\n",
        "\n",
        "# Perform minimization and print trainable variables\n",
        "for j in range(10):\n",
        "\topt.minimize(lambda: loss_function(params), var_list=[params])\n",
        "\tprint_results(params)"
      ],
      "execution_count": null,
      "outputs": []
    },
    {
      "cell_type": "markdown",
      "metadata": {
        "id": "4IfmK012tik_",
        "colab_type": "text"
      },
      "source": [
        "## Preparing to batch train"
      ]
    },
    {
      "cell_type": "code",
      "metadata": {
        "id": "wHhlv489tjbf",
        "colab_type": "code",
        "colab": {}
      },
      "source": [
        "# Define the intercept and slope\n",
        "intercept = Variable(10.0, float32)\n",
        "slope = Variable(0.5, float32)\n",
        "\n",
        "# Define the model\n",
        "def linear_regression(intercept, slope, features):\n",
        "\t# Define the predicted values\n",
        "\treturn intercept + features * slope\n",
        "\n",
        "# Define the loss function\n",
        "def loss_function(intercept, slope, targets, features):\n",
        "\t# Define the predicted values\n",
        "\tpredictions = linear_regression(intercept, slope, features)\n",
        "    \n",
        " \t# Define the MSE loss\n",
        "\treturn keras.losses.mse(targets, predictions)"
      ],
      "execution_count": null,
      "outputs": []
    },
    {
      "cell_type": "markdown",
      "metadata": {
        "id": "Gf4hauPeticy",
        "colab_type": "text"
      },
      "source": [
        "## Training a linear model in batches"
      ]
    },
    {
      "cell_type": "code",
      "metadata": {
        "id": "0A0Hy-wauF5a",
        "colab_type": "code",
        "colab": {}
      },
      "source": [
        "# Initialize adam optimizer\n",
        "opt = keras.optimizers.Adam()\n",
        "\n",
        "# Load data in batches\n",
        "for batch in pd.read_csv('kc_house_data.csv', chunksize=100):\n",
        "\tsize_batch = np.array(batch['sqft_lot'], np.float32)\n",
        "\n",
        "\t# Extract the price values for the current batch\n",
        "\tprice_batch = np.array(batch['price'], np.float32)\n",
        "\n",
        "\t# Complete the loss, fill in the variable list, and minimize\n",
        "\topt.minimize(lambda: loss_function(intercept, slope, price_batch, size_batch), var_list=[intercept, slope])\n",
        "\n",
        "# Print trained parameters\n",
        "print(intercept.numpy(), slope.numpy())"
      ],
      "execution_count": null,
      "outputs": []
    }
  ]
}