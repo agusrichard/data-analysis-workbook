{
  "nbformat": 4,
  "nbformat_minor": 0,
  "metadata": {
    "colab": {
      "name": "introduction_to_tensorflow.ipynb",
      "provenance": []
    },
    "kernelspec": {
      "name": "python3",
      "display_name": "Python 3"
    }
  },
  "cells": [
    {
      "cell_type": "markdown",
      "metadata": {
        "id": "37b_srtADpQZ",
        "colab_type": "text"
      },
      "source": [
        "# Introduction to TensorFlow"
      ]
    },
    {
      "cell_type": "code",
      "metadata": {
        "id": "Nb_1A2oaGIua",
        "colab_type": "code",
        "colab": {}
      },
      "source": [
        "import tensorflow as tf"
      ],
      "execution_count": 1,
      "outputs": []
    },
    {
      "cell_type": "markdown",
      "metadata": {
        "id": "KMS1FmT5D0Vc",
        "colab_type": "text"
      },
      "source": [
        "## Defining data as constants"
      ]
    },
    {
      "cell_type": "code",
      "metadata": {
        "id": "dWdEQ5JhEFGP",
        "colab_type": "code",
        "colab": {}
      },
      "source": [
        "# Import constant from TensorFlow\n",
        "from tensorflow import constant\n",
        "\n",
        "# Convert the credit_numpy array into a tensorflow constant\n",
        "credit_constant = constant(credit_numpy)\n",
        "\n",
        "# Print constant datatype\n",
        "print('The datatype is:', credit_constant.dtype)\n",
        "\n",
        "# Print constant shape\n",
        "print('The shape is:', credit_constant.shape)"
      ],
      "execution_count": null,
      "outputs": []
    },
    {
      "cell_type": "markdown",
      "metadata": {
        "id": "bKP5I5wGEiab",
        "colab_type": "text"
      },
      "source": [
        "## Defining variables"
      ]
    },
    {
      "cell_type": "code",
      "metadata": {
        "id": "QMBxlSe_EjMD",
        "colab_type": "code",
        "colab": {}
      },
      "source": [
        "# Define the 1-dimensional variable A1\n",
        "A1 = Variable([1, 2, 3, 4])\n",
        "\n",
        "# Print the variable A1\n",
        "print(A1)\n",
        "\n",
        "# Convert A1 to a numpy array and assign it to B1\n",
        "B1 = A1.numpy()\n",
        "\n",
        "# Print B1\n",
        "print(B1)"
      ],
      "execution_count": null,
      "outputs": []
    },
    {
      "cell_type": "markdown",
      "metadata": {
        "id": "6qV7LNUIGLxt",
        "colab_type": "text"
      },
      "source": [
        "## Performing element-wise multiplication"
      ]
    },
    {
      "cell_type": "code",
      "metadata": {
        "id": "rF1fzSBYGNMO",
        "colab_type": "code",
        "colab": {}
      },
      "source": [
        "# Define tensors A1 and A23 as constants\n",
        "A1 = constant([1, 2, 3, 4])\n",
        "A23 = constant([[1, 2, 3], [1, 6, 4]])\n",
        "\n",
        "# Define B1 and B23 to have the correct shape\n",
        "B1 = ones_like(A1)\n",
        "B23 = ones_like(A23)\n",
        "\n",
        "# Perform element-wise multiplication\n",
        "C1 = multiply(A1, B1)\n",
        "C23 = multiply(A23, B23)\n",
        "\n",
        "# Print the tensors C1 and C23\n",
        "print('C1: {}'.format(C1.numpy()))\n",
        "print('C23: {}'.format(C23.numpy()))"
      ],
      "execution_count": null,
      "outputs": []
    },
    {
      "cell_type": "markdown",
      "metadata": {
        "id": "QnHGjcBcIy65",
        "colab_type": "text"
      },
      "source": [
        "## Making predictions with matrix multiplication"
      ]
    },
    {
      "cell_type": "code",
      "metadata": {
        "id": "f3TMLPPaIzO5",
        "colab_type": "code",
        "colab": {}
      },
      "source": [
        "# Define features, params, and bill as constants\n",
        "features = constant([[2, 24], [2, 26], [2, 57], [1, 37]])\n",
        "params = constant([[1000], [150]])\n",
        "bill = constant([[3913], [2682], [8617], [64400]])\n",
        "\n",
        "# Compute billpred using features and params\n",
        "billpred = matmul(features, params)\n",
        "\n",
        "# Compute and print the error\n",
        "error = bill - billpred\n",
        "print(error.numpy())"
      ],
      "execution_count": null,
      "outputs": []
    },
    {
      "cell_type": "markdown",
      "metadata": {
        "id": "tGsspZTKI39y",
        "colab_type": "text"
      },
      "source": [
        "## Summing over tensor dimensions"
      ]
    },
    {
      "cell_type": "markdown",
      "metadata": {
        "id": "SyzfDixxI4XO",
        "colab_type": "text"
      },
      "source": [
        "C. Combined, the 5 individuals hold $50,000 in bonds."
      ]
    },
    {
      "cell_type": "markdown",
      "metadata": {
        "id": "xLbLtjS_JKtb",
        "colab_type": "text"
      },
      "source": [
        "## Reshaping tensors"
      ]
    },
    {
      "cell_type": "code",
      "metadata": {
        "id": "AtxC08GXKmSr",
        "colab_type": "code",
        "colab": {}
      },
      "source": [
        "# Reshape the grayscale image tensor into a vector\n",
        "gray_vector = reshape(gray_tensor, (28*28, 1))\n",
        "\n",
        "# Reshape the color image tensor into a vector\n",
        "color_vector = reshape(color_tensor, (28*28*3, 1))"
      ],
      "execution_count": null,
      "outputs": []
    },
    {
      "cell_type": "markdown",
      "metadata": {
        "id": "bpPkZtBjK9Ae",
        "colab_type": "text"
      },
      "source": [
        "## Optimizing with gradients"
      ]
    },
    {
      "cell_type": "code",
      "metadata": {
        "id": "mJpD9oW2K9ad",
        "colab_type": "code",
        "colab": {}
      },
      "source": [
        "def compute_gradient(x0):\n",
        "  \t# Define x as a variable with an initial value of x0\n",
        "\tx = Variable(x0)\n",
        "\twith GradientTape() as tape:\n",
        "\t\ttape.watch(x)\n",
        "        # Define y using the multiply operation\n",
        "\t\ty = multiply(x, x)\n",
        "    # Return the gradient of y with respect to x\n",
        "\treturn tape.gradient(y, x).numpy()\n",
        "\n",
        "# Compute and print gradients at x = -1, 1, and 0\n",
        "print(compute_gradient(-1.0))\n",
        "print(compute_gradient(1.0))\n",
        "print(compute_gradient(0.0))"
      ],
      "execution_count": null,
      "outputs": []
    },
    {
      "cell_type": "markdown",
      "metadata": {
        "id": "H_fZ9iy8LPTp",
        "colab_type": "text"
      },
      "source": [
        "## Working with image data"
      ]
    },
    {
      "cell_type": "code",
      "metadata": {
        "id": "E5Hfp282LPs4",
        "colab_type": "code",
        "colab": {}
      },
      "source": [
        "# Reshape model from a 1x3 to a 3x1 tensor\n",
        "model = reshape(model, (3, 1))\n",
        "\n",
        "# Multiply letter by model\n",
        "output = matmul(letter, model)\n",
        "\n",
        "# Sum over output and print prediction using the numpy method\n",
        "prediction = reduce_sum(output)\n",
        "print(prediction.numpy())"
      ],
      "execution_count": null,
      "outputs": []
    }
  ]
}