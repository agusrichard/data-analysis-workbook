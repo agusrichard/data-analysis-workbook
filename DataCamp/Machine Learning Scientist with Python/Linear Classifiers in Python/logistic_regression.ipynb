{
  "nbformat": 4,
  "nbformat_minor": 0,
  "metadata": {
    "colab": {
      "name": "logistic_regression.ipynb",
      "provenance": []
    },
    "kernelspec": {
      "name": "python3",
      "display_name": "Python 3"
    }
  },
  "cells": [
    {
      "cell_type": "markdown",
      "metadata": {
        "id": "Emj5yB06tBg0",
        "colab_type": "text"
      },
      "source": [
        "# Logistic regression\n"
      ]
    },
    {
      "cell_type": "markdown",
      "metadata": {
        "id": "38LQU1T_uLP8",
        "colab_type": "text"
      },
      "source": [
        "## Regularized logistic regression"
      ]
    },
    {
      "cell_type": "code",
      "metadata": {
        "id": "iGmmBszEuQZ4",
        "colab_type": "code",
        "colab": {}
      },
      "source": [
        "# Train and validaton errors initialized as empty list\n",
        "train_errs = list()\n",
        "valid_errs = list()\n",
        "\n",
        "# Loop over values of C_value\n",
        "for C_value in [0.001, 0.01, 0.1, 1, 10, 100, 1000]:\n",
        "    # Create LogisticRegression object and fit\n",
        "    lr = LogisticRegression(C=C_value)\n",
        "    lr.fit(X_train, y_train)\n",
        "    \n",
        "    # Evaluate error rates and append to lists\n",
        "    train_errs.append( 1.0 - lr.score(X_train, y_train) )\n",
        "    valid_errs.append( 1.0 - lr.score(X_valid, y_valid) )\n",
        "    \n",
        "# Plot results\n",
        "plt.semilogx(C_values, train_errs, C_values, valid_errs)\n",
        "plt.legend((\"train\", \"validation\"))\n",
        "plt.show()"
      ],
      "execution_count": 0,
      "outputs": []
    },
    {
      "cell_type": "markdown",
      "metadata": {
        "id": "UZqNfP9xuzRn",
        "colab_type": "text"
      },
      "source": [
        "## Logistic regression and feature selection"
      ]
    },
    {
      "cell_type": "code",
      "metadata": {
        "id": "oK5sNbN6uz2q",
        "colab_type": "code",
        "colab": {}
      },
      "source": [
        "# Specify L1 regularization\n",
        "lr = LogisticRegression(penalty='l1')\n",
        "\n",
        "# Instantiate the GridSearchCV object and run the search\n",
        "searcher = GridSearchCV(lr, {'C':[0.001, 0.01, 0.1, 1, 10]})\n",
        "searcher.fit(X_train, y_train)\n",
        "\n",
        "# Report the best parameters\n",
        "print(\"Best CV params\", searcher.best_params_)\n",
        "\n",
        "# Find the number of nonzero coefficients (selected features)\n",
        "best_lr = searcher.best_estimator_\n",
        "coefs = best_lr.coef_\n",
        "print(\"Total number of features:\", coefs.size)\n",
        "print(\"Number of selected features:\", np.count_nonzero(coefs))"
      ],
      "execution_count": 0,
      "outputs": []
    },
    {
      "cell_type": "markdown",
      "metadata": {
        "id": "f12QYV5PvDl2",
        "colab_type": "text"
      },
      "source": [
        "## Identifying the most positive and negative words"
      ]
    },
    {
      "cell_type": "code",
      "metadata": {
        "id": "CldaTMOUvD79",
        "colab_type": "code",
        "colab": {}
      },
      "source": [
        "# Get the indices of the sorted cofficients\n",
        "inds_ascending = np.argsort(lr.coef_.flatten()) \n",
        "inds_descending = inds_ascending[::-1]\n",
        "\n",
        "# Print the most positive words\n",
        "print(\"Most positive words: \", end=\"\")\n",
        "for i in range(5):\n",
        "    print(vocab[inds_descending[i]], end=\", \")\n",
        "print(\"\\n\")\n",
        "\n",
        "# Print most negative words\n",
        "print(\"Most negative words: \", end=\"\")\n",
        "for i in range(5):\n",
        "    print(vocab[inds_ascending[i]], end=\", \")\n",
        "print(\"\\n\")"
      ],
      "execution_count": 0,
      "outputs": []
    },
    {
      "cell_type": "markdown",
      "metadata": {
        "id": "uhGQNQQ6xieN",
        "colab_type": "text"
      },
      "source": [
        "## Getting class probabilities"
      ]
    },
    {
      "cell_type": "markdown",
      "metadata": {
        "id": "yG1gZSbfxi0D",
        "colab_type": "text"
      },
      "source": [
        "C. (3)"
      ]
    },
    {
      "cell_type": "markdown",
      "metadata": {
        "id": "oxKe9p5Qxn4S",
        "colab_type": "text"
      },
      "source": [
        "## Regularization and probabilities"
      ]
    },
    {
      "cell_type": "code",
      "metadata": {
        "id": "gP3k32SYxqnH",
        "colab_type": "code",
        "colab": {}
      },
      "source": [
        "# Set the regularization strength\n",
        "model = LogisticRegression(C=1)\n",
        "\n",
        "# Fit and plot\n",
        "model.fit(X,y)\n",
        "plot_classifier(X,y,model,proba=True)\n",
        "\n",
        "# Predict probabilities on training points\n",
        "prob = model.predict_proba(X)\n",
        "print(\"Maximum predicted probability\", np.max(prob))"
      ],
      "execution_count": 0,
      "outputs": []
    },
    {
      "cell_type": "code",
      "metadata": {
        "id": "vjAsRL3sx4UA",
        "colab_type": "code",
        "colab": {}
      },
      "source": [
        "# Set the regularization strength\n",
        "model = LogisticRegression(C=0.1)\n",
        "\n",
        "# Fit and plot\n",
        "model.fit(X,y)\n",
        "plot_classifier(X,y,model,proba=True)\n",
        "\n",
        "# Predict probabilities on training points\n",
        "prob = model.predict_proba(X)\n",
        "print(\"Maximum predicted probability\", np.max(prob))"
      ],
      "execution_count": 0,
      "outputs": []
    },
    {
      "cell_type": "markdown",
      "metadata": {
        "id": "1GSq5Bx1x4rA",
        "colab_type": "text"
      },
      "source": [
        "## Visualizing easy and difficult examples"
      ]
    },
    {
      "cell_type": "code",
      "metadata": {
        "id": "0lHK4LLJyFlu",
        "colab_type": "code",
        "colab": {}
      },
      "source": [
        "lr = LogisticRegression()\n",
        "lr.fit(X,y)\n",
        "\n",
        "# Get predicted probabilities\n",
        "proba = lr.predict_proba(X)\n",
        "\n",
        "# Sort the example indices by their maximum probability\n",
        "proba_inds = np.argsort(np.max(proba,axis=1))\n",
        "\n",
        "# Show the most confident (least ambiguous) digit\n",
        "show_digit(proba_inds[-1], lr)\n",
        "\n",
        "# Show the least confident (most ambiguous) digit\n",
        "show_digit(proba_inds[0], lr)"
      ],
      "execution_count": 0,
      "outputs": []
    },
    {
      "cell_type": "markdown",
      "metadata": {
        "id": "5asumlKZyzmQ",
        "colab_type": "text"
      },
      "source": [
        "## Counting the coefficients"
      ]
    },
    {
      "cell_type": "markdown",
      "metadata": {
        "id": "FChWTP8a0GF3",
        "colab_type": "text"
      },
      "source": [
        "D. 303"
      ]
    },
    {
      "cell_type": "markdown",
      "metadata": {
        "id": "nAjSbSk90MiV",
        "colab_type": "text"
      },
      "source": [
        "## Fitting multi-class logistic regression"
      ]
    },
    {
      "cell_type": "code",
      "metadata": {
        "id": "FebDSU2R0Oaa",
        "colab_type": "code",
        "colab": {}
      },
      "source": [
        "# Fit one-vs-rest logistic regression classifier\n",
        "lr_ovr = LogisticRegression()\n",
        "lr_ovr.fit(X_train, y_train)\n",
        "\n",
        "print(\"OVR training accuracy:\", lr_ovr.score(X_train, y_train))\n",
        "print(\"OVR test accuracy    :\", lr_ovr.score(X_test, y_test))\n",
        "\n",
        "# Fit softmax classifier\n",
        "lr_mn = LogisticRegression(multi_class='multinomial', solver='lbfgs')\n",
        "lr_mn.fit(X_train, y_train)\n",
        "\n",
        "print(\"Softmax training accuracy:\", lr_mn.score(X_train, y_train))\n",
        "print(\"Softmax test accuracy    :\", lr_mn.score(X_test, y_test))"
      ],
      "execution_count": 0,
      "outputs": []
    },
    {
      "cell_type": "markdown",
      "metadata": {
        "id": "KdG0pp9b0is-",
        "colab_type": "text"
      },
      "source": [
        "## Visualizing multi-class logistic regression"
      ]
    },
    {
      "cell_type": "code",
      "metadata": {
        "id": "mLnDZSiY0jCP",
        "colab_type": "code",
        "colab": {}
      },
      "source": [
        "# Print training accuracies\n",
        "print(\"Softmax     training accuracy:\", lr_mn.score(X_train, y_train))\n",
        "print(\"One-vs-rest training accuracy:\", lr_ovr.score(X_train, y_train))\n",
        "\n",
        "# Create the binary classifier (class 1 vs. rest)\n",
        "lr_class_1 = LogisticRegression(C=100)\n",
        "lr_class_1.fit(X_train, y_train==1)\n",
        "\n",
        "# Plot the binary classifier (class 1 vs. rest)\n",
        "plot_classifier(X_train, y_train==1, lr_class_1)"
      ],
      "execution_count": 0,
      "outputs": []
    },
    {
      "cell_type": "markdown",
      "metadata": {
        "id": "y06uio7j1Q_E",
        "colab_type": "text"
      },
      "source": [
        "## One-vs-rest SVM"
      ]
    },
    {
      "cell_type": "code",
      "metadata": {
        "id": "yH1HErtt1RWd",
        "colab_type": "code",
        "colab": {}
      },
      "source": [
        "# We'll use SVC instead of LinearSVC from now on\n",
        "from sklearn.svm import SVC\n",
        "\n",
        "# Create/plot the binary classifier (class 1 vs. rest)\n",
        "svm_class_1 = SVC()\n",
        "svm_class_1.fit(X_train, y_train)\n",
        "plot_classifier(X_train, y_train==1, svm_class_1)"
      ],
      "execution_count": 0,
      "outputs": []
    }
  ]
}