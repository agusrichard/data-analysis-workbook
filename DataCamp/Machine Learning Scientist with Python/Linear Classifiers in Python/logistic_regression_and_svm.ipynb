{
  "nbformat": 4,
  "nbformat_minor": 0,
  "metadata": {
    "colab": {
      "name": "logistic_regression_and_svm.ipynb",
      "provenance": []
    },
    "kernelspec": {
      "name": "python3",
      "display_name": "Python 3"
    }
  },
  "cells": [
    {
      "cell_type": "markdown",
      "metadata": {
        "id": "9spJnseai_nh",
        "colab_type": "text"
      },
      "source": [
        "# Applying logistic regression and SVM"
      ]
    },
    {
      "cell_type": "markdown",
      "metadata": {
        "id": "OBYjVmM0jC-M",
        "colab_type": "text"
      },
      "source": [
        "## KNN classification"
      ]
    },
    {
      "cell_type": "code",
      "metadata": {
        "id": "8COMVB9yjG1_",
        "colab_type": "code",
        "colab": {}
      },
      "source": [
        "from sklearn.neighbors import KNeighborsClassifier\n",
        "\n",
        "# Create and fit the model\n",
        "knn = KNeighborsClassifier()\n",
        "knn.fit(X_train, y_train)\n",
        "\n",
        "# Predict on the test features, print the results\n",
        "pred = knn.predict(X_test)[0]\n",
        "print(\"Prediction for test example 0:\", pred)"
      ],
      "execution_count": 0,
      "outputs": []
    },
    {
      "cell_type": "markdown",
      "metadata": {
        "id": "zTDiShKejYC6",
        "colab_type": "text"
      },
      "source": [
        "## Comparing models"
      ]
    },
    {
      "cell_type": "markdown",
      "metadata": {
        "id": "aXUSDhtpjYXi",
        "colab_type": "text"
      },
      "source": [
        "B. k=5"
      ]
    },
    {
      "cell_type": "markdown",
      "metadata": {
        "id": "5i3Oyi_hjyn0",
        "colab_type": "text"
      },
      "source": [
        "## Overfitting"
      ]
    },
    {
      "cell_type": "markdown",
      "metadata": {
        "id": "PIgnOweWj0Ns",
        "colab_type": "text"
      },
      "source": [
        "C. Training accuracy 95%, testing accuracy 50%."
      ]
    },
    {
      "cell_type": "markdown",
      "metadata": {
        "id": "0eflDCsUj4j5",
        "colab_type": "text"
      },
      "source": [
        "## Running LogisticRegression and SVC"
      ]
    },
    {
      "cell_type": "code",
      "metadata": {
        "id": "Gra9vd9-kmyb",
        "colab_type": "code",
        "colab": {}
      },
      "source": [
        "from sklearn import datasets\n",
        "digits = datasets.load_digits()\n",
        "X_train, X_test, y_train, y_test = train_test_split(digits.data, digits.target)\n",
        "\n",
        "# Apply logistic regression and print scores\n",
        "lr = LogisticRegression()\n",
        "lr.fit(X_train, y_train)\n",
        "print(lr.score(X_train, y_train))\n",
        "print(lr.score(X_test, y_test))\n",
        "\n",
        "# Apply SVM and print scores\n",
        "svm = SVC()\n",
        "svm.fit(X_train, y_train)\n",
        "print(svm.score(X_train, y_train))\n",
        "print(svm.score(X_test, y_test))"
      ],
      "execution_count": 0,
      "outputs": []
    },
    {
      "cell_type": "markdown",
      "metadata": {
        "id": "4tB_9MjllAWm",
        "colab_type": "text"
      },
      "source": [
        "## Sentiment analysis for movie reviews"
      ]
    },
    {
      "cell_type": "code",
      "metadata": {
        "id": "wuFP74iLlAuS",
        "colab_type": "code",
        "colab": {}
      },
      "source": [
        "# Instantiate logistic regression and train\n",
        "lr = LogisticRegression()\n",
        "lr.fit(X, y)\n",
        "\n",
        "# Predict sentiment for a glowing review\n",
        "review1 = \"LOVED IT! This movie was amazing. Top 10 this year.\"\n",
        "review1_features = get_features(review1)\n",
        "print(\"Review:\", review1)\n",
        "print(\"Probability of positive review:\", lr.predict_proba(review1_features)[0,1])\n",
        "\n",
        "# Predict sentiment for a poor review\n",
        "review2 = \"Total junk! I'll never watch a film by that director again, no matter how good the reviews.\"\n",
        "review2_features = get_features(review2)\n",
        "print(\"Review:\", review2)\n",
        "print(\"Probability of positive review:\", lr.predict_proba(review2_features)[0,1])"
      ],
      "execution_count": 0,
      "outputs": []
    },
    {
      "cell_type": "markdown",
      "metadata": {
        "id": "pzruuhNDmEmx",
        "colab_type": "text"
      },
      "source": [
        "## Which decision boundary is linear?"
      ]
    },
    {
      "cell_type": "markdown",
      "metadata": {
        "id": "AZ3gdYPqmE6_",
        "colab_type": "text"
      },
      "source": [
        "A. (1)"
      ]
    },
    {
      "cell_type": "markdown",
      "metadata": {
        "id": "kOthyLJvmIVb",
        "colab_type": "text"
      },
      "source": [
        "## Visualizing decision boundaries"
      ]
    },
    {
      "cell_type": "code",
      "metadata": {
        "id": "rNWjayJzmKB7",
        "colab_type": "code",
        "colab": {}
      },
      "source": [
        "from sklearn.linear_model import LogisticRegression\n",
        "from sklearn.svm import SVC, LinearSVC\n",
        "from sklearn.neighbors import KNeighborsClassifier\n",
        "\n",
        "# Define the classifiers\n",
        "classifiers = [LogisticRegression(), LinearSVC(),SVC(), KNeighborsClassifier()]\n",
        "\n",
        "# Fit the classifiers\n",
        "for c in classifiers:\n",
        "    c.fit(X, y)\n",
        "\n",
        "# Plot the classifiers\n",
        "plot_4_classifiers(X, y, classifiers)\n",
        "plt.show()"
      ],
      "execution_count": 0,
      "outputs": []
    }
  ]
}