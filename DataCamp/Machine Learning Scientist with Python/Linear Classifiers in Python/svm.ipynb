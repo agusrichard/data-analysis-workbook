{
  "nbformat": 4,
  "nbformat_minor": 0,
  "metadata": {
    "colab": {
      "name": "svm.ipynb",
      "provenance": [],
      "collapsed_sections": []
    },
    "kernelspec": {
      "name": "python3",
      "display_name": "Python 3"
    }
  },
  "cells": [
    {
      "cell_type": "markdown",
      "metadata": {
        "id": "LVHPzDZI2tBe",
        "colab_type": "text"
      },
      "source": [
        "# Support Vector Machines"
      ]
    },
    {
      "cell_type": "markdown",
      "metadata": {
        "id": "1yZp7zQD1x6j",
        "colab_type": "text"
      },
      "source": [
        "## Support vector definition"
      ]
    },
    {
      "cell_type": "markdown",
      "metadata": {
        "id": "XfXLjJMN2rDd",
        "colab_type": "text"
      },
      "source": [
        "D. All incorrectly classified points are support vectors."
      ]
    },
    {
      "cell_type": "markdown",
      "metadata": {
        "id": "RDoWVKQr2_2s",
        "colab_type": "text"
      },
      "source": [
        "## Effect of removing examples"
      ]
    },
    {
      "cell_type": "code",
      "metadata": {
        "id": "qt1oDwgN3Bwf",
        "colab_type": "code",
        "colab": {}
      },
      "source": [
        "# Train a linear SVM\n",
        "svm = SVC(kernel=\"linear\")\n",
        "svm.fit(X, y)\n",
        "plot_classifier(X, y, svm, lims=(11,15,0,6))\n",
        "\n",
        "# Make a new data set keeping only the support vectors\n",
        "print(\"Number of original examples\", len(X))\n",
        "print(\"Number of support vectors\", len(svm.support_))\n",
        "X_small = X[svm.support_]\n",
        "y_small = y[svm.support_]\n",
        "\n",
        "# Train a new SVM using only the support vectors\n",
        "svm_small = SVC(kernel=\"linear\")\n",
        "svm_small.fit(X_small, y_small)\n",
        "plot_classifier(X_small, y_small, svm_small, lims=(11,15,0,6))"
      ],
      "execution_count": 0,
      "outputs": []
    },
    {
      "cell_type": "markdown",
      "metadata": {
        "id": "1dfSRool4r42",
        "colab_type": "text"
      },
      "source": [
        "## GridSearchCV warm-up"
      ]
    },
    {
      "cell_type": "code",
      "metadata": {
        "id": "SenxUNQy4sQk",
        "colab_type": "code",
        "colab": {}
      },
      "source": [
        "# Instantiate an RBF SVM\n",
        "svm = SVC()\n",
        "\n",
        "# Instantiate the GridSearchCV object and run the search\n",
        "parameters = {'gamma':[0.00001, 0.0001, 0.001, 0.01, 0.1]}\n",
        "searcher = GridSearchCV(svm, param_grid=parameters)\n",
        "searcher.fit(X, y)\n",
        "\n",
        "# Report the best parameters\n",
        "print(\"Best CV params\", searcher.best_params_)"
      ],
      "execution_count": 0,
      "outputs": []
    },
    {
      "cell_type": "markdown",
      "metadata": {
        "id": "-jqvyigf5BNR",
        "colab_type": "text"
      },
      "source": [
        "## Jointly tuning gamma and C with GridSearchCV"
      ]
    },
    {
      "cell_type": "code",
      "metadata": {
        "id": "hOc3Inq65BjT",
        "colab_type": "code",
        "colab": {}
      },
      "source": [
        "# Instantiate an RBF SVM\n",
        "svm = SVC()\n",
        "\n",
        "# Instantiate the GridSearchCV object and run the search\n",
        "parameters = {'C':[0.1, 1, 10], 'gamma':[0.00001, 0.0001, 0.001, 0.01, 0.1]}\n",
        "searcher = GridSearchCV(svm, param_grid=parameters)\n",
        "searcher.fit(X_train , y_train)\n",
        "\n",
        "# Report the best parameters and the corresponding score\n",
        "print(\"Best CV params\", searcher.best_params_)\n",
        "print(\"Best CV accuracy\", searcher.best_score_)\n",
        "\n",
        "# Report the test accuracy using these best parameters\n",
        "print(\"Test accuracy of best grid search hypers:\", searcher.score(X_test, y_test))"
      ],
      "execution_count": 0,
      "outputs": []
    },
    {
      "cell_type": "markdown",
      "metadata": {
        "id": "FwZGhHzY6EfT",
        "colab_type": "text"
      },
      "source": [
        "## An advantage of SVMs"
      ]
    },
    {
      "cell_type": "markdown",
      "metadata": {
        "id": "jyX8MbCv6E1F",
        "colab_type": "text"
      },
      "source": [
        "C. They are computationally efficient with kernels."
      ]
    },
    {
      "cell_type": "markdown",
      "metadata": {
        "id": "0Dme9xSV6MEV",
        "colab_type": "text"
      },
      "source": [
        "## An advantage of logistic regression"
      ]
    },
    {
      "cell_type": "markdown",
      "metadata": {
        "id": "-UW2CNw-6OiR",
        "colab_type": "text"
      },
      "source": [
        "A. \n",
        "It naturally outputs meaningful probabilities."
      ]
    },
    {
      "cell_type": "markdown",
      "metadata": {
        "id": "34s3OPIa6SI9",
        "colab_type": "text"
      },
      "source": [
        "## Using SGDClassifier"
      ]
    },
    {
      "cell_type": "code",
      "metadata": {
        "id": "mL4HDeHb6Tu1",
        "colab_type": "code",
        "colab": {}
      },
      "source": [
        "# We set random_state=0 for reproducibility \n",
        "linear_classifier = SGDClassifier(random_state=0)\n",
        "\n",
        "# Instantiate the GridSearchCV object and run the search\n",
        "parameters = {'alpha':[0.00001, 0.0001, 0.001, 0.01, 0.1, 1], \n",
        "             'loss':['hinge', 'log'], 'penalty':['l1', 'l2']}\n",
        "searcher = GridSearchCV(linear_classifier, parameters, cv=10)\n",
        "searcher.fit(X_train, y_train)\n",
        "\n",
        "# Report the best parameters and the corresponding score\n",
        "print(\"Best CV params\", searcher.best_params_)\n",
        "print(\"Best CV accuracy\", searcher.best_score_)\n",
        "print(\"Test accuracy of best grid search hypers:\", searcher.score(X_test, y_test))"
      ],
      "execution_count": 0,
      "outputs": []
    }
  ]
}