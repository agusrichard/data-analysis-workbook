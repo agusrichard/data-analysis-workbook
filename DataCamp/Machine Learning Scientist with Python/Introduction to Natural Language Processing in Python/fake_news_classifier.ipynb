{
  "nbformat": 4,
  "nbformat_minor": 0,
  "metadata": {
    "colab": {
      "name": "fake_news_classifier.ipynb",
      "provenance": []
    },
    "kernelspec": {
      "name": "python3",
      "display_name": "Python 3"
    }
  },
  "cells": [
    {
      "cell_type": "markdown",
      "metadata": {
        "id": "Ox_abFKKrB3c",
        "colab_type": "text"
      },
      "source": [
        "# Building a \"fake news\" classifier"
      ]
    },
    {
      "cell_type": "markdown",
      "metadata": {
        "id": "2OqXXjvgrDEq",
        "colab_type": "text"
      },
      "source": [
        "## Which possible features?"
      ]
    },
    {
      "cell_type": "markdown",
      "metadata": {
        "id": "tXzCL4xHr01U",
        "colab_type": "text"
      },
      "source": [
        "D. All of the above."
      ]
    },
    {
      "cell_type": "markdown",
      "metadata": {
        "id": "SZO5-5RFsAk-",
        "colab_type": "text"
      },
      "source": [
        "## Training and testing"
      ]
    },
    {
      "cell_type": "markdown",
      "metadata": {
        "id": "vpL_LJ7ssCJ9",
        "colab_type": "text"
      },
      "source": [
        "C. Both training and testing data."
      ]
    },
    {
      "cell_type": "markdown",
      "metadata": {
        "id": "wKT8SkeTsF8O",
        "colab_type": "text"
      },
      "source": [
        "## CountVectorizer for text classification"
      ]
    },
    {
      "cell_type": "code",
      "metadata": {
        "id": "SDuBND95s1B3",
        "colab_type": "code",
        "colab": {}
      },
      "source": [
        "# Import the necessary modules\n",
        "from sklearn.feature_extraction.text import CountVectorizer\n",
        "from sklearn.model_selection import train_test_split\n",
        "\n",
        "# Print the head of df\n",
        "print(df.head())\n",
        "\n",
        "# Create a series to store the labels: y\n",
        "y = df['label']\n",
        "\n",
        "# Create training and test sets\n",
        "X_train, X_test, y_train, y_test = train_test_split(df['text'], y, test_size=0.33, random_state=53)\n",
        "\n",
        "# Initialize a CountVectorizer object: count_vectorizer\n",
        "count_vectorizer = CountVectorizer(stop_words='english')\n",
        "\n",
        "# Transform the training data using only the 'text' column values: count_train \n",
        "count_train = count_vectorizer.fit_transform(X_train)\n",
        "\n",
        "# Transform the test data using only the 'text' column values: count_test \n",
        "count_test = count_vectorizer.transform(X_test)\n",
        "\n",
        "# Print the first 10 features of the count_vectorizer\n",
        "print(count_vectorizer.get_feature_names()[:10])"
      ],
      "execution_count": null,
      "outputs": []
    },
    {
      "cell_type": "markdown",
      "metadata": {
        "id": "vsU-Ck2jtcN6",
        "colab_type": "text"
      },
      "source": [
        "## TfidfVectorizer for text classification"
      ]
    },
    {
      "cell_type": "code",
      "metadata": {
        "id": "BnQaMa8ztckx",
        "colab_type": "code",
        "colab": {}
      },
      "source": [
        "# Import TfidfVectorizer\n",
        "from sklearn.feature_extraction.text import TfidfVectorizer\n",
        "\n",
        "# Initialize a TfidfVectorizer object: tfidf_vectorizer\n",
        "tfidf_vectorizer = TfidfVectorizer(stop_words='english', max_df=0.7)\n",
        "\n",
        "# Transform the training data: tfidf_train \n",
        "tfidf_train = tfidf_vectorizer.fit_transform(X_train)\n",
        "\n",
        "# Transform the test data: tfidf_test \n",
        "tfidf_test = tfidf_vectorizer.transform(X_test)\n",
        "\n",
        "# Print the first 10 features\n",
        "print(tfidf_vectorizer.get_feature_names()[:10])\n",
        "\n",
        "# Print the first 5 vectors of the tfidf training data\n",
        "print(tfidf_train.A[:5])\n"
      ],
      "execution_count": null,
      "outputs": []
    },
    {
      "cell_type": "markdown",
      "metadata": {
        "id": "yYTX9YrHt7PO",
        "colab_type": "text"
      },
      "source": [
        "## Inspecting the vectors"
      ]
    },
    {
      "cell_type": "code",
      "metadata": {
        "id": "3YLJwTPpt7mj",
        "colab_type": "code",
        "colab": {}
      },
      "source": [
        "# Create the CountVectorizer DataFrame: count_df\n",
        "count_df = pd.DataFrame(count_train.A, columns=count_vectorizer.get_feature_names())\n",
        "\n",
        "# Create the TfidfVectorizer DataFrame: tfidf_df\n",
        "tfidf_df = pd.DataFrame(tfidf_train.A, columns=tfidf_vectorizer.get_feature_names())\n",
        "\n",
        "# Print the head of count_df\n",
        "print(count_df.head())\n",
        "\n",
        "# Print the head of tfidf_df\n",
        "print(tfidf_df.head())\n",
        "\n",
        "# Calculate the difference in columns: difference\n",
        "difference = set(count_df.columns) - set(tfidf_df.columns)\n",
        "print(difference)\n",
        "\n",
        "# Check whether the DataFrames are equal\n",
        "print(count_df.equals(tfidf_df))\n"
      ],
      "execution_count": null,
      "outputs": []
    },
    {
      "cell_type": "markdown",
      "metadata": {
        "id": "-XiNk9G0vkoW",
        "colab_type": "text"
      },
      "source": [
        "## Text classification models"
      ]
    },
    {
      "cell_type": "markdown",
      "metadata": {
        "id": "DS-7ND4lvlER",
        "colab_type": "text"
      },
      "source": [
        "B. Naive Bayes\n"
      ]
    },
    {
      "cell_type": "markdown",
      "metadata": {
        "id": "tCkqNi1FvpJl",
        "colab_type": "text"
      },
      "source": [
        "## Training and testing the \"fake news\" model with CountVectorizer"
      ]
    },
    {
      "cell_type": "code",
      "metadata": {
        "id": "CkS1nCVvvq54",
        "colab_type": "code",
        "colab": {}
      },
      "source": [
        "# Import the necessary modules\n",
        "from sklearn.naive_bayes import MultinomialNB\n",
        "from sklearn import metrics\n",
        "\n",
        "# Instantiate a Multinomial Naive Bayes classifier: nb_classifier\n",
        "nb_classifier = MultinomialNB()\n",
        "\n",
        "# Fit the classifier to the training data\n",
        "nb_classifier.fit(count_train, y_train)\n",
        "\n",
        "# Create the predicted tags: pred\n",
        "pred = nb_classifier.predict(count_test)\n",
        "\n",
        "# Calculate the accuracy score: score\n",
        "score = metrics.accuracy_score(y_test, pred)\n",
        "print(score)\n",
        "\n",
        "# Calculate the confusion matrix: cm\n",
        "cm = metrics.confusion_matrix(y_test, pred, labels=['FAKE', 'REAL'])\n",
        "print(cm)\n"
      ],
      "execution_count": null,
      "outputs": []
    },
    {
      "cell_type": "markdown",
      "metadata": {
        "id": "5MpOISQOwMg6",
        "colab_type": "text"
      },
      "source": [
        "## Training and testing the \"fake news\" model with TfidfVectorizer"
      ]
    },
    {
      "cell_type": "code",
      "metadata": {
        "id": "GtpWJjpzwM7f",
        "colab_type": "code",
        "colab": {}
      },
      "source": [
        "# Create a Multinomial Naive Bayes classifier: nb_classifier\n",
        "nb_classifier = MultinomialNB()\n",
        "\n",
        "# Fit the classifier to the training data\n",
        "nb_classifier.fit(tfidf_train, y_train)\n",
        "\n",
        "# Create the predicted tags: pred\n",
        "pred = nb_classifier.predict(tfidf_test)\n",
        "\n",
        "# Calculate the accuracy score: score\n",
        "score = metrics.accuracy_score(y_test, pred)\n",
        "print(score)\n",
        "\n",
        "# Calculate the confusion matrix: cm\n",
        "cm = metrics.confusion_matrix(y_test, pred, labels=['FAKE', 'REAL'])\n",
        "print(cm)\n"
      ],
      "execution_count": null,
      "outputs": []
    },
    {
      "cell_type": "markdown",
      "metadata": {
        "id": "tSzM9hifxRgY",
        "colab_type": "text"
      },
      "source": [
        "## Improving the model"
      ]
    },
    {
      "cell_type": "markdown",
      "metadata": {
        "id": "7vjZGDV6xSJ6",
        "colab_type": "text"
      },
      "source": [
        "E. All of the above."
      ]
    },
    {
      "cell_type": "markdown",
      "metadata": {
        "id": "Wq4WJMhPxViJ",
        "colab_type": "text"
      },
      "source": [
        "## Improving your model"
      ]
    },
    {
      "cell_type": "code",
      "metadata": {
        "id": "ERgHktVJxXdC",
        "colab_type": "code",
        "colab": {}
      },
      "source": [
        "# Create the list of alphas: alphas\n",
        "alphas = np.arange(0, 1, 0.1)\n",
        "\n",
        "# Define train_and_predict()\n",
        "def train_and_predict(alpha):\n",
        "    # Instantiate the classifier: nb_classifier\n",
        "    nb_classifier = MultinomialNB(alpha=alpha)\n",
        "    # Fit to the training data\n",
        "    nb_classifier.fit(tfidf_train, y_train)\n",
        "    # Predict the labels: pred\n",
        "    pred = nb_classifier.predict(tfidf_test)\n",
        "    # Compute accuracy: score\n",
        "    score = metrics.accuracy_score(y_test, pred)\n",
        "    return score\n",
        "\n",
        "# Iterate over the alphas and print the corresponding score\n",
        "for alpha in alphas:\n",
        "    print('Alpha: ', alpha)\n",
        "    print('Score: ', train_and_predict(alpha))\n",
        "    print()\n"
      ],
      "execution_count": null,
      "outputs": []
    },
    {
      "cell_type": "markdown",
      "metadata": {
        "id": "CODqzOcqx4iY",
        "colab_type": "text"
      },
      "source": [
        "## Inspecting your model"
      ]
    },
    {
      "cell_type": "code",
      "metadata": {
        "id": "JO8fiim-x45g",
        "colab_type": "code",
        "colab": {}
      },
      "source": [
        "# Get the class labels: class_labels\n",
        "class_labels = nb_classifier.classes_\n",
        "\n",
        "# Extract the features: feature_names\n",
        "feature_names = tfidf_vectorizer.get_feature_names()\n",
        "\n",
        "# Zip the feature names together with the coefficient array and sort by weights: feat_with_weights\n",
        "feat_with_weights = sorted(zip(nb_classifier.coef_[0], feature_names))\n",
        "\n",
        "# Print the first class label and the top 20 feat_with_weights entries\n",
        "print(class_labels[0], feat_with_weights[:20])\n",
        "\n",
        "# Print the second class label and the bottom 20 feat_with_weights entries\n",
        "print(class_labels[1], feat_with_weights[-20:])\n"
      ],
      "execution_count": null,
      "outputs": []
    }
  ]
}