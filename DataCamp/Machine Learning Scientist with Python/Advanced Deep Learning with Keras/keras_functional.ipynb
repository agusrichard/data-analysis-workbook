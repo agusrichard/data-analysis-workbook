{
  "nbformat": 4,
  "nbformat_minor": 0,
  "metadata": {
    "colab": {
      "name": "keras_functional.ipynb",
      "provenance": []
    },
    "kernelspec": {
      "name": "python3",
      "display_name": "Python 3"
    }
  },
  "cells": [
    {
      "cell_type": "markdown",
      "metadata": {
        "id": "4ON_PdMWCH3z",
        "colab_type": "text"
      },
      "source": [
        "# The Keras Functional API\n"
      ]
    },
    {
      "cell_type": "markdown",
      "metadata": {
        "id": "tOazKn65CMLI",
        "colab_type": "text"
      },
      "source": [
        "## Input layers"
      ]
    },
    {
      "cell_type": "code",
      "metadata": {
        "id": "FLFPv9cgDaqd",
        "colab_type": "code",
        "colab": {}
      },
      "source": [
        "# Import Input from keras.layers\n",
        "from keras.layers import Input\n",
        "\n",
        "# Create an input layer of shape 1\n",
        "input_tensor = Input(shape=(1,))"
      ],
      "execution_count": null,
      "outputs": []
    },
    {
      "cell_type": "markdown",
      "metadata": {
        "id": "welKr-y-D3t8",
        "colab_type": "text"
      },
      "source": [
        "## Dense layers"
      ]
    },
    {
      "cell_type": "code",
      "metadata": {
        "id": "hueKIfiJD4LJ",
        "colab_type": "code",
        "colab": {}
      },
      "source": [
        "# Load layers\n",
        "from keras.layers import Input, Dense\n",
        "\n",
        "# Input layer (from previous exercise)\n",
        "input_tensor = Input(shape=(1,))\n",
        "\n",
        "# Create a dense layer\n",
        "output_layer = Dense(1)\n",
        "\n",
        "# Connect the dense layer to the input_tensor\n",
        "output_tensor = output_layer(input_tensor)"
      ],
      "execution_count": null,
      "outputs": []
    },
    {
      "cell_type": "markdown",
      "metadata": {
        "id": "5rHe_gG0EkeU",
        "colab_type": "text"
      },
      "source": [
        "## Output layers"
      ]
    },
    {
      "cell_type": "code",
      "metadata": {
        "id": "2_ALcQmuEk4f",
        "colab_type": "code",
        "colab": {}
      },
      "source": [
        "# Load layers\n",
        "from keras.layers import Input, Dense\n",
        "\n",
        "# Input layer\n",
        "input_tensor = Input(shape=(1,))\n",
        "\n",
        "# Create a dense layer and connect the dense layer to the input_tensor in one step\n",
        "# Note that we did this in 2 steps in the previous exercise, but are doing it in one step now\n",
        "output_tensor = Dense(1)(input_tensor)"
      ],
      "execution_count": null,
      "outputs": []
    },
    {
      "cell_type": "markdown",
      "metadata": {
        "id": "XkkvoU8PFzex",
        "colab_type": "text"
      },
      "source": [
        "## Build a model"
      ]
    },
    {
      "cell_type": "code",
      "metadata": {
        "id": "-qrU-mTTFz4d",
        "colab_type": "code",
        "colab": {}
      },
      "source": [
        "# Input/dense/output layers\n",
        "from keras.layers import Input, Dense\n",
        "input_tensor = Input(shape=(1,))\n",
        "output_tensor = Dense(1)(input_tensor)\n",
        "\n",
        "# Build the model\n",
        "from keras.models import Model\n",
        "model = Model(input_tensor, output_tensor)"
      ],
      "execution_count": null,
      "outputs": []
    },
    {
      "cell_type": "markdown",
      "metadata": {
        "id": "0IwraT5pF-cK",
        "colab_type": "text"
      },
      "source": [
        "## Compile a model"
      ]
    },
    {
      "cell_type": "code",
      "metadata": {
        "id": "FgD8_gkHF-1F",
        "colab_type": "code",
        "colab": {}
      },
      "source": [
        "# Compile the model\n",
        "model.compile(optimizer='adam', loss='mean_absolute_error')"
      ],
      "execution_count": null,
      "outputs": []
    },
    {
      "cell_type": "markdown",
      "metadata": {
        "id": "AcyL1rgpGPRC",
        "colab_type": "text"
      },
      "source": [
        "## Visualize a model"
      ]
    },
    {
      "cell_type": "code",
      "metadata": {
        "id": "nNGhjqWLGPpP",
        "colab_type": "code",
        "colab": {}
      },
      "source": [
        "# Import the plotting function\n",
        "from keras.utils import plot_model\n",
        "import matplotlib.pyplot as plt\n",
        "\n",
        "# Summarize the model\n",
        "model.summary()\n",
        "\n",
        "# Plot the model\n",
        "plot_model(model, to_file='model.png')\n",
        "\n",
        "# Display the image\n",
        "data = plt.imread('model.png')\n",
        "plt.imshow(data)\n",
        "plt.show()"
      ],
      "execution_count": null,
      "outputs": []
    },
    {
      "cell_type": "markdown",
      "metadata": {
        "id": "R6liDdYtHoX8",
        "colab_type": "text"
      },
      "source": [
        "## Fit the model to the tournament basketball data"
      ]
    },
    {
      "cell_type": "code",
      "metadata": {
        "id": "Dr1stj1ZHo8f",
        "colab_type": "code",
        "colab": {}
      },
      "source": [
        "# Now fit the model\n",
        "model.fit(games_tourney_train['seed_diff'], games_tourney_train['score_diff'],\n",
        "          epochs=1,\n",
        "          batch_size=128,\n",
        "          validation_split=0.1,\n",
        "          verbose=True)"
      ],
      "execution_count": null,
      "outputs": []
    },
    {
      "cell_type": "markdown",
      "metadata": {
        "id": "P3xDx54AH-uS",
        "colab_type": "text"
      },
      "source": [
        "## Evaluate the model on a test set"
      ]
    },
    {
      "cell_type": "code",
      "metadata": {
        "id": "YZec-FIGH_HA",
        "colab_type": "code",
        "colab": {}
      },
      "source": [
        "# Load the X variable from the test data\n",
        "X_test = games_tourney_test['seed_diff']\n",
        "\n",
        "# Load the y variable from the test data\n",
        "y_test = games_tourney_test['score_diff']\n",
        "\n",
        "# Evaluate the model on the test data\n",
        "print(model.evaluate(X_test, y_test, verbose=False))"
      ],
      "execution_count": null,
      "outputs": []
    }
  ]
}