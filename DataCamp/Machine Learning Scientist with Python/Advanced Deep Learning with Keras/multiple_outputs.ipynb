{
  "nbformat": 4,
  "nbformat_minor": 0,
  "metadata": {
    "colab": {
      "name": "multiple_outputs.ipynb",
      "provenance": [],
      "collapsed_sections": []
    },
    "kernelspec": {
      "name": "python3",
      "display_name": "Python 3"
    }
  },
  "cells": [
    {
      "cell_type": "markdown",
      "metadata": {
        "id": "1dm88U9RsSUQ",
        "colab_type": "text"
      },
      "source": [
        "# Multiple Outputs"
      ]
    },
    {
      "cell_type": "markdown",
      "metadata": {
        "id": "3hZucCPTsdhl",
        "colab_type": "text"
      },
      "source": [
        "## Simple two-output model"
      ]
    },
    {
      "cell_type": "code",
      "metadata": {
        "id": "_vsCg5jHtKrW",
        "colab_type": "code",
        "colab": {}
      },
      "source": [
        "# Define the input\n",
        "input_tensor = Input(shape=(2,))\n",
        "\n",
        "# Define the output\n",
        "output_tensor = Dense(2)(input_tensor)\n",
        "\n",
        "# Create a model\n",
        "model = Model(input_tensor, output_tensor)\n",
        "\n",
        "# Compile the model\n",
        "model.compile(optimizer='adam', loss='mean_absolute_error')"
      ],
      "execution_count": null,
      "outputs": []
    },
    {
      "cell_type": "markdown",
      "metadata": {
        "id": "QKZ2eYywth1l",
        "colab_type": "text"
      },
      "source": [
        "## Fit a model with two outputs"
      ]
    },
    {
      "cell_type": "code",
      "metadata": {
        "id": "ruWzRaXHtiNz",
        "colab_type": "code",
        "colab": {}
      },
      "source": [
        "# Fit the model\n",
        "model.fit(games_tourney_train[['seed_diff', 'pred']],\n",
        "  \t\t  games_tourney_train[['score_1', 'score_2']],\n",
        "  \t\t  verbose=True,\n",
        "  \t\t  epochs=100,\n",
        "  \t\t  batch_size=16384)"
      ],
      "execution_count": null,
      "outputs": []
    },
    {
      "cell_type": "code",
      "metadata": {
        "id": "K-7WbE_DuEN1",
        "colab_type": "code",
        "colab": {}
      },
      "source": [
        "# Print the model's weights\n",
        "print(model.get_weights())\n",
        "\n",
        "# Print the column means of the training data\n",
        "print(games_tourney_train.mean())"
      ],
      "execution_count": null,
      "outputs": []
    },
    {
      "cell_type": "markdown",
      "metadata": {
        "id": "ytiAxZ4yuIMD",
        "colab_type": "text"
      },
      "source": [
        "## Evaluate the model"
      ]
    },
    {
      "cell_type": "code",
      "metadata": {
        "id": "0TsbGmdhuIsy",
        "colab_type": "code",
        "colab": {}
      },
      "source": [
        "# Evaluate the model on the tournament test data\n",
        "print(model.evaluate(games_tourney_test[['seed_diff', 'pred']], games_tourney_test[['score_1', 'score_2']], verbose=False))"
      ],
      "execution_count": null,
      "outputs": []
    },
    {
      "cell_type": "markdown",
      "metadata": {
        "id": "anzgO-Ncvpz1",
        "colab_type": "text"
      },
      "source": [
        "## Classification and regression in one model"
      ]
    },
    {
      "cell_type": "code",
      "metadata": {
        "id": "-wh6MP8GvqNS",
        "colab_type": "code",
        "colab": {}
      },
      "source": [
        "# Create an input layer with 2 columns\n",
        "input_tensor = Input(shape=(2,))\n",
        "\n",
        "# Create the first output\n",
        "output_tensor_1 = Dense(1, activation='linear', use_bias=False)(input_tensor)\n",
        "\n",
        "# Create the second output (use the first output as input here)\n",
        "output_tensor_2 = Dense(1, activation='sigmoid', use_bias=False)(output_tensor_1)\n",
        "\n",
        "# Create a model with 2 outputs\n",
        "model = Model(input_tensor, [output_tensor_1, output_tensor_2])"
      ],
      "execution_count": null,
      "outputs": []
    },
    {
      "cell_type": "markdown",
      "metadata": {
        "id": "N62iW_jZwDkO",
        "colab_type": "text"
      },
      "source": [
        "## Compile and fit the model"
      ]
    },
    {
      "cell_type": "code",
      "metadata": {
        "id": "gaWVts5nwD_j",
        "colab_type": "code",
        "colab": {}
      },
      "source": [
        "# Import the Adam optimizer\n",
        "from keras.optimizers import Adam\n",
        "\n",
        "# Compile the model with 2 losses and the Adam optimzer with a higher learning rate\n",
        "model.compile(loss=['mean_absolute_error', 'binary_crossentropy'], optimizer=Adam(lr=0.01))\n",
        "\n",
        "# Fit the model to the tournament training data, with 2 inputs and 2 outputs\n",
        "model.fit(games_tourney_train[['seed_diff', 'pred']],\n",
        "          [games_tourney_train[['score_diff']], games_tourney_train[['won']]],\n",
        "          epochs=10,\n",
        "          verbose=True,\n",
        "          batch_size=16384)"
      ],
      "execution_count": null,
      "outputs": []
    },
    {
      "cell_type": "markdown",
      "metadata": {
        "id": "ZrBUE519wlLF",
        "colab_type": "text"
      },
      "source": [
        "## Inspect the model (II)"
      ]
    },
    {
      "cell_type": "code",
      "metadata": {
        "id": "Obwz8P6xwlkg",
        "colab_type": "code",
        "colab": {}
      },
      "source": [
        "# Print the model weights\n",
        "print(model.get_weights())\n",
        "\n",
        "# Print the training data means\n",
        "print(games_tourney_train.mean())"
      ],
      "execution_count": null,
      "outputs": []
    },
    {
      "cell_type": "code",
      "metadata": {
        "id": "g5Mbitk8w3AO",
        "colab_type": "code",
        "colab": {}
      },
      "source": [
        "# Import the sigmoid function from scipy\n",
        "from scipy.special import expit as sigmoid\n",
        "\n",
        "# Weight from the model\n",
        "weight = 0.14\n",
        "\n",
        "# Print the approximate win probability predicted close game\n",
        "print(sigmoid(1 * weight))\n",
        "\n",
        "# Print the approximate win probability predicted blowout game\n",
        "print(sigmoid(10 * weight))"
      ],
      "execution_count": null,
      "outputs": []
    },
    {
      "cell_type": "markdown",
      "metadata": {
        "id": "BlCm3AF0w9OG",
        "colab_type": "text"
      },
      "source": [
        "## Evaluate on new data with two metrics"
      ]
    },
    {
      "cell_type": "code",
      "metadata": {
        "id": "_w9yXE7_w9sd",
        "colab_type": "code",
        "colab": {}
      },
      "source": [
        "# Evaluate the model on new data\n",
        "print(model.evaluate(games_tourney_test[['seed_diff', 'pred']],\n",
        "               [games_tourney_test[['score_diff']], games_tourney_test[['won']]], verbose=False))"
      ],
      "execution_count": null,
      "outputs": []
    }
  ]
}