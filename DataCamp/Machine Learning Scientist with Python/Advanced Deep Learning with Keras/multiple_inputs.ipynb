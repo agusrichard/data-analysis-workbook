{
  "nbformat": 4,
  "nbformat_minor": 0,
  "metadata": {
    "colab": {
      "name": "multiple_inputs.ipynb",
      "provenance": []
    },
    "kernelspec": {
      "name": "python3",
      "display_name": "Python 3"
    }
  },
  "cells": [
    {
      "cell_type": "markdown",
      "metadata": {
        "id": "4aBttvhKm_P9",
        "colab_type": "text"
      },
      "source": [
        "# Multiple Inputs: 3 Inputs (and Beyond!)"
      ]
    },
    {
      "cell_type": "markdown",
      "metadata": {
        "id": "zKix7TpsfI58",
        "colab_type": "text"
      },
      "source": [
        "## Make an input layer for home vs. away"
      ]
    },
    {
      "cell_type": "code",
      "metadata": {
        "id": "XgqDdcmgm7YF",
        "colab_type": "code",
        "colab": {}
      },
      "source": [
        "# Create an Input for each team\n",
        "team_in_1 = Input(shape=(1,), name='Team-1-In')\n",
        "team_in_2 = Input(shape=(1,), name='Team-2-In')\n",
        "\n",
        "# Create an input for home vs away\n",
        "home_in = Input(shape=(1,), name='Home-In')\n",
        "\n",
        "# Lookup the team inputs in the team strength model\n",
        "team_1_strength = team_strength_model(team_in_1)\n",
        "team_2_strength = team_strength_model(team_in_2)\n",
        "\n",
        "# Combine the team strengths with the home input using a Concatenate layer, then add a Dense layer\n",
        "out = Concatenate()([team_1_strength, team_2_strength, home_in])\n",
        "out = Dense(1)(out)"
      ],
      "execution_count": null,
      "outputs": []
    },
    {
      "cell_type": "markdown",
      "metadata": {
        "id": "rnIrnvKunhrq",
        "colab_type": "text"
      },
      "source": [
        "## Make a model and compile it"
      ]
    },
    {
      "cell_type": "code",
      "metadata": {
        "id": "T2jV6Hq6niEI",
        "colab_type": "code",
        "colab": {}
      },
      "source": [
        "# Import the model class\n",
        "from keras.models import Model\n",
        "\n",
        "# Make a Model\n",
        "model = Model([team_in_1, team_in_2, home_in], out)\n",
        "\n",
        "# Compile the model\n",
        "model.compile(optimizer='adam', loss='mean_absolute_error')"
      ],
      "execution_count": null,
      "outputs": []
    },
    {
      "cell_type": "markdown",
      "metadata": {
        "id": "zT90FcWxn2dA",
        "colab_type": "text"
      },
      "source": [
        "## Fit the model and evaluate"
      ]
    },
    {
      "cell_type": "code",
      "metadata": {
        "id": "DfrQZhJFn21d",
        "colab_type": "code",
        "colab": {}
      },
      "source": [
        "# Fit the model to the games_season dataset\n",
        "model.fit([games_season['team_1'], games_season['team_2'], games_season['home']],\n",
        "          games_season['score_diff'],\n",
        "          epochs=1,\n",
        "          verbose=True,\n",
        "          validation_split=.10,\n",
        "          batch_size=2048)\n",
        "\n",
        "# Evaluate the model on the games_tourney dataset\n",
        "print(model.evaluate([games_tourney['team_1'], games_tourney['team_2'], games_tourney['home']],\n",
        "               games_tourney['score_diff'], verbose=False))"
      ],
      "execution_count": null,
      "outputs": []
    },
    {
      "cell_type": "markdown",
      "metadata": {
        "id": "m4mX2H_DpeMi",
        "colab_type": "text"
      },
      "source": [
        "## Model summaries"
      ]
    },
    {
      "cell_type": "markdown",
      "metadata": {
        "id": "LwmYbv3zpeq6",
        "colab_type": "text"
      },
      "source": [
        "D. 10,892"
      ]
    },
    {
      "cell_type": "markdown",
      "metadata": {
        "id": "DY_QA8DkpqGT",
        "colab_type": "text"
      },
      "source": [
        "D. 10,892"
      ]
    },
    {
      "cell_type": "markdown",
      "metadata": {
        "id": "GAcqlgsmpsdF",
        "colab_type": "text"
      },
      "source": [
        "C. Team-Strength (Model)"
      ]
    },
    {
      "cell_type": "markdown",
      "metadata": {
        "id": "D69saZzGpxLx",
        "colab_type": "text"
      },
      "source": [
        "## Plotting models"
      ]
    },
    {
      "cell_type": "code",
      "metadata": {
        "id": "5aOCjoK3pzXi",
        "colab_type": "code",
        "colab": {}
      },
      "source": [
        "# Imports\n",
        "import matplotlib.pyplot as plt\n",
        "from keras.utils import plot_model\n",
        "\n",
        "# Plot the model\n",
        "plot_model(model, to_file='model.png')\n",
        "\n",
        "# Display the image\n",
        "data = plt.imread('model.png')\n",
        "plt.imshow(data)\n",
        "plt.show()"
      ],
      "execution_count": null,
      "outputs": []
    },
    {
      "cell_type": "markdown",
      "metadata": {
        "id": "LyRMXpMpp-86",
        "colab_type": "text"
      },
      "source": [
        "C. 3"
      ]
    },
    {
      "cell_type": "markdown",
      "metadata": {
        "id": "epBYyYIyp_qf",
        "colab_type": "text"
      },
      "source": [
        "A. 1"
      ]
    },
    {
      "cell_type": "markdown",
      "metadata": {
        "id": "0IW5POOFqCad",
        "colab_type": "text"
      },
      "source": [
        "C. Team-Strength"
      ]
    },
    {
      "cell_type": "markdown",
      "metadata": {
        "id": "z0dVT9GzqFZf",
        "colab_type": "text"
      },
      "source": [
        "## Add the model predictions to the tournament data"
      ]
    },
    {
      "cell_type": "code",
      "metadata": {
        "id": "oGrXyisTrEx3",
        "colab_type": "code",
        "colab": {}
      },
      "source": [
        "# Predict\n",
        "games_tourney['pred'] = model.predict([games_tourney['team_1'], games_tourney['team_2'], games_tourney['home']])"
      ],
      "execution_count": null,
      "outputs": []
    },
    {
      "cell_type": "markdown",
      "metadata": {
        "id": "YwbGK2XbrVC6",
        "colab_type": "text"
      },
      "source": [
        "## Create an input layer with multiple columns"
      ]
    },
    {
      "cell_type": "code",
      "metadata": {
        "id": "WQnKug7TrVdE",
        "colab_type": "code",
        "colab": {}
      },
      "source": [
        "# Create an input layer with 3 columns\n",
        "input_tensor = Input((3,))\n",
        "\n",
        "# Pass it to a Dense layer with 1 unit\n",
        "output_tensor = Dense(1)(input_tensor)\n",
        "\n",
        "# Create a model\n",
        "model = Model(input_tensor, output_tensor)\n",
        "\n",
        "# Compile the model\n",
        "model.compile(optimizer='adam', loss='mean_absolute_error')"
      ],
      "execution_count": null,
      "outputs": []
    },
    {
      "cell_type": "markdown",
      "metadata": {
        "id": "6vLVqxzWrqyI",
        "colab_type": "text"
      },
      "source": [
        "## Fit the model"
      ]
    },
    {
      "cell_type": "code",
      "metadata": {
        "id": "Hcgqo8b_rrMj",
        "colab_type": "code",
        "colab": {}
      },
      "source": [
        "# Fit the model\n",
        "model.fit(games_tourney_train[['home', 'seed_diff', 'pred']],\n",
        "          games_tourney_train['score_diff'],\n",
        "          epochs=1,\n",
        "          verbose=True)"
      ],
      "execution_count": null,
      "outputs": []
    },
    {
      "cell_type": "markdown",
      "metadata": {
        "id": "oDLry8Kvr-MA",
        "colab_type": "text"
      },
      "source": [
        "## Evaluate the model"
      ]
    },
    {
      "cell_type": "code",
      "metadata": {
        "id": "YYz3-nMwr-q5",
        "colab_type": "code",
        "colab": {}
      },
      "source": [
        "# Evaluate the model on the games_tourney_test dataset\n",
        "print(model.evaluate(games_tourney_test[['home', 'seed_diff', 'prediction']],\n",
        "               games_tourney_test['score_diff'], verbose=False))"
      ],
      "execution_count": null,
      "outputs": []
    }
  ]
}