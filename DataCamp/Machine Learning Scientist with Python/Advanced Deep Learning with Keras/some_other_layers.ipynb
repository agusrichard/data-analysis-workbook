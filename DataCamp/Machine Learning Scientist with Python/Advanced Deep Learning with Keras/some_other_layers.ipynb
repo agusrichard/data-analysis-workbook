{
  "nbformat": 4,
  "nbformat_minor": 0,
  "metadata": {
    "colab": {
      "name": "some_other_layers.ipynb",
      "provenance": []
    },
    "kernelspec": {
      "name": "python3",
      "display_name": "Python 3"
    }
  },
  "cells": [
    {
      "cell_type": "markdown",
      "metadata": {
        "id": "LEM8nbTPJu8O",
        "colab_type": "text"
      },
      "source": [
        "# Two Input Networks Using Categorical Embeddings, Shared Layers, and Merge Layers"
      ]
    },
    {
      "cell_type": "markdown",
      "metadata": {
        "id": "rw2D4C76JqqC",
        "colab_type": "text"
      },
      "source": [
        "## Define team lookup"
      ]
    },
    {
      "cell_type": "code",
      "metadata": {
        "id": "mLlpaLxgJuJ5",
        "colab_type": "code",
        "colab": {}
      },
      "source": [
        "# Imports\n",
        "from keras.layers import Embedding\n",
        "from numpy import unique\n",
        "\n",
        "# Count the unique number of teams\n",
        "n_teams = unique(games_season[['team_1', 'team_2']]).shape[0]\n",
        "\n",
        "# Create an embedding layer\n",
        "team_lookup = Embedding(input_dim=n_teams,\n",
        "                        output_dim=1,\n",
        "                        input_length=1,\n",
        "                        name='Team-Strength')"
      ],
      "execution_count": null,
      "outputs": []
    },
    {
      "cell_type": "markdown",
      "metadata": {
        "id": "DY3AgHd7KkQj",
        "colab_type": "text"
      },
      "source": [
        "## Define team model"
      ]
    },
    {
      "cell_type": "code",
      "metadata": {
        "id": "kX-IkpWPKkq2",
        "colab_type": "code",
        "colab": {}
      },
      "source": [
        "# Imports\n",
        "from keras.layers import Input, Embedding, Flatten\n",
        "from keras.models import Model\n",
        "\n",
        "# Create an input layer for the team ID\n",
        "teamid_in = Input(shape=(1,))\n",
        "\n",
        "# Lookup the input in the team strength embedding layer\n",
        "strength_lookup = team_lookup(teamid_in)\n",
        "\n",
        "# Flatten the output\n",
        "strength_lookup_flat = Flatten()(strength_lookup)\n",
        "\n",
        "# Combine the operations into a single, re-usable model\n",
        "team_strength_model = Model(teamid_in, strength_lookup_flat, name='Team-Strength-Model')"
      ],
      "execution_count": null,
      "outputs": []
    },
    {
      "cell_type": "markdown",
      "metadata": {
        "id": "S9jL1wylLsbd",
        "colab_type": "text"
      },
      "source": [
        "## Defining two inputs"
      ]
    },
    {
      "cell_type": "code",
      "metadata": {
        "id": "SQHZW-uALs1K",
        "colab_type": "code",
        "colab": {}
      },
      "source": [
        "# Load the input layer from keras.layers\n",
        "from keras.layers import Input\n",
        "\n",
        "# Input layer for team 1\n",
        "team_in_1 = Input(shape=(1,), name='Team-1-In')\n",
        "\n",
        "# Separate input layer for team 2\n",
        "team_in_2 = Input(shape=(1,), name='Team-2-In')"
      ],
      "execution_count": null,
      "outputs": []
    },
    {
      "cell_type": "markdown",
      "metadata": {
        "id": "b6NZ1u7dL_of",
        "colab_type": "text"
      },
      "source": [
        "## Lookup both inputs in the same model"
      ]
    },
    {
      "cell_type": "code",
      "metadata": {
        "id": "swbs8JubMABd",
        "colab_type": "code",
        "colab": {}
      },
      "source": [
        "# Lookup team 1 in the team strength model\n",
        "team_1_strength = team_strength_model(team_in_1)\n",
        "\n",
        "# Lookup team 2 in the team strength model\n",
        "team_2_strength = team_strength_model(team_in_2)"
      ],
      "execution_count": null,
      "outputs": []
    },
    {
      "cell_type": "markdown",
      "metadata": {
        "id": "D5oi4EymdL_g",
        "colab_type": "text"
      },
      "source": [
        "## Output layer using shared layer"
      ]
    },
    {
      "cell_type": "code",
      "metadata": {
        "id": "wgMLAXdYdMbD",
        "colab_type": "code",
        "colab": {}
      },
      "source": [
        "# Import the Subtract layer from keras\n",
        "from keras.layers import Subtract\n",
        "\n",
        "# Create a subtract layer using the inputs from the previous exercise\n",
        "score_diff = Subtract()([team_1_strength, team_2_strength])"
      ],
      "execution_count": null,
      "outputs": []
    },
    {
      "cell_type": "markdown",
      "metadata": {
        "id": "eJEN5sE1dh1p",
        "colab_type": "text"
      },
      "source": [
        "## Model using two inputs and one output"
      ]
    },
    {
      "cell_type": "code",
      "metadata": {
        "id": "QTHN7L_RdiQy",
        "colab_type": "code",
        "colab": {}
      },
      "source": [
        "# Imports\n",
        "from keras.layers import Subtract\n",
        "from keras.models import Model\n",
        "\n",
        "# Subtraction layer from previous exercise\n",
        "score_diff = Subtract()([team_1_strength, team_2_strength])\n",
        "\n",
        "# Create the model\n",
        "model = Model([team_in_1, team_in_2], score_diff)\n",
        "\n",
        "# Compile the model\n",
        "model.compile(optimizer='adam', loss='mean_absolute_error')"
      ],
      "execution_count": null,
      "outputs": []
    },
    {
      "cell_type": "markdown",
      "metadata": {
        "id": "37UKNK--eXxY",
        "colab_type": "text"
      },
      "source": [
        "## Fit the model to the regular season training data"
      ]
    },
    {
      "cell_type": "code",
      "metadata": {
        "id": "VwbkHFNgeYOD",
        "colab_type": "code",
        "colab": {}
      },
      "source": [
        "# Get the team_1 column from the regular season data\n",
        "input_1 = games_season['team_1']\n",
        "\n",
        "# Get the team_2 column from the regular season data\n",
        "input_2 = games_season['team_2']\n",
        "\n",
        "# Fit the model to input 1 and 2, using score diff as a target\n",
        "model.fit([input_1, input_2],\n",
        "          games_season['score_diff'],\n",
        "          epochs=1,\n",
        "          batch_size=2048,\n",
        "          validation_split=0.1,\n",
        "          verbose=True)"
      ],
      "execution_count": null,
      "outputs": []
    },
    {
      "cell_type": "markdown",
      "metadata": {
        "id": "EM4z2HBYerVd",
        "colab_type": "text"
      },
      "source": [
        "## Evaluate the model on the tournament test data"
      ]
    },
    {
      "cell_type": "code",
      "metadata": {
        "id": "TYoHJXNHerwp",
        "colab_type": "code",
        "colab": {}
      },
      "source": [
        "# Get team_1 from the tournament data\n",
        "input_1 = games_tourney['team_1']\n",
        "\n",
        "# Get team_2 from the tournament data\n",
        "input_2 = games_tourney['team_2']\n",
        "\n",
        "# Evaluate the model using these inputs\n",
        "print(model.evaluate([input_1, input_2], games_tourney['score_diff'], verbose=False))"
      ],
      "execution_count": null,
      "outputs": []
    }
  ]
}