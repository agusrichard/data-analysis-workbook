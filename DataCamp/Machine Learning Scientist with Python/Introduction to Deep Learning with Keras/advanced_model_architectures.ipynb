{
  "nbformat": 4,
  "nbformat_minor": 0,
  "metadata": {
    "colab": {
      "name": "advanced_model_architectures.ipynb",
      "provenance": []
    },
    "kernelspec": {
      "name": "python3",
      "display_name": "Python 3"
    }
  },
  "cells": [
    {
      "cell_type": "markdown",
      "metadata": {
        "id": "ZxWG1XgcWGNC",
        "colab_type": "text"
      },
      "source": [
        "# Advanced Model Architectures\n"
      ]
    },
    {
      "cell_type": "code",
      "metadata": {
        "id": "q_vSB-hoWHnl",
        "colab_type": "code",
        "colab": {}
      },
      "source": [
        "# Import keras backend\n",
        "import keras.backend as K\n",
        "\n",
        "# Input tensor from the 1st layer of the model\n",
        "inp = model.layers[0].input\n",
        "\n",
        "# Output tensor from the 1st layer of the model\n",
        "out = model.layers[0].output\n",
        "\n",
        "# Define a function from inputs to outputs\n",
        "inp_to_out = K.function([inp], [out])\n",
        "\n",
        "# Print the results of passing X_test through the 1st layer\n",
        "print(inp_to_out([X_test]))"
      ],
      "execution_count": null,
      "outputs": []
    },
    {
      "cell_type": "markdown",
      "metadata": {
        "id": "Em1auelNXD6D",
        "colab_type": "text"
      },
      "source": [
        "## Neural separation"
      ]
    },
    {
      "cell_type": "code",
      "metadata": {
        "id": "5K7Lb9geXERQ",
        "colab_type": "code",
        "colab": {}
      },
      "source": [
        "for i in range(0, 21):\n",
        "  \t# Train model for 1 epoch\n",
        "    h = model.fit(X_train, y_train, batch_size=16, epochs=1,verbose=0)\n",
        "    if i%4==0: \n",
        "      # Get the output of the first layer\n",
        "      layer_output = inp_to_out([X_test])[0]\n",
        "      \n",
        "      # Evaluate model accuracy for this epoch\n",
        "      test_accuracy = model.evaluate(X_test, y_test)[1] \n",
        "      \n",
        "      # Plot 1st vs 2nd neuron output\n",
        "      plot()"
      ],
      "execution_count": null,
      "outputs": []
    },
    {
      "cell_type": "markdown",
      "metadata": {
        "id": "Mf-5zhc4YA2b",
        "colab_type": "text"
      },
      "source": [
        "## Building an autoencoder"
      ]
    },
    {
      "cell_type": "code",
      "metadata": {
        "id": "uI7RB9szYBPA",
        "colab_type": "code",
        "colab": {}
      },
      "source": [
        "# Start with a sequential model\n",
        "autoencoder = Sequential()\n",
        "\n",
        "# Add a dense layer with the original image as input\n",
        "autoencoder.add(Dense(32, input_shape=(784, ), activation=\"relu\"))\n",
        "\n",
        "# Add an output layer with as many nodes as the image\n",
        "autoencoder.add(Dense(784, activation=\"sigmoid\"))\n",
        "\n",
        "# Compile your model\n",
        "autoencoder.compile(optimizer='adadelta', loss='binary_crossentropy')\n",
        "\n",
        "# Take a look at your model structure\n",
        "autoencoder.summary()"
      ],
      "execution_count": null,
      "outputs": []
    },
    {
      "cell_type": "markdown",
      "metadata": {
        "id": "X1Hi6ohdYriu",
        "colab_type": "text"
      },
      "source": [
        "## De-noising like an autoencoder"
      ]
    },
    {
      "cell_type": "code",
      "metadata": {
        "id": "jUfCzLrrYsBp",
        "colab_type": "code",
        "colab": {}
      },
      "source": [
        "# Build your encoder\n",
        "encoder = Sequential()\n",
        "encoder.add(autoencoder.layers[0])\n",
        "\n",
        "# Encode the images and show the encodings\n",
        "preds = encoder.predict(X_test_noise)\n",
        "show_encodings(preds)"
      ],
      "execution_count": null,
      "outputs": []
    },
    {
      "cell_type": "code",
      "metadata": {
        "id": "fp7npgQhZYj2",
        "colab_type": "code",
        "colab": {}
      },
      "source": [
        "# Build your encoder\n",
        "encoder = Sequential()\n",
        "encoder.add(autoencoder.layers[0])\n",
        "\n",
        "# Encode the images and show the encodings\n",
        "preds = encoder.predict(X_test_noise)\n",
        "show_encodings(preds)\n",
        "\n",
        "# Predict on the noisy images with your autoencoder\n",
        "decoded_imgs = autoencoder.predict(X_test_noise)\n",
        "\n",
        "# Plot noisy vs decoded images\n",
        "compare_plot(X_test_noise, decoded_imgs)"
      ],
      "execution_count": null,
      "outputs": []
    },
    {
      "cell_type": "markdown",
      "metadata": {
        "id": "b-DlsAIdafTY",
        "colab_type": "text"
      },
      "source": [
        "## Building a CNN model"
      ]
    },
    {
      "cell_type": "code",
      "metadata": {
        "id": "TSMtzG5gafpx",
        "colab_type": "code",
        "colab": {}
      },
      "source": [
        "# Import the Conv2D and Flatten layers and instantiate model\n",
        "from keras.layers import Conv2D,Flatten\n",
        "model = Sequential()\n",
        "\n",
        "# Add a convolutional layer of 32 filters of size 3x3\n",
        "model.add(Conv2D(32, input_shape=(28, 28, 1), kernel_size=3, activation='relu'))\n",
        "\n",
        "# Add a convolutional layer of 16 filters of size 3x3\n",
        "model.add(Conv2D(16, kernel_size=3, activation='relu'))\n",
        "\n",
        "# Flatten the previous layer output\n",
        "model.add(Flatten())\n",
        "\n",
        "# Add as many outputs as classes with softmax activation\n",
        "model.add(Dense(10, activation='softmax'))"
      ],
      "execution_count": null,
      "outputs": []
    },
    {
      "cell_type": "markdown",
      "metadata": {
        "id": "kEyOk5QCa8fb",
        "colab_type": "text"
      },
      "source": [
        "## Looking at convolutions"
      ]
    },
    {
      "cell_type": "code",
      "metadata": {
        "id": "jo9IiVm1a82A",
        "colab_type": "code",
        "colab": {}
      },
      "source": [
        "# Obtain a reference to the outputs of the first layer\n",
        "layer_output = model.layers[0].output\n",
        "\n",
        "# Build a model using the model's input and the first layer output\n",
        "first_layer_model = Model(inputs = model.input, outputs = layer_output)\n",
        "\n",
        "# Use this model to predict on X_test\n",
        "activations = first_layer_model.predict(X_test)\n",
        "\n",
        "# Plot the activations of first digit of X_test for the 15th filter\n",
        "axs[0].matshow(activations[0,:,:,14], cmap = 'viridis')\n",
        "\n",
        "# Do the same but for the 18th filter now\n",
        "axs[1].matshow(activations[0,:,:,19], cmap = 'viridis')\n",
        "plt.show()"
      ],
      "execution_count": null,
      "outputs": []
    },
    {
      "cell_type": "markdown",
      "metadata": {
        "id": "N5Dy0IUgbqL4",
        "colab_type": "text"
      },
      "source": [
        "## Preparing your input image"
      ]
    },
    {
      "cell_type": "code",
      "metadata": {
        "id": "JbnlrgtWbqoP",
        "colab_type": "code",
        "colab": {}
      },
      "source": [
        "# Import image and preprocess_input\n",
        "from keras.preprocessing import image\n",
        "from keras.applications.resnet50 import preprocess_input\n",
        "\n",
        "# Load the image with the right target size for your model\n",
        "img = image.load_img(img_path, target_size = (224, 224))\n",
        "\n",
        "# Turn it into an array\n",
        "img_array = image.img_to_array(img)\n",
        "\n",
        "# Expand the dimensions of the image\n",
        "img_expanded = np.expand_dims(img_array, axis = 0)\n",
        "\n",
        "# Pre-process the img in the same way original images were\n",
        "img_ready = preprocess_input(img_expanded)"
      ],
      "execution_count": null,
      "outputs": []
    },
    {
      "cell_type": "markdown",
      "metadata": {
        "id": "0SuMAiJxcQWW",
        "colab_type": "text"
      },
      "source": [
        "## Using a real world model"
      ]
    },
    {
      "cell_type": "code",
      "metadata": {
        "id": "cb4ZwRaxcQsY",
        "colab_type": "code",
        "colab": {}
      },
      "source": [
        "# Instantiate a ResNet50 model with 'imagenet' weights\n",
        "model = ResNet50(weights='imagenet')\n",
        "\n",
        "# Predict with ResNet50 on your already processed img\n",
        "preds = model.predict(img_ready)\n",
        "\n",
        "# Decode the first 3 predictions\n",
        "print('Predicted:', decode_predictions(preds, top=3)[0])"
      ],
      "execution_count": null,
      "outputs": []
    },
    {
      "cell_type": "markdown",
      "metadata": {
        "id": "kj2HZt9Qczke",
        "colab_type": "text"
      },
      "source": [
        "## Text prediction with LSTMs"
      ]
    },
    {
      "cell_type": "code",
      "metadata": {
        "id": "ZRuQdUzhcz75",
        "colab_type": "code",
        "colab": {}
      },
      "source": [
        "# Split text into an array of words\n",
        "words = text.split()\n",
        "\n",
        "# Make lines of 4 words each, moving one word at a time\n",
        "lines = []\n",
        "for i in range(4, len(words)):\n",
        "  lines.append(' '.join(words[i-4:i]))\n",
        "  \n",
        "# Instantiate a Tokenizer, then fit it on the lines\n",
        "tokenizer = Tokenizer()\n",
        "tokenizer.fit_on_texts(lines)\n",
        "\n",
        "# Turn lines into a sequence of numbers\n",
        "sequences = tokenizer.texts_to_sequences(lines)\n",
        "print(\"Lines: \\n {} \\n Sequences: \\n {}\".format(lines[:5],sequences[:5]))"
      ],
      "execution_count": null,
      "outputs": []
    },
    {
      "cell_type": "markdown",
      "metadata": {
        "id": "Sc6K8Mluc3Gm",
        "colab_type": "text"
      },
      "source": [
        "## Build your LSTM model"
      ]
    },
    {
      "cell_type": "code",
      "metadata": {
        "id": "jrWo4YrGc3ei",
        "colab_type": "code",
        "colab": {}
      },
      "source": [
        "# Import the Embedding, LSTM and Dense layer\n",
        "from keras.layers import Embedding, LSTM, Dense\n",
        "\n",
        "model = Sequential()\n",
        "\n",
        "# Add an Embedding layer with the right parameters\n",
        "model.add(Embedding(input_dim=vocab_size, output_dim=8, input_length=3))\n",
        "\n",
        "# Add a 32 unit LSTM layer\n",
        "model.add(LSTM(32))\n",
        "\n",
        "# Add a hidden Dense layer of 32 units and an output layer of vocab_size with softmax\n",
        "model.add(Dense(32, activation='relu'))\n",
        "model.add(Dense(vocab_size, activation='softmax'))\n",
        "model.summary()"
      ],
      "execution_count": null,
      "outputs": []
    },
    {
      "cell_type": "markdown",
      "metadata": {
        "id": "I5Zg-h5WdUjG",
        "colab_type": "text"
      },
      "source": [
        "## Decode your predictions"
      ]
    },
    {
      "cell_type": "code",
      "metadata": {
        "id": "qdmr5WjkdU8A",
        "colab_type": "code",
        "colab": {}
      },
      "source": [
        "def predict_text(test_text):\n",
        "  if len(test_text.split())!=3:\n",
        "    print('Text input should be 3 words!')\n",
        "    return False\n",
        "  \n",
        "  # Turn the test_text into a sequence of numbers\n",
        "  test_seq = tokenizer.texts_to_sequences([test_text])\n",
        "  test_seq = np.array(test_seq)\n",
        "  \n",
        "  # Get the model's next word prediction by passing in test_seq\n",
        "  pred = model.predict(test_seq).argmax(axis = 1)[0]\n",
        "  \n",
        "  # Return the word associated to the predicted index\n",
        "  return tokenizer.index_word[pred]"
      ],
      "execution_count": null,
      "outputs": []
    },
    {
      "cell_type": "markdown",
      "metadata": {
        "id": "uTXAHmODdx-6",
        "colab_type": "text"
      },
      "source": [
        "## Test your model!"
      ]
    },
    {
      "cell_type": "markdown",
      "metadata": {
        "id": "SSbqj_Wwdxdi",
        "colab_type": "text"
      },
      "source": [
        "B. Revenge is your history and spirit"
      ]
    }
  ]
}