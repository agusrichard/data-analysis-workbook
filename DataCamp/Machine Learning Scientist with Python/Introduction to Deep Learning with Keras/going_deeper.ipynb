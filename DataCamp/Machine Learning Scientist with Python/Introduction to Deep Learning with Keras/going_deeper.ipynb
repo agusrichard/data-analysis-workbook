{
  "nbformat": 4,
  "nbformat_minor": 0,
  "metadata": {
    "colab": {
      "name": "going_deeper.ipynb",
      "provenance": []
    },
    "kernelspec": {
      "name": "python3",
      "display_name": "Python 3"
    }
  },
  "cells": [
    {
      "cell_type": "markdown",
      "metadata": {
        "id": "iEzc4mSx0YJQ",
        "colab_type": "text"
      },
      "source": [
        "# Going Deeper"
      ]
    },
    {
      "cell_type": "code",
      "metadata": {
        "id": "aYSl8pq_1H89",
        "colab_type": "code",
        "colab": {}
      },
      "source": [
        "# Import seaborn\n",
        "import seaborn as sns\n",
        "\n",
        "# Use pairplot and set the hue to be our class\n",
        "sns.pairplot(banknotes, hue='class') \n",
        "\n",
        "# Show the plot\n",
        "plt.show()\n",
        "\n",
        "# Describe the data\n",
        "print('Dataset stats: \\n', banknotes.describe())\n",
        "\n",
        "# Count the number of observations of each class\n",
        "print('Observations per class: \\n', banknotes['class'].value_counts())"
      ],
      "execution_count": null,
      "outputs": []
    },
    {
      "cell_type": "markdown",
      "metadata": {
        "id": "460_Jskv1hyx",
        "colab_type": "text"
      },
      "source": [
        "## A binary classification model"
      ]
    },
    {
      "cell_type": "code",
      "metadata": {
        "id": "YphMk1A81iPd",
        "colab_type": "code",
        "colab": {}
      },
      "source": [
        "# Import the sequential model and dense layer\n",
        "from keras.models import Sequential\n",
        "from keras.layers import Dense\n",
        "\n",
        "# Create a sequential model\n",
        "model = Sequential()\n",
        "\n",
        "# Add a dense layer \n",
        "model.add(Dense(1, input_shape=(4,), activation='sigmoid'))\n",
        "\n",
        "# Compile your model\n",
        "model.compile(loss='binary_crossentropy', optimizer='sgd', metrics=['accuracy'])\n",
        "\n",
        "# Display a summary of your model\n",
        "model.summary()"
      ],
      "execution_count": null,
      "outputs": []
    },
    {
      "cell_type": "markdown",
      "metadata": {
        "id": "KsMRdoE318dW",
        "colab_type": "text"
      },
      "source": [
        "## Is this dollar bill fake ?"
      ]
    },
    {
      "cell_type": "code",
      "metadata": {
        "id": "i34vc15Z181F",
        "colab_type": "code",
        "colab": {}
      },
      "source": [
        "# Train your model for 20 epochs\n",
        "model.fit(X_train, y_train, epochs=20)\n",
        "\n",
        "# Evaluate your model accuracy on the test set\n",
        "accuracy = model.evaluate(X_test, y_test)[1]\n",
        "\n",
        "# Print accuracy\n",
        "print('Accuracy:',accuracy)"
      ],
      "execution_count": null,
      "outputs": []
    },
    {
      "cell_type": "markdown",
      "metadata": {
        "id": "NRKNyG3n27As",
        "colab_type": "text"
      },
      "source": [
        "## A multi-class model"
      ]
    },
    {
      "cell_type": "code",
      "metadata": {
        "id": "sS6BCgsD27Y3",
        "colab_type": "code",
        "colab": {}
      },
      "source": [
        "# Instantiate a sequential model\n",
        "model = Sequential()\n",
        "  \n",
        "# Add 3 dense layers of 128, 64 and 32 neurons each\n",
        "model.add(Dense(128, input_shape=(2,), activation='relu'))\n",
        "model.add(Dense(64, activation='relu'))\n",
        "model.add(Dense(32, activation='relu'))\n",
        "  \n",
        "# Add a dense layer with as many neurons as competitors\n",
        "model.add(Dense(4, activation='softmax'))\n",
        "  \n",
        "# Compile your model using categorical_crossentropy loss\n",
        "model.compile(loss='categorical_crossentropy',\n",
        "              optimizer='adam',\n",
        "              metrics=['accuracy'])"
      ],
      "execution_count": null,
      "outputs": []
    },
    {
      "cell_type": "markdown",
      "metadata": {
        "id": "8Ho3EGZg3QYR",
        "colab_type": "text"
      },
      "source": [
        "## Prepare your dataset"
      ]
    },
    {
      "cell_type": "code",
      "metadata": {
        "id": "C-fUaYzY3Qvw",
        "colab_type": "code",
        "colab": {}
      },
      "source": [
        "# Transform into a categorical variable\n",
        "darts.competitor = pd.Categorical(darts.competitor)\n",
        "\n",
        "# Assign a number to each category (label encoding)\n",
        "darts.competitor = darts.competitor.cat.codes\n",
        "\n",
        "# Print the label encoded competitors\n",
        "print('Label encoded competitors: \\n',darts.competitor.head())"
      ],
      "execution_count": null,
      "outputs": []
    },
    {
      "cell_type": "code",
      "metadata": {
        "id": "OgkjGTtG30xj",
        "colab_type": "code",
        "colab": {}
      },
      "source": [
        "# Transform into a categorical variable\n",
        "darts.competitor = pd.Categorical(darts.competitor)\n",
        "\n",
        "# Assign a number to each category (label encoding)\n",
        "darts.competitor = darts.competitor.cat.codes \n",
        "\n",
        "# Import to_categorical from keras utils module\n",
        "from keras.utils import to_categorical\n",
        "\n",
        "# Use to_categorical on your labels\n",
        "coordinates = darts.drop(['competitor'], axis=1)\n",
        "competitors = to_categorical(darts.competitor)\n",
        "\n",
        "# Now print the to_categorical() result\n",
        "print('One-hot encoded competitors: \\n',competitors)"
      ],
      "execution_count": null,
      "outputs": []
    },
    {
      "cell_type": "markdown",
      "metadata": {
        "id": "06qBia3I34CM",
        "colab_type": "text"
      },
      "source": [
        "## Training on dart throwers"
      ]
    },
    {
      "cell_type": "code",
      "metadata": {
        "id": "JeW5Vw2634ah",
        "colab_type": "code",
        "colab": {}
      },
      "source": [
        "# Train your model on the training data for 200 epochs\n",
        "model.fit(coord_train, competitors_train, epochs=200)\n",
        "\n",
        "# Evaluate your model accuracy on the test data\n",
        "accuracy = model.evaluate(coord_test, competitors_test)[1]\n",
        "\n",
        "# Print accuracy\n",
        "print('Accuracy:', accuracy)"
      ],
      "execution_count": null,
      "outputs": []
    },
    {
      "cell_type": "markdown",
      "metadata": {
        "id": "AosC1agH4ImT",
        "colab_type": "text"
      },
      "source": [
        "## Softmax predictions"
      ]
    },
    {
      "cell_type": "code",
      "metadata": {
        "id": "mMF8fVPH4I8q",
        "colab_type": "code",
        "colab": {}
      },
      "source": [
        "# Predict on coords_small_test\n",
        "preds = model.predict(coords_small_test)\n",
        "\n",
        "# Print preds vs true values\n",
        "print(\"{:45} | {}\".format('Raw Model Predictions','True labels'))\n",
        "for i,pred in enumerate(preds):\n",
        "  print(\"{} | {}\".format(pred,competitors_small_test[i]))"
      ],
      "execution_count": null,
      "outputs": []
    },
    {
      "cell_type": "code",
      "metadata": {
        "id": "HZxj-WI34aJK",
        "colab_type": "code",
        "colab": {}
      },
      "source": [
        "# Predict on coords_small_test\n",
        "preds = model.predict(coords_small_test)\n",
        "\n",
        "# Print preds vs true values\n",
        "print(\"{:45} | {}\".format('Raw Model Predictions','True labels'))\n",
        "for i,pred in enumerate(preds):\n",
        "  print(\"{} | {}\".format(pred,competitors_small_test[i]))\n",
        "\n",
        "# Extract the indexes of the highest probable predictions\n",
        "preds = [np.argmax(pred) for pred in preds]\n",
        "\n",
        "# Print preds vs true values\n",
        "print(\"{:10} | {}\".format('Rounded Model Predictions','True labels'))\n",
        "for i,pred in enumerate(preds):\n",
        "  print(\"{:25} | {}\".format(pred,competitors_small_test[i]))"
      ],
      "execution_count": null,
      "outputs": []
    },
    {
      "cell_type": "markdown",
      "metadata": {
        "id": "es3xONS25RrF",
        "colab_type": "text"
      },
      "source": [
        "## An irrigation machine"
      ]
    },
    {
      "cell_type": "code",
      "metadata": {
        "id": "AXis0evR5SBU",
        "colab_type": "code",
        "colab": {}
      },
      "source": [
        "# Instantiate a Sequential model\n",
        "model = Sequential()\n",
        "\n",
        "# Add a hidden layer of 64 neurons and a 20 neuron's input\n",
        "model.add(Dense(64, activation='relu', input_shape=(20,)))\n",
        "\n",
        "# Add an output layer of 3 neurons with sigmoid activation\n",
        "model.add(Dense(3, activation='sigmoid'))\n",
        "\n",
        "# Compile your model with adam and binary crossentropy loss\n",
        "model.compile(optimizer='adam',\n",
        "           loss='binary_crossentropy',\n",
        "           metrics=['accuracy'])\n",
        "\n",
        "model.summary()"
      ],
      "execution_count": null,
      "outputs": []
    },
    {
      "cell_type": "markdown",
      "metadata": {
        "id": "qHaBnv_X5xj2",
        "colab_type": "text"
      },
      "source": [
        "## Training with multiple labels"
      ]
    },
    {
      "cell_type": "code",
      "metadata": {
        "id": "FoxZi1vq5x6z",
        "colab_type": "code",
        "colab": {}
      },
      "source": [
        "# Train for 100 epochs using a validation split of 0.2\n",
        "model.fit(sensors_train, parcels_train, epochs = 100, validation_split = 0.2)\n",
        "\n",
        "# Predict on sensors_test and round up the predictions\n",
        "preds = model.predict(sensors_test)\n",
        "preds_rounded = np.round(preds)\n",
        "\n",
        "# Print rounded preds\n",
        "print('Rounded Predictions: \\n', preds_rounded)\n",
        "\n",
        "# Evaluate your model's accuracy on the test data\n",
        "accuracy = model.evaluate(sensors_test, parcels_test)[1]\n",
        "\n",
        "# Print accuracy\n",
        "print('Accuracy:', accuracy)"
      ],
      "execution_count": null,
      "outputs": []
    },
    {
      "cell_type": "markdown",
      "metadata": {
        "id": "VO0BSAKi6-r5",
        "colab_type": "text"
      },
      "source": [
        "## The history callback"
      ]
    },
    {
      "cell_type": "code",
      "metadata": {
        "id": "z9fPLktW6_CI",
        "colab_type": "code",
        "colab": {}
      },
      "source": [
        "# Train your model and save its history\n",
        "history = model.fit(X_train, y_train, epochs = 50,\n",
        "               validation_data=(X_test, y_test))\n",
        "\n",
        "# Plot train vs test loss during training\n",
        "plot_loss(history.history['loss'], history.history['val_loss'])\n",
        "\n",
        "# Plot train vs test accuracy during training\n",
        "plot_accuracy(history.history['acc'], history.history['val_acc'])"
      ],
      "execution_count": null,
      "outputs": []
    },
    {
      "cell_type": "markdown",
      "metadata": {
        "id": "OtN4Rnks7iL0",
        "colab_type": "text"
      },
      "source": [
        "## Early stopping your model"
      ]
    },
    {
      "cell_type": "code",
      "metadata": {
        "id": "OO2KeByZ7ii_",
        "colab_type": "code",
        "colab": {}
      },
      "source": [
        "# Import the early stopping callback\n",
        "from keras.callbacks import EarlyStopping\n",
        "\n",
        "# Define a callback to monitor val_acc\n",
        "monitor_val_acc = EarlyStopping(monitor='val_acc', \n",
        "                       patience=5)\n",
        "\n",
        "# Train your model using the early stopping callback\n",
        "model.fit(X_train, y_train, \n",
        "           epochs=1000, validation_data=(X_test, y_test),\n",
        "           callbacks=[monitor_val_acc])"
      ],
      "execution_count": null,
      "outputs": []
    },
    {
      "cell_type": "markdown",
      "metadata": {
        "id": "5BxUYEQH73ir",
        "colab_type": "text"
      },
      "source": [
        "## A combination of callbacks"
      ]
    },
    {
      "cell_type": "code",
      "metadata": {
        "id": "XGLjRoIY735l",
        "colab_type": "code",
        "colab": {}
      },
      "source": [
        "# Import the EarlyStopping and ModelCheckpoint callbacks\n",
        "from keras.callbacks import EarlyStopping, ModelCheckpoint\n",
        "\n",
        "# Early stop on validation accuracy\n",
        "monitor_val_acc = EarlyStopping(monitor = 'val_acc', patience=3)\n",
        "\n",
        "# Save the best model as best_banknote_model.hdf5\n",
        "modelCheckpoint = ModelCheckpoint('best_banknote_model.hdf5', save_best_only = True)\n",
        "\n",
        "# Fit your model for a stupid amount of epochs\n",
        "history = model.fit(X_train, y_train,\n",
        "                    epochs = 10000000,\n",
        "                    callbacks = [monitor_val_acc, modelCheckpoint],\n",
        "                    validation_data = (X_test, y_test))"
      ],
      "execution_count": null,
      "outputs": []
    }
  ]
}