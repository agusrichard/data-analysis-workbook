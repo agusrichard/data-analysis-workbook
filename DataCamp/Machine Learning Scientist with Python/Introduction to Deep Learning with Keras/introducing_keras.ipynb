{
  "nbformat": 4,
  "nbformat_minor": 0,
  "metadata": {
    "colab": {
      "name": "introducing_keras.ipynb",
      "provenance": []
    },
    "kernelspec": {
      "name": "python3",
      "display_name": "Python 3"
    }
  },
  "cells": [
    {
      "cell_type": "markdown",
      "metadata": {
        "id": "Cc2Eq3-9ts3J",
        "colab_type": "text"
      },
      "source": [
        "# Introducing Keras"
      ]
    },
    {
      "cell_type": "markdown",
      "metadata": {
        "id": "Ju65mZqSuyIc",
        "colab_type": "text"
      },
      "source": [
        "## Describing Keras"
      ]
    },
    {
      "cell_type": "markdown",
      "metadata": {
        "id": "2mFkhz9ou2FU",
        "colab_type": "text"
      },
      "source": [
        "B. Keras can work well on its own without using a backend, like TensorFlow."
      ]
    },
    {
      "cell_type": "markdown",
      "metadata": {
        "id": "QgeCIj5Qu7Zg",
        "colab_type": "text"
      },
      "source": [
        "## Would you use deep learning?"
      ]
    },
    {
      "cell_type": "markdown",
      "metadata": {
        "id": "2P0GOgGJu-c4",
        "colab_type": "text"
      },
      "source": [
        "B. I'd use deep learning since we are dealing with unstructured data and neural networks work well with images."
      ]
    },
    {
      "cell_type": "markdown",
      "metadata": {
        "id": "5CUl-Cq_vHLW",
        "colab_type": "text"
      },
      "source": [
        "## Hello nets!"
      ]
    },
    {
      "cell_type": "code",
      "metadata": {
        "id": "DmE_TCB2wSp0",
        "colab_type": "code",
        "colab": {}
      },
      "source": [
        "# Import the Sequential model and Dense layer\n",
        "from keras.models import Sequential\n",
        "from keras.layers import Dense\n",
        "\n",
        "# Create a Sequential model\n",
        "model = Sequential()\n",
        "\n",
        "# Add an input layer and a hidden layer with 10 neurons\n",
        "model.add(Dense(10, input_shape=(2,), activation=\"relu\"))\n",
        "\n",
        "# Add a 1-neuron output layer\n",
        "model.add(Dense(1))\n",
        "\n",
        "# Summarise your model\n",
        "model.summary()"
      ],
      "execution_count": null,
      "outputs": []
    },
    {
      "cell_type": "markdown",
      "metadata": {
        "id": "wV-cdTnIw-bm",
        "colab_type": "text"
      },
      "source": [
        "## Counting parameters"
      ]
    },
    {
      "cell_type": "code",
      "metadata": {
        "id": "6qAgjaSsw-0C",
        "colab_type": "code",
        "colab": {}
      },
      "source": [
        "# Instantiate a new Sequential model\n",
        "model = Sequential()\n",
        "\n",
        "# Add a Dense layer with five neurons and three inputs\n",
        "model.add(Dense(5, input_shape=(3,), activation=\"relu\"))\n",
        "\n",
        "# Add a final Dense layer with one neuron and no activation\n",
        "model.add(Dense(1))\n",
        "\n",
        "# Summarize your model\n",
        "model.summary()"
      ],
      "execution_count": null,
      "outputs": []
    },
    {
      "cell_type": "markdown",
      "metadata": {
        "id": "4TJxi0HaxZ6z",
        "colab_type": "text"
      },
      "source": [
        "B. There are 20 parameters, 15 from the connection of our input layer to our hidden layer and 5 from the bias weight of each neuron in the hidden layer."
      ]
    },
    {
      "cell_type": "markdown",
      "metadata": {
        "id": "IQX8DalQxaVy",
        "colab_type": "text"
      },
      "source": [
        "## Build as shown!"
      ]
    },
    {
      "cell_type": "code",
      "metadata": {
        "id": "9qQhbSlaxc5c",
        "colab_type": "code",
        "colab": {}
      },
      "source": [
        "from keras.models import Sequential\n",
        "from keras.layers import Dense\n",
        "\n",
        "# Instantiate a Sequential model\n",
        "model = Sequential()\n",
        "\n",
        "# Build the input and hidden layer\n",
        "model.add(Dense(3, activation='relu', input_shape=(2,)))\n",
        "\n",
        "# Add the ouput layer\n",
        "model.add(Dense(1))"
      ],
      "execution_count": null,
      "outputs": []
    },
    {
      "cell_type": "markdown",
      "metadata": {
        "id": "AjdVFXu_yXrT",
        "colab_type": "text"
      },
      "source": [
        "## Specifying a model"
      ]
    },
    {
      "cell_type": "code",
      "metadata": {
        "id": "Dy-v4-mAyYDR",
        "colab_type": "code",
        "colab": {}
      },
      "source": [
        "# Instantiate a Sequential model\n",
        "model = Sequential()\n",
        "\n",
        "# Add a Dense layer with 50 neurons and an input of 1 neuron\n",
        "model.add(Dense(50, input_shape=(1,), activation='relu'))\n",
        "\n",
        "# Add two Dense layers with 50 neurons and relu activation\n",
        "model.add(Dense(50,activation='relu'))\n",
        "model.add(Dense(50,activation='relu'))\n",
        "\n",
        "# End your model with a Dense layer and no activation\n",
        "model.add(Dense(1))"
      ],
      "execution_count": null,
      "outputs": []
    },
    {
      "cell_type": "markdown",
      "metadata": {
        "id": "1d0e7U-Cy1d5",
        "colab_type": "text"
      },
      "source": [
        "## Training"
      ]
    },
    {
      "cell_type": "code",
      "metadata": {
        "id": "OQ2ROdqoy18F",
        "colab_type": "code",
        "colab": {}
      },
      "source": [
        "# Compile your model\n",
        "model.compile(optimizer = 'adam', loss = 'mse')\n",
        "\n",
        "print(\"Training started..., this can take a while:\")\n",
        "\n",
        "# Fit your model on your data for 30 epochs\n",
        "model.fit(time_steps,y_positions, epochs = 30)\n",
        "\n",
        "# Evaluate your model \n",
        "print(\"Final lost value:\",model.evaluate(time_steps, y_positions))"
      ],
      "execution_count": null,
      "outputs": []
    },
    {
      "cell_type": "markdown",
      "metadata": {
        "id": "MLWYRqW1zTFQ",
        "colab_type": "text"
      },
      "source": [
        "## Predicting the orbit!"
      ]
    },
    {
      "cell_type": "code",
      "metadata": {
        "id": "IeuHjbM-zTeZ",
        "colab_type": "code",
        "colab": {}
      },
      "source": [
        "# Predict the twenty minutes orbit\n",
        "twenty_min_orbit = model.predict(np.arange(-10, 11))\n",
        "\n",
        "# Plot the twenty minute orbit \n",
        "plot_orbit(twenty_min_orbit)"
      ],
      "execution_count": null,
      "outputs": []
    },
    {
      "cell_type": "code",
      "metadata": {
        "id": "TQyUNUcizvL1",
        "colab_type": "code",
        "colab": {}
      },
      "source": [
        "# Predict the eighty minute orbit\n",
        "eighty_min_orbit = model.predict(np.arange(-40, 41))\n",
        "\n",
        "# Plot the eighty minute orbit \n",
        "plot_orbit(eighty_min_orbit)"
      ],
      "execution_count": null,
      "outputs": []
    }
  ]
}