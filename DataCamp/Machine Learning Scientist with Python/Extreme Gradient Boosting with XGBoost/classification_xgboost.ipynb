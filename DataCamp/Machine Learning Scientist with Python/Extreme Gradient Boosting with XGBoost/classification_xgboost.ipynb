{
  "nbformat": 4,
  "nbformat_minor": 0,
  "metadata": {
    "colab": {
      "name": "classification_xgboost.ipynb",
      "provenance": []
    },
    "kernelspec": {
      "name": "python3",
      "display_name": "Python 3"
    }
  },
  "cells": [
    {
      "cell_type": "markdown",
      "metadata": {
        "id": "mq14syiho0yr",
        "colab_type": "text"
      },
      "source": [
        "# Classification with XGBoost\n"
      ]
    },
    {
      "cell_type": "markdown",
      "metadata": {
        "id": "wf4kp5zvodRN",
        "colab_type": "text"
      },
      "source": [
        "## Which of these is a classification problem?"
      ]
    },
    {
      "cell_type": "markdown",
      "metadata": {
        "id": "AfMUcc8-o0aM",
        "colab_type": "text"
      },
      "source": [
        "C. Predicting whether a given user will click on an ad given the ad content and metadata associated with the user."
      ]
    },
    {
      "cell_type": "markdown",
      "metadata": {
        "id": "jMP_NI2ipNHO",
        "colab_type": "text"
      },
      "source": [
        "## Which of these is a binary classification problem?"
      ]
    },
    {
      "cell_type": "markdown",
      "metadata": {
        "id": "vKqB65VapYIQ",
        "colab_type": "text"
      },
      "source": [
        "A. Predicting whether a given image contains a cat."
      ]
    },
    {
      "cell_type": "markdown",
      "metadata": {
        "id": "4ZbX-1aZph8R",
        "colab_type": "text"
      },
      "source": [
        "## XGBoost: Fit/Predict"
      ]
    },
    {
      "cell_type": "code",
      "metadata": {
        "id": "YDT7mgvXqPk8",
        "colab_type": "code",
        "colab": {}
      },
      "source": [
        "#import xgboost\n",
        "import xgboost as xgb\n",
        "\n",
        "# Create arrays for the features and the target: X, y\n",
        "X, y = churn_data.iloc[:,:-1], churn_data.iloc[:,-1]\n",
        "\n",
        "# Create the training and test sets\n",
        "X_train,X_test,y_train,y_test= train_test_split(X, y, test_size=0.2, random_state=123)\n",
        "\n",
        "# Instantiate the XGBClassifier: xg_cl\n",
        "xg_cl = xgb.XGBClassifier(objective='binary:logistic', n_estimators=10, seed=123)\n",
        "\n",
        "# Fit the classifier to the training set\n",
        "xg_cl.fit(X_train,y_train)\n",
        "\n",
        "# Predict the labels of the test set: preds\n",
        "preds = xg_cl.predict(X_test)\n",
        "\n",
        "# Compute the accuracy: accuracy\n",
        "accuracy = float(np.sum(preds==y_test))/y_test.shape[0]\n",
        "print(\"accuracy: %f\" % (accuracy))\n"
      ],
      "execution_count": 0,
      "outputs": []
    },
    {
      "cell_type": "markdown",
      "metadata": {
        "id": "EmGePoFnsImx",
        "colab_type": "text"
      },
      "source": [
        "## Decision trees"
      ]
    },
    {
      "cell_type": "code",
      "metadata": {
        "id": "JVcl0dFSsI-L",
        "colab_type": "code",
        "colab": {}
      },
      "source": [
        "# Import the necessary modules\n",
        "from sklearn.tree import DecisionTreeClassifier\n",
        "from sklearn.model_selection import train_test_split\n",
        "\n",
        "# Create the training and test sets\n",
        "X_train, X_test, y_train, y_test = train_test_split(X, y, test_size=0.2, random_state=123)\n",
        "\n",
        "# Instantiate the classifier: dt_clf_4\n",
        "dt_clf_4 = DecisionTreeClassifier(max_depth=4)\n",
        "\n",
        "# Fit the classifier to the training set\n",
        "dt_clf_4.fit(X_train, y_train)\n",
        "\n",
        "# Predict the labels of the test set: y_pred_4\n",
        "y_pred_4 = dt_clf_4.predict(X_test)\n",
        "\n",
        "# Compute the accuracy of the predictions: accuracy\n",
        "accuracy = float(np.sum(y_pred_4==y_test))/y_test.shape[0]\n",
        "print(\"accuracy:\", accuracy)\n"
      ],
      "execution_count": 0,
      "outputs": []
    },
    {
      "cell_type": "markdown",
      "metadata": {
        "id": "u9jJDCTktzpk",
        "colab_type": "text"
      },
      "source": [
        "## Measuring accuracy"
      ]
    },
    {
      "cell_type": "code",
      "metadata": {
        "id": "1dZwo67Tt0JN",
        "colab_type": "code",
        "colab": {}
      },
      "source": [
        "# Create arrays for the features and the target: X, y\n",
        "X, y = churn_data.iloc[:,:-1], churn_data.iloc[:,-1]\n",
        "\n",
        "# Create the DMatrix from X and y: churn_dmatrix\n",
        "churn_dmatrix = xgb.DMatrix(data=X, label=y)\n",
        "\n",
        "# Create the parameter dictionary: params\n",
        "params = {\"objective\":\"reg:logistic\", \"max_depth\":3}\n",
        "\n",
        "# Perform cross-validation: cv_results\n",
        "cv_results = xgb.cv(dtrain=churn_dmatrix, params=params, \n",
        "                  nfold=3, num_boost_round=5, \n",
        "                  metrics=\"error\", as_pandas=True, seed=123)\n",
        "\n",
        "# Print cv_results\n",
        "print(cv_results)\n",
        "\n",
        "# Print the accuracy\n",
        "print(((1-cv_results[\"test-error-mean\"]).iloc[-1]))"
      ],
      "execution_count": 0,
      "outputs": []
    },
    {
      "cell_type": "markdown",
      "metadata": {
        "id": "0nO_ZV9-uiS_",
        "colab_type": "text"
      },
      "source": [
        "## Measuring AUC"
      ]
    },
    {
      "cell_type": "code",
      "metadata": {
        "id": "5_kNva8yuioz",
        "colab_type": "code",
        "colab": {}
      },
      "source": [
        "# Perform cross_validation: cv_results\n",
        "cv_results = xgb.cv(dtrain=churn_dmatrix, params=params, \n",
        "                  nfold=3, num_boost_round=5, \n",
        "                  metrics=\"auc\", as_pandas=True, seed=123)\n",
        "\n",
        "# Print cv_results\n",
        "print(cv_results)\n",
        "\n",
        "# Print the AUC\n",
        "print((cv_results[\"test-auc-mean\"]).iloc[-1])"
      ],
      "execution_count": 0,
      "outputs": []
    },
    {
      "cell_type": "markdown",
      "metadata": {
        "id": "cCkJSge9vbw5",
        "colab_type": "text"
      },
      "source": [
        "## Using XGBoost"
      ]
    },
    {
      "cell_type": "markdown",
      "metadata": {
        "id": "xBHQkTvQvcHN",
        "colab_type": "text"
      },
      "source": [
        "D. Predicting the likelihood that a given user will click an ad from a very large clickstream log with millions of users and their web interactions."
      ]
    }
  ]
}