{
  "nbformat": 4,
  "nbformat_minor": 0,
  "metadata": {
    "colab": {
      "name": "regression_xgboost.ipynb",
      "provenance": []
    },
    "kernelspec": {
      "name": "python3",
      "display_name": "Python 3"
    }
  },
  "cells": [
    {
      "cell_type": "markdown",
      "metadata": {
        "id": "jIYhfhQ2wBdk",
        "colab_type": "text"
      },
      "source": [
        "# Regression with XGBoost"
      ]
    },
    {
      "cell_type": "markdown",
      "metadata": {
        "id": "tW8UvxHywfh0",
        "colab_type": "text"
      },
      "source": [
        "## Which of these is a regression problem?"
      ]
    },
    {
      "cell_type": "markdown",
      "metadata": {
        "id": "PacsOxfowjVz",
        "colab_type": "text"
      },
      "source": [
        "D. Predicting the expected payout of an auto insurance claim given claim properties (car, accident type, driver prior history, etc.)."
      ]
    },
    {
      "cell_type": "markdown",
      "metadata": {
        "id": "84kyBT8RwoeE",
        "colab_type": "text"
      },
      "source": [
        "## Decision trees as base learners"
      ]
    },
    {
      "cell_type": "code",
      "metadata": {
        "id": "39bYbhAHxkJ6",
        "colab_type": "code",
        "colab": {}
      },
      "source": [
        "# Create the training and test sets\n",
        "X_train, X_test, y_train, y_test = train_test_split(X, y, test_size=0.2, random_state=123)\n",
        "\n",
        "# Instantiate the XGBRegressor: xg_reg\n",
        "xg_reg = xgb.XGBRegressor(objective='reg:linear', n_estimators=10, seed=123)\n",
        "\n",
        "# Fit the regressor to the training set\n",
        "xg_reg.fit(X_train, y_train)\n",
        "\n",
        "# Predict the labels of the test set: preds\n",
        "preds = xg_reg.predict(X_test)\n",
        "\n",
        "# Compute the rmse: rmse\n",
        "rmse = np.sqrt(mean_squared_error(y_test, preds))\n",
        "print(\"RMSE: %f\" % (rmse))"
      ],
      "execution_count": 0,
      "outputs": []
    },
    {
      "cell_type": "markdown",
      "metadata": {
        "id": "IAqJwAmdyXmx",
        "colab_type": "text"
      },
      "source": [
        "## Linear base learners"
      ]
    },
    {
      "cell_type": "code",
      "metadata": {
        "id": "wqmkuO5yyX9F",
        "colab_type": "code",
        "colab": {}
      },
      "source": [
        "# Convert the training and testing sets into DMatrixes: DM_train, DM_test\n",
        "DM_train = xgb.DMatrix(X_train, y_train)\n",
        "DM_test =  xgb.DMatrix(X_test, y_test)\n",
        "\n",
        "# Create the parameter dictionary: params\n",
        "params = {\"booster\":\"gblinear\", \"objective\":\"reg:linear\"}\n",
        "\n",
        "# Train the model: xg_reg\n",
        "xg_reg = xgb.train(params = params, dtrain=DM_train, num_boost_round=5)\n",
        "\n",
        "# Predict the labels of the test set: preds\n",
        "preds = xg_reg.predict(DM_test)\n",
        "\n",
        "# Compute and print the RMSE\n",
        "rmse = np.sqrt(mean_squared_error(y_test,preds))\n",
        "print(\"RMSE: %f\" % (rmse))"
      ],
      "execution_count": 0,
      "outputs": []
    },
    {
      "cell_type": "markdown",
      "metadata": {
        "id": "kIHZbu_izUvc",
        "colab_type": "text"
      },
      "source": [
        "## Evaluating model quality"
      ]
    },
    {
      "cell_type": "code",
      "metadata": {
        "id": "Jk2Hk4KGzVEk",
        "colab_type": "code",
        "colab": {}
      },
      "source": [
        "# Create the DMatrix: housing_dmatrix\n",
        "housing_dmatrix = xgb.DMatrix(data=X, label=y)\n",
        "\n",
        "# Create the parameter dictionary: params\n",
        "params = {\"objective\":\"reg:linear\", \"max_depth\":4}\n",
        "\n",
        "# Perform cross-validation: cv_results\n",
        "cv_results = ____(dtrain=____, params=____, nfold=____, num_boost_round=____, metrics=____, as_pandas=True, seed=123)\n",
        "\n",
        "# Print cv_results\n",
        "print(cv_results)\n",
        "\n",
        "# Extract and print final boosting round metric\n",
        "print((cv_results[\"____\"]).tail(1))"
      ],
      "execution_count": 0,
      "outputs": []
    },
    {
      "cell_type": "code",
      "metadata": {
        "id": "K5JlUKufz4Z_",
        "colab_type": "code",
        "colab": {}
      },
      "source": [
        "# Create the DMatrix: housing_dmatrix\n",
        "housing_dmatrix = xgb.DMatrix(data=X, label=y)\n",
        "\n",
        "# Create the parameter dictionary: params\n",
        "params = {\"objective\":\"reg:linear\", \"max_depth\":4}\n",
        "\n",
        "# Perform cross-validation: cv_results\n",
        "cv_results = xgb.cv(dtrain=housing_dmatrix, params=params, nfold=4, num_boost_round=5, metrics='mae', as_pandas=True, seed=123)\n",
        "\n",
        "# Print cv_results\n",
        "print(cv_results)\n",
        "\n",
        "# Extract and print final boosting round metric\n",
        "print((cv_results[\"test-mae-mean\"]).tail(1))"
      ],
      "execution_count": 0,
      "outputs": []
    },
    {
      "cell_type": "markdown",
      "metadata": {
        "id": "FEMyA15JJ4uz",
        "colab_type": "text"
      },
      "source": [
        "## Using regularization in XGBoost"
      ]
    },
    {
      "cell_type": "code",
      "metadata": {
        "id": "SI9Ecx_XJ5Gk",
        "colab_type": "code",
        "colab": {}
      },
      "source": [
        "# Create the DMatrix: housing_dmatrix\n",
        "housing_dmatrix = xgb.DMatrix(data=X, label=y)\n",
        "\n",
        "reg_params = [1, 10, 100]\n",
        "\n",
        "# Create the initial parameter dictionary for varying l2 strength: params\n",
        "params = {\"objective\":\"reg:linear\",\"max_depth\":3}\n",
        "\n",
        "# Create an empty list for storing rmses as a function of l2 complexity\n",
        "rmses_l2 = []\n",
        "\n",
        "# Iterate over reg_params\n",
        "for reg in reg_params:\n",
        "\n",
        "    # Update l2 strength\n",
        "    params[\"lambda\"] = reg\n",
        "    \n",
        "    # Pass this updated param dictionary into cv\n",
        "    cv_results_rmse = xgb.cv(dtrain=housing_dmatrix, params=params, nfold=2, num_boost_round=5, metrics=\"rmse\", as_pandas=True, seed=123)\n",
        "    \n",
        "    # Append best rmse (final round) to rmses_l2\n",
        "    rmses_l2.append(cv_results_rmse[\"test-rmse-mean\"].tail(1).values[0])\n",
        "\n",
        "# Look at best rmse per l2 param\n",
        "print(\"Best rmse as a function of l2:\")\n",
        "print(pd.DataFrame(list(zip(reg_params, rmses_l2)), columns=[\"l2\", \"rmse\"]))"
      ],
      "execution_count": 0,
      "outputs": []
    },
    {
      "cell_type": "markdown",
      "metadata": {
        "id": "NYEWfOM9KXBe",
        "colab_type": "text"
      },
      "source": [
        "## Visualizing individual XGBoost trees"
      ]
    },
    {
      "cell_type": "code",
      "metadata": {
        "id": "BF56nQ0pKXnS",
        "colab_type": "code",
        "colab": {}
      },
      "source": [
        "# Create the DMatrix: housing_dmatrix\n",
        "housing_dmatrix = xgb.DMatrix(data=X, label=y)\n",
        "\n",
        "# Create the parameter dictionary: params\n",
        "params = {\"objective\":\"reg:linear\", \"max_depth\":2}\n",
        "\n",
        "# Train the model: xg_reg\n",
        "xg_reg = xgb.train(params=params, dtrain=housing_dmatrix, num_boost_round=10)\n",
        "\n",
        "# Plot the first tree\n",
        "xgb.plot_tree(xg_reg, num_trees=0)\n",
        "plt.show()\n",
        "\n",
        "# Plot the fifth tree\n",
        "xgb.plot_tree(xg_reg, num_trees=4)\n",
        "plt.show()\n",
        "\n",
        "# Plot the last tree sideways\n",
        "xgb.plot_tree(xg_reg, num_trees=9, rankdir='LR')\n",
        "plt.show()"
      ],
      "execution_count": 0,
      "outputs": []
    },
    {
      "cell_type": "markdown",
      "metadata": {
        "id": "B9NhGj4oK-4L",
        "colab_type": "text"
      },
      "source": [
        "## Visualizing feature importances: What features are most important in my dataset"
      ]
    },
    {
      "cell_type": "code",
      "metadata": {
        "id": "WkaagfkbK_O_",
        "colab_type": "code",
        "colab": {}
      },
      "source": [
        "# Create the DMatrix: housing_dmatrix\n",
        "housing_dmatrix = xgb.DMatrix(data=X, label=y)\n",
        "\n",
        "# Create the parameter dictionary: params\n",
        "params = {'objective': 'reg:linear', 'max_depth': 4}\n",
        "\n",
        "# Train the model: xg_reg\n",
        "xg_reg = xgb.train(params=params, dtrain=housing_dmatrix, num_boost_round=10)\n",
        "\n",
        "# Plot the feature importances\n",
        "xgb.plot_importance(xg_reg)\n",
        "plt.show()"
      ],
      "execution_count": 0,
      "outputs": []
    }
  ]
}