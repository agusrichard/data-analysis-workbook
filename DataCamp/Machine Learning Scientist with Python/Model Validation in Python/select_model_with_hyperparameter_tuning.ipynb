{
  "nbformat": 4,
  "nbformat_minor": 0,
  "metadata": {
    "colab": {
      "name": "select_model_with_hyperparameter_tuning.ipynb",
      "provenance": []
    },
    "kernelspec": {
      "name": "python3",
      "display_name": "Python 3"
    }
  },
  "cells": [
    {
      "cell_type": "markdown",
      "metadata": {
        "id": "qr1fXtcpYOY0",
        "colab_type": "text"
      },
      "source": [
        "# Selecting the best model with Hyperparameter tuning."
      ]
    },
    {
      "cell_type": "markdown",
      "metadata": {
        "id": "ookhlF8gZTwi",
        "colab_type": "text"
      },
      "source": [
        "## Creating Hyperparameters"
      ]
    },
    {
      "cell_type": "code",
      "metadata": {
        "id": "e5_SoJG5ZY68",
        "colab_type": "code",
        "colab": {}
      },
      "source": [
        "# Review the parameters of rfr\n",
        "print(rfr.get_params())"
      ],
      "execution_count": null,
      "outputs": []
    },
    {
      "cell_type": "code",
      "metadata": {
        "id": "qmD_8lrqZnm2",
        "colab_type": "code",
        "colab": {}
      },
      "source": [
        "# Review the parameters of rfr\n",
        "print(rfr.get_params())\n",
        "\n",
        "# Maximum Depth\n",
        "max_depth = [4, 8, 12]\n",
        "\n",
        "# Minimum samples for a split\n",
        "min_samples_split = [2, 5, 10]"
      ],
      "execution_count": null,
      "outputs": []
    },
    {
      "cell_type": "code",
      "metadata": {
        "id": "CPoYreasZv49",
        "colab_type": "code",
        "colab": {}
      },
      "source": [
        "# Review the parameters of rfr\n",
        "print(rfr.get_params())\n",
        "\n",
        "# Maximum Depth\n",
        "max_depth = [4, 8, 12]\n",
        "\n",
        "# Minimum samples for a split\n",
        "min_samples_split = [2, 5, 10]\n",
        "\n",
        "# Max features \n",
        "max_features = [4, 6, 8, 10]"
      ],
      "execution_count": null,
      "outputs": []
    },
    {
      "cell_type": "markdown",
      "metadata": {
        "id": "eCZC0AjNZyQY",
        "colab_type": "text"
      },
      "source": [
        "## Running a model using ranges"
      ]
    },
    {
      "cell_type": "code",
      "metadata": {
        "id": "E4Xhq-esZyn9",
        "colab_type": "code",
        "colab": {}
      },
      "source": [
        "from sklearn.ensemble import RandomForestRegressor\n",
        "\n",
        "# Fill in rfr using your variables\n",
        "rfr = RandomForestRegressor(\n",
        "    n_estimators=100,\n",
        "    max_depth=random.choice(max_depth),\n",
        "    min_samples_split=random.choice(min_samples_split),\n",
        "    max_features=random.choice(max_features))\n",
        "\n",
        "# Print out the parameters\n",
        "print(rfr.get_params())"
      ],
      "execution_count": null,
      "outputs": []
    },
    {
      "cell_type": "markdown",
      "metadata": {
        "id": "qn91EanebQF3",
        "colab_type": "text"
      },
      "source": [
        "## Preparing for RandomizedSearch"
      ]
    },
    {
      "cell_type": "code",
      "metadata": {
        "id": "roUV1hD8bQmn",
        "colab_type": "code",
        "colab": {}
      },
      "source": [
        "from sklearn.ensemble import RandomForestRegressor\n",
        "from sklearn.metrics import make_scorer, mean_squared_error\n",
        "\n",
        "# Finish the dictionary by adding the max_depth parameter\n",
        "param_dist = {\"max_depth\": [2, 4, 6, 8],\n",
        "              \"max_features\": [2, 4, 6, 8, 10],\n",
        "              \"min_samples_split\": [2, 4, 8, 16]}\n",
        "\n",
        "# Create a random forest regression model\n",
        "rfr = RandomForestRegressor(n_estimators=10, random_state=1111)\n",
        "\n",
        "# Create a scorer to use (use the mean squared error)\n",
        "scorer = make_scorer(mean_squared_error)"
      ],
      "execution_count": null,
      "outputs": []
    },
    {
      "cell_type": "markdown",
      "metadata": {
        "id": "YfBm-vtCbhJa",
        "colab_type": "text"
      },
      "source": [
        "## Implementing RandomizedSearchCV"
      ]
    },
    {
      "cell_type": "code",
      "metadata": {
        "id": "RYfksLVzbhfS",
        "colab_type": "code",
        "colab": {}
      },
      "source": [
        "# Import the method for random search\n",
        "from sklearn.model_selection import RandomizedSearchCV\n",
        "\n",
        "# Build a random search using param_dist, rfr, and scorer\n",
        "random_search =\\\n",
        "    RandomizedSearchCV(\n",
        "        estimator=rfr,\n",
        "        param_distributions=param_dist,\n",
        "        n_iter=10,\n",
        "        cv=5,\n",
        "        scoring=scorer)"
      ],
      "execution_count": null,
      "outputs": []
    },
    {
      "cell_type": "markdown",
      "metadata": {
        "id": "QYMoeekJcfpm",
        "colab_type": "text"
      },
      "source": [
        "## Best classification accuracy"
      ]
    },
    {
      "cell_type": "markdown",
      "metadata": {
        "id": "N9epKqKhcgAb",
        "colab_type": "text"
      },
      "source": [
        "C. {'max_depth': 12, 'min_samples_split': 4, 'n_estimators': 20}"
      ]
    },
    {
      "cell_type": "markdown",
      "metadata": {
        "id": "RkwXG1kLcmH9",
        "colab_type": "text"
      },
      "source": [
        "## Selecting the best precision model"
      ]
    },
    {
      "cell_type": "code",
      "metadata": {
        "id": "EJKW3LKjcoZ3",
        "colab_type": "code",
        "colab": {}
      },
      "source": [
        "from sklearn.metrics import precision_score, make_scorer\n",
        "\n",
        "# Create a precision scorer\n",
        "precision = make_scorer(precision_score)\n",
        "# Finalize the random search\n",
        "rs = RandomizedSearchCV(\n",
        "  estimator=rfc, param_distributions=param_dist,\n",
        "  scoring = precision,\n",
        "  cv=5, n_iter=10, random_state=1111)\n",
        "rs.fit(X, y)\n",
        "\n",
        "# print the mean test scores:\n",
        "print('The accuracy for each run was: {}.'.format(rs.cv_results_['mean_test_score']))\n",
        "# print the best model score:\n",
        "print('The best accuracy for a single model was: {}'.format(rs.best_score_))"
      ],
      "execution_count": null,
      "outputs": []
    }
  ]
}