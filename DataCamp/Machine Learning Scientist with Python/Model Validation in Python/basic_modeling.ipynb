{
  "nbformat": 4,
  "nbformat_minor": 0,
  "metadata": {
    "colab": {
      "name": "basic_modeling.ipynb",
      "provenance": []
    },
    "kernelspec": {
      "name": "python3",
      "display_name": "Python 3"
    }
  },
  "cells": [
    {
      "cell_type": "markdown",
      "metadata": {
        "id": "1x_-LLZaw7tN",
        "colab_type": "text"
      },
      "source": [
        "# Basic Modeling in scikit-learn\n"
      ]
    },
    {
      "cell_type": "markdown",
      "metadata": {
        "id": "uPgjC4jBw-2H",
        "colab_type": "text"
      },
      "source": [
        "## Modeling steps"
      ]
    },
    {
      "cell_type": "markdown",
      "metadata": {
        "id": "e9z0aw6oyDD9",
        "colab_type": "text"
      },
      "source": [
        "C. .validate()"
      ]
    },
    {
      "cell_type": "markdown",
      "metadata": {
        "id": "JqACBm76yHYK",
        "colab_type": "text"
      },
      "source": [
        "## Seen vs. unseen data"
      ]
    },
    {
      "cell_type": "code",
      "metadata": {
        "id": "_ULX_D5WyJVe",
        "colab_type": "code",
        "colab": {}
      },
      "source": [
        "# The model is fit using X_train and y_train\n",
        "model.fit(X_train, y_train)\n",
        "\n",
        "# Create vectors of predictions\n",
        "train_predictions = model.predict(X_train)\n",
        "test_predictions = model.predict(X_test)\n",
        "\n",
        "# Train/Test Errors\n",
        "train_error = mae(y_true=y_train, y_pred=train_predictions)\n",
        "test_error = mae(y_true=y_test, y_pred=test_predictions)\n",
        "\n",
        "# Print the accuracy for seen and unseen data\n",
        "print(\"Model error on seen data: {0:.2f}.\".format(train_error))\n",
        "print(\"Model error on unseen data: {0:.2f}.\".format(test_error))"
      ],
      "execution_count": null,
      "outputs": []
    },
    {
      "cell_type": "markdown",
      "metadata": {
        "id": "lrnDJs_BzRBM",
        "colab_type": "text"
      },
      "source": [
        "## Set parameters and fit a model"
      ]
    },
    {
      "cell_type": "code",
      "metadata": {
        "id": "8TKRWcXizRYs",
        "colab_type": "code",
        "colab": {}
      },
      "source": [
        "# Set the number of trees\n",
        "rfr.n_estimators = 100\n",
        "\n",
        "# Add a maximum depth\n",
        "rfr.max_depth = 6\n",
        "\n",
        "# Set the random state\n",
        "rfr.random_state = 1111\n",
        "\n",
        "# Fit the model\n",
        "rfr.fit(X_train, y_train)"
      ],
      "execution_count": null,
      "outputs": []
    },
    {
      "cell_type": "markdown",
      "metadata": {
        "id": "CVqhVdsGzjh3",
        "colab_type": "text"
      },
      "source": [
        "## Feature importances"
      ]
    },
    {
      "cell_type": "code",
      "metadata": {
        "id": "ABOa4Z9Lzj7K",
        "colab_type": "code",
        "colab": {}
      },
      "source": [
        "# Fit the model using X and y\n",
        "rfr.fit(X_train, y_train)\n",
        "\n",
        "# Print how important each column is to the model\n",
        "for i, item in enumerate(rfr.feature_importances_):\n",
        "      # Use i and item to print out the feature importance of each column\n",
        "    print(\"{0:s}: {1:.2f}\".format(X_train.columns[i], item))"
      ],
      "execution_count": null,
      "outputs": []
    },
    {
      "cell_type": "markdown",
      "metadata": {
        "id": "XiDLsMnR0v0R",
        "colab_type": "text"
      },
      "source": [
        "## Classification predictions"
      ]
    },
    {
      "cell_type": "code",
      "metadata": {
        "id": "ipVxQOr90wK-",
        "colab_type": "code",
        "colab": {}
      },
      "source": [
        "# Fit the rfc model. \n",
        "rfc.fit(X_train, y_train)\n",
        "\n",
        "# Create arrays of predictions\n",
        "classification_predictions = rfc.predict(X_test)\n",
        "probability_predictions = rfc.predict_proba(X_test)\n",
        "\n",
        "# Print out count of binary predictions\n",
        "print(pd.Series(classification_predictions).value_counts())\n",
        "\n",
        "# Print the first value from probability_predictions\n",
        "print('The first predicted probabilities are: {}'.format(probability_predictions[0]))"
      ],
      "execution_count": null,
      "outputs": []
    },
    {
      "cell_type": "markdown",
      "metadata": {
        "id": "U73wGWU31LNq",
        "colab_type": "text"
      },
      "source": [
        "## Reusing model parameters"
      ]
    },
    {
      "cell_type": "code",
      "metadata": {
        "id": "Uc8yMGd61L0f",
        "colab_type": "code",
        "colab": {}
      },
      "source": [
        "rfc = RandomForestClassifier(n_estimators=50, max_depth=6, random_state=1111)\n",
        "\n",
        "# Print the classification model\n",
        "print(rfc)\n",
        "\n",
        "# Print the classification model's random state parameter\n",
        "print('The random state is: {}'.format(rfc.get_params()['random_state']))\n",
        "\n",
        "# Print all parameters\n",
        "print('Printing the parameters dictionary: {}'.format(rfc.get_params()))"
      ],
      "execution_count": null,
      "outputs": []
    },
    {
      "cell_type": "markdown",
      "metadata": {
        "id": "BkqR1rpS1gGb",
        "colab_type": "text"
      },
      "source": [
        "## Random forest classifier"
      ]
    },
    {
      "cell_type": "code",
      "metadata": {
        "id": "iJHjjb2A1gef",
        "colab_type": "code",
        "colab": {}
      },
      "source": [
        "from sklearn.ensemble import RandomForestClassifier\n",
        "\n",
        "# Create a random forest classifier\n",
        "rfc = RandomForestClassifier(n_estimators=50, max_depth=6, random_state=1111)"
      ],
      "execution_count": null,
      "outputs": []
    },
    {
      "cell_type": "code",
      "metadata": {
        "id": "zL_V7rQi1v-N",
        "colab_type": "code",
        "colab": {}
      },
      "source": [
        "from sklearn.ensemble import RandomForestClassifier\n",
        "\n",
        "# Create a random forest classifier\n",
        "rfc = RandomForestClassifier(n_estimators=50, max_depth=6, random_state=1111)\n",
        "\n",
        "# Fit rfc using X_train and y_train\n",
        "rfc.fit(X_train, y_train)"
      ],
      "execution_count": null,
      "outputs": []
    },
    {
      "cell_type": "code",
      "metadata": {
        "id": "LkLqm7MZ1y3i",
        "colab_type": "code",
        "colab": {}
      },
      "source": [
        "from sklearn.ensemble import RandomForestClassifier\n",
        "\n",
        "# Create a random forest classifier\n",
        "rfc = RandomForestClassifier(n_estimators=50, max_depth=6, random_state=1111)\n",
        "\n",
        "# Fit rfc using X_train and y_train\n",
        "rfc.fit(X_train, y_train)\n",
        "\n",
        "# Create predictions on X_test\n",
        "predictions = rfc.predict(X_test)\n",
        "print(predictions[0:5])"
      ],
      "execution_count": null,
      "outputs": []
    },
    {
      "cell_type": "code",
      "metadata": {
        "id": "1m7A6HmP12Qi",
        "colab_type": "code",
        "colab": {}
      },
      "source": [
        "from sklearn.ensemble import RandomForestClassifier\n",
        "\n",
        "# Create a random forest classifier\n",
        "rfc = RandomForestClassifier(n_estimators=50, max_depth=6, random_state=1111)\n",
        "\n",
        "# Fit rfc using X_train and y_train\n",
        "rfc.fit(X_train, y_train)\n",
        "\n",
        "# Create predictions on X_test\n",
        "predictions = rfc.predict(X_test)\n",
        "print(predictions[0:5])\n",
        "\n",
        "# Print model accuracy using score() and the testing data\n",
        "print(rfc.score(X_test, y_test))"
      ],
      "execution_count": null,
      "outputs": []
    }
  ]
}