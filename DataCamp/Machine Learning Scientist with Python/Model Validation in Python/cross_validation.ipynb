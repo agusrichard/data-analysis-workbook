{
  "nbformat": 4,
  "nbformat_minor": 0,
  "metadata": {
    "colab": {
      "name": "cross_validation.ipynb",
      "provenance": []
    },
    "kernelspec": {
      "name": "python3",
      "display_name": "Python 3"
    }
  },
  "cells": [
    {
      "cell_type": "markdown",
      "metadata": {
        "id": "9mzLXI-lSW6_",
        "colab_type": "text"
      },
      "source": [
        "# Cross Validation"
      ]
    },
    {
      "cell_type": "markdown",
      "metadata": {
        "id": "E6GfS5tcTAEt",
        "colab_type": "text"
      },
      "source": [
        "## Two samples"
      ]
    },
    {
      "cell_type": "code",
      "metadata": {
        "id": "_kyZA0vETDxp",
        "colab_type": "code",
        "colab": {}
      },
      "source": [
        "# Create two different samples of 200 observations \n",
        "sample1 = tic_tac_toe.sample(200, random_state=1111)\n",
        "sample2 = tic_tac_toe.sample(200, random_state=1171)"
      ],
      "execution_count": null,
      "outputs": []
    },
    {
      "cell_type": "code",
      "metadata": {
        "id": "YR7NvAHzTVLq",
        "colab_type": "code",
        "colab": {}
      },
      "source": [
        "# Create two different samples of 200 observations \n",
        "sample1 = tic_tac_toe.sample(200, random_state=1111)\n",
        "sample2 = tic_tac_toe.sample(200, random_state=1171)\n",
        "\n",
        "# Print the number of common observations \n",
        "print(len([index for index in sample1.index if index in sample2.index]))"
      ],
      "execution_count": null,
      "outputs": []
    },
    {
      "cell_type": "code",
      "metadata": {
        "id": "J7iqF_IITuBa",
        "colab_type": "code",
        "colab": {}
      },
      "source": [
        "# Create two different samples of 200 observations \n",
        "sample1 = tic_tac_toe.sample(200, random_state=1111)\n",
        "sample2 = tic_tac_toe.sample(200, random_state=1171)\n",
        "\n",
        "# Print the number of common observations \n",
        "print(len([index for index in sample1.index if index in sample2.index]))\n",
        "\n",
        "# Print the number of observations in the Class column for both samples \n",
        "print(sample1['Class'].value_counts())\n",
        "print(sample2['Class'].value_counts())"
      ],
      "execution_count": null,
      "outputs": []
    },
    {
      "cell_type": "markdown",
      "metadata": {
        "id": "qS_4Yh2_T4yq",
        "colab_type": "text"
      },
      "source": [
        "## Potential problems"
      ]
    },
    {
      "cell_type": "markdown",
      "metadata": {
        "id": "Fo6hzVVHT5Lr",
        "colab_type": "text"
      },
      "source": [
        "C. A & B"
      ]
    },
    {
      "cell_type": "markdown",
      "metadata": {
        "id": "H4uAoLEQUN3S",
        "colab_type": "text"
      },
      "source": [
        "## scikit-learn's KFold()"
      ]
    },
    {
      "cell_type": "code",
      "metadata": {
        "id": "04RvcJM3VEXd",
        "colab_type": "code",
        "colab": {}
      },
      "source": [
        "from sklearn.model_selection import KFold\n",
        "\n",
        "# Use KFold\n",
        "kf = KFold(n_splits=5, shuffle=True, random_state=1111)\n",
        "\n",
        "# Create splits\n",
        "splits = kf.split(X)\n",
        "\n",
        "# Print the number of indices\n",
        "for train_index, val_index in splits:\n",
        "    print(\"Number of training indices: %s\" % len(train_index))\n",
        "    print(\"Number of validation indices: %s\" % len(val_index))"
      ],
      "execution_count": null,
      "outputs": []
    },
    {
      "cell_type": "markdown",
      "metadata": {
        "id": "MoBV_T8QVaxf",
        "colab_type": "text"
      },
      "source": [
        "## Using KFold indices"
      ]
    },
    {
      "cell_type": "code",
      "metadata": {
        "id": "qNRuFA3sVbJp",
        "colab_type": "code",
        "colab": {}
      },
      "source": [
        "from sklearn.ensemble import RandomForestRegressor\n",
        "from sklearn.metrics import mean_squared_error\n",
        "\n",
        "rfc = RandomForestRegressor(n_estimators=25, random_state=1111)\n",
        "\n",
        "# Access the training and validation indices of splits\n",
        "for train_index, val_index in splits:\n",
        "    # Setup the training and validation data\n",
        "    X_train, y_train = X[train_index], y[train_index]\n",
        "    X_val, y_val = X[val_index], y[val_index]\n",
        "    # Fit the random forest model\n",
        "    rfc.fit(X_train, y_train)\n",
        "    # Make predictions, and print the accuracy\n",
        "    predictions = rfc.predict(X_val)\n",
        "    print(\"Split accuracy: \" + str(mean_squared_error(y_val, predictions)))"
      ],
      "execution_count": null,
      "outputs": []
    },
    {
      "cell_type": "markdown",
      "metadata": {
        "id": "01yO8xVsWgnx",
        "colab_type": "text"
      },
      "source": [
        "## scikit-learn's methods"
      ]
    },
    {
      "cell_type": "code",
      "metadata": {
        "id": "zPzhD869Wg9-",
        "colab_type": "code",
        "colab": {}
      },
      "source": [
        "# Instruction 1: Load the cross-validation method\n",
        "from sklearn.model_selection import cross_val_score\n",
        "\n",
        "# Instruction 2: Load the random forest regression model\n",
        "from sklearn.ensemble import RandomForestRegressor\n",
        "\n",
        "# Instruction 3: Load the mean squared error method\n",
        "# Instruction 4: Load the function for creating a scorer\n",
        "from sklearn.metrics import mean_squared_error, make_scorer"
      ],
      "execution_count": null,
      "outputs": []
    },
    {
      "cell_type": "markdown",
      "metadata": {
        "id": "kkYH9ZyTW2YS",
        "colab_type": "text"
      },
      "source": [
        "## Implement cross_val_score()"
      ]
    },
    {
      "cell_type": "code",
      "metadata": {
        "id": "22dp5lXDW2wd",
        "colab_type": "code",
        "colab": {}
      },
      "source": [
        "rfc = RandomForestRegressor(n_estimators=25, random_state=1111)\n",
        "mse = make_scorer(mean_squared_error)\n",
        "\n",
        "# Set up cross_val_score\n",
        "cv = cross_val_score(estimator=rfc,\n",
        "                     X=X_train,\n",
        "                     y=y_train,\n",
        "                     cv=10,\n",
        "                     scoring=mse)\n",
        "\n",
        "# Print the mean error\n",
        "print(cv.mean())"
      ],
      "execution_count": null,
      "outputs": []
    },
    {
      "cell_type": "markdown",
      "metadata": {
        "id": "T2y-nN_tXo-C",
        "colab_type": "text"
      },
      "source": [
        "## When to use LOOCV"
      ]
    },
    {
      "cell_type": "markdown",
      "metadata": {
        "id": "oNcK7pYFXpW0",
        "colab_type": "text"
      },
      "source": [
        "C. A & C"
      ]
    },
    {
      "cell_type": "markdown",
      "metadata": {
        "id": "eheeBTo4Xu3N",
        "colab_type": "text"
      },
      "source": [
        "## Leave-one-out-cross-validation"
      ]
    },
    {
      "cell_type": "code",
      "metadata": {
        "id": "p2bgf4QrXy_q",
        "colab_type": "code",
        "colab": {}
      },
      "source": [
        "from sklearn.metrics import mean_absolute_error, make_scorer\n",
        "\n",
        "# Create scorer\n",
        "mae_scorer = make_scorer(mean_absolute_error)\n",
        "\n",
        "rfr = RandomForestRegressor(n_estimators=15, random_state=1111)\n",
        "\n",
        "# Implement LOOCV\n",
        "scores = cross_val_score(rfr, X=X, y=y, cv=X.shape[0], scoring=mae_scorer)\n",
        "\n",
        "# Print the mean and standard deviation\n",
        "print(\"The mean of the errors is: %s.\" % np.mean(scores))\n",
        "print(\"The standard deviation of the errors is: %s.\" % np.std(scores))"
      ],
      "execution_count": null,
      "outputs": []
    }
  ]
}