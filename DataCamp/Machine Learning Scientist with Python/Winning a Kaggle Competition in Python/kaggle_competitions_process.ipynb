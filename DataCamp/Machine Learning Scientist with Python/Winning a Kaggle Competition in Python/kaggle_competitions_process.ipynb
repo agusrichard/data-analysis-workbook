{
  "nbformat": 4,
  "nbformat_minor": 0,
  "metadata": {
    "colab": {
      "name": "kaggle_competitions_process.ipynb",
      "provenance": []
    },
    "kernelspec": {
      "name": "python3",
      "display_name": "Python 3"
    }
  },
  "cells": [
    {
      "cell_type": "markdown",
      "metadata": {
        "id": "I4V_uBu2UG6T",
        "colab_type": "text"
      },
      "source": [
        "# Kaggle competitions process\n"
      ]
    },
    {
      "cell_type": "markdown",
      "metadata": {
        "id": "opMboKw_W8qw",
        "colab_type": "text"
      },
      "source": [
        "## Explore train data"
      ]
    },
    {
      "cell_type": "code",
      "metadata": {
        "id": "Koi4nSyVXAmO",
        "colab_type": "code",
        "colab": {}
      },
      "source": [
        "# Import pandas\n",
        "import pandas as pd\n",
        "\n",
        "# Read train data\n",
        "train = pd.read_csv('train.csv')\n",
        "\n",
        "# Look at the shape of the data\n",
        "print('Train shape:', train.shape)\n",
        "\n",
        "# Look at the head() of the data\n",
        "print(train.head())"
      ],
      "execution_count": null,
      "outputs": []
    },
    {
      "cell_type": "markdown",
      "metadata": {
        "id": "yYgVexLeXMVw",
        "colab_type": "text"
      },
      "source": [
        "## Explore test data"
      ]
    },
    {
      "cell_type": "code",
      "metadata": {
        "id": "CC5SVpuzXMs_",
        "colab_type": "code",
        "colab": {}
      },
      "source": [
        "import pandas as pd\n",
        "\n",
        "# Read the test data\n",
        "test = pd.read_csv('test.csv')\n",
        "\n",
        "# Print train and test columns\n",
        "print('Train columns:', train.columns.tolist())\n",
        "print('Test columns:', test.columns.tolist())"
      ],
      "execution_count": null,
      "outputs": []
    },
    {
      "cell_type": "code",
      "metadata": {
        "id": "TnkC14SXXZ0I",
        "colab_type": "code",
        "colab": {}
      },
      "source": [
        "import pandas as pd\n",
        "\n",
        "# Read the test data\n",
        "test = pd.read_csv('test.csv')\n",
        "# Print train and test columns\n",
        "print('Train columns:', train.columns.tolist())\n",
        "print('Test columns:', test.columns.tolist())\n",
        "\n",
        "# Read the sample submission file\n",
        "sample_submission = pd.read_csv('sample_submission.csv')\n",
        "\n",
        "# Look at the head() of the sample submission\n",
        "print(sample_submission.head())"
      ],
      "execution_count": null,
      "outputs": []
    },
    {
      "cell_type": "markdown",
      "metadata": {
        "id": "wFOawD4MYH_p",
        "colab_type": "text"
      },
      "source": [
        "## Determine a problem type"
      ]
    },
    {
      "cell_type": "markdown",
      "metadata": {
        "id": "If5p-Oa5YIhW",
        "colab_type": "text"
      },
      "source": [
        "B. Regression."
      ]
    },
    {
      "cell_type": "markdown",
      "metadata": {
        "id": "B36BfAx5YQyA",
        "colab_type": "text"
      },
      "source": [
        "## Train a simple model"
      ]
    },
    {
      "cell_type": "code",
      "metadata": {
        "id": "caQK1X1cYTNJ",
        "colab_type": "code",
        "colab": {}
      },
      "source": [
        "import pandas as pd\n",
        "from sklearn.ensemble import RandomForestRegressor\n",
        "\n",
        "# Read the train data\n",
        "train = pd.read_csv('train.csv')\n",
        "\n",
        "# Create a Random Forest object\n",
        "rf = RandomForestRegressor()\n",
        "\n",
        "# Train a model\n",
        "rf.fit(X=train[['store', 'item']], y=train['sales'])"
      ],
      "execution_count": null,
      "outputs": []
    },
    {
      "cell_type": "markdown",
      "metadata": {
        "id": "z3tkRLhlYgo-",
        "colab_type": "text"
      },
      "source": [
        "## Prepare a submission"
      ]
    },
    {
      "cell_type": "code",
      "metadata": {
        "id": "kiMMlMmhYhBo",
        "colab_type": "code",
        "colab": {}
      },
      "source": [
        "# Read test and sample submission data\n",
        "test = pd.read_csv('test.csv')\n",
        "sample_submission = pd.read_csv('sample_submission.csv')\n",
        "\n",
        "# Show the head() of the sample_submission\n",
        "print(sample_submission.head())"
      ],
      "execution_count": null,
      "outputs": []
    },
    {
      "cell_type": "code",
      "metadata": {
        "id": "Kpmb6Od1Yxt9",
        "colab_type": "code",
        "colab": {}
      },
      "source": [
        "# Read test and sample submission data\n",
        "test = pd.read_csv('test.csv')\n",
        "sample_submission = pd.read_csv('sample_submission.csv')\n",
        "\n",
        "# Show the head() of the sample_submission\n",
        "print(sample_submission.head())\n",
        "\n",
        "# Get predictions for the test set\n",
        "test['sales'] = rf.predict(test[['store', 'item']])\n",
        "\n",
        "# Write test predictions using the sample_submission format\n",
        "test[['id', 'sales']].to_csv('kaggle_submission.csv', index=False)"
      ],
      "execution_count": null,
      "outputs": []
    },
    {
      "cell_type": "markdown",
      "metadata": {
        "id": "LGU3C7uGZrxs",
        "colab_type": "text"
      },
      "source": [
        "## What model is overfitting?"
      ]
    },
    {
      "cell_type": "markdown",
      "metadata": {
        "id": "Qoejn4-7ZsVL",
        "colab_type": "text"
      },
      "source": [
        "D. Model 4."
      ]
    },
    {
      "cell_type": "markdown",
      "metadata": {
        "id": "7pxrgcjmZ4cI",
        "colab_type": "text"
      },
      "source": [
        "## Train XGBoost models"
      ]
    },
    {
      "cell_type": "code",
      "metadata": {
        "id": "SrjESoNhZ6mj",
        "colab_type": "code",
        "colab": {}
      },
      "source": [
        "import xgboost as xgb\n",
        "\n",
        "# Create DMatrix on train data\n",
        "dtrain = xgb.DMatrix(data=train[['store', 'item']],\n",
        "                     label=train['sales'])\n",
        "\n",
        "# Define xgboost parameters\n",
        "params = {'objective': 'reg:linear',\n",
        "          'max_depth': 2,\n",
        "          'silent': 1}\n",
        "\n",
        "# Train xgboost model\n",
        "xg_depth_2 = xgb.train(params=params, dtrain=dtrain)"
      ],
      "execution_count": null,
      "outputs": []
    },
    {
      "cell_type": "code",
      "metadata": {
        "id": "opJH3lgAaDHQ",
        "colab_type": "code",
        "colab": {}
      },
      "source": [
        "import xgboost as xgb\n",
        "\n",
        "# Create DMatrix on train data\n",
        "dtrain = xgb.DMatrix(data=train[['store', 'item']],\n",
        "                     label=train['sales'])\n",
        "\n",
        "# Define xgboost parameters\n",
        "params = {'objective': 'reg:linear',\n",
        "          'max_depth': 8,\n",
        "          'silent': 1}\n",
        "\n",
        "# Train xgboost model\n",
        "xg_depth_8 = xgb.train(params=params, dtrain=dtrain)"
      ],
      "execution_count": null,
      "outputs": []
    },
    {
      "cell_type": "code",
      "metadata": {
        "id": "BgEFKxmNaHqa",
        "colab_type": "code",
        "colab": {}
      },
      "source": [
        "import xgboost as xgb\n",
        "\n",
        "# Create DMatrix on train data\n",
        "dtrain = xgb.DMatrix(data=train[['store', 'item']],\n",
        "                     label=train['sales'])\n",
        "\n",
        "# Define xgboost parameters\n",
        "params = {'objective': 'reg:linear',\n",
        "          'max_depth': 15,\n",
        "          'silent': 1}\n",
        "\n",
        "# Train xgboost model\n",
        "xg_depth_15 = xgb.train(params=params, dtrain=dtrain)"
      ],
      "execution_count": null,
      "outputs": []
    },
    {
      "cell_type": "markdown",
      "metadata": {
        "id": "N1MurtN-aJ_n",
        "colab_type": "text"
      },
      "source": [
        "## Explore overfitting XGBoost"
      ]
    },
    {
      "cell_type": "code",
      "metadata": {
        "id": "JKl8lQwXaKZa",
        "colab_type": "code",
        "colab": {}
      },
      "source": [
        "from sklearn.metrics import mean_squared_error\n",
        "\n",
        "dtrain = xgb.DMatrix(data=train[['store', 'item']])\n",
        "dtest = xgb.DMatrix(data=test[['store', 'item']])\n",
        "\n",
        "# For each of 3 trained models\n",
        "for model in [xg_depth_2, xg_depth_8, xg_depth_15]:\n",
        "    # Make predictions\n",
        "    train_pred = model.predict(dtrain)     \n",
        "    test_pred = model.predict(dtest)          \n",
        "    \n",
        "    # Calculate metrics\n",
        "    mse_train = mean_squared_error(train['sales'], train_pred)                  \n",
        "    mse_test = mean_squared_error(test['sales'], test_pred)\n",
        "    print('MSE Train: {:.3f}. MSE Test: {:.3f}'.format(mse_train, mse_test))"
      ],
      "execution_count": null,
      "outputs": []
    }
  ]
}