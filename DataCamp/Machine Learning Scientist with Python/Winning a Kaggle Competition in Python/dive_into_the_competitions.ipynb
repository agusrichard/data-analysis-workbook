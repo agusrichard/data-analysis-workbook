{
  "nbformat": 4,
  "nbformat_minor": 0,
  "metadata": {
    "colab": {
      "name": "dive_into_the_competitions.ipynb",
      "provenance": []
    },
    "kernelspec": {
      "name": "python3",
      "display_name": "Python 3"
    }
  },
  "cells": [
    {
      "cell_type": "markdown",
      "metadata": {
        "id": "mIVrkAVqav_x",
        "colab_type": "text"
      },
      "source": [
        "# Dive into the Competition"
      ]
    },
    {
      "cell_type": "markdown",
      "metadata": {
        "id": "3uL7yBgwbAcj",
        "colab_type": "text"
      },
      "source": [
        "## Understand the problem type"
      ]
    },
    {
      "cell_type": "markdown",
      "metadata": {
        "id": "-YkJuZGPbvyW",
        "colab_type": "text"
      },
      "source": [
        "A. This is a regression problem with tabular, time series, image and text data."
      ]
    },
    {
      "cell_type": "markdown",
      "metadata": {
        "id": "w1nSL6hNb5s4",
        "colab_type": "text"
      },
      "source": [
        "## Define a competition metric"
      ]
    },
    {
      "cell_type": "code",
      "metadata": {
        "id": "JYPuhCZhb7kx",
        "colab_type": "code",
        "colab": {}
      },
      "source": [
        "import numpy as np\n",
        "\n",
        "# Import MSE from sklearn\n",
        "from sklearn.metrics import mean_squared_error\n",
        "\n",
        "# Define your own MSE function\n",
        "def own_mse(y_true, y_pred):\n",
        "  \t# Raise differences to the power of 2\n",
        "    squares = np.power(y_true - y_pred, 2)\n",
        "    # Find mean over all observations\n",
        "    err = np.mean(squares)\n",
        "    return err\n",
        "\n",
        "print('Sklearn MSE: {:.5f}. '.format(mean_squared_error(y_regression_true, y_regression_pred)))\n",
        "print('Your MSE: {:.5f}. '.format(own_mse(y_regression_true, y_regression_pred)))"
      ],
      "execution_count": null,
      "outputs": []
    },
    {
      "cell_type": "code",
      "metadata": {
        "id": "3zwwKugRcVRt",
        "colab_type": "code",
        "colab": {}
      },
      "source": [
        "import numpy as np\n",
        "\n",
        "# Import log_loss from sklearn\n",
        "from sklearn.metrics import log_loss\n",
        "\n",
        "# Define your own LogLoss function\n",
        "def own_logloss(y_true, prob_pred):\n",
        "  \t# Find loss for each observation\n",
        "    terms = y_true * np.log(prob_pred) + (1 - y_true) * np.log(1 - prob_pred)\n",
        "    # Find mean over all observations\n",
        "    err = np.mean(terms) \n",
        "    return -err\n",
        "\n",
        "print('Sklearn LogLoss: {:.5f}'.format(log_loss(y_classification_true, y_classification_pred)))\n",
        "print('Your LogLoss: {:.5f}'.format(own_logloss(y_classification_true, y_classification_pred)))"
      ],
      "execution_count": null,
      "outputs": []
    },
    {
      "cell_type": "markdown",
      "metadata": {
        "id": "079tLQCsdaW7",
        "colab_type": "text"
      },
      "source": [
        "## EDA statistics"
      ]
    },
    {
      "cell_type": "code",
      "metadata": {
        "id": "RbXOQgnCdawA",
        "colab_type": "code",
        "colab": {}
      },
      "source": [
        "# Shapes of train and test data\n",
        "print('Train shape:', train.shape)\n",
        "print('Test shape:', test.shape)\n",
        "\n",
        "# Train head()\n",
        "print(train.head())"
      ],
      "execution_count": null,
      "outputs": []
    },
    {
      "cell_type": "code",
      "metadata": {
        "id": "-9BJ3Jj6dn1g",
        "colab_type": "code",
        "colab": {}
      },
      "source": [
        "# Shapes of train and test data\n",
        "print('Train shape:', train.shape)\n",
        "print('Test shape:', test.shape)\n",
        "\n",
        "# Train head()\n",
        "print(train.head())\n",
        "\n",
        "# Describe the target variable\n",
        "print(train.fare_amount.describe())\n",
        "\n",
        "# Train distribution of passengers within rides\n",
        "print(train.passenger_count.value_counts())"
      ],
      "execution_count": null,
      "outputs": []
    },
    {
      "cell_type": "markdown",
      "metadata": {
        "id": "sTlmFk-PdqqE",
        "colab_type": "text"
      },
      "source": [
        "## EDA plots I"
      ]
    },
    {
      "cell_type": "code",
      "metadata": {
        "id": "DLIZpKKgdrDg",
        "colab_type": "code",
        "colab": {}
      },
      "source": [
        "# Calculate the ride distance\n",
        "train['distance_km'] = haversine_distance(train)\n",
        "\n",
        "# Draw a scatterplot\n",
        "plt.scatter(x=train['fare_amount'], y=train['distance_km'], alpha=0.5)\n",
        "plt.xlabel('Fare amount')\n",
        "plt.ylabel('Distance, km')\n",
        "plt.title('Fare amount based on the distance')\n",
        "\n",
        "# Limit on the distance\n",
        "plt.ylim(0, 50)\n",
        "plt.show()"
      ],
      "execution_count": null,
      "outputs": []
    },
    {
      "cell_type": "markdown",
      "metadata": {
        "id": "wXI1Mo5geA6K",
        "colab_type": "text"
      },
      "source": [
        "## EDA plots II"
      ]
    },
    {
      "cell_type": "code",
      "metadata": {
        "id": "t_bcIlANeBUr",
        "colab_type": "code",
        "colab": {}
      },
      "source": [
        "# Create hour feature\n",
        "train['pickup_datetime'] = pd.to_datetime(train.pickup_datetime)\n",
        "train['hour'] = train.pickup_datetime.dt.hour\n",
        "\n",
        "# Find median fare_amount for each hour\n",
        "hour_price = train.groupby('hour', as_index=False)['fare_amount'].median()\n",
        "\n",
        "# Plot the line plot\n",
        "plt.plot(hour_price['hour'], hour_price['fare_amount'], marker='o')\n",
        "plt.xlabel('Hour of the day')\n",
        "plt.ylabel('Median fare amount')\n",
        "plt.title('Fare amount based on day time')\n",
        "plt.xticks(range(24))\n",
        "plt.show()"
      ],
      "execution_count": null,
      "outputs": []
    },
    {
      "cell_type": "markdown",
      "metadata": {
        "id": "eCEvKBkufMFj",
        "colab_type": "text"
      },
      "source": [
        "## K-fold cross-validation"
      ]
    },
    {
      "cell_type": "code",
      "metadata": {
        "id": "Qm0bMKXNfMcy",
        "colab_type": "code",
        "colab": {}
      },
      "source": [
        "# Import KFold\n",
        "from sklearn.model_selection import KFold\n",
        "\n",
        "# Create a KFold object\n",
        "kf = KFold(n_splits=3, shuffle=True, random_state=123)\n",
        "\n",
        "# Loop through each split\n",
        "fold = 0\n",
        "for train_index, test_index in kf.split(train):\n",
        "    # Obtain training and testing folds\n",
        "    cv_train, cv_test = train.iloc[train_index], train.iloc[test_index]\n",
        "    print('Fold: {}'.format(fold))\n",
        "    print('CV train shape: {}'.format(cv_train.shape))\n",
        "    print('Medium interest listings in CV train: {}\\n'.format(sum(cv_train.interest_level == 'medium')))\n",
        "    fold += 1"
      ],
      "execution_count": null,
      "outputs": []
    },
    {
      "cell_type": "markdown",
      "metadata": {
        "id": "_gi9s0gtfYb-",
        "colab_type": "text"
      },
      "source": [
        "## Stratified K-fold"
      ]
    },
    {
      "cell_type": "code",
      "metadata": {
        "id": "z_Pdlp1yfYza",
        "colab_type": "code",
        "colab": {}
      },
      "source": [
        "# Import StratifiedKFold\n",
        "from sklearn.model_selection import StratifiedKFold\n",
        "\n",
        "# Create a StratifiedKFold object\n",
        "str_kf = StratifiedKFold(n_splits=3, shuffle=True, random_state=123)\n",
        "\n",
        "# Loop through each split\n",
        "fold = 0\n",
        "for train_index, test_index in str_kf.split(train, train['interest_level']):\n",
        "    # Obtain training and testing folds\n",
        "    cv_train, cv_test = train.iloc[train_index], train.iloc[test_index]\n",
        "    print('Fold: {}'.format(fold))\n",
        "    print('CV train shape: {}'.format(cv_train.shape))\n",
        "    print('Medium interest listings in CV train: {}\\n'.format(sum(cv_train.interest_level == 'medium')))\n",
        "    fold += 1"
      ],
      "execution_count": null,
      "outputs": []
    },
    {
      "cell_type": "markdown",
      "metadata": {
        "id": "M9YDzYV5gdNS",
        "colab_type": "text"
      },
      "source": [
        "## Time K-fold"
      ]
    },
    {
      "cell_type": "code",
      "metadata": {
        "id": "-MO0MMiAgdlF",
        "colab_type": "code",
        "colab": {}
      },
      "source": [
        "# Create TimeSeriesSplit object\n",
        "time_kfold = TimeSeriesSplit(n_splits=3)\n",
        "\n",
        "# Sort train data by date\n",
        "train = train.sort_values('date')\n",
        "\n",
        "# Iterate through each split\n",
        "fold = 0\n",
        "for train_index, test_index in time_kfold.split(train):\n",
        "    cv_train, cv_test = train.iloc[train_index], train.iloc[test_index]\n",
        "    \n",
        "    print('Fold :', fold)\n",
        "    print('Train date range: from {} to {}'.format(cv_train.date.min(), cv_train.date.max()))\n",
        "    print('Test date range: from {} to {}\\n'.format(cv_test.date.min(), cv_test.date.max()))\n",
        "    fold += 1"
      ],
      "execution_count": null,
      "outputs": []
    },
    {
      "cell_type": "markdown",
      "metadata": {
        "id": "L-tbhDsHgn_t",
        "colab_type": "text"
      },
      "source": [
        "## Overall validation score"
      ]
    },
    {
      "cell_type": "code",
      "metadata": {
        "id": "uJHZXKCfgoVa",
        "colab_type": "code",
        "colab": {}
      },
      "source": [
        "from sklearn.model_selection import TimeSeriesSplit\n",
        "import numpy as np\n",
        "\n",
        "# Sort train data by date\n",
        "train = train.sort_values('date')\n",
        "\n",
        "# Initialize 3-fold time cross-validation\n",
        "kf = TimeSeriesSplit(n_splits=3)\n",
        "\n",
        "# Get MSE scores for each cross-validation split\n",
        "mse_scores = get_fold_mse(train, kf)\n",
        "\n",
        "print('Mean validation MSE: {:.5f}'.format(np.mean(mse_scores)))"
      ],
      "execution_count": null,
      "outputs": []
    },
    {
      "cell_type": "code",
      "metadata": {
        "id": "UxEsQOd9gwVi",
        "colab_type": "code",
        "colab": {}
      },
      "source": [
        "from sklearn.model_selection import TimeSeriesSplit\n",
        "import numpy as np\n",
        "\n",
        "# Sort train data by date\n",
        "train = train.sort_values('date')\n",
        "\n",
        "# Initialize 3-fold time cross-validation\n",
        "kf = TimeSeriesSplit(n_splits=3)\n",
        "\n",
        "# Get MSE scores for each cross-validation split\n",
        "mse_scores = get_fold_mse(train, kf)\n",
        "\n",
        "print('Mean validation MSE: {:.5f}'.format(np.mean(mse_scores)))\n",
        "print('MSE by fold: {}'.format(mse_scores))"
      ],
      "execution_count": null,
      "outputs": []
    },
    {
      "cell_type": "code",
      "metadata": {
        "id": "L4EAGt1gg1dc",
        "colab_type": "code",
        "colab": {}
      },
      "source": [
        "from sklearn.model_selection import TimeSeriesSplit\n",
        "import numpy as np\n",
        "\n",
        "# Sort train data by date\n",
        "train = train.sort_values('date')\n",
        "\n",
        "# Initialize 3-fold time cross-validation\n",
        "kf = TimeSeriesSplit(n_splits=3)\n",
        "\n",
        "# Get MSE scores for each cross-validation split\n",
        "mse_scores = get_fold_mse(train, kf)\n",
        "\n",
        "print('Mean validation MSE: {:.5f}'.format(np.mean(mse_scores)))\n",
        "print('MSE by fold: {}'.format(mse_scores))\n",
        "print('Overall validation MSE: {:.5f}'.format(np.mean(mse_scores) + np.std(mse_scores)))"
      ],
      "execution_count": null,
      "outputs": []
    }
  ]
}