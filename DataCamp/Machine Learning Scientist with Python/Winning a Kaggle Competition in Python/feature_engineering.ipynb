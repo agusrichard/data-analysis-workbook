{
  "nbformat": 4,
  "nbformat_minor": 0,
  "metadata": {
    "colab": {
      "name": "feature_engineering.ipynb",
      "provenance": []
    },
    "kernelspec": {
      "name": "python3",
      "display_name": "Python 3"
    }
  },
  "cells": [
    {
      "cell_type": "markdown",
      "metadata": {
        "id": "QtYDTFrpkQAq",
        "colab_type": "text"
      },
      "source": [
        "# Feature Engineering"
      ]
    },
    {
      "cell_type": "markdown",
      "metadata": {
        "id": "5RV1bVOWj7uD",
        "colab_type": "text"
      },
      "source": [
        "## Arithmetical features"
      ]
    },
    {
      "cell_type": "code",
      "metadata": {
        "id": "V_5oLTLbj8IQ",
        "colab_type": "code",
        "colab": {}
      },
      "source": [
        "# Look at the initial RMSE\n",
        "print('RMSE before feature engineering:', get_kfold_rmse(train))\n",
        "\n",
        "# Find the total area of the house\n",
        "train['TotalArea'] = train['TotalBsmtSF'] + train[\"FirstFlrSF\"] + train[\"SecondFlrSF\"]\n",
        "\n",
        "# Look at the updated RMSE\n",
        "print('RMSE with total area:', get_kfold_rmse(train))"
      ],
      "execution_count": null,
      "outputs": []
    },
    {
      "cell_type": "code",
      "metadata": {
        "id": "SH6ivxhjkqvD",
        "colab_type": "code",
        "colab": {}
      },
      "source": [
        "# Look at the initial RMSE\n",
        "print('RMSE before feature engineering:', get_kfold_rmse(train))\n",
        "\n",
        "# Find the total area of the house\n",
        "train['TotalArea'] = train['TotalBsmtSF'] + train['FirstFlrSF'] + train['SecondFlrSF']\n",
        "print('RMSE with total area:', get_kfold_rmse(train))\n",
        "\n",
        "# Find the area of the garden\n",
        "train['GardenArea'] = train[\"LotArea\"] - train[\"FirstFlrSF\"]\n",
        "print('RMSE with garden area:', get_kfold_rmse(train))"
      ],
      "execution_count": null,
      "outputs": []
    },
    {
      "cell_type": "code",
      "metadata": {
        "id": "M02GuZc8kyer",
        "colab_type": "code",
        "colab": {}
      },
      "source": [
        "# Look at the initial RMSE\n",
        "print('RMSE before feature engineering:', get_kfold_rmse(train))\n",
        "\n",
        "# Find the total area of the house\n",
        "train['TotalArea'] = train['TotalBsmtSF'] + train['FirstFlrSF'] + train['SecondFlrSF']\n",
        "print('RMSE with total area:', get_kfold_rmse(train))\n",
        "\n",
        "# Find the area of the garden\n",
        "train['GardenArea'] = train['LotArea'] - train['FirstFlrSF']\n",
        "print('RMSE with garden area:', get_kfold_rmse(train))\n",
        "\n",
        "# Find total number of bathrooms\n",
        "train['TotalBath'] = train['FullBath'] + train['HalfBath']\n",
        "print('RMSE with number of bathrooms:', get_kfold_rmse(train))"
      ],
      "execution_count": null,
      "outputs": []
    },
    {
      "cell_type": "markdown",
      "metadata": {
        "id": "urcjtvEnk4C9",
        "colab_type": "text"
      },
      "source": [
        "## Date features"
      ]
    },
    {
      "cell_type": "code",
      "metadata": {
        "id": "JBgN7XUrk4aB",
        "colab_type": "code",
        "colab": {}
      },
      "source": [
        "# Concatenate train and test together\n",
        "taxi = pd.concat([train, test])\n",
        "\n",
        "# Convert pickup date to datetime object\n",
        "taxi['pickup_datetime'] = pd.to_datetime(taxi['pickup_datetime'])\n",
        "\n",
        "# Create a day of week feature\n",
        "taxi['dayofweek'] = taxi['pickup_datetime'].dt.dayofweek\n",
        "\n",
        "# Create an hour feature\n",
        "taxi['hour'] = taxi['pickup_datetime'].dt.hour\n",
        "\n",
        "# Split back into train and test\n",
        "new_train = taxi[taxi['id'].isin(train['id'])]\n",
        "new_test = taxi[taxi['id'].isin(test['id'])]"
      ],
      "execution_count": null,
      "outputs": []
    },
    {
      "cell_type": "markdown",
      "metadata": {
        "id": "I1Ggd1WXlz_W",
        "colab_type": "text"
      },
      "source": [
        "## Label encoding"
      ]
    },
    {
      "cell_type": "code",
      "metadata": {
        "id": "DIaVrioVl0YJ",
        "colab_type": "code",
        "colab": {}
      },
      "source": [
        "# Concatenate train and test together\n",
        "houses = pd.concat([train, test])\n",
        "\n",
        "# Label encoder\n",
        "from sklearn.preprocessing import LabelEncoder\n",
        "le = LabelEncoder()\n",
        "\n",
        "# Create new features\n",
        "houses['RoofStyle_enc'] = le.fit_transform(houses[\"RoofStyle\"])\n",
        "houses['CentralAir_enc'] = le.fit_transform(houses[\"CentralAir\"])\n",
        "\n",
        "# Look at new features\n",
        "print(houses[['RoofStyle', 'RoofStyle_enc', 'CentralAir', 'CentralAir_enc']].head())"
      ],
      "execution_count": null,
      "outputs": []
    },
    {
      "cell_type": "markdown",
      "metadata": {
        "id": "ispdTVoQmBsw",
        "colab_type": "text"
      },
      "source": [
        "## One-Hot encoding"
      ]
    },
    {
      "cell_type": "code",
      "metadata": {
        "id": "4aYSf48zmCEY",
        "colab_type": "code",
        "colab": {}
      },
      "source": [
        "# Concatenate train and test together\n",
        "houses = pd.concat([train, test])\n",
        "\n",
        "# Look at feature distributions\n",
        "print(houses['RoofStyle'].value_counts(), '\\n')\n",
        "print(houses['CentralAir'].value_counts())"
      ],
      "execution_count": null,
      "outputs": []
    },
    {
      "cell_type": "markdown",
      "metadata": {
        "id": "4bvc5G5kmJmG",
        "colab_type": "text"
      },
      "source": [
        "B. \"CentralAir\"."
      ]
    },
    {
      "cell_type": "code",
      "metadata": {
        "id": "iBF_A94YmKh9",
        "colab_type": "code",
        "colab": {}
      },
      "source": [
        "# Concatenate train and test together\n",
        "houses = pd.concat([train, test])\n",
        "\n",
        "# Label encode binary 'CentralAir' feature\n",
        "from sklearn.preprocessing import LabelEncoder\n",
        "le = LabelEncoder()\n",
        "houses['CentralAir_enc'] = le.fit_transform(houses['CentralAir'])"
      ],
      "execution_count": null,
      "outputs": []
    },
    {
      "cell_type": "code",
      "metadata": {
        "id": "JpmV3oRhmV_R",
        "colab_type": "code",
        "colab": {}
      },
      "source": [
        "# Concatenate train and test together\n",
        "houses = pd.concat([train, test])\n",
        "\n",
        "# Label encode binary 'CentralAir' feature\n",
        "from sklearn.preprocessing import LabelEncoder\n",
        "le = LabelEncoder()\n",
        "houses['CentralAir_enc'] = le.fit_transform(houses['CentralAir'])\n",
        "\n",
        "# Create One-Hot encoded features\n",
        "ohe = pd.get_dummies(houses['RoofStyle'], prefix='RoofStyle')\n",
        "\n",
        "# Concatenate OHE features to houses\n",
        "houses = pd.concat([houses, ohe], axis=1)\n",
        "\n",
        "# Look at OHE features\n",
        "print(houses[[col for col in houses.columns if 'RoofStyle' in col]].head(3))"
      ],
      "execution_count": null,
      "outputs": []
    },
    {
      "cell_type": "markdown",
      "metadata": {
        "id": "TYry9ki_nn9Z",
        "colab_type": "text"
      },
      "source": [
        "## Mean target encoding"
      ]
    },
    {
      "cell_type": "code",
      "metadata": {
        "id": "pf_QPAFZnof0",
        "colab_type": "code",
        "colab": {}
      },
      "source": [
        "def test_mean_target_encoding(train, test, target, categorical, alpha=5):\n",
        "    # Calculate global mean on the train data\n",
        "    global_mean = train[target].mean()\n",
        "    \n",
        "    # Group by the categorical feature and calculate its properties\n",
        "    train_groups = train.groupby(categorical)\n",
        "    category_sum = train_groups[target].sum()\n",
        "    category_size = train_groups.size()\n",
        "    \n",
        "    # Calculate smoothed mean target statistics\n",
        "    train_statistics = (category_sum + global_mean * alpha) / (category_size + alpha)\n",
        "    \n",
        "    # Apply statistics to the test data and fill new categories\n",
        "    test_feature = test[categorical].map(train_statistics).fillna(global_mean)\n",
        "    return test_feature.values"
      ],
      "execution_count": null,
      "outputs": []
    },
    {
      "cell_type": "code",
      "metadata": {
        "id": "B67_zuYJn2f0",
        "colab_type": "code",
        "colab": {}
      },
      "source": [
        "def train_mean_target_encoding(train, target, categorical, alpha=5):\n",
        "    # Create 5-fold cross-validation\n",
        "    kf = KFold(n_splits=5, random_state=123, shuffle=True)\n",
        "    train_feature = pd.Series(index=train.index)\n",
        "    \n",
        "    # For each folds split\n",
        "    for train_index, test_index in kf.split(train):\n",
        "        cv_train, cv_test = train.iloc[train_index], train.iloc[test_index]\n",
        "      \n",
        "        # Calculate out-of-fold statistics and apply to cv_test\n",
        "        cv_test_feature = test_mean_target_encoding(cv_train, cv_test, target, categorical, alpha)\n",
        "        \n",
        "        # Save new feature for this particular fold\n",
        "        train_feature.iloc[test_index] = cv_test_feature       \n",
        "    return train_feature.values"
      ],
      "execution_count": null,
      "outputs": []
    },
    {
      "cell_type": "code",
      "metadata": {
        "id": "ROGzsoe_n4Xc",
        "colab_type": "code",
        "colab": {}
      },
      "source": [
        "def mean_target_encoding(train, test, target, categorical, alpha=5):\n",
        "  \n",
        "    # Get the train feature\n",
        "    train_feature = train_mean_target_encoding(train, target, categorical, alpha)\n",
        "  \n",
        "    # Get the test feature\n",
        "    test_feature = test_mean_target_encoding(train, test, target, categorical, alpha)\n",
        "    \n",
        "    # Return new features to add to the model\n",
        "    return train_feature, test_feature"
      ],
      "execution_count": null,
      "outputs": []
    },
    {
      "cell_type": "markdown",
      "metadata": {
        "id": "VOB4jMXfoDHC",
        "colab_type": "text"
      },
      "source": [
        "## K-fold cross-validation"
      ]
    },
    {
      "cell_type": "code",
      "metadata": {
        "id": "JgHS0OwLoDdt",
        "colab_type": "code",
        "colab": {}
      },
      "source": [
        "# Create 5-fold cross-validation\n",
        "kf = KFold(n_splits=5, random_state=123, shuffle=True)\n",
        "\n",
        "# For each folds split\n",
        "for train_index, test_index in kf.split(bryant_shots):\n",
        "    cv_train, cv_test = bryant_shots.iloc[train_index], bryant_shots.iloc[test_index]\n",
        "\n",
        "    # Create mean target encoded feature\n",
        "    cv_train['game_id_enc'], cv_test['game_id_enc'] = mean_target_encoding(train=cv_train,\n",
        "                                                                           test=cv_test,\n",
        "                                                                           target='shot_made_flag',\n",
        "                                                                           categorical='game_id',\n",
        "                                                                           alpha=5)\n",
        "    # Look at the encoding\n",
        "    print(cv_train[['game_id', 'shot_made_flag', 'game_id_enc']].sample(n=1))"
      ],
      "execution_count": null,
      "outputs": []
    },
    {
      "cell_type": "markdown",
      "metadata": {
        "id": "BX4ZDagqoM2d",
        "colab_type": "text"
      },
      "source": [
        "## Beyond binary classification"
      ]
    },
    {
      "cell_type": "code",
      "metadata": {
        "id": "JwKabnz7oMhV",
        "colab_type": "code",
        "colab": {}
      },
      "source": [
        "# Create mean target encoded feature\n",
        "train['RoofStyle_enc'], test['RoofStyle_enc'] = mean_target_encoding(train=train,\n",
        "                                                                     test=test,\n",
        "                                                                     target='SalePrice',\n",
        "                                                                     categorical='RoofStyle',\n",
        "                                                                     alpha=10)\n",
        "\n",
        "# Look at the encoding\n",
        "print(test[['RoofStyle', 'RoofStyle_enc']].drop_duplicates())"
      ],
      "execution_count": null,
      "outputs": []
    },
    {
      "cell_type": "markdown",
      "metadata": {
        "id": "kLyUgYbtoWsS",
        "colab_type": "text"
      },
      "source": [
        "## Find missing data"
      ]
    },
    {
      "cell_type": "code",
      "metadata": {
        "id": "XNTvyZBCoXHZ",
        "colab_type": "code",
        "colab": {}
      },
      "source": [
        "# Read dataframe\n",
        "twosigma = pd.read_csv(\"twosigma_train.csv\")\n",
        "\n",
        "# Find the number of missing values in each column\n",
        "print(twosigma.isnull().sum())"
      ],
      "execution_count": null,
      "outputs": []
    },
    {
      "cell_type": "code",
      "metadata": {
        "id": "wtlEL8RAoklq",
        "colab_type": "code",
        "colab": {}
      },
      "source": [
        "# Read DataFrame\n",
        "twosigma = pd.read_csv('twosigma_train.csv')\n",
        "\n",
        "# Find the number of missing values in each column\n",
        "print(twosigma.isnull().sum())\n",
        "\n",
        "# Look at the columns with the missing values\n",
        "print(twosigma[['building_id', 'price']].head())"
      ],
      "execution_count": null,
      "outputs": []
    },
    {
      "cell_type": "markdown",
      "metadata": {
        "id": "zm5t2QAfomQc",
        "colab_type": "text"
      },
      "source": [
        "## Impute missing data"
      ]
    },
    {
      "cell_type": "code",
      "metadata": {
        "id": "YSKbAZxJomw2",
        "colab_type": "code",
        "colab": {}
      },
      "source": [
        "# Import SimpleImputer\n",
        "from sklearn.impute import SimpleImputer\n",
        "\n",
        "# Create mean imputer\n",
        "mean_imputer = SimpleImputer(strategy='mean')\n",
        "\n",
        "# Price imputation\n",
        "rental_listings[['price']] = mean_imputer.fit_transform(rental_listings[['price']])"
      ],
      "execution_count": null,
      "outputs": []
    },
    {
      "cell_type": "code",
      "metadata": {
        "id": "oy_fGPJjo8oB",
        "colab_type": "code",
        "colab": {}
      },
      "source": [
        "# Import SimpleImputer\n",
        "from sklearn.impute import SimpleImputer\n",
        "\n",
        "# Create constant imputer\n",
        "constant_imputer = SimpleImputer(strategy='constant', fill_value='MISSING')\n",
        "\n",
        "# building_id imputation\n",
        "rental_listings[['building_id']] = constant_imputer.fit_transform(rental_listings[['building_id']])"
      ],
      "execution_count": null,
      "outputs": []
    }
  ]
}