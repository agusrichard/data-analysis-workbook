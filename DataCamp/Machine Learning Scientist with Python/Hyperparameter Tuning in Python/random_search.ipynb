{
  "nbformat": 4,
  "nbformat_minor": 0,
  "metadata": {
    "colab": {
      "name": "random_search.ipynb",
      "provenance": []
    },
    "kernelspec": {
      "name": "python3",
      "display_name": "Python 3"
    }
  },
  "cells": [
    {
      "cell_type": "markdown",
      "metadata": {
        "id": "E3vOV-EigARc",
        "colab_type": "text"
      },
      "source": [
        "# Random Search"
      ]
    },
    {
      "cell_type": "code",
      "metadata": {
        "id": "fwnBks2Hwq2b",
        "colab_type": "code",
        "colab": {}
      },
      "source": [
        "# Create a list of values for the learning_rate hyperparameter\n",
        "learn_rate_list = list(np.linspace(0.01, 1.5, 200))\n",
        "\n",
        "# Create a list of values for the min_samples_leaf hyperparameter\n",
        "min_samples_list = list(np.arange(10, 41))\n",
        "\n",
        "# Combination list\n",
        "combinations_list = [list(x) for x in product(learn_rate_list, min_samples_list)]\n",
        "\n",
        "# Sample hyperparameter combinations for a random search.\n",
        "random_combinations_index = np.random.choice(range(0, len(combinations_list)), 250, replace=False)\n",
        "combinations_random_chosen = [combinations_list[x] for x in random_combinations_index]\n",
        "\n",
        "# Print the result\n",
        "print(combinations_random_chosen)"
      ],
      "execution_count": null,
      "outputs": []
    },
    {
      "cell_type": "markdown",
      "metadata": {
        "id": "XVj02dvPy84O",
        "colab_type": "text"
      },
      "source": [
        "## Randomly Search with Random Forest"
      ]
    },
    {
      "cell_type": "code",
      "metadata": {
        "id": "HxiPRcQ3y9TJ",
        "colab_type": "code",
        "colab": {}
      },
      "source": [
        "# Create lists for criterion and max_features\n",
        "criterion_list = ['gini', 'entropy']\n",
        "max_feature_list = ['auto', 'sqrt', 'log2', None]\n",
        "\n",
        "# Create a list of values for the max_depth hyperparameter\n",
        "max_depth_list = list(range(3,56))\n",
        "\n",
        "# Combination list\n",
        "combinations_list = [list(x) for x in product(criterion_list, max_feature_list, max_depth_list)]\n",
        "\n",
        "# Sample hyperparameter combinations for a random search\n",
        "combinations_random_chosen = random.sample(combinations_list, 150)\n",
        "\n",
        "# Print the result\n",
        "print(combinations_random_chosen)"
      ],
      "execution_count": null,
      "outputs": []
    },
    {
      "cell_type": "markdown",
      "metadata": {
        "id": "XOym3JvbzX1p",
        "colab_type": "text"
      },
      "source": [
        "## Visualizing a Random Search"
      ]
    },
    {
      "cell_type": "code",
      "metadata": {
        "id": "BYLE2-svzYPh",
        "colab_type": "code",
        "colab": {}
      },
      "source": [
        "# Confirm how many hyperparameter combinations & print\n",
        "number_combs = len(combinations_list)\n",
        "print(number_combs)\n",
        "\n",
        "# Sample and visualise specified combinations\n",
        "for x in [50, 500, 1500]:\n",
        "    sample_and_visualize_hyperparameters(x)\n",
        "    \n",
        "# Sample all the hyperparameter combinations & visualise\n",
        "sample_and_visualize_hyperparameters(number_combs)"
      ],
      "execution_count": null,
      "outputs": []
    },
    {
      "cell_type": "markdown",
      "metadata": {
        "id": "kXa_YVic0jaw",
        "colab_type": "text"
      },
      "source": [
        "## RandomSearchCV inputs"
      ]
    },
    {
      "cell_type": "markdown",
      "metadata": {
        "id": "RvwdgCT80j_o",
        "colab_type": "text"
      },
      "source": [
        "D. n_iter"
      ]
    },
    {
      "cell_type": "markdown",
      "metadata": {
        "id": "eWoioh8C0sRA",
        "colab_type": "text"
      },
      "source": [
        "## The RandomizedSearchCV Object"
      ]
    },
    {
      "cell_type": "code",
      "metadata": {
        "id": "_pOtSRmU0uKh",
        "colab_type": "code",
        "colab": {}
      },
      "source": [
        "# Create the parameter grid\n",
        "param_grid = {'learning_rate': np.linspace(0.1, 2, 150), 'min_samples_leaf': list(range(20,65))} \n",
        "\n",
        "# Create a random search object\n",
        "random_GBM_class = RandomizedSearchCV(\n",
        "    estimator = GradientBoostingClassifier(),\n",
        "    param_distributions = param_grid,\n",
        "    n_iter = 10,\n",
        "    scoring='accuracy', n_jobs=4, cv = 5, refit=True, return_train_score = True)\n",
        "\n",
        "# Fit to the training data\n",
        "random_GBM_class.fit(X_train, y_train)\n",
        "\n",
        "# Print the values used for both hyperparameters\n",
        "print(random_GBM_class.cv_results_['param_learning_rate'])\n",
        "print(random_GBM_class.cv_results_['param_min_samples_leaf'])"
      ],
      "execution_count": null,
      "outputs": []
    },
    {
      "cell_type": "markdown",
      "metadata": {
        "id": "ZuHvIMLG1ZpN",
        "colab_type": "text"
      },
      "source": [
        "## RandomSearchCV in Scikit Learn"
      ]
    },
    {
      "cell_type": "code",
      "metadata": {
        "id": "chxGUSf61aS4",
        "colab_type": "code",
        "colab": {}
      },
      "source": [
        "# Create the parameter grid\n",
        "param_grid = {'max_depth': list(range(5,26)), 'max_features': ['auto' , 'sqrt']} \n",
        "\n",
        "# Create a random search object\n",
        "random_rf_class = RandomizedSearchCV(\n",
        "    estimator = RandomForestClassifier(n_estimators=80),\n",
        "    param_distributions = param_grid, n_iter = 5,\n",
        "    scoring='roc_auc', n_jobs=4, cv = 3, refit=True, return_train_score = True )\n",
        "\n",
        "# Fit to the training data\n",
        "random_rf_class.fit(X_train, y_train)\n",
        "\n",
        "# Print the values used for both hyperparameters\n",
        "print(random_rf_class.cv_results_['param_max_depth'])\n",
        "print(random_rf_class.cv_results_['param_max_features'])"
      ],
      "execution_count": null,
      "outputs": []
    },
    {
      "cell_type": "markdown",
      "metadata": {
        "id": "kx0WFbCA2Opk",
        "colab_type": "text"
      },
      "source": [
        "## Comparing Random & Grid Search"
      ]
    },
    {
      "cell_type": "markdown",
      "metadata": {
        "id": "fwTly53P2PkD",
        "colab_type": "text"
      },
      "source": [
        "D. It is more computationally efficient than Grid Search."
      ]
    },
    {
      "cell_type": "markdown",
      "metadata": {
        "id": "JLg5ed8w2Uwq",
        "colab_type": "text"
      },
      "source": [
        "## Grid and Random Search Side by Side"
      ]
    },
    {
      "cell_type": "code",
      "metadata": {
        "id": "rFCNawdF2aah",
        "colab_type": "code",
        "colab": {}
      },
      "source": [
        "# Sample grid coordinates\n",
        "grid_combinations_chosen = combinations_list[0:300]\n",
        "\n",
        "# Print result\n",
        "print(grid_combinations_chosen)"
      ],
      "execution_count": null,
      "outputs": []
    },
    {
      "cell_type": "code",
      "metadata": {
        "id": "j9jZPX7B2rOH",
        "colab_type": "code",
        "colab": {}
      },
      "source": [
        "# Sample grid coordinates\n",
        "grid_combinations_chosen = combinations_list[0:300]\n",
        "\n",
        "# Create a list of sample indexes\n",
        "sample_indexes = list(range(0,len(combinations_list)))\n",
        "\n",
        "# Randomly sample 300 indexes\n",
        "random_indexes = np.random.choice(sample_indexes, 300, replace=False)"
      ],
      "execution_count": null,
      "outputs": []
    },
    {
      "cell_type": "code",
      "metadata": {
        "id": "Wlz1tNAm2ujz",
        "colab_type": "code",
        "colab": {}
      },
      "source": [
        "# Sample grid coordinates\n",
        "grid_combinations_chosen = combinations_list[0:300]\n",
        "\n",
        "# Create a list of sample indexes\n",
        "sample_indexes = list(range(0,len(combinations_list)))\n",
        "\n",
        "# Randomly sample 300 indexes\n",
        "random_indexes = np.random.choice(sample_indexes, 300, replace=False)\n",
        "\n",
        "# Use indexes to create random sample\n",
        "random_combinations_chosen = [combinations_list[index] for index in random_indexes]"
      ],
      "execution_count": null,
      "outputs": []
    },
    {
      "cell_type": "code",
      "metadata": {
        "id": "EANSRRBf2zjS",
        "colab_type": "code",
        "colab": {}
      },
      "source": [
        "# Sample grid coordinates\n",
        "grid_combinations_chosen = combinations_list[0:300]\n",
        "\n",
        "# Create a list of sample indexes\n",
        "sample_indexes = list(range(0,len(combinations_list)))\n",
        "\n",
        "# Randomly sample 300 indexes\n",
        "random_indexes = np.random.choice(sample_indexes, 300, replace=False)\n",
        "\n",
        "# Use indexes to create random sample\n",
        "random_combinations_chosen = [combinations_list[index] for index in random_indexes]\n",
        "\n",
        "# Call the function to produce the visualization\n",
        "visualize_search(grid_combinations_chosen, random_combinations_chosen)"
      ],
      "execution_count": null,
      "outputs": []
    }
  ]
}