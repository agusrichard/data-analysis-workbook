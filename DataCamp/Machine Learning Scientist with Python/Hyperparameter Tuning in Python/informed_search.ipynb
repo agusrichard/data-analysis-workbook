{
  "nbformat": 4,
  "nbformat_minor": 0,
  "metadata": {
    "colab": {
      "name": "informed_search.ipynb",
      "provenance": []
    },
    "kernelspec": {
      "name": "python3",
      "display_name": "Python 3"
    }
  },
  "cells": [
    {
      "cell_type": "markdown",
      "metadata": {
        "id": "U2rZpaSMZEgN",
        "colab_type": "text"
      },
      "source": [
        "# Informed Search"
      ]
    },
    {
      "cell_type": "markdown",
      "metadata": {
        "id": "pSDj1a6OZAOW",
        "colab_type": "text"
      },
      "source": [
        "## Visualizing Coarse to Fine"
      ]
    },
    {
      "cell_type": "code",
      "metadata": {
        "id": "18VNbDpzZCIE",
        "colab_type": "code",
        "colab": {}
      },
      "source": [
        "# Confirm the size of the combinations_list\n",
        "print(len(combinations_list))\n",
        "\n",
        "# Sort the results_df by accuracy and print the top 10 rows\n",
        "print(results_df.sort_values(by='accuracy', ascending=False).head(10))\n",
        "\n",
        "# Confirm which hyperparameters were used in this search\n",
        "print(results_df.columns)\n",
        "\n",
        "# Call visualize_hyperparameter() with each hyperparameter in turn\n",
        "visualize_hyperparameter('max_depth')\n",
        "visualize_hyperparameter('min_samples_leaf')\n",
        "visualize_hyperparameter('learn_rate')"
      ],
      "execution_count": null,
      "outputs": []
    },
    {
      "cell_type": "markdown",
      "metadata": {
        "id": "Hs9dKJfkaSVm",
        "colab_type": "text"
      },
      "source": [
        "## Coarse to Fine Iterations"
      ]
    },
    {
      "cell_type": "code",
      "metadata": {
        "id": "y5ZkXvaxaSyq",
        "colab_type": "code",
        "colab": {}
      },
      "source": [
        "# Use the provided function to visualize the first results\n",
        "visualize_first()"
      ],
      "execution_count": null,
      "outputs": []
    },
    {
      "cell_type": "code",
      "metadata": {
        "id": "seUJm3QVatyl",
        "colab_type": "code",
        "colab": {}
      },
      "source": [
        "# Use the provided function to visualize the first results\n",
        "# visualize_first()\n",
        "\n",
        "# Create some combinations lists & combine\n",
        "max_depth_list = list(range(1, 21))\n",
        "learn_rate_list = np.linspace(0.001, 1, 50)"
      ],
      "execution_count": null,
      "outputs": []
    },
    {
      "cell_type": "code",
      "metadata": {
        "id": "JafqAvrqa0dx",
        "colab_type": "code",
        "colab": {}
      },
      "source": [
        "# Use the provided function to visualize the first results\n",
        "# visualize_first()\n",
        "\n",
        "# Create some combinations lists & combine:\n",
        "max_depth_list = list(range(1,21))\n",
        "learn_rate_list = np.linspace(0.001,1,50)\n",
        "\n",
        "# Call the function to visualize the second results\n",
        "visualize_second()"
      ],
      "execution_count": null,
      "outputs": []
    },
    {
      "cell_type": "markdown",
      "metadata": {
        "id": "2WZSqLfIczi0",
        "colab_type": "text"
      },
      "source": [
        "## Bayes Rule in Python"
      ]
    },
    {
      "cell_type": "code",
      "metadata": {
        "id": "VKkTTm-mc0CI",
        "colab_type": "code",
        "colab": {}
      },
      "source": [
        "# Assign probabilities to variables \n",
        "p_unhappy = 0.15\n",
        "p_unhappy_close = 0.35"
      ],
      "execution_count": null,
      "outputs": []
    },
    {
      "cell_type": "code",
      "metadata": {
        "id": "LIXCymeKdAoW",
        "colab_type": "code",
        "colab": {}
      },
      "source": [
        "# Assign probabilities to variables \n",
        "p_unhappy = 0.15\n",
        "p_unhappy_close = 0.35\n",
        "\n",
        "# Probabiliy someone will close\n",
        "p_close = 0.07"
      ],
      "execution_count": null,
      "outputs": []
    },
    {
      "cell_type": "code",
      "metadata": {
        "id": "rihLJE3tdCJe",
        "colab_type": "code",
        "colab": {}
      },
      "source": [
        "# Assign probabilities to variables \n",
        "p_unhappy = 0.15\n",
        "p_unhappy_close = 0.35\n",
        "\n",
        "# Probabiliy someone will close\n",
        "p_close = 0.07\n",
        "\n",
        "# Probability unhappy person will close\n",
        "p_close_unhappy = (p_unhappy_close * p_close) / p_unhappy\n",
        "print(p_close_unhappy)"
      ],
      "execution_count": null,
      "outputs": []
    },
    {
      "cell_type": "markdown",
      "metadata": {
        "id": "7mSpnY7zdEIG",
        "colab_type": "text"
      },
      "source": [
        "## Bayesian Hyperparameter tuning with Hyperopt"
      ]
    },
    {
      "cell_type": "code",
      "metadata": {
        "id": "Vni56GjKdEmf",
        "colab_type": "code",
        "colab": {}
      },
      "source": [
        "# Set up space dictionary with specified hyperparameters\n",
        "space = {'max_depth': hp.quniform('max_depth', 2, 10, 2),'learning_rate': hp.uniform('learning_rate', 0.001, 0.9)}\n",
        "\n",
        "# Set up objective function\n",
        "def objective(params):\n",
        "    params = {'max_depth': int(params['max_depth']),'learning_rate': params['learning_rate']}\n",
        "    gbm_clf = GradientBoostingClassifier(n_estimators=100, **params) \n",
        "    best_score = cross_val_score(gbm_clf, X_train, y_train, scoring='accuracy', cv=2, n_jobs=4).mean()\n",
        "    loss = 1 - best_score\n",
        "    return loss\n",
        "\n",
        "# Run the algorithm\n",
        "best = fmin(fn=objective,space=space, max_evals=20, rstate=np.random.RandomState(42), algo=tpe.suggest)\n",
        "print(best)"
      ],
      "execution_count": null,
      "outputs": []
    },
    {
      "cell_type": "markdown",
      "metadata": {
        "id": "mvHOGG4Ge4p3",
        "colab_type": "text"
      },
      "source": [
        "## Genetic Hyperparameter Tuning with TPOT"
      ]
    },
    {
      "cell_type": "code",
      "metadata": {
        "id": "Hx0UHX7Ae5GR",
        "colab_type": "code",
        "colab": {}
      },
      "source": [
        "# Assign the values outlined to the inputs\n",
        "number_generations = 3\n",
        "population_size = 4\n",
        "offspring_size = 3\n",
        "scoring_function = 'accuracy'\n",
        "\n",
        "# Create the tpot classifier\n",
        "tpot_clf = TPOTClassifier(generations=number_generations, population_size=population_size,\n",
        "                          offspring_size=offspring_size, scoring=scoring_function,\n",
        "                          verbosity=2, random_state=2, cv=2)\n",
        "\n",
        "# Fit the classifier to the training data\n",
        "tpot_clf.fit(X_train, y_train)\n",
        "\n",
        "# Score on the test set\n",
        "print(tpot_clf.score(X_test, y_test))"
      ],
      "execution_count": null,
      "outputs": []
    },
    {
      "cell_type": "markdown",
      "metadata": {
        "id": "WFlxdvCffOXA",
        "colab_type": "text"
      },
      "source": [
        "## Analysing TPOT's stability"
      ]
    },
    {
      "cell_type": "code",
      "metadata": {
        "id": "pwuJMoBzfO-M",
        "colab_type": "code",
        "colab": {}
      },
      "source": [
        "# Create the tpot classifier \n",
        "tpot_clf = TPOTClassifier(generations=2, population_size=4, offspring_size=3, scoring='accuracy', cv=2,\n",
        "                          verbosity=2, random_state=42)\n",
        "\n",
        "# Fit the classifier to the training data\n",
        "tpot_clf.fit(X_train, y_train)\n",
        "\n",
        "# Score on the test set\n",
        "print(tpot_clf.score(X_test, y_test))"
      ],
      "execution_count": null,
      "outputs": []
    },
    {
      "cell_type": "code",
      "metadata": {
        "id": "P6awFjD9fbp5",
        "colab_type": "code",
        "colab": {}
      },
      "source": [
        "# Create the tpot classifier \n",
        "tpot_clf = TPOTClassifier(generations=2, population_size=4, offspring_size=3, scoring='accuracy', cv=2,\n",
        "                          verbosity=2, random_state=122)\n",
        "\n",
        "# Fit the classifier to the training data\n",
        "tpot_clf.fit(X_train, y_train)\n",
        "\n",
        "# Score on the test set\n",
        "print(tpot_clf.score(X_test, y_test))"
      ],
      "execution_count": null,
      "outputs": []
    },
    {
      "cell_type": "code",
      "metadata": {
        "id": "pysR-oHJfiC_",
        "colab_type": "code",
        "colab": {}
      },
      "source": [
        "# Create the tpot classifier \n",
        "tpot_clf = TPOTClassifier(generations=2, population_size=4, offspring_size=3, scoring='accuracy', cv=2,\n",
        "                          verbosity=2, random_state=99)\n",
        "\n",
        "# Fit the classifier to the training data\n",
        "tpot_clf.fit(X_train, y_train)\n",
        "\n",
        "# Score on the test set\n",
        "print(tpot_clf.score(X_test, y_test))"
      ],
      "execution_count": null,
      "outputs": []
    }
  ]
}