{
  "nbformat": 4,
  "nbformat_minor": 0,
  "metadata": {
    "colab": {
      "name": "basic_dlnn.ipynb",
      "provenance": []
    },
    "kernelspec": {
      "name": "python3",
      "display_name": "Python 3"
    }
  },
  "cells": [
    {
      "cell_type": "markdown",
      "metadata": {
        "id": "dUs8u3GhC-y3",
        "colab_type": "text"
      },
      "source": [
        "# Basics of deep learning and neural networks\n"
      ]
    },
    {
      "cell_type": "markdown",
      "metadata": {
        "id": "ovOO0qIDC4DD",
        "colab_type": "text"
      },
      "source": [
        "## Comparing neural network models to classical regression models"
      ]
    },
    {
      "cell_type": "markdown",
      "metadata": {
        "id": "EGScm8QNC6K7",
        "colab_type": "text"
      },
      "source": [
        "B. Model 2."
      ]
    },
    {
      "cell_type": "markdown",
      "metadata": {
        "id": "DUM3a6CuDK5X",
        "colab_type": "text"
      },
      "source": [
        "## Coding the forward propagation algorithm"
      ]
    },
    {
      "cell_type": "code",
      "metadata": {
        "id": "joubANZ7D7sr",
        "colab_type": "code",
        "colab": {}
      },
      "source": [
        "# Calculate node 0 value: node_0_value\n",
        "node_0_value = (input_data * weights['node_0']).sum()\n",
        "\n",
        "# Calculate node 1 value: node_1_value\n",
        "node_1_value = (input_data * weights['node_1']).sum()\n",
        "\n",
        "# Put node values into array: hidden_layer_outputs\n",
        "hidden_layer_outputs = np.array([node_0_value, node_1_value])\n",
        "\n",
        "# Calculate output: output\n",
        "output = (weights['output'] * hidden_layer_outputs).sum()\n",
        "\n",
        "# Print output\n",
        "print(output)\n"
      ],
      "execution_count": null,
      "outputs": []
    },
    {
      "cell_type": "markdown",
      "metadata": {
        "id": "q5FzQqW6FB-0",
        "colab_type": "text"
      },
      "source": [
        "## The Rectified Linear Activation Function"
      ]
    },
    {
      "cell_type": "code",
      "metadata": {
        "id": "_wuPXboHFCXy",
        "colab_type": "code",
        "colab": {}
      },
      "source": [
        "def relu(input):\n",
        "    '''Define your relu activation function here'''\n",
        "    # Calculate the value for the output of the relu function: output\n",
        "    output = max(0, input)\n",
        "    \n",
        "    # Return the value just calculated\n",
        "    return(output)\n",
        "\n",
        "# Calculate node 0 value: node_0_output\n",
        "node_0_input = (input_data * weights['node_0']).sum()\n",
        "node_0_output = relu(node_0_input)\n",
        "\n",
        "# Calculate node 1 value: node_1_output\n",
        "node_1_input = (input_data * weights['node_1']).sum()\n",
        "node_1_output = relu(node_1_input)\n",
        "\n",
        "# Put node values into array: hidden_layer_outputs\n",
        "hidden_layer_outputs = np.array([node_0_output, node_1_output])\n",
        "\n",
        "# Calculate model output (do not apply relu)\n",
        "model_output = (hidden_layer_outputs * weights['output']).sum()\n",
        "\n",
        "# Print model output\n",
        "print(model_output)"
      ],
      "execution_count": null,
      "outputs": []
    },
    {
      "cell_type": "markdown",
      "metadata": {
        "id": "eOBR-IPzFWf_",
        "colab_type": "text"
      },
      "source": [
        "## Applying the network to many observations/rows of data"
      ]
    },
    {
      "cell_type": "code",
      "metadata": {
        "id": "E4I1plhlFW6t",
        "colab_type": "code",
        "colab": {}
      },
      "source": [
        "# Define predict_with_network()\n",
        "def predict_with_network(input_data_row, weights):\n",
        "\n",
        "    # Calculate node 0 value\n",
        "    node_0_input = (input_data_row * weights['node_0']).sum()\n",
        "    node_0_output = relu(node_0_input)\n",
        "\n",
        "    # Calculate node 1 value\n",
        "    node_1_input = (input_data_row * weights['node_1']).sum()\n",
        "    node_1_output = relu(node_1_input)\n",
        "\n",
        "    # Put node values into array: hidden_layer_outputs\n",
        "    hidden_layer_outputs = np.array([node_0_output, node_1_output])\n",
        "    \n",
        "    # Calculate model output\n",
        "    input_to_final_layer = (hidden_layer_outputs * weights['output']).sum()\n",
        "    model_output = relu(input_to_final_layer)\n",
        "    \n",
        "    # Return model output\n",
        "    return(model_output)\n",
        "\n",
        "\n",
        "# Create empty list to store prediction results\n",
        "results = []\n",
        "for input_data_row in input_data:\n",
        "    # Append prediction to results\n",
        "    results.append(predict_with_network(input_data_row, weights))\n",
        "\n",
        "# Print results\n",
        "print(results)\n",
        "        "
      ],
      "execution_count": null,
      "outputs": []
    },
    {
      "cell_type": "markdown",
      "metadata": {
        "id": "ozeF0fjQG5Ph",
        "colab_type": "text"
      },
      "source": [
        "## Forward propagation in a deeper network"
      ]
    },
    {
      "cell_type": "markdown",
      "metadata": {
        "id": "-NfwtxSSG5oe",
        "colab_type": "text"
      },
      "source": [
        "A. 0."
      ]
    },
    {
      "cell_type": "markdown",
      "metadata": {
        "id": "AZQdGTAWHLBg",
        "colab_type": "text"
      },
      "source": [
        "## Multi-layer neural networks"
      ]
    },
    {
      "cell_type": "code",
      "metadata": {
        "id": "2oMLEC9JHNVn",
        "colab_type": "code",
        "colab": {}
      },
      "source": [
        "def predict_with_network(input_data):\n",
        "    # Calculate node 0 in the first hidden layer\n",
        "    node_0_0_input = (input_data * weights['node_0_0']).sum()\n",
        "    node_0_0_output = relu(node_0_0_input)\n",
        "\n",
        "    # Calculate node 1 in the first hidden layer\n",
        "    node_0_1_input = (input_data * weights['node_0_1']).sum()\n",
        "    node_0_1_output = relu(node_0_1_input)\n",
        "\n",
        "    # Put node values into array: hidden_0_outputs\n",
        "    hidden_0_outputs = np.array([node_0_0_output, node_0_1_output])\n",
        "    \n",
        "    # Calculate node 0 in the second hidden layer\n",
        "    node_1_0_input = (hidden_0_outputs * weights['node_1_0']).sum()\n",
        "    node_1_0_output = relu(node_1_0_input)\n",
        "\n",
        "    # Calculate node 1 in the second hidden layer\n",
        "    node_1_1_input = (hidden_0_outputs * weights['node_1_1']).sum()\n",
        "    node_1_1_output = relu(node_1_1_input)\n",
        "\n",
        "    # Put node values into array: hidden_1_outputs\n",
        "    hidden_1_outputs = np.array([node_1_0_output, node_1_1_output])\n",
        "\n",
        "    # Calculate model output: model_output\n",
        "    model_output = (hidden_1_outputs * weights['output']).sum()\n",
        "    \n",
        "    # Return model_output\n",
        "    return(model_output)\n",
        "\n",
        "output = predict_with_network(input_data)\n",
        "print(output)\n"
      ],
      "execution_count": null,
      "outputs": []
    },
    {
      "cell_type": "markdown",
      "metadata": {
        "id": "f85jLaEUHvt6",
        "colab_type": "text"
      },
      "source": [
        "## Representations are learned"
      ]
    },
    {
      "cell_type": "markdown",
      "metadata": {
        "id": "xkHRj7CVHwPN",
        "colab_type": "text"
      },
      "source": [
        "B. The model training process sets them to optimize predictive accuracy."
      ]
    },
    {
      "cell_type": "markdown",
      "metadata": {
        "id": "869cQj00H0xB",
        "colab_type": "text"
      },
      "source": [
        "## Levels of representation"
      ]
    },
    {
      "cell_type": "markdown",
      "metadata": {
        "id": "Vg8z2TZeH2uF",
        "colab_type": "text"
      },
      "source": [
        "B. The last layers capture the most complex interactions."
      ]
    }
  ]
}