{
  "nbformat": 4,
  "nbformat_minor": 0,
  "metadata": {
    "colab": {
      "name": "fine_tuning.ipynb",
      "provenance": []
    },
    "kernelspec": {
      "name": "python3",
      "display_name": "Python 3"
    }
  },
  "cells": [
    {
      "cell_type": "markdown",
      "metadata": {
        "id": "YxlqN99jVyGt",
        "colab_type": "text"
      },
      "source": [
        "# Fine-tuning keras models"
      ]
    },
    {
      "cell_type": "markdown",
      "metadata": {
        "id": "XAGnsTUlWkl3",
        "colab_type": "text"
      },
      "source": [
        "## Diagnosing optimization problems"
      ]
    },
    {
      "cell_type": "markdown",
      "metadata": {
        "id": "dQQ1xuz4Wnxz",
        "colab_type": "text"
      },
      "source": [
        "D. All of the above."
      ]
    },
    {
      "cell_type": "markdown",
      "metadata": {
        "id": "G2xCZhlZWxcs",
        "colab_type": "text"
      },
      "source": [
        "## Changing optimization parameters"
      ]
    },
    {
      "cell_type": "code",
      "metadata": {
        "id": "0rW656amW1_M",
        "colab_type": "code",
        "colab": {}
      },
      "source": [
        "# Import the SGD optimizer\n",
        "from keras.optimizers import SGD\n",
        "\n",
        "# Create list of learning rates: lr_to_test\n",
        "lr_to_test = [0.000001, 0.01, 1]\n",
        "\n",
        "# Loop over learning rates\n",
        "for lr in lr_to_test:\n",
        "    print('\\n\\nTesting model with learning rate: %f\\n'%lr )\n",
        "    \n",
        "    # Build new model to test, unaffected by previous models\n",
        "    model = get_new_mode()\n",
        "    \n",
        "    # Create SGD optimizer with specified learning rate: my_optimizer\n",
        "    my_optimizer = SGD(lr=lr)\n",
        "    \n",
        "    # Compile the model\n",
        "    model.compile(optimizer=my_optimizer, loss='categorical_crossentropy')\n",
        "    \n",
        "    # Fit the model\n",
        "    model.fit(predictors, target)\n",
        "    "
      ],
      "execution_count": null,
      "outputs": []
    },
    {
      "cell_type": "markdown",
      "metadata": {
        "id": "OA_ZcN_VYPz-",
        "colab_type": "text"
      },
      "source": [
        "## Evaluating model accuracy on validation dataset"
      ]
    },
    {
      "cell_type": "code",
      "metadata": {
        "id": "0xB3KuFzYQe9",
        "colab_type": "code",
        "colab": {}
      },
      "source": [
        "# Save the number of columns in predictors: n_cols\n",
        "n_cols = predictors.shape[1]\n",
        "input_shape = (n_cols,)\n",
        "\n",
        "# Specify the model\n",
        "model = Sequential()\n",
        "model.add(Dense(100, activation='relu', input_shape = input_shape))\n",
        "model.add(Dense(100, activation='relu'))\n",
        "model.add(Dense(2, activation='softmax'))\n",
        "\n",
        "# Compile the model\n",
        "model.compile(optimizer='adam', loss='categorical_crossentropy', metrics=['accuracy'])\n",
        "\n",
        "# Fit the model\n",
        "hist = model.fit(predictors, target, validation_split=0.3)\n"
      ],
      "execution_count": null,
      "outputs": []
    },
    {
      "cell_type": "markdown",
      "metadata": {
        "id": "KV1UtvejYjIA",
        "colab_type": "text"
      },
      "source": [
        "## Early stopping: Optimizing the optimization"
      ]
    },
    {
      "cell_type": "code",
      "metadata": {
        "id": "3laOKQG0YjhX",
        "colab_type": "code",
        "colab": {}
      },
      "source": [
        "# Import EarlyStopping\n",
        "from keras.callbacks import EarlyStopping\n",
        "\n",
        "# Save the number of columns in predictors: n_cols\n",
        "n_cols = predictors.shape[1]\n",
        "input_shape = (n_cols,)\n",
        "\n",
        "# Specify the model\n",
        "model = Sequential()\n",
        "model.add(Dense(100, activation='relu', input_shape = input_shape))\n",
        "model.add(Dense(100, activation='relu'))\n",
        "model.add(Dense(2, activation='softmax'))\n",
        "\n",
        "# Compile the model\n",
        "model.compile(optimizer='adam', loss='categorical_crossentropy', metrics=['accuracy'])\n",
        "\n",
        "# Define early_stopping_monitor\n",
        "early_stopping_monitor = EarlyStopping(patience=2)\n",
        "\n",
        "# Fit the model\n",
        "model.fit(predictors, target, nb_epoch=30, validation_split=0.3, callbacks=[early_stopping_monitor])\n"
      ],
      "execution_count": null,
      "outputs": []
    },
    {
      "cell_type": "markdown",
      "metadata": {
        "id": "9FU23Ij5ZHnq",
        "colab_type": "text"
      },
      "source": [
        "## Experimenting with wider networks"
      ]
    },
    {
      "cell_type": "code",
      "metadata": {
        "id": "I-sjTmS7ZIAy",
        "colab_type": "code",
        "colab": {}
      },
      "source": [
        "# Define early_stopping_monitor\n",
        "early_stopping_monitor = EarlyStopping(patience=2)\n",
        "\n",
        "# Create the new model: model_2\n",
        "model_2 = Sequential()\n",
        "\n",
        "# Add the first and second layers\n",
        "model_2.add(Dense(100, activation='relu', input_shape=input_shape))\n",
        "model_2.add(Dense(100, activation='relu'))\n",
        "\n",
        "# Add the output layer\n",
        "model_2.add(Dense(2, activation='softmax'))\n",
        "\n",
        "# Compile model_2\n",
        "model_2.compile(optimizer='adam', loss='categorical_crossentropy', metrics=['accuracy'])\n",
        "\n",
        "# Fit model_1\n",
        "model_1_training = model_1.fit(predictors, target, epochs=15, validation_split=0.2, callbacks=[early_stopping_monitor], verbose=False)\n",
        "\n",
        "# Fit model_2\n",
        "model_2_training = model_2.fit(predictors, target, epochs=15, validation_split=0.2, callbacks=[early_stopping_monitor], verbose=False)\n",
        "\n",
        "# Create the plot\n",
        "plt.plot(model_1_training.history['val_loss'], 'r', model_2_training.history['val_loss'], 'b')\n",
        "plt.xlabel('Epochs')\n",
        "plt.ylabel('Validation score')\n",
        "plt.show()\n"
      ],
      "execution_count": null,
      "outputs": []
    },
    {
      "cell_type": "markdown",
      "metadata": {
        "id": "rTtDxNCbp9kQ",
        "colab_type": "text"
      },
      "source": [
        "## Adding layers to a network"
      ]
    },
    {
      "cell_type": "code",
      "metadata": {
        "id": "bbaL30rxp99t",
        "colab_type": "code",
        "colab": {}
      },
      "source": [
        "# The input shape to use in the first hidden layer\n",
        "input_shape = (n_cols,)\n",
        "\n",
        "# Create the new model: model_2\n",
        "model_2 = Sequential()\n",
        "\n",
        "# Add the first, second, and third hidden layers\n",
        "model_2.add(Dense(50, activation='relu', input_shape=(n_cols,)))\n",
        "model_2.add(Dense(50, activation='relu'))\n",
        "model_2.add(Dense(50, activation='relu'))\n",
        "\n",
        "# Add the output layer\n",
        "model_2.add(Dense(2, activation='softmax'))\n",
        "\n",
        "# Compile model_2\n",
        "model_2.compile(optimizer='adam', loss='categorical_crossentropy', metrics=['accuracy'])\n",
        "\n",
        "# Fit model 1\n",
        "model_1_training = model_1.fit(predictors, target, epochs=20, validation_split=0.4, callbacks=[early_stopping_monitor], verbose=False)\n",
        "\n",
        "# Fit model 2\n",
        "model_2_training = model_2.fit(predictors, target, epochs=20, validation_split=0.4, callbacks=[early_stopping_monitor], verbose=False)\n",
        "\n",
        "# Create the plot\n",
        "plt.plot(model_1_training.history['val_loss'], 'r', model_2_training.history['val_loss'], 'b')\n",
        "plt.xlabel('Epochs')\n",
        "plt.ylabel('Validation score')\n",
        "plt.show()\n"
      ],
      "execution_count": null,
      "outputs": []
    },
    {
      "cell_type": "markdown",
      "metadata": {
        "id": "koMU5uBGrcm1",
        "colab_type": "text"
      },
      "source": [
        "## Experimenting with model structures"
      ]
    },
    {
      "cell_type": "markdown",
      "metadata": {
        "id": "uhP7iJdFrdAu",
        "colab_type": "text"
      },
      "source": [
        "B. Use more units in each hidden layer."
      ]
    },
    {
      "cell_type": "markdown",
      "metadata": {
        "id": "SPRFsjrhrlNc",
        "colab_type": "text"
      },
      "source": [
        "## Building your own digit recognition model"
      ]
    },
    {
      "cell_type": "code",
      "metadata": {
        "id": "hvBw1lCjr16z",
        "colab_type": "code",
        "colab": {}
      },
      "source": [
        "# Create the model: model\n",
        "model = Sequential()\n",
        "\n",
        "# Add the first hidden layer\n",
        "model.add(Dense(50, activation='relu', input_shape=(784,)))\n",
        "\n",
        "# Add the second hidden layer\n",
        "model.add(Dense(50, activation='relu'))\n",
        "\n",
        "# Add the output layer\n",
        "model.add(Dense(10, activation='softmax'))\n",
        "\n",
        "# Compile the model\n",
        "model.compile(optimizer='adam', loss='categorical_crossentropy', metrics=['accuracy'])\n",
        "\n",
        "# Fit the model\n",
        "model.fit(X, y, validation_split=0.3)\n"
      ],
      "execution_count": null,
      "outputs": []
    }
  ]
}