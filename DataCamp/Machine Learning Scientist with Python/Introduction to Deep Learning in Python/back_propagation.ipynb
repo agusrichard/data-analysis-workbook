{
  "nbformat": 4,
  "nbformat_minor": 0,
  "metadata": {
    "colab": {
      "name": "back_propagation.ipynb",
      "provenance": [],
      "collapsed_sections": []
    },
    "kernelspec": {
      "name": "python3",
      "display_name": "Python 3"
    }
  },
  "cells": [
    {
      "cell_type": "markdown",
      "metadata": {
        "id": "I1cIHFnoKD2w",
        "colab_type": "text"
      },
      "source": [
        "# Optimizing a neural network with backward propagation"
      ]
    },
    {
      "cell_type": "markdown",
      "metadata": {
        "id": "nSZVYapmISmu",
        "colab_type": "text"
      },
      "source": [
        "## Calculating model errors"
      ]
    },
    {
      "cell_type": "markdown",
      "metadata": {
        "id": "MWd0qUVHKB1B",
        "colab_type": "text"
      },
      "source": [
        "C. 11."
      ]
    },
    {
      "cell_type": "markdown",
      "metadata": {
        "id": "jkrd1D5IKrid",
        "colab_type": "text"
      },
      "source": [
        "## Understanding how weights change model accuracy"
      ]
    },
    {
      "cell_type": "markdown",
      "metadata": {
        "id": "_cBWp_fWKtnh",
        "colab_type": "text"
      },
      "source": [
        "B. Less accurate."
      ]
    },
    {
      "cell_type": "markdown",
      "metadata": {
        "id": "dmnPBCudLCG2",
        "colab_type": "text"
      },
      "source": [
        "## Coding how weight changes affect accuracy"
      ]
    },
    {
      "cell_type": "code",
      "metadata": {
        "id": "_ajnb5w3LEjy",
        "colab_type": "code",
        "colab": {}
      },
      "source": [
        "# The data point you will make a prediction for\n",
        "input_data = np.array([0, 3])\n",
        "\n",
        "# Sample weights\n",
        "weights_0 = {'node_0': [2, 1],\n",
        "             'node_1': [1, 2],\n",
        "             'output': [1, 1]\n",
        "            }\n",
        "\n",
        "# The actual target value, used to calculate the error\n",
        "target_actual = 3\n",
        "\n",
        "# Make prediction using original weights\n",
        "model_output_0 = predict_with_network(input_data, weights_0)\n",
        "\n",
        "# Calculate error: error_0\n",
        "error_0 = model_output_0 - target_actual\n",
        "\n",
        "# Create weights that cause the network to make perfect prediction (3): weights_1\n",
        "weights_1 = {'node_0': [2, 1],\n",
        "             'node_1': [1, 2],\n",
        "             'output': [1, 0]\n",
        "            }\n",
        "\n",
        "# Make prediction using new weights: model_output_1\n",
        "model_output_1 = predict_with_network(input_data, weights_1)\n",
        "\n",
        "# Calculate error: error_1\n",
        "error_1 = model_output_1 - target_actual\n",
        "\n",
        "# Print error_0 and error_1\n",
        "print(error_0)\n",
        "print(error_1)\n"
      ],
      "execution_count": null,
      "outputs": []
    },
    {
      "cell_type": "markdown",
      "metadata": {
        "id": "mzdQIw8KLnht",
        "colab_type": "text"
      },
      "source": [
        "## Scaling up to multiple data points"
      ]
    },
    {
      "cell_type": "code",
      "metadata": {
        "id": "Y5GOoOT0Ln8j",
        "colab_type": "code",
        "colab": {}
      },
      "source": [
        "from sklearn.metrics import mean_squared_error\n",
        "\n",
        "# Create model_output_0 \n",
        "model_output_0 = []\n",
        "# Create model_output_1\n",
        "model_output_1 = []\n",
        "\n",
        "# Loop over input_data\n",
        "for row in input_data:\n",
        "    # Append prediction to model_output_0\n",
        "    model_output_0.append(predict_with_network(row, weights_0))\n",
        "    \n",
        "    # Append prediction to model_output_1\n",
        "    model_output_1.append(predict_with_network(row, weights_1))\n",
        "\n",
        "# Calculate the mean squared error for model_output_0: mse_0\n",
        "mse_0 = mean_squared_error(target_actuals, model_output_0)\n",
        "\n",
        "# Calculate the mean squared error for model_output_1: mse_1\n",
        "mse_1 = mean_squared_error(target_actuals, model_output_1)\n",
        "\n",
        "# Print mse_0 and mse_1\n",
        "print(\"Mean squared error with weights_0: %f\" %mse_0)\n",
        "print(\"Mean squared error with weights_1: %f\" %mse_1)\n"
      ],
      "execution_count": null,
      "outputs": []
    },
    {
      "cell_type": "markdown",
      "metadata": {
        "id": "J9wY5RsnNB0m",
        "colab_type": "text"
      },
      "source": [
        "## Calculating slopes"
      ]
    },
    {
      "cell_type": "code",
      "metadata": {
        "id": "N82XIMh2NCX8",
        "colab_type": "code",
        "colab": {}
      },
      "source": [
        "# Calculate the predictions: preds\n",
        "preds = (input_data * weights).sum()\n",
        "\n",
        "# Calculate the error: error\n",
        "error = preds - target\n",
        "\n",
        "# Calculate the slope: slope\n",
        "slope = 2 * error * input_data\n",
        "\n",
        "# Print the slope\n",
        "print(slope)\n"
      ],
      "execution_count": null,
      "outputs": []
    },
    {
      "cell_type": "markdown",
      "metadata": {
        "id": "fI06lFIfNapH",
        "colab_type": "text"
      },
      "source": [
        "## Improving model weights"
      ]
    },
    {
      "cell_type": "code",
      "metadata": {
        "id": "8RTq6_nMNbBo",
        "colab_type": "code",
        "colab": {}
      },
      "source": [
        "# Set the learning rate: learning_rate\n",
        "learning_rate = 0.01\n",
        "\n",
        "# Calculate the predictions: preds\n",
        "preds = (weights * input_data).sum()\n",
        "\n",
        "# Calculate the error: error\n",
        "error = preds - target\n",
        "\n",
        "# Calculate the slope: slope\n",
        "slope = 2 * input_data * error\n",
        "\n",
        "# Update the weights: weights_updated\n",
        "weights_updated = weights - learning_rate * slope\n",
        "\n",
        "# Get updated predictions: preds_updated\n",
        "preds_updated = (input_data * weights_updated).sum()\n",
        "\n",
        "# Calculate updated error: error_updated\n",
        "error_updated = preds_updated - target\n",
        "\n",
        "# Print the original error\n",
        "print(error)\n",
        "\n",
        "# Print the updated error\n",
        "print(error_updated)\n"
      ],
      "execution_count": null,
      "outputs": []
    },
    {
      "cell_type": "markdown",
      "metadata": {
        "id": "U0EXKt3-Nrz-",
        "colab_type": "text"
      },
      "source": [
        "## Making multiple updates to weights"
      ]
    },
    {
      "cell_type": "code",
      "metadata": {
        "id": "DN6Lh1nmNsPh",
        "colab_type": "code",
        "colab": {}
      },
      "source": [
        "n_updates = 20\n",
        "mse_hist = []\n",
        "\n",
        "# Iterate over the number of updates\n",
        "for i in range(n_updates):\n",
        "    # Calculate the slope: slope\n",
        "    slope = get_slope(input_data, target, weights)\n",
        "    \n",
        "    # Update the weights: weights\n",
        "    weights = weights - 0.01 * slope\n",
        "    \n",
        "    # Calculate mse with new weights: mse\n",
        "    mse = get_mse(input_data, target, weights)\n",
        "    \n",
        "    # Append the mse to mse_hist\n",
        "    mse_hist.append(mse)\n",
        "\n",
        "# Plot the mse history\n",
        "plt.plot(mse_hist)\n",
        "plt.xlabel('Iterations')\n",
        "plt.ylabel('Mean Squared Error')\n",
        "plt.show()"
      ],
      "execution_count": null,
      "outputs": []
    },
    {
      "cell_type": "markdown",
      "metadata": {
        "id": "lK__T92fO78L",
        "colab_type": "text"
      },
      "source": [
        "## The relationship between forward and backward propagation"
      ]
    },
    {
      "cell_type": "markdown",
      "metadata": {
        "id": "n043CJJSO8Wt",
        "colab_type": "text"
      },
      "source": [
        "C. 4."
      ]
    },
    {
      "cell_type": "markdown",
      "metadata": {
        "id": "3AcEjxGuPDGK",
        "colab_type": "text"
      },
      "source": [
        "## Thinking about backward propagation"
      ]
    },
    {
      "cell_type": "markdown",
      "metadata": {
        "id": "uA9lNvP1PGdH",
        "colab_type": "text"
      },
      "source": [
        "A. The updates to all weights in the network would also be 0."
      ]
    },
    {
      "cell_type": "markdown",
      "metadata": {
        "id": "1G_PjenoPOSH",
        "colab_type": "text"
      },
      "source": [
        "## A round of backpropagation"
      ]
    },
    {
      "cell_type": "markdown",
      "metadata": {
        "id": "Wu434OZCQKbN",
        "colab_type": "text"
      },
      "source": [
        "C. 6."
      ]
    }
  ]
}