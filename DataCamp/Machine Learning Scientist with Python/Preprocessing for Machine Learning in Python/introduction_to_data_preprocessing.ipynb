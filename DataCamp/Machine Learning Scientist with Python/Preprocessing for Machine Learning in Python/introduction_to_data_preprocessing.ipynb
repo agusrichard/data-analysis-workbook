{
  "nbformat": 4,
  "nbformat_minor": 0,
  "metadata": {
    "colab": {
      "name": "introduction_to_data_preprocessing.ipynb",
      "provenance": []
    },
    "kernelspec": {
      "name": "python3",
      "display_name": "Python 3"
    }
  },
  "cells": [
    {
      "cell_type": "markdown",
      "metadata": {
        "id": "9eWBnof3vwGO",
        "colab_type": "text"
      },
      "source": [
        "# Introduction to Data Preprocessing\n"
      ]
    },
    {
      "cell_type": "markdown",
      "metadata": {
        "id": "P501B9RlexYF",
        "colab_type": "text"
      },
      "source": [
        "## Missing data - columns"
      ]
    },
    {
      "cell_type": "markdown",
      "metadata": {
        "id": "X56js6XVvvwM",
        "colab_type": "text"
      },
      "source": [
        "A. 35, 24"
      ]
    },
    {
      "cell_type": "markdown",
      "metadata": {
        "id": "HMOtNRgNv04-",
        "colab_type": "text"
      },
      "source": [
        "## Missing data - rows"
      ]
    },
    {
      "cell_type": "code",
      "metadata": {
        "id": "Qfxc-BRKv2_g",
        "colab_type": "code",
        "colab": {}
      },
      "source": [
        "# Check how many values are missing in the category_desc column\n",
        "print(volunteer['category_desc'].isnull().sum())\n",
        "\n",
        "# Subset the volunteer dataset\n",
        "volunteer_subset = volunteer[~volunteer['category_desc'].isnull()]\n",
        "\n",
        "# Print out the shape of the subset\n",
        "print(volunteer_subset.shape)"
      ],
      "execution_count": 0,
      "outputs": []
    },
    {
      "cell_type": "markdown",
      "metadata": {
        "id": "CfjeoKj-w-pT",
        "colab_type": "text"
      },
      "source": [
        "## Exploring data types"
      ]
    },
    {
      "cell_type": "markdown",
      "metadata": {
        "id": "oH1ozB8zw--x",
        "colab_type": "text"
      },
      "source": [
        "C. Float, int, and object"
      ]
    },
    {
      "cell_type": "markdown",
      "metadata": {
        "id": "nuUjAb5RxFdT",
        "colab_type": "text"
      },
      "source": [
        "## Converting a column type"
      ]
    },
    {
      "cell_type": "code",
      "metadata": {
        "id": "JbWM6uuKxHRu",
        "colab_type": "code",
        "colab": {}
      },
      "source": [
        "# Print the head of the hits column\n",
        "print(volunteer[\"hits\"].head())\n",
        "\n",
        "# Convert the hits column to type int\n",
        "volunteer[\"hits\"] = volunteer['hits'].astype('int')\n",
        "\n",
        "# Look at the dtypes of the dataset\n",
        "print(volunteer.dtypes)"
      ],
      "execution_count": 0,
      "outputs": []
    },
    {
      "cell_type": "markdown",
      "metadata": {
        "id": "YRy-9f3Ux1Is",
        "colab_type": "text"
      },
      "source": [
        "## Class imbalance"
      ]
    },
    {
      "cell_type": "markdown",
      "metadata": {
        "id": "4bgoiPtYx1hH",
        "colab_type": "text"
      },
      "source": [
        "D. \n",
        "1 and 3"
      ]
    },
    {
      "cell_type": "markdown",
      "metadata": {
        "id": "3ZjUzdMayCyA",
        "colab_type": "text"
      },
      "source": [
        "## Stratified sampling"
      ]
    },
    {
      "cell_type": "code",
      "metadata": {
        "id": "4izb1OT_yEjL",
        "colab_type": "code",
        "colab": {}
      },
      "source": [
        "# Create a data with all columns except category_desc\n",
        "volunteer_X = volunteer.drop('category_desc', axis=1)\n",
        "\n",
        "# Create a category_desc labels dataset\n",
        "volunteer_y = volunteer[['category_desc']]\n",
        "\n",
        "# Use stratified sampling to split up the dataset according to the volunteer_y dataset\n",
        "X_train, X_test, y_train, y_test = train_test_split(volunteer_X, volunteer_y, stratify=volunteer_y)\n",
        "\n",
        "# Print out the category_desc counts on the training y labels\n",
        "print(y_train['category_desc'].value_counts())"
      ],
      "execution_count": 0,
      "outputs": []
    }
  ]
}