{
  "nbformat": 4,
  "nbformat_minor": 0,
  "metadata": {
    "colab": {
      "name": "feature_engineering.ipynb",
      "provenance": [],
      "collapsed_sections": []
    },
    "kernelspec": {
      "name": "python3",
      "display_name": "Python 3"
    }
  },
  "cells": [
    {
      "cell_type": "markdown",
      "metadata": {
        "id": "CiK01io89tBQ",
        "colab_type": "text"
      },
      "source": [
        "# Feature Engineering"
      ]
    },
    {
      "cell_type": "markdown",
      "metadata": {
        "id": "W0s6Zfhi9RE5",
        "colab_type": "text"
      },
      "source": [
        "## Feature engineering knowledge test"
      ]
    },
    {
      "cell_type": "markdown",
      "metadata": {
        "id": "itRIxpJF9qvz",
        "colab_type": "text"
      },
      "source": [
        "D. 1 and 2"
      ]
    },
    {
      "cell_type": "markdown",
      "metadata": {
        "id": "jzmuGibz9y1M",
        "colab_type": "text"
      },
      "source": [
        "## Identifying areas for feature engineering"
      ]
    },
    {
      "cell_type": "markdown",
      "metadata": {
        "id": "fOa9amrx90zb",
        "colab_type": "text"
      },
      "source": [
        "E. 2, 3, and 4"
      ]
    },
    {
      "cell_type": "markdown",
      "metadata": {
        "id": "CbQM-SXR-JHX",
        "colab_type": "text"
      },
      "source": [
        "## Encoding categorical variables - binary"
      ]
    },
    {
      "cell_type": "code",
      "metadata": {
        "id": "_vRLxAcv-vig",
        "colab_type": "code",
        "colab": {}
      },
      "source": [
        "# Set up the LabelEncoder object\n",
        "enc = LabelEncoder()\n",
        "\n",
        "# Apply the encoding to the \"Accessible\" column\n",
        "hiking['Accessible_enc'] = enc.fit_transform(hiking['Accessible'])\n",
        "\n",
        "# Compare the two columns\n",
        "print(hiking[['Accessible_enc', 'Accessible']].head())"
      ],
      "execution_count": 0,
      "outputs": []
    },
    {
      "cell_type": "markdown",
      "metadata": {
        "id": "QQVbqcMv_EB0",
        "colab_type": "text"
      },
      "source": [
        "## Encoding categorical variables - one-hot"
      ]
    },
    {
      "cell_type": "code",
      "metadata": {
        "id": "dEr5MglD_Egz",
        "colab_type": "code",
        "colab": {}
      },
      "source": [
        "# Transform the category_desc column\n",
        "category_enc = pd.get_dummies(volunteer['category_desc'])\n",
        "\n",
        "# Take a look at the encoded columns\n",
        "print(category_enc.head())"
      ],
      "execution_count": 0,
      "outputs": []
    },
    {
      "cell_type": "markdown",
      "metadata": {
        "id": "vUBrXuj8_x87",
        "colab_type": "text"
      },
      "source": [
        "## Engineering numerical features - taking an average"
      ]
    },
    {
      "cell_type": "code",
      "metadata": {
        "id": "IxNylK7H_yUr",
        "colab_type": "code",
        "colab": {}
      },
      "source": [
        "# Create a list of the columns to average\n",
        "run_columns = [\"run1\", \"run2\", \"run3\", \"run4\", \"run5\"]\n",
        "\n",
        "# Use apply to create a mean column\n",
        "running_times_5k[\"mean\"] = running_times_5k.apply(lambda row: row[run_columns].mean(), axis=1)\n",
        "\n",
        "# Take a look at the results\n",
        "print(running_times_5k)"
      ],
      "execution_count": 0,
      "outputs": []
    },
    {
      "cell_type": "markdown",
      "metadata": {
        "id": "7zOWnZMbAchN",
        "colab_type": "text"
      },
      "source": [
        "## Engineering numerical features - datetime"
      ]
    },
    {
      "cell_type": "code",
      "metadata": {
        "id": "GUnQlmegAc4j",
        "colab_type": "code",
        "colab": {}
      },
      "source": [
        "# First, convert string column to date column\n",
        "volunteer[\"start_date_converted\"] = pd.to_datetime(volunteer['start_date_date'])\n",
        "\n",
        "# Extract just the month from the converted column\n",
        "volunteer[\"start_date_month\"] = volunteer['start_date_converted'].apply(lambda row: row.month)\n",
        "\n",
        "# Take a look at the converted and new month columns\n",
        "print(volunteer[['start_date_converted', 'start_date_month']].head())"
      ],
      "execution_count": 0,
      "outputs": []
    },
    {
      "cell_type": "markdown",
      "metadata": {
        "id": "C78QYtYsBXw3",
        "colab_type": "text"
      },
      "source": [
        "## Engineering features from strings - extraction"
      ]
    },
    {
      "cell_type": "code",
      "metadata": {
        "id": "oer7KdfFBYHz",
        "colab_type": "code",
        "colab": {}
      },
      "source": [
        "# Write a pattern to extract numbers and decimals\n",
        "def return_mileage(length):\n",
        "    pattern = re.compile(r\"\\d+\\.\\d+\")\n",
        "    \n",
        "    # Search the text for matches\n",
        "    mile = re.match(pattern, length)\n",
        "    \n",
        "    # If a value is returned, use group(0) to return the found value\n",
        "    if mile is not None:\n",
        "        return float(mile.group(0))\n",
        "        \n",
        "# Apply the function to the Length column and take a look at both columns\n",
        "hiking[\"Length_num\"] = hiking['Length'].apply(lambda row: return_mileage(row))\n",
        "print(hiking[[\"Length\", \"Length_num\"]].head())"
      ],
      "execution_count": 0,
      "outputs": []
    },
    {
      "cell_type": "markdown",
      "metadata": {
        "id": "nVJ-UBq3B6c2",
        "colab_type": "text"
      },
      "source": [
        "## Engineering features from strings - tf/idf"
      ]
    },
    {
      "cell_type": "code",
      "metadata": {
        "id": "5U6yczqwB6yx",
        "colab_type": "code",
        "colab": {}
      },
      "source": [
        "# Take the title text\n",
        "title_text = volunteer.title\n",
        "\n",
        "# Create the vectorizer method\n",
        "tfidf_vec = TfidfVectorizer()\n",
        "\n",
        "# Transform the text into tf-idf vectors\n",
        "text_tfidf = tfidf_vec.fit_transform(title_text)"
      ],
      "execution_count": 0,
      "outputs": []
    },
    {
      "cell_type": "markdown",
      "metadata": {
        "id": "TfbCOi-uCGSl",
        "colab_type": "text"
      },
      "source": [
        "## Text classification using tf/idf vectors"
      ]
    },
    {
      "cell_type": "code",
      "metadata": {
        "id": "75xKh305CGqT",
        "colab_type": "code",
        "colab": {}
      },
      "source": [
        "# Split the dataset according to the class distribution of category_desc\n",
        "y = volunteer[\"category_desc\"]\n",
        "X_train, X_test, y_train, y_test = train_test_split(text_tfidf.toarray(), y, stratify=y)\n",
        "\n",
        "# Fit the model to the training data\n",
        "nb.fit(X_train, y_train)\n",
        "\n",
        "# Print out the model's accuracy\n",
        "print(nb.score(X_test, y_test))"
      ],
      "execution_count": 0,
      "outputs": []
    }
  ]
}