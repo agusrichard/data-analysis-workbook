{
  "nbformat": 4,
  "nbformat_minor": 0,
  "metadata": {
    "colab": {
      "name": "putting_it_all_together.ipynb",
      "provenance": [],
      "collapsed_sections": []
    },
    "kernelspec": {
      "name": "python3",
      "display_name": "Python 3"
    }
  },
  "cells": [
    {
      "cell_type": "markdown",
      "metadata": {
        "id": "NxQSWX5kvHrU",
        "colab_type": "text"
      },
      "source": [
        "# Putting it all together: Building a value-weighted index"
      ]
    },
    {
      "cell_type": "markdown",
      "metadata": {
        "id": "14NIUfsYrDBH",
        "colab_type": "text"
      },
      "source": [
        "## Explore and clean company listing information"
      ]
    },
    {
      "cell_type": "code",
      "metadata": {
        "id": "mtchisAHvFna",
        "colab_type": "code",
        "colab": {}
      },
      "source": [
        "# Inspect listings\n",
        "print(listings.info())\n",
        "\n",
        "# Move 'stock symbol' into the index\n",
        "listings.set_index('Stock Symbol', inplace=True)\n",
        "\n",
        "# Drop rows with missing 'sector' data\n",
        "listings.dropna(subset=['Sector'], inplace=True)\n",
        "\n",
        "# Select companies with IPO Year before 2019\n",
        "listings = listings[listings['IPO Year'] < 2019]\n",
        "\n",
        "# Inspect the new listings data\n",
        "print(listings.info())\n",
        "\n",
        "# Show the number of companies per sector\n",
        "print(listings.groupby('Sector').size().sort_values(ascending=False))\n"
      ],
      "execution_count": 0,
      "outputs": []
    },
    {
      "cell_type": "markdown",
      "metadata": {
        "id": "xw5wQY6AvQat",
        "colab_type": "text"
      },
      "source": [
        "## Select and inspect index components"
      ]
    },
    {
      "cell_type": "code",
      "metadata": {
        "id": "n6x0cAJTvQ1-",
        "colab_type": "code",
        "colab": {}
      },
      "source": [
        "# Select largest company for each sector\n",
        "components = listings.groupby(['Sector'])['Market Capitalization'].nlargest(1)\n",
        "\n",
        "# Print components, sorted by market cap\n",
        "print(components.sort_values(ascending=False))\n",
        "\n",
        "# Select stock symbols and print the result\n",
        "tickers = components.index.get_level_values('Stock Symbol')\n",
        "print(tickers)\n",
        "\n",
        "# Print company name, market cap, and last price for each component \n",
        "info_cols = ['Company Name', 'Market Capitalization', 'Last Sale']\n",
        "print(listings.loc[tickers, info_cols].sort_values('Market Capitalization', ascending=False))"
      ],
      "execution_count": 0,
      "outputs": []
    },
    {
      "cell_type": "markdown",
      "metadata": {
        "id": "gpXugh-jvTkL",
        "colab_type": "text"
      },
      "source": [
        "## Import index component price information"
      ]
    },
    {
      "cell_type": "code",
      "metadata": {
        "id": "h-UqwDcwvT85",
        "colab_type": "code",
        "colab": {}
      },
      "source": [
        "# Print tickers\n",
        "print(tickers)\n",
        "\n",
        "# Import prices and inspect result\n",
        "stock_prices = pd.read_csv('stock_prices.csv', parse_dates=['Date'], index_col='Date')\n",
        "print(stock_prices.info())\n",
        "\n",
        "# Calculate the returns\n",
        "price_return = stock_prices.iloc[-1].div(stock_prices.iloc[0]).sub(1).mul(100)\n",
        "\n",
        "# Plot horizontal bar chart of sorted price_return   \n",
        "price_return.sort_values().plot(kind='barh', title='Stock Price Returns')\n",
        "plt.show()\n"
      ],
      "execution_count": 0,
      "outputs": []
    },
    {
      "cell_type": "markdown",
      "metadata": {
        "id": "rRBBk8hJvXyk",
        "colab_type": "text"
      },
      "source": [
        "## Calculate number of shares outstanding"
      ]
    },
    {
      "cell_type": "code",
      "metadata": {
        "id": "OMPjcUysvYJ2",
        "colab_type": "code",
        "colab": {}
      },
      "source": [
        "# Inspect listings and print tickers\n",
        "print(listings.info())\n",
        "print(tickers)\n",
        "\n",
        "# Select components and relevant columns from listings\n",
        "components = listings.loc[tickers, ['Market Capitalization', 'Last Sale']]\n",
        "\n",
        "# Print the first rows of components\n",
        "print(components.head())\n",
        "\n",
        "# Calculate the number of shares here\n",
        "no_shares = components['Market Capitalization'].div(components['Last Sale'])\n",
        "\n",
        "# Print the sorted no_shares\n",
        "print(no_shares.sort_values(ascending=False))\n"
      ],
      "execution_count": 0,
      "outputs": []
    },
    {
      "cell_type": "markdown",
      "metadata": {
        "id": "j_oarleSvbdN",
        "colab_type": "text"
      },
      "source": [
        "## Create time series of market value"
      ]
    },
    {
      "cell_type": "code",
      "metadata": {
        "id": "Mt4WqL0Vvb0f",
        "colab_type": "code",
        "colab": {}
      },
      "source": [
        "# Select the number of shares\n",
        "no_shares = components['Number of Shares']\n",
        "print(no_shares.sort_values())\n",
        "\n",
        "# Create the series of market cap per ticker\n",
        "market_cap = stock_prices.mul(no_shares)\n",
        "\n",
        "# Select first and last market cap here\n",
        "first_value = market_cap.iloc[0]\n",
        "last_value = market_cap.iloc[-1]\n",
        "\n",
        "# Concatenate and plot first and last market cap here\n",
        "pd.concat([first_value, last_value], axis=1).plot(kind='barh')\n",
        "plt.show()\n"
      ],
      "execution_count": 0,
      "outputs": []
    },
    {
      "cell_type": "markdown",
      "metadata": {
        "id": "8z9tKgDuve17",
        "colab_type": "text"
      },
      "source": [
        "## Calculate & plot the composite index"
      ]
    },
    {
      "cell_type": "code",
      "metadata": {
        "id": "GtN99j1RvfLu",
        "colab_type": "code",
        "colab": {}
      },
      "source": [
        "# Aggregate and print the market cap per trading day\n",
        "raw_index = market_cap_series.sum(axis=1)\n",
        "print(raw_index)\n",
        "\n",
        "# Normalize the aggregate market cap here \n",
        "index = raw_index.div(raw_index.iloc[0]).mul(100)\n",
        "print(index)\n",
        "\n",
        "# Plot the index here\n",
        "index.plot(title='Market-Cap Weighted Index')\n",
        "plt.show()\n"
      ],
      "execution_count": 0,
      "outputs": []
    },
    {
      "cell_type": "markdown",
      "metadata": {
        "id": "oTdGkKfWvidR",
        "colab_type": "text"
      },
      "source": [
        "## Calculate the contribution of each stock to the index"
      ]
    },
    {
      "cell_type": "code",
      "metadata": {
        "id": "RHSown_evi6J",
        "colab_type": "code",
        "colab": {}
      },
      "source": [
        "# Calculate and print the index return here\n",
        "index_return = (index.iloc[-1]/index.iloc[0] - 1) * 100\n",
        "print(index_return)\n",
        "\n",
        "# Select the market capitalization\n",
        "market_cap = components['Market Capitalization']\n",
        "\n",
        "# Calculate the total market cap\n",
        "total_market_cap = market_cap.sum()\n",
        "\n",
        "# Calculate the component weights, and print the result\n",
        "weights = market_cap.div(total_market_cap)\n",
        "print(weights.sort_values())\n",
        "\n",
        "# Calculate and plot the contribution by component\n",
        "weights.mul(index_return).sort_values().plot(kind='barh')\n",
        "plt.show()\n"
      ],
      "execution_count": 0,
      "outputs": []
    },
    {
      "cell_type": "markdown",
      "metadata": {
        "id": "yqRnQ7NFvmIb",
        "colab_type": "text"
      },
      "source": [
        "## Compare index performance against benchmark I"
      ]
    },
    {
      "cell_type": "code",
      "metadata": {
        "id": "wz5xUNqXvmfD",
        "colab_type": "code",
        "colab": {}
      },
      "source": [
        "# Convert index series to dataframe here\n",
        "data = index.to_frame('Index')\n",
        "\n",
        "# Normalize djia series and add as new column to data\n",
        "djia = djia.div(djia.iloc[0]).mul(100)\n",
        "data['DJIA'] = djia\n",
        "\n",
        "# Show total return for both index and djia\n",
        "print(data.iloc[-1].div(data.iloc[0]).sub(1).mul(100))\n",
        "\n",
        "# Plot both series\n",
        "data.plot()\n",
        "plt.show()\n"
      ],
      "execution_count": 0,
      "outputs": []
    },
    {
      "cell_type": "markdown",
      "metadata": {
        "id": "I2-8dzP6vpaC",
        "colab_type": "text"
      },
      "source": [
        "## Compare index performance against benchmark II"
      ]
    },
    {
      "cell_type": "code",
      "metadata": {
        "id": "6uIsn-K1vpxd",
        "colab_type": "code",
        "colab": {}
      },
      "source": [
        "# Inspect data\n",
        "print(data.info())\n",
        "print(data.head())\n",
        "\n",
        "# Create multi_period_return function here\n",
        "def multi_period_return(r):\n",
        "    return (np.prod(r + 1) - 1) * 100\n",
        "\n",
        "# Calculate rolling_return_360\n",
        "rolling_return_360 = data.pct_change().rolling('360D').apply(multi_period_return)\n",
        "\n",
        "# Plot rolling_return_360 here\n",
        "rolling_return_360.plot(title='Rolling 360D Return')\n",
        "plt.show()\n"
      ],
      "execution_count": 0,
      "outputs": []
    },
    {
      "cell_type": "markdown",
      "metadata": {
        "id": "AUZamaHNvtaK",
        "colab_type": "text"
      },
      "source": [
        "## Visualize your index constituent correlations"
      ]
    },
    {
      "cell_type": "code",
      "metadata": {
        "id": "CP30LdAwvtxf",
        "colab_type": "code",
        "colab": {}
      },
      "source": [
        "# Inspect stock_prices here\n",
        "print(stock_prices.info())\n",
        "\n",
        "# Calculate the daily returns\n",
        "returns = stock_prices.pct_change()\n",
        "\n",
        "# Calculate and print the pairwise correlations\n",
        "correlations = returns.corr()\n",
        "print(correlations)\n",
        "\n",
        "# Plot a heatmap of daily return correlations\n",
        "sns.heatmap(correlations, annot=True)\n",
        "plt.title('Daily Return Correlations')\n",
        "plt.show();\n"
      ],
      "execution_count": 0,
      "outputs": []
    },
    {
      "cell_type": "markdown",
      "metadata": {
        "id": "f2RJoslevxLM",
        "colab_type": "text"
      },
      "source": [
        "## Save your analysis to multiple excel worksheets"
      ]
    },
    {
      "cell_type": "code",
      "metadata": {
        "id": "YJ8DjUllvxho",
        "colab_type": "code",
        "colab": {}
      },
      "source": [
        "# Inspect index and stock_prices\n",
        "print(index.info())\n",
        "print(stock_prices.info())\n",
        "\n",
        "# Join index to stock_prices, and inspect the result\n",
        "data = stock_prices.join(index)\n",
        "print(data.info())\n",
        "\n",
        "# Create index & stock price returns\n",
        "returns = data.pct_change()\n",
        "\n",
        "# Export data and data as returns to excel\n",
        "with pd.ExcelWriter('data.xls') as writer:\n",
        "    data.to_excel(writer, sheet_name='data')\n",
        "    returns.to_excel(writer, sheet_name='returns')\n"
      ],
      "execution_count": 0,
      "outputs": []
    }
  ]
}