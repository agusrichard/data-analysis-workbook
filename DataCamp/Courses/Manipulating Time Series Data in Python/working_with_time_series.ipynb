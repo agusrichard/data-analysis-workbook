{
  "nbformat": 4,
  "nbformat_minor": 0,
  "metadata": {
    "colab": {
      "name": "working_with_time_series.ipynb",
      "provenance": [],
      "collapsed_sections": []
    },
    "kernelspec": {
      "name": "python3",
      "display_name": "Python 3"
    }
  },
  "cells": [
    {
      "cell_type": "markdown",
      "metadata": {
        "id": "dztAGzd26pVy",
        "colab_type": "text"
      },
      "source": [
        "# Working with Time Series in Pandas"
      ]
    },
    {
      "cell_type": "markdown",
      "metadata": {
        "id": "9NKFI81i4xlH",
        "colab_type": "text"
      },
      "source": [
        "## Your first time series"
      ]
    },
    {
      "cell_type": "code",
      "metadata": {
        "id": "xRD6YLoU6m-W",
        "colab_type": "code",
        "colab": {}
      },
      "source": [
        "# Create the range of dates here\n",
        "seven_days = pd.date_range(start='2017-1-1', periods=7, freq='D')\n",
        "\n",
        "# Iterate over the dates and print the number and name of the weekday\n",
        "for day in seven_days:\n",
        "    print(day.dayofweek, day.weekday_name)\n"
      ],
      "execution_count": 0,
      "outputs": []
    },
    {
      "cell_type": "markdown",
      "metadata": {
        "id": "VtVgLy1P7_u6",
        "colab_type": "text"
      },
      "source": [
        "## Create a time series of air quality data"
      ]
    },
    {
      "cell_type": "code",
      "metadata": {
        "id": "BdLDmev28AQu",
        "colab_type": "code",
        "colab": {}
      },
      "source": [
        "data = pd.read_csv('nyc.csv')\n",
        "\n",
        "# Inspect data\n",
        "print(data.info())\n",
        "\n",
        "# Convert the date column to datetime64\n",
        "data['date'] = pd.to_datetime(data['date'])\n",
        "\n",
        "# Set date column as index\n",
        "data.set_index('date', inplace=True)\n",
        "# Inspect data \n",
        "print(data.info())\n",
        "\n",
        "# Plot data\n",
        "data.plot(subplots=True)\n",
        "plt.show()"
      ],
      "execution_count": 0,
      "outputs": []
    },
    {
      "cell_type": "markdown",
      "metadata": {
        "id": "YTBUNQuw8s-k",
        "colab_type": "text"
      },
      "source": [
        "## Compare annual stock price trends"
      ]
    },
    {
      "cell_type": "code",
      "metadata": {
        "id": "D6PlUfpL8tUx",
        "colab_type": "code",
        "colab": {}
      },
      "source": [
        "# Create dataframe prices here\n",
        "prices = pd.DataFrame()\n",
        "\n",
        "# Select data for each year and concatenate with prices here \n",
        "for year in ['2013', '2014', '2015']:\n",
        "    price_per_year = yahoo.loc[year, ['price']].reset_index(drop=True)\n",
        "    price_per_year.rename(columns={'price': year}, inplace=True)\n",
        "    prices = pd.concat([prices, price_per_year], axis=1)\n",
        "\n",
        "# Plot prices\n",
        "prices.plot(subplots=True)\n",
        "plt.show()"
      ],
      "execution_count": 0,
      "outputs": []
    },
    {
      "cell_type": "markdown",
      "metadata": {
        "id": "7pPWq4rY95A9",
        "colab_type": "text"
      },
      "source": [
        "## Set and change time series frequency"
      ]
    },
    {
      "cell_type": "code",
      "metadata": {
        "id": "f2WD-uM1963w",
        "colab_type": "code",
        "colab": {}
      },
      "source": [
        "# Inspect data\n",
        "print(co.info())\n",
        "\n",
        "# Set the frequency to calendar daily\n",
        "co = co.asfreq('D')\n",
        "\n",
        "# Plot the data\n",
        "co.plot(subplots=True)\n",
        "plt.show()\n",
        "\n",
        "\n",
        "# Set frequency to monthly\n",
        "co = co.asfreq('M')\n",
        "\n",
        "# Plot the data\n",
        "co.plot(subplots=True)\n",
        "plt.show()\n"
      ],
      "execution_count": 0,
      "outputs": []
    },
    {
      "cell_type": "markdown",
      "metadata": {
        "id": "_RTyLfQe_uKD",
        "colab_type": "text"
      },
      "source": [
        "## Shifting stock prices across time"
      ]
    },
    {
      "cell_type": "code",
      "metadata": {
        "id": "exv5Iz2b_ug7",
        "colab_type": "code",
        "colab": {}
      },
      "source": [
        "# Import data here\n",
        "google = pd.read_csv('google.csv', parse_dates=['Date'], index_col='Date')\n",
        "\n",
        "# Set data frequency to business daily\n",
        "google = google.asfreq('B')\n",
        "\n",
        "# Create 'lagged' and 'shifted'\n",
        "google['lagged'] = google['Close'].shift(-90)\n",
        "google['shifted'] = google['Close'].shift(90)\n",
        "\n",
        "# Plot the google price series\n",
        "google.plot(subplots=True)\n",
        "plt.show()\n"
      ],
      "execution_count": 0,
      "outputs": []
    },
    {
      "cell_type": "markdown",
      "metadata": {
        "id": "cIVwail9AbJw",
        "colab_type": "text"
      },
      "source": [
        "## Calculating stock price changes"
      ]
    },
    {
      "cell_type": "code",
      "metadata": {
        "id": "i7Ls3fjLAbg4",
        "colab_type": "code",
        "colab": {}
      },
      "source": [
        "# Created shifted_30 here\n",
        "yahoo['shifted_30'] = yahoo.price.shift(30)\n",
        "\n",
        "# Subtract shifted_30 from price\n",
        "yahoo['change_30'] = yahoo.price.sub(yahoo.shifted_30)\n",
        "\n",
        "# Get the 30-day price difference\n",
        "yahoo['diff_30'] = yahoo.price.diff(30)\n",
        "\n",
        "# Inspect the last five rows of price\n",
        "print(yahoo.tail())\n",
        "\n",
        "# Show the value_counts of the difference between change_30 and diff_30\n",
        "print(yahoo.change_30.sub(yahoo.diff_30).value_counts())\n"
      ],
      "execution_count": 0,
      "outputs": []
    },
    {
      "cell_type": "markdown",
      "metadata": {
        "id": "wS8E6GuIBwlB",
        "colab_type": "text"
      },
      "source": [
        "## Plotting multi-period returns"
      ]
    },
    {
      "cell_type": "code",
      "metadata": {
        "id": "-rTQ-nl3Bw_n",
        "colab_type": "code",
        "colab": {}
      },
      "source": [
        "# Create daily_return\n",
        "google['daily_return'] = google['Close'].pct_change() * 100\n",
        "\n",
        "# Create monthly_return\n",
        "google['monthly_return'] = google['Close'].pct_change(30) * 100\n",
        "\n",
        "# Create annual_return\n",
        "google['annual_return'] = google['Close'].pct_change(360) * 100\n",
        "\n",
        "# Plot the result\n",
        "google.plot(subplots=True)\n",
        "plt.show()"
      ],
      "execution_count": 0,
      "outputs": []
    }
  ]
}