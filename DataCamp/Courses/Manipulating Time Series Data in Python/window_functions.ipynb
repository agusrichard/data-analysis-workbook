{
  "nbformat": 4,
  "nbformat_minor": 0,
  "metadata": {
    "colab": {
      "name": "window_functions.ipynb",
      "provenance": [],
      "collapsed_sections": []
    },
    "kernelspec": {
      "name": "python3",
      "display_name": "Python 3"
    }
  },
  "cells": [
    {
      "cell_type": "markdown",
      "metadata": {
        "id": "zjmCH4OchReI",
        "colab_type": "text"
      },
      "source": [
        "# Window Functions: Rolling & Expanding Metrics"
      ]
    },
    {
      "cell_type": "markdown",
      "metadata": {
        "id": "GI-wHPuwROOM",
        "colab_type": "text"
      },
      "source": [
        "## Rolling average air quality since 2010 for new york city"
      ]
    },
    {
      "cell_type": "code",
      "metadata": {
        "id": "5fRzDFSIhN3u",
        "colab_type": "code",
        "colab": {}
      },
      "source": [
        "# Import and inspect ozone data here\n",
        "data = pd.read_csv('ozone.csv', parse_dates=['date'], index_col='date')\n",
        "print(data.info())\n",
        "\n",
        "# Calculate 90d and 360d rolling mean for the last price\n",
        "data['90D'] = data['Ozone'].rolling('90D').mean()\n",
        "data['360D'] = data['Ozone'].rolling('360D').mean()\n",
        "\n",
        "# Plot data\n",
        "data['2010':].plot()\n",
        "plt.title('New York City')\n",
        "plt.show()"
      ],
      "execution_count": 0,
      "outputs": []
    },
    {
      "cell_type": "markdown",
      "metadata": {
        "id": "xk-ZlFzGiAal",
        "colab_type": "text"
      },
      "source": [
        "## Rolling 360-day median & std. deviation for nyc ozone data since 2000"
      ]
    },
    {
      "cell_type": "code",
      "metadata": {
        "id": "aLOzXvPDiAxW",
        "colab_type": "code",
        "colab": {}
      },
      "source": [
        "# Import and inspect ozone data here\n",
        "data = pd.read_csv('ozone.csv', parse_dates=['date'], index_col='date').dropna()\n",
        "print(data.info())\n",
        "print(data.head())\n",
        "\n",
        "# Calculate the rolling mean and std here\n",
        "rolling_stats = data.Ozone.rolling(360).agg(['mean', 'std'])\n",
        "\n",
        "# Join rolling_stats with ozone data\n",
        "stats = data.join(rolling_stats)\n",
        "\n",
        "# Plot stats\n",
        "stats.plot(subplots=True)\n",
        "plt.show()\n"
      ],
      "execution_count": 0,
      "outputs": []
    },
    {
      "cell_type": "markdown",
      "metadata": {
        "id": "5chF27uBjLd2",
        "colab_type": "text"
      },
      "source": [
        "## Rolling quantiles for daily air quality in nyc"
      ]
    },
    {
      "cell_type": "code",
      "metadata": {
        "id": "-ag3ZN1NjL1r",
        "colab_type": "code",
        "colab": {}
      },
      "source": [
        "# Resample, interpolate and inspect ozone data here\n",
        "data = data.resample('D').interpolate()\n",
        "print(data.info())\n",
        "\n",
        "\n",
        "# Create the rolling window\n",
        "rolling = data['Ozone'].rolling(360)\n",
        "\n",
        "# Insert the rolling quantiles to the monthly returns\n",
        "data['q10'] = rolling.quantile(0.1)\n",
        "data['q50'] = rolling.quantile(0.5)\n",
        "data['q90'] = rolling.quantile(0.9)\n",
        "\n",
        "# Plot the data\n",
        "data.plot()\n",
        "plt.show()\n"
      ],
      "execution_count": 0,
      "outputs": []
    },
    {
      "cell_type": "markdown",
      "metadata": {
        "id": "fwqcrx21k07a",
        "colab_type": "text"
      },
      "source": [
        "## Cumulative sum vs .diff()"
      ]
    },
    {
      "cell_type": "code",
      "metadata": {
        "id": "F5lZcVY1k1R9",
        "colab_type": "code",
        "colab": {}
      },
      "source": [
        "# Calculate differences\n",
        "differences = data.diff().dropna()\n",
        "\n",
        "# Select start price\n",
        "start_price = data.first('D')\n",
        "\n",
        "# Calculate cumulative sum\n",
        "cumulative_sum = start_price.append(differences).cumsum()\n",
        "\n",
        "# Validate cumulative sum equals data\n",
        "print(data.equals(cumulative_sum))\n"
      ],
      "execution_count": 0,
      "outputs": []
    },
    {
      "cell_type": "markdown",
      "metadata": {
        "id": "aP02hW0Ylhfs",
        "colab_type": "text"
      },
      "source": [
        "## Cumulative return on $1,000 invested in google vs apple I"
      ]
    },
    {
      "cell_type": "code",
      "metadata": {
        "id": "yGbwdZ5jlh12",
        "colab_type": "code",
        "colab": {}
      },
      "source": [
        "# Define your investment\n",
        "investment = 1000\n",
        "\n",
        "# Calculate the daily returns here\n",
        "returns = data.pct_change()\n",
        "\n",
        "# Calculate the cumulative returns here\n",
        "returns_plus_one = returns + 1\n",
        "cumulative_return = returns_plus_one.cumprod()\n",
        "\n",
        "# Calculate and plot the investment return here \n",
        "cumulative_return.mul(investment).plot()\n",
        "plt.show()"
      ],
      "execution_count": 0,
      "outputs": []
    },
    {
      "cell_type": "markdown",
      "metadata": {
        "id": "hvV8dqXSmEO_",
        "colab_type": "text"
      },
      "source": [
        "## Cumulative return on $1,000 invested in google vs apple II"
      ]
    },
    {
      "cell_type": "code",
      "metadata": {
        "id": "ZNKMQSAXmEnK",
        "colab_type": "code",
        "colab": {}
      },
      "source": [
        "# Import numpy\n",
        "import numpy as np\n",
        "\n",
        "# Define a multi_period_return function\n",
        "def multi_period_return(period_returns):\n",
        "    return np.prod(period_returns + 1) - 1\n",
        "    \n",
        "# Calculate daily returns\n",
        "daily_returns = data.pct_change()\n",
        "\n",
        "# Calculate rolling_annual_returns\n",
        "rolling_annual_returns = daily_returns.rolling('360D').apply(multi_period_return)\n",
        "\n",
        "# Plot rolling_annual_returns\n",
        "rolling_annual_returns.mul(100).plot();\n",
        "plt.show()"
      ],
      "execution_count": 0,
      "outputs": []
    },
    {
      "cell_type": "markdown",
      "metadata": {
        "id": "ieVlEj9KnKOe",
        "colab_type": "text"
      },
      "source": [
        "## Random walk I"
      ]
    },
    {
      "cell_type": "code",
      "metadata": {
        "id": "nQyv87FInLWn",
        "colab_type": "code",
        "colab": {}
      },
      "source": [
        "# Set seed here\n",
        "from numpy.random import normal, seed\n",
        "seed(42)\n",
        "\n",
        "# Create random_walk\n",
        "random_walk = normal(0.001, 0.01, size=2500)\n",
        "\n",
        "# Convert random_walk to pd.series\n",
        "random_walk = pd.Series(random_walk)\n",
        "\n",
        "# Create random_prices\n",
        "random_prices = random_walk.add(1).cumprod()\n",
        "\n",
        "# Plot random_prices here\n",
        "random_prices.mul(1000).plot()\n",
        "plt.show()\n"
      ],
      "execution_count": 0,
      "outputs": []
    },
    {
      "cell_type": "markdown",
      "metadata": {
        "id": "Qh75CwRPn5W3",
        "colab_type": "text"
      },
      "source": [
        "## Random walk II"
      ]
    },
    {
      "cell_type": "code",
      "metadata": {
        "id": "w8DUrP_rn5uN",
        "colab_type": "code",
        "colab": {}
      },
      "source": [
        "# Set seed here\n",
        "seed(42)\n",
        "\n",
        "# Calculate daily_returns here\n",
        "daily_returns = fb.pct_change().dropna()\n",
        "\n",
        "# Get n_obs\n",
        "n_obs = daily_returns.count()\n",
        "\n",
        "# Create random_walk\n",
        "random_walk = choice(daily_returns, size=n_obs)\n",
        "\n",
        "# Convert random_walk to pd.series\n",
        "random_walk = pd.Series(random_walk)\n",
        "\n",
        "# Plot random_walk distribution\n",
        "sns.distplot(random_walk)\n",
        "plt.show()\n"
      ],
      "execution_count": 0,
      "outputs": []
    },
    {
      "cell_type": "markdown",
      "metadata": {
        "id": "WQ5RRDdfovIn",
        "colab_type": "text"
      },
      "source": [
        "## Random walk III"
      ]
    },
    {
      "cell_type": "code",
      "metadata": {
        "id": "xBt8DfGOovgB",
        "colab_type": "code",
        "colab": {}
      },
      "source": [
        "# Select fb start price here\n",
        "start = fb.price.first('D')\n",
        "\n",
        "# Add 1 to random walk and append to start\n",
        "random_walk = random_walk + 1\n",
        "random_price = start.append(random_walk)\n",
        "\n",
        "# Calculate cumulative product here\n",
        "random_price = random_price.cumprod()\n",
        "\n",
        "# Insert into fb and plot\n",
        "fb['random'] = random_price\n",
        "fb.plot()\n",
        "plt.show()\n"
      ],
      "execution_count": 0,
      "outputs": []
    },
    {
      "cell_type": "markdown",
      "metadata": {
        "id": "IJwSo9KNqqER",
        "colab_type": "text"
      },
      "source": [
        "## Annual return correlations among several stocks"
      ]
    },
    {
      "cell_type": "code",
      "metadata": {
        "id": "MihCOL3sqpaN",
        "colab_type": "code",
        "colab": {}
      },
      "source": [
        "# Inspect data here\n",
        "print(data.info())\n",
        "\n",
        "# Calculate year-end prices here\n",
        "annual_prices = data.resample('A').last()\n",
        "\n",
        "# Calculate annual returns here\n",
        "annual_returns = annual_prices.pct_change()\n",
        "\n",
        "# Calculate and print the correlation matrix here\n",
        "correlations = annual_returns.corr()\n",
        "print(correlations)\n",
        "\n",
        "# Visualize the correlations as heatmap here\n",
        "sns.heatmap(correlations, annot=True)\n",
        "plt.show()"
      ],
      "execution_count": 0,
      "outputs": []
    }
  ]
}