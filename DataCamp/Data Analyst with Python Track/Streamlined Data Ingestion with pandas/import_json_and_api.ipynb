{
  "nbformat": 4,
  "nbformat_minor": 0,
  "metadata": {
    "colab": {
      "name": "import_json_and_api.ipynb",
      "provenance": [],
      "collapsed_sections": []
    },
    "kernelspec": {
      "name": "python3",
      "display_name": "Python 3"
    }
  },
  "cells": [
    {
      "cell_type": "markdown",
      "metadata": {
        "id": "amIZC99Pu0Bc",
        "colab_type": "text"
      },
      "source": [
        "# Importing JSON Data and Working with APIs\n"
      ]
    },
    {
      "cell_type": "markdown",
      "metadata": {
        "id": "nTTMqxMNuwbw",
        "colab_type": "text"
      },
      "source": [
        "## Load JSON data"
      ]
    },
    {
      "cell_type": "code",
      "metadata": {
        "id": "r5IuzEIcuzla",
        "colab_type": "code",
        "colab": {}
      },
      "source": [
        "# Load pandas as pd\n",
        "import pandas as pd\n",
        "\n",
        "# Load the daily report to a data frame\n",
        "pop_in_shelters = pd.read_json('dhs_daily_report.json')\n",
        "\n",
        "# View summary stats about pop_in_shelters\n",
        "print(pop_in_shelters.describe())"
      ],
      "execution_count": 0,
      "outputs": []
    },
    {
      "cell_type": "markdown",
      "metadata": {
        "id": "LnlhX9ypvQHZ",
        "colab_type": "text"
      },
      "source": [
        "## Work with JSON orientations"
      ]
    },
    {
      "cell_type": "code",
      "metadata": {
        "id": "b9d7dFe5vQbm",
        "colab_type": "code",
        "colab": {}
      },
      "source": [
        "try:\n",
        "    # Load the JSON without keyword arguments\n",
        "    df = pd.read_json('dhs_report_reformatted.json')\n",
        "    \n",
        "    # Plot total population in shelters over time\n",
        "    df[\"date_of_census\"] = pd.to_datetime(df[\"date_of_census\"])\n",
        "    df.plot(x=\"date_of_census\", \n",
        "            y=\"total_individuals_in_shelter\")\n",
        "    plt.show()\n",
        "    \n",
        "except ValueError:\n",
        "    print(\"pandas could not parse the JSON.\")"
      ],
      "execution_count": 0,
      "outputs": []
    },
    {
      "cell_type": "code",
      "metadata": {
        "id": "hW1klYSZv5Kg",
        "colab_type": "code",
        "colab": {}
      },
      "source": [
        "try:\n",
        "    # Load the JSON with orient specified\n",
        "    df = pd.read_json(\"dhs_report_reformatted.json\",\n",
        "                      orient='split')\n",
        "    \n",
        "    # Plot total population in shelters over time\n",
        "    df[\"date_of_census\"] = pd.to_datetime(df[\"date_of_census\"])\n",
        "    df.plot(x=\"date_of_census\", \n",
        "            y=\"total_individuals_in_shelter\")\n",
        "    plt.show()\n",
        "    \n",
        "except ValueError:\n",
        "    print(\"pandas could not parse the JSON.\")"
      ],
      "execution_count": 0,
      "outputs": []
    },
    {
      "cell_type": "markdown",
      "metadata": {
        "id": "6OitX12Mv-X3",
        "colab_type": "text"
      },
      "source": [
        "## Get data from an API"
      ]
    },
    {
      "cell_type": "code",
      "metadata": {
        "id": "8AVd3wX3wA-f",
        "colab_type": "code",
        "colab": {}
      },
      "source": [
        "api_url = \"https://api.yelp.com/v3/businesses/search\"\n",
        "\n",
        "# Get data about NYC cafes from the Yelp API\n",
        "response = requests.get(api_url, \n",
        "                headers=headers, \n",
        "                params=params)\n",
        "\n",
        "# Extract JSON data from the response\n",
        "data = response.json()\n",
        "\n",
        "# Load data to a data frame\n",
        "cafes = pd.DataFrame(data['businesses'])\n",
        "\n",
        "# View the data's dtypes\n",
        "print(cafes.dtypes)"
      ],
      "execution_count": 0,
      "outputs": []
    },
    {
      "cell_type": "markdown",
      "metadata": {
        "id": "sg9TI5cnwiCV",
        "colab_type": "text"
      },
      "source": [
        "## Set API parameters"
      ]
    },
    {
      "cell_type": "code",
      "metadata": {
        "id": "QbapLRkbwiRt",
        "colab_type": "code",
        "colab": {}
      },
      "source": [
        "# Create dictionary to query API for cafes in NYC\n",
        "parameters = {'term': 'cafe',\n",
        "          \t  'location': 'NYC'}\n",
        "\n",
        "# Query the Yelp API with headers and params set\n",
        "response = requests.get(api_url,\n",
        "                headers=headers,\n",
        "                params=parameters)\n",
        "\n",
        "# Extract JSON data from response\n",
        "data = response.json()\n",
        "\n",
        "# Load \"businesses\" values to a data frame and print head\n",
        "cafes = pd.DataFrame(data['businesses'])\n",
        "print(cafes.head())"
      ],
      "execution_count": 0,
      "outputs": []
    },
    {
      "cell_type": "markdown",
      "metadata": {
        "id": "Ep3zjDua_lj8",
        "colab_type": "text"
      },
      "source": [
        "## Set request headers"
      ]
    },
    {
      "cell_type": "code",
      "metadata": {
        "id": "ZN-gj6SV_mCm",
        "colab_type": "code",
        "colab": {}
      },
      "source": [
        "# Create dictionary that passes Authorization and key string\n",
        "headers = {'Authorization': \"Bearer {}\".format(api_key)}\n",
        "\n",
        "# Query the Yelp API with headers and params set\n",
        "response = requests.get(api_url, headers=headers, params=params)\n",
        "\n",
        "\n",
        "\n",
        "# Extract JSON data from response\n",
        "data = response.json()\n",
        "\n",
        "# Load \"businesses\" values to a data frame and print names\n",
        "cafes = pd.DataFrame(data['businesses'])\n",
        "print(cafes.name)"
      ],
      "execution_count": 0,
      "outputs": []
    },
    {
      "cell_type": "markdown",
      "metadata": {
        "id": "YQ7eKtn7_-d6",
        "colab_type": "text"
      },
      "source": [
        "## Flatten nested JSONs"
      ]
    },
    {
      "cell_type": "code",
      "metadata": {
        "id": "HYce9uVN_-6F",
        "colab_type": "code",
        "colab": {}
      },
      "source": [
        "# Load json_normalize()\n",
        "from pandas.io.json import json_normalize\n",
        "\n",
        "# Isolate the JSON data from the API response\n",
        "data = response.json()\n",
        "\n",
        "# Flatten business data into a data frame, replace separator\n",
        "cafes = json_normalize(data[\"businesses\"],\n",
        "                       sep=\"_\")\n",
        "\n",
        "# View data\n",
        "print(cafes.head())"
      ],
      "execution_count": 0,
      "outputs": []
    },
    {
      "cell_type": "markdown",
      "metadata": {
        "id": "hHh1S1IbAi2g",
        "colab_type": "text"
      },
      "source": [
        "## Handle deeply nested data"
      ]
    },
    {
      "cell_type": "code",
      "metadata": {
        "id": "25nQy5ESAjQk",
        "colab_type": "code",
        "colab": {}
      },
      "source": [
        "# Specify record path to get categories data\n",
        "flat_cafes = json_normalize(data[\"businesses\"],\n",
        "                            sep=\"_\",\n",
        "                    \t\t____)\n",
        "\n",
        "# View the data\n",
        "print(flat_cafes.head())"
      ],
      "execution_count": 0,
      "outputs": []
    },
    {
      "cell_type": "code",
      "metadata": {
        "id": "aAL-_D62BKTB",
        "colab_type": "code",
        "colab": {}
      },
      "source": [
        "# Specify record path to get categories data\n",
        "flat_cafes = json_normalize(data[\"businesses\"],\n",
        "                            sep=\"_\",\n",
        "                    \t\trecord_path='categories')\n",
        "\n",
        "# View the data\n",
        "print(flat_cafes.head())"
      ],
      "execution_count": 0,
      "outputs": []
    },
    {
      "cell_type": "code",
      "metadata": {
        "id": "tyj-GX71BqbM",
        "colab_type": "code",
        "colab": {}
      },
      "source": [
        "# Load other business attributes and set meta prefix\n",
        "flat_cafes = json_normalize(data[\"businesses\"],\n",
        "                            sep=\"_\",\n",
        "                    \t\trecord_path=\"categories\",\n",
        "                    \t\tmeta=[\"name\", \n",
        "                                  \"alias\",  \n",
        "                                  \"rating\",\n",
        "                          \t\t  [\"coordinates\", \"latitude\"], \n",
        "                          \t\t  [\"coordinates\", \"longitude\"]],\n",
        "                    \t\tmeta_prefix=\"biz_\")\n",
        "\n",
        "# View the data\n",
        "print(flat_cafes.head())"
      ],
      "execution_count": 0,
      "outputs": []
    },
    {
      "cell_type": "markdown",
      "metadata": {
        "id": "jK8EZbERBus3",
        "colab_type": "text"
      },
      "source": [
        "## Append data frames"
      ]
    },
    {
      "cell_type": "code",
      "metadata": {
        "id": "yhkt6b8cBvCT",
        "colab_type": "code",
        "colab": {}
      },
      "source": [
        "# Add an offset parameter to get cafes 51-100\n",
        "params = {\"term\": \"cafe\", \n",
        "          \"location\": \"NYC\",\n",
        "          \"sort_by\": \"rating\", \n",
        "          \"limit\": 50,\n",
        "          \"offset\": 50}\n",
        "\n",
        "result = requests.get(api_url, headers=headers, params=params)\n",
        "next_50_cafes = json_normalize(result.json()[\"businesses\"])\n",
        "\n",
        "# Append the results, setting ignore_index to renumber rows\n",
        "cafes = top_50_cafes.append(next_50_cafes, ignore_index=True)\n",
        "\n",
        "# Print shape of cafes\n",
        "print(cafes.shape)"
      ],
      "execution_count": 0,
      "outputs": []
    },
    {
      "cell_type": "markdown",
      "metadata": {
        "id": "AkUK0H5ZCS0l",
        "colab_type": "text"
      },
      "source": [
        "## Merge data frames"
      ]
    },
    {
      "cell_type": "markdown",
      "metadata": {
        "id": "7HJ5Dw5qCTJu",
        "colab_type": "text"
      },
      "source": [
        "D. location_zip_code in cafes and zipcode in crosswalk"
      ]
    },
    {
      "cell_type": "markdown",
      "metadata": {
        "id": "yEQJ7GfbCn2l",
        "colab_type": "text"
      },
      "source": [
        "B. puma in both"
      ]
    },
    {
      "cell_type": "code",
      "metadata": {
        "id": "6PRGsPShC704",
        "colab_type": "code",
        "colab": {}
      },
      "source": [
        "# Merge crosswalk into cafes on their zip code fields\n",
        "cafes_with_pumas = cafes.merge(crosswalk, \n",
        "                   \t\t\t   left_on=\"location_zip_code\", \n",
        "                               right_on=\"zipcode\")\n",
        "\n",
        "# Merge pop_data into cafes_with_pumas on puma field\n",
        "cafes_with_pop = cafes_with_pumas.merge(pop_data, on=\"puma\")\n",
        "\n",
        "# View the data\n",
        "print(cafes_with_pop.head())"
      ],
      "execution_count": 0,
      "outputs": []
    }
  ]
}