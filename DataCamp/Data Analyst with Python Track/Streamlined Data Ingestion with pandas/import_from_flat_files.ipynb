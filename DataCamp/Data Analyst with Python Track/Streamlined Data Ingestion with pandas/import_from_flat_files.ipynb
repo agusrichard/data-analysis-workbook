{
  "nbformat": 4,
  "nbformat_minor": 0,
  "metadata": {
    "colab": {
      "name": "import_from_flat_files.ipynb",
      "provenance": [],
      "collapsed_sections": []
    },
    "kernelspec": {
      "name": "python3",
      "display_name": "Python 3"
    }
  },
  "cells": [
    {
      "cell_type": "markdown",
      "metadata": {
        "id": "yapQiGzhb9Hd",
        "colab_type": "text"
      },
      "source": [
        "# Importing Data from Flat Files\n"
      ]
    },
    {
      "cell_type": "markdown",
      "metadata": {
        "id": "aRB5rJ8Rb_vB",
        "colab_type": "text"
      },
      "source": [
        "## Get data from CSVs"
      ]
    },
    {
      "cell_type": "code",
      "metadata": {
        "id": "DdDpJ29PcG34",
        "colab_type": "code",
        "colab": {}
      },
      "source": [
        "# Import pandas as pd\n",
        "import pandas as pd\n",
        "\n",
        "# Read the CSV and assign it to the variable data\n",
        "data = pd.read_csv('vt_tax_data_2016.csv')\n",
        "\n",
        "# View the first few lines of data\n",
        "print(data.head())"
      ],
      "execution_count": 0,
      "outputs": []
    },
    {
      "cell_type": "markdown",
      "metadata": {
        "id": "P619M-dPdxZg",
        "colab_type": "text"
      },
      "source": [
        "## Get data from other flat files"
      ]
    },
    {
      "cell_type": "code",
      "metadata": {
        "id": "H0zvT7NWdyWx",
        "colab_type": "code",
        "colab": {}
      },
      "source": [
        "# Import pandas with the alias pd\n",
        "import pandas as pd\n",
        "\n",
        "# Load TSV using the sep keyword argument to set delimiter\n",
        "data = pd.read_csv('vt_tax_data_2016.tsv', sep='\\t')\n",
        "\n",
        "# Plot the total number of tax returns by income group\n",
        "counts = data.groupby(\"agi_stub\").N1.sum()\n",
        "counts.plot.bar()\n",
        "plt.show()"
      ],
      "execution_count": 0,
      "outputs": []
    },
    {
      "cell_type": "markdown",
      "metadata": {
        "id": "w-vofTzoeyoa",
        "colab_type": "text"
      },
      "source": [
        "## Import a subset of columns"
      ]
    },
    {
      "cell_type": "code",
      "metadata": {
        "id": "s8H3yzbXezpp",
        "colab_type": "code",
        "colab": {}
      },
      "source": [
        "# Create list of columns to use\n",
        "cols = ['zipcode', 'agi_stub', 'mars1', 'MARS2', 'NUMDEP']\n",
        "\n",
        "# Create data frame from csv using only selected columns\n",
        "data = pd.read_csv(\"vt_tax_data_2016.csv\", usecols=cols)\n",
        "\n",
        "# View counts of dependents and tax returns by income level\n",
        "print(data.groupby(\"agi_stub\").sum())"
      ],
      "execution_count": 0,
      "outputs": []
    },
    {
      "cell_type": "markdown",
      "metadata": {
        "id": "gBJze4bPfzOe",
        "colab_type": "text"
      },
      "source": [
        "## Import a file in chunks"
      ]
    },
    {
      "cell_type": "code",
      "metadata": {
        "id": "sAvIfSxqf1T_",
        "colab_type": "code",
        "colab": {}
      },
      "source": [
        "# Create data frame of next 500 rows with labeled columns\n",
        "vt_data_next500 = pd.read_csv(\"vt_tax_data_2016.csv\", \n",
        "                       \t\t  nrows=500,\n",
        "                       \t\t  skiprows=500,\n",
        "                       \t\t  header=None,\n",
        "                       \t\t  names=vt_data_first500.columns)\n",
        "\n",
        "# View the Vermont data frames to confirm they're different\n",
        "print(vt_data_first500.head())\n",
        "print(vt_data_next500.head())"
      ],
      "execution_count": 0,
      "outputs": []
    },
    {
      "cell_type": "markdown",
      "metadata": {
        "id": "s8JGLOwugVlb",
        "colab_type": "text"
      },
      "source": [
        "## Specify data types"
      ]
    },
    {
      "cell_type": "code",
      "metadata": {
        "id": "MrPdmV-cgV96",
        "colab_type": "code",
        "colab": {}
      },
      "source": [
        "# Load csv with no additional arguments\n",
        "data = pd.read_csv(\"vt_tax_data_2016.csv\")\n",
        "\n",
        "# Print the data types\n",
        "print(data.dtypes)"
      ],
      "execution_count": 0,
      "outputs": []
    },
    {
      "cell_type": "code",
      "metadata": {
        "id": "NqqgNXAYgxoO",
        "colab_type": "code",
        "colab": {}
      },
      "source": [
        "# Create dict specifying data types for agi_stub and zipcode\n",
        "data_types = {\"agi_stub\": \"category\",\n",
        "\t\t\t  \"zipcode\": str}\n",
        "\n",
        "# Load csv using dtype to set correct data types\n",
        "data = pd.read_csv(\"vt_tax_data_2016.csv\", dtype=data_types)\n",
        "\n",
        "# Print data types of resulting frame\n",
        "print(data.dtypes.head())"
      ],
      "execution_count": 0,
      "outputs": []
    },
    {
      "cell_type": "markdown",
      "metadata": {
        "id": "PYIHMzn5gza9",
        "colab_type": "text"
      },
      "source": [
        "## Set custom NA values"
      ]
    },
    {
      "cell_type": "code",
      "metadata": {
        "id": "u8fezazBgzz_",
        "colab_type": "code",
        "colab": {}
      },
      "source": [
        "# Create dict specifying that 0s in zipcode are NA values\n",
        "null_values = {'zipcode': 0}\n",
        "\n",
        "# Load csv using na_values keyword argument\n",
        "data = pd.read_csv(\"vt_tax_data_2016.csv\", \n",
        "                   na_values=null_values)\n",
        "\n",
        "# View rows with NA ZIP codes\n",
        "print(data[data.zipcode.isna()])"
      ],
      "execution_count": 0,
      "outputs": []
    },
    {
      "cell_type": "markdown",
      "metadata": {
        "id": "Qp2iYLC-hAT8",
        "colab_type": "text"
      },
      "source": [
        "## Skip bad data"
      ]
    },
    {
      "cell_type": "code",
      "metadata": {
        "id": "GZMDp0V2hAp2",
        "colab_type": "code",
        "colab": {}
      },
      "source": [
        "try:\n",
        "  # Import the CSV without any keyword arguments\n",
        "  data = pd.read_csv('vt_tax_data_2016_corrupt.csv')\n",
        "  \n",
        "  # View first 5 records\n",
        "  print(data.head())\n",
        "  \n",
        "except pd.io.common.CParserError:\n",
        "    print(\"Your data contained rows that could not be parsed.\")"
      ],
      "execution_count": 0,
      "outputs": []
    },
    {
      "cell_type": "code",
      "metadata": {
        "id": "XFD6xKpShUQk",
        "colab_type": "code",
        "colab": {}
      },
      "source": [
        "try:\n",
        "  # Import CSV with error_bad_lines set to skip bad records\n",
        "  data = pd.read_csv(\"vt_tax_data_2016_corrupt.csv\", \n",
        "                     error_bad_lines=False)\n",
        "  \n",
        "  # View first 5 records\n",
        "  print(data.head())\n",
        "  \n",
        "except pd.io.common.CParserError:\n",
        "    print(\"Your data contained rows that could not be parsed.\")"
      ],
      "execution_count": 0,
      "outputs": []
    },
    {
      "cell_type": "code",
      "metadata": {
        "id": "wGajjCephe-8",
        "colab_type": "code",
        "colab": {}
      },
      "source": [
        "try:\n",
        "  # Set warn_bad_lines to issue warnings about bad records\n",
        "  data = pd.read_csv(\"vt_tax_data_2016_corrupt.csv\", \n",
        "                     error_bad_lines=False, \n",
        "                     warn_bad_lines=True)\n",
        "  \n",
        "  # View first 5 records\n",
        "  print(data.head())\n",
        "  \n",
        "except pd.io.common.CParserError:\n",
        "    print(\"Your data contained rows that could not be parsed.\")"
      ],
      "execution_count": 0,
      "outputs": []
    }
  ]
}