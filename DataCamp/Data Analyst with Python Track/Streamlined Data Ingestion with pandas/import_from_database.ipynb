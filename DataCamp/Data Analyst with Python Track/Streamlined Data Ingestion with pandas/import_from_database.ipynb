{
  "nbformat": 4,
  "nbformat_minor": 0,
  "metadata": {
    "colab": {
      "name": "import_from_database.ipynb",
      "provenance": []
    },
    "kernelspec": {
      "name": "python3",
      "display_name": "Python 3"
    }
  },
  "cells": [
    {
      "cell_type": "markdown",
      "metadata": {
        "id": "Jwxw-DM9qFgO",
        "colab_type": "text"
      },
      "source": [
        "# Importing Data from Databases"
      ]
    },
    {
      "cell_type": "markdown",
      "metadata": {
        "id": "6adosEjCqGrE",
        "colab_type": "text"
      },
      "source": [
        "## Connect to a database"
      ]
    },
    {
      "cell_type": "code",
      "metadata": {
        "id": "ns0GZcuVqMRS",
        "colab_type": "code",
        "colab": {}
      },
      "source": [
        "# Import sqlalchemy's create_engine() function\n",
        "from sqlalchemy import create_engine"
      ],
      "execution_count": 0,
      "outputs": []
    },
    {
      "cell_type": "code",
      "metadata": {
        "id": "r1R_Lx6Wqa1c",
        "colab_type": "code",
        "colab": {}
      },
      "source": [
        "# Import sqlalchemy's create_engine() function\n",
        "from sqlalchemy import create_engine\n",
        "\n",
        "# Create the database engine\n",
        "engine = create_engine('sqlite:///data.db')\n",
        "\n",
        "# View the tables in the database\n",
        "print(engine.table_names())"
      ],
      "execution_count": 0,
      "outputs": []
    },
    {
      "cell_type": "markdown",
      "metadata": {
        "id": "O6COCsfXqesF",
        "colab_type": "text"
      },
      "source": [
        "## Load entire tables"
      ]
    },
    {
      "cell_type": "code",
      "metadata": {
        "id": "HmZxqSBoqfY5",
        "colab_type": "code",
        "colab": {}
      },
      "source": [
        "# Load libraries\n",
        "import pandas as pd\n",
        "from sqlalchemy import create_engine\n",
        "\n",
        "# Create the database engine\n",
        "engine = create_engine('sqlite:///data.db')\n",
        "\n",
        "# Load hpd311calls without any SQL\n",
        "hpd_calls = pd.read_sql(\"hpd311calls\", engine)\n",
        "\n",
        "# View the first few rows of data\n",
        "print(hpd_calls.head())"
      ],
      "execution_count": 0,
      "outputs": []
    },
    {
      "cell_type": "code",
      "metadata": {
        "id": "5wG07r7zrKKQ",
        "colab_type": "code",
        "colab": {}
      },
      "source": [
        "# Create the database engine\n",
        "engine = create_engine(\"sqlite:///data.db\")\n",
        "\n",
        "# Create a SQL query to load the entire weather table\n",
        "query = \"\"\"\n",
        "SELECT * \n",
        "  FROM weather;\n",
        "\"\"\"\n",
        "\n",
        "# Load weather with the SQL query\n",
        "weather = pd.read_sql(query, engine)\n",
        "\n",
        "# View the first few rows of data\n",
        "print(weather.head())"
      ],
      "execution_count": 0,
      "outputs": []
    },
    {
      "cell_type": "markdown",
      "metadata": {
        "id": "-XZYyrlcrNlg",
        "colab_type": "text"
      },
      "source": [
        "## Selecting columns with SQL"
      ]
    },
    {
      "cell_type": "code",
      "metadata": {
        "id": "4NKJfLfrrN2r",
        "colab_type": "code",
        "colab": {}
      },
      "source": [
        "# Create database engine for data.db\n",
        "engine = create_engine('sqlite:///data.db')\n",
        "\n",
        "# Write query to get date, tmax, and tmin from weather\n",
        "query = \"\"\"\n",
        "SELECT date, \n",
        "       tmax, \n",
        "       tmin\n",
        "  FROM weather;\n",
        "\"\"\"\n",
        "\n",
        "# Make a data frame by passing query and engine to read_sql()\n",
        "temperatures = pd.read_sql(query, engine)\n",
        "\n",
        "# View the resulting data frame\n",
        "print(temperatures)"
      ],
      "execution_count": 0,
      "outputs": []
    },
    {
      "cell_type": "markdown",
      "metadata": {
        "id": "LoB6WaubrfHL",
        "colab_type": "text"
      },
      "source": [
        "## Selecting rows"
      ]
    },
    {
      "cell_type": "code",
      "metadata": {
        "id": "8g4-6VUxrfbW",
        "colab_type": "code",
        "colab": {}
      },
      "source": [
        "# Create query to get hpd311calls records about safety\n",
        "query = \"\"\"\n",
        "SELECT *\n",
        "FROM hpd311calls\n",
        "WHERE complaint_type = 'SAFETY';\n",
        "\"\"\"\n",
        "\n",
        "# Query the database and assign result to safety_calls\n",
        "safety_calls = pd.read_sql(query, engine)\n",
        "\n",
        "# Graph the number of safety calls by borough\n",
        "call_counts = safety_calls.groupby('borough').unique_key.count()\n",
        "call_counts.plot.barh()\n",
        "plt.show()"
      ],
      "execution_count": 0,
      "outputs": []
    },
    {
      "cell_type": "markdown",
      "metadata": {
        "id": "3NOAcXY6r0Kw",
        "colab_type": "text"
      },
      "source": [
        "## Filtering on multiple conditions"
      ]
    },
    {
      "cell_type": "code",
      "metadata": {
        "id": "aaIB0BQ0r0eW",
        "colab_type": "code",
        "colab": {}
      },
      "source": [
        "# Create query for records with max temps <= 32 or snow >= 1\n",
        "query = \"\"\"\n",
        "SELECT *\n",
        "  FROM weather\n",
        "  WHERE tmax <= 32\n",
        "  OR snow >= 1;\n",
        "\"\"\"\n",
        "\n",
        "# Query database and assign result to wintry_days\n",
        "wintry_days = pd.read_sql(query, engine)\n",
        "\n",
        "# View summary stats about the temperatures\n",
        "print(wintry_days.describe())"
      ],
      "execution_count": 0,
      "outputs": []
    },
    {
      "cell_type": "markdown",
      "metadata": {
        "id": "wKVSmAVisGzb",
        "colab_type": "text"
      },
      "source": [
        "## Getting distinct values"
      ]
    },
    {
      "cell_type": "code",
      "metadata": {
        "id": "VQgbR2vXsHG9",
        "colab_type": "code",
        "colab": {}
      },
      "source": [
        "# Create query for unique combinations of borough and complaint_type\n",
        "query = \"\"\"\n",
        "SELECT DISTINCT borough, \n",
        "       complaint_type\n",
        "  FROM hpd311calls;\n",
        "\"\"\"\n",
        "\n",
        "# Load results of query to a data frame\n",
        "issues_and_boros = pd.read_sql(query, engine)\n",
        "\n",
        "# Check assumption about issues and boroughs\n",
        "print(issues_and_boros)"
      ],
      "execution_count": 0,
      "outputs": []
    },
    {
      "cell_type": "markdown",
      "metadata": {
        "id": "SXxy9d29scmn",
        "colab_type": "text"
      },
      "source": [
        "## Counting in groups"
      ]
    },
    {
      "cell_type": "code",
      "metadata": {
        "id": "zs_Nog5Csc55",
        "colab_type": "code",
        "colab": {}
      },
      "source": [
        "# Create query to get call counts by complaint_type\n",
        "query = \"\"\"\n",
        "SELECT complaint_type, \n",
        "     COUNT(*)\n",
        "  FROM hpd311calls\n",
        "  GROUP BY complaint_type;\n",
        "\"\"\"\n",
        "\n",
        "# Create data frame of call counts by issue\n",
        "calls_by_issue = pd.read_sql(query, engine)\n",
        "\n",
        "# Graph the number of calls for each housing issue\n",
        "calls_by_issue.plot.barh(x=\"complaint_type\")\n",
        "plt.show()"
      ],
      "execution_count": 0,
      "outputs": []
    },
    {
      "cell_type": "markdown",
      "metadata": {
        "id": "sedKpB85sotv",
        "colab_type": "text"
      },
      "source": [
        "## Working with aggregate functions"
      ]
    },
    {
      "cell_type": "code",
      "metadata": {
        "id": "KnlGjKHkso_w",
        "colab_type": "code",
        "colab": {}
      },
      "source": [
        "# Create a query to get month and max tmax by month\n",
        "query = \"\"\"\n",
        "SELECT month, \n",
        "       MAX(tmax)\n",
        "  FROM weather \n",
        "  GROUP BY month;\"\"\"\n",
        "\n",
        "# Get data frame of monthly weather stats\n",
        "weather_by_month = pd.read_sql(query, engine)\n",
        "\n",
        "# View weather stats by month\n",
        "print(weather_by_month)"
      ],
      "execution_count": 0,
      "outputs": []
    },
    {
      "cell_type": "code",
      "metadata": {
        "id": "Of4vYJ9ttDzw",
        "colab_type": "code",
        "colab": {}
      },
      "source": [
        "# Create a query to get month, max tmax, and min tmin by month\n",
        "query = \"\"\"\n",
        "SELECT month, \n",
        "\t   MAX(tmax), \n",
        "       MIN(tmin)\n",
        "  FROM weather \n",
        " GROUP BY month;\n",
        "\"\"\"\n",
        "\n",
        "# Get data frame of monthly weather stats\n",
        "weather_by_month = pd.read_sql(query, engine)\n",
        "\n",
        "# View weather stats by month\n",
        "print(weather_by_month)# Create a query to get month, max tmax, and min tmin by month\n",
        "query = \"\"\"\n",
        "SELECT month, \n",
        "\t   MAX(tmax), \n",
        "       MIN(tmin)\n",
        "  FROM weather \n",
        " GROUP BY month;\n",
        "\"\"\"\n",
        "\n",
        "# Get data frame of monthly weather stats\n",
        "weather_by_month = pd.read_sql(query, engine)\n",
        "\n",
        "# View weather stats by month\n",
        "print(weather_by_month)"
      ],
      "execution_count": 0,
      "outputs": []
    },
    {
      "cell_type": "markdown",
      "metadata": {
        "id": "mo_agtNitHx8",
        "colab_type": "text"
      },
      "source": [
        "## Joining tables"
      ]
    },
    {
      "cell_type": "code",
      "metadata": {
        "id": "cs94SnkXtKuX",
        "colab_type": "code",
        "colab": {}
      },
      "source": [
        "# Query to join weather to call records by date columns\n",
        "query = \"\"\"\n",
        "SELECT * \n",
        "  FROM hpd311calls\n",
        "  JOIN weather \n",
        "  ON hpd311calls.created_date = weather.date;\n",
        "\"\"\"\n",
        "\n",
        "# Create data frame of joined tables\n",
        "calls_with_weather = pd.read_sql(query, engine)\n",
        "\n",
        "# View the data frame to make sure all columns were joined\n",
        "print(calls_with_weather.head())"
      ],
      "execution_count": 0,
      "outputs": []
    },
    {
      "cell_type": "markdown",
      "metadata": {
        "id": "MStipZUvth-w",
        "colab_type": "text"
      },
      "source": [
        "## Joining and filtering"
      ]
    },
    {
      "cell_type": "code",
      "metadata": {
        "id": "hTdGlD4ltiUb",
        "colab_type": "code",
        "colab": {}
      },
      "source": [
        "# Query to get hpd311calls and precipitation values\n",
        "query = \"\"\"\n",
        "SELECT hpd311calls.*, weather.prcp\n",
        "  FROM hpd311calls\n",
        "  JOIN weather\n",
        "  ON hpd311calls.created_date = weather.date;\"\"\"\n",
        "\n",
        "# Load query results into the leak_calls data frame\n",
        "leak_calls = pd.read_sql(query, engine)\n",
        "\n",
        "# View the data frame\n",
        "print(leak_calls.head())"
      ],
      "execution_count": 0,
      "outputs": []
    },
    {
      "cell_type": "code",
      "metadata": {
        "id": "dHt7qCEht3cV",
        "colab_type": "code",
        "colab": {}
      },
      "source": [
        "# Query to get water leak calls and daily precipitation\n",
        "query = \"\"\"\n",
        "SELECT hpd311calls.*, weather.prcp\n",
        "  FROM hpd311calls\n",
        "  JOIN weather\n",
        "    ON hpd311calls.created_date = weather.date\n",
        "  WHERE hpd311calls.complaint_type = 'WATER LEAK';\"\"\"\n",
        "\n",
        "# Load query results into the leak_calls data frame\n",
        "leak_calls = pd.read_sql(query, engine)\n",
        "\n",
        "# View the data frame\n",
        "print(leak_calls.head())"
      ],
      "execution_count": 0,
      "outputs": []
    },
    {
      "cell_type": "markdown",
      "metadata": {
        "id": "iRIDqJ-0t5mV",
        "colab_type": "text"
      },
      "source": [
        "## Joining, filtering, and aggregating"
      ]
    },
    {
      "cell_type": "code",
      "metadata": {
        "id": "qVK2m3xXt54_",
        "colab_type": "code",
        "colab": {}
      },
      "source": [
        "# Query to get heat/hot water call counts by created_date\n",
        "query = \"\"\"\n",
        "SELECT hpd311calls.created_date, \n",
        "       COUNT(*)\n",
        "  FROM hpd311calls \n",
        "  WHERE hpd311calls.complaint_type = 'HEAT/HOT WATER'\n",
        "  GROUP BY hpd311calls.created_date;\n",
        "\"\"\"\n",
        "\n",
        "# Query database and save results as df\n",
        "df = pd.read_sql(query, engine)\n",
        "\n",
        "# View first 5 records\n",
        "print(df.head())"
      ],
      "execution_count": 0,
      "outputs": []
    },
    {
      "cell_type": "code",
      "metadata": {
        "id": "Uh7NK33duk-J",
        "colab_type": "code",
        "colab": {}
      },
      "source": [
        "# Modify query to join tmax and tmin from weather by date\n",
        "query = \"\"\"\n",
        "SELECT hpd311calls.created_date, \n",
        "\t   COUNT(*), \n",
        "       weather.tmax,\n",
        "       weather.tmin\n",
        "  FROM hpd311calls \n",
        "       JOIN weather\n",
        "       ON hpd311calls.created_date = weather.date\n",
        " WHERE hpd311calls.complaint_type = 'HEAT/HOT WATER' \n",
        " GROUP BY hpd311calls.created_date;\n",
        " \"\"\"\n",
        "\n",
        "# Query database and save results as df\n",
        "df = pd.read_sql(query, engine)\n",
        "\n",
        "# View first 5 records\n",
        "print(df.head())"
      ],
      "execution_count": 0,
      "outputs": []
    }
  ]
}