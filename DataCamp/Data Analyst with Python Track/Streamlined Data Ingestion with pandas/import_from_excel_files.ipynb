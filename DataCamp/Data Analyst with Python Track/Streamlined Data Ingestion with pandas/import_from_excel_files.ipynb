{
  "nbformat": 4,
  "nbformat_minor": 0,
  "metadata": {
    "colab": {
      "name": "import_from_excel_files.ipynb",
      "provenance": [],
      "collapsed_sections": []
    },
    "kernelspec": {
      "name": "python3",
      "display_name": "Python 3"
    }
  },
  "cells": [
    {
      "cell_type": "markdown",
      "metadata": {
        "id": "FRmDn7EThywF",
        "colab_type": "text"
      },
      "source": [
        "# Importing Data From Excel Files"
      ]
    },
    {
      "cell_type": "markdown",
      "metadata": {
        "id": "D0j0vjK-h0Of",
        "colab_type": "text"
      },
      "source": [
        "## Get data from a spreadsheet"
      ]
    },
    {
      "cell_type": "code",
      "metadata": {
        "id": "E9N8To6Fh6bU",
        "colab_type": "code",
        "colab": {}
      },
      "source": [
        "# Load pandas as pd\n",
        "import pandas as pd\n",
        "\n",
        "# Read spreadsheet and assign it to survey_responses\n",
        "survey_responses = pd.read_excel('fcc_survey.xlsx')\n",
        "\n",
        "# View the head of the data frame\n",
        "print(survey_responses.head())"
      ],
      "execution_count": 0,
      "outputs": []
    },
    {
      "cell_type": "markdown",
      "metadata": {
        "id": "p_37_kD_iPJa",
        "colab_type": "text"
      },
      "source": [
        "## Load a portion of a spreadsheet"
      ]
    },
    {
      "cell_type": "code",
      "metadata": {
        "id": "Xys7fCdyiPi8",
        "colab_type": "code",
        "colab": {}
      },
      "source": [
        "# Create string of lettered columns to load\n",
        "col_string = \"AD, AW:BA\"\n",
        "\n",
        "# Load data with skiprows and usecols set\n",
        "survey_responses = pd.read_excel(\"fcc_survey_headers.xlsx\", \n",
        "                                 skiprows=2, \n",
        "                                 usecols=col_string)\n",
        "\n",
        "# View the names of the columns selected\n",
        "print(survey_responses.columns)"
      ],
      "execution_count": 0,
      "outputs": []
    },
    {
      "cell_type": "markdown",
      "metadata": {
        "id": "CZf6BgVdmGg6",
        "colab_type": "text"
      },
      "source": [
        "## Select a single sheet"
      ]
    },
    {
      "cell_type": "code",
      "metadata": {
        "id": "JhWRbdgEmG0k",
        "colab_type": "code",
        "colab": {}
      },
      "source": [
        "# Create df from second worksheet by referencing its position\n",
        "responses_2017 = pd.read_excel(\"fcc_survey.xlsx\",\n",
        "                               sheet_name=1)\n",
        "\n",
        "# Graph where people would like to get a developer job\n",
        "job_prefs = responses_2017.groupby(\"JobPref\").JobPref.count()\n",
        "job_prefs.plot.barh()\n",
        "plt.show()"
      ],
      "execution_count": 0,
      "outputs": []
    },
    {
      "cell_type": "code",
      "metadata": {
        "id": "VtsXkmvXmVpk",
        "colab_type": "code",
        "colab": {}
      },
      "source": [
        "# Create df from second worksheet by referencing its name\n",
        "responses_2017 = pd.read_excel(\"fcc_survey.xlsx\",\n",
        "                               sheet_name='2017')\n",
        "\n",
        "# Graph where people would like to get a developer job\n",
        "job_prefs = responses_2017.groupby(\"JobPref\").JobPref.count()\n",
        "job_prefs.plot.barh()\n",
        "plt.show()"
      ],
      "execution_count": 0,
      "outputs": []
    },
    {
      "cell_type": "markdown",
      "metadata": {
        "id": "JFCbl8F2mXjR",
        "colab_type": "text"
      },
      "source": [
        "## Select multiple sheets"
      ]
    },
    {
      "cell_type": "code",
      "metadata": {
        "id": "S11oUIwmmX4I",
        "colab_type": "code",
        "colab": {}
      },
      "source": [
        "# Load both the 2016 and 2017 sheets by name\n",
        "all_survey_data = pd.read_excel(\"fcc_survey.xlsx\",\n",
        "                                sheet_name=['2016', '2017'])\n",
        "\n",
        "# View the data type of all_survey_data\n",
        "print(type(all_survey_data))"
      ],
      "execution_count": 0,
      "outputs": []
    },
    {
      "cell_type": "code",
      "metadata": {
        "id": "z3s9T3IFmnS6",
        "colab_type": "code",
        "colab": {}
      },
      "source": [
        "# Load all sheets in the Excel file\n",
        "all_survey_data = pd.read_excel(\"fcc_survey.xlsx\",\n",
        "                                sheet_name=[0, '2017'])\n",
        "\n",
        "# View the sheet names in all_survey_data\n",
        "print(all_survey_data.keys())"
      ],
      "execution_count": 0,
      "outputs": []
    },
    {
      "cell_type": "code",
      "metadata": {
        "id": "7kXzY7u4m1MZ",
        "colab_type": "code",
        "colab": {}
      },
      "source": [
        "# Load all sheets in the Excel file\n",
        "all_survey_data = pd.read_excel(\"fcc_survey.xlsx\",\n",
        "                                sheet_name=None)\n",
        "\n",
        "# View the sheet names in all_survey_data\n",
        "print(all_survey_data.keys())"
      ],
      "execution_count": 0,
      "outputs": []
    },
    {
      "cell_type": "markdown",
      "metadata": {
        "id": "j6clEbxGm3N3",
        "colab_type": "text"
      },
      "source": [
        "## Work with multiple spreadsheets"
      ]
    },
    {
      "cell_type": "code",
      "metadata": {
        "id": "-1I4MxmNm3t-",
        "colab_type": "code",
        "colab": {}
      },
      "source": [
        "# Create an empty data frame\n",
        "all_responses = pd.DataFrame()\n",
        "\n",
        "# Set up for loop to iterate through values in responses\n",
        "for df in responses.values():\n",
        "  # Print the number of rows being added\n",
        "  print(\"Adding {} rows\".format(df.shape[0]))\n",
        "  # Append df to all_responses, assign result\n",
        "  all_responses = all_responses.append(df)\n",
        "\n",
        "# Graph employment statuses in sample\n",
        "counts = all_responses.groupby(\"EmploymentStatus\").EmploymentStatus.count()\n",
        "counts.plot.barh()\n",
        "plt.show()"
      ],
      "execution_count": 0,
      "outputs": []
    },
    {
      "cell_type": "markdown",
      "metadata": {
        "id": "ibpsRBFQnWrB",
        "colab_type": "text"
      },
      "source": [
        "## Set Boolean columns"
      ]
    },
    {
      "cell_type": "code",
      "metadata": {
        "id": "ys1lIGuhnXBx",
        "colab_type": "code",
        "colab": {}
      },
      "source": [
        "# Load the data\n",
        "survey_data = pd.read_excel(\"fcc_survey_subset.xlsx\")\n",
        "\n",
        "# Count NA values in each column\n",
        "print(survey_data.isnull().sum())"
      ],
      "execution_count": 0,
      "outputs": []
    },
    {
      "cell_type": "code",
      "metadata": {
        "id": "O1YlToXCnl1b",
        "colab_type": "code",
        "colab": {}
      },
      "source": [
        "# Set dtype to load appropriate column(s) as Boolean data\n",
        "survey_data = pd.read_excel(\"fcc_survey_subset.xlsx\",\n",
        "                            dtype={'HasDebt': bool})\n",
        "\n",
        "# View financial burdens by Boolean group\n",
        "print(survey_data.groupby('HasDebt').sum())"
      ],
      "execution_count": 0,
      "outputs": []
    },
    {
      "cell_type": "markdown",
      "metadata": {
        "id": "_hlf5m6Unpry",
        "colab_type": "text"
      },
      "source": [
        "## Set custom true/false values"
      ]
    },
    {
      "cell_type": "code",
      "metadata": {
        "id": "9GCo-E5znqBA",
        "colab_type": "code",
        "colab": {}
      },
      "source": [
        "# Load file with Yes as a True value and No as a False value\n",
        "survey_subset = pd.read_excel(\"fcc_survey_yn_data.xlsx\",\n",
        "                              dtype={\"HasDebt\": bool,\n",
        "                              \"AttendedBootCampYesNo\": bool},\n",
        "                              true_values=[\"Yes\"],\n",
        "                              false_values=[\"No\"])\n",
        "\n",
        "# View the data\n",
        "print(survey_subset.head())"
      ],
      "execution_count": 0,
      "outputs": []
    },
    {
      "cell_type": "markdown",
      "metadata": {
        "id": "c_cX6F_ZoCQE",
        "colab_type": "text"
      },
      "source": [
        "## Parse simple dates"
      ]
    },
    {
      "cell_type": "code",
      "metadata": {
        "id": "Rwu88XQtoCn8",
        "colab_type": "code",
        "colab": {}
      },
      "source": [
        "# Load file, with Part1StartTime parsed as datetime data\n",
        "survey_data = pd.read_excel(\"fcc_survey.xlsx\",\n",
        "                            parse_dates=['Part1StartTime'])\n",
        "\n",
        "# Print first few values of Part1StartTime\n",
        "print(survey_data.Part1StartTime.head())"
      ],
      "execution_count": 0,
      "outputs": []
    },
    {
      "cell_type": "markdown",
      "metadata": {
        "id": "AkMvrB3yoYc4",
        "colab_type": "text"
      },
      "source": [
        "## Get datetimes from multiple columns"
      ]
    },
    {
      "cell_type": "code",
      "metadata": {
        "id": "mhS0djqqoaBx",
        "colab_type": "code",
        "colab": {}
      },
      "source": [
        "# Create dict of columns to combine into new datetime column\n",
        "datetime_cols = {\"Part2Start\": [\"Part2StartDate\", \"Part2StartTime\"]}\n",
        "\n",
        "\n",
        "# Load file, supplying the dict to parse_dates\n",
        "survey_data = pd.read_excel(\"fcc_survey_dts.xlsx\",\n",
        "                            parse_dates=datetime_cols)\n",
        "\n",
        "# View summary statistics about Part2Start\n",
        "print(survey_data.Part2Start.describe())"
      ],
      "execution_count": 0,
      "outputs": []
    },
    {
      "cell_type": "markdown",
      "metadata": {
        "id": "bgHHqOUho1b-",
        "colab_type": "text"
      },
      "source": [
        "## Parse non-standard date formats"
      ]
    },
    {
      "cell_type": "markdown",
      "metadata": {
        "id": "LG0Q0Nsto14b",
        "colab_type": "text"
      },
      "source": [
        "C. %m%d%Y %H:%M:%S"
      ]
    },
    {
      "cell_type": "code",
      "metadata": {
        "id": "zi1CWVSTpKqu",
        "colab_type": "code",
        "colab": {}
      },
      "source": [
        "# Parse datetimes and assign result back to Part2EndTime\n",
        "survey_data[\"Part2EndTime\"] = pd.to_datetime(survey_data['Part2EndTime'],\n",
        "                                   format='%m%d%Y %H:%M:%S')"
      ],
      "execution_count": 0,
      "outputs": []
    },
    {
      "cell_type": "code",
      "metadata": {
        "id": "-Hp4GkXCpcpc",
        "colab_type": "code",
        "colab": {}
      },
      "source": [
        "# Parse datetimes and assign result back to Part2EndTime\n",
        "survey_data[\"Part2EndTime\"] = pd.to_datetime(survey_data[\"Part2EndTime\"], \n",
        "                                             format=\"%m%d%Y %H:%M:%S\")\n",
        "\n",
        "# Print first few values of Part2EndTime\n",
        "print(survey_data['Part2EndTime'].head())"
      ],
      "execution_count": 0,
      "outputs": []
    }
  ]
}