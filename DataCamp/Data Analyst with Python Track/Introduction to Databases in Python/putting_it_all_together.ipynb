{
  "nbformat": 4,
  "nbformat_minor": 0,
  "metadata": {
    "colab": {
      "name": "putting_it_all_together.ipynb",
      "provenance": []
    },
    "kernelspec": {
      "name": "python3",
      "display_name": "Python 3"
    }
  },
  "cells": [
    {
      "cell_type": "markdown",
      "metadata": {
        "id": "NSLUXG-MtvZg",
        "colab_type": "text"
      },
      "source": [
        "# Putting it all together\n"
      ]
    },
    {
      "cell_type": "markdown",
      "metadata": {
        "id": "AJ0CAbthtyat",
        "colab_type": "text"
      },
      "source": [
        "## Setup the engine and metadata"
      ]
    },
    {
      "cell_type": "code",
      "metadata": {
        "id": "AtzLJaGZugMV",
        "colab_type": "code",
        "colab": {}
      },
      "source": [
        "# Import create_engine, MetaData\n",
        "from sqlalchemy import create_engine, MetaData\n",
        "\n",
        "# Define an engine to connect to chapter5.sqlite: engine\n",
        "engine = create_engine('sqlite:///chapter5.sqlite')\n",
        "\n",
        "# Initialize MetaData: metadata\n",
        "metadata = MetaData()\n"
      ],
      "execution_count": 0,
      "outputs": []
    },
    {
      "cell_type": "markdown",
      "metadata": {
        "id": "DZZPXZmkvCPC",
        "colab_type": "text"
      },
      "source": [
        "## Create the table to the database"
      ]
    },
    {
      "cell_type": "code",
      "metadata": {
        "id": "QvzSzFRXvClc",
        "colab_type": "code",
        "colab": {}
      },
      "source": [
        "# Import Table, Column, String, and Integer\n",
        "from sqlalchemy import Table, Column, String, Integer\n",
        "\n",
        "# Build a census table: census\n",
        "census = Table('census', metadata,\n",
        "               Column('state', String(30)),\n",
        "               Column('sex', String(1)),\n",
        "               Column('age', Integer()),\n",
        "               Column('pop2000', Integer()),\n",
        "               Column('pop2008', Integer()))\n",
        "\n",
        "# Create the table in the database\n",
        "metadata.create_all(engine)\n"
      ],
      "execution_count": 0,
      "outputs": []
    },
    {
      "cell_type": "markdown",
      "metadata": {
        "id": "ck1K6DG1v_G6",
        "colab_type": "text"
      },
      "source": [
        "## Reading the data from the CSV"
      ]
    },
    {
      "cell_type": "code",
      "metadata": {
        "id": "x9TW9VsRv_ji",
        "colab_type": "code",
        "colab": {}
      },
      "source": [
        "# Create an empty list: values_list\n",
        "values_list = []\n",
        "\n",
        "# Iterate over the rows\n",
        "for row in csv_reader:\n",
        "    # Create a dictionary with the values\n",
        "    data = {'state': row[0], 'sex': row[1], 'age': row[2], 'pop2000': row[3],  'pop2008': row[4]\n",
        "    }\n",
        "    # Append the dictionary to the values list\n",
        "    values_list.append(data)\n"
      ],
      "execution_count": 0,
      "outputs": []
    },
    {
      "cell_type": "markdown",
      "metadata": {
        "id": "t8senKwLwEN6",
        "colab_type": "text"
      },
      "source": [
        "## Load data from a list into the Table"
      ]
    },
    {
      "cell_type": "code",
      "metadata": {
        "id": "dsQk9xgTwEi5",
        "colab_type": "code",
        "colab": {}
      },
      "source": [
        "# Import insert\n",
        "from sqlalchemy import insert\n",
        "\n",
        "# Build insert statement: stmt\n",
        "stmt = insert(census)\n",
        "\n",
        "# Use values_list to insert data: results\n",
        "results = connection.execute(stmt, values_list)\n",
        "\n",
        "# Print rowcount\n",
        "print(results.rowcount)\n"
      ],
      "execution_count": 0,
      "outputs": []
    },
    {
      "cell_type": "markdown",
      "metadata": {
        "id": "Jkp1A2IJw712",
        "colab_type": "text"
      },
      "source": [
        "## Determine the average age by population"
      ]
    },
    {
      "cell_type": "code",
      "metadata": {
        "id": "CVEWXLjmw8KB",
        "colab_type": "code",
        "colab": {}
      },
      "source": [
        "# Import select and func\n",
        "from sqlalchemy import select, func\n",
        "\n",
        "# Select the average of age weighted by pop2000\n",
        "stmt = select([func.sum(census.columns.age * census.columns.pop2000) / func.sum(census.columns.pop2000)\n",
        "\t\t\t  ])"
      ],
      "execution_count": 0,
      "outputs": []
    },
    {
      "cell_type": "code",
      "metadata": {
        "id": "hViGDMcAxdNw",
        "colab_type": "code",
        "colab": {}
      },
      "source": [
        "# Import select and func\n",
        "from sqlalchemy import select, func\n",
        "\n",
        "# Relabel the new column as average_age\n",
        "stmt = select([(func.sum(census.columns.pop2000 * census.columns.age) \n",
        "  \t\t\t\t\t/ func.sum(census.columns.pop2000)).label('average_age')\n",
        "\t\t\t  ])"
      ],
      "execution_count": 0,
      "outputs": []
    },
    {
      "cell_type": "code",
      "metadata": {
        "id": "fqiojlpnxdiy",
        "colab_type": "code",
        "colab": {}
      },
      "source": [
        "# Import select and func\n",
        "from sqlalchemy import select, func\n",
        "\n",
        "# Add the sex column to the select statement\n",
        "stmt = select([ census.columns.sex,\n",
        "                (func.sum(census.columns.pop2000 * census.columns.age) \n",
        "  \t\t\t\t\t/ func.sum(census.columns.pop2000)).label('average_age'),               \n",
        "\t\t\t  ])\n",
        "\n",
        "# Group by sex\n",
        "stmt = stmt.group_by(census.columns.sex)"
      ],
      "execution_count": 0,
      "outputs": []
    },
    {
      "cell_type": "code",
      "metadata": {
        "id": "yhzgCPxXxdzi",
        "colab_type": "code",
        "colab": {}
      },
      "source": [
        "# Import select and func\n",
        "from sqlalchemy import select, func\n",
        "\n",
        "# Select sex and average age weighted by 2000 population\n",
        "stmt = select([(func.sum(census.columns.pop2000 * census.columns.age) \n",
        "  \t\t\t\t\t/ func.sum(census.columns.pop2000)).label('average_age'),\n",
        "               census.columns.sex\n",
        "\t\t\t  ])\n",
        "\n",
        "# Group by sex\n",
        "stmt = stmt.group_by(census.columns.sex)\n",
        "\n",
        "# Execute the query and fetch all the results\n",
        "results = connection.execute(stmt).fetchall()\n",
        "\n",
        "# Print the sex and average age column for each result\n",
        "for result in results:\n",
        "    print(result.sex, result.average_age)"
      ],
      "execution_count": 0,
      "outputs": []
    },
    {
      "cell_type": "markdown",
      "metadata": {
        "id": "dkF0cMYlx0w5",
        "colab_type": "text"
      },
      "source": [
        "## Determine the percentage of population by gender and state"
      ]
    },
    {
      "cell_type": "code",
      "metadata": {
        "id": "aIHunfmOx1Ev",
        "colab_type": "code",
        "colab": {}
      },
      "source": [
        "# import case, cast and Float from sqlalchemy\n",
        "from sqlalchemy import case, cast, Float\n",
        "\n",
        "# Build a query to calculate the percentage of women in 2000: stmt\n",
        "stmt = select([census.columns.state,\n",
        "    (func.sum(\n",
        "        case([\n",
        "            (census.columns.sex == 'F', census.columns.pop2000)\n",
        "        ], else_=0)) /\n",
        "     cast(func.sum(census.columns.pop2000), Float) * 100).label('percent_female')\n",
        "])\n",
        "\n",
        "# Group By state\n",
        "stmt = stmt.group_by(census.columns.state)\n",
        "\n",
        "# Execute the query and store the results: results\n",
        "results = connection.execute(stmt).fetchall()\n",
        "\n",
        "# Print the percentage\n",
        "for result in results:\n",
        "    print(result.state, result.percent_female)\n"
      ],
      "execution_count": 0,
      "outputs": []
    },
    {
      "cell_type": "markdown",
      "metadata": {
        "id": "83kLM53EyhKp",
        "colab_type": "text"
      },
      "source": [
        "## Determine the difference by state from the 2000 and 2008 censuses"
      ]
    },
    {
      "cell_type": "code",
      "metadata": {
        "id": "tnsDJKyVyhe2",
        "colab_type": "code",
        "colab": {}
      },
      "source": [
        "# Build query to return state name and population difference from 2008 to 2000\n",
        "stmt = select([census.columns.state,\n",
        "     (census.columns.pop2008-census.columns.pop2000).label('pop_change')\n",
        "])\n",
        "\n",
        "# Group by State\n",
        "stmt = stmt.group_by(census.columns.state)\n",
        "\n",
        "# Order by Population Change\n",
        "stmt = stmt.order_by(desc('pop_change'))\n",
        "\n",
        "# Limit to top 10\n",
        "stmt = stmt.limit(10)\n",
        "\n",
        "# Use connection to execute the statement and fetch all results\n",
        "results = connection.execute(stmt).fetchall()\n",
        "\n",
        "# Print the state and population change for each record\n",
        "for result in results:\n",
        "    print('{}:{}'.format(result.state, result.pop_change))"
      ],
      "execution_count": 0,
      "outputs": []
    }
  ]
}