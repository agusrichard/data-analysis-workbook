{
  "nbformat": 4,
  "nbformat_minor": 0,
  "metadata": {
    "colab": {
      "name": "create_manipulate_databases.ipynb",
      "provenance": [],
      "collapsed_sections": []
    },
    "kernelspec": {
      "name": "python3",
      "display_name": "Python 3"
    }
  },
  "cells": [
    {
      "cell_type": "markdown",
      "metadata": {
        "id": "SWLeKLteM2GK",
        "colab_type": "text"
      },
      "source": [
        "# Creating and Manipulating your own Databases\n"
      ]
    },
    {
      "cell_type": "markdown",
      "metadata": {
        "id": "mLr0hPmeNr0V",
        "colab_type": "text"
      },
      "source": [
        "## Creating tables with SQLAlchemy"
      ]
    },
    {
      "cell_type": "code",
      "metadata": {
        "id": "rFYPq0G7NwlP",
        "colab_type": "code",
        "colab": {}
      },
      "source": [
        "# Import Table, Column, String, Integer, Float, Boolean from sqlalchemy\n",
        "from sqlalchemy import Column, String, Integer, Float, Boolean, Table\n",
        "\n",
        "# Define a new table with a name, count, amount, and valid column: data\n",
        "data = Table('data', metadata,\n",
        "             Column('name', String(255)),\n",
        "             Column('count', Integer()),\n",
        "             Column('amount', Float()),\n",
        "             Column('valid', Boolean())\n",
        ")\n",
        "\n",
        "# Use the metadata to create the table\n",
        "metadata.create_all(engine)\n",
        "\n",
        "# Print table details\n",
        "print(repr(data))\n"
      ],
      "execution_count": 0,
      "outputs": []
    },
    {
      "cell_type": "markdown",
      "metadata": {
        "id": "GUPACgXXOQDF",
        "colab_type": "text"
      },
      "source": [
        "## Constraints and data defaults"
      ]
    },
    {
      "cell_type": "code",
      "metadata": {
        "id": "sleftaKmOQaU",
        "colab_type": "code",
        "colab": {}
      },
      "source": [
        "# Import Table, Column, String, Integer, Float, Boolean from sqlalchemy\n",
        "from sqlalchemy import Table, Column, String, Integer, Float, Boolean\n",
        "\n",
        "# Define a new table with a name, count, amount, and valid column: data\n",
        "data = Table('data', metadata,\n",
        "             Column('name', String(255), unique=True),\n",
        "             Column('count', Integer(), default=1),\n",
        "             Column('amount', Float()),\n",
        "             Column('valid', Boolean(), default=False)\n",
        ")\n",
        "\n",
        "# Use the metadata to create the table\n",
        "metadata.create_all(engine)\n",
        "\n",
        "# Print the table details\n",
        "print(repr(metadata.tables['data']))\n"
      ],
      "execution_count": 0,
      "outputs": []
    },
    {
      "cell_type": "markdown",
      "metadata": {
        "id": "PS7sCLWWPBPN",
        "colab_type": "text"
      },
      "source": [
        "## Inserting a single row"
      ]
    },
    {
      "cell_type": "code",
      "metadata": {
        "id": "rZeHvBhxPB_I",
        "colab_type": "code",
        "colab": {}
      },
      "source": [
        "# Import insert and select from sqlalchemy\n",
        "from sqlalchemy import insert, select\n",
        "\n",
        "# Build an insert statement to insert a record into the data table: insert_stmt\n",
        "insert_stmt = insert(data).values(name='Anna', count=1, amount=1000.00, valid=True)\n",
        "\n",
        "# Execute the insert statement via the connection: results\n",
        "results = connection.execute(insert_stmt)\n",
        "\n",
        "# Print result rowcount\n",
        "print(results.rowcount)\n",
        "\n",
        "# Build a select statement to validate the insert: select_stmt\n",
        "select_stmt = select([data]).where(data.columns.name == 'Anna')\n",
        "\n",
        "# Print the result of executing the query.\n",
        "print(connection.execute(select_stmt).first())\n"
      ],
      "execution_count": 0,
      "outputs": []
    },
    {
      "cell_type": "markdown",
      "metadata": {
        "id": "hiafvJVNPn1_",
        "colab_type": "text"
      },
      "source": [
        "## Inserting multiple records at once"
      ]
    },
    {
      "cell_type": "code",
      "metadata": {
        "id": "WsJmokCgPoMg",
        "colab_type": "code",
        "colab": {}
      },
      "source": [
        "# Build a list of dictionaries: values_list\n",
        "values_list = [\n",
        "    {'name': 'Anna', 'count': 1, 'amount': 1000.00, 'valid': True},\n",
        "    {'name': 'Taylor', 'count': 1, 'amount': 750.00, 'valid': False}\n",
        "]\n",
        "\n",
        "# Build an insert statement for the data table: stmt\n",
        "stmt = insert(data)\n",
        "\n",
        "# Execute stmt with the values_list: results\n",
        "results = connection.execute(stmt, values_list)\n",
        "\n",
        "# Print rowcount\n",
        "print(results.rowcount)\n"
      ],
      "execution_count": 0,
      "outputs": []
    },
    {
      "cell_type": "markdown",
      "metadata": {
        "id": "gdjfXhePQFdw",
        "colab_type": "text"
      },
      "source": [
        "## Loading a CSV into a table"
      ]
    },
    {
      "cell_type": "code",
      "metadata": {
        "id": "K7xvi43DQF1G",
        "colab_type": "code",
        "colab": {}
      },
      "source": [
        "# import pandas\n",
        "import pandas as pd\n",
        "\n",
        "# read census.csv into a dataframe : census_df\n",
        "census_df = pd.read_csv('census.csv', header=None)\n",
        "\n",
        "# rename the columns of the census dataframe\n",
        "census_df.columns = ['state', 'sex', 'age', 'pop2000', 'pop2008']"
      ],
      "execution_count": 0,
      "outputs": []
    },
    {
      "cell_type": "code",
      "metadata": {
        "id": "n1WK9V57Qz-n",
        "colab_type": "code",
        "colab": {}
      },
      "source": [
        "# import pandas\n",
        "import pandas as pd\n",
        "\n",
        "# read census.csv into a dataframe : census_df\n",
        "census_df = pd.read_csv(\"census.csv\", header=None)\n",
        "\n",
        "# rename the columns of the census dataframe\n",
        "census_df.columns = ['state', 'sex', 'age', 'pop2000', 'pop2008']\n",
        "\n",
        "# append the data from census_df to the \"census\" table via connection\n",
        "census_df.to_sql(name=\"census\", con=connection, if_exists=\"append\", index=False)"
      ],
      "execution_count": 0,
      "outputs": []
    },
    {
      "cell_type": "markdown",
      "metadata": {
        "id": "vBqgL3qdRj3K",
        "colab_type": "text"
      },
      "source": [
        "## Updating individual records"
      ]
    },
    {
      "cell_type": "code",
      "metadata": {
        "id": "v0seWfMmRkN_",
        "colab_type": "code",
        "colab": {}
      },
      "source": [
        "# Build a select statement: select_stmt\n",
        "select_stmt = select([state_fact]).where(state_fact.columns.name == 'New York')\n",
        "\n",
        "# Execute select_stmt and fetch the results\n",
        "results = connection.execute(select_stmt).fetchall()\n",
        "\n",
        "# Print the results of executing the select_stmt\n",
        "print(results)\n",
        "\n",
        "# Print the FIPS code for the first row of the result\n",
        "print(results[0]['fips_state'])"
      ],
      "execution_count": 0,
      "outputs": []
    },
    {
      "cell_type": "code",
      "metadata": {
        "id": "AMKqb6FuSN0f",
        "colab_type": "code",
        "colab": {}
      },
      "source": [
        "select_stmt = select([state_fact]).where(state_fact.columns.name == 'New York')\n",
        "results = connection.execute(select_stmt).fetchall()\n",
        "print(results)\n",
        "print(results[0]['fips_state'])\n",
        "\n",
        "# Build a statement to update the fips_state to 36: update_stmt\n",
        "update_stmt = update(state_fact).values(fips_state = 36)\n",
        "\n",
        "# Append a where clause to limit it to records for New York state\n",
        "update_stmt = update_stmt.where(state_fact.columns.name == 'New York')\n",
        "\n",
        "# Execute the statement: update_results\n",
        "update_results = connection.execute(update_stmt)"
      ],
      "execution_count": 0,
      "outputs": []
    },
    {
      "cell_type": "code",
      "metadata": {
        "id": "0i_nuFJQSeKm",
        "colab_type": "code",
        "colab": {}
      },
      "source": [
        "select_stmt = select([state_fact]).where(state_fact.columns.name == 'New York')\n",
        "results = connection.execute(select_stmt).fetchall()\n",
        "print(results)\n",
        "print(results[0]['fips_state'])\n",
        "\n",
        "update_stmt = update(state_fact).values(fips_state = 36)\n",
        "update_stmt = update_stmt.where(state_fact.columns.name == 'New York')\n",
        "update_results = connection.execute(update_stmt)\n",
        "\n",
        "# Execute select_stmt again and fetch the new results\n",
        "new_results = connection.execute(select_stmt).fetchall()\n",
        "\n",
        "# Print the new_results\n",
        "print(new_results)\n",
        "\n",
        "# Print the FIPS code for the first row of the new_results\n",
        "print(new_results[0]['fips_state'])"
      ],
      "execution_count": 0,
      "outputs": []
    },
    {
      "cell_type": "markdown",
      "metadata": {
        "id": "ojnYtgLOSf-G",
        "colab_type": "text"
      },
      "source": [
        "## Updating multiple records"
      ]
    },
    {
      "cell_type": "code",
      "metadata": {
        "id": "aaGvABkXSgWB",
        "colab_type": "code",
        "colab": {}
      },
      "source": [
        "# Build a statement to update the notes to 'The Wild West': stmt\n",
        "stmt = update(state_fact).values(notes='The Wild West')\n",
        "\n",
        "# Append a where clause to match the West census region records: stmt_west\n",
        "stmt_west = stmt.where(state_fact.columns.census_region_name == 'West')\n",
        "\n",
        "# Execute the statement: results\n",
        "results = connection.execute(stmt_west)\n",
        "\n",
        "# Print rowcount\n",
        "print(results.rowcount)\n"
      ],
      "execution_count": 0,
      "outputs": []
    },
    {
      "cell_type": "markdown",
      "metadata": {
        "id": "IA9XF0zES6Ud",
        "colab_type": "text"
      },
      "source": [
        "## Correlated updates"
      ]
    },
    {
      "cell_type": "code",
      "metadata": {
        "id": "8pZqTEo3S66r",
        "colab_type": "code",
        "colab": {}
      },
      "source": [
        "# Build a statement to select name from state_fact: fips_stmt\n",
        "fips_stmt = select([state_fact.columns.name])\n",
        "\n",
        "# Append a where clause to match the fips_state to flat_census fips_code: fips_stmt\n",
        "fips_stmt = fips_stmt.where(\n",
        "    state_fact.columns.fips_state == flat_census.columns.fips_code)\n",
        "\n",
        "# Build an update statement to set the name to fips_stmt_where: update_stmt\n",
        "update_stmt = update(flat_census).values(state_name=fips_stmt)\n",
        "\n",
        "# Execute update_stmt: results\n",
        "results = connection.execute(update_stmt)\n",
        "\n",
        "# Print rowcount\n",
        "print(results.rowcount)\n"
      ],
      "execution_count": 0,
      "outputs": []
    },
    {
      "cell_type": "markdown",
      "metadata": {
        "id": "-1i2JGprURqR",
        "colab_type": "text"
      },
      "source": [
        "## Deleting all the records from a table"
      ]
    },
    {
      "cell_type": "code",
      "metadata": {
        "id": "eChf6t4RUSCH",
        "colab_type": "code",
        "colab": {}
      },
      "source": [
        "# Import delete, select\n",
        "from sqlalchemy import delete, select\n",
        "\n",
        "# Build a statement to empty the census table: stmt\n",
        "delete_stmt = delete(census)\n",
        "\n",
        "# Execute the statement: results\n",
        "results = connection.execute(delete_stmt)\n",
        "\n",
        "# Print affected rowcount\n",
        "print(results.rowcount)\n",
        "\n",
        "# Build a statement to select all records from the census table : select_stmt\n",
        "select_stmt = select([census])\n",
        "\n",
        "# Print the results of executing the statement to verify there are no rows\n",
        "print(connection.execute(select_stmt).fetchall())\n"
      ],
      "execution_count": 0,
      "outputs": []
    },
    {
      "cell_type": "markdown",
      "metadata": {
        "id": "cxAVn3t2Uh1p",
        "colab_type": "text"
      },
      "source": [
        "## Deleting specific records"
      ]
    },
    {
      "cell_type": "code",
      "metadata": {
        "id": "FXz5OPX3UifD",
        "colab_type": "code",
        "colab": {}
      },
      "source": [
        "# Build a statement to count records using the sex column for Men ('M') age 36: count_stmt\n",
        "count_stmt = select([func.count(census.columns.sex)]).where(\n",
        "    and_(census.columns.sex == 'M',\n",
        "         census.columns.age == 36)\n",
        ")\n",
        "\n",
        "# Execute the select statement and use the scalar() fetch method to save the record count\n",
        "to_delete = connection.execute(count_stmt).scalar()\n",
        "\n",
        "# Build a statement to delete records from the census table: delete_stmt\n",
        "delete_stmt = delete(census)\n",
        "\n",
        "# Append a where clause to target Men ('M') age 36: delete_stmt\n",
        "delete_stmt = delete_stmt.where(\n",
        "    and_(census.columns.sex == 'M',\n",
        "         census.columns.age == 36)\n",
        ")\n",
        "\n",
        "# Execute the statement: results\n",
        "results = connection.execute(delete_stmt)\n",
        "\n",
        "# Print affected rowcount and to_delete record count, make sure they match\n",
        "print(results.rowcount, to_delete)\n"
      ],
      "execution_count": 0,
      "outputs": []
    },
    {
      "cell_type": "markdown",
      "metadata": {
        "id": "L_RH1ROiU6JA",
        "colab_type": "text"
      },
      "source": [
        "## Deleting a table completely"
      ]
    },
    {
      "cell_type": "code",
      "metadata": {
        "id": "-3OH6XIPU6fc",
        "colab_type": "code",
        "colab": {}
      },
      "source": [
        "# Drop the state_fact table\n",
        "state_fact.drop(engine)\n",
        "\n",
        "# Check to see if state_fact exists\n",
        "print(state_fact.exists(engine))\n",
        "\n",
        "# Drop all tables\n",
        "metadata.drop_all(engine)\n",
        "\n",
        "# Check to see if census exists\n",
        "print(census.exists(engine))\n"
      ],
      "execution_count": 0,
      "outputs": []
    }
  ]
}