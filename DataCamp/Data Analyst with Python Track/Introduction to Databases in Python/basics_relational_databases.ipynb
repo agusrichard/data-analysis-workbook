{
  "nbformat": 4,
  "nbformat_minor": 0,
  "metadata": {
    "colab": {
      "name": "basics_relational_databases.ipynb",
      "provenance": []
    },
    "kernelspec": {
      "name": "python3",
      "display_name": "Python 3"
    }
  },
  "cells": [
    {
      "cell_type": "markdown",
      "metadata": {
        "id": "0CfL76s7hLhl",
        "colab_type": "text"
      },
      "source": [
        "# Basics of Relational Databases\n"
      ]
    },
    {
      "cell_type": "markdown",
      "metadata": {
        "id": "C2WAv0tqjEGF",
        "colab_type": "text"
      },
      "source": [
        "## Engines and connection strings"
      ]
    },
    {
      "cell_type": "code",
      "metadata": {
        "id": "tQX_vDy1jIKy",
        "colab_type": "code",
        "colab": {}
      },
      "source": [
        "# Import create_engine\n",
        "from sqlalchemy import create_engine\n",
        "\n",
        "# Create an engine that connects to the census.sqlite file: engine\n",
        "engine = create_engine('sqlite:///census.sqlite')\n",
        "\n",
        "# Print table names\n",
        "print(engine.table_names())\n"
      ],
      "execution_count": 0,
      "outputs": []
    },
    {
      "cell_type": "markdown",
      "metadata": {
        "id": "JejLg2fWjcJK",
        "colab_type": "text"
      },
      "source": [
        "## Autoloading Tables from a database"
      ]
    },
    {
      "cell_type": "code",
      "metadata": {
        "id": "jn8B7Vy5jcdT",
        "colab_type": "code",
        "colab": {}
      },
      "source": [
        "# Import create_engine, MetaData, and Table\n",
        "from sqlalchemy import create_engine, MetaData, Table\n",
        "\n",
        "# Create engine: engine\n",
        "engine = create_engine('sqlite:///census.sqlite')\n",
        "\n",
        "# Create a metadata object: metadata\n",
        "metadata = MetaData()\n",
        "\n",
        "# Reflect census table from the engine: census\n",
        "census = Table('census', metadata, autoload=True, autoload_with=engine)\n",
        "\n",
        "# Print census table metadata\n",
        "print(repr(census))\n"
      ],
      "execution_count": 0,
      "outputs": []
    },
    {
      "cell_type": "markdown",
      "metadata": {
        "id": "3Eiy78l8kdiQ",
        "colab_type": "text"
      },
      "source": [
        "## Viewing Table details"
      ]
    },
    {
      "cell_type": "code",
      "metadata": {
        "id": "RoQG8EPUkd4F",
        "colab_type": "code",
        "colab": {}
      },
      "source": [
        "from sqlalchemy import create_engine, MetaData, Table\n",
        "\n",
        "engine = create_engine('sqlite:///census.sqlite')\n",
        "\n",
        "metadata = MetaData()\n",
        "\n",
        "# Reflect the census table from the engine: census\n",
        "census = Table('census', metadata, autoload=True, autoload_with=engine)\n",
        "\n",
        "# Print the column names\n",
        "print(census.columns.keys())\n",
        "\n",
        "# Print full metadata of census\n",
        "print(repr(metadata.tables['census']))"
      ],
      "execution_count": 0,
      "outputs": []
    },
    {
      "cell_type": "markdown",
      "metadata": {
        "id": "WHaKGhvQmJlY",
        "colab_type": "text"
      },
      "source": [
        "## Selecting data from a Table: raw SQL"
      ]
    },
    {
      "cell_type": "code",
      "metadata": {
        "id": "9TJHt3gnmJ7Y",
        "colab_type": "code",
        "colab": {}
      },
      "source": [
        "from sqlalchemy import create_engine\n",
        "engine = create_engine('sqlite:///census.sqlite')\n",
        "\n",
        "# Create a connection on engine\n",
        "connection = engine.connect()\n",
        "\n",
        "# Build select statement for census table: stmt\n",
        "stmt = \"SELECT * FROM census\"\n",
        "\n",
        "# Execute the statement and fetch the results: results\n",
        "results = connection.execute(stmt).fetchall()\n",
        "\n",
        "# Print results\n",
        "print(results)"
      ],
      "execution_count": 0,
      "outputs": []
    },
    {
      "cell_type": "markdown",
      "metadata": {
        "id": "DcKsc-MMmySZ",
        "colab_type": "text"
      },
      "source": [
        "## Selecting data from a Table with SQLAlchemy"
      ]
    },
    {
      "cell_type": "code",
      "metadata": {
        "id": "DUqgU8Dsmyo3",
        "colab_type": "code",
        "colab": {}
      },
      "source": [
        "# Import select\n",
        "from sqlalchemy import select\n",
        "\n",
        "# Reflect census table via engine: census\n",
        "census = Table('census', metadata, autoload=True, autoload_with=engine)\n",
        "\n",
        "# Build select statement for census table: stmt\n",
        "stmt = select([census])\n",
        "\n",
        "# Print the emitted statement to see the SQL string\n",
        "print(stmt)\n",
        "\n",
        "# Execute the statement on connection and fetch 10 records: result\n",
        "results = connection.execute(stmt).fetchmany(size=10)\n",
        "\n",
        "# Execute the statement and print the results\n",
        "print(results)"
      ],
      "execution_count": 0,
      "outputs": []
    },
    {
      "cell_type": "markdown",
      "metadata": {
        "id": "y3ErBZvQnY_f",
        "colab_type": "text"
      },
      "source": [
        "## Handling a ResultSet"
      ]
    },
    {
      "cell_type": "code",
      "metadata": {
        "id": "6G1fRdIpnZVX",
        "colab_type": "code",
        "colab": {}
      },
      "source": [
        "# Get the first row of the results by using an index: first_row\n",
        "first_row = results[0]\n",
        "\n",
        "# Print the first row of the results\n",
        "print(first_row)\n",
        "\n",
        "# Print the first column of the first row by accessing it by its index\n",
        "print(first_row[0])\n",
        "\n",
        "# Print the 'state' column of the first row by using its name\n",
        "print(first_row['state'])\n"
      ],
      "execution_count": 0,
      "outputs": []
    }
  ]
}