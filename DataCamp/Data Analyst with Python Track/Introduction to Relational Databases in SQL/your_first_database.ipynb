{
  "nbformat": 4,
  "nbformat_minor": 0,
  "metadata": {
    "colab": {
      "name": "your_first_database.ipynb",
      "provenance": []
    },
    "kernelspec": {
      "name": "python3",
      "display_name": "Python 3"
    }
  },
  "cells": [
    {
      "cell_type": "markdown",
      "metadata": {
        "id": "oVRbeNkH4x-v",
        "colab_type": "text"
      },
      "source": [
        "# Your first database"
      ]
    },
    {
      "cell_type": "markdown",
      "metadata": {
        "id": "F7kq2XJ35KI1",
        "colab_type": "text"
      },
      "source": [
        "## Attributes of relational databases"
      ]
    },
    {
      "cell_type": "markdown",
      "metadata": {
        "id": "3fr3c4Xl5PtS",
        "colab_type": "text"
      },
      "source": [
        "C. ... are called \"relational\" because they store data only about people"
      ]
    },
    {
      "cell_type": "markdown",
      "metadata": {
        "id": "eDIC8Hkm5pID",
        "colab_type": "text"
      },
      "source": [
        "## Query information_schema with SELECT"
      ]
    },
    {
      "cell_type": "code",
      "metadata": {
        "id": "BzknVPVX5rZn",
        "colab_type": "code",
        "colab": {}
      },
      "source": [
        "-- Query the right table in information_schema\n",
        "SELECT table_name \n",
        "FROM information_schema.tables\n",
        "-- Specify the correct table_schema value\n",
        "WHERE table_schema = 'public';"
      ],
      "execution_count": 0,
      "outputs": []
    },
    {
      "cell_type": "code",
      "metadata": {
        "id": "tqnpUJge6Y9o",
        "colab_type": "code",
        "colab": {}
      },
      "source": [
        "-- Query the right table in information_schema to get columns\n",
        "SELECT column_name, data_type \n",
        "FROM information_schema.columns \n",
        "WHERE table_name = 'university_professors' AND table_schema = 'public';"
      ],
      "execution_count": 0,
      "outputs": []
    },
    {
      "cell_type": "markdown",
      "metadata": {
        "id": "rdy-UGZj6eHA",
        "colab_type": "text"
      },
      "source": [
        "C. 8"
      ]
    },
    {
      "cell_type": "code",
      "metadata": {
        "id": "LdkTyJNx6egN",
        "colab_type": "code",
        "colab": {}
      },
      "source": [
        "-- Query the first five rows of our table\n",
        "SELECT * \n",
        "FROM university_professors \n",
        "LIMIT 5;"
      ],
      "execution_count": 0,
      "outputs": []
    },
    {
      "cell_type": "markdown",
      "metadata": {
        "id": "I3Si8MEn7l64",
        "colab_type": "text"
      },
      "source": [
        "## CREATE your first few TABLEs"
      ]
    },
    {
      "cell_type": "code",
      "metadata": {
        "id": "h0J9IcOV7mS_",
        "colab_type": "code",
        "colab": {}
      },
      "source": [
        "-- Create a table for the professors entity type\n",
        "CREATE TABLE professors (\n",
        " firstname text,\n",
        " lastname text\n",
        ");\n",
        "\n",
        "-- Print the contents of this table\n",
        "SELECT * \n",
        "FROM professors"
      ],
      "execution_count": 0,
      "outputs": []
    },
    {
      "cell_type": "code",
      "metadata": {
        "id": "cl19OtbG7wJK",
        "colab_type": "code",
        "colab": {}
      },
      "source": [
        "-- Create a table for the universities entity type\n",
        "CREATE TABLE universities (\n",
        "    university_shortname text,\n",
        "    university text,\n",
        "    university_city text\n",
        ");\n",
        "\n",
        "\n",
        "\n",
        "\n",
        "-- Print the contents of this table\n",
        "SELECT * \n",
        "FROM universities"
      ],
      "execution_count": 0,
      "outputs": []
    },
    {
      "cell_type": "markdown",
      "metadata": {
        "id": "3daL61wy8Bcj",
        "colab_type": "text"
      },
      "source": [
        "## ADD a COLUMN with ALTER TABLE"
      ]
    },
    {
      "cell_type": "code",
      "metadata": {
        "id": "e2zDmEtO8Bxs",
        "colab_type": "code",
        "colab": {}
      },
      "source": [
        "-- Add the university_shortname column\n",
        "ALTER TABLE professors\n",
        "ADD COLUMN university_shortname text;\n",
        "\n",
        "-- Print the contents of this table\n",
        "SELECT * \n",
        "FROM professors"
      ],
      "execution_count": 0,
      "outputs": []
    },
    {
      "cell_type": "markdown",
      "metadata": {
        "id": "ayTvWV8L9T-1",
        "colab_type": "text"
      },
      "source": [
        "## RENAME and DROP COLUMNs in affiliations"
      ]
    },
    {
      "cell_type": "code",
      "metadata": {
        "id": "E48ZFQou9UT8",
        "colab_type": "code",
        "colab": {}
      },
      "source": [
        "-- Rename the organisation column\n",
        "ALTER TABLE affiliations\n",
        "RENAME COLUMN organisation TO organization;"
      ],
      "execution_count": 0,
      "outputs": []
    },
    {
      "cell_type": "code",
      "metadata": {
        "id": "JeFaAk2-9j3y",
        "colab_type": "code",
        "colab": {}
      },
      "source": [
        "-- Rename the organisation column\n",
        "ALTER TABLE affiliations\n",
        "RENAME COLUMN organisation TO organization;\n",
        "\n",
        "-- Delete the university_shortname column\n",
        "ALTER TABLE affiliations\n",
        "DROP COLUMN university_shortname;"
      ],
      "execution_count": 0,
      "outputs": []
    },
    {
      "cell_type": "markdown",
      "metadata": {
        "id": "Rdp39pVr9kLv",
        "colab_type": "text"
      },
      "source": [
        "## Migrate data with INSERT INTO SELECT DISTINCT"
      ]
    },
    {
      "cell_type": "code",
      "metadata": {
        "id": "nLqGomeE9l7o",
        "colab_type": "code",
        "colab": {}
      },
      "source": [
        "-- Insert unique professors into the new table\n",
        "INSERT INTO professors \n",
        "SELECT DISTINCT firstname, lastname, university_shortname \n",
        "FROM university_professors;\n",
        "\n",
        "-- Doublecheck the contents of professors\n",
        "SELECT * \n",
        "FROM professors;"
      ],
      "execution_count": 0,
      "outputs": []
    },
    {
      "cell_type": "code",
      "metadata": {
        "id": "t1iG037V990Z",
        "colab_type": "code",
        "colab": {}
      },
      "source": [
        "-- Insert unique affiliations into the new table\n",
        "INSERT INTO affiliations \n",
        "SELECT DISTINCT firstname, lastname, function, organization \n",
        "FROM university_professors;\n",
        "\n",
        "-- Doublecheck the contents of affiliations\n",
        "SELECT * \n",
        "FROM affiliations;"
      ],
      "execution_count": 0,
      "outputs": []
    },
    {
      "cell_type": "markdown",
      "metadata": {
        "id": "mibCCjd7-AWl",
        "colab_type": "text"
      },
      "source": [
        "## Delete tables with DROP TABLE"
      ]
    },
    {
      "cell_type": "code",
      "metadata": {
        "id": "D9jn7miq-FPN",
        "colab_type": "code",
        "colab": {}
      },
      "source": [
        "-- Delete the university_professors table\n",
        "DROP TABLE university_professors;"
      ],
      "execution_count": 0,
      "outputs": []
    }
  ]
}