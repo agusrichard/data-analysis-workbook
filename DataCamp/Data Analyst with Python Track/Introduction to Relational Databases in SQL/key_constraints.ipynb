{
  "nbformat": 4,
  "nbformat_minor": 0,
  "metadata": {
    "colab": {
      "name": "key_constraints.ipynb",
      "provenance": []
    },
    "kernelspec": {
      "name": "python3",
      "display_name": "Python 3"
    }
  },
  "cells": [
    {
      "cell_type": "markdown",
      "metadata": {
        "id": "qZZC9CrIEJyA",
        "colab_type": "text"
      },
      "source": [
        "## Uniquely identify records with key constraints"
      ]
    },
    {
      "cell_type": "markdown",
      "metadata": {
        "id": "zTf6h_eGEzGR",
        "colab_type": "text"
      },
      "source": [
        "## Get to know SELECT COUNT DISTINCT"
      ]
    },
    {
      "cell_type": "code",
      "metadata": {
        "id": "flNcvir4E333",
        "colab_type": "code",
        "colab": {}
      },
      "source": [
        "-- Count the number of rows in universities\n",
        "SELECT COUNT(DISTINCT university_shortname) \n",
        "FROM universities;"
      ],
      "execution_count": 0,
      "outputs": []
    },
    {
      "cell_type": "code",
      "metadata": {
        "id": "mKgErpJRFTJP",
        "colab_type": "code",
        "colab": {}
      },
      "source": [
        "-- Count the number of distinct values in the university_city column\n",
        "SELECT COUNT(DISTINCT(university_city)) \n",
        "FROM universities;"
      ],
      "execution_count": 0,
      "outputs": []
    },
    {
      "cell_type": "markdown",
      "metadata": {
        "id": "UzjxiSFbFYS-",
        "colab_type": "text"
      },
      "source": [
        "## Identify keys with SELECT COUNT DISTINCT"
      ]
    },
    {
      "cell_type": "code",
      "metadata": {
        "id": "sJoh0fagFYqp",
        "colab_type": "code",
        "colab": {}
      },
      "source": [
        "-- Try out different combinations\n",
        "SELECT COUNT(DISTINCT(firstname, lastname)) \n",
        "FROM professors;"
      ],
      "execution_count": 0,
      "outputs": []
    },
    {
      "cell_type": "markdown",
      "metadata": {
        "id": "83d6ZaREGVXR",
        "colab_type": "text"
      },
      "source": [
        "## Identify the primary key"
      ]
    },
    {
      "cell_type": "markdown",
      "metadata": {
        "id": "enswHDWIGVux",
        "colab_type": "text"
      },
      "source": [
        "C. PK = {license_no}"
      ]
    },
    {
      "cell_type": "markdown",
      "metadata": {
        "id": "h5Px56cBGbEh",
        "colab_type": "text"
      },
      "source": [
        "## ADD key CONSTRAINTs to the tables"
      ]
    },
    {
      "cell_type": "code",
      "metadata": {
        "id": "_1BvCKn0Ge6L",
        "colab_type": "code",
        "colab": {}
      },
      "source": [
        "-- Rename the organization column to id\n",
        "ALTER TABLE organizations\n",
        "RENAME COLUMN organization TO id;\n",
        "\n",
        "-- Make id a primary key\n",
        "ALTER TABLE organizations\n",
        "ADD CONSTRAINT organization_pk PRIMARY KEY (id);"
      ],
      "execution_count": 0,
      "outputs": []
    },
    {
      "cell_type": "code",
      "metadata": {
        "id": "4527CsFMHDJz",
        "colab_type": "code",
        "colab": {}
      },
      "source": [
        "-- Rename the university_shortname column to id\n",
        "ALTER TABLE universities\n",
        "RENAME COLUMN university_shortname TO id;\n",
        "\n",
        "-- Make id a primary key\n",
        "ALTER TABLE universities\n",
        "ADD CONSTRAINT university_pk PRIMARY KEY (id);"
      ],
      "execution_count": 0,
      "outputs": []
    },
    {
      "cell_type": "markdown",
      "metadata": {
        "id": "lX41wgcJH8O9",
        "colab_type": "text"
      },
      "source": [
        "## Add a SERIAL surrogate key"
      ]
    },
    {
      "cell_type": "code",
      "metadata": {
        "id": "skcd_z0kH8ln",
        "colab_type": "code",
        "colab": {}
      },
      "source": [
        "-- Add the new column to the table\n",
        "ALTER TABLE professors \n",
        "ADD COLUMN id serial PRIMARY KEY;"
      ],
      "execution_count": 0,
      "outputs": []
    },
    {
      "cell_type": "code",
      "metadata": {
        "id": "3wRLYHYHIV62",
        "colab_type": "code",
        "colab": {}
      },
      "source": [
        "-- Add the new column to the table\n",
        "ALTER TABLE professors \n",
        "ADD COLUMN id serial;\n",
        "\n",
        "-- Make id a primary key\n",
        "ALTER TABLE professors\n",
        "ADD CONSTRAINT professors_pkey PRIMARY KEY (id);"
      ],
      "execution_count": 0,
      "outputs": []
    },
    {
      "cell_type": "code",
      "metadata": {
        "id": "3AYYEPCEIbs_",
        "colab_type": "code",
        "colab": {}
      },
      "source": [
        "-- Add the new column to the table\n",
        "ALTER TABLE professors \n",
        "ADD COLUMN id serial;\n",
        "\n",
        "-- Make id a primary key\n",
        "ALTER TABLE professors \n",
        "ADD CONSTRAINT professors_pkey PRIMARY KEY (id);\n",
        "\n",
        "-- Have a look at the first 10 rows of professors\n",
        "SELECT *\n",
        "FROM professors\n",
        "LIMIT 10;"
      ],
      "execution_count": 0,
      "outputs": []
    },
    {
      "cell_type": "markdown",
      "metadata": {
        "id": "4xA746wRIfCP",
        "colab_type": "text"
      },
      "source": [
        "## CONCATenate columns to a surrogate key"
      ]
    },
    {
      "cell_type": "code",
      "metadata": {
        "id": "E-iwqOF8IfYX",
        "colab_type": "code",
        "colab": {}
      },
      "source": [
        "-- Count the number of distinct rows with columns make, model\n",
        "SELECT COUNT(DISTINCT(make, model))\n",
        "FROM cars;"
      ],
      "execution_count": 0,
      "outputs": []
    },
    {
      "cell_type": "code",
      "metadata": {
        "id": "oF86Tr23I1IW",
        "colab_type": "code",
        "colab": {}
      },
      "source": [
        "-- Count the number of distinct rows with columns make, model\n",
        "SELECT COUNT(DISTINCT(make, model)) \n",
        "FROM cars;\n",
        "\n",
        "-- Add the id column\n",
        "ALTER TABLE cars\n",
        "ADD COLUMN id varchar(128);"
      ],
      "execution_count": 0,
      "outputs": []
    },
    {
      "cell_type": "code",
      "metadata": {
        "id": "EAy5rt54I914",
        "colab_type": "code",
        "colab": {}
      },
      "source": [
        "-- Count the number of distinct rows with columns make, model\n",
        "SELECT COUNT(DISTINCT(make, model)) \n",
        "FROM cars;\n",
        "\n",
        "-- Add the id column\n",
        "ALTER TABLE cars\n",
        "ADD COLUMN id varchar(128);\n",
        "\n",
        "-- Update id with make + model\n",
        "UPDATE cars\n",
        "SET id = CONCAT(make, model);"
      ],
      "execution_count": 0,
      "outputs": []
    },
    {
      "cell_type": "code",
      "metadata": {
        "id": "aFFJMWTcJFZs",
        "colab_type": "code",
        "colab": {}
      },
      "source": [
        "-- Count the number of distinct rows with columns make, model\n",
        "SELECT COUNT(DISTINCT(make, model)) \n",
        "FROM cars;\n",
        "\n",
        "-- Add the id column\n",
        "ALTER TABLE cars\n",
        "ADD COLUMN id varchar(128);\n",
        "\n",
        "-- Update id with make + model\n",
        "UPDATE cars\n",
        "SET id = CONCAT(make, model);\n",
        "\n",
        "-- Make id a primary key\n",
        "ALTER TABLE cars\n",
        "ADD CONSTRAINT id_pk PRIMARY KEY (id);\n",
        "\n",
        "-- Have a look at the table\n",
        "SELECT * FROM cars;"
      ],
      "execution_count": 0,
      "outputs": []
    },
    {
      "cell_type": "markdown",
      "metadata": {
        "id": "KboqLF07JIS8",
        "colab_type": "text"
      },
      "source": [
        "## Test your knowledge before advancing"
      ]
    },
    {
      "cell_type": "code",
      "metadata": {
        "id": "awsDpogmJKNU",
        "colab_type": "code",
        "colab": {}
      },
      "source": [
        "-- Create the table\n",
        "CREATE TABLE students (\n",
        "  last_name varchar(128) NOT NULL,\n",
        "  ssn integer UNIQUE,\n",
        "  phone_no char(12)\n",
        ");"
      ],
      "execution_count": 0,
      "outputs": []
    }
  ]
}