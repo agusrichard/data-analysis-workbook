{
  "nbformat": 4,
  "nbformat_minor": 0,
  "metadata": {
    "colab": {
      "name": "data_consistency.ipynb",
      "provenance": []
    },
    "kernelspec": {
      "name": "python3",
      "display_name": "Python 3"
    }
  },
  "cells": [
    {
      "cell_type": "markdown",
      "metadata": {
        "id": "ULoZpRE8-cDo",
        "colab_type": "text"
      },
      "source": [
        "# Enforce data consistency with attribute constraints"
      ]
    },
    {
      "cell_type": "markdown",
      "metadata": {
        "id": "mpr1SaBV_H_y",
        "colab_type": "text"
      },
      "source": [
        "## Types of database constraints"
      ]
    },
    {
      "cell_type": "markdown",
      "metadata": {
        "id": "QNXi3jYB_MxF",
        "colab_type": "text"
      },
      "source": [
        "B. SQL aggregate functions"
      ]
    },
    {
      "cell_type": "markdown",
      "metadata": {
        "id": "tzf-hr6l_Tnf",
        "colab_type": "text"
      },
      "source": [
        "## Conforming with data types"
      ]
    },
    {
      "cell_type": "code",
      "metadata": {
        "id": "WisVBoNa_WXA",
        "colab_type": "code",
        "colab": {}
      },
      "source": [
        "-- Let's add a record to the table\n",
        "INSERT INTO transactions (transaction_date, amount, fee) \n",
        "VALUES ('2018-09-24', 5454, '30');\n",
        "\n",
        "-- Doublecheck the contents\n",
        "SELECT *\n",
        "FROM transactions;"
      ],
      "execution_count": 0,
      "outputs": []
    },
    {
      "cell_type": "markdown",
      "metadata": {
        "id": "oJB64R1y_yO8",
        "colab_type": "text"
      },
      "source": [
        "## Type CASTs"
      ]
    },
    {
      "cell_type": "code",
      "metadata": {
        "id": "FrYn8Mea_yk_",
        "colab_type": "code",
        "colab": {}
      },
      "source": [
        "-- Calculate the net amount as amount + fee\n",
        "SELECT transaction_date, amount + CAST(fee as integer) AS net_amount \n",
        "FROM transactions;"
      ],
      "execution_count": 0,
      "outputs": []
    },
    {
      "cell_type": "markdown",
      "metadata": {
        "id": "857HRyEeA0kv",
        "colab_type": "text"
      },
      "source": [
        "## Change types with ALTER COLUMN"
      ]
    },
    {
      "cell_type": "code",
      "metadata": {
        "id": "JlUlJKXzA0hC",
        "colab_type": "code",
        "colab": {}
      },
      "source": [
        "-- Select the university_shortname column\n",
        "SELECT DISTINCT(university_shortname) \n",
        "FROM professors;"
      ],
      "execution_count": 0,
      "outputs": []
    },
    {
      "cell_type": "code",
      "metadata": {
        "id": "WXghn8yVBPxO",
        "colab_type": "code",
        "colab": {}
      },
      "source": [
        "-- Specify the correct fixed-length character type\n",
        "ALTER TABLE professors\n",
        "ALTER COLUMN university_shortname\n",
        "TYPE char(3);"
      ],
      "execution_count": 0,
      "outputs": []
    },
    {
      "cell_type": "code",
      "metadata": {
        "id": "jC64Qd3eBbl9",
        "colab_type": "code",
        "colab": {}
      },
      "source": [
        "-- Change the type of firstname\n",
        "ALTER TABLE professors\n",
        "ALTER COLUMN firstname\n",
        "TYPE varchar(64);"
      ],
      "execution_count": 0,
      "outputs": []
    },
    {
      "cell_type": "markdown",
      "metadata": {
        "id": "0MZ4-mNyBc8o",
        "colab_type": "text"
      },
      "source": [
        "## Convert types USING a function"
      ]
    },
    {
      "cell_type": "code",
      "metadata": {
        "id": "jHYEMNbNBfBV",
        "colab_type": "code",
        "colab": {}
      },
      "source": [
        "-- Convert the values in firstname to a max. of 16 characters\n",
        "ALTER TABLE professors\n",
        "ALTER COLUMN firstname\n",
        "TYPE varchar(16)\n",
        "USING SUBSTRING(firstname FROM 1 FOR 16);"
      ],
      "execution_count": 0,
      "outputs": []
    },
    {
      "cell_type": "markdown",
      "metadata": {
        "id": "DJi5tCPdCzY4",
        "colab_type": "text"
      },
      "source": [
        "## Disallow NULL values with SET NOT NULL"
      ]
    },
    {
      "cell_type": "code",
      "metadata": {
        "id": "0MZBtYcQCzt9",
        "colab_type": "code",
        "colab": {}
      },
      "source": [
        "-- Disallow NULL values in firstname\n",
        "ALTER TABLE professors\n",
        "ALTER COLUMN firstname\n",
        "SET NOT NULL;"
      ],
      "execution_count": 0,
      "outputs": []
    },
    {
      "cell_type": "code",
      "metadata": {
        "id": "SXApBcP0DEIy",
        "colab_type": "code",
        "colab": {}
      },
      "source": [
        "-- Disallow NULL values in lastname\n",
        "ALTER TABLE professors\n",
        "ALTER COLUMN lastname\n",
        "SET NOT NULL;"
      ],
      "execution_count": 0,
      "outputs": []
    },
    {
      "cell_type": "markdown",
      "metadata": {
        "id": "fO_7eLFMDI7y",
        "colab_type": "text"
      },
      "source": [
        "## What happens if you try to enter NULLs?"
      ]
    },
    {
      "cell_type": "markdown",
      "metadata": {
        "id": "nMyr2MotDJRT",
        "colab_type": "text"
      },
      "source": [
        "B. Because a database constraint is violated."
      ]
    },
    {
      "cell_type": "markdown",
      "metadata": {
        "id": "gDTj0A07DZ4H",
        "colab_type": "text"
      },
      "source": [
        "## Make your columns UNIQUE with ADD CONSTRAINT"
      ]
    },
    {
      "cell_type": "code",
      "metadata": {
        "id": "B4z_jzg4Db0O",
        "colab_type": "code",
        "colab": {}
      },
      "source": [
        "-- Make universities.university_shortname unique\n",
        "ALTER TABLE universities\n",
        "ADD CONSTRAINT university_shortname_unq UNIQUE(university_shortname);"
      ],
      "execution_count": 0,
      "outputs": []
    },
    {
      "cell_type": "code",
      "metadata": {
        "id": "pIzfhGsBD3lx",
        "colab_type": "code",
        "colab": {}
      },
      "source": [
        "-- Make organizations.organization unique\n",
        "ALTER TABLE organizations\n",
        "ADD CONSTRAINT organization_unq UNIQUE(organization);"
      ],
      "execution_count": 0,
      "outputs": []
    }
  ]
}