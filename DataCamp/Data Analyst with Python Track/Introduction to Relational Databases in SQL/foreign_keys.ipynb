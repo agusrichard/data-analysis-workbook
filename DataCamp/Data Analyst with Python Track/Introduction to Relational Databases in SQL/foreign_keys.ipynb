{
  "nbformat": 4,
  "nbformat_minor": 0,
  "metadata": {
    "colab": {
      "name": "foreign_keys.ipynb",
      "provenance": [],
      "collapsed_sections": []
    },
    "kernelspec": {
      "name": "python3",
      "display_name": "Python 3"
    }
  },
  "cells": [
    {
      "cell_type": "markdown",
      "metadata": {
        "id": "1SOVT941K2mL",
        "colab_type": "text"
      },
      "source": [
        "# Glue together tables with foreign keys"
      ]
    },
    {
      "cell_type": "markdown",
      "metadata": {
        "id": "R6Nsz4IrK505",
        "colab_type": "text"
      },
      "source": [
        "## REFERENCE a table with a FOREIGN KEY"
      ]
    },
    {
      "cell_type": "code",
      "metadata": {
        "id": "Op2ZP_lbLAii",
        "colab_type": "code",
        "colab": {}
      },
      "source": [
        "-- Rename the university_shortname column\n",
        "ALTER TABLE professors\n",
        "RENAME COLUMN university_shortname TO university_id;"
      ],
      "execution_count": 0,
      "outputs": []
    },
    {
      "cell_type": "code",
      "metadata": {
        "id": "5j2OVcSzMKNM",
        "colab_type": "code",
        "colab": {}
      },
      "source": [
        "-- Rename the university_shortname column\n",
        "ALTER TABLE professors\n",
        "RENAME COLUMN university_shortname TO university_id;\n",
        "\n",
        "-- Add a foreign key on professors referencing universities\n",
        "ALTER TABLE professors\n",
        "ADD CONSTRAINT professors_fkey FOREIGN KEY (university_id) REFERENCES universities (id);"
      ],
      "execution_count": 0,
      "outputs": []
    },
    {
      "cell_type": "markdown",
      "metadata": {
        "id": "rhxpWe56MQub",
        "colab_type": "text"
      },
      "source": [
        "## Explore foreign key constraints"
      ]
    },
    {
      "cell_type": "code",
      "metadata": {
        "id": "RsYCup7lMREM",
        "colab_type": "code",
        "colab": {}
      },
      "source": [
        "-- Try to insert a new professor\n",
        "INSERT INTO professors (firstname, lastname, university_id)\n",
        "VALUES ('Albert', 'Einstein', 'UZH');"
      ],
      "execution_count": 0,
      "outputs": []
    },
    {
      "cell_type": "markdown",
      "metadata": {
        "id": "OhZx4umIMgpN",
        "colab_type": "text"
      },
      "source": [
        "## JOIN tables linked by a foreign key"
      ]
    },
    {
      "cell_type": "code",
      "metadata": {
        "id": "0B-ZAQMiMhHr",
        "colab_type": "code",
        "colab": {}
      },
      "source": [
        "-- Select all professors working for universities in the city of Zurich\n",
        "SELECT professors.lastname, universities.id, universities.university_city\n",
        "FROM professors\n",
        "JOIN universities\n",
        "ON professors.university_id = universities.id\n",
        "WHERE universities.university_city = 'Zurich';"
      ],
      "execution_count": 0,
      "outputs": []
    },
    {
      "cell_type": "markdown",
      "metadata": {
        "id": "EzmtvYokNuX5",
        "colab_type": "text"
      },
      "source": [
        "## Add foreign keys to the \"affiliations\" table"
      ]
    },
    {
      "cell_type": "code",
      "metadata": {
        "id": "mEtgB87uNuw8",
        "colab_type": "code",
        "colab": {}
      },
      "source": [
        "-- Add a professor_id column\n",
        "ALTER TABLE affiliations\n",
        "ADD COLUMN professor_id integer REFERENCES professors (id);"
      ],
      "execution_count": 0,
      "outputs": []
    },
    {
      "cell_type": "code",
      "metadata": {
        "id": "CFp6jVpWOOHB",
        "colab_type": "code",
        "colab": {}
      },
      "source": [
        "-- Add a professor_id column\n",
        "ALTER TABLE affiliations\n",
        "ADD COLUMN professor_id integer REFERENCES professors (id);\n",
        "\n",
        "-- Rename the organization column to organization_id\n",
        "ALTER TABLE affiliations\n",
        "RENAME COLUMN organization TO organization_id;"
      ],
      "execution_count": 0,
      "outputs": []
    },
    {
      "cell_type": "code",
      "metadata": {
        "id": "JdR1h-zrOW_5",
        "colab_type": "code",
        "colab": {}
      },
      "source": [
        "-- Add a professor_id column\n",
        "ALTER TABLE affiliations\n",
        "ADD COLUMN professor_id integer REFERENCES professors (id);\n",
        "\n",
        "-- Rename the organization column to organization_id\n",
        "ALTER TABLE affiliations\n",
        "RENAME organization TO organization_id;\n",
        "\n",
        "-- Add a foreign key on organization_id\n",
        "ALTER TABLE affiliations\n",
        "ADD CONSTRAINT affiliations_organization_fkey FOREIGN KEY (organization_id) REFERENCES organizations (id);"
      ],
      "execution_count": 0,
      "outputs": []
    },
    {
      "cell_type": "markdown",
      "metadata": {
        "id": "1iXIm1-0OZ_i",
        "colab_type": "text"
      },
      "source": [
        "## Populate the \"professor_id\" column"
      ]
    },
    {
      "cell_type": "code",
      "metadata": {
        "id": "RNnzxurJOaXI",
        "colab_type": "code",
        "colab": {}
      },
      "source": [
        "-- Have a look at the 10 first rows of affiliations\n",
        "SELECT *\n",
        "FROM affiliations\n",
        "LIMIT 10;"
      ],
      "execution_count": 0,
      "outputs": []
    },
    {
      "cell_type": "code",
      "metadata": {
        "id": "xVJGVZjRPZyT",
        "colab_type": "code",
        "colab": {}
      },
      "source": [
        "-- Set professor_id to professors.id where firstname, lastname correspond to rows in professors\n",
        "UPDATE affiliations\n",
        "SET professor_id = professors.id\n",
        "FROM professors\n",
        "WHERE affiliations.firstname = professors.firstname AND affiliations.lastname = professors.lastname;"
      ],
      "execution_count": 0,
      "outputs": []
    },
    {
      "cell_type": "code",
      "metadata": {
        "id": "jrlGeKaGPfMf",
        "colab_type": "code",
        "colab": {}
      },
      "source": [
        "-- Update professor_id to professors.id where firstname, lastname correspond to rows in professors\n",
        "UPDATE affiliations\n",
        "SET professor_id = professors.id\n",
        "FROM professors\n",
        "WHERE affiliations.firstname = professors.firstname AND affiliations.lastname = professors.lastname;\n",
        "\n",
        "-- Have a look at the 10 first rows of affiliations again\n",
        "SELECT *\n",
        "FROM affiliations\n",
        "LIMIT 10;"
      ],
      "execution_count": 0,
      "outputs": []
    },
    {
      "cell_type": "markdown",
      "metadata": {
        "id": "l7TaMgbYPhv2",
        "colab_type": "text"
      },
      "source": [
        "## Drop \"firstname\" and \"lastname\""
      ]
    },
    {
      "cell_type": "code",
      "metadata": {
        "id": "dGfxe6SlPiG1",
        "colab_type": "code",
        "colab": {}
      },
      "source": [
        "-- Drop the firstname column\n",
        "ALTER TABLE affiliations\n",
        "DROP COLUMN firstname;\n",
        "\n",
        "-- Drop the lastname column\n",
        "ALTER TABLE affiliations\n",
        "DROP COLUMN lastname;"
      ],
      "execution_count": 0,
      "outputs": []
    },
    {
      "cell_type": "markdown",
      "metadata": {
        "id": "ygWw1z8xithb",
        "colab_type": "text"
      },
      "source": [
        "## Referential integrity violations"
      ]
    },
    {
      "cell_type": "markdown",
      "metadata": {
        "id": "TbadXDK2it3N",
        "colab_type": "text"
      },
      "source": [
        "D. It fails because referential integrity from professors to universities is violated."
      ]
    },
    {
      "cell_type": "markdown",
      "metadata": {
        "id": "VpTpinBdi8rg",
        "colab_type": "text"
      },
      "source": [
        "## Change the referential integrity behavior of a key"
      ]
    },
    {
      "cell_type": "code",
      "metadata": {
        "id": "W_VYQrDNi-7z",
        "colab_type": "code",
        "colab": {}
      },
      "source": [
        "-- Identify the correct constraint name\n",
        "SELECT constraint_name, table_name, constraint_type\n",
        "FROM information_schema.table_constraints\n",
        "WHERE constraint_type = 'FOREIGN KEY';"
      ],
      "execution_count": 0,
      "outputs": []
    },
    {
      "cell_type": "code",
      "metadata": {
        "id": "jgBcU8Q3jbsS",
        "colab_type": "code",
        "colab": {}
      },
      "source": [
        "-- Identify the correct constraint name\n",
        "SELECT constraint_name, table_name, constraint_type\n",
        "FROM information_schema.table_constraints\n",
        "WHERE constraint_type = 'FOREIGN KEY';\n",
        "\n",
        "-- Drop the right foreign key constraint\n",
        "ALTER TABLE affiliations\n",
        "DROP CONSTRAINT affiliations_organization_id_fkey;"
      ],
      "execution_count": 0,
      "outputs": []
    },
    {
      "cell_type": "code",
      "metadata": {
        "id": "F3HrC3Zgjpnd",
        "colab_type": "code",
        "colab": {}
      },
      "source": [
        "-- Identify the correct constraint name\n",
        "SELECT constraint_name, table_name, constraint_type\n",
        "FROM information_schema.table_constraints\n",
        "WHERE constraint_type = 'FOREIGN KEY';\n",
        "\n",
        "-- Drop the right foreign key constraint\n",
        "ALTER TABLE affiliations\n",
        "DROP CONSTRAINT affiliations_organization_id_fkey;\n",
        "\n",
        "-- Add a new foreign key constraint from affiliations to organizations which cascades deletion\n",
        "ALTER TABLE affiliations\n",
        "ADD CONSTRAINT affiliations_organization_id_fkey FOREIGN KEY (organization_id) REFERENCES organizations (id) ON DELETE CASCADE;"
      ],
      "execution_count": 0,
      "outputs": []
    },
    {
      "cell_type": "code",
      "metadata": {
        "id": "WbMyxYkQjvo9",
        "colab_type": "code",
        "colab": {}
      },
      "source": [
        "-- Identify the correct constraint name\n",
        "SELECT constraint_name, table_name, constraint_type\n",
        "FROM information_schema.table_constraints\n",
        "WHERE constraint_type = 'FOREIGN KEY';\n",
        "\n",
        "-- Drop the right foreign key constraint\n",
        "ALTER TABLE affiliations\n",
        "DROP CONSTRAINT affiliations_organization_id_fkey;\n",
        "\n",
        "-- Add a new foreign key constraint from affiliations to organizations which cascades deletion\n",
        "ALTER TABLE affiliations\n",
        "ADD CONSTRAINT affiliations_organization_id_fkey FOREIGN KEY (organization_id) REFERENCES organizations (id) ON DELETE CASCADE;\n",
        "\n",
        "-- Delete an organization \n",
        "DELETE FROM organizations \n",
        "WHERE id = 'CUREM';\n",
        "\n",
        "-- Check that no more affiliations with this organization exist\n",
        "SELECT * FROM affiliations\n",
        "WHERE organization_id = 'CUREM';"
      ],
      "execution_count": 0,
      "outputs": []
    },
    {
      "cell_type": "markdown",
      "metadata": {
        "id": "QdN5LgfHjvRY",
        "colab_type": "text"
      },
      "source": [
        "## Count affiliations per university"
      ]
    },
    {
      "cell_type": "code",
      "metadata": {
        "id": "b3JV2HENkQVi",
        "colab_type": "code",
        "colab": {}
      },
      "source": [
        "-- Count the total number of affiliations per university\n",
        "SELECT COUNT(*), professors.university_id \n",
        "FROM affiliations\n",
        "JOIN professors\n",
        "ON affiliations.professor_id = professors.id\n",
        "-- Group by the ids of professors\n",
        "GROUP BY professors.university_id \n",
        "ORDER BY count DESC;"
      ],
      "execution_count": 0,
      "outputs": []
    },
    {
      "cell_type": "markdown",
      "metadata": {
        "id": "pLL3XF8qlAed",
        "colab_type": "text"
      },
      "source": [
        "## Join all the tables together"
      ]
    },
    {
      "cell_type": "code",
      "metadata": {
        "id": "fUQdGsYglAwr",
        "colab_type": "code",
        "colab": {}
      },
      "source": [
        "-- Join all tables\n",
        "SELECT *\n",
        "FROM affiliations\n",
        "JOIN professors\n",
        "ON affiliations.professor_id = professors.id\n",
        "JOIN organizations\n",
        "ON affiliations.organization_id = organizations.id\n",
        "JOIN universities\n",
        "ON professors.university_id = universities.id;"
      ],
      "execution_count": 0,
      "outputs": []
    },
    {
      "cell_type": "code",
      "metadata": {
        "id": "FgBDW4IVly4l",
        "colab_type": "code",
        "colab": {}
      },
      "source": [
        "-- Group the table by organization sector, professor and university city\n",
        "SELECT COUNT(*), organizations.organization_sector, \n",
        "professors.id, universities.university_city\n",
        "FROM affiliations\n",
        "JOIN professors\n",
        "ON affiliations.professor_id = professors.id\n",
        "JOIN organizations\n",
        "ON affiliations.organization_id = organizations.id\n",
        "JOIN universities\n",
        "ON professors.university_id = universities.id\n",
        "GROUP BY organizations.organization_sector, \n",
        "professors.id, universities.university_city;"
      ],
      "execution_count": 0,
      "outputs": []
    },
    {
      "cell_type": "code",
      "metadata": {
        "id": "SLsgrfVXl--c",
        "colab_type": "code",
        "colab": {}
      },
      "source": [
        "-- Filter the table and sort it\n",
        "SELECT COUNT(*), organizations.organization_sector, \n",
        "professors.id, universities.university_city\n",
        "FROM affiliations\n",
        "JOIN professors\n",
        "ON affiliations.professor_id = professors.id\n",
        "JOIN organizations\n",
        "ON affiliations.organization_id = organizations.id\n",
        "JOIN universities\n",
        "ON professors.university_id = universities.id\n",
        "WHERE organizations.organization_sector = 'Media & communication'\n",
        "GROUP BY organizations.organization_sector, \n",
        "professors.id, universities.university_city\n",
        "ORDER BY count DESC;"
      ],
      "execution_count": 0,
      "outputs": []
    }
  ]
}