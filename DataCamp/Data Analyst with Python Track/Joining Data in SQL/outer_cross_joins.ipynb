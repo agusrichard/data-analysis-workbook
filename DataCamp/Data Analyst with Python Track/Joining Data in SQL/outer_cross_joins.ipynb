{
  "nbformat": 4,
  "nbformat_minor": 0,
  "metadata": {
    "colab": {
      "name": "outer_cross_joins.ipynb",
      "provenance": [],
      "collapsed_sections": []
    },
    "kernelspec": {
      "name": "python3",
      "display_name": "Python 3"
    }
  },
  "cells": [
    {
      "cell_type": "markdown",
      "metadata": {
        "id": "rmcOTQ3VDWy2",
        "colab_type": "text"
      },
      "source": [
        "# Outer joins and cross joins"
      ]
    },
    {
      "cell_type": "markdown",
      "metadata": {
        "id": "2m6j9L6OErWT",
        "colab_type": "text"
      },
      "source": [
        "## Left Join"
      ]
    },
    {
      "cell_type": "code",
      "metadata": {
        "id": "h4G1gotrEwOY",
        "colab_type": "code",
        "colab": {}
      },
      "source": [
        "-- Select the city name (with alias), the country code,\n",
        "-- the country name (with alias), the region,\n",
        "-- and the city proper population\n",
        "SELECT c1.name AS city, code, c2.name AS country,\n",
        "       region, city_proper_pop\n",
        "-- From left table (with alias)\n",
        "FROM cities AS c1\n",
        "  -- Join to right table (with alias)\n",
        "  INNER JOIN countries AS c2\n",
        "    -- Match on country code\n",
        "    ON c1.country_code = c2.code\n",
        "-- Order by descending country code\n",
        "ORDER BY code DESC;"
      ],
      "execution_count": 0,
      "outputs": []
    },
    {
      "cell_type": "code",
      "metadata": {
        "id": "f2Q6SVs5FX2p",
        "colab_type": "code",
        "colab": {}
      },
      "source": [
        "SELECT c1.name AS city, code, c2.name AS country,\n",
        "       region, city_proper_pop\n",
        "FROM cities AS c1\n",
        "  -- 1. Join right table (with alias)\n",
        "  LEFT JOIN countries AS c2\n",
        "    -- 2. Match on country code\n",
        "    ON c1.country_code = c2.code\n",
        "-- 3. Order by descending country code\n",
        "ORDER BY code DESC;"
      ],
      "execution_count": 0,
      "outputs": []
    },
    {
      "cell_type": "markdown",
      "metadata": {
        "id": "sMgmtoMOFa3w",
        "colab_type": "text"
      },
      "source": [
        "## Left join (2)"
      ]
    },
    {
      "cell_type": "code",
      "metadata": {
        "id": "oewPtNbjFbOc",
        "colab_type": "code",
        "colab": {}
      },
      "source": [
        "/*\n",
        "5. Select country name AS country, the country's local name,\n",
        "the language name AS language, and\n",
        "the percent of the language spoken in the country\n",
        "*/\n",
        "SELECT c.name AS country, local_name, l.name AS language, percent\n",
        "-- 1. From left table (alias as c)\n",
        "FROM countries AS c\n",
        "  -- 2. Join to right table (alias as l)\n",
        "  INNER JOIN languages AS l\n",
        "    -- 3. Match on fields\n",
        "    ON c.code = l.code\n",
        "-- 4. Order by descending country\n",
        "ORDER BY country DESC;"
      ],
      "execution_count": 0,
      "outputs": []
    },
    {
      "cell_type": "code",
      "metadata": {
        "id": "EbgIqQaSF5ct",
        "colab_type": "code",
        "colab": {}
      },
      "source": [
        "/*\n",
        "5. Select country name AS country, the country's local name,\n",
        "the language name AS language, and\n",
        "the percent of the language spoken in the country\n",
        "*/\n",
        "SELECT c.name AS country, local_name, l.name AS language, percent\n",
        "-- 1. From left table (alias as c)\n",
        "FROM countries AS c\n",
        "  -- 2. Join to right table (alias as l)\n",
        "  LEFT JOIN languages AS l\n",
        "    -- 3. Match on fields\n",
        "    ON c.code = l.code\n",
        "-- 4. Order by descending country\n",
        "ORDER BY country DESC;"
      ],
      "execution_count": 0,
      "outputs": []
    },
    {
      "cell_type": "markdown",
      "metadata": {
        "id": "wG-5rA9GGL2E",
        "colab_type": "text"
      },
      "source": [
        "## Left join (3)"
      ]
    },
    {
      "cell_type": "code",
      "metadata": {
        "id": "TNhjlgE_GMNS",
        "colab_type": "code",
        "colab": {}
      },
      "source": [
        "-- 5. Select name, region, and gdp_percapita\n",
        "SELECT c.name, c.region, gdp_percapita\n",
        "-- 1. From countries (alias as c)\n",
        "FROM countries AS c\n",
        "  -- 2. Left join with economies (alias as e)\n",
        "  LEFT JOIN economies AS e\n",
        "    -- 3. Match on code fields\n",
        "    ON c.code = e.code\n",
        "-- 4. Focus on 2010\n",
        "WHERE year = 2010;"
      ],
      "execution_count": 0,
      "outputs": []
    },
    {
      "cell_type": "code",
      "metadata": {
        "id": "XfhMwMmhHCES",
        "colab_type": "code",
        "colab": {}
      },
      "source": [
        "-- Select fields\n",
        "SELECT region, AVG(gdp_percapita) AS avg_gdp\n",
        "-- From countries (alias as c)\n",
        "FROM countries AS c\n",
        "  -- Left join with economies (alias as e)\n",
        "  LEFT JOIN economies AS e\n",
        "    -- Match on code fields\n",
        "    ON c.code = e.code\n",
        "-- Focus on 2010\n",
        "WHERE year = 2010\n",
        "-- Group by region\n",
        "GROUP BY region;"
      ],
      "execution_count": 0,
      "outputs": []
    },
    {
      "cell_type": "code",
      "metadata": {
        "id": "sVeV5PgIHVDa",
        "colab_type": "code",
        "colab": {}
      },
      "source": [
        "-- Select fields\n",
        "SELECT region, AVG(gdp_percapita) AS avg_gdp\n",
        "-- From countries (alias as c)\n",
        "FROM countries AS c\n",
        "  -- Left join with economies (alias as e)\n",
        "  LEFT JOIN economies AS e\n",
        "    -- Match on code fields\n",
        "    ON c.code = e.code\n",
        "-- Focus on 2010\n",
        "WHERE year = 2010\n",
        "-- Group by region\n",
        "GROUP BY region\n",
        "-- Order by descending avg_gdp\n",
        "ORDER BY avg_gdp DESC;"
      ],
      "execution_count": 0,
      "outputs": []
    },
    {
      "cell_type": "markdown",
      "metadata": {
        "id": "Z-zRj_r-HY8S",
        "colab_type": "text"
      },
      "source": [
        "## Right join"
      ]
    },
    {
      "cell_type": "code",
      "metadata": {
        "id": "myYttweDHZSZ",
        "colab_type": "code",
        "colab": {}
      },
      "source": [
        "-- convert this code to use RIGHT JOINs instead of LEFT JOINs\n",
        "/*\n",
        "SELECT cities.name AS city, urbanarea_pop, countries.name AS country,\n",
        "       indep_year, languages.name AS language, percent\n",
        "FROM cities\n",
        "  LEFT JOIN countries\n",
        "    ON cities.country_code = countries.code\n",
        "  LEFT JOIN languages\n",
        "    ON countries.code = languages.code\n",
        "ORDER BY city, language;\n",
        "*/\n",
        "\n",
        "SELECT cities.name AS city, urbanarea_pop, countries.name AS country,\n",
        "       indep_year, languages.name AS language, percent\n",
        "FROM languages\n",
        "  RIGHT JOIN countries\n",
        "    ON languages.code = countries.code\n",
        "  RIGHT JOIN cities\n",
        "    ON countries.code = cities.country_code\n",
        "ORDER BY city, language;"
      ],
      "execution_count": 0,
      "outputs": []
    },
    {
      "cell_type": "markdown",
      "metadata": {
        "id": "catWCQ18IylS",
        "colab_type": "text"
      },
      "source": [
        "## Full join"
      ]
    },
    {
      "cell_type": "code",
      "metadata": {
        "id": "JcVEb9DcIy7p",
        "colab_type": "code",
        "colab": {}
      },
      "source": [
        "SELECT name AS country, code, region, basic_unit\n",
        "-- 3. From countries\n",
        "FROM countries\n",
        "  -- 4. Join to currencies\n",
        "  FULL JOIN currencies\n",
        "    -- 5. Match on code\n",
        "    USING (code)\n",
        "-- 1. Where region is North America or null\n",
        "WHERE region = 'North America' OR region IS NULL\n",
        "-- 2. Order by region\n",
        "ORDER BY region;"
      ],
      "execution_count": 0,
      "outputs": []
    },
    {
      "cell_type": "code",
      "metadata": {
        "id": "WW3Sk3ZOJaF-",
        "colab_type": "code",
        "colab": {}
      },
      "source": [
        "SELECT name AS country, code, region, basic_unit\n",
        "-- 1. From countries\n",
        "FROM countries\n",
        "  -- 2. Join to currencies\n",
        "  LEFT JOIN currencies\n",
        "    -- 3. Match on code\n",
        "    USING (code)\n",
        "-- 4. Where region is North America or null\n",
        "WHERE region = 'North America' OR region IS NULL\n",
        "-- 5. Order by region\n",
        "ORDER BY region;"
      ],
      "execution_count": 0,
      "outputs": []
    },
    {
      "cell_type": "code",
      "metadata": {
        "id": "s54u3ehxJiNk",
        "colab_type": "code",
        "colab": {}
      },
      "source": [
        "SELECT name AS country, code, region, basic_unit\n",
        "FROM countries\n",
        "  -- 1. Join to currencies\n",
        "  INNER JOIN currencies\n",
        "    USING (code)\n",
        "-- 2. Where region is North America or null\n",
        "WHERE region = 'North America' OR region IS NULL\n",
        "-- 3. Order by region\n",
        "ORDER BY region;"
      ],
      "execution_count": 0,
      "outputs": []
    },
    {
      "cell_type": "markdown",
      "metadata": {
        "id": "x0eivbbNJnHl",
        "colab_type": "text"
      },
      "source": [
        "## Full join (2)"
      ]
    },
    {
      "cell_type": "code",
      "metadata": {
        "id": "x8s0D5I0Jnc_",
        "colab_type": "code",
        "colab": {}
      },
      "source": [
        "SELECT countries.name, code, languages.name AS language\n",
        "-- 3. From languages\n",
        "FROM languages\n",
        "  -- 4. Join to countries\n",
        "  FULL JOIN countries\n",
        "    -- 5. Match on code\n",
        "    USING (code)\n",
        "-- 1. Where countries.name starts with V or is null\n",
        "WHERE countries.name LIKE 'V%' OR countries.name IS NULL\n",
        "-- 2. Order by ascending countries.name\n",
        "ORDER BY countries.name;"
      ],
      "execution_count": 0,
      "outputs": []
    },
    {
      "cell_type": "code",
      "metadata": {
        "id": "Pww6SUr1KJUz",
        "colab_type": "code",
        "colab": {}
      },
      "source": [
        "SELECT countries.name, code, languages.name AS language\n",
        "FROM languages\n",
        "  -- 1. Join to countries\n",
        "  LEFT JOIN countries\n",
        "    -- 2. Match using code\n",
        "    USING (code)\n",
        "-- 3. Where countries.name starts with V or is null\n",
        "WHERE countries.name LIKE 'V%' OR countries.name IS NULL\n",
        "ORDER BY countries.name;"
      ],
      "execution_count": 0,
      "outputs": []
    },
    {
      "cell_type": "code",
      "metadata": {
        "id": "FZA_BjCnKMaM",
        "colab_type": "code",
        "colab": {}
      },
      "source": [
        "SELECT countries.name, code, languages.name AS language\n",
        "FROM languages\n",
        "  -- 1. Join to countries\n",
        "  INNER JOIN countries\n",
        "    -- 2. Match using code\n",
        "    USING (code)\n",
        "-- 3. Where countries.name starts with V or is null\n",
        "WHERE countries.name LIKE 'V%' OR countries.name IS NULL\n",
        "ORDER BY countries.name;"
      ],
      "execution_count": 0,
      "outputs": []
    },
    {
      "cell_type": "markdown",
      "metadata": {
        "id": "7PZo5U0UKRIj",
        "colab_type": "text"
      },
      "source": [
        "## Full join (3)"
      ]
    },
    {
      "cell_type": "code",
      "metadata": {
        "id": "Hd7p_xePKRej",
        "colab_type": "code",
        "colab": {}
      },
      "source": [
        "-- 7. Select fields (with aliases)\n",
        "SELECT c1.name AS country, region, l.name AS language,\n",
        "       basic_unit, frac_unit\n",
        "-- 1. From countries (alias as c1)\n",
        "FROM countries AS c1\n",
        "  -- 2. Join with languages (alias as l)\n",
        "  FULL JOIN languages AS l\n",
        "    -- 3. Match on code\n",
        "    USING (code)\n",
        "  -- 4. Join with currencies (alias as c2)\n",
        "  FULL JOIN currencies AS c2\n",
        "    -- 5. Match on code\n",
        "    USING (code)\n",
        "-- 6. Where region like Melanesia and Micronesia\n",
        "WHERE region LIKE 'M%esia';"
      ],
      "execution_count": 0,
      "outputs": []
    },
    {
      "cell_type": "markdown",
      "metadata": {
        "id": "sGt-Pd6EK-A9",
        "colab_type": "text"
      },
      "source": [
        "## Review outer joins"
      ]
    },
    {
      "cell_type": "markdown",
      "metadata": {
        "id": "TY1_41GEK-W6",
        "colab_type": "text"
      },
      "source": [
        "D. None of the above are true"
      ]
    },
    {
      "cell_type": "markdown",
      "metadata": {
        "id": "MvyVs1SPLFN1",
        "colab_type": "text"
      },
      "source": [
        "## A table of two cities"
      ]
    },
    {
      "cell_type": "code",
      "metadata": {
        "id": "5V6EtMekLeLw",
        "colab_type": "code",
        "colab": {}
      },
      "source": [
        "-- 4. Select fields\n",
        "SELECT c.name AS city, l.name AS language\n",
        "-- 1. From cities (alias as c)\n",
        "FROM cities AS c        \n",
        "  -- 2. Join to languages (alias as l)\n",
        "  CROSS JOIN languages AS l\n",
        "-- 3. Where c.name like Hyderabad\n",
        "WHERE c.name LIKE 'Hyder%';"
      ],
      "execution_count": 0,
      "outputs": []
    },
    {
      "cell_type": "code",
      "metadata": {
        "id": "x3qO_SVgMOan",
        "colab_type": "code",
        "colab": {}
      },
      "source": [
        "-- 5. Select fields\n",
        "SELECT c.name AS city, l.name AS language\n",
        "-- 1. From cities (alias as c)\n",
        "FROM cities AS c     \n",
        "  -- 2. Join to languages (alias as l)\n",
        "  INNER JOIN languages AS l\n",
        "    -- 3. Match on country code\n",
        "    ON c.country_code = l.code\n",
        "-- 4. Where c.name like Hyderabad\n",
        "WHERE c.name LIKE 'Hyder%';"
      ],
      "execution_count": 0,
      "outputs": []
    },
    {
      "cell_type": "markdown",
      "metadata": {
        "id": "ftyOs6f7MZo5",
        "colab_type": "text"
      },
      "source": [
        "## Outer challenge"
      ]
    },
    {
      "cell_type": "code",
      "metadata": {
        "id": "80mXRaN1MZ9-",
        "colab_type": "code",
        "colab": {}
      },
      "source": [
        "-- Select fields\n",
        "SELECT c.name AS country, region, p.life_expectancy AS life_exp\n",
        "-- From countries (alias as c)\n",
        "FROM countries AS c\n",
        "  -- Join to populations (alias as p)\n",
        "  LEFT JOIN populations AS p\n",
        "    -- Match on country code\n",
        "    ON c.code = p.country_code\n",
        "-- Focus on 2010\n",
        "WHERE year = 2010\n",
        "-- Order by life_exp\n",
        "ORDER BY life_exp\n",
        "-- Limit to 5 records\n",
        "LIMIT 5;"
      ],
      "execution_count": 0,
      "outputs": []
    }
  ]
}