{
  "nbformat": 4,
  "nbformat_minor": 0,
  "metadata": {
    "colab": {
      "name": "subqueries.ipynb",
      "provenance": [],
      "collapsed_sections": []
    },
    "kernelspec": {
      "name": "python3",
      "display_name": "Python 3"
    }
  },
  "cells": [
    {
      "cell_type": "markdown",
      "metadata": {
        "id": "F0DuQYSlCCYn",
        "colab_type": "text"
      },
      "source": [
        "# Subqueries"
      ]
    },
    {
      "cell_type": "markdown",
      "metadata": {
        "id": "xCYTsXmiCGix",
        "colab_type": "text"
      },
      "source": [
        "## Subquery inside where"
      ]
    },
    {
      "cell_type": "code",
      "metadata": {
        "id": "TUZGzl3dDI8_",
        "colab_type": "code",
        "colab": {}
      },
      "source": [
        "-- Select average life_expectancy\n",
        "SELECT AVG(life_expectancy)\n",
        "  -- From populations\n",
        "  FROM populations\n",
        "-- Where year is 2015\n",
        "WHERE year = 2015;"
      ],
      "execution_count": 0,
      "outputs": []
    },
    {
      "cell_type": "code",
      "metadata": {
        "id": "2x4ODUTIELRq",
        "colab_type": "code",
        "colab": {}
      },
      "source": [
        "-- Select fields\n",
        "SELECT *\n",
        "  -- From populations\n",
        "  FROM populations\n",
        "-- Where life_expectancy is greater than\n",
        "WHERE life_expectancy >\n",
        "  -- 1.15 * subquery\n",
        "  1.15 * (SELECT AVG(life_expectancy)\n",
        "   FROM populations\n",
        "   WHERE year = 2015) AND\n",
        "  year = 2015;"
      ],
      "execution_count": 0,
      "outputs": []
    },
    {
      "cell_type": "markdown",
      "metadata": {
        "id": "i-UhKjLyEM-9",
        "colab_type": "text"
      },
      "source": [
        "## Subquery inside where (2)"
      ]
    },
    {
      "cell_type": "code",
      "metadata": {
        "id": "1n_9QLJzENVe",
        "colab_type": "code",
        "colab": {}
      },
      "source": [
        "-- 2. Select fields\n",
        "SELECT name, country_code, urbanarea_pop\n",
        "  -- 3. From cities\n",
        "  FROM cities\n",
        "-- 4. Where city name in the field of capital cities\n",
        "WHERE name IN\n",
        "  -- 1. Subquery\n",
        "  (SELECT capital\n",
        "   FROM countries)\n",
        "ORDER BY urbanarea_pop DESC;"
      ],
      "execution_count": 0,
      "outputs": []
    },
    {
      "cell_type": "markdown",
      "metadata": {
        "id": "f-AfXN60VEaW",
        "colab_type": "text"
      },
      "source": [
        "## Subquery inside select"
      ]
    },
    {
      "cell_type": "code",
      "metadata": {
        "id": "pPDKUCCWWEbx",
        "colab_type": "code",
        "colab": {}
      },
      "source": [
        "SELECT countries.name AS country, COUNT(*) AS cities_num\n",
        "  FROM cities\n",
        "    INNER JOIN countries\n",
        "    ON countries.code = cities.country_code\n",
        "GROUP BY country\n",
        "ORDER BY cities_num DESC, country\n",
        "LIMIT 9;\n",
        "\n",
        "/* \n",
        "SELECT ___ AS ___,\n",
        "  (SELECT ___\n",
        "   FROM ___\n",
        "   WHERE countries.code = cities.country_code) AS cities_num\n",
        "FROM ___\n",
        "ORDER BY ___ ___, ___\n",
        "LIMIT 9;\n",
        "*/"
      ],
      "execution_count": 0,
      "outputs": []
    },
    {
      "cell_type": "code",
      "metadata": {
        "id": "k7iXt98BVExE",
        "colab_type": "code",
        "colab": {}
      },
      "source": [
        "-- SELECT countries.name AS country, COUNT(*) AS cities_num\n",
        "--   FROM cities\n",
        "--     INNER JOIN countries\n",
        "--     ON countries.code = cities.country_code\n",
        "-- GROUP BY country\n",
        "-- ORDER BY cities_num DESC, country\n",
        "-- LIMIT 9;\n",
        "\n",
        "\n",
        "SELECT countries.name AS country,\n",
        "  (SELECT COUNT(*)\n",
        "  FROM cities\n",
        "  WHERE countries.code = cities.country_code) AS cities_num\n",
        "FROM countries\n",
        "ORDER BY cities_num DESC, country\n",
        "LIMIT 9;"
      ],
      "execution_count": 0,
      "outputs": []
    },
    {
      "cell_type": "markdown",
      "metadata": {
        "id": "I27Kt6OHWFmW",
        "colab_type": "text"
      },
      "source": [
        "## Subquery inside from"
      ]
    },
    {
      "cell_type": "code",
      "metadata": {
        "id": "aYbtBZ9PXJMs",
        "colab_type": "code",
        "colab": {}
      },
      "source": [
        "-- Select fields (with aliases)\n",
        "SELECT code, COUNT(*) AS lang_num\n",
        "  -- From languages\n",
        "  FROM languages\n",
        "-- Group by code\n",
        "GROUP BY code;"
      ],
      "execution_count": 0,
      "outputs": []
    },
    {
      "cell_type": "code",
      "metadata": {
        "id": "5S8ERzubYRW6",
        "colab_type": "code",
        "colab": {}
      },
      "source": [
        "-- Select fields\n",
        "SELECT local_name, lang_num\n",
        "  -- From countries\n",
        "  FROM countries,\n",
        "  \t-- Subquery (alias as subquery)\n",
        "  \t(SELECT code, COUNT(*) AS lang_num\n",
        "  \t FROM languages\n",
        "  \t GROUP BY code) AS subquery\n",
        "  -- Where codes match\n",
        "  WHERE countries.code = subquery.code\n",
        "-- Order by descending number of languages\n",
        "ORDER BY lang_num DESC;"
      ],
      "execution_count": 0,
      "outputs": []
    },
    {
      "cell_type": "markdown",
      "metadata": {
        "id": "EEjyK2KtYTVO",
        "colab_type": "text"
      },
      "source": [
        "## Advanced subquery"
      ]
    },
    {
      "cell_type": "code",
      "metadata": {
        "id": "VcCiTnxdYTsz",
        "colab_type": "code",
        "colab": {}
      },
      "source": [
        "-- Select fields\n",
        "SELECT name, continent, inflation_rate\n",
        "  -- From countries\n",
        "  FROM countries\n",
        "  \t-- Join to economies\n",
        "  \tINNER JOIN economies\n",
        "    -- Match on code\n",
        "    USING (code)\n",
        "-- Where year is 2015\n",
        "WHERE year = 2015;"
      ],
      "execution_count": 0,
      "outputs": []
    },
    {
      "cell_type": "code",
      "metadata": {
        "id": "og62KaedZWyX",
        "colab_type": "code",
        "colab": {}
      },
      "source": [
        "-- Select the maximum inflation rate as max_inf\n",
        "SELECT MAX(inflation_rate) AS max_inf\n",
        "  -- Subquery using FROM (alias as subquery)\n",
        "  FROM (\n",
        "      SELECT name, continent, inflation_rate\n",
        "      FROM countries\n",
        "      INNER JOIN economies\n",
        "      USING (code)\n",
        "      WHERE year = 2015) AS subquery\n",
        "-- Group by continent\n",
        "GROUP BY continent;"
      ],
      "execution_count": 0,
      "outputs": []
    },
    {
      "cell_type": "code",
      "metadata": {
        "id": "-9Qw0yKlZ3L9",
        "colab_type": "code",
        "colab": {}
      },
      "source": [
        "-- Select fields\n",
        "SELECT name, continent, inflation_rate\n",
        "  -- From countries\n",
        "  FROM countries\n",
        "\t-- Join to economies\n",
        "\tINNER JOIN economies\n",
        "\t-- Match on code\n",
        "\tON countries.code = economies.code\n",
        "  -- Where year is 2015\n",
        "  WHERE year = 2015\n",
        "    -- And inflation rate in subquery (alias as subquery)\n",
        "    AND inflation_rate IN (\n",
        "        SELECT MAX(inflation_rate) AS max_inf\n",
        "        FROM (\n",
        "             SELECT name, continent, inflation_rate\n",
        "             FROM countries\n",
        "             INNER JOIN economies\n",
        "             ON countries.code = economies.code\n",
        "             WHERE year = 2015) AS subquery\n",
        "      -- Group by continent\n",
        "        GROUP BY continent);"
      ],
      "execution_count": 0,
      "outputs": []
    },
    {
      "cell_type": "markdown",
      "metadata": {
        "id": "eC1-2d-eZ9is",
        "colab_type": "text"
      },
      "source": [
        "## Subquery challenge"
      ]
    },
    {
      "cell_type": "code",
      "metadata": {
        "id": "Gh6RVK6cZ95f",
        "colab_type": "code",
        "colab": {}
      },
      "source": [
        "-- Select fields\n",
        "SELECT code, inflation_rate, unemployment_rate\n",
        "  -- From economies\n",
        "  FROM economies\n",
        "  -- Where year is 2015 and code is not in\n",
        "  WHERE year = 2015 AND code NOT IN\n",
        "  \t-- Subquery\n",
        "  \t(SELECT code\n",
        "  \t FROM countries\n",
        "  \t WHERE (gov_form = 'Constitutional Monarchy' OR gov_form LIKE '%Republic%'))\n",
        "-- Order by inflation rate\n",
        "ORDER BY inflation_rate;"
      ],
      "execution_count": 0,
      "outputs": []
    },
    {
      "cell_type": "markdown",
      "metadata": {
        "id": "CtSz88AtbBG5",
        "colab_type": "text"
      },
      "source": [
        "## Subquery review"
      ]
    },
    {
      "cell_type": "markdown",
      "metadata": {
        "id": "upfFv56BbBdA",
        "colab_type": "text"
      },
      "source": [
        "A. WHERE"
      ]
    },
    {
      "cell_type": "markdown",
      "metadata": {
        "id": "f9fPVpVebG0Y",
        "colab_type": "text"
      },
      "source": [
        "## Final challenge"
      ]
    },
    {
      "cell_type": "code",
      "metadata": {
        "id": "WWcIAWk6b6kY",
        "colab_type": "code",
        "colab": {}
      },
      "source": [
        "-- Select fields\n",
        "SELECT DISTINCT name, total_investment, imports\n",
        "  -- From table (with alias)\n",
        "  FROM countries AS c\n",
        "    -- Join with table (with alias)\n",
        "    LEFT JOIN economies AS e\n",
        "      -- Match on code\n",
        "      ON (c.code = e.code\n",
        "      -- and code in Subquery\n",
        "        AND c.code IN (\n",
        "          SELECT l.code\n",
        "          FROM languages AS l\n",
        "          WHERE official = 'true'\n",
        "        ) )\n",
        "  -- Where region and year are correct\n",
        "  WHERE region = 'Central America' AND year = 2015\n",
        "-- Order by field\n",
        "ORDER BY name;"
      ],
      "execution_count": 0,
      "outputs": []
    },
    {
      "cell_type": "markdown",
      "metadata": {
        "id": "RE5oJt4fdfxs",
        "colab_type": "text"
      },
      "source": [
        "## Final challenge (2)"
      ]
    },
    {
      "cell_type": "code",
      "metadata": {
        "id": "jaPfJqxNdgJo",
        "colab_type": "code",
        "colab": {}
      },
      "source": [
        "-- Select fields\n",
        "SELECT region, continent, AVG(fertility_rate) AS avg_fert_rate\n",
        "  -- From left table\n",
        "  FROM countries AS c\n",
        "    -- Join to right table\n",
        "    INNER JOIN populations AS p\n",
        "      -- Match on join condition\n",
        "      ON c.code = p.country_code\n",
        "  -- Where specific records matching some condition\n",
        "  WHERE year = 2015\n",
        "-- Group appropriately\n",
        "GROUP BY region, continent\n",
        "-- Order appropriately\n",
        "ORDER BY avg_fert_rate;"
      ],
      "execution_count": 0,
      "outputs": []
    },
    {
      "cell_type": "markdown",
      "metadata": {
        "id": "440RRZj7eB01",
        "colab_type": "text"
      },
      "source": [
        "## Final challenge (3)"
      ]
    },
    {
      "cell_type": "code",
      "metadata": {
        "id": "F9oi8QNeeCM3",
        "colab_type": "code",
        "colab": {}
      },
      "source": [
        "-- Select fields\n",
        "SELECT name, country_code, city_proper_pop, metroarea_pop,  \n",
        "      -- Calculate city_perc\n",
        "      city_proper_pop / metroarea_pop * 100 AS city_perc\n",
        "  -- From appropriate table\n",
        "  FROM cities\n",
        "  -- Where \n",
        "  WHERE name IN\n",
        "    -- Subquery\n",
        "    (SELECT capital\n",
        "     FROM countries\n",
        "     WHERE (continent = 'Europe'\n",
        "        OR continent LIKE '%America%'))\n",
        "       AND metroarea_pop IS NOT NULL\n",
        "-- Order appropriately\n",
        "ORDER BY city_perc DESC\n",
        "-- Limit amount\n",
        "LIMIT 10;"
      ],
      "execution_count": 0,
      "outputs": []
    }
  ]
}