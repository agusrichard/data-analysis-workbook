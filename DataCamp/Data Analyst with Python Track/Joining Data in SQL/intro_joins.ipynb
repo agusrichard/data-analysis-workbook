{
  "nbformat": 4,
  "nbformat_minor": 0,
  "metadata": {
    "colab": {
      "name": "intro_joins.ipynb",
      "provenance": []
    },
    "kernelspec": {
      "name": "python3",
      "display_name": "Python 3"
    }
  },
  "cells": [
    {
      "cell_type": "markdown",
      "metadata": {
        "id": "Fkjcb01i4ViJ",
        "colab_type": "text"
      },
      "source": [
        "# Introduction to joins"
      ]
    },
    {
      "cell_type": "markdown",
      "metadata": {
        "id": "jGb4GAM24Wcw",
        "colab_type": "text"
      },
      "source": [
        "## Inner join"
      ]
    },
    {
      "cell_type": "code",
      "metadata": {
        "id": "z6GHB3jN4bDv",
        "colab_type": "code",
        "colab": {}
      },
      "source": [
        "-- Select all columns from cities\n",
        "SELECT *\n",
        "FROM cities;"
      ],
      "execution_count": 0,
      "outputs": []
    },
    {
      "cell_type": "code",
      "metadata": {
        "id": "ZMWH_vL_47q2",
        "colab_type": "code",
        "colab": {}
      },
      "source": [
        "SELECT * \n",
        "FROM cities\n",
        "  -- 1. Inner join to countries\n",
        "  INNER JOIN countries\n",
        "    -- 2. Match on the country codes\n",
        "    ON cities.country_code = countries.code;"
      ],
      "execution_count": 0,
      "outputs": []
    },
    {
      "cell_type": "code",
      "metadata": {
        "id": "4le8qubE5Fsi",
        "colab_type": "code",
        "colab": {}
      },
      "source": [
        "-- 1. Select name fields (with alias) and region \n",
        "SELECT cities.name AS city, countries.name AS country, region\n",
        "FROM cities\n",
        "  INNER JOIN countries\n",
        "    ON cities.country_code = countries.code;"
      ],
      "execution_count": 0,
      "outputs": []
    },
    {
      "cell_type": "markdown",
      "metadata": {
        "id": "nghKOsoS5Xmj",
        "colab_type": "text"
      },
      "source": [
        "## Inner join (2)"
      ]
    },
    {
      "cell_type": "code",
      "metadata": {
        "id": "XIvmUTAP5ZBI",
        "colab_type": "code",
        "colab": {}
      },
      "source": [
        "-- 3. Select fields with aliases\n",
        "SELECT c.code AS country_code, c.name, e.year, e.inflation_rate\n",
        "FROM countries AS c\n",
        "  -- 1. Join to economies (alias e)\n",
        "  INNER JOIN economies AS e\n",
        "    -- 2. Match on code\n",
        "    ON c.code = e.code;"
      ],
      "execution_count": 0,
      "outputs": []
    },
    {
      "cell_type": "markdown",
      "metadata": {
        "id": "0BD2ym_B6Fkg",
        "colab_type": "text"
      },
      "source": [
        "## Inner join (3)"
      ]
    },
    {
      "cell_type": "code",
      "metadata": {
        "id": "lmxRyV6n6F6E",
        "colab_type": "code",
        "colab": {}
      },
      "source": [
        "-- 4. Select fields\n",
        "SELECT c.code, c.name, c.region, p.year, p.fertility_rate\n",
        "  -- 1. From countries (alias as c)\n",
        "  FROM countries AS c\n",
        "  -- 2. Join with populations (as p)\n",
        "  INNER JOIN populations AS p\n",
        "    -- 3. Match on country code\n",
        "    ON c.code = p.country_code;"
      ],
      "execution_count": 0,
      "outputs": []
    },
    {
      "cell_type": "code",
      "metadata": {
        "id": "tnC8HhFP7Hfx",
        "colab_type": "code",
        "colab": {}
      },
      "source": [
        "-- 6. Select fields\n",
        "SELECT c.code, name, region, e.year, fertility_rate, unemployment_rate\n",
        "  -- 1. From countries (alias as c)\n",
        "  FROM countries AS c\n",
        "  -- 2. Join to populations (as p)\n",
        "  INNER JOIN populations AS p\n",
        "    -- 3. Match on country code\n",
        "    ON c.code = p.country_code\n",
        "  -- 4. Join to economies (as e)\n",
        "  INNER JOIN economies AS e\n",
        "    -- 5. Match on country code\n",
        "    ON c.code = e.code;"
      ],
      "execution_count": 0,
      "outputs": []
    },
    {
      "cell_type": "code",
      "metadata": {
        "id": "CcS-UsBu75Uj",
        "colab_type": "code",
        "colab": {}
      },
      "source": [
        "-- 6. Select fields\n",
        "SELECT c.code, name, region, e.year, fertility_rate, unemployment_rate\n",
        "  -- 1. From countries (alias as c)\n",
        "  FROM countries AS c\n",
        "  -- 2. Join to populations (as p)\n",
        "  INNER JOIN populations AS p\n",
        "    -- 3. Match on country code\n",
        "    ON c.code = p.country_code\n",
        "  -- 4. Join to economies (as e)\n",
        "  INNER JOIN economies AS e\n",
        "    -- 5. Match on country code and year\n",
        "    ON c.code = e.code AND p.year = e.year;"
      ],
      "execution_count": 0,
      "outputs": []
    },
    {
      "cell_type": "markdown",
      "metadata": {
        "id": "6dIRF_Hu8aJF",
        "colab_type": "text"
      },
      "source": [
        "## Review inner join using on"
      ]
    },
    {
      "cell_type": "markdown",
      "metadata": {
        "id": "Ye_DnzrJ8ago",
        "colab_type": "text"
      },
      "source": [
        "c. INNER JOIN requires a specification of the key field (or fields) in each table."
      ]
    },
    {
      "cell_type": "markdown",
      "metadata": {
        "id": "TjjWJS2A8qLc",
        "colab_type": "text"
      },
      "source": [
        "## Inner join with using"
      ]
    },
    {
      "cell_type": "code",
      "metadata": {
        "id": "PvGqL2vm8sRm",
        "colab_type": "code",
        "colab": {}
      },
      "source": [
        "-- 4. Select fields\n",
        "SELECT c.name AS country, continent, l.name AS language, official\n",
        "  -- 1. From countries (alias as c)\n",
        "  FROM countries AS c\n",
        "  -- 2. Join to languages (as l)\n",
        "  INNER JOIN languages as l\n",
        "    -- 3. Match using code\n",
        "    USING (code)"
      ],
      "execution_count": 0,
      "outputs": []
    },
    {
      "cell_type": "markdown",
      "metadata": {
        "id": "QgowOOcE-1Tk",
        "colab_type": "text"
      },
      "source": [
        "## Self-join"
      ]
    },
    {
      "cell_type": "code",
      "metadata": {
        "id": "ULIzoMVs-1pE",
        "colab_type": "code",
        "colab": {}
      },
      "source": [
        "-- 4. Select fields with aliases\n",
        "SELECT p1.country_code, p1.size AS size2010, p2.size AS size2015\n",
        "-- 1. From populations (alias as p1)\n",
        "FROM populations AS p1\n",
        "  -- 2. Join to itself (alias as p2)\n",
        "  INNER JOIN populations AS p2\n",
        "    -- 3. Match on country code\n",
        "    ON p1.country_code = p2.country_code"
      ],
      "execution_count": 0,
      "outputs": []
    },
    {
      "cell_type": "code",
      "metadata": {
        "id": "CF50X0LW_-xO",
        "colab_type": "code",
        "colab": {}
      },
      "source": [
        "-- 5. Select fields with aliases\n",
        "SELECT p1.country_code,\n",
        "       p1.size AS size2010,\n",
        "       p2.size AS size2015\n",
        "-- 1. From populations (alias as p1)\n",
        "FROM populations as p1\n",
        "  -- 2. Join to itself (alias as p2)\n",
        "  INNER JOIN populations as p2\n",
        "    -- 3. Match on country code\n",
        "    ON p1.country_code = p2.country_code\n",
        "        -- 4. and year (with calculation)\n",
        "        WHERE p1.year = p2.year - 5;"
      ],
      "execution_count": 0,
      "outputs": []
    },
    {
      "cell_type": "code",
      "metadata": {
        "id": "XyYzdgpAAVc8",
        "colab_type": "code",
        "colab": {}
      },
      "source": [
        "SELECT p1.country_code,\n",
        "       p1.size AS size2010, \n",
        "       p2.size AS size2015,\n",
        "       -- 1. calculate growth_perc\n",
        "       ((p2.size - p1.size)/p1.size * 100.0) AS growth_perc\n",
        "-- 2. From populations (alias as p1)\n",
        "FROM populations AS p1\n",
        "  -- 3. Join to itself (alias as p2)\n",
        "  INNER JOIN populations AS p2\n",
        "    -- 4. Match on country code\n",
        "    ON p1.country_code = p2.country_code\n",
        "        -- 5. and year (with calculation)\n",
        "        AND p1.year = p2.year - 5;"
      ],
      "execution_count": 0,
      "outputs": []
    },
    {
      "cell_type": "markdown",
      "metadata": {
        "id": "CMXKmyG9AW3J",
        "colab_type": "text"
      },
      "source": [
        "## Case when and then"
      ]
    },
    {
      "cell_type": "code",
      "metadata": {
        "id": "g75nIjhDAXR8",
        "colab_type": "code",
        "colab": {}
      },
      "source": [
        "SELECT name, continent, code, surface_area,\n",
        "    -- 1. First case\n",
        "    CASE WHEN surface_area > 2000000 THEN 'large'\n",
        "        -- 2. Second case\n",
        "        WHEN surface_area > 350000 THEN 'medium'\n",
        "        -- 3. Else clause + end\n",
        "        ELSE 'small' END\n",
        "        -- 4. Alias name\n",
        "        AS geosize_group\n",
        "-- 5. From table\n",
        "FROM countries;"
      ],
      "execution_count": 0,
      "outputs": []
    },
    {
      "cell_type": "markdown",
      "metadata": {
        "id": "h_V0DisCA0xL",
        "colab_type": "text"
      },
      "source": [
        "## Inner challenge"
      ]
    },
    {
      "cell_type": "code",
      "metadata": {
        "id": "8PGFtIIgA1Ib",
        "colab_type": "code",
        "colab": {}
      },
      "source": [
        "SELECT country_code, size,\n",
        "    -- 1. First case\n",
        "    CASE WHEN size > 50000000 THEN 'large'\n",
        "        -- 2. Second case\n",
        "        WHEN size > 1000000 THEN 'medium'\n",
        "        -- 3. Else clause + end\n",
        "        ELSE 'small' END\n",
        "        -- 4. Alias name (popsize_group)\n",
        "        AS popsize_group\n",
        "-- 5. From table\n",
        "FROM populations\n",
        "-- 6. Focus on 2015\n",
        "WHERE year = 2015;"
      ],
      "execution_count": 0,
      "outputs": []
    },
    {
      "cell_type": "code",
      "metadata": {
        "id": "K95PstF4Bxl9",
        "colab_type": "code",
        "colab": {}
      },
      "source": [
        "SELECT country_code, size,\n",
        "    CASE WHEN size > 50000000 THEN 'large'\n",
        "        WHEN size > 1000000 THEN 'medium'\n",
        "        ELSE 'small' END\n",
        "        AS popsize_group\n",
        "-- 1. Into table\n",
        "INTO pop_plus\n",
        "FROM populations\n",
        "WHERE year = 2015;\n",
        "\n",
        "-- 2. Select all columns of pop_plus\n",
        "SELECT * FROM pop_plus;"
      ],
      "execution_count": 0,
      "outputs": []
    },
    {
      "cell_type": "code",
      "metadata": {
        "id": "SHeHVzoVCZqV",
        "colab_type": "code",
        "colab": {}
      },
      "source": [
        "SELECT country_code, size,\n",
        "  CASE WHEN size > 50000000\n",
        "            THEN 'large'\n",
        "       WHEN size > 1000000\n",
        "            THEN 'medium'\n",
        "       ELSE 'small' END\n",
        "       AS popsize_group\n",
        "INTO pop_plus       \n",
        "FROM populations\n",
        "WHERE year = 2015;\n",
        "\n",
        "-- 5. Select fields\n",
        "SELECT name, continent, geosize_group, popsize_group\n",
        "-- 1. From countries_plus (alias as c)\n",
        "FROM countries_plus AS c\n",
        "  -- 2. Join to pop_plus (alias as p)\n",
        "  INNER JOIN pop_plus AS p\n",
        "    -- 3. Match on country code\n",
        "    ON c.code = p.country_code\n",
        "-- 4. Order the table    \n",
        "ORDER BY geosize_group;"
      ],
      "execution_count": 0,
      "outputs": []
    }
  ]
}