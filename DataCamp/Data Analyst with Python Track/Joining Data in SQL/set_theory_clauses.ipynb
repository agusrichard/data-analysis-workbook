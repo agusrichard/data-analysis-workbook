{
  "nbformat": 4,
  "nbformat_minor": 0,
  "metadata": {
    "colab": {
      "name": "set_theory_clauses.ipynb",
      "provenance": []
    },
    "kernelspec": {
      "name": "python3",
      "display_name": "Python 3"
    }
  },
  "cells": [
    {
      "cell_type": "markdown",
      "metadata": {
        "id": "LBC0xP2DNIeS",
        "colab_type": "text"
      },
      "source": [
        "# Set theory clauses"
      ]
    },
    {
      "cell_type": "markdown",
      "metadata": {
        "id": "tzKj_I-W5hZB",
        "colab_type": "text"
      },
      "source": [
        "## Union"
      ]
    },
    {
      "cell_type": "code",
      "metadata": {
        "id": "2HhUk3to5lYf",
        "colab_type": "code",
        "colab": {}
      },
      "source": [
        "-- Select fields from 2010 table\n",
        "SELECT *\n",
        "  -- From 2010 table\n",
        "  FROM economies2010\n",
        "\t-- Set theory clause\n",
        "\tUNION\n",
        "-- Select fields from 2015 table\n",
        "SELECT *\n",
        "  -- From 2015 table\n",
        "  FROM economies2015\n",
        "-- Order by code and year\n",
        "ORDER BY code, year;"
      ],
      "execution_count": 0,
      "outputs": []
    },
    {
      "cell_type": "markdown",
      "metadata": {
        "id": "s0GoSInj6Ans",
        "colab_type": "text"
      },
      "source": [
        "## Union (2)"
      ]
    },
    {
      "cell_type": "code",
      "metadata": {
        "id": "o9lcz0o86A9y",
        "colab_type": "code",
        "colab": {}
      },
      "source": [
        "-- Select field\n",
        "SELECT country_code AS country_code\n",
        "  -- From cities\n",
        "  FROM cities\n",
        "\t-- Set theory clause\n",
        "\tUNION\n",
        "-- Select field\n",
        "SELECT code\n",
        "  -- From currencies\n",
        "  FROM currencies\n",
        "-- Order by country_code\n",
        "ORDER BY country_code;"
      ],
      "execution_count": 0,
      "outputs": []
    },
    {
      "cell_type": "markdown",
      "metadata": {
        "id": "jaFKifDD6bxD",
        "colab_type": "text"
      },
      "source": [
        "## Union all"
      ]
    },
    {
      "cell_type": "code",
      "metadata": {
        "id": "zbtM7kZC6cGv",
        "colab_type": "code",
        "colab": {}
      },
      "source": [
        "-- Select fields\n",
        "SELECT code, year\n",
        "  -- From economies\n",
        "  FROM economies\n",
        "\t-- Set theory clause\n",
        "\tUNION ALL\n",
        "-- Select fields\n",
        "SELECT country_code, year\n",
        "  -- From populations\n",
        "  FROM populations\n",
        "-- Order by code, year\n",
        "ORDER BY code, year;"
      ],
      "execution_count": 0,
      "outputs": []
    },
    {
      "cell_type": "markdown",
      "metadata": {
        "id": "KAyfMgrw7Ofj",
        "colab_type": "text"
      },
      "source": [
        "## Intersect"
      ]
    },
    {
      "cell_type": "code",
      "metadata": {
        "id": "_YRSeR2f7O1o",
        "colab_type": "code",
        "colab": {}
      },
      "source": [
        "-- Select fields\n",
        "SELECT code, year\n",
        "  -- From economies\n",
        "  FROM economies\n",
        "\t-- Set theory clause\n",
        "\tINTERSECT\n",
        "-- Select fields\n",
        "SELECT country_code, year\n",
        "  -- From populations\n",
        "  FROM populations\n",
        "-- Order by code and year\n",
        "ORDER BY code, year;"
      ],
      "execution_count": 0,
      "outputs": []
    },
    {
      "cell_type": "markdown",
      "metadata": {
        "id": "9iS1eOr07j6A",
        "colab_type": "text"
      },
      "source": [
        "## Intersect (2)"
      ]
    },
    {
      "cell_type": "code",
      "metadata": {
        "id": "uq8jvYoU7je7",
        "colab_type": "code",
        "colab": {}
      },
      "source": [
        "-- Select fields\n",
        "SELECT name\n",
        "  -- From countries\n",
        "  FROM countries\n",
        "\t-- Set theory clause\n",
        "\tINTERSECT\n",
        "-- Select fields\n",
        "SELECT name\n",
        "  -- From cities\n",
        "  FROM cities;"
      ],
      "execution_count": 0,
      "outputs": []
    },
    {
      "cell_type": "markdown",
      "metadata": {
        "id": "EEADbDOK7zde",
        "colab_type": "text"
      },
      "source": [
        "## Review union and intersect"
      ]
    },
    {
      "cell_type": "markdown",
      "metadata": {
        "id": "15jpDna_7zzM",
        "colab_type": "text"
      },
      "source": [
        "C. INTERSECT: returns only records appearing in both tables"
      ]
    },
    {
      "cell_type": "markdown",
      "metadata": {
        "id": "SAkNdYlf74fT",
        "colab_type": "text"
      },
      "source": [
        "## Except"
      ]
    },
    {
      "cell_type": "code",
      "metadata": {
        "id": "VM01PS8w8LyV",
        "colab_type": "code",
        "colab": {}
      },
      "source": [
        "-- Select field\n",
        "SELECT name\n",
        "  -- From cities\n",
        "  FROM cities\n",
        "\t-- Set theory clause\n",
        "\tEXCEPT\n",
        "-- Select field\n",
        "SELECT capital\n",
        "  -- From countries\n",
        "  FROM countries\n",
        "-- Order by result\n",
        "ORDER BY name;"
      ],
      "execution_count": 0,
      "outputs": []
    },
    {
      "cell_type": "markdown",
      "metadata": {
        "id": "e5pe4Vd08kxs",
        "colab_type": "text"
      },
      "source": [
        "## Except (2)"
      ]
    },
    {
      "cell_type": "code",
      "metadata": {
        "id": "6sZ0C9KA8lHR",
        "colab_type": "code",
        "colab": {}
      },
      "source": [
        "-- Select field\n",
        "SELECT capital\n",
        "  -- From countries\n",
        "  FROM countries\n",
        "\t-- Set theory clause\n",
        "\tEXCEPT\n",
        "-- Select field\n",
        "SELECT name\n",
        "  -- From cities\n",
        "  FROM cities\n",
        "-- Order by ascending capital\n",
        "ORDER BY capital;"
      ],
      "execution_count": 0,
      "outputs": []
    },
    {
      "cell_type": "markdown",
      "metadata": {
        "id": "2Tk0KOAG9uuw",
        "colab_type": "text"
      },
      "source": [
        "## Semi-join"
      ]
    },
    {
      "cell_type": "code",
      "metadata": {
        "id": "MpeKKCpq9vIq",
        "colab_type": "code",
        "colab": {}
      },
      "source": [
        "-- Select code\n",
        "SELECT code\n",
        "  -- From countries\n",
        "  FROM countries\n",
        "-- Where region is Middle East\n",
        "WHERE region = 'Middle East';"
      ],
      "execution_count": 0,
      "outputs": []
    },
    {
      "cell_type": "code",
      "metadata": {
        "id": "WqNv8cLh-PY4",
        "colab_type": "code",
        "colab": {}
      },
      "source": [
        "-- SELECT code\n",
        "--   FROM countries\n",
        "-- WHERE region = 'Middle East';\n",
        "\n",
        "-- Select field\n",
        "SELECT DISTINCT name\n",
        "  -- From languages\n",
        "  FROM languages\n",
        "-- Order by name\n",
        "ORDER BY name;"
      ],
      "execution_count": 0,
      "outputs": []
    },
    {
      "cell_type": "code",
      "metadata": {
        "id": "edX6EYMM-t8q",
        "colab_type": "code",
        "colab": {}
      },
      "source": [
        "-- Select distinct fields\n",
        "SELECT DISTINCT name\n",
        "  -- From languages\n",
        "  FROM languages\n",
        "-- Where in statement\n",
        "WHERE code IN\n",
        "  -- Subquery\n",
        "  (SELECT code\n",
        "   FROM countries\n",
        "   WHERE region = 'Middle East')\n",
        "-- Order by name\n",
        "ORDER BY name;"
      ],
      "execution_count": 0,
      "outputs": []
    },
    {
      "cell_type": "markdown",
      "metadata": {
        "id": "j4QGa1t2-wNY",
        "colab_type": "text"
      },
      "source": [
        "## Relating semi-join to a tweaked inner join"
      ]
    },
    {
      "cell_type": "markdown",
      "metadata": {
        "id": "WjCPRHoR-wnW",
        "colab_type": "text"
      },
      "source": [
        "B. DISTINCT"
      ]
    },
    {
      "cell_type": "markdown",
      "metadata": {
        "id": "DSlun8GK_BMR",
        "colab_type": "text"
      },
      "source": [
        "## Diagnosing problems using anti-join"
      ]
    },
    {
      "cell_type": "code",
      "metadata": {
        "id": "GQI9voIa_D9u",
        "colab_type": "code",
        "colab": {}
      },
      "source": [
        "-- Select statement\n",
        "SELECT COUNT(*)\n",
        "  -- From countries\n",
        "  FROM countries\n",
        "-- Where continent is Oceania\n",
        "WHERE continent = 'Oceania';"
      ],
      "execution_count": 0,
      "outputs": []
    },
    {
      "cell_type": "code",
      "metadata": {
        "id": "JZd_ye16_xUv",
        "colab_type": "code",
        "colab": {}
      },
      "source": [
        "-- 5. Select fields (with aliases)\n",
        "SELECT c1.code, c1.name, basic_unit AS currency\n",
        "  -- 1. From countries (alias as c1)\n",
        "  FROM countries as c1\n",
        "  \t-- 2. Join with currencies (alias as c2)\n",
        "  \tINNER JOIN currencies AS c2\n",
        "    -- 3. Match on code\n",
        "    ON c1.code = c2.code\n",
        "-- 4. Where continent is Oceania\n",
        "WHERE c1.continent = 'Oceania';"
      ],
      "execution_count": 0,
      "outputs": []
    },
    {
      "cell_type": "code",
      "metadata": {
        "id": "QmC0kAh1AaYJ",
        "colab_type": "code",
        "colab": {}
      },
      "source": [
        "-- 3. Select fields\n",
        "SELECT code, name\n",
        "  -- 4. From Countries\n",
        "  FROM countries\n",
        "  -- 5. Where continent is Oceania\n",
        "  WHERE continent = 'Oceania'\n",
        "  \t-- 1. And code not in\n",
        "  \tAND code NOT IN\n",
        "  \t-- 2. Subquery\n",
        "  \t(SELECT code\n",
        "  \t FROM currencies);"
      ],
      "execution_count": 0,
      "outputs": []
    },
    {
      "cell_type": "markdown",
      "metadata": {
        "id": "O0WpeGizAfwd",
        "colab_type": "text"
      },
      "source": [
        "## Set theory challenge"
      ]
    },
    {
      "cell_type": "code",
      "metadata": {
        "id": "u9qx2XKOAmIe",
        "colab_type": "code",
        "colab": {}
      },
      "source": [
        "-- Select the city name\n",
        "SELECT name\n",
        "  -- Alias the table where city name resides\n",
        "  FROM cities AS c1\n",
        "  -- Choose only records matching the result of multiple set theory clauses\n",
        "  WHERE country_code IN\n",
        "(\n",
        "    -- Select appropriate field from economies AS e\n",
        "    SELECT e.code\n",
        "    FROM economies AS e\n",
        "    -- Get all additional (unique) values of the field from currencies AS c2  \n",
        "    UNION\n",
        "    SELECT c2.code\n",
        "    FROM currencies AS c2\n",
        "    -- Exclude those appearing in populations AS p\n",
        "    EXCEPT\n",
        "    SELECT p.country_code\n",
        "    FROM populations AS p\n",
        ");"
      ],
      "execution_count": 0,
      "outputs": []
    }
  ]
}