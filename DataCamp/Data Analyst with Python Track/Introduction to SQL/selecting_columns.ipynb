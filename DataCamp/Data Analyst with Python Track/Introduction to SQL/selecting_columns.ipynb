{
  "nbformat": 4,
  "nbformat_minor": 0,
  "metadata": {
    "colab": {
      "name": "selecting_columns.ipynb",
      "provenance": [],
      "collapsed_sections": []
    },
    "kernelspec": {
      "name": "python3",
      "display_name": "Python 3"
    }
  },
  "cells": [
    {
      "cell_type": "markdown",
      "metadata": {
        "id": "CQRl_7UhR7Z-",
        "colab_type": "text"
      },
      "source": [
        "# Selecting columns\n"
      ]
    },
    {
      "cell_type": "markdown",
      "metadata": {
        "id": "YgA4PUxxSMgm",
        "colab_type": "text"
      },
      "source": [
        "## Onboarding | Tables"
      ]
    },
    {
      "cell_type": "markdown",
      "metadata": {
        "id": "Uu0QqUxJSxP_",
        "colab_type": "text"
      },
      "source": [
        "c. 50 Cent"
      ]
    },
    {
      "cell_type": "markdown",
      "metadata": {
        "id": "SZT51WjMTKWo",
        "colab_type": "text"
      },
      "source": [
        "## Onboarding | Query Result"
      ]
    },
    {
      "cell_type": "markdown",
      "metadata": {
        "id": "J27BAWoHTMTa",
        "colab_type": "text"
      },
      "source": [
        "B. A. Michael Baldwin"
      ]
    },
    {
      "cell_type": "markdown",
      "metadata": {
        "id": "GoJn-KRzTZpa",
        "colab_type": "text"
      },
      "source": [
        "## Onboarding | Errors"
      ]
    },
    {
      "cell_type": "code",
      "metadata": {
        "id": "fDNgBpafTb8v",
        "colab_type": "code",
        "colab": {}
      },
      "source": [
        "-- Try running me!\n",
        "SELECT 'DataCamp <3 SQL'\n",
        "AS result;"
      ],
      "execution_count": 0,
      "outputs": []
    },
    {
      "cell_type": "markdown",
      "metadata": {
        "id": "A-qdPGyhTuye",
        "colab_type": "text"
      },
      "source": [
        "## Onboarding | Bullet Exercises"
      ]
    },
    {
      "cell_type": "code",
      "metadata": {
        "id": "CLbO6ZQWTvJj",
        "colab_type": "code",
        "colab": {}
      },
      "source": [
        "SELECT 'SQL'\n",
        "AS result;"
      ],
      "execution_count": 0,
      "outputs": []
    },
    {
      "cell_type": "code",
      "metadata": {
        "id": "1NFwcFo2T2tp",
        "colab_type": "code",
        "colab": {}
      },
      "source": [
        "SELECT 'SQL is'\n",
        "AS result;"
      ],
      "execution_count": 0,
      "outputs": []
    },
    {
      "cell_type": "code",
      "metadata": {
        "id": "ECLRJpZ_T5Ko",
        "colab_type": "code",
        "colab": {}
      },
      "source": [
        "SELECT 'SQL is cool!'\n",
        "AS result;"
      ],
      "execution_count": 0,
      "outputs": []
    },
    {
      "cell_type": "markdown",
      "metadata": {
        "id": "k04ThjdhULJY",
        "colab_type": "text"
      },
      "source": [
        "## Beginning your SQL journey"
      ]
    },
    {
      "cell_type": "markdown",
      "metadata": {
        "id": "tDOtyK-HUK4X",
        "colab_type": "text"
      },
      "source": [
        "D. 4"
      ]
    },
    {
      "cell_type": "markdown",
      "metadata": {
        "id": "6GEpdceDUM2c",
        "colab_type": "text"
      },
      "source": [
        "## SELECTing single columns"
      ]
    },
    {
      "cell_type": "code",
      "metadata": {
        "id": "u_rzGOJjUSeR",
        "colab_type": "code",
        "colab": {}
      },
      "source": [
        "SELECT title FROM films"
      ],
      "execution_count": 0,
      "outputs": []
    },
    {
      "cell_type": "code",
      "metadata": {
        "id": "dObeDGi_Ujgn",
        "colab_type": "code",
        "colab": {}
      },
      "source": [
        "SELECT release_year FROM films"
      ],
      "execution_count": 0,
      "outputs": []
    },
    {
      "cell_type": "code",
      "metadata": {
        "id": "so_qjwhBUm1v",
        "colab_type": "code",
        "colab": {}
      },
      "source": [
        "SELECT name FROM people"
      ],
      "execution_count": 0,
      "outputs": []
    },
    {
      "cell_type": "markdown",
      "metadata": {
        "id": "KYMumd_cUoSH",
        "colab_type": "text"
      },
      "source": [
        "## SELECTing multiple columns"
      ]
    },
    {
      "cell_type": "code",
      "metadata": {
        "id": "vgHRh88bUoqe",
        "colab_type": "code",
        "colab": {}
      },
      "source": [
        "SELECT title FROM films"
      ],
      "execution_count": 0,
      "outputs": []
    },
    {
      "cell_type": "code",
      "metadata": {
        "id": "3UptQ9vpUz-3",
        "colab_type": "code",
        "colab": {}
      },
      "source": [
        "SELECT title, release_year\n",
        "FROM films;"
      ],
      "execution_count": 0,
      "outputs": []
    },
    {
      "cell_type": "code",
      "metadata": {
        "id": "GjW7gHK_U4G1",
        "colab_type": "code",
        "colab": {}
      },
      "source": [
        "SELECT title, release_year, country\n",
        "FROM films;"
      ],
      "execution_count": 0,
      "outputs": []
    },
    {
      "cell_type": "code",
      "metadata": {
        "id": "AIn6JagkU6M9",
        "colab_type": "code",
        "colab": {}
      },
      "source": [
        "SELECT *\n",
        "FROM films;"
      ],
      "execution_count": 0,
      "outputs": []
    },
    {
      "cell_type": "markdown",
      "metadata": {
        "id": "Il71F1NjU75N",
        "colab_type": "text"
      },
      "source": [
        "## SELECT DISTINCT"
      ]
    },
    {
      "cell_type": "code",
      "metadata": {
        "id": "NFD0X_ZnU8Q4",
        "colab_type": "code",
        "colab": {}
      },
      "source": [
        "SELECT DISTINCT country FROM films"
      ],
      "execution_count": 0,
      "outputs": []
    },
    {
      "cell_type": "code",
      "metadata": {
        "id": "oqhLCI_aVJIO",
        "colab_type": "code",
        "colab": {}
      },
      "source": [
        "SELECT DISTINCT certification FROM films"
      ],
      "execution_count": 0,
      "outputs": []
    },
    {
      "cell_type": "code",
      "metadata": {
        "id": "1dPSHw6mVQsA",
        "colab_type": "code",
        "colab": {}
      },
      "source": [
        "SELECT DISTINCT role FROM roles"
      ],
      "execution_count": 0,
      "outputs": []
    },
    {
      "cell_type": "markdown",
      "metadata": {
        "id": "nnQkda2HVSJl",
        "colab_type": "text"
      },
      "source": [
        "## Learning to COUNT"
      ]
    },
    {
      "cell_type": "markdown",
      "metadata": {
        "id": "wFC8MxNlVSlJ",
        "colab_type": "text"
      },
      "source": [
        "C. 4,968"
      ]
    },
    {
      "cell_type": "markdown",
      "metadata": {
        "id": "HplFfYeZVbdM",
        "colab_type": "text"
      },
      "source": [
        "## Practice with COUNT"
      ]
    },
    {
      "cell_type": "code",
      "metadata": {
        "id": "hWHzzUbqVdyI",
        "colab_type": "code",
        "colab": {}
      },
      "source": [
        "SELECT COUNT(*)\n",
        "FROM people;"
      ],
      "execution_count": 0,
      "outputs": []
    },
    {
      "cell_type": "code",
      "metadata": {
        "id": "AV2okiY_Vq18",
        "colab_type": "code",
        "colab": {}
      },
      "source": [
        "SELECT COUNT(birthdate)\n",
        "FROM people;"
      ],
      "execution_count": 0,
      "outputs": []
    },
    {
      "cell_type": "code",
      "metadata": {
        "id": "j1Env6etVyPC",
        "colab_type": "code",
        "colab": {}
      },
      "source": [
        "SELECT COUNT(DISTINCT birthdate)\n",
        "FROM people;"
      ],
      "execution_count": 0,
      "outputs": []
    },
    {
      "cell_type": "code",
      "metadata": {
        "id": "9alC4uGgV60V",
        "colab_type": "code",
        "colab": {}
      },
      "source": [
        "SELECT COUNT(DISTINCT language)\n",
        "FROM films;"
      ],
      "execution_count": 0,
      "outputs": []
    },
    {
      "cell_type": "code",
      "metadata": {
        "id": "tMGjnVPXV_oE",
        "colab_type": "code",
        "colab": {}
      },
      "source": [
        "SELECT COUNT(DISTINCT country)\n",
        "FROM films;"
      ],
      "execution_count": 0,
      "outputs": []
    }
  ]
}