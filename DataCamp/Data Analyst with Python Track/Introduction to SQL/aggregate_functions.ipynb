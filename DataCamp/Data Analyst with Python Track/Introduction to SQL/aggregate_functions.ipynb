{
  "nbformat": 4,
  "nbformat_minor": 0,
  "metadata": {
    "colab": {
      "name": "aggregate_functions.ipynb",
      "provenance": [],
      "collapsed_sections": []
    },
    "kernelspec": {
      "name": "python3",
      "display_name": "Python 3"
    }
  },
  "cells": [
    {
      "cell_type": "markdown",
      "metadata": {
        "id": "OSIRIp7JgKzc",
        "colab_type": "text"
      },
      "source": [
        "# Aggregate Functions"
      ]
    },
    {
      "cell_type": "markdown",
      "metadata": {
        "id": "IDqZu3OcgOZO",
        "colab_type": "text"
      },
      "source": [
        "## Aggregate functions"
      ]
    },
    {
      "cell_type": "code",
      "metadata": {
        "id": "K8OkB9digUmK",
        "colab_type": "code",
        "colab": {}
      },
      "source": [
        "SELECT SUM(duration)\n",
        "FROM films;"
      ],
      "execution_count": 0,
      "outputs": []
    },
    {
      "cell_type": "code",
      "metadata": {
        "id": "FeGr5pX1gdVa",
        "colab_type": "code",
        "colab": {}
      },
      "source": [
        "SELECT AVG(duration)\n",
        "FROM films;"
      ],
      "execution_count": 0,
      "outputs": []
    },
    {
      "cell_type": "code",
      "metadata": {
        "id": "JO__EXmDgfJC",
        "colab_type": "code",
        "colab": {}
      },
      "source": [
        "SELECT MIN(duration)\n",
        "FROM films;"
      ],
      "execution_count": 0,
      "outputs": []
    },
    {
      "cell_type": "code",
      "metadata": {
        "id": "qwp3PazlgfC5",
        "colab_type": "code",
        "colab": {}
      },
      "source": [
        "SELECT MAX(duration)\n",
        "FROM films;"
      ],
      "execution_count": 0,
      "outputs": []
    },
    {
      "cell_type": "markdown",
      "metadata": {
        "id": "okLSk19Ggiil",
        "colab_type": "text"
      },
      "source": [
        "## Aggregate functions practice"
      ]
    },
    {
      "cell_type": "code",
      "metadata": {
        "id": "Yp8vTFPcgjBD",
        "colab_type": "code",
        "colab": {}
      },
      "source": [
        "SELECT SUM(gross)\n",
        "FROM films;"
      ],
      "execution_count": 0,
      "outputs": []
    },
    {
      "cell_type": "code",
      "metadata": {
        "id": "cNoZNTkzgphJ",
        "colab_type": "code",
        "colab": {}
      },
      "source": [
        "SELECT AVG(gross)\n",
        "FROM films;"
      ],
      "execution_count": 0,
      "outputs": []
    },
    {
      "cell_type": "code",
      "metadata": {
        "id": "SouylvN5gsG0",
        "colab_type": "code",
        "colab": {}
      },
      "source": [
        "SELECT MIN(gross)\n",
        "FROM films;"
      ],
      "execution_count": 0,
      "outputs": []
    },
    {
      "cell_type": "code",
      "metadata": {
        "id": "Dp4lKNKugtvo",
        "colab_type": "code",
        "colab": {}
      },
      "source": [
        "SELECT MAX(gross)\n",
        "FROM films;"
      ],
      "execution_count": 0,
      "outputs": []
    },
    {
      "cell_type": "markdown",
      "metadata": {
        "id": "D-LpKeRjgvHg",
        "colab_type": "text"
      },
      "source": [
        "## Combining aggregate functions with WHERE"
      ]
    },
    {
      "cell_type": "code",
      "metadata": {
        "id": "tfhLmcj-gvea",
        "colab_type": "code",
        "colab": {}
      },
      "source": [
        "SELECT SUM(gross)\n",
        "FROM films\n",
        "WHERE release_year >= 2000;"
      ],
      "execution_count": 0,
      "outputs": []
    },
    {
      "cell_type": "code",
      "metadata": {
        "id": "vg1QL3vHhAWw",
        "colab_type": "code",
        "colab": {}
      },
      "source": [
        "SELECT AVG(gross)\n",
        "FROM films\n",
        "WHERE title LIKE 'A%';"
      ],
      "execution_count": 0,
      "outputs": []
    },
    {
      "cell_type": "code",
      "metadata": {
        "id": "ck0MIVgbhFbQ",
        "colab_type": "code",
        "colab": {}
      },
      "source": [
        "SELECT MIN(gross)\n",
        "FROM films\n",
        "WHERE release_year = 1994;"
      ],
      "execution_count": 0,
      "outputs": []
    },
    {
      "cell_type": "code",
      "metadata": {
        "id": "0b5kFd0IhOyx",
        "colab_type": "code",
        "colab": {}
      },
      "source": [
        "SELECT MAX(gross)\n",
        "FROM films\n",
        "WHERE release_year\n",
        "BETWEEN 2000 AND 2012;"
      ],
      "execution_count": 0,
      "outputs": []
    },
    {
      "cell_type": "markdown",
      "metadata": {
        "id": "LuGp6-d1hQ2B",
        "colab_type": "text"
      },
      "source": [
        "## A note on arithmetic"
      ]
    },
    {
      "cell_type": "markdown",
      "metadata": {
        "id": "zWR3CjynhRNH",
        "colab_type": "text"
      },
      "source": [
        "c. 3"
      ]
    },
    {
      "cell_type": "markdown",
      "metadata": {
        "id": "QLM47HtlhbJn",
        "colab_type": "text"
      },
      "source": [
        "## It's AS simple AS aliasing"
      ]
    },
    {
      "cell_type": "code",
      "metadata": {
        "id": "ScEJcoizheNf",
        "colab_type": "code",
        "colab": {}
      },
      "source": [
        "SELECT title, gross - budget AS net_profit\n",
        "FROM films;"
      ],
      "execution_count": 0,
      "outputs": []
    },
    {
      "cell_type": "code",
      "metadata": {
        "id": "V5w62yj8h8zQ",
        "colab_type": "code",
        "colab": {}
      },
      "source": [
        "SELECT title, (duration / 60.0) AS duration_hours\n",
        "FROM films;"
      ],
      "execution_count": 0,
      "outputs": []
    },
    {
      "cell_type": "code",
      "metadata": {
        "id": "IJKCPIUaiMQf",
        "colab_type": "code",
        "colab": {}
      },
      "source": [
        "SELECT AVG(duration) / 60.0 AS avg_duration_hours\n",
        "FROM films;"
      ],
      "execution_count": 0,
      "outputs": []
    },
    {
      "cell_type": "markdown",
      "metadata": {
        "id": "LUKu3HIqiNrX",
        "colab_type": "text"
      },
      "source": [
        "## Even more aliasing"
      ]
    },
    {
      "cell_type": "code",
      "metadata": {
        "id": "hUImQzyLiOCA",
        "colab_type": "code",
        "colab": {}
      },
      "source": [
        "-- get the count(deathdate) and multiply by 100.0\n",
        "-- then divide by count(*) \n",
        "SELECT COUNT(deathdate) * 100.0 / COUNT(*) AS percentage_dead\n",
        "FROM people;"
      ],
      "execution_count": 0,
      "outputs": []
    },
    {
      "cell_type": "code",
      "metadata": {
        "id": "Ee-ZOKDKi-t_",
        "colab_type": "code",
        "colab": {}
      },
      "source": [
        "SELECT MAX(release_year) - MIN(release_year) AS difference\n",
        "FROM films;"
      ],
      "execution_count": 0,
      "outputs": []
    },
    {
      "cell_type": "code",
      "metadata": {
        "id": "uP74q03hjB39",
        "colab_type": "code",
        "colab": {}
      },
      "source": [
        "SELECT (MAX(release_year) - MIN(release_year)) / 10.0\n",
        "AS number_of_decades\n",
        "FROM films;"
      ],
      "execution_count": 0,
      "outputs": []
    }
  ]
}