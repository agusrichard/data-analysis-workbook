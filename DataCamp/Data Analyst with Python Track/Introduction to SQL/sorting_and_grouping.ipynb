{
  "nbformat": 4,
  "nbformat_minor": 0,
  "metadata": {
    "colab": {
      "name": "sorting_and_grouping.ipynb",
      "provenance": [],
      "collapsed_sections": []
    },
    "kernelspec": {
      "name": "python3",
      "display_name": "Python 3"
    }
  },
  "cells": [
    {
      "cell_type": "markdown",
      "metadata": {
        "id": "s-jySWBljPtb",
        "colab_type": "text"
      },
      "source": [
        "# Sorting and grouping"
      ]
    },
    {
      "cell_type": "markdown",
      "metadata": {
        "id": "A7yJ5A1WjROL",
        "colab_type": "text"
      },
      "source": [
        "## ORDER BY"
      ]
    },
    {
      "cell_type": "markdown",
      "metadata": {
        "id": "uCa96ZFxjYrj",
        "colab_type": "text"
      },
      "source": [
        "A. Alphabetically (A-Z)"
      ]
    },
    {
      "cell_type": "markdown",
      "metadata": {
        "id": "6W1-KgyQjhUp",
        "colab_type": "text"
      },
      "source": [
        "## Sorting single columns"
      ]
    },
    {
      "cell_type": "code",
      "metadata": {
        "id": "JotDgomLjjSR",
        "colab_type": "code",
        "colab": {}
      },
      "source": [
        "SELECT name\n",
        "FROM people\n",
        "ORDER BY name;"
      ],
      "execution_count": 0,
      "outputs": []
    },
    {
      "cell_type": "code",
      "metadata": {
        "id": "DN6LygtUjwz-",
        "colab_type": "code",
        "colab": {}
      },
      "source": [
        "SELECT name\n",
        "FROM people\n",
        "ORDER BY birthdate;"
      ],
      "execution_count": 0,
      "outputs": []
    },
    {
      "cell_type": "code",
      "metadata": {
        "id": "PCoq3sFAjwua",
        "colab_type": "code",
        "colab": {}
      },
      "source": [
        "SELECT birthdate, name\n",
        "FROM people\n",
        "ORDER BY birthdate;"
      ],
      "execution_count": 0,
      "outputs": []
    },
    {
      "cell_type": "markdown",
      "metadata": {
        "id": "ZdTMdccGj3Pu",
        "colab_type": "text"
      },
      "source": [
        "## Sorting single columns (2)"
      ]
    },
    {
      "cell_type": "code",
      "metadata": {
        "id": "QiEu9IcTj3l_",
        "colab_type": "code",
        "colab": {}
      },
      "source": [
        "SELECT title\n",
        "FROM films\n",
        "WHERE release_year = 2000 OR release_year = 2012\n",
        "ORDER BY release_year;"
      ],
      "execution_count": 0,
      "outputs": []
    },
    {
      "cell_type": "code",
      "metadata": {
        "id": "gCdj6mqFkNM0",
        "colab_type": "code",
        "colab": {}
      },
      "source": [
        "SELECT *\n",
        "FROM films\n",
        "WHERE release_year <> 2015\n",
        "ORDER BY duration;"
      ],
      "execution_count": 0,
      "outputs": []
    },
    {
      "cell_type": "code",
      "metadata": {
        "id": "TuOymsLskYwc",
        "colab_type": "code",
        "colab": {}
      },
      "source": [
        "SELECT title, gross\n",
        "FROM films\n",
        "WHERE title LIKE 'M%'\n",
        "ORDER BY title;"
      ],
      "execution_count": 0,
      "outputs": []
    },
    {
      "cell_type": "markdown",
      "metadata": {
        "id": "k3CJ6stPkaUb",
        "colab_type": "text"
      },
      "source": [
        "## Sorting single columns (DESC)"
      ]
    },
    {
      "cell_type": "code",
      "metadata": {
        "id": "s07RlSHLkarl",
        "colab_type": "code",
        "colab": {}
      },
      "source": [
        "SELECT imdb_score, film_id\n",
        "FROM reviews\n",
        "ORDER BY imdb_score DESC;"
      ],
      "execution_count": 0,
      "outputs": []
    },
    {
      "cell_type": "code",
      "metadata": {
        "id": "ZruGjTagk0pj",
        "colab_type": "code",
        "colab": {}
      },
      "source": [
        "SELECT title\n",
        "FROM films\n",
        "ORDER BY title DESC;"
      ],
      "execution_count": 0,
      "outputs": []
    },
    {
      "cell_type": "code",
      "metadata": {
        "id": "y-i96qKok7j9",
        "colab_type": "code",
        "colab": {}
      },
      "source": [
        "SELECT title, duration\n",
        "FROM films\n",
        "ORDER BY duration DESC;"
      ],
      "execution_count": 0,
      "outputs": []
    },
    {
      "cell_type": "markdown",
      "metadata": {
        "id": "t_1RWrgTk9CD",
        "colab_type": "text"
      },
      "source": [
        "## Sorting multiple columns"
      ]
    },
    {
      "cell_type": "code",
      "metadata": {
        "id": "LHSNxbrEk9Yu",
        "colab_type": "code",
        "colab": {}
      },
      "source": [
        "SELECT birthdate, name\n",
        "FROM people\n",
        "ORDER BY birthdate, name;"
      ],
      "execution_count": 0,
      "outputs": []
    },
    {
      "cell_type": "code",
      "metadata": {
        "id": "1ZcRnEuIlTTZ",
        "colab_type": "code",
        "colab": {}
      },
      "source": [
        "SELECT release_year, duration, title\n",
        "FROM films\n",
        "ORDER BY release_year, duration;"
      ],
      "execution_count": 0,
      "outputs": []
    },
    {
      "cell_type": "code",
      "metadata": {
        "id": "Nwp3yAhKlaGx",
        "colab_type": "code",
        "colab": {}
      },
      "source": [
        "SELECT certification, release_year, title\n",
        "FROM films\n",
        "ORDER BY certification, release_year;"
      ],
      "execution_count": 0,
      "outputs": []
    },
    {
      "cell_type": "code",
      "metadata": {
        "id": "CZsD2Dv0le2J",
        "colab_type": "code",
        "colab": {}
      },
      "source": [
        "SELECT name, birthdate\n",
        "FROM people\n",
        "ORDER BY name, birthdate;"
      ],
      "execution_count": 0,
      "outputs": []
    },
    {
      "cell_type": "markdown",
      "metadata": {
        "id": "jRsBOrTslgUD",
        "colab_type": "text"
      },
      "source": [
        "## GROUP BY"
      ]
    },
    {
      "cell_type": "markdown",
      "metadata": {
        "id": "1HKPMteLlgqx",
        "colab_type": "text"
      },
      "source": [
        "D. Performing operations by group"
      ]
    },
    {
      "cell_type": "markdown",
      "metadata": {
        "id": "q1zZ0Q7BlruV",
        "colab_type": "text"
      },
      "source": [
        "## GROUP BY practice"
      ]
    },
    {
      "cell_type": "code",
      "metadata": {
        "id": "jcDn1LZFluh3",
        "colab_type": "code",
        "colab": {}
      },
      "source": [
        "SELECT release_year, COUNT(*)\n",
        "FROM films\n",
        "GROUP BY release_year;"
      ],
      "execution_count": 0,
      "outputs": []
    },
    {
      "cell_type": "code",
      "metadata": {
        "id": "OEfN9jUYmCWw",
        "colab_type": "code",
        "colab": {}
      },
      "source": [
        "SELECT release_year, AVG(duration)\n",
        "FROM films\n",
        "GROUP BY release_year;"
      ],
      "execution_count": 0,
      "outputs": []
    },
    {
      "cell_type": "code",
      "metadata": {
        "id": "mTFUh15ZmGYP",
        "colab_type": "code",
        "colab": {}
      },
      "source": [
        "SELECT release_year, MAX(budget)\n",
        "FROM films\n",
        "GROUP BY release_year;"
      ],
      "execution_count": 0,
      "outputs": []
    },
    {
      "cell_type": "code",
      "metadata": {
        "id": "rDkNRn1emOci",
        "colab_type": "code",
        "colab": {}
      },
      "source": [
        "SELECT imdb_score, COUNT(*)\n",
        "FROM reviews\n",
        "GROUP BY imdb_score;"
      ],
      "execution_count": 0,
      "outputs": []
    },
    {
      "cell_type": "markdown",
      "metadata": {
        "id": "n1ZKe0yumQtI",
        "colab_type": "text"
      },
      "source": [
        "## GROUP BY practice (2)"
      ]
    },
    {
      "cell_type": "code",
      "metadata": {
        "id": "ChJTmtWTmRBN",
        "colab_type": "code",
        "colab": {}
      },
      "source": [
        "SELECT release_year, MIN(gross)\n",
        "FROM films\n",
        "GROUP BY release_year;"
      ],
      "execution_count": 0,
      "outputs": []
    },
    {
      "cell_type": "code",
      "metadata": {
        "id": "Z6qmc-hhmgF7",
        "colab_type": "code",
        "colab": {}
      },
      "source": [
        "SELECT language, SUM(gross)\n",
        "FROM films\n",
        "GROUP BY language;"
      ],
      "execution_count": 0,
      "outputs": []
    },
    {
      "cell_type": "code",
      "metadata": {
        "id": "qkojtyIDmoG_",
        "colab_type": "code",
        "colab": {}
      },
      "source": [
        "SELECT country, SUM(budget)\n",
        "FROM films\n",
        "GROUP BY country;"
      ],
      "execution_count": 0,
      "outputs": []
    },
    {
      "cell_type": "code",
      "metadata": {
        "id": "y3tUBb6Xm6K_",
        "colab_type": "code",
        "colab": {}
      },
      "source": [
        "SELECT release_year, country, MAX(budget)\n",
        "FROM films\n",
        "GROUP BY release_year, country\n",
        "ORDER BY release_year, country;"
      ],
      "execution_count": 0,
      "outputs": []
    },
    {
      "cell_type": "code",
      "metadata": {
        "id": "SYSrrrf0nD6w",
        "colab_type": "code",
        "colab": {}
      },
      "source": [
        "SELECT country, release_year, MIN(gross)\n",
        "FROM films\n",
        "GROUP BY country, release_year\n",
        "ORDER BY country, release_year;"
      ],
      "execution_count": 0,
      "outputs": []
    },
    {
      "cell_type": "markdown",
      "metadata": {
        "id": "-zKTuL-JnFNX",
        "colab_type": "text"
      },
      "source": [
        "## HAVING a great time"
      ]
    },
    {
      "cell_type": "markdown",
      "metadata": {
        "id": "Oux-MGJ3nFk4",
        "colab_type": "text"
      },
      "source": [
        "B. 13"
      ]
    },
    {
      "cell_type": "markdown",
      "metadata": {
        "id": "LPpbl5groDTW",
        "colab_type": "text"
      },
      "source": [
        "## All together now"
      ]
    },
    {
      "cell_type": "code",
      "metadata": {
        "id": "R8rEaMKzoE0u",
        "colab_type": "code",
        "colab": {}
      },
      "source": [
        "SELECT release_year, budget, gross\n",
        "FROM films;"
      ],
      "execution_count": 0,
      "outputs": []
    },
    {
      "cell_type": "code",
      "metadata": {
        "id": "uMGHhQI8oNZk",
        "colab_type": "code",
        "colab": {}
      },
      "source": [
        "SELECT release_year, budget, gross\n",
        "FROM films\n",
        "WHERE release_year > 1990;"
      ],
      "execution_count": 0,
      "outputs": []
    },
    {
      "cell_type": "code",
      "metadata": {
        "id": "nVUl6RFjoMv0",
        "colab_type": "code",
        "colab": {}
      },
      "source": [
        "SELECT release_year\n",
        "FROM films\n",
        "WHERE release_year > 1990\n",
        "GROUP BY release_year;"
      ],
      "execution_count": 0,
      "outputs": []
    },
    {
      "cell_type": "code",
      "metadata": {
        "id": "1SUrDazDoMof",
        "colab_type": "code",
        "colab": {}
      },
      "source": [
        "SELECT release_year, AVG(budget) AS avg_budget, AVG(gross) AS avg_gross\n",
        "FROM films\n",
        "WHERE release_year > 1990\n",
        "GROUP BY release_year;"
      ],
      "execution_count": 0,
      "outputs": []
    },
    {
      "cell_type": "code",
      "metadata": {
        "id": "ue5Iiwl1oMg8",
        "colab_type": "code",
        "colab": {}
      },
      "source": [
        "SELECT release_year, AVG(budget) AS avg_budget, AVG(gross) AS avg_gross\n",
        "FROM films\n",
        "GROUP BY release_year\n",
        "HAVING AVG(budget) > 60000000;"
      ],
      "execution_count": 0,
      "outputs": []
    },
    {
      "cell_type": "code",
      "metadata": {
        "id": "PCqBJ2XioMVv",
        "colab_type": "code",
        "colab": {}
      },
      "source": [
        "SELECT release_year, AVG(budget) AS avg_budget, AVG(gross) AS avg_gross\n",
        "FROM films\n",
        "WHERE release_year > 1990\n",
        "GROUP BY release_year\n",
        "HAVING AVG(budget) > 60000000\n",
        "ORDER BY avg_gross DESC;"
      ],
      "execution_count": 0,
      "outputs": []
    },
    {
      "cell_type": "markdown",
      "metadata": {
        "id": "k2RaVCyhpKWn",
        "colab_type": "text"
      },
      "source": [
        "## All together now (2)"
      ]
    },
    {
      "cell_type": "code",
      "metadata": {
        "id": "4go2-pLCpKtB",
        "colab_type": "code",
        "colab": {}
      },
      "source": [
        "-- select country, average budget, average gross\n",
        "SELECT country, AVG(budget) AS avg_budget, AVG(gross) AS avg_gross\n",
        "-- from the films table\n",
        "FROM films\n",
        "-- group by country \n",
        "GROUP BY country\n",
        "-- where the country has more than 10 titles\n",
        "HAVING COUNT(title) > 10\n",
        "-- order by country\n",
        "ORDER BY country\n",
        "-- limit to only show 5 results\n",
        "LIMIT 5;"
      ],
      "execution_count": 0,
      "outputs": []
    },
    {
      "cell_type": "markdown",
      "metadata": {
        "id": "n5FXXeBkpVMC",
        "colab_type": "text"
      },
      "source": [
        "## A taste of things to come"
      ]
    },
    {
      "cell_type": "markdown",
      "metadata": {
        "id": "3vv_P-u1pVht",
        "colab_type": "text"
      },
      "source": [
        "B. 8.4"
      ]
    }
  ]
}