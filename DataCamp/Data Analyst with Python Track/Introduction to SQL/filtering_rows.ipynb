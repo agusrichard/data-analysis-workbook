{
  "nbformat": 4,
  "nbformat_minor": 0,
  "metadata": {
    "colab": {
      "name": "filtering_rows.ipynb",
      "provenance": []
    },
    "kernelspec": {
      "name": "python3",
      "display_name": "Python 3"
    }
  },
  "cells": [
    {
      "cell_type": "markdown",
      "metadata": {
        "id": "_7xC7BYtWKsi",
        "colab_type": "text"
      },
      "source": [
        "# Filtering rows\n"
      ]
    },
    {
      "cell_type": "markdown",
      "metadata": {
        "id": "sbeiXJOnWnP7",
        "colab_type": "text"
      },
      "source": [
        "## Filtering results"
      ]
    },
    {
      "cell_type": "markdown",
      "metadata": {
        "id": "XPkfHcUdWSHS",
        "colab_type": "text"
      },
      "source": [
        "B. Films released after the year 2000"
      ]
    },
    {
      "cell_type": "markdown",
      "metadata": {
        "id": "SIVN82MqWhcz",
        "colab_type": "text"
      },
      "source": [
        "## Simple filtering of numeric values"
      ]
    },
    {
      "cell_type": "code",
      "metadata": {
        "id": "NXiFen6FWkjT",
        "colab_type": "code",
        "colab": {}
      },
      "source": [
        "SELECT *\n",
        "FROM films\n",
        "WHERE release_year = 2016;"
      ],
      "execution_count": 0,
      "outputs": []
    },
    {
      "cell_type": "code",
      "metadata": {
        "id": "vOBZIcYLW_cQ",
        "colab_type": "code",
        "colab": {}
      },
      "source": [
        "SELECT COUNT(*)\n",
        "FROM films\n",
        "WHERE release_year < 2000;"
      ],
      "execution_count": 0,
      "outputs": []
    },
    {
      "cell_type": "code",
      "metadata": {
        "id": "tgvj36XmXI4i",
        "colab_type": "code",
        "colab": {}
      },
      "source": [
        "SELECT title, release_year\n",
        "FROM films\n",
        "WHERE release_year > 2000;"
      ],
      "execution_count": 0,
      "outputs": []
    },
    {
      "cell_type": "markdown",
      "metadata": {
        "id": "N-DV02dtW_Ey",
        "colab_type": "text"
      },
      "source": [
        "## Simple filtering of text"
      ]
    },
    {
      "cell_type": "code",
      "metadata": {
        "id": "J0oxmCW7XLGo",
        "colab_type": "code",
        "colab": {}
      },
      "source": [
        "SELECT *\n",
        "FROM films\n",
        "WHERE language = 'French';"
      ],
      "execution_count": 0,
      "outputs": []
    },
    {
      "cell_type": "code",
      "metadata": {
        "id": "5A0q3DXRXhox",
        "colab_type": "code",
        "colab": {}
      },
      "source": [
        "SELECT name, birthdate\n",
        "FROM people\n",
        "WHERE birthdate = '1974-11-11';"
      ],
      "execution_count": 0,
      "outputs": []
    },
    {
      "cell_type": "code",
      "metadata": {
        "id": "zAAHR0KjXyLx",
        "colab_type": "code",
        "colab": {}
      },
      "source": [
        "SELECT COUNT(*)\n",
        "FROM films\n",
        "WHERE language = 'Hindi';"
      ],
      "execution_count": 0,
      "outputs": []
    },
    {
      "cell_type": "code",
      "metadata": {
        "id": "5qKMA8e3X6q5",
        "colab_type": "code",
        "colab": {}
      },
      "source": [
        "SELECT *\n",
        "FROM films\n",
        "WHERE certification = 'R';"
      ],
      "execution_count": 0,
      "outputs": []
    },
    {
      "cell_type": "markdown",
      "metadata": {
        "id": "yRJhFPmJX8E1",
        "colab_type": "text"
      },
      "source": [
        "## WHERE AND"
      ]
    },
    {
      "cell_type": "code",
      "metadata": {
        "id": "SF1_CeU8X8bM",
        "colab_type": "code",
        "colab": {}
      },
      "source": [
        "SELECT title, release_year\n",
        "FROM films \n",
        "WHERE language = 'Spanish' AND release_year < 2000;"
      ],
      "execution_count": 0,
      "outputs": []
    },
    {
      "cell_type": "code",
      "metadata": {
        "id": "tmsre_SgYSVB",
        "colab_type": "code",
        "colab": {}
      },
      "source": [
        "SELECT *\n",
        "FROM films \n",
        "WHERE language = 'Spanish' AND release_year > 2000;"
      ],
      "execution_count": 0,
      "outputs": []
    },
    {
      "cell_type": "code",
      "metadata": {
        "id": "IXuG8AcdYcaQ",
        "colab_type": "code",
        "colab": {}
      },
      "source": [
        "SELECT *\n",
        "FROM films\n",
        "WHERE language = 'Spanish' AND release_year > 2000 AND release_year < 2010;"
      ],
      "execution_count": 0,
      "outputs": []
    },
    {
      "cell_type": "markdown",
      "metadata": {
        "id": "617bvvhFYd8g",
        "colab_type": "text"
      },
      "source": [
        "## WHERE AND OR"
      ]
    },
    {
      "cell_type": "markdown",
      "metadata": {
        "id": "kKpXucvZYeTL",
        "colab_type": "text"
      },
      "source": [
        "A. Display only rows that meet at least one of the specified conditions"
      ]
    },
    {
      "cell_type": "markdown",
      "metadata": {
        "id": "xwZmRhrXYoQl",
        "colab_type": "text"
      },
      "source": [
        "## WHERE AND OR (2)"
      ]
    },
    {
      "cell_type": "code",
      "metadata": {
        "id": "9p3o1elyYslJ",
        "colab_type": "code",
        "colab": {}
      },
      "source": [
        "SELECT title, release_year\n",
        "FROM films\n",
        "WHERE release_year >= 1990 AND release_year < 2000;"
      ],
      "execution_count": 0,
      "outputs": []
    },
    {
      "cell_type": "code",
      "metadata": {
        "id": "ClI_RXLZZWUQ",
        "colab_type": "code",
        "colab": {}
      },
      "source": [
        "SELECT title, release_year\n",
        "FROM films\n",
        "WHERE (release_year >= 1990 AND release_year < 2000)\n",
        "AND (language = 'French' OR language = 'Spanish');"
      ],
      "execution_count": 0,
      "outputs": []
    },
    {
      "cell_type": "code",
      "metadata": {
        "id": "O3m2YLi3ZfhN",
        "colab_type": "code",
        "colab": {}
      },
      "source": [
        "SELECT title, release_year\n",
        "FROM films\n",
        "WHERE (release_year >= 1990 AND release_year < 2000)\n",
        "AND (language = 'French' OR language = 'Spanish')\n",
        "AND (gross > 2000000);"
      ],
      "execution_count": 0,
      "outputs": []
    },
    {
      "cell_type": "markdown",
      "metadata": {
        "id": "o3eKu8QoZhVt",
        "colab_type": "text"
      },
      "source": [
        "## BETWEEN"
      ]
    },
    {
      "cell_type": "markdown",
      "metadata": {
        "id": "QFayu5M9Zhrf",
        "colab_type": "text"
      },
      "source": [
        "D. Filter values in a specified range"
      ]
    },
    {
      "cell_type": "markdown",
      "metadata": {
        "id": "5dOOrfHxZtE_",
        "colab_type": "text"
      },
      "source": [
        "## BETWEEN (2)"
      ]
    },
    {
      "cell_type": "code",
      "metadata": {
        "id": "wn0-FE0FZusy",
        "colab_type": "code",
        "colab": {}
      },
      "source": [
        "SELECT title, release_year\n",
        "FROM films\n",
        "WHERE release_year\n",
        "BETWEEN 1990 AND 2000;"
      ],
      "execution_count": 0,
      "outputs": []
    },
    {
      "cell_type": "code",
      "metadata": {
        "id": "iZOftiPJaB1u",
        "colab_type": "code",
        "colab": {}
      },
      "source": [
        "SELECT title, release_year\n",
        "FROM films\n",
        "WHERE release_year\n",
        "BETWEEN 1990 AND 2000\n",
        "AND budget > 100000000;"
      ],
      "execution_count": 0,
      "outputs": []
    },
    {
      "cell_type": "code",
      "metadata": {
        "id": "9jdIoXHjaGH0",
        "colab_type": "code",
        "colab": {}
      },
      "source": [
        "SELECT title, release_year\n",
        "FROM films\n",
        "WHERE release_year\n",
        "BETWEEN 1990 AND 2000\n",
        "AND budget > 100000000\n",
        "AND language = 'Spanish';"
      ],
      "execution_count": 0,
      "outputs": []
    },
    {
      "cell_type": "code",
      "metadata": {
        "id": "QVt6Nk1waOte",
        "colab_type": "code",
        "colab": {}
      },
      "source": [
        "SELECT title, release_year\n",
        "FROM films\n",
        "WHERE release_year\n",
        "BETWEEN 1990 AND 2000\n",
        "AND budget > 100000000\n",
        "AND (language = 'Spanish' OR language = 'French');"
      ],
      "execution_count": 0,
      "outputs": []
    },
    {
      "cell_type": "markdown",
      "metadata": {
        "id": "jVAbBNJMaQIf",
        "colab_type": "text"
      },
      "source": [
        "## WHERE IN"
      ]
    },
    {
      "cell_type": "code",
      "metadata": {
        "id": "OGe9koLYaQdb",
        "colab_type": "code",
        "colab": {}
      },
      "source": [
        "SELECT title, release_year\n",
        "FROM films\n",
        "WHERE release_year IN (1990, 2000)\n",
        "AND duration > 120;"
      ],
      "execution_count": 0,
      "outputs": []
    },
    {
      "cell_type": "code",
      "metadata": {
        "id": "F_CkZSTJayz0",
        "colab_type": "code",
        "colab": {}
      },
      "source": [
        "SELECT title, language\n",
        "FROM films\n",
        "WHERE language IN ('English', 'Spanish', 'French');"
      ],
      "execution_count": 0,
      "outputs": []
    },
    {
      "cell_type": "code",
      "metadata": {
        "id": "K_Q4VtrVa-MT",
        "colab_type": "code",
        "colab": {}
      },
      "source": [
        "SELECT title, certification\n",
        "FROM films\n",
        "WHERE certification IN ('NC-17', 'R');"
      ],
      "execution_count": 0,
      "outputs": []
    },
    {
      "cell_type": "markdown",
      "metadata": {
        "id": "fVmrZllpa_oT",
        "colab_type": "text"
      },
      "source": [
        "## Introduction to NULL and IS NULL"
      ]
    },
    {
      "cell_type": "markdown",
      "metadata": {
        "id": "sJdBlauzbADH",
        "colab_type": "text"
      },
      "source": [
        "B. A missing value"
      ]
    },
    {
      "cell_type": "markdown",
      "metadata": {
        "id": "_2Op5IAMbIgd",
        "colab_type": "text"
      },
      "source": [
        "## NULL and IS NULL"
      ]
    },
    {
      "cell_type": "code",
      "metadata": {
        "id": "q76zHk3nbKeJ",
        "colab_type": "code",
        "colab": {}
      },
      "source": [
        "SELECT name\n",
        "FROM people\n",
        "WHERE deathdate IS NULL;"
      ],
      "execution_count": 0,
      "outputs": []
    },
    {
      "cell_type": "code",
      "metadata": {
        "id": "4Z8OL8H2bbIK",
        "colab_type": "code",
        "colab": {}
      },
      "source": [
        "SELECT title\n",
        "FROM films\n",
        "WHERE budget IS NULL;"
      ],
      "execution_count": 0,
      "outputs": []
    },
    {
      "cell_type": "code",
      "metadata": {
        "id": "7pmQhn4LbhZi",
        "colab_type": "code",
        "colab": {}
      },
      "source": [
        "SELECT COUNT(*)\n",
        "FROM films\n",
        "WHERE language IS NULL;"
      ],
      "execution_count": 0,
      "outputs": []
    },
    {
      "cell_type": "markdown",
      "metadata": {
        "id": "2mt6ZAOdbi2C",
        "colab_type": "text"
      },
      "source": [
        "## LIKE and NOT LIKE"
      ]
    },
    {
      "cell_type": "code",
      "metadata": {
        "id": "8VXEmE97bjMd",
        "colab_type": "code",
        "colab": {}
      },
      "source": [
        "SELECT name\n",
        "FROM people\n",
        "WHERE name LIKE 'B%';"
      ],
      "execution_count": 0,
      "outputs": []
    },
    {
      "cell_type": "code",
      "metadata": {
        "id": "nHVKFdcmb4Pt",
        "colab_type": "code",
        "colab": {}
      },
      "source": [
        "SELECT name\n",
        "FROM people\n",
        "WHERE name LIKE '_r%';"
      ],
      "execution_count": 0,
      "outputs": []
    },
    {
      "cell_type": "code",
      "metadata": {
        "id": "bU7RwOtmcAiC",
        "colab_type": "code",
        "colab": {}
      },
      "source": [
        "SELECT name\n",
        "FROM people\n",
        "WHERE name NOT LIKE 'A%';"
      ],
      "execution_count": 0,
      "outputs": []
    }
  ]
}