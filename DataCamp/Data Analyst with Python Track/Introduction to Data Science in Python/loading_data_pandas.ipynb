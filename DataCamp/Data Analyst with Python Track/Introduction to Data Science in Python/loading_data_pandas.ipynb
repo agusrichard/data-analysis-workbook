{
  "nbformat": 4,
  "nbformat_minor": 0,
  "metadata": {
    "colab": {
      "name": "loading_data_pandas.ipynb",
      "provenance": [],
      "collapsed_sections": []
    },
    "kernelspec": {
      "name": "python3",
      "display_name": "Python 3"
    }
  },
  "cells": [
    {
      "cell_type": "markdown",
      "metadata": {
        "id": "i8xEHd7sOLW2",
        "colab_type": "text"
      },
      "source": [
        "# Loading Data in pandas"
      ]
    },
    {
      "cell_type": "markdown",
      "metadata": {
        "id": "St7XYlm7OV7J",
        "colab_type": "text"
      },
      "source": [
        "## Loading a DataFrame"
      ]
    },
    {
      "cell_type": "code",
      "metadata": {
        "id": "o5DPmE3SOrr8",
        "colab_type": "code",
        "colab": {}
      },
      "source": [
        "# Import pandas under the alias pd\n",
        "import pandas as pd\n",
        "\n",
        "# Load the CSV \"credit_records.csv\"\n",
        "credit_records = pd.read_csv('credit_records.csv')\n",
        "\n",
        "# Display the first five rows of credit_records using the .head() method\n",
        "print(credit_records.head())"
      ],
      "execution_count": 0,
      "outputs": []
    },
    {
      "cell_type": "markdown",
      "metadata": {
        "id": "Gkac08E6Oyf2",
        "colab_type": "text"
      },
      "source": [
        "## Inspecting a DataFrame"
      ]
    },
    {
      "cell_type": "code",
      "metadata": {
        "id": "2gnxDGu5Oy3D",
        "colab_type": "code",
        "colab": {}
      },
      "source": [
        "#Use .info() to inspect the DataFrame credit_records\n",
        "print(credit_records.info())"
      ],
      "execution_count": 0,
      "outputs": []
    },
    {
      "cell_type": "markdown",
      "metadata": {
        "id": "iptpbmEtO60M",
        "colab_type": "text"
      },
      "source": [
        "B. 104"
      ]
    },
    {
      "cell_type": "markdown",
      "metadata": {
        "id": "z50UoftNO7eb",
        "colab_type": "text"
      },
      "source": [
        "## Two methods for selecting columns"
      ]
    },
    {
      "cell_type": "code",
      "metadata": {
        "id": "-vpc1hwNO-2B",
        "colab_type": "code",
        "colab": {}
      },
      "source": [
        "# Select the column item from credit_records\n",
        "# Use brackets and string notation\n",
        "items = credit_records['item']\n",
        "\n",
        "# Display the results\n",
        "print(items)"
      ],
      "execution_count": 0,
      "outputs": []
    },
    {
      "cell_type": "code",
      "metadata": {
        "id": "WhnyPMXaPHs-",
        "colab_type": "code",
        "colab": {}
      },
      "source": [
        "# Select the column item from credit_records\n",
        "# Use dot notation\n",
        "items = credit_records.item\n",
        "\n",
        "# Display the results\n",
        "print(items)"
      ],
      "execution_count": 0,
      "outputs": []
    },
    {
      "cell_type": "markdown",
      "metadata": {
        "id": "JxD9k5O1PJUJ",
        "colab_type": "text"
      },
      "source": [
        "## Correcting column selection errors"
      ]
    },
    {
      "cell_type": "code",
      "metadata": {
        "id": "3lzbr5ycPJsn",
        "colab_type": "code",
        "colab": {}
      },
      "source": [
        "# One or more lines of code contain errors.\n",
        "# Fix the errors so that the code runs.\n",
        "\n",
        "# Select the location column in credit_records\n",
        "location = credit_records['location']\n",
        "\n",
        "# Select the item column in credit_records\n",
        "items = credit_records.item\n",
        "\n",
        "# Display results\n",
        "print(location)"
      ],
      "execution_count": 0,
      "outputs": []
    },
    {
      "cell_type": "markdown",
      "metadata": {
        "id": "l2BepMw0PO47",
        "colab_type": "text"
      },
      "source": [
        "## More column selection mistakes"
      ]
    },
    {
      "cell_type": "code",
      "metadata": {
        "id": "SKuyUcH0PPUY",
        "colab_type": "code",
        "colab": {}
      },
      "source": [
        "# Use info() to inspect mpr\n",
        "print(mpr.info())"
      ],
      "execution_count": 0,
      "outputs": []
    },
    {
      "cell_type": "code",
      "metadata": {
        "id": "RGB83O0bPb6S",
        "colab_type": "code",
        "colab": {}
      },
      "source": [
        "# Use info() to inspect mpr\n",
        "print(mpr.info())\n",
        "\n",
        "# The following code contains one or more errors\n",
        "# Correct the mistakes in the code so that it runs without errors\n",
        "\n",
        "# Select column \"Dog Name\" from mpr\n",
        "name = mpr['Dog Name']\n",
        "\n",
        "# Select column \"Missing?\" from mpr\n",
        "is_missing = mpr['Missing?']\n",
        "\n",
        "# Display the columns\n",
        "print(name)\n",
        "print(is_missing)"
      ],
      "execution_count": 0,
      "outputs": []
    },
    {
      "cell_type": "markdown",
      "metadata": {
        "id": "7ahzxPvGPf4k",
        "colab_type": "text"
      },
      "source": [
        "C. If a column name contains a space, then it needs to be in brackets and string notation."
      ]
    },
    {
      "cell_type": "markdown",
      "metadata": {
        "id": "mYs1iar3PgTf",
        "colab_type": "text"
      },
      "source": [
        "## Logical testing"
      ]
    },
    {
      "cell_type": "code",
      "metadata": {
        "id": "ye45nq55PiwO",
        "colab_type": "code",
        "colab": {}
      },
      "source": [
        "# Is height_inches greater than 70 inches?\n",
        "print(height_inches > 70)"
      ],
      "execution_count": 0,
      "outputs": []
    },
    {
      "cell_type": "code",
      "metadata": {
        "id": "lVbpCgcUPqNk",
        "colab_type": "code",
        "colab": {}
      },
      "source": [
        "# Is height_inches greater than 70 inches?\n",
        "print(height_inches > 70)\n",
        "\n",
        "# Is plate1 equal to \"FRQ123\"?\n",
        "print(plate1 == \"FRQ123\")"
      ],
      "execution_count": 0,
      "outputs": []
    },
    {
      "cell_type": "code",
      "metadata": {
        "id": "nH8Vzz41Ps7C",
        "colab_type": "code",
        "colab": {}
      },
      "source": [
        "# Is height_inches greater than 70 inches?\n",
        "print(height_inches > 70)\n",
        "\n",
        "# Is plate1 equal to \"FRQ123\"?\n",
        "print(plate1 == \"FRQ123\")\n",
        "\n",
        "# Is fur_color not equal to \"brown\"?\n",
        "print(fur_color != \"brown\")"
      ],
      "execution_count": 0,
      "outputs": []
    },
    {
      "cell_type": "markdown",
      "metadata": {
        "id": "X2RDFCwOPuua",
        "colab_type": "text"
      },
      "source": [
        "## Selecting missing puppies"
      ]
    },
    {
      "cell_type": "code",
      "metadata": {
        "id": "3-diIm5TPvEf",
        "colab_type": "code",
        "colab": {}
      },
      "source": [
        "# Select the dogs where Age is greater than 2\n",
        "greater_than_2 = mpr[mpr.Age > 2]\n",
        "print(greater_than_2)\n",
        "\n",
        "# Select the dogs whose Status is equal to Still Missing\n",
        "still_missing = mpr[mpr.Status == 'Still Missing']\n",
        "print(still_missing)\n",
        "\n",
        "# Select all dogs whose Dog Breed is not equal to Poodle\n",
        "not_poodle = mpr[mpr['Dog Breed'] != 'Poodle']\n",
        "print(not_poodle)"
      ],
      "execution_count": 0,
      "outputs": []
    },
    {
      "cell_type": "markdown",
      "metadata": {
        "id": "tJAAw_NEP7kS",
        "colab_type": "text"
      },
      "source": [
        "## Narrowing the list of suspects"
      ]
    },
    {
      "cell_type": "code",
      "metadata": {
        "id": "qLeWkiK_P8iq",
        "colab_type": "code",
        "colab": {}
      },
      "source": [
        "# Select purchases from 'Pet Paradise'\n",
        "purchase = credit_records[credit_records.location == 'Pet Paradise']\n",
        "\n",
        "# Display\n",
        "print(purchase)"
      ],
      "execution_count": 0,
      "outputs": []
    },
    {
      "cell_type": "markdown",
      "metadata": {
        "id": "bGZePlVDQRrq",
        "colab_type": "text"
      },
      "source": [
        "C. Fred Frequentist and Gertrude Cox"
      ]
    }
  ]
}