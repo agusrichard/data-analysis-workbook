{
  "nbformat": 4,
  "nbformat_minor": 0,
  "metadata": {
    "colab": {
      "name": "different_plots.ipynb",
      "provenance": [],
      "collapsed_sections": []
    },
    "kernelspec": {
      "name": "python3",
      "display_name": "Python 3"
    }
  },
  "cells": [
    {
      "cell_type": "markdown",
      "metadata": {
        "id": "GXp6KpUEVBpg",
        "colab_type": "text"
      },
      "source": [
        "# Different Types of Plots\n"
      ]
    },
    {
      "cell_type": "markdown",
      "metadata": {
        "id": "aS8i8A0uVL3A",
        "colab_type": "text"
      },
      "source": [
        "## Charting cellphone data"
      ]
    },
    {
      "cell_type": "code",
      "metadata": {
        "id": "u6rGev3YVgnb",
        "colab_type": "code",
        "colab": {}
      },
      "source": [
        "# Explore the data\n",
        "print(cellphone.head())\n",
        "\n",
        "# Create a scatter plot of the data from the DataFrame cellphone\n",
        "plt.scatter(cellphone.x, cellphone.y)\n",
        "\n",
        "# Add labels\n",
        "plt.ylabel('Latitude')\n",
        "plt.xlabel('Longitude')\n",
        "\n",
        "# Display the plot\n",
        "plt.show()"
      ],
      "execution_count": 0,
      "outputs": []
    },
    {
      "cell_type": "markdown",
      "metadata": {
        "id": "-RZ_89xSV-J4",
        "colab_type": "text"
      },
      "source": [
        "## Modifying a scatterplot"
      ]
    },
    {
      "cell_type": "code",
      "metadata": {
        "id": "fSMK6oFLV-hj",
        "colab_type": "code",
        "colab": {}
      },
      "source": [
        "# Change the marker color to red\n",
        "plt.scatter(cellphone.x, cellphone.y,\n",
        "           color='red')\n",
        "\n",
        "# Add labels\n",
        "plt.ylabel('Latitude')\n",
        "plt.xlabel('Longitude')\n",
        "\n",
        "# Display the plot\n",
        "plt.show()"
      ],
      "execution_count": 0,
      "outputs": []
    },
    {
      "cell_type": "code",
      "metadata": {
        "id": "lCLVoBN2WZDV",
        "colab_type": "code",
        "colab": {}
      },
      "source": [
        "# Change the marker shape to square\n",
        "plt.scatter(cellphone.x, cellphone.y,\n",
        "           color='red',\n",
        "           marker='s')\n",
        "\n",
        "# Add labels\n",
        "plt.ylabel('Latitude')\n",
        "plt.xlabel('Longitude')\n",
        "\n",
        "# Display the plot\n",
        "plt.show()"
      ],
      "execution_count": 0,
      "outputs": []
    },
    {
      "cell_type": "code",
      "metadata": {
        "id": "QDIXnlnCXpC4",
        "colab_type": "code",
        "colab": {}
      },
      "source": [
        "# Change the marker shape to square\n",
        "plt.scatter(cellphone.x, cellphone.y,\n",
        "           color='red',\n",
        "           marker='s',\n",
        "           alpha=0.1)\n",
        "\n",
        "# Add labels\n",
        "plt.ylabel('Latitude')\n",
        "plt.xlabel('Longitude')\n",
        "\n",
        "# Display the plot\n",
        "plt.show()"
      ],
      "execution_count": 0,
      "outputs": []
    },
    {
      "cell_type": "markdown",
      "metadata": {
        "id": "HdQJVusPH1pq",
        "colab_type": "text"
      },
      "source": [
        "## Build a simple bar chart"
      ]
    },
    {
      "cell_type": "code",
      "metadata": {
        "id": "9xxzgSE3H2Q7",
        "colab_type": "code",
        "colab": {}
      },
      "source": [
        "# Display the DataFrame hours using print\n",
        "print(hours)"
      ],
      "execution_count": 0,
      "outputs": []
    },
    {
      "cell_type": "code",
      "metadata": {
        "id": "_09dCvFnH_20",
        "colab_type": "code",
        "colab": {}
      },
      "source": [
        "# Display the DataFrame hours using print\n",
        "print(hours)\n",
        "\n",
        "# Create a bar plot from the DataFrame hours\n",
        "plt.bar(hours['officer'], hours['avg_hours_worked'])\n",
        "\n",
        "# Display the plot\n",
        "plt.show()"
      ],
      "execution_count": 0,
      "outputs": []
    },
    {
      "cell_type": "code",
      "metadata": {
        "id": "7gN3EqABIGqr",
        "colab_type": "code",
        "colab": {}
      },
      "source": [
        "# Display the DataFrame hours using print\n",
        "print(hours)\n",
        "\n",
        "# Create a bar plot from the DataFrame hours\n",
        "plt.bar(hours.officer, hours.avg_hours_worked,\n",
        "        # Add error bars\n",
        "        yerr=hours['std_hours_worked'])\n",
        "\n",
        "# Display the plot\n",
        "plt.show()"
      ],
      "execution_count": 0,
      "outputs": []
    },
    {
      "cell_type": "markdown",
      "metadata": {
        "id": "4KiizE99IYFk",
        "colab_type": "text"
      },
      "source": [
        "## Where did the time go?"
      ]
    },
    {
      "cell_type": "code",
      "metadata": {
        "id": "bwwrfZlNIYfT",
        "colab_type": "code",
        "colab": {}
      },
      "source": [
        "# Plot the number of hours spent on desk work\n",
        "plt.bar(hours['officer'], hours['desk_work'], label='Desk Work')\n",
        "\n",
        "# Display the plot\n",
        "plt.show()"
      ],
      "execution_count": 0,
      "outputs": []
    },
    {
      "cell_type": "code",
      "metadata": {
        "id": "v0dKc_A6JUkH",
        "colab_type": "code",
        "colab": {}
      },
      "source": [
        "# Plot the number of hours spent on desk work\n",
        "plt.bar(hours.officer, hours.desk_work, label='Desk Work')\n",
        "\n",
        "# Plot the hours spent on field work on top of desk work\n",
        "plt.bar(hours.officer, hours.field_work, bottom=hours.desk_work, label='Field Work')\n",
        "\n",
        "# Add a legend\n",
        "plt.legend()\n",
        "\n",
        "# Display the plot\n",
        "plt.show()"
      ],
      "execution_count": 0,
      "outputs": []
    },
    {
      "cell_type": "markdown",
      "metadata": {
        "id": "2NZ4QSOdJZDk",
        "colab_type": "text"
      },
      "source": [
        "## Modifying histograms"
      ]
    },
    {
      "cell_type": "code",
      "metadata": {
        "id": "FjPJ3UpLJZfl",
        "colab_type": "code",
        "colab": {}
      },
      "source": [
        "# Create a histogram of the column weight\n",
        "# from the DataFrame puppies\n",
        "plt.hist(puppies.weight)\n",
        "\n",
        "# Add labels\n",
        "plt.xlabel('Puppy Weight (lbs)')\n",
        "plt.ylabel('Number of Puppies')\n",
        "\n",
        "# Display\n",
        "plt.show()"
      ],
      "execution_count": 0,
      "outputs": []
    },
    {
      "cell_type": "code",
      "metadata": {
        "id": "kPoHALaSJmIC",
        "colab_type": "code",
        "colab": {}
      },
      "source": [
        "# Change the number of bins to 50\n",
        "plt.hist(puppies.weight,\n",
        "        bins=50)\n",
        "\n",
        "# Add labels\n",
        "plt.xlabel('Puppy Weight (lbs)')\n",
        "plt.ylabel('Number of Puppies')\n",
        "\n",
        "# Display\n",
        "plt.show()"
      ],
      "execution_count": 0,
      "outputs": []
    },
    {
      "cell_type": "code",
      "metadata": {
        "id": "bTYlTBbzJuIR",
        "colab_type": "code",
        "colab": {}
      },
      "source": [
        "# Change the range to start at 5 and end at 35\n",
        "plt.hist(puppies.weight,\n",
        "        range=(5, 35))\n",
        "\n",
        "# Add labels\n",
        "plt.xlabel('Puppy Weight (lbs)')\n",
        "plt.ylabel('Number of Puppies')\n",
        "\n",
        "# Display\n",
        "plt.show()"
      ],
      "execution_count": 0,
      "outputs": []
    },
    {
      "cell_type": "markdown",
      "metadata": {
        "id": "rM_9gHCcJwpi",
        "colab_type": "text"
      },
      "source": [
        "## Heroes with histograms"
      ]
    },
    {
      "cell_type": "code",
      "metadata": {
        "id": "tHD9KTJdJxAs",
        "colab_type": "code",
        "colab": {}
      },
      "source": [
        "# Create a histogram of gravel.radius\n",
        "plt.hist(gravel.radius)\n",
        "\n",
        "# Display histogram\n",
        "plt.show()"
      ],
      "execution_count": 0,
      "outputs": []
    },
    {
      "cell_type": "code",
      "metadata": {
        "id": "LkRXPUIgJ7jT",
        "colab_type": "code",
        "colab": {}
      },
      "source": [
        "# Create a histogram\n",
        "# Range is 2 to 8, with 40 bins\n",
        "plt.hist(gravel.radius, bins=40, range=(2, 8))\n",
        "\n",
        "# Display histogram\n",
        "plt.show()"
      ],
      "execution_count": 0,
      "outputs": []
    },
    {
      "cell_type": "code",
      "metadata": {
        "id": "XY8Gm9BpKAxK",
        "colab_type": "code",
        "colab": {}
      },
      "source": [
        "# Create a histogram\n",
        "# Normalize to 1\n",
        "plt.hist(gravel.radius,\n",
        "         bins=40,\n",
        "         range=(2, 8),\n",
        "         density=True)\n",
        "\n",
        "# Display histogram\n",
        "plt.show()"
      ],
      "execution_count": 0,
      "outputs": []
    },
    {
      "cell_type": "code",
      "metadata": {
        "id": "Ez5kUKi-KGF5",
        "colab_type": "code",
        "colab": {}
      },
      "source": [
        "# Create a histogram\n",
        "plt.hist(gravel.radius,\n",
        "         bins=40,\n",
        "         range=(2, 8),\n",
        "         density=True)\n",
        "\n",
        "# Label plot\n",
        "plt.xlabel('Gravel Radius (mm)')\n",
        "plt.ylabel('Frequency')\n",
        "plt.title('Sample from Shoeprint')\n",
        "\n",
        "# Display histogram\n",
        "plt.show()"
      ],
      "execution_count": 0,
      "outputs": []
    }
  ]
}