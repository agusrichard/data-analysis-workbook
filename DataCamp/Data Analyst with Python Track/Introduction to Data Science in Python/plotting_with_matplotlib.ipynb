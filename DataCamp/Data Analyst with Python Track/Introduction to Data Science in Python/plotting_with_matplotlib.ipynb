{
  "nbformat": 4,
  "nbformat_minor": 0,
  "metadata": {
    "colab": {
      "name": "plotting_with_matplotlib.ipynb",
      "provenance": [],
      "collapsed_sections": []
    },
    "kernelspec": {
      "name": "python3",
      "display_name": "Python 3"
    }
  },
  "cells": [
    {
      "cell_type": "markdown",
      "metadata": {
        "id": "Q1tbpbzwRM_6",
        "colab_type": "text"
      },
      "source": [
        "# Plotting Data with matplotlib"
      ]
    },
    {
      "cell_type": "markdown",
      "metadata": {
        "id": "LJfR_u_HRFvj",
        "colab_type": "text"
      },
      "source": [
        "## Working hard"
      ]
    },
    {
      "cell_type": "code",
      "metadata": {
        "id": "cxc8heB9RLRQ",
        "colab_type": "code",
        "colab": {}
      },
      "source": [
        "# From matplotlib, import pyplot under the alias plt\n",
        "from matplotlib import pyplot as plt"
      ],
      "execution_count": 0,
      "outputs": []
    },
    {
      "cell_type": "code",
      "metadata": {
        "id": "TWV8ObyERaPw",
        "colab_type": "code",
        "colab": {}
      },
      "source": [
        "# From matplotlib, import pyplot under the alias plt\n",
        "from matplotlib import pyplot as plt\n",
        "\n",
        "# Plot Officer Deshaun's hours_worked vs. day_of_week\n",
        "plt.plot(deshaun.day_of_week, deshaun.hours_worked)"
      ],
      "execution_count": 0,
      "outputs": []
    },
    {
      "cell_type": "code",
      "metadata": {
        "id": "_WC-gb9sRhN4",
        "colab_type": "code",
        "colab": {}
      },
      "source": [
        "# From matplotlib, import pyplot under the alias plt\n",
        "from matplotlib import pyplot as plt\n",
        "\n",
        "# Plot Officer Deshaun's hours_worked vs. day_of_week\n",
        "plt.plot(deshaun.day_of_week, deshaun.hours_worked)\n",
        "\n",
        "# Display Deshaun's plot\n",
        "plt.show()"
      ],
      "execution_count": 0,
      "outputs": []
    },
    {
      "cell_type": "markdown",
      "metadata": {
        "id": "Qs5bHDIzRjPP",
        "colab_type": "text"
      },
      "source": [
        "## Or hardly working?"
      ]
    },
    {
      "cell_type": "code",
      "metadata": {
        "id": "WCb4M3rWRjlk",
        "colab_type": "code",
        "colab": {}
      },
      "source": [
        "# Plot Officer Deshaun's hours_worked vs. day_of_week\n",
        "plt.plot(deshaun.day_of_week, deshaun.hours_worked)\n",
        "\n",
        "# Plot Officer Aditya's hours_worked vs. day_of_week\n",
        "plt.plot(aditya.day_of_week, aditya.hours_worked)\n",
        "\n",
        "# Plot Officer Mengfei's hours_worked vs. day_of_week\n",
        "plt.plot(mengfei.day_of_week, mengfei.hours_worked)\n",
        "\n",
        "# Display all three line plots\n",
        "plt.show()"
      ],
      "execution_count": 0,
      "outputs": []
    },
    {
      "cell_type": "markdown",
      "metadata": {
        "id": "vPUVEkXUR-jW",
        "colab_type": "text"
      },
      "source": [
        "C. orange"
      ]
    },
    {
      "cell_type": "markdown",
      "metadata": {
        "id": "hI_paYEPR_VB",
        "colab_type": "text"
      },
      "source": [
        "## Adding a legend"
      ]
    },
    {
      "cell_type": "code",
      "metadata": {
        "id": "pGZel0hUSDXK",
        "colab_type": "code",
        "colab": {}
      },
      "source": [
        "# Add a label to Deshaun's plot\n",
        "plt.plot(deshaun.day_of_week, deshaun.hours_worked, label='Deshaun')\n",
        "\n",
        "# Officer Aditya\n",
        "plt.plot(aditya.day_of_week, aditya.hours_worked)\n",
        "\n",
        "# Officer Mengfei\n",
        "plt.plot(mengfei.day_of_week, mengfei.hours_worked)\n",
        "\n",
        "# Display plot\n",
        "plt.show()"
      ],
      "execution_count": 0,
      "outputs": []
    },
    {
      "cell_type": "code",
      "metadata": {
        "id": "XKQkQaivSMid",
        "colab_type": "code",
        "colab": {}
      },
      "source": [
        "# Officer Deshaun\n",
        "plt.plot(deshaun.day_of_week, deshaun.hours_worked, label='Deshaun')\n",
        "\n",
        "# Add a label to Aditya's plot\n",
        "plt.plot(aditya.day_of_week, aditya.hours_worked, label='Aditya')\n",
        "\n",
        "# Add a label to Mengfei's plot\n",
        "plt.plot(mengfei.day_of_week, mengfei.hours_worked, label='Mengfei')\n",
        "\n",
        "# Display plot\n",
        "plt.show()"
      ],
      "execution_count": 0,
      "outputs": []
    },
    {
      "cell_type": "code",
      "metadata": {
        "id": "LQSQOyVaSQFu",
        "colab_type": "code",
        "colab": {}
      },
      "source": [
        "# Officer Deshaun\n",
        "plt.plot(deshaun.day_of_week, deshaun.hours_worked, label='Deshaun')\n",
        "\n",
        "# Add a label to Aditya's plot\n",
        "plt.plot(aditya.day_of_week, aditya.hours_worked, label='Aditya')\n",
        "\n",
        "# Add a label to Mengfei's plot\n",
        "plt.plot(mengfei.day_of_week, mengfei.hours_worked, label='Mengfei')\n",
        "\n",
        "# Add a command to make the legend display\n",
        "plt.legend()\n",
        "\n",
        "# Display plot\n",
        "plt.show()"
      ],
      "execution_count": 0,
      "outputs": []
    },
    {
      "cell_type": "markdown",
      "metadata": {
        "id": "i2qiX8dBSWRF",
        "colab_type": "text"
      },
      "source": [
        "C. Mengfei"
      ]
    },
    {
      "cell_type": "markdown",
      "metadata": {
        "id": "dZSUheouSWuJ",
        "colab_type": "text"
      },
      "source": [
        "## Adding labels"
      ]
    },
    {
      "cell_type": "code",
      "metadata": {
        "id": "fyPl55pPSeBt",
        "colab_type": "code",
        "colab": {}
      },
      "source": [
        "# Lines\n",
        "plt.plot(deshaun.day_of_week, deshaun.hours_worked, label='Deshaun')\n",
        "plt.plot(aditya.day_of_week, aditya.hours_worked, label='Aditya')\n",
        "plt.plot(mengfei.day_of_week, mengfei.hours_worked, label='Mengfei')\n",
        "\n",
        "# Add a title\n",
        "plt.title('Day of Week vs. Hours Worked')\n",
        "\n",
        "# Add y-axis label\n",
        "plt.ylabel('Hours Worked')\n",
        "\n",
        "# Legend\n",
        "plt.legend()\n",
        "# Display plot\n",
        "plt.show()"
      ],
      "execution_count": 0,
      "outputs": []
    },
    {
      "cell_type": "markdown",
      "metadata": {
        "id": "02N_cH_MSrs_",
        "colab_type": "text"
      },
      "source": [
        "## Adding floating text"
      ]
    },
    {
      "cell_type": "code",
      "metadata": {
        "id": "0WXkR1Y7TD9i",
        "colab_type": "code",
        "colab": {}
      },
      "source": [
        "# Create plot\n",
        "plt.plot(six_months.month, six_months.hours_worked)\n",
        "\n",
        "# Add annotation \"Missing June data\" at (2.5, 80)\n",
        "plt.text(2.5, 80, s='Missing June data')\n",
        "\n",
        "# Display graph\n",
        "plt.show()"
      ],
      "execution_count": 0,
      "outputs": []
    },
    {
      "cell_type": "markdown",
      "metadata": {
        "id": "v45yQSCsSrmE",
        "colab_type": "text"
      },
      "source": [
        "## Tracking crime statistics"
      ]
    },
    {
      "cell_type": "code",
      "metadata": {
        "id": "qyDy0BwJTH6j",
        "colab_type": "code",
        "colab": {}
      },
      "source": [
        "# Change the color of Phoenix to `\"DarkCyan\"`\n",
        "plt.plot(data[\"Year\"], data[\"Phoenix Police Dept\"], label=\"Phoenix\", color='DarkCyan')\n",
        "\n",
        "# Make the Los Angeles line dotted\n",
        "plt.plot(data[\"Year\"], data[\"Los Angeles Police Dept\"], label=\"Los Angeles\", linestyle=':')\n",
        "\n",
        "# Add square markers to Philedelphia\n",
        "plt.plot(data[\"Year\"], data[\"Philadelphia Police Dept\"], label=\"Philadelphia\", marker='s')\n",
        "\n",
        "# Add a legend\n",
        "plt.legend()\n",
        "\n",
        "# Display the plot\n",
        "plt.show()"
      ],
      "execution_count": 0,
      "outputs": []
    },
    {
      "cell_type": "markdown",
      "metadata": {
        "id": "gcFdiNe-Tg3u",
        "colab_type": "text"
      },
      "source": [
        "## Playing with styles"
      ]
    },
    {
      "cell_type": "code",
      "metadata": {
        "id": "iuR5yv75ThOX",
        "colab_type": "code",
        "colab": {}
      },
      "source": [
        "# Change the style to fivethirtyeight\n",
        "plt.style.use('fivethirtyeight')\n",
        "\n",
        "# Plot lines\n",
        "plt.plot(data[\"Year\"], data[\"Phoenix Police Dept\"], label=\"Phoenix\")\n",
        "plt.plot(data[\"Year\"], data[\"Los Angeles Police Dept\"], label=\"Los Angeles\")\n",
        "plt.plot(data[\"Year\"], data[\"Philadelphia Police Dept\"], label=\"Philadelphia\")\n",
        "\n",
        "# Add a legend\n",
        "plt.legend()\n",
        "\n",
        "# Display the plot\n",
        "plt.show()"
      ],
      "execution_count": 0,
      "outputs": []
    },
    {
      "cell_type": "code",
      "metadata": {
        "id": "fxy75qz2T3xb",
        "colab_type": "code",
        "colab": {}
      },
      "source": [
        "# Change the style to ggplot\n",
        "plt.style.use('ggplot')\n",
        "\n",
        "# Plot lines\n",
        "plt.plot(data[\"Year\"], data[\"Phoenix Police Dept\"], label=\"Phoenix\")\n",
        "plt.plot(data[\"Year\"], data[\"Los Angeles Police Dept\"], label=\"Los Angeles\")\n",
        "plt.plot(data[\"Year\"], data[\"Philadelphia Police Dept\"], label=\"Philadelphia\")\n",
        "\n",
        "# Add a legend\n",
        "plt.legend()\n",
        "\n",
        "# Display the plot\n",
        "plt.show()"
      ],
      "execution_count": 0,
      "outputs": []
    },
    {
      "cell_type": "code",
      "metadata": {
        "id": "Xc6zIlJZUFXq",
        "colab_type": "code",
        "colab": {}
      },
      "source": [
        "# Choose any of the styles\n",
        "plt.style.use('dark_background')\n",
        "\n",
        "# Plot lines\n",
        "plt.plot(data[\"Year\"], data[\"Phoenix Police Dept\"], label=\"Phoenix\")\n",
        "plt.plot(data[\"Year\"], data[\"Los Angeles Police Dept\"], label=\"Los Angeles\")\n",
        "plt.plot(data[\"Year\"], data[\"Philadelphia Police Dept\"], label=\"Philadelphia\")\n",
        "\n",
        "# Add a legend\n",
        "plt.legend()\n",
        "\n",
        "# Display the plot\n",
        "plt.show()"
      ],
      "execution_count": 0,
      "outputs": []
    },
    {
      "cell_type": "markdown",
      "metadata": {
        "id": "f9xGRvyQUH7D",
        "colab_type": "text"
      },
      "source": [
        "## Identifying Bayes' kidnapper"
      ]
    },
    {
      "cell_type": "code",
      "metadata": {
        "id": "HOYj60GEUIUU",
        "colab_type": "code",
        "colab": {}
      },
      "source": [
        "# x should be ransom.letter and y should be ransom.frequency\n",
        "plt.plot(ransom.letter, ransom.frequency,\n",
        "         # Label should be \"Ransom\"\n",
        "         label=\"Ransom\",\n",
        "         # Plot the ransom letter as a dotted gray line\n",
        "         linestyle=':', color='gray')\n",
        "\n",
        "# Display the plot\n",
        "plt.show()"
      ],
      "execution_count": 0,
      "outputs": []
    },
    {
      "cell_type": "code",
      "metadata": {
        "id": "-xug74GRUQjK",
        "colab_type": "code",
        "colab": {}
      },
      "source": [
        "# Plot each line\n",
        "plt.plot(ransom.letter, ransom.frequency,\n",
        "         label='Ransom', linestyle=':', color='gray')\n",
        "\n",
        "# X-values should be suspect1.letter\n",
        "# Y-values should be suspect1.frequency\n",
        "# Label should be \"Fred Frequentist\"\n",
        "plt.plot(suspect1.letter, suspect1.frequency, label='Fred Frequentist')\n",
        "\n",
        "# Display the plot\n",
        "plt.show()"
      ],
      "execution_count": 0,
      "outputs": []
    },
    {
      "cell_type": "code",
      "metadata": {
        "id": "U1A5y66rUQ7G",
        "colab_type": "code",
        "colab": {}
      },
      "source": [
        "# Plot each line\n",
        "plt.plot(ransom.letter, ransom.frequency,\n",
        "         label='Ransom', linestyle=':', color='gray')\n",
        "plt.plot(suspect1.letter, suspect1.frequency,\n",
        "         label='Fred Frequentist')\n",
        "\n",
        "# X-values should be suspect2.letter\n",
        "# Y-values should be suspect2.frequency\n",
        "# Label should be \"Gertrude Cox\"\n",
        "plt.plot(suspect2.letter, suspect2.frequency, label='Gertrude Cox')\n",
        "\n",
        "# Display plot\n",
        "plt.show()"
      ],
      "execution_count": 0,
      "outputs": []
    },
    {
      "cell_type": "code",
      "metadata": {
        "id": "xrYSD6c9URMj",
        "colab_type": "code",
        "colab": {}
      },
      "source": [
        "# Plot each line\n",
        "plt.plot(ransom.letter, ransom.frequency,\n",
        "         label='Ransom', linestyle=':', color='gray')\n",
        "plt.plot(suspect1.letter, suspect1.frequency, label='Fred Frequentist')\n",
        "plt.plot(suspect2.letter, suspect2.frequency, label='Gertrude Cox')\n",
        "\n",
        "# Add x- and y-labels\n",
        "plt.xlabel(\"Letter\")\n",
        "plt.ylabel(\"Frequency\")\n",
        "\n",
        "# Add a legend\n",
        "plt.legend()\n",
        "\n",
        "# Display plot\n",
        "plt.show()"
      ],
      "execution_count": 0,
      "outputs": []
    }
  ]
}