{
  "nbformat": 4,
  "nbformat_minor": 0,
  "metadata": {
    "colab": {
      "name": "getting_started.ipynb",
      "provenance": [],
      "collapsed_sections": []
    },
    "kernelspec": {
      "name": "python3",
      "display_name": "Python 3"
    }
  },
  "cells": [
    {
      "cell_type": "markdown",
      "metadata": {
        "id": "p-4gtFUuLgtB",
        "colab_type": "text"
      },
      "source": [
        "# Getting Started in Python\n"
      ]
    },
    {
      "cell_type": "markdown",
      "metadata": {
        "id": "QwWZpt8PLkFy",
        "colab_type": "text"
      },
      "source": [
        "## Importing Python modules"
      ]
    },
    {
      "cell_type": "code",
      "metadata": {
        "id": "-wPRPvXJME_j",
        "colab_type": "code",
        "colab": {}
      },
      "source": [
        "# Use an import statement to import statsmodels\n",
        "import statsmodels"
      ],
      "execution_count": 0,
      "outputs": []
    },
    {
      "cell_type": "code",
      "metadata": {
        "id": "Z7wS2BByMJjR",
        "colab_type": "code",
        "colab": {}
      },
      "source": [
        "# Import statsmodels under the alias sm\n",
        "import statsmodels as sm"
      ],
      "execution_count": 0,
      "outputs": []
    },
    {
      "cell_type": "code",
      "metadata": {
        "id": "OogUO1wzMMk6",
        "colab_type": "code",
        "colab": {}
      },
      "source": [
        "# Use an import statement to import seaborn with alias sns\n",
        "import seaborn as sns"
      ],
      "execution_count": 0,
      "outputs": []
    },
    {
      "cell_type": "markdown",
      "metadata": {
        "id": "7xmQoIQwMOMw",
        "colab_type": "text"
      },
      "source": [
        "## Correcting a broken import"
      ]
    },
    {
      "cell_type": "code",
      "metadata": {
        "id": "cXjMsSzeMOiu",
        "colab_type": "code",
        "colab": {}
      },
      "source": [
        "# Fix the import of numpy to run without errors\n",
        "import numpy as np"
      ],
      "execution_count": 0,
      "outputs": []
    },
    {
      "cell_type": "markdown",
      "metadata": {
        "id": "XqDwMKlyMVGZ",
        "colab_type": "text"
      },
      "source": [
        "B. Python is case-sensitive, so numpy must be all lowercase"
      ]
    },
    {
      "cell_type": "markdown",
      "metadata": {
        "id": "QVJaLYCwMVwy",
        "colab_type": "text"
      },
      "source": [
        "## Creating a float"
      ]
    },
    {
      "cell_type": "code",
      "metadata": {
        "id": "wPQVchp2MYsi",
        "colab_type": "code",
        "colab": {}
      },
      "source": [
        "# Fill in Bayes' age (4.0)\n",
        "bayes_age = 4.0\n",
        "\n",
        "# Display the variable bayes_age\n",
        "print(bayes_age)"
      ],
      "execution_count": 0,
      "outputs": []
    },
    {
      "cell_type": "markdown",
      "metadata": {
        "id": "S8ayT2r0Mfug",
        "colab_type": "text"
      },
      "source": [
        "## Creating strings"
      ]
    },
    {
      "cell_type": "code",
      "metadata": {
        "id": "ejMgVUcwMgGT",
        "colab_type": "code",
        "colab": {}
      },
      "source": [
        "# Bayes' favorite toy\n",
        "favorite_toy = \"Mr. Squeaky\"\n",
        "\n",
        "# Bayes' owner\n",
        "owner = 'DataCamp'\n",
        "\n",
        "# Display variables\n",
        "print(favorite_toy)\n",
        "print(owner)"
      ],
      "execution_count": 0,
      "outputs": []
    },
    {
      "cell_type": "markdown",
      "metadata": {
        "id": "rFN0HOdIMrOh",
        "colab_type": "text"
      },
      "source": [
        "## Correcting string errors"
      ]
    },
    {
      "cell_type": "code",
      "metadata": {
        "id": "k4wzIiwLMrnR",
        "colab_type": "code",
        "colab": {}
      },
      "source": [
        "# One or more of the following lines contains an error\n",
        "# Correct it so that it runs without producing syntax errors\n",
        "birthday = \"2017-07-14\"\n",
        "case_id = 'DATACAMP!123-456?'"
      ],
      "execution_count": 0,
      "outputs": []
    },
    {
      "cell_type": "markdown",
      "metadata": {
        "id": "O4JWAjXTMxvp",
        "colab_type": "text"
      },
      "source": [
        "## Valid variable names"
      ]
    },
    {
      "cell_type": "markdown",
      "metadata": {
        "id": "09xQypeoMyFY",
        "colab_type": "text"
      },
      "source": [
        "C. 3dogs"
      ]
    },
    {
      "cell_type": "markdown",
      "metadata": {
        "id": "XrmeWStXM1Tr",
        "colab_type": "text"
      },
      "source": [
        "## Load a DataFrame"
      ]
    },
    {
      "cell_type": "code",
      "metadata": {
        "id": "b7TpmFlKM34Q",
        "colab_type": "code",
        "colab": {}
      },
      "source": [
        "# Import pandas\n",
        "import pandas as pd\n",
        "\n",
        "# Load the 'ransom.csv' into a DataFrame\n",
        "r = pd.read_csv('ransom.csv')\n",
        "\n",
        "# Display DataFrame\n",
        "print(r)"
      ],
      "execution_count": 0,
      "outputs": []
    },
    {
      "cell_type": "markdown",
      "metadata": {
        "id": "rguWfBNhM-Mv",
        "colab_type": "text"
      },
      "source": [
        "## Correcting a function error"
      ]
    },
    {
      "cell_type": "code",
      "metadata": {
        "id": "UVnUPA8wM-kH",
        "colab_type": "code",
        "colab": {}
      },
      "source": [
        "# One or more of the following lines contains an error\n",
        "# Correct it so that it runs without producing syntax errors\n",
        "\n",
        "# Plot a graph\n",
        "plt.plot(x_values, y_values)\n",
        "\n",
        "# Display the graph\n",
        "plt.show()"
      ],
      "execution_count": 0,
      "outputs": []
    },
    {
      "cell_type": "markdown",
      "metadata": {
        "id": "6DgrYalkNFDp",
        "colab_type": "text"
      },
      "source": [
        "## Snooping for suspects"
      ]
    },
    {
      "cell_type": "code",
      "metadata": {
        "id": "1dmDwbHrNFah",
        "colab_type": "code",
        "colab": {}
      },
      "source": [
        "# Define plate to represent a plate beginning with FRQ\n",
        "# Use * to represent the missing four letters\n",
        "plate = 'FRQ****'"
      ],
      "execution_count": 0,
      "outputs": []
    },
    {
      "cell_type": "code",
      "metadata": {
        "id": "pEoVwe7yNSsf",
        "colab_type": "code",
        "colab": {}
      },
      "source": [
        "# Define plate to represent a plate beginning with FRQ\n",
        "# Use * to represent the missing four letters\n",
        "plate = 'FRQ****'\n",
        "\n",
        "# Call the function lookup_plate()\n",
        "lookup_plate(plate)"
      ],
      "execution_count": 0,
      "outputs": []
    },
    {
      "cell_type": "code",
      "metadata": {
        "id": "3iK6d_qfNYah",
        "colab_type": "code",
        "colab": {}
      },
      "source": [
        "# Define plate to represent a plate beginning with FRQ\n",
        "# Use * to represent the missing four letters\n",
        "plate = 'FRQ****'\n",
        "\n",
        "# Call the function lookup_plate()\n",
        "lookup_plate(plate)\n",
        "\n",
        "# Call lookup_plate() with the keyword argument for color\n",
        "lookup_plate(plate, color='Green')"
      ],
      "execution_count": 0,
      "outputs": []
    }
  ]
}